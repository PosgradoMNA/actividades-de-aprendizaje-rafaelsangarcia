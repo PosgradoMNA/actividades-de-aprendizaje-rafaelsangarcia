{
  "nbformat": 4,
  "nbformat_minor": 0,
  "metadata": {
    "colab": {
      "provenance": [],
      "include_colab_link": true
    },
    "kernelspec": {
      "name": "python3",
      "display_name": "Python 3"
    },
    "language_info": {
      "name": "python"
    }
  },
  "cells": [
    {
      "cell_type": "markdown",
      "metadata": {
        "id": "view-in-github",
        "colab_type": "text"
      },
      "source": [
        "<a href=\"https://colab.research.google.com/github/PosgradoMNA/actividades-de-aprendizaje-rafaelsangarcia/blob/main/PythonIBM_A01182780.ipynb\" target=\"_parent\"><img src=\"https://colab.research.google.com/assets/colab-badge.svg\" alt=\"Open In Colab\"/></a>"
      ]
    },
    {
      "cell_type": "markdown",
      "source": [
        "# PYTHON FOR DATA SCIENCE (IBM)\n",
        "STUDENT: A01182780 RAFAEL SANCHEZ GARCIA\n",
        "\n"
      ],
      "metadata": {
        "id": "9KOTLA7VNvGk"
      }
    },
    {
      "cell_type": "markdown",
      "source": [
        "#Module 1"
      ],
      "metadata": {
        "id": "n2CgmG2CP8hm"
      }
    },
    {
      "cell_type": "code",
      "source": [
        "print(\"Hello Python 101\") #print something"
      ],
      "metadata": {
        "colab": {
          "base_uri": "https://localhost:8080/"
        },
        "id": "KO7hVfrBN_9o",
        "outputId": "9cede3d5-6a7c-4b24-da08-f9a5e90ecd6b"
      },
      "execution_count": null,
      "outputs": [
        {
          "output_type": "stream",
          "name": "stdout",
          "text": [
            "Hello Python 101\n"
          ]
        }
      ]
    },
    {
      "cell_type": "code",
      "source": [
        "#Question 1\n",
        "print(\"Hello\\nWorld!\") # with \\n jump to a new line"
      ],
      "metadata": {
        "colab": {
          "base_uri": "https://localhost:8080/"
        },
        "id": "JKJHHVddPlic",
        "outputId": "f1fd11d5-e224-42af-d442-4d8d07b801f7"
      },
      "execution_count": null,
      "outputs": [
        {
          "output_type": "stream",
          "name": "stdout",
          "text": [
            "Hello\n",
            "World!\n"
          ]
        }
      ]
    },
    {
      "cell_type": "code",
      "source": [
        "#Question 2\n",
        "# print('Hello World!')"
      ],
      "metadata": {
        "id": "n-gxuowgP0x0"
      },
      "execution_count": null,
      "outputs": []
    },
    {
      "cell_type": "markdown",
      "source": [
        "#Module 1 - Types"
      ],
      "metadata": {
        "id": "LMoskAwhQqps"
      }
    },
    {
      "cell_type": "code",
      "source": [
        "#Question 2\n",
        "bool(1)"
      ],
      "metadata": {
        "colab": {
          "base_uri": "https://localhost:8080/"
        },
        "id": "QCdCqGRvQt8f",
        "outputId": "31f81fd0-9130-455c-fcdf-652f13675a19"
      },
      "execution_count": null,
      "outputs": [
        {
          "output_type": "execute_result",
          "data": {
            "text/plain": [
              "True"
            ]
          },
          "metadata": {},
          "execution_count": 4
        }
      ]
    },
    {
      "cell_type": "markdown",
      "source": [
        "#Moduel 1 - Expressions and Variables"
      ],
      "metadata": {
        "id": "eLnIIXpSROho"
      }
    },
    {
      "cell_type": "markdown",
      "source": [
        " with \"//\" the division will be by integer, and with one \"/\" is float"
      ],
      "metadata": {
        "id": "WNTl9MlqRlIB"
      }
    },
    {
      "cell_type": "code",
      "source": [
        "# I already know how to use variables and expressions"
      ],
      "metadata": {
        "id": "sWzLC-TzRv_l"
      },
      "execution_count": null,
      "outputs": []
    },
    {
      "cell_type": "markdown",
      "source": [
        "#Module 1 - String Operators\n",
        "\n",
        "You can use single or double quotes. string can be access by index, it is works as a array too\n"
      ],
      "metadata": {
        "id": "nTBhAHt5SlsP"
      }
    },
    {
      "cell_type": "code",
      "source": [
        "Name= \"Michael Jackson\"\n",
        "print(Name)\n",
        "print(\"Name[0] = \" ,Name[0])\n",
        "print(\"Name[0] = \" ,Name[6])\n",
        "print(\"Name[0] = \" ,Name[13])"
      ],
      "metadata": {
        "colab": {
          "base_uri": "https://localhost:8080/"
        },
        "id": "FydSeDftTO7O",
        "outputId": "5146aaad-d931-466a-b8da-004770fd3210"
      },
      "execution_count": null,
      "outputs": [
        {
          "output_type": "stream",
          "name": "stdout",
          "text": [
            "Michael Jackson\n",
            "Name[0] =  M\n",
            "Name[0] =  l\n",
            "Name[0] =  o\n"
          ]
        }
      ]
    },
    {
      "cell_type": "code",
      "source": [
        "#index could be also negative\n",
        "print(\"Name[0] = \" ,Name[-15])\n",
        "print(\"Name[0] = \" ,Name[-7])\n",
        "print(\"Name[0] = \" ,Name[-1])\n"
      ],
      "metadata": {
        "colab": {
          "base_uri": "https://localhost:8080/"
        },
        "id": "2JgSHQWBTr7B",
        "outputId": "12db2145-5497-4d8e-933b-8acc738fcd0b"
      },
      "execution_count": null,
      "outputs": [
        {
          "output_type": "stream",
          "name": "stdout",
          "text": [
            "Name[0] =  M\n",
            "Name[0] =  J\n",
            "Name[0] =  n\n"
          ]
        }
      ]
    },
    {
      "cell_type": "code",
      "source": [
        "#slicing\n",
        "Name[0:4]"
      ],
      "metadata": {
        "colab": {
          "base_uri": "https://localhost:8080/",
          "height": 36
        },
        "id": "9oXAC4mdT7Gj",
        "outputId": "8462d8d5-a2a7-4b73-9d6c-f927faa151f4"
      },
      "execution_count": null,
      "outputs": [
        {
          "output_type": "execute_result",
          "data": {
            "text/plain": [
              "'Mich'"
            ],
            "application/vnd.google.colaboratory.intrinsic+json": {
              "type": "string"
            }
          },
          "metadata": {},
          "execution_count": 8
        }
      ]
    },
    {
      "cell_type": "code",
      "source": [
        "#stride\n",
        "Name[::2] #it will select every second variable"
      ],
      "metadata": {
        "colab": {
          "base_uri": "https://localhost:8080/",
          "height": 36
        },
        "id": "2hmQO6T7UGY7",
        "outputId": "b824354a-39d9-412a-e0f2-a87505639043"
      },
      "execution_count": null,
      "outputs": [
        {
          "output_type": "execute_result",
          "data": {
            "text/plain": [
              "'McalJcsn'"
            ],
            "application/vnd.google.colaboratory.intrinsic+json": {
              "type": "string"
            }
          },
          "metadata": {},
          "execution_count": 9
        }
      ]
    },
    {
      "cell_type": "code",
      "source": [
        "#stride with slicing\n",
        "Name[0:5:2] # 0 index is start, 5 index is finish, 2 steps"
      ],
      "metadata": {
        "colab": {
          "base_uri": "https://localhost:8080/",
          "height": 36
        },
        "id": "6_js4dGCUUNP",
        "outputId": "d92a2adb-f87c-4a40-8362-e30b2c6c72bf"
      },
      "execution_count": null,
      "outputs": [
        {
          "output_type": "execute_result",
          "data": {
            "text/plain": [
              "'Mca'"
            ],
            "application/vnd.google.colaboratory.intrinsic+json": {
              "type": "string"
            }
          },
          "metadata": {},
          "execution_count": 10
        }
      ]
    },
    {
      "cell_type": "code",
      "source": [
        "#Question 1\n",
        "Numbers = \"0123456\"\n",
        "Numbers[::2] #get the even elements"
      ],
      "metadata": {
        "colab": {
          "base_uri": "https://localhost:8080/",
          "height": 36
        },
        "id": "t_jKxMrsVQZI",
        "outputId": "f78251f7-d4a1-478e-f58f-0bc7f1d9f779"
      },
      "execution_count": null,
      "outputs": [
        {
          "output_type": "execute_result",
          "data": {
            "text/plain": [
              "'0246'"
            ],
            "application/vnd.google.colaboratory.intrinsic+json": {
              "type": "string"
            }
          },
          "metadata": {},
          "execution_count": 11
        }
      ]
    },
    {
      "cell_type": "code",
      "source": [
        "#Question 2\n",
        "\"0123456\".find('1') #it is 1 because the '1' is on index 1"
      ],
      "metadata": {
        "colab": {
          "base_uri": "https://localhost:8080/"
        },
        "id": "IaqHW9LCVvy5",
        "outputId": "34843e27-3b76-4fab-88e0-0966251fbd04"
      },
      "execution_count": null,
      "outputs": [
        {
          "output_type": "execute_result",
          "data": {
            "text/plain": [
              "1"
            ]
          },
          "metadata": {},
          "execution_count": 12
        }
      ]
    },
    {
      "cell_type": "markdown",
      "source": [
        "#Module 1 - Review Questions"
      ],
      "metadata": {
        "id": "aiJU-CGhWU_-"
      }
    },
    {
      "cell_type": "code",
      "source": [
        "3 + 2 * 2"
      ],
      "metadata": {
        "colab": {
          "base_uri": "https://localhost:8080/"
        },
        "id": "NCWFjDp6WZRl",
        "outputId": "18b9d376-e151-488d-f4bf-195eb5dec558"
      },
      "execution_count": null,
      "outputs": [
        {
          "output_type": "execute_result",
          "data": {
            "text/plain": [
              "7"
            ]
          },
          "metadata": {},
          "execution_count": 13
        }
      ]
    },
    {
      "cell_type": "code",
      "source": [
        "name = 'Lizz'\n",
        "print(name[0:2])"
      ],
      "metadata": {
        "colab": {
          "base_uri": "https://localhost:8080/"
        },
        "id": "vJAwZ8YKWief",
        "outputId": "ba8b4f50-809b-4b75-fc44-9ba2c474586d"
      },
      "execution_count": null,
      "outputs": [
        {
          "output_type": "stream",
          "name": "stdout",
          "text": [
            "Li\n"
          ]
        }
      ]
    },
    {
      "cell_type": "code",
      "source": [
        "var = '01234567'\n",
        "print(var[::2])"
      ],
      "metadata": {
        "colab": {
          "base_uri": "https://localhost:8080/"
        },
        "id": "XtM7f2FjWrqS",
        "outputId": "a6b78775-2c34-4722-babf-b3652ad02307"
      },
      "execution_count": null,
      "outputs": [
        {
          "output_type": "stream",
          "name": "stdout",
          "text": [
            "0246\n"
          ]
        }
      ]
    },
    {
      "cell_type": "code",
      "source": [
        "'1'+'2'\n"
      ],
      "metadata": {
        "colab": {
          "base_uri": "https://localhost:8080/"
        },
        "id": "Ptad6_W7W253",
        "outputId": "29214b15-bf67-4451-c263-93359342ef8f"
      },
      "execution_count": null,
      "outputs": [
        {
          "output_type": "execute_result",
          "data": {
            "text/plain": [
              "'12'"
            ],
            "application/vnd.google.colaboratory.intrinsic+json": {
              "type": "string"
            }
          },
          "metadata": {},
          "execution_count": 16
        }
      ]
    },
    {
      "cell_type": "code",
      "source": [
        "myvar = 'hello'\n",
        "myvar.upper()"
      ],
      "metadata": {
        "colab": {
          "base_uri": "https://localhost:8080/"
        },
        "id": "MAgJuokFW8wG",
        "outputId": "6a0d1a54-0198-471c-af86-a38b15e86aef"
      },
      "execution_count": null,
      "outputs": [
        {
          "output_type": "execute_result",
          "data": {
            "text/plain": [
              "'HELLO'"
            ],
            "application/vnd.google.colaboratory.intrinsic+json": {
              "type": "string"
            }
          },
          "metadata": {},
          "execution_count": 17
        }
      ]
    },
    {
      "cell_type": "markdown",
      "source": [
        "#Module 2 - List and Tuples\n",
        "\n",
        "**Tuples** are an ordered sequence, this are written as comma-separated elements within parentesis.\n",
        "\n",
        "Tuple can hold any data type, however the type of tuple is tuple. It can be accessed via index\n",
        "\n",
        "**Tuple are Immutable, that is means it can not be changed**"
      ],
      "metadata": {
        "id": "jE3LMfoLXZfz"
      }
    },
    {
      "cell_type": "code",
      "source": [],
      "metadata": {
        "id": "-QDG8Cy1ZEB9"
      },
      "execution_count": null,
      "outputs": []
    },
    {
      "cell_type": "code",
      "source": [
        "Ratings=(10,9,6,5,10,8,9,6,2)\n",
        "Tuple1 = (\"disco\",10,1.2) #strig, int, float\n",
        "print(Tuple1[0]) # accessed by index\n",
        "Tuple2 = Tuple1 + (\"hard rock\",10)"
      ],
      "metadata": {
        "colab": {
          "base_uri": "https://localhost:8080/"
        },
        "id": "TMVTupd_XyAZ",
        "outputId": "ca32608a-2381-4e5d-e056-88b9fd165125"
      },
      "execution_count": null,
      "outputs": [
        {
          "output_type": "stream",
          "name": "stdout",
          "text": [
            "disco\n"
          ]
        }
      ]
    },
    {
      "cell_type": "code",
      "source": [
        "#Slicing tuple\n",
        "Tuple2[0:3]"
      ],
      "metadata": {
        "colab": {
          "base_uri": "https://localhost:8080/"
        },
        "id": "sy4Peap8Xdor",
        "outputId": "b730cb3c-a46d-4c03-e6fe-6e993b1400fb"
      },
      "execution_count": null,
      "outputs": [
        {
          "output_type": "execute_result",
          "data": {
            "text/plain": [
              "('disco', 10, 1.2)"
            ]
          },
          "metadata": {},
          "execution_count": 19
        }
      ]
    },
    {
      "cell_type": "code",
      "source": [
        "#Nesting, is having tuple inside tuple\n",
        "NT = (1,2,(\"pop\",\"rock\"),(3,4),(\"disco\",(1,2)))\n",
        "print(NT[2])\n",
        "print(NT[2][1])\n",
        "print(NT[2][1][0]) #it is like a tree\n"
      ],
      "metadata": {
        "colab": {
          "base_uri": "https://localhost:8080/"
        },
        "id": "Gi7caIlLZe9Y",
        "outputId": "f805fb13-98aa-455f-97a9-86533f8feea4"
      },
      "execution_count": null,
      "outputs": [
        {
          "output_type": "stream",
          "name": "stdout",
          "text": [
            "('pop', 'rock')\n",
            "rock\n",
            "r\n"
          ]
        }
      ]
    },
    {
      "cell_type": "markdown",
      "source": [
        "**List** It is represent with [ ] square brackets, the difference between tupple is ().\n",
        "The list is mutable, that is means we can change values.\n",
        "It can include different types of values. Can be accessed by index, similar as tuples\n",
        "\n"
      ],
      "metadata": {
        "id": "_EaFAALTacTa"
      }
    },
    {
      "cell_type": "code",
      "source": [
        "L = ['Michael Jackson', 10.1, 1982]\n",
        "print(L)\n",
        "L.extend([\"pop\",10]) #with extend we concatenate at the end the new list\n",
        "print(L)"
      ],
      "metadata": {
        "colab": {
          "base_uri": "https://localhost:8080/"
        },
        "id": "WeCRA2tMbaQt",
        "outputId": "54b25b72-2867-489b-c01a-28c67757793f"
      },
      "execution_count": null,
      "outputs": [
        {
          "output_type": "stream",
          "name": "stdout",
          "text": [
            "['Michael Jackson', 10.1, 1982]\n",
            "['Michael Jackson', 10.1, 1982, 'pop', 10]\n"
          ]
        }
      ]
    },
    {
      "cell_type": "code",
      "source": [
        "L = ['Michael Jackson', 10.1, 1982]\n",
        "print(L)\n",
        "L.append([\"pop\",10]) #with add the new list as an element\n",
        "print(L)"
      ],
      "metadata": {
        "colab": {
          "base_uri": "https://localhost:8080/"
        },
        "id": "SPdsLeFQb2Nc",
        "outputId": "050c4ff2-555b-4b71-a5ed-10c19f0f5945"
      },
      "execution_count": null,
      "outputs": [
        {
          "output_type": "stream",
          "name": "stdout",
          "text": [
            "['Michael Jackson', 10.1, 1982]\n",
            "['Michael Jackson', 10.1, 1982, ['pop', 10]]\n"
          ]
        }
      ]
    },
    {
      "cell_type": "code",
      "source": [
        "A=['disco',10,1.2]\n",
        "print(A)\n",
        "A[0] = \"hard rock\"\n",
        "print(A)"
      ],
      "metadata": {
        "colab": {
          "base_uri": "https://localhost:8080/"
        },
        "id": "lC_T8lgYcJp6",
        "outputId": "14401ed7-5002-49ce-ee84-eb1fad7182a6"
      },
      "execution_count": null,
      "outputs": [
        {
          "output_type": "stream",
          "name": "stdout",
          "text": [
            "['disco', 10, 1.2]\n",
            "['hard rock', 10, 1.2]\n"
          ]
        }
      ]
    },
    {
      "cell_type": "code",
      "source": [
        "#Question 1\n",
        "A=(0,1,2,3)\n",
        "#A[3] and A[-1]"
      ],
      "metadata": {
        "id": "RuWC0PrzcsTO"
      },
      "execution_count": null,
      "outputs": []
    },
    {
      "cell_type": "code",
      "source": [
        "#Question 2\n",
        "B=[\"a\",\"b\",\"c\"]\n",
        "B[1:]"
      ],
      "metadata": {
        "colab": {
          "base_uri": "https://localhost:8080/"
        },
        "id": "xoCDIa1xdKRE",
        "outputId": "6fde721a-9612-43a2-a601-823b123be384"
      },
      "execution_count": null,
      "outputs": [
        {
          "output_type": "execute_result",
          "data": {
            "text/plain": [
              "['b', 'c']"
            ]
          },
          "metadata": {},
          "execution_count": 25
        }
      ]
    },
    {
      "cell_type": "markdown",
      "source": [
        "#Module 2 - Sets\n",
        "The difference with list and tuples is that sets are unordered. <br>\n",
        "**Sets only have unique elements** <br>\n",
        "To define with need {}"
      ],
      "metadata": {
        "id": "Yew2VTgndf91"
      }
    },
    {
      "cell_type": "code",
      "source": [
        "#creating a set\n",
        "album_list = ['Michael Jackson','Thriller','Thriller',1982]\n",
        "print(album_list)\n",
        "album_set = set(album_list)\n",
        "print(album_set)\n",
        "#We can see that set just have unique values, we can use this as distinct"
      ],
      "metadata": {
        "colab": {
          "base_uri": "https://localhost:8080/"
        },
        "id": "001CbklReC8g",
        "outputId": "d4936dd7-61c6-40fd-c972-c161333f1529"
      },
      "execution_count": null,
      "outputs": [
        {
          "output_type": "stream",
          "name": "stdout",
          "text": [
            "['Michael Jackson', 'Thriller', 'Thriller', 1982]\n",
            "{'Michael Jackson', 'Thriller', 1982}\n"
          ]
        }
      ]
    },
    {
      "cell_type": "code",
      "source": [
        "A={'Thriller','Black in Black', \"AC/DC\"}\n",
        "print(A)\n",
        "A.add(\"NSYNC\")\n",
        "print(A)\n",
        "A.add(\"NSYNC\") #it doesnt add becuase it is already in the set\n",
        "print(A)\n",
        "A.remove(\"NSYNC\")\n",
        "print(A)\n"
      ],
      "metadata": {
        "colab": {
          "base_uri": "https://localhost:8080/"
        },
        "id": "g1WUBr6-eTxt",
        "outputId": "d8d98342-94b2-4dbc-e0a5-b47ad4e56ca3"
      },
      "execution_count": null,
      "outputs": [
        {
          "output_type": "stream",
          "name": "stdout",
          "text": [
            "{'AC/DC', 'Thriller', 'Black in Black'}\n",
            "{'NSYNC', 'AC/DC', 'Thriller', 'Black in Black'}\n",
            "{'NSYNC', 'AC/DC', 'Thriller', 'Black in Black'}\n",
            "{'AC/DC', 'Thriller', 'Black in Black'}\n"
          ]
        }
      ]
    },
    {
      "cell_type": "code",
      "source": [
        "\"AC/DC\" in A #to check if \"AC/DC\" exist in the set A"
      ],
      "metadata": {
        "colab": {
          "base_uri": "https://localhost:8080/"
        },
        "id": "2bSwrMFkfgXj",
        "outputId": "20c8d984-5b92-4a53-d8af-96e5694ed5c9"
      },
      "execution_count": null,
      "outputs": [
        {
          "output_type": "execute_result",
          "data": {
            "text/plain": [
              "True"
            ]
          },
          "metadata": {},
          "execution_count": 28
        }
      ]
    },
    {
      "cell_type": "code",
      "source": [
        "album_set_1 = {'AC/DC', 'Black in Black', 'Thriller'}\n",
        "album_set_2 = {'AC/DC', 'Black in Black', 'The Dark Side of the Moon'}\n",
        "album_set_3 = album_set_1 & album_set_2\n",
        "print(album_set_3) # it is just show the interesections"
      ],
      "metadata": {
        "colab": {
          "base_uri": "https://localhost:8080/"
        },
        "id": "Rcn3Ty1lf3Br",
        "outputId": "2bec0da7-779d-46fb-aa63-ddfbf39cc3f0"
      },
      "execution_count": null,
      "outputs": [
        {
          "output_type": "stream",
          "name": "stdout",
          "text": [
            "{'AC/DC', 'Black in Black'}\n"
          ]
        }
      ]
    },
    {
      "cell_type": "code",
      "source": [
        "album_set_1.union(album_set_2)\n"
      ],
      "metadata": {
        "colab": {
          "base_uri": "https://localhost:8080/"
        },
        "id": "eyJ2CNWLga9v",
        "outputId": "cc2849c3-b704-46e4-a6ad-112bdbfabc3c"
      },
      "execution_count": null,
      "outputs": [
        {
          "output_type": "execute_result",
          "data": {
            "text/plain": [
              "{'AC/DC', 'Black in Black', 'The Dark Side of the Moon', 'Thriller'}"
            ]
          },
          "metadata": {},
          "execution_count": 30
        }
      ]
    },
    {
      "cell_type": "code",
      "source": [
        "#Question 1\n",
        "S={'A','B','C'}\n",
        "U={'A','Z','C'}\n",
        "U.union(S)"
      ],
      "metadata": {
        "colab": {
          "base_uri": "https://localhost:8080/"
        },
        "id": "gDJ6brLUhL6c",
        "outputId": "96d1806f-a83a-4c2c-e6d1-7eb7042045cf"
      },
      "execution_count": null,
      "outputs": [
        {
          "output_type": "execute_result",
          "data": {
            "text/plain": [
              "{'A', 'B', 'C', 'Z'}"
            ]
          },
          "metadata": {},
          "execution_count": 31
        }
      ]
    },
    {
      "cell_type": "code",
      "source": [
        "#Question 2\n",
        "S={'A','B','C'}\n",
        "U={'A','Z','C'}\n",
        "S & U"
      ],
      "metadata": {
        "colab": {
          "base_uri": "https://localhost:8080/"
        },
        "id": "Hpc4SL9mhW-x",
        "outputId": "8959ba3e-9d3b-4200-b736-75484749a1f1"
      },
      "execution_count": null,
      "outputs": [
        {
          "output_type": "execute_result",
          "data": {
            "text/plain": [
              "{'A', 'C'}"
            ]
          },
          "metadata": {},
          "execution_count": 32
        }
      ]
    },
    {
      "cell_type": "markdown",
      "source": [
        "#Module 2 - Dictionaries <br>\n",
        "It has Keys and Elements/Values <br>\n",
        "**Keys** is an index by label most of the time are characters<br>\n",
        "To create dictionaries we use {}<br>\n",
        "The keys have to be **inmutable and unique**<br>\n",
        "The values can be **inmutable, mutable and duplicates**<br>\n",
        "Each key and value pair is separate by a comma\n",
        "{**\"key1\"**:1,**\"key2\"**:\"2\",**\"key3\"**:[3,3,3].....}\n",
        "\n",
        "\n"
      ],
      "metadata": {
        "id": "605n8CbrieWK"
      }
    },
    {
      "cell_type": "code",
      "source": [
        "#Question 1\n",
        "D = {'a':0,'b':1,'c':2}\n",
        "D.values()"
      ],
      "metadata": {
        "colab": {
          "base_uri": "https://localhost:8080/"
        },
        "id": "8YU1iIpmkGPk",
        "outputId": "63bdb2e2-5f57-4e60-c018-fe069d7e0fae"
      },
      "execution_count": null,
      "outputs": [
        {
          "output_type": "execute_result",
          "data": {
            "text/plain": [
              "dict_values([0, 1, 2])"
            ]
          },
          "metadata": {},
          "execution_count": 33
        }
      ]
    },
    {
      "cell_type": "code",
      "source": [
        "#Question 2\n",
        "D = {'a':0,'b':1,'c':2}\n",
        "D['b']"
      ],
      "metadata": {
        "colab": {
          "base_uri": "https://localhost:8080/"
        },
        "id": "y4r0GPpcifCb",
        "outputId": "4b1826d7-30e6-4cc6-f488-e298f995874f"
      },
      "execution_count": null,
      "outputs": [
        {
          "output_type": "execute_result",
          "data": {
            "text/plain": [
              "1"
            ]
          },
          "metadata": {},
          "execution_count": 34
        }
      ]
    },
    {
      "cell_type": "markdown",
      "source": [
        "#Module 2 - Review Questions\n"
      ],
      "metadata": {
        "id": "UuS3JM1UkXZo"
      }
    },
    {
      "cell_type": "code",
      "source": [
        "#Question 1\n",
        "A = ('a','b','c')\n",
        "A[0]"
      ],
      "metadata": {
        "colab": {
          "base_uri": "https://localhost:8080/"
        },
        "id": "Cis-JvtykaMi",
        "outputId": "964e5c9c-bfbf-4426-f425-bcccf633350d"
      },
      "execution_count": null,
      "outputs": [
        {
          "output_type": "execute_result",
          "data": {
            "text/plain": [
              "'a'"
            ],
            "application/vnd.google.colaboratory.intrinsic+json": {
              "type": "string"
            }
          },
          "metadata": {},
          "execution_count": 35
        }
      ]
    },
    {
      "cell_type": "code",
      "source": [
        "Dict={\"A\":1,\"B\":\"2\",\"C\":[3,3,3],\"D\":(4,4,4),'E':5,'F':6}\n",
        "Dict[\"D\"]"
      ],
      "metadata": {
        "colab": {
          "base_uri": "https://localhost:8080/"
        },
        "id": "3uoon0Aqk2NW",
        "outputId": "107d2318-bfb8-474a-b6e5-aed04e599584"
      },
      "execution_count": null,
      "outputs": [
        {
          "output_type": "execute_result",
          "data": {
            "text/plain": [
              "(4, 4, 4)"
            ]
          },
          "metadata": {},
          "execution_count": 36
        }
      ]
    },
    {
      "cell_type": "markdown",
      "source": [
        "#Module 3 - Conditions and Branching\n",
        "Comparison operator\n",
        "**== <,>,<=,>=,!=** <br>\n",
        "Branching are if statements\n"
      ],
      "metadata": {
        "id": "Uzd0zZRQn8Gt"
      }
    },
    {
      "cell_type": "code",
      "source": [
        "#sintaxis if else\n",
        "Age = 17\n",
        "if(Age>18):\n",
        "  print(\"you can enter\")\n",
        "else:\n",
        "  print(\"go see meat loaf\")\n",
        "print(\"move on\")\n"
      ],
      "metadata": {
        "id": "LqBMPFGloE64",
        "colab": {
          "base_uri": "https://localhost:8080/"
        },
        "outputId": "cf3f6838-46ec-462b-ebe2-a31ae9cdf68c"
      },
      "execution_count": null,
      "outputs": [
        {
          "output_type": "stream",
          "name": "stdout",
          "text": [
            "go see meat loaf\n",
            "move on\n"
          ]
        }
      ]
    },
    {
      "cell_type": "code",
      "source": [
        "#Question 1\n",
        "i = 1 #-1,1000\n",
        "i!=0"
      ],
      "metadata": {
        "colab": {
          "base_uri": "https://localhost:8080/"
        },
        "id": "jggBFy2-NBVA",
        "outputId": "06a3dfef-0d7a-4536-f6bb-5cf0f03366d0"
      },
      "execution_count": null,
      "outputs": [
        {
          "output_type": "execute_result",
          "data": {
            "text/plain": [
              "True"
            ]
          },
          "metadata": {},
          "execution_count": 38
        }
      ]
    },
    {
      "cell_type": "markdown",
      "source": [
        "#Module 3 - loops\n"
      ],
      "metadata": {
        "id": "8z2gcTULN0Mc"
      }
    },
    {
      "cell_type": "code",
      "source": [
        "range(10,15) #for python2, on python 3 we need loops"
      ],
      "metadata": {
        "colab": {
          "base_uri": "https://localhost:8080/"
        },
        "id": "nGScHRm6N-nj",
        "outputId": "bfde3800-b098-4526-ed6a-68a44cb4ea23"
      },
      "execution_count": null,
      "outputs": [
        {
          "output_type": "execute_result",
          "data": {
            "text/plain": [
              "range(10, 15)"
            ]
          },
          "metadata": {},
          "execution_count": 39
        }
      ]
    },
    {
      "cell_type": "code",
      "source": [
        "squares=[\"red\",\"yellow\",\"green\",\"purple\",\"blue\"]\n",
        "print(squares)\n",
        "for i in range(0,5):\n",
        "    squares[i]=\"white\"\n",
        "\n",
        "print (squares)"
      ],
      "metadata": {
        "colab": {
          "base_uri": "https://localhost:8080/"
        },
        "id": "hV2fLzFSOR7A",
        "outputId": "437f6f4a-7868-46de-8097-7224dcf428e2"
      },
      "execution_count": null,
      "outputs": [
        {
          "output_type": "stream",
          "name": "stdout",
          "text": [
            "['red', 'yellow', 'green', 'purple', 'blue']\n",
            "['white', 'white', 'white', 'white', 'white']\n"
          ]
        }
      ]
    },
    {
      "cell_type": "code",
      "source": [
        "A=[3,4,5]\n",
        "\n",
        "for a in A:\n",
        "  print(a)"
      ],
      "metadata": {
        "colab": {
          "base_uri": "https://localhost:8080/"
        },
        "id": "v0Ay5TA4Q30u",
        "outputId": "94c12fd6-9f50-4677-d471-6528023198e0"
      },
      "execution_count": null,
      "outputs": [
        {
          "output_type": "stream",
          "name": "stdout",
          "text": [
            "3\n",
            "4\n",
            "5\n"
          ]
        }
      ]
    },
    {
      "cell_type": "code",
      "source": [
        "x=3\n",
        "y=1\n",
        "while(y!=x):\n",
        "  print(y)\n",
        "  y=y+1"
      ],
      "metadata": {
        "colab": {
          "base_uri": "https://localhost:8080/"
        },
        "id": "CX0FlgFyRT1L",
        "outputId": "43b1e8ed-56f7-425a-f245-3c73a0980717"
      },
      "execution_count": null,
      "outputs": [
        {
          "output_type": "stream",
          "name": "stdout",
          "text": [
            "1\n",
            "2\n"
          ]
        }
      ]
    },
    {
      "cell_type": "markdown",
      "source": [
        "#Module 3 - Functions\n",
        "Just focus on what the function do, not on how do\n"
      ],
      "metadata": {
        "id": "FW-yAol4RqP3"
      }
    },
    {
      "cell_type": "code",
      "source": [
        "def add1(a):\n",
        "  b=a+1\n",
        "  return b\n",
        "\n",
        "add1(5)"
      ],
      "metadata": {
        "colab": {
          "base_uri": "https://localhost:8080/"
        },
        "id": "e0nbAu7CSZUI",
        "outputId": "1aac9e07-0c75-4aa6-b803-b522eda00ab3"
      },
      "execution_count": null,
      "outputs": [
        {
          "output_type": "execute_result",
          "data": {
            "text/plain": [
              "6"
            ]
          },
          "metadata": {},
          "execution_count": 43
        }
      ]
    },
    {
      "cell_type": "markdown",
      "source": [
        "#Module 3 - Objects and Clases\n",
        "\n",
        "Object has a type<br>\n",
        "**CLASS** it has data attributes and methods\n"
      ],
      "metadata": {
        "id": "YHSU58Z4VPoy"
      }
    },
    {
      "cell_type": "code",
      "source": [
        "#init is the constructor\n",
        "class Circle(object):\n",
        "  def __init__(self,radius,color):\n",
        "    self.radius = radius;\n",
        "    self.color = color;\n",
        "\n",
        "class Rectangle(object):\n",
        "  def __init__(self,color,height,width):\n",
        "    self.height=height;\n",
        "    self.width=width;\n",
        "    self.color=color;"
      ],
      "metadata": {
        "id": "txAx55wmVT_2"
      },
      "execution_count": null,
      "outputs": []
    },
    {
      "cell_type": "code",
      "source": [
        "RedCircle = Circle(10,\"red\")\n",
        "RedCircle.color\n",
        "RedCircle.color=\"blue\"\n",
        "RedCircle.color\n",
        "BlueCircle = Circle(color=\"BLUE\",radius=14)\n",
        "BlueCircle.color"
      ],
      "metadata": {
        "id": "x1PM72EfcNpG",
        "outputId": "19c746f6-11de-4f9a-8fd0-b8387c6c1649",
        "colab": {
          "base_uri": "https://localhost:8080/"
        }
      },
      "execution_count": null,
      "outputs": [
        {
          "output_type": "execute_result",
          "data": {
            "text/plain": [
              "'BLUE'"
            ],
            "application/vnd.google.colaboratory.intrinsic+json": {
              "type": "string"
            }
          },
          "metadata": {},
          "execution_count": 45
        }
      ]
    },
    {
      "cell_type": "markdown",
      "source": [
        "#Module 3 - Review Questions\n"
      ],
      "metadata": {
        "id": "5oxuYJ23fE-8"
      }
    },
    {
      "cell_type": "code",
      "source": [
        "#Question 1,2,3,4,5\n",
        "#I dont need coding, do it in the webpage\n"
      ],
      "metadata": {
        "id": "XifgEIyjfgYa"
      },
      "execution_count": null,
      "outputs": []
    },
    {
      "cell_type": "markdown",
      "source": [
        "# Module 4 - Working with Data in Python\n"
      ],
      "metadata": {
        "id": "-FRZCHRYZbL_"
      }
    },
    {
      "cell_type": "markdown",
      "source": [
        "File1 = open(\"/resources/data/Example2.txt\",\"w\") <br> if is w is for write <br>\n",
        "File1.name - give the name<br>\n",
        "File1.mode -  give w, r for writing or read<br>\n",
        "File1.close()<br>\n",
        "\n"
      ],
      "metadata": {
        "id": "hdCONAszZsVs"
      }
    },
    {
      "cell_type": "code",
      "source": [],
      "metadata": {
        "id": "glx42AHrSnxx"
      },
      "execution_count": null,
      "outputs": []
    },
    {
      "cell_type": "markdown",
      "source": [
        "For writing we need to put **file1.write(\"text to write\")**,<br>\n"
      ],
      "metadata": {
        "id": "oDBHQVu1a9Gy"
      }
    },
    {
      "cell_type": "markdown",
      "source": [
        "\n",
        "It is recommend to use **with**, because automatically close the file\n",
        "<br>\n",
        "fil1.readline() for read each line. if we put inside a number is to read number of characters\n"
      ],
      "metadata": {
        "id": "xMZJ6KqPSNuW"
      }
    },
    {
      "cell_type": "markdown",
      "source": [
        "#Module 4 - Lab Reading files notes\n"
      ],
      "metadata": {
        "id": "qEQWgSbbSgMw"
      }
    },
    {
      "cell_type": "code",
      "source": [
        "#We need to include this to use the lab example \n",
        "#Uncomment these if working locally, else let the following code cell run.\n",
        "\n",
        "import urllib.request\n",
        "url = 'https://cf-courses-data.s3.us.cloud-object-storage.appdomain.cloud/IBMDeveloperSkillsNetwork-PY0101EN-SkillsNetwork/labs/Module%204/data/example1.txt'\n",
        "filename = 'Example1.txt'\n",
        "urllib.request.urlretrieve(url, filename)\n",
        "\n",
        "# Download Example file\n",
        "!wget -O /resources/data/Example1.txt https://cf-courses-data.s3.us.cloud-object-storage.appdomain.cloud/IBMDeveloperSkillsNetwork-PY0101EN-SkillsNetwork/labs/Module%204/data/example1.txt"
      ],
      "metadata": {
        "id": "tseHCZlPSodF",
        "outputId": "0cb1f43c-2d71-4c4c-dc6e-42af26a60abd",
        "colab": {
          "base_uri": "https://localhost:8080/"
        }
      },
      "execution_count": null,
      "outputs": [
        {
          "output_type": "stream",
          "name": "stdout",
          "text": [
            "/resources/data/Example1.txt: No such file or directory\n"
          ]
        }
      ]
    },
    {
      "cell_type": "code",
      "source": [
        "# Read the Example1.txt\n",
        "example1 = \"Example1.txt\"\n",
        "file1 = open(example1, \"r\")\n",
        "file1.name #we are getting the name\n",
        "\n"
      ],
      "metadata": {
        "id": "mJwukDYMTO4G",
        "outputId": "9b185de5-7830-417f-db5d-c566d9ea3dcc",
        "colab": {
          "base_uri": "https://localhost:8080/",
          "height": 35
        }
      },
      "execution_count": null,
      "outputs": [
        {
          "output_type": "execute_result",
          "data": {
            "text/plain": [
              "'Example1.txt'"
            ],
            "application/vnd.google.colaboratory.intrinsic+json": {
              "type": "string"
            }
          },
          "metadata": {},
          "execution_count": 41
        }
      ]
    },
    {
      "cell_type": "code",
      "source": [
        "#to see in wich mode we are on the file, could be r, w, or a\n",
        "file1.mode"
      ],
      "metadata": {
        "id": "FsDPC9LmTjvy",
        "outputId": "b922d2a1-a09b-4b70-caf4-492c67d8f853",
        "colab": {
          "base_uri": "https://localhost:8080/",
          "height": 35
        }
      },
      "execution_count": null,
      "outputs": [
        {
          "output_type": "execute_result",
          "data": {
            "text/plain": [
              "'r'"
            ],
            "application/vnd.google.colaboratory.intrinsic+json": {
              "type": "string"
            }
          },
          "metadata": {},
          "execution_count": 42
        }
      ]
    },
    {
      "cell_type": "code",
      "source": [
        "#to read the content of the file\n",
        "FileContent = file1.read()\n",
        "print(FileContent)\n",
        "file1.close()\n",
        "print(file1.closed)"
      ],
      "metadata": {
        "id": "nog1pg3pUKNj",
        "outputId": "45566d56-5573-4190-9e9f-78c7f53456cc",
        "colab": {
          "base_uri": "https://localhost:8080/"
        }
      },
      "execution_count": null,
      "outputs": [
        {
          "output_type": "stream",
          "name": "stdout",
          "text": [
            "This is line 1 \n",
            "This is line 2\n",
            "This is line 3\n",
            "True\n"
          ]
        }
      ]
    },
    {
      "cell_type": "code",
      "source": [
        "#the recommendation is use with as above I explained, here is the example:\n",
        "with open(example1, \"r\") as file1:\n",
        "    FileContent = file1.read()\n",
        "    print(FileContent)\n",
        "print(file1.closed) # it is important to put print wiht no indent, to put out the with statement"
      ],
      "metadata": {
        "id": "p8BqTzsoUP4O",
        "outputId": "62e4312e-bf74-41be-ac2f-fd193e30ff6e",
        "colab": {
          "base_uri": "https://localhost:8080/"
        }
      },
      "execution_count": null,
      "outputs": [
        {
          "output_type": "stream",
          "name": "stdout",
          "text": [
            "This is line 1 \n",
            "This is line 2\n",
            "This is line 3\n",
            "True\n"
          ]
        }
      ]
    },
    {
      "cell_type": "code",
      "source": [
        "#To itereato, we can use loops like the for loop\n",
        "with open(example1,\"r\") as file1:\n",
        "        i = 0;\n",
        "        for line in file1:\n",
        "            print(\"Iteration\", str(i), \": \", line)\n",
        "            i = i + 1"
      ],
      "metadata": {
        "id": "pzgtIkdiVDKo",
        "outputId": "5f2f7751-2f4b-48ce-f13b-23de799eba0c",
        "colab": {
          "base_uri": "https://localhost:8080/"
        }
      },
      "execution_count": null,
      "outputs": [
        {
          "output_type": "stream",
          "name": "stdout",
          "text": [
            "Iteration 0 :  This is line 1 \n",
            "\n",
            "Iteration 1 :  This is line 2\n",
            "\n",
            "Iteration 2 :  This is line 3\n"
          ]
        }
      ]
    },
    {
      "cell_type": "markdown",
      "source": [
        "#Module 4  - Lab write files notes"
      ],
      "metadata": {
        "id": "uNwpgdAMVc_D"
      }
    },
    {
      "cell_type": "code",
      "source": [
        "#We can create a new file, and write into it\n",
        "\n",
        "exmp2 = 'Example2.txt'\n",
        "with open(exmp2, 'w') as writefile:\n",
        "    writefile.write(\"This is line A\")"
      ],
      "metadata": {
        "id": "W281tlAGWaAA"
      },
      "execution_count": null,
      "outputs": []
    },
    {
      "cell_type": "code",
      "source": [
        "#to read the file recent created\n",
        "with open(exmp2, 'r') as testwritefile:\n",
        "    print(testwritefile.read())"
      ],
      "metadata": {
        "id": "1YFSRxoqWmWY",
        "outputId": "73d46e22-687e-4007-be48-a3b6e9454d10",
        "colab": {
          "base_uri": "https://localhost:8080/"
        }
      },
      "execution_count": null,
      "outputs": [
        {
          "output_type": "stream",
          "name": "stdout",
          "text": [
            "This is line A\n"
          ]
        }
      ]
    },
    {
      "cell_type": "markdown",
      "source": [
        "**We can see that the line that we write before it is the line that we read it.**"
      ],
      "metadata": {
        "id": "Rs9HQO5FWu1_"
      }
    },
    {
      "cell_type": "code",
      "source": [
        "#To write but using list\n",
        "#first we create the list\n",
        "Lines = [\"This is line A\\n\", \"This is line B\\n\", \"This is line C\\n\"]\n",
        "Lines\n"
      ],
      "metadata": {
        "id": "HrUFPsPRW5-T",
        "outputId": "9dc20720-e0e1-4141-d019-46883a0fcba7",
        "colab": {
          "base_uri": "https://localhost:8080/"
        }
      },
      "execution_count": null,
      "outputs": [
        {
          "output_type": "execute_result",
          "data": {
            "text/plain": [
              "['This is line A\\n', 'This is line B\\n', 'This is line C\\n']"
            ]
          },
          "metadata": {},
          "execution_count": 51
        }
      ]
    },
    {
      "cell_type": "code",
      "source": [
        "#then we write in to the file\n",
        "with open('Example2.txt', 'w') as writefile:\n",
        "    for line in Lines:\n",
        "        print(line)\n",
        "        writefile.write(line)"
      ],
      "metadata": {
        "id": "KCx8NI-MXDRu",
        "outputId": "8b6f3372-bdbe-4e1f-a694-a603172dd0b9",
        "colab": {
          "base_uri": "https://localhost:8080/"
        }
      },
      "execution_count": null,
      "outputs": [
        {
          "output_type": "stream",
          "name": "stdout",
          "text": [
            "This is line A\n",
            "\n",
            "This is line B\n",
            "\n",
            "This is line C\n",
            "\n"
          ]
        }
      ]
    },
    {
      "cell_type": "code",
      "source": [
        "#test if the previous command worked\n",
        "with open('Example2.txt', 'r') as testwritefile:\n",
        "    print(testwritefile.read())"
      ],
      "metadata": {
        "id": "jaagn15nXh_k",
        "outputId": "efde91a4-d8e0-46f4-a526-eaca5af3c48e",
        "colab": {
          "base_uri": "https://localhost:8080/"
        }
      },
      "execution_count": null,
      "outputs": [
        {
          "output_type": "stream",
          "name": "stdout",
          "text": [
            "This is line A\n",
            "This is line B\n",
            "This is line C\n",
            "\n"
          ]
        }
      ]
    },
    {
      "cell_type": "markdown",
      "source": [
        "**It is important to see here that we are getting the data from lines which is a list**\n"
      ],
      "metadata": {
        "id": "4L6Ew8-cXO2i"
      }
    },
    {
      "cell_type": "code",
      "source": [
        "#important to know\n",
        "with open('Example2.txt', 'w') as writefile:\n",
        "    writefile.write(\"Overwrite\\n\")\n",
        "with open('Example2.txt', 'r') as testwritefile:\n",
        "    print(testwritefile.read())"
      ],
      "metadata": {
        "id": "cmUBk2M7XtEL",
        "outputId": "33d76cbb-9867-40cd-d7a0-9a56ec3ce2c0",
        "colab": {
          "base_uri": "https://localhost:8080/"
        }
      },
      "execution_count": null,
      "outputs": [
        {
          "output_type": "stream",
          "name": "stdout",
          "text": [
            "Overwrite\n",
            "\n"
          ]
        }
      ]
    },
    {
      "cell_type": "markdown",
      "source": [
        "**using this command actually we are overwriting** "
      ],
      "metadata": {
        "id": "-AhKo1QEXyi7"
      }
    },
    {
      "cell_type": "code",
      "source": [
        "#If we can to continue writing what we can do is an append\n",
        "with open('Example2.txt', 'a') as testwritefile:\n",
        "    testwritefile.write(\"This is line C\\n\")\n",
        "    testwritefile.write(\"This is line D\\n\")\n",
        "    testwritefile.write(\"This is line E\\n\")"
      ],
      "metadata": {
        "id": "rxG65WIqX7v6"
      },
      "execution_count": null,
      "outputs": []
    },
    {
      "cell_type": "code",
      "source": [
        "with open('Example2.txt', 'r') as testwritefile:\n",
        "    print(testwritefile.read())"
      ],
      "metadata": {
        "id": "gFu8IrN5YC9v",
        "outputId": "6655bd0d-94d5-4f20-c0eb-cad1bb7743ee",
        "colab": {
          "base_uri": "https://localhost:8080/"
        }
      },
      "execution_count": null,
      "outputs": [
        {
          "output_type": "stream",
          "name": "stdout",
          "text": [
            "Overwrite\n",
            "This is line C\n",
            "This is line D\n",
            "This is line E\n",
            "\n"
          ]
        }
      ]
    },
    {
      "cell_type": "markdown",
      "source": [
        "**this is the probe that with append we can write at the end of the file**\n"
      ],
      "metadata": {
        "id": "ZAo4hV-aYIZQ"
      }
    },
    {
      "cell_type": "markdown",
      "source": [
        "**It is not a good practice to open and close the files, to first read, then write, etc. That is why we can use**\n",
        "\n",
        "*   r+\n",
        "*   w+\n",
        "*   a+\n",
        "\n",
        "\n"
      ],
      "metadata": {
        "id": "6WBGnIgDYWdl"
      }
    },
    {
      "cell_type": "code",
      "source": [
        "with open('Example2.txt', 'a+') as testwritefile:\n",
        "    print(\"Initial Location: {}\".format(testwritefile.tell())) #with .tell() we can knkow the current position in bytes()\n",
        "    \n",
        "    data = testwritefile.read()\n",
        "    if (not data):  #empty strings return false in python\n",
        "            print('Read nothing') \n",
        "    else: \n",
        "            print(testwritefile.read())\n",
        "            \n",
        "    testwritefile.seek(0,0) # move 0 bytes from beginning. changes the position by 'offset' bytes with respect to 'from'. From can take the value of 0,1,2 corresponding to beginning, relative to current position and end\n",
        "    \n",
        "    print(\"\\nNew Location : {}\".format(testwritefile.tell()))\n",
        "    data = testwritefile.read()\n",
        "    if (not data): \n",
        "            print('Read nothing') \n",
        "    else: \n",
        "            print(data)\n",
        "    \n",
        "    print(\"Location after read: {}\".format(testwritefile.tell()) )"
      ],
      "metadata": {
        "id": "hLztu_bNYu-I",
        "outputId": "801f0e0c-04c7-4e44-99d3-199c87f66ca8",
        "colab": {
          "base_uri": "https://localhost:8080/"
        }
      },
      "execution_count": null,
      "outputs": [
        {
          "output_type": "stream",
          "name": "stdout",
          "text": [
            "Initial Location: 55\n",
            "Read nothing\n",
            "\n",
            "New Location : 0\n",
            "Overwrite\n",
            "This is line C\n",
            "This is line D\n",
            "This is line E\n",
            "\n",
            "Location after read: 55\n"
          ]
        }
      ]
    },
    {
      "cell_type": "markdown",
      "source": [
        "# Module 4 - Loading data with pandas\n",
        "\n"
      ],
      "metadata": {
        "id": "veUtWl39cfBf"
      }
    },
    {
      "cell_type": "code",
      "source": [
        "import pandas as pd\n",
        "csv_path='/content/sample_data/Standard Videos.csv'\n",
        "df=pd.read_csv(csv_path)\n",
        "\n",
        "df.head() # to see the first 5 rows of the data\n"
      ],
      "metadata": {
        "colab": {
          "base_uri": "https://localhost:8080/",
          "height": 206
        },
        "id": "6RJS5xnhcqTz",
        "outputId": "8ff088a6-47e6-414e-bf3f-744c96e9f979"
      },
      "execution_count": null,
      "outputs": [
        {
          "output_type": "execute_result",
          "data": {
            "text/plain": [
              "   ID        Site       Dept.Type           Job Title  \\\n",
              "0   1  Carrollton           DAPEC              PACKER   \n",
              "1   7     ARCADIA  LIVE RECEIVING       HANGER - LIVE   \n",
              "2   8     ARCADIA  CHILLER REHANG  REHANGER - CHILLER   \n",
              "3   9     ARCADIA  LIVE RECEIVING   OPERATOR - DRAWER   \n",
              "4  10     ARCADIA  CHILLER REHANG      OPERATOR - SAW   \n",
              "\n",
              "                                          Video Link     Created By  \\\n",
              "0  https://web.microsoftstream.com/video/2c5c33f7...  Barraza, Luis   \n",
              "1  https://web.microsoftstream.com/video/fcbf2847...  Barraza, Luis   \n",
              "2  https://web.microsoftstream.com/video/8e061752...  Barraza, Luis   \n",
              "3  https://web.microsoftstream.com/video/b5f0261a...  Barraza, Luis   \n",
              "4  https://web.microsoftstream.com/video/f29bd804...  Barraza, Luis   \n",
              "\n",
              "             Created    Modified By            Modified  \n",
              "0  7/5/2021 10:47 PM  Barraza, Luis  7/19/2021 11:34 PM  \n",
              "1  9/6/2021 12:21 PM  Barraza, Luis   9/6/2021 12:21 PM  \n",
              "2  9/6/2021 12:23 PM  Barraza, Luis   9/6/2021 12:23 PM  \n",
              "3  9/6/2021 12:38 PM  Barraza, Luis    9/6/2021 5:21 PM  \n",
              "4  9/6/2021 12:50 PM  Barraza, Luis   9/6/2021 12:50 PM  "
            ],
            "text/html": [
              "\n",
              "  <div id=\"df-f8b24c19-eab8-4575-a60f-214fbd4e7cb3\">\n",
              "    <div class=\"colab-df-container\">\n",
              "      <div>\n",
              "<style scoped>\n",
              "    .dataframe tbody tr th:only-of-type {\n",
              "        vertical-align: middle;\n",
              "    }\n",
              "\n",
              "    .dataframe tbody tr th {\n",
              "        vertical-align: top;\n",
              "    }\n",
              "\n",
              "    .dataframe thead th {\n",
              "        text-align: right;\n",
              "    }\n",
              "</style>\n",
              "<table border=\"1\" class=\"dataframe\">\n",
              "  <thead>\n",
              "    <tr style=\"text-align: right;\">\n",
              "      <th></th>\n",
              "      <th>ID</th>\n",
              "      <th>Site</th>\n",
              "      <th>Dept.Type</th>\n",
              "      <th>Job Title</th>\n",
              "      <th>Video Link</th>\n",
              "      <th>Created By</th>\n",
              "      <th>Created</th>\n",
              "      <th>Modified By</th>\n",
              "      <th>Modified</th>\n",
              "    </tr>\n",
              "  </thead>\n",
              "  <tbody>\n",
              "    <tr>\n",
              "      <th>0</th>\n",
              "      <td>1</td>\n",
              "      <td>Carrollton</td>\n",
              "      <td>DAPEC</td>\n",
              "      <td>PACKER</td>\n",
              "      <td>https://web.microsoftstream.com/video/2c5c33f7...</td>\n",
              "      <td>Barraza, Luis</td>\n",
              "      <td>7/5/2021 10:47 PM</td>\n",
              "      <td>Barraza, Luis</td>\n",
              "      <td>7/19/2021 11:34 PM</td>\n",
              "    </tr>\n",
              "    <tr>\n",
              "      <th>1</th>\n",
              "      <td>7</td>\n",
              "      <td>ARCADIA</td>\n",
              "      <td>LIVE RECEIVING</td>\n",
              "      <td>HANGER - LIVE</td>\n",
              "      <td>https://web.microsoftstream.com/video/fcbf2847...</td>\n",
              "      <td>Barraza, Luis</td>\n",
              "      <td>9/6/2021 12:21 PM</td>\n",
              "      <td>Barraza, Luis</td>\n",
              "      <td>9/6/2021 12:21 PM</td>\n",
              "    </tr>\n",
              "    <tr>\n",
              "      <th>2</th>\n",
              "      <td>8</td>\n",
              "      <td>ARCADIA</td>\n",
              "      <td>CHILLER REHANG</td>\n",
              "      <td>REHANGER - CHILLER</td>\n",
              "      <td>https://web.microsoftstream.com/video/8e061752...</td>\n",
              "      <td>Barraza, Luis</td>\n",
              "      <td>9/6/2021 12:23 PM</td>\n",
              "      <td>Barraza, Luis</td>\n",
              "      <td>9/6/2021 12:23 PM</td>\n",
              "    </tr>\n",
              "    <tr>\n",
              "      <th>3</th>\n",
              "      <td>9</td>\n",
              "      <td>ARCADIA</td>\n",
              "      <td>LIVE RECEIVING</td>\n",
              "      <td>OPERATOR - DRAWER</td>\n",
              "      <td>https://web.microsoftstream.com/video/b5f0261a...</td>\n",
              "      <td>Barraza, Luis</td>\n",
              "      <td>9/6/2021 12:38 PM</td>\n",
              "      <td>Barraza, Luis</td>\n",
              "      <td>9/6/2021 5:21 PM</td>\n",
              "    </tr>\n",
              "    <tr>\n",
              "      <th>4</th>\n",
              "      <td>10</td>\n",
              "      <td>ARCADIA</td>\n",
              "      <td>CHILLER REHANG</td>\n",
              "      <td>OPERATOR - SAW</td>\n",
              "      <td>https://web.microsoftstream.com/video/f29bd804...</td>\n",
              "      <td>Barraza, Luis</td>\n",
              "      <td>9/6/2021 12:50 PM</td>\n",
              "      <td>Barraza, Luis</td>\n",
              "      <td>9/6/2021 12:50 PM</td>\n",
              "    </tr>\n",
              "  </tbody>\n",
              "</table>\n",
              "</div>\n",
              "      <button class=\"colab-df-convert\" onclick=\"convertToInteractive('df-f8b24c19-eab8-4575-a60f-214fbd4e7cb3')\"\n",
              "              title=\"Convert this dataframe to an interactive table.\"\n",
              "              style=\"display:none;\">\n",
              "        \n",
              "  <svg xmlns=\"http://www.w3.org/2000/svg\" height=\"24px\"viewBox=\"0 0 24 24\"\n",
              "       width=\"24px\">\n",
              "    <path d=\"M0 0h24v24H0V0z\" fill=\"none\"/>\n",
              "    <path d=\"M18.56 5.44l.94 2.06.94-2.06 2.06-.94-2.06-.94-.94-2.06-.94 2.06-2.06.94zm-11 1L8.5 8.5l.94-2.06 2.06-.94-2.06-.94L8.5 2.5l-.94 2.06-2.06.94zm10 10l.94 2.06.94-2.06 2.06-.94-2.06-.94-.94-2.06-.94 2.06-2.06.94z\"/><path d=\"M17.41 7.96l-1.37-1.37c-.4-.4-.92-.59-1.43-.59-.52 0-1.04.2-1.43.59L10.3 9.45l-7.72 7.72c-.78.78-.78 2.05 0 2.83L4 21.41c.39.39.9.59 1.41.59.51 0 1.02-.2 1.41-.59l7.78-7.78 2.81-2.81c.8-.78.8-2.07 0-2.86zM5.41 20L4 18.59l7.72-7.72 1.47 1.35L5.41 20z\"/>\n",
              "  </svg>\n",
              "      </button>\n",
              "      \n",
              "  <style>\n",
              "    .colab-df-container {\n",
              "      display:flex;\n",
              "      flex-wrap:wrap;\n",
              "      gap: 12px;\n",
              "    }\n",
              "\n",
              "    .colab-df-convert {\n",
              "      background-color: #E8F0FE;\n",
              "      border: none;\n",
              "      border-radius: 50%;\n",
              "      cursor: pointer;\n",
              "      display: none;\n",
              "      fill: #1967D2;\n",
              "      height: 32px;\n",
              "      padding: 0 0 0 0;\n",
              "      width: 32px;\n",
              "    }\n",
              "\n",
              "    .colab-df-convert:hover {\n",
              "      background-color: #E2EBFA;\n",
              "      box-shadow: 0px 1px 2px rgba(60, 64, 67, 0.3), 0px 1px 3px 1px rgba(60, 64, 67, 0.15);\n",
              "      fill: #174EA6;\n",
              "    }\n",
              "\n",
              "    [theme=dark] .colab-df-convert {\n",
              "      background-color: #3B4455;\n",
              "      fill: #D2E3FC;\n",
              "    }\n",
              "\n",
              "    [theme=dark] .colab-df-convert:hover {\n",
              "      background-color: #434B5C;\n",
              "      box-shadow: 0px 1px 3px 1px rgba(0, 0, 0, 0.15);\n",
              "      filter: drop-shadow(0px 1px 2px rgba(0, 0, 0, 0.3));\n",
              "      fill: #FFFFFF;\n",
              "    }\n",
              "  </style>\n",
              "\n",
              "      <script>\n",
              "        const buttonEl =\n",
              "          document.querySelector('#df-f8b24c19-eab8-4575-a60f-214fbd4e7cb3 button.colab-df-convert');\n",
              "        buttonEl.style.display =\n",
              "          google.colab.kernel.accessAllowed ? 'block' : 'none';\n",
              "\n",
              "        async function convertToInteractive(key) {\n",
              "          const element = document.querySelector('#df-f8b24c19-eab8-4575-a60f-214fbd4e7cb3');\n",
              "          const dataTable =\n",
              "            await google.colab.kernel.invokeFunction('convertToInteractive',\n",
              "                                                     [key], {});\n",
              "          if (!dataTable) return;\n",
              "\n",
              "          const docLinkHtml = 'Like what you see? Visit the ' +\n",
              "            '<a target=\"_blank\" href=https://colab.research.google.com/notebooks/data_table.ipynb>data table notebook</a>'\n",
              "            + ' to learn more about interactive tables.';\n",
              "          element.innerHTML = '';\n",
              "          dataTable['output_type'] = 'display_data';\n",
              "          await google.colab.output.renderOutput(dataTable, element);\n",
              "          const docLink = document.createElement('div');\n",
              "          docLink.innerHTML = docLinkHtml;\n",
              "          element.appendChild(docLink);\n",
              "        }\n",
              "      </script>\n",
              "    </div>\n",
              "  </div>\n",
              "  "
            ]
          },
          "metadata": {},
          "execution_count": 12
        }
      ]
    },
    {
      "cell_type": "code",
      "source": [
        "#we can create a datafram out of the dictionary. A dataframe has columns and rows\n",
        "songs = {'Album': ['Thriller back','back in black'], 'Released': [1982,1980], 'Length': ['00:42:19','00:42:11']} \n",
        "songs_frame = pd.DataFrame(songs) # take the dictionay inside pd.DataFrame(##)\n",
        "songs_frame.head()"
      ],
      "metadata": {
        "colab": {
          "base_uri": "https://localhost:8080/",
          "height": 112
        },
        "id": "9FKHwc6_eL4h",
        "outputId": "87daa7c4-8d88-4a91-8549-1c3c6720d2e7"
      },
      "execution_count": null,
      "outputs": [
        {
          "output_type": "execute_result",
          "data": {
            "text/plain": [
              "           Album  Released    Length\n",
              "0  Thriller back      1982  00:42:19\n",
              "1  back in black      1980  00:42:11"
            ],
            "text/html": [
              "\n",
              "  <div id=\"df-d7325ba3-973b-474e-a650-f3e08600acc5\">\n",
              "    <div class=\"colab-df-container\">\n",
              "      <div>\n",
              "<style scoped>\n",
              "    .dataframe tbody tr th:only-of-type {\n",
              "        vertical-align: middle;\n",
              "    }\n",
              "\n",
              "    .dataframe tbody tr th {\n",
              "        vertical-align: top;\n",
              "    }\n",
              "\n",
              "    .dataframe thead th {\n",
              "        text-align: right;\n",
              "    }\n",
              "</style>\n",
              "<table border=\"1\" class=\"dataframe\">\n",
              "  <thead>\n",
              "    <tr style=\"text-align: right;\">\n",
              "      <th></th>\n",
              "      <th>Album</th>\n",
              "      <th>Released</th>\n",
              "      <th>Length</th>\n",
              "    </tr>\n",
              "  </thead>\n",
              "  <tbody>\n",
              "    <tr>\n",
              "      <th>0</th>\n",
              "      <td>Thriller back</td>\n",
              "      <td>1982</td>\n",
              "      <td>00:42:19</td>\n",
              "    </tr>\n",
              "    <tr>\n",
              "      <th>1</th>\n",
              "      <td>back in black</td>\n",
              "      <td>1980</td>\n",
              "      <td>00:42:11</td>\n",
              "    </tr>\n",
              "  </tbody>\n",
              "</table>\n",
              "</div>\n",
              "      <button class=\"colab-df-convert\" onclick=\"convertToInteractive('df-d7325ba3-973b-474e-a650-f3e08600acc5')\"\n",
              "              title=\"Convert this dataframe to an interactive table.\"\n",
              "              style=\"display:none;\">\n",
              "        \n",
              "  <svg xmlns=\"http://www.w3.org/2000/svg\" height=\"24px\"viewBox=\"0 0 24 24\"\n",
              "       width=\"24px\">\n",
              "    <path d=\"M0 0h24v24H0V0z\" fill=\"none\"/>\n",
              "    <path d=\"M18.56 5.44l.94 2.06.94-2.06 2.06-.94-2.06-.94-.94-2.06-.94 2.06-2.06.94zm-11 1L8.5 8.5l.94-2.06 2.06-.94-2.06-.94L8.5 2.5l-.94 2.06-2.06.94zm10 10l.94 2.06.94-2.06 2.06-.94-2.06-.94-.94-2.06-.94 2.06-2.06.94z\"/><path d=\"M17.41 7.96l-1.37-1.37c-.4-.4-.92-.59-1.43-.59-.52 0-1.04.2-1.43.59L10.3 9.45l-7.72 7.72c-.78.78-.78 2.05 0 2.83L4 21.41c.39.39.9.59 1.41.59.51 0 1.02-.2 1.41-.59l7.78-7.78 2.81-2.81c.8-.78.8-2.07 0-2.86zM5.41 20L4 18.59l7.72-7.72 1.47 1.35L5.41 20z\"/>\n",
              "  </svg>\n",
              "      </button>\n",
              "      \n",
              "  <style>\n",
              "    .colab-df-container {\n",
              "      display:flex;\n",
              "      flex-wrap:wrap;\n",
              "      gap: 12px;\n",
              "    }\n",
              "\n",
              "    .colab-df-convert {\n",
              "      background-color: #E8F0FE;\n",
              "      border: none;\n",
              "      border-radius: 50%;\n",
              "      cursor: pointer;\n",
              "      display: none;\n",
              "      fill: #1967D2;\n",
              "      height: 32px;\n",
              "      padding: 0 0 0 0;\n",
              "      width: 32px;\n",
              "    }\n",
              "\n",
              "    .colab-df-convert:hover {\n",
              "      background-color: #E2EBFA;\n",
              "      box-shadow: 0px 1px 2px rgba(60, 64, 67, 0.3), 0px 1px 3px 1px rgba(60, 64, 67, 0.15);\n",
              "      fill: #174EA6;\n",
              "    }\n",
              "\n",
              "    [theme=dark] .colab-df-convert {\n",
              "      background-color: #3B4455;\n",
              "      fill: #D2E3FC;\n",
              "    }\n",
              "\n",
              "    [theme=dark] .colab-df-convert:hover {\n",
              "      background-color: #434B5C;\n",
              "      box-shadow: 0px 1px 3px 1px rgba(0, 0, 0, 0.15);\n",
              "      filter: drop-shadow(0px 1px 2px rgba(0, 0, 0, 0.3));\n",
              "      fill: #FFFFFF;\n",
              "    }\n",
              "  </style>\n",
              "\n",
              "      <script>\n",
              "        const buttonEl =\n",
              "          document.querySelector('#df-d7325ba3-973b-474e-a650-f3e08600acc5 button.colab-df-convert');\n",
              "        buttonEl.style.display =\n",
              "          google.colab.kernel.accessAllowed ? 'block' : 'none';\n",
              "\n",
              "        async function convertToInteractive(key) {\n",
              "          const element = document.querySelector('#df-d7325ba3-973b-474e-a650-f3e08600acc5');\n",
              "          const dataTable =\n",
              "            await google.colab.kernel.invokeFunction('convertToInteractive',\n",
              "                                                     [key], {});\n",
              "          if (!dataTable) return;\n",
              "\n",
              "          const docLinkHtml = 'Like what you see? Visit the ' +\n",
              "            '<a target=\"_blank\" href=https://colab.research.google.com/notebooks/data_table.ipynb>data table notebook</a>'\n",
              "            + ' to learn more about interactive tables.';\n",
              "          element.innerHTML = '';\n",
              "          dataTable['output_type'] = 'display_data';\n",
              "          await google.colab.output.renderOutput(dataTable, element);\n",
              "          const docLink = document.createElement('div');\n",
              "          docLink.innerHTML = docLinkHtml;\n",
              "          element.appendChild(docLink);\n",
              "        }\n",
              "      </script>\n",
              "    </div>\n",
              "  </div>\n",
              "  "
            ]
          },
          "metadata": {},
          "execution_count": 58
        }
      ]
    },
    {
      "cell_type": "code",
      "source": [
        "#we can create new data frame from a previous data frame, it is important to use [[]] double\n",
        "x = songs_frame[['Length']]\n",
        "x.head()"
      ],
      "metadata": {
        "colab": {
          "base_uri": "https://localhost:8080/",
          "height": 112
        },
        "id": "DeZH7tpEfO-m",
        "outputId": "0dff5a79-88ab-474a-b6fa-eb757220fe48"
      },
      "execution_count": null,
      "outputs": [
        {
          "output_type": "execute_result",
          "data": {
            "text/plain": [
              "     Length\n",
              "0  00:42:19\n",
              "1  00:42:11"
            ],
            "text/html": [
              "\n",
              "  <div id=\"df-c7aecbdb-5de2-456f-af09-53ddf485e415\">\n",
              "    <div class=\"colab-df-container\">\n",
              "      <div>\n",
              "<style scoped>\n",
              "    .dataframe tbody tr th:only-of-type {\n",
              "        vertical-align: middle;\n",
              "    }\n",
              "\n",
              "    .dataframe tbody tr th {\n",
              "        vertical-align: top;\n",
              "    }\n",
              "\n",
              "    .dataframe thead th {\n",
              "        text-align: right;\n",
              "    }\n",
              "</style>\n",
              "<table border=\"1\" class=\"dataframe\">\n",
              "  <thead>\n",
              "    <tr style=\"text-align: right;\">\n",
              "      <th></th>\n",
              "      <th>Length</th>\n",
              "    </tr>\n",
              "  </thead>\n",
              "  <tbody>\n",
              "    <tr>\n",
              "      <th>0</th>\n",
              "      <td>00:42:19</td>\n",
              "    </tr>\n",
              "    <tr>\n",
              "      <th>1</th>\n",
              "      <td>00:42:11</td>\n",
              "    </tr>\n",
              "  </tbody>\n",
              "</table>\n",
              "</div>\n",
              "      <button class=\"colab-df-convert\" onclick=\"convertToInteractive('df-c7aecbdb-5de2-456f-af09-53ddf485e415')\"\n",
              "              title=\"Convert this dataframe to an interactive table.\"\n",
              "              style=\"display:none;\">\n",
              "        \n",
              "  <svg xmlns=\"http://www.w3.org/2000/svg\" height=\"24px\"viewBox=\"0 0 24 24\"\n",
              "       width=\"24px\">\n",
              "    <path d=\"M0 0h24v24H0V0z\" fill=\"none\"/>\n",
              "    <path d=\"M18.56 5.44l.94 2.06.94-2.06 2.06-.94-2.06-.94-.94-2.06-.94 2.06-2.06.94zm-11 1L8.5 8.5l.94-2.06 2.06-.94-2.06-.94L8.5 2.5l-.94 2.06-2.06.94zm10 10l.94 2.06.94-2.06 2.06-.94-2.06-.94-.94-2.06-.94 2.06-2.06.94z\"/><path d=\"M17.41 7.96l-1.37-1.37c-.4-.4-.92-.59-1.43-.59-.52 0-1.04.2-1.43.59L10.3 9.45l-7.72 7.72c-.78.78-.78 2.05 0 2.83L4 21.41c.39.39.9.59 1.41.59.51 0 1.02-.2 1.41-.59l7.78-7.78 2.81-2.81c.8-.78.8-2.07 0-2.86zM5.41 20L4 18.59l7.72-7.72 1.47 1.35L5.41 20z\"/>\n",
              "  </svg>\n",
              "      </button>\n",
              "      \n",
              "  <style>\n",
              "    .colab-df-container {\n",
              "      display:flex;\n",
              "      flex-wrap:wrap;\n",
              "      gap: 12px;\n",
              "    }\n",
              "\n",
              "    .colab-df-convert {\n",
              "      background-color: #E8F0FE;\n",
              "      border: none;\n",
              "      border-radius: 50%;\n",
              "      cursor: pointer;\n",
              "      display: none;\n",
              "      fill: #1967D2;\n",
              "      height: 32px;\n",
              "      padding: 0 0 0 0;\n",
              "      width: 32px;\n",
              "    }\n",
              "\n",
              "    .colab-df-convert:hover {\n",
              "      background-color: #E2EBFA;\n",
              "      box-shadow: 0px 1px 2px rgba(60, 64, 67, 0.3), 0px 1px 3px 1px rgba(60, 64, 67, 0.15);\n",
              "      fill: #174EA6;\n",
              "    }\n",
              "\n",
              "    [theme=dark] .colab-df-convert {\n",
              "      background-color: #3B4455;\n",
              "      fill: #D2E3FC;\n",
              "    }\n",
              "\n",
              "    [theme=dark] .colab-df-convert:hover {\n",
              "      background-color: #434B5C;\n",
              "      box-shadow: 0px 1px 3px 1px rgba(0, 0, 0, 0.15);\n",
              "      filter: drop-shadow(0px 1px 2px rgba(0, 0, 0, 0.3));\n",
              "      fill: #FFFFFF;\n",
              "    }\n",
              "  </style>\n",
              "\n",
              "      <script>\n",
              "        const buttonEl =\n",
              "          document.querySelector('#df-c7aecbdb-5de2-456f-af09-53ddf485e415 button.colab-df-convert');\n",
              "        buttonEl.style.display =\n",
              "          google.colab.kernel.accessAllowed ? 'block' : 'none';\n",
              "\n",
              "        async function convertToInteractive(key) {\n",
              "          const element = document.querySelector('#df-c7aecbdb-5de2-456f-af09-53ddf485e415');\n",
              "          const dataTable =\n",
              "            await google.colab.kernel.invokeFunction('convertToInteractive',\n",
              "                                                     [key], {});\n",
              "          if (!dataTable) return;\n",
              "\n",
              "          const docLinkHtml = 'Like what you see? Visit the ' +\n",
              "            '<a target=\"_blank\" href=https://colab.research.google.com/notebooks/data_table.ipynb>data table notebook</a>'\n",
              "            + ' to learn more about interactive tables.';\n",
              "          element.innerHTML = '';\n",
              "          dataTable['output_type'] = 'display_data';\n",
              "          await google.colab.output.renderOutput(dataTable, element);\n",
              "          const docLink = document.createElement('div');\n",
              "          docLink.innerHTML = docLinkHtml;\n",
              "          element.appendChild(docLink);\n",
              "        }\n",
              "      </script>\n",
              "    </div>\n",
              "  </div>\n",
              "  "
            ]
          },
          "metadata": {},
          "execution_count": 61
        }
      ]
    },
    {
      "cell_type": "code",
      "source": [
        "# we can include multiple columns\n",
        "y = songs_frame[['Album','Length']]\n",
        "y.head()"
      ],
      "metadata": {
        "colab": {
          "base_uri": "https://localhost:8080/",
          "height": 112
        },
        "id": "rCY1Y9R8fpic",
        "outputId": "29154dd9-67c4-4e50-c416-ee81919225d6"
      },
      "execution_count": null,
      "outputs": [
        {
          "output_type": "execute_result",
          "data": {
            "text/plain": [
              "           Album    Length\n",
              "0  Thriller back  00:42:19\n",
              "1  back in black  00:42:11"
            ],
            "text/html": [
              "\n",
              "  <div id=\"df-e1862856-7ee0-4a0c-b32e-a879ae3b7ffe\">\n",
              "    <div class=\"colab-df-container\">\n",
              "      <div>\n",
              "<style scoped>\n",
              "    .dataframe tbody tr th:only-of-type {\n",
              "        vertical-align: middle;\n",
              "    }\n",
              "\n",
              "    .dataframe tbody tr th {\n",
              "        vertical-align: top;\n",
              "    }\n",
              "\n",
              "    .dataframe thead th {\n",
              "        text-align: right;\n",
              "    }\n",
              "</style>\n",
              "<table border=\"1\" class=\"dataframe\">\n",
              "  <thead>\n",
              "    <tr style=\"text-align: right;\">\n",
              "      <th></th>\n",
              "      <th>Album</th>\n",
              "      <th>Length</th>\n",
              "    </tr>\n",
              "  </thead>\n",
              "  <tbody>\n",
              "    <tr>\n",
              "      <th>0</th>\n",
              "      <td>Thriller back</td>\n",
              "      <td>00:42:19</td>\n",
              "    </tr>\n",
              "    <tr>\n",
              "      <th>1</th>\n",
              "      <td>back in black</td>\n",
              "      <td>00:42:11</td>\n",
              "    </tr>\n",
              "  </tbody>\n",
              "</table>\n",
              "</div>\n",
              "      <button class=\"colab-df-convert\" onclick=\"convertToInteractive('df-e1862856-7ee0-4a0c-b32e-a879ae3b7ffe')\"\n",
              "              title=\"Convert this dataframe to an interactive table.\"\n",
              "              style=\"display:none;\">\n",
              "        \n",
              "  <svg xmlns=\"http://www.w3.org/2000/svg\" height=\"24px\"viewBox=\"0 0 24 24\"\n",
              "       width=\"24px\">\n",
              "    <path d=\"M0 0h24v24H0V0z\" fill=\"none\"/>\n",
              "    <path d=\"M18.56 5.44l.94 2.06.94-2.06 2.06-.94-2.06-.94-.94-2.06-.94 2.06-2.06.94zm-11 1L8.5 8.5l.94-2.06 2.06-.94-2.06-.94L8.5 2.5l-.94 2.06-2.06.94zm10 10l.94 2.06.94-2.06 2.06-.94-2.06-.94-.94-2.06-.94 2.06-2.06.94z\"/><path d=\"M17.41 7.96l-1.37-1.37c-.4-.4-.92-.59-1.43-.59-.52 0-1.04.2-1.43.59L10.3 9.45l-7.72 7.72c-.78.78-.78 2.05 0 2.83L4 21.41c.39.39.9.59 1.41.59.51 0 1.02-.2 1.41-.59l7.78-7.78 2.81-2.81c.8-.78.8-2.07 0-2.86zM5.41 20L4 18.59l7.72-7.72 1.47 1.35L5.41 20z\"/>\n",
              "  </svg>\n",
              "      </button>\n",
              "      \n",
              "  <style>\n",
              "    .colab-df-container {\n",
              "      display:flex;\n",
              "      flex-wrap:wrap;\n",
              "      gap: 12px;\n",
              "    }\n",
              "\n",
              "    .colab-df-convert {\n",
              "      background-color: #E8F0FE;\n",
              "      border: none;\n",
              "      border-radius: 50%;\n",
              "      cursor: pointer;\n",
              "      display: none;\n",
              "      fill: #1967D2;\n",
              "      height: 32px;\n",
              "      padding: 0 0 0 0;\n",
              "      width: 32px;\n",
              "    }\n",
              "\n",
              "    .colab-df-convert:hover {\n",
              "      background-color: #E2EBFA;\n",
              "      box-shadow: 0px 1px 2px rgba(60, 64, 67, 0.3), 0px 1px 3px 1px rgba(60, 64, 67, 0.15);\n",
              "      fill: #174EA6;\n",
              "    }\n",
              "\n",
              "    [theme=dark] .colab-df-convert {\n",
              "      background-color: #3B4455;\n",
              "      fill: #D2E3FC;\n",
              "    }\n",
              "\n",
              "    [theme=dark] .colab-df-convert:hover {\n",
              "      background-color: #434B5C;\n",
              "      box-shadow: 0px 1px 3px 1px rgba(0, 0, 0, 0.15);\n",
              "      filter: drop-shadow(0px 1px 2px rgba(0, 0, 0, 0.3));\n",
              "      fill: #FFFFFF;\n",
              "    }\n",
              "  </style>\n",
              "\n",
              "      <script>\n",
              "        const buttonEl =\n",
              "          document.querySelector('#df-e1862856-7ee0-4a0c-b32e-a879ae3b7ffe button.colab-df-convert');\n",
              "        buttonEl.style.display =\n",
              "          google.colab.kernel.accessAllowed ? 'block' : 'none';\n",
              "\n",
              "        async function convertToInteractive(key) {\n",
              "          const element = document.querySelector('#df-e1862856-7ee0-4a0c-b32e-a879ae3b7ffe');\n",
              "          const dataTable =\n",
              "            await google.colab.kernel.invokeFunction('convertToInteractive',\n",
              "                                                     [key], {});\n",
              "          if (!dataTable) return;\n",
              "\n",
              "          const docLinkHtml = 'Like what you see? Visit the ' +\n",
              "            '<a target=\"_blank\" href=https://colab.research.google.com/notebooks/data_table.ipynb>data table notebook</a>'\n",
              "            + ' to learn more about interactive tables.';\n",
              "          element.innerHTML = '';\n",
              "          dataTable['output_type'] = 'display_data';\n",
              "          await google.colab.output.renderOutput(dataTable, element);\n",
              "          const docLink = document.createElement('div');\n",
              "          docLink.innerHTML = docLinkHtml;\n",
              "          element.appendChild(docLink);\n",
              "        }\n",
              "      </script>\n",
              "    </div>\n",
              "  </div>\n",
              "  "
            ]
          },
          "metadata": {},
          "execution_count": 76
        }
      ]
    },
    {
      "cell_type": "code",
      "source": [
        "#to access to an element you can use the iloc, ix is deprecated\n",
        "songs_frame.iloc[0,0]\n",
        "songs_frame.loc[0,'Album'] #with strings"
      ],
      "metadata": {
        "colab": {
          "base_uri": "https://localhost:8080/",
          "height": 36
        },
        "id": "7YEkdnGyf3bw",
        "outputId": "438ce787-61ac-4e4e-f4aa-0d93bc13c831"
      },
      "execution_count": null,
      "outputs": [
        {
          "output_type": "execute_result",
          "data": {
            "text/plain": [
              "'Thriller back'"
            ],
            "application/vnd.google.colaboratory.intrinsic+json": {
              "type": "string"
            }
          },
          "metadata": {},
          "execution_count": 99
        }
      ]
    },
    {
      "cell_type": "code",
      "source": [
        "#question 1\n",
        "#find the second row and first column\n",
        "df.iloc[1,0]"
      ],
      "metadata": {
        "colab": {
          "base_uri": "https://localhost:8080/"
        },
        "id": "nAGc2C_giGZ_",
        "outputId": "c4817283-2204-494d-95e2-deab15a3abb3"
      },
      "execution_count": null,
      "outputs": [
        {
          "output_type": "execute_result",
          "data": {
            "text/plain": [
              "7"
            ]
          },
          "metadata": {},
          "execution_count": 100
        }
      ]
    },
    {
      "cell_type": "code",
      "source": [
        "#question2.\n",
        "#answered in the quiz\n"
      ],
      "metadata": {
        "id": "SfgbfRP4ihsA"
      },
      "execution_count": null,
      "outputs": []
    },
    {
      "cell_type": "markdown",
      "source": [
        "#Module 4 - Working with and savings data with pandas\n",
        "with unique method you can distinct the values<br>\n"
      ],
      "metadata": {
        "id": "ZbxMs0p0jM6H"
      }
    },
    {
      "cell_type": "code",
      "source": [
        "df['Site'].unique()"
      ],
      "metadata": {
        "colab": {
          "base_uri": "https://localhost:8080/"
        },
        "id": "6NPE0VD8jZbQ",
        "outputId": "20e75e10-2771-4a04-91b6-c7722d22c881"
      },
      "execution_count": null,
      "outputs": [
        {
          "output_type": "execute_result",
          "data": {
            "text/plain": [
              "array(['Carrollton', 'ARCADIA', 'SUMTER', 'ENTERPRISE', 'MARSHVILLE',\n",
              "       'BROADWAY', 'NATCHITOCHES', 'MOOREFIELD', 'ELLIJAY', 'LIVE OAK'],\n",
              "      dtype=object)"
            ]
          },
          "metadata": {},
          "execution_count": 102
        }
      ]
    },
    {
      "cell_type": "code",
      "source": [
        "df1=df[df['ID']<15] #the inside gives you trues and false, and with the second just assigned the trues\n",
        "df1"
      ],
      "metadata": {
        "colab": {
          "base_uri": "https://localhost:8080/",
          "height": 452
        },
        "id": "9ZVNe9yUjzI6",
        "outputId": "d5148405-473f-4731-899b-49bc10032407"
      },
      "execution_count": null,
      "outputs": [
        {
          "output_type": "execute_result",
          "data": {
            "text/plain": [
              "   ID        Site       Dept.Type           Job Title  \\\n",
              "0   1  Carrollton           DAPEC              PACKER   \n",
              "1   7     ARCADIA  LIVE RECEIVING       HANGER - LIVE   \n",
              "2   8     ARCADIA  CHILLER REHANG  REHANGER - CHILLER   \n",
              "3   9     ARCADIA  LIVE RECEIVING   OPERATOR - DRAWER   \n",
              "4  10     ARCADIA  CHILLER REHANG      OPERATOR - SAW   \n",
              "5  12      SUMTER  LIVE RECEIVING       HANGER - LIVE   \n",
              "6  13      SUMTER    EVISCERATION  HELPER - INSPECTOR   \n",
              "\n",
              "                                          Video Link     Created By  \\\n",
              "0  https://web.microsoftstream.com/video/2c5c33f7...  Barraza, Luis   \n",
              "1  https://web.microsoftstream.com/video/fcbf2847...  Barraza, Luis   \n",
              "2  https://web.microsoftstream.com/video/8e061752...  Barraza, Luis   \n",
              "3  https://web.microsoftstream.com/video/b5f0261a...  Barraza, Luis   \n",
              "4  https://web.microsoftstream.com/video/f29bd804...  Barraza, Luis   \n",
              "5  https://web.microsoftstream.com/video/3ed02be0...  Barraza, Luis   \n",
              "6  https://web.microsoftstream.com/video/1e8ff58f...  Barraza, Luis   \n",
              "\n",
              "             Created    Modified By            Modified  \n",
              "0  7/5/2021 10:47 PM  Barraza, Luis  7/19/2021 11:34 PM  \n",
              "1  9/6/2021 12:21 PM  Barraza, Luis   9/6/2021 12:21 PM  \n",
              "2  9/6/2021 12:23 PM  Barraza, Luis   9/6/2021 12:23 PM  \n",
              "3  9/6/2021 12:38 PM  Barraza, Luis    9/6/2021 5:21 PM  \n",
              "4  9/6/2021 12:50 PM  Barraza, Luis   9/6/2021 12:50 PM  \n",
              "5  9/7/2021 11:15 AM  Barraza, Luis   9/7/2021 11:15 AM  \n",
              "6  9/7/2021 11:16 AM  Barraza, Luis   9/7/2021 11:16 AM  "
            ],
            "text/html": [
              "\n",
              "  <div id=\"df-34e95cd8-a237-45b4-9f7a-a5da4848259e\">\n",
              "    <div class=\"colab-df-container\">\n",
              "      <div>\n",
              "<style scoped>\n",
              "    .dataframe tbody tr th:only-of-type {\n",
              "        vertical-align: middle;\n",
              "    }\n",
              "\n",
              "    .dataframe tbody tr th {\n",
              "        vertical-align: top;\n",
              "    }\n",
              "\n",
              "    .dataframe thead th {\n",
              "        text-align: right;\n",
              "    }\n",
              "</style>\n",
              "<table border=\"1\" class=\"dataframe\">\n",
              "  <thead>\n",
              "    <tr style=\"text-align: right;\">\n",
              "      <th></th>\n",
              "      <th>ID</th>\n",
              "      <th>Site</th>\n",
              "      <th>Dept.Type</th>\n",
              "      <th>Job Title</th>\n",
              "      <th>Video Link</th>\n",
              "      <th>Created By</th>\n",
              "      <th>Created</th>\n",
              "      <th>Modified By</th>\n",
              "      <th>Modified</th>\n",
              "    </tr>\n",
              "  </thead>\n",
              "  <tbody>\n",
              "    <tr>\n",
              "      <th>0</th>\n",
              "      <td>1</td>\n",
              "      <td>Carrollton</td>\n",
              "      <td>DAPEC</td>\n",
              "      <td>PACKER</td>\n",
              "      <td>https://web.microsoftstream.com/video/2c5c33f7...</td>\n",
              "      <td>Barraza, Luis</td>\n",
              "      <td>7/5/2021 10:47 PM</td>\n",
              "      <td>Barraza, Luis</td>\n",
              "      <td>7/19/2021 11:34 PM</td>\n",
              "    </tr>\n",
              "    <tr>\n",
              "      <th>1</th>\n",
              "      <td>7</td>\n",
              "      <td>ARCADIA</td>\n",
              "      <td>LIVE RECEIVING</td>\n",
              "      <td>HANGER - LIVE</td>\n",
              "      <td>https://web.microsoftstream.com/video/fcbf2847...</td>\n",
              "      <td>Barraza, Luis</td>\n",
              "      <td>9/6/2021 12:21 PM</td>\n",
              "      <td>Barraza, Luis</td>\n",
              "      <td>9/6/2021 12:21 PM</td>\n",
              "    </tr>\n",
              "    <tr>\n",
              "      <th>2</th>\n",
              "      <td>8</td>\n",
              "      <td>ARCADIA</td>\n",
              "      <td>CHILLER REHANG</td>\n",
              "      <td>REHANGER - CHILLER</td>\n",
              "      <td>https://web.microsoftstream.com/video/8e061752...</td>\n",
              "      <td>Barraza, Luis</td>\n",
              "      <td>9/6/2021 12:23 PM</td>\n",
              "      <td>Barraza, Luis</td>\n",
              "      <td>9/6/2021 12:23 PM</td>\n",
              "    </tr>\n",
              "    <tr>\n",
              "      <th>3</th>\n",
              "      <td>9</td>\n",
              "      <td>ARCADIA</td>\n",
              "      <td>LIVE RECEIVING</td>\n",
              "      <td>OPERATOR - DRAWER</td>\n",
              "      <td>https://web.microsoftstream.com/video/b5f0261a...</td>\n",
              "      <td>Barraza, Luis</td>\n",
              "      <td>9/6/2021 12:38 PM</td>\n",
              "      <td>Barraza, Luis</td>\n",
              "      <td>9/6/2021 5:21 PM</td>\n",
              "    </tr>\n",
              "    <tr>\n",
              "      <th>4</th>\n",
              "      <td>10</td>\n",
              "      <td>ARCADIA</td>\n",
              "      <td>CHILLER REHANG</td>\n",
              "      <td>OPERATOR - SAW</td>\n",
              "      <td>https://web.microsoftstream.com/video/f29bd804...</td>\n",
              "      <td>Barraza, Luis</td>\n",
              "      <td>9/6/2021 12:50 PM</td>\n",
              "      <td>Barraza, Luis</td>\n",
              "      <td>9/6/2021 12:50 PM</td>\n",
              "    </tr>\n",
              "    <tr>\n",
              "      <th>5</th>\n",
              "      <td>12</td>\n",
              "      <td>SUMTER</td>\n",
              "      <td>LIVE RECEIVING</td>\n",
              "      <td>HANGER - LIVE</td>\n",
              "      <td>https://web.microsoftstream.com/video/3ed02be0...</td>\n",
              "      <td>Barraza, Luis</td>\n",
              "      <td>9/7/2021 11:15 AM</td>\n",
              "      <td>Barraza, Luis</td>\n",
              "      <td>9/7/2021 11:15 AM</td>\n",
              "    </tr>\n",
              "    <tr>\n",
              "      <th>6</th>\n",
              "      <td>13</td>\n",
              "      <td>SUMTER</td>\n",
              "      <td>EVISCERATION</td>\n",
              "      <td>HELPER - INSPECTOR</td>\n",
              "      <td>https://web.microsoftstream.com/video/1e8ff58f...</td>\n",
              "      <td>Barraza, Luis</td>\n",
              "      <td>9/7/2021 11:16 AM</td>\n",
              "      <td>Barraza, Luis</td>\n",
              "      <td>9/7/2021 11:16 AM</td>\n",
              "    </tr>\n",
              "  </tbody>\n",
              "</table>\n",
              "</div>\n",
              "      <button class=\"colab-df-convert\" onclick=\"convertToInteractive('df-34e95cd8-a237-45b4-9f7a-a5da4848259e')\"\n",
              "              title=\"Convert this dataframe to an interactive table.\"\n",
              "              style=\"display:none;\">\n",
              "        \n",
              "  <svg xmlns=\"http://www.w3.org/2000/svg\" height=\"24px\"viewBox=\"0 0 24 24\"\n",
              "       width=\"24px\">\n",
              "    <path d=\"M0 0h24v24H0V0z\" fill=\"none\"/>\n",
              "    <path d=\"M18.56 5.44l.94 2.06.94-2.06 2.06-.94-2.06-.94-.94-2.06-.94 2.06-2.06.94zm-11 1L8.5 8.5l.94-2.06 2.06-.94-2.06-.94L8.5 2.5l-.94 2.06-2.06.94zm10 10l.94 2.06.94-2.06 2.06-.94-2.06-.94-.94-2.06-.94 2.06-2.06.94z\"/><path d=\"M17.41 7.96l-1.37-1.37c-.4-.4-.92-.59-1.43-.59-.52 0-1.04.2-1.43.59L10.3 9.45l-7.72 7.72c-.78.78-.78 2.05 0 2.83L4 21.41c.39.39.9.59 1.41.59.51 0 1.02-.2 1.41-.59l7.78-7.78 2.81-2.81c.8-.78.8-2.07 0-2.86zM5.41 20L4 18.59l7.72-7.72 1.47 1.35L5.41 20z\"/>\n",
              "  </svg>\n",
              "      </button>\n",
              "      \n",
              "  <style>\n",
              "    .colab-df-container {\n",
              "      display:flex;\n",
              "      flex-wrap:wrap;\n",
              "      gap: 12px;\n",
              "    }\n",
              "\n",
              "    .colab-df-convert {\n",
              "      background-color: #E8F0FE;\n",
              "      border: none;\n",
              "      border-radius: 50%;\n",
              "      cursor: pointer;\n",
              "      display: none;\n",
              "      fill: #1967D2;\n",
              "      height: 32px;\n",
              "      padding: 0 0 0 0;\n",
              "      width: 32px;\n",
              "    }\n",
              "\n",
              "    .colab-df-convert:hover {\n",
              "      background-color: #E2EBFA;\n",
              "      box-shadow: 0px 1px 2px rgba(60, 64, 67, 0.3), 0px 1px 3px 1px rgba(60, 64, 67, 0.15);\n",
              "      fill: #174EA6;\n",
              "    }\n",
              "\n",
              "    [theme=dark] .colab-df-convert {\n",
              "      background-color: #3B4455;\n",
              "      fill: #D2E3FC;\n",
              "    }\n",
              "\n",
              "    [theme=dark] .colab-df-convert:hover {\n",
              "      background-color: #434B5C;\n",
              "      box-shadow: 0px 1px 3px 1px rgba(0, 0, 0, 0.15);\n",
              "      filter: drop-shadow(0px 1px 2px rgba(0, 0, 0, 0.3));\n",
              "      fill: #FFFFFF;\n",
              "    }\n",
              "  </style>\n",
              "\n",
              "      <script>\n",
              "        const buttonEl =\n",
              "          document.querySelector('#df-34e95cd8-a237-45b4-9f7a-a5da4848259e button.colab-df-convert');\n",
              "        buttonEl.style.display =\n",
              "          google.colab.kernel.accessAllowed ? 'block' : 'none';\n",
              "\n",
              "        async function convertToInteractive(key) {\n",
              "          const element = document.querySelector('#df-34e95cd8-a237-45b4-9f7a-a5da4848259e');\n",
              "          const dataTable =\n",
              "            await google.colab.kernel.invokeFunction('convertToInteractive',\n",
              "                                                     [key], {});\n",
              "          if (!dataTable) return;\n",
              "\n",
              "          const docLinkHtml = 'Like what you see? Visit the ' +\n",
              "            '<a target=\"_blank\" href=https://colab.research.google.com/notebooks/data_table.ipynb>data table notebook</a>'\n",
              "            + ' to learn more about interactive tables.';\n",
              "          element.innerHTML = '';\n",
              "          dataTable['output_type'] = 'display_data';\n",
              "          await google.colab.output.renderOutput(dataTable, element);\n",
              "          const docLink = document.createElement('div');\n",
              "          docLink.innerHTML = docLinkHtml;\n",
              "          element.appendChild(docLink);\n",
              "        }\n",
              "      </script>\n",
              "    </div>\n",
              "  </div>\n",
              "  "
            ]
          },
          "metadata": {},
          "execution_count": 111
        }
      ]
    },
    {
      "cell_type": "code",
      "source": [
        "df1.to_csv('Items ID less 15') #to export the data frame to a csv"
      ],
      "metadata": {
        "id": "tTTu754ukg2V"
      },
      "execution_count": null,
      "outputs": []
    },
    {
      "cell_type": "code",
      "source": [
        "#question1\n",
        "import pandas as pd\n",
        "df=pd.DataFrame({'a': [1,2,1], 'b':[1,1,1]})\n",
        "df['a']==1"
      ],
      "metadata": {
        "colab": {
          "base_uri": "https://localhost:8080/"
        },
        "id": "xWtusd3Hkxj1",
        "outputId": "da441156-4ec5-4d45-a05f-bc5909eb356a"
      },
      "execution_count": null,
      "outputs": [
        {
          "output_type": "execute_result",
          "data": {
            "text/plain": [
              "0     True\n",
              "1    False\n",
              "2     True\n",
              "Name: a, dtype: bool"
            ]
          },
          "metadata": {},
          "execution_count": 115
        }
      ]
    },
    {
      "cell_type": "code",
      "source": [
        "#Module 4. Review questions\n",
        "with open('Standard Videos.csv','r') as file1:\n",
        "  FileContent = file1.readlines()\n",
        "  print(FileContent)"
      ],
      "metadata": {
        "id": "ObYFrZAqmHrC",
        "outputId": "3d2c6d73-c83e-4c36-ddb0-7ed9aff800b5",
        "colab": {
          "base_uri": "https://localhost:8080/"
        }
      },
      "execution_count": null,
      "outputs": [
        {
          "output_type": "stream",
          "name": "stdout",
          "text": [
            "['ID,Site,Dept.Type,Job Title,Video Link,Created By,Created,Modified By,Modified\\n', '\"1\",\"Carrollton\",\"DAPEC\",\"PACKER\",\"https://web.microsoftstream.com/video/2c5c33f7-a480-4881-b1b8-ebdef3c64644\",\"Barraza, Luis\",\"7/5/2021 10:47 PM\",\"Barraza, Luis\",\"7/19/2021 11:34 PM\"\\n', '\"7\",\"ARCADIA\",\"LIVE RECEIVING\",\"HANGER - LIVE\",\"https://web.microsoftstream.com/video/fcbf2847-0261-462a-a59b-2d7b29203234?channelId=d07f8c1f-fc74-4327-98c3-e81e640507bc\",\"Barraza, Luis\",\"9/6/2021 12:21 PM\",\"Barraza, Luis\",\"9/6/2021 12:21 PM\"\\n', '\"8\",\"ARCADIA\",\"CHILLER REHANG\",\"REHANGER - CHILLER\",\"https://web.microsoftstream.com/video/8e061752-cf34-4a11-8f4a-68fd813ad631?channelId=d07f8c1f-fc74-4327-98c3-e81e640507bc\",\"Barraza, Luis\",\"9/6/2021 12:23 PM\",\"Barraza, Luis\",\"9/6/2021 12:23 PM\"\\n', '\"9\",\"ARCADIA\",\"LIVE RECEIVING\",\"OPERATOR - DRAWER\",\"https://web.microsoftstream.com/video/b5f0261a-eef7-4dda-bc52-a25e6c247606?channelId=d07f8c1f-fc74-4327-98c3-e81e640507bc\",\"Barraza, Luis\",\"9/6/2021 12:38 PM\",\"Barraza, Luis\",\"9/6/2021 5:21 PM\"\\n', '\"10\",\"ARCADIA\",\"CHILLER REHANG\",\"OPERATOR - SAW\",\"https://web.microsoftstream.com/video/f29bd804-18eb-4fc7-9f91-d7ac6045f3ae?list=studio\",\"Barraza, Luis\",\"9/6/2021 12:50 PM\",\"Barraza, Luis\",\"9/6/2021 12:50 PM\"\\n', '\"12\",\"SUMTER\",\"LIVE RECEIVING\",\"HANGER - LIVE\",\"https://web.microsoftstream.com/video/3ed02be0-b235-46b7-9c6d-dddb42572091?channelId=53c00208-0a28-4c87-9070-84b8c3776d52\",\"Barraza, Luis\",\"9/7/2021 11:15 AM\",\"Barraza, Luis\",\"9/7/2021 11:15 AM\"\\n', '\"13\",\"SUMTER\",\"EVISCERATION\",\"HELPER - INSPECTOR\",\"https://web.microsoftstream.com/video/1e8ff58f-603d-4658-8de7-e5dfd64f83c0?channelId=53c00208-0a28-4c87-9070-84b8c3776d52\",\"Barraza, Luis\",\"9/7/2021 11:16 AM\",\"Barraza, Luis\",\"9/7/2021 11:16 AM\"\\n', '\"15\",\"ENTERPRISE\",\"DELI WOG\",\"LOADER - LINE\",\"https://web.microsoftstream.com/video/770e041d-9062-4ecf-a9f9-47152b34bfaf?channelId=d07f8c1f-fc74-4327-98c3-e81e640507bc\",\"Barraza, Luis\",\"11/24/2021 9:06 AM\",\"Barraza, Luis\",\"11/24/2021 9:06 AM\"\\n', '\"16\",\"ENTERPRISE\",\"DELI WOG\",\"STACKER\",\"https://web.microsoftstream.com/video/a5683730-a80a-4d59-8b10-2343c3587463?channelId=d07f8c1f-fc74-4327-98c3-e81e640507bc\",\"Barraza, Luis\",\"11/24/2021 9:13 AM\",\"Barraza, Luis\",\"11/24/2021 9:13 AM\"\\n', '\"17\",\"ENTERPRISE\",\"DELI WOG\",\"TUCKER - WING\",\"https://web.microsoftstream.com/video/b98bba2e-5d8b-4ef0-902b-ee19c6a47173?channelId=d07f8c1f-fc74-4327-98c3-e81e640507bc\",\"Barraza, Luis\",\"11/29/2021 11:50 AM\",\"Barraza, Luis\",\"11/29/2021 11:50 AM\"\\n', '\"18\",\"ENTERPRISE\",\"DELI WOG\",\"SIZER OPERATOR\",\"https://web.microsoftstream.com/video/303fec5b-2398-4af1-adda-d90769ed7c0b?channelId=d07f8c1f-fc74-4327-98c3-e81e640507bc\",\"Barraza, Luis\",\"11/29/2021 11:51 AM\",\"Barraza, Luis\",\"11/29/2021 11:51 AM\"\\n', '\"20\",\"MARSHVILLE\",\"THIGH DEBONE\",\"TRIMMER - THIGH\",\"https://web.microsoftstream.com/video/5cee8a65-fb2f-4c14-8385-c74c54db729a?list=studio\",\"Kuller, Stephen\",\"2/3/2022 12:03 PM\",\"Kuller, Stephen\",\"2/3/2022 12:03 PM\"\\n', '\"21\",\"BROADWAY\",\"MARINATION\",\"OPERATOR-CVP\",\"https://web.microsoftstream.com/video/5e3f6e78-979b-4826-9604-3126386b7a1a?list=studio\",\"Kuller, Stephen\",\"2/4/2022 6:58 AM\",\"Kuller, Stephen\",\"2/4/2022 6:58 AM\"\\n', '\"22\",\"NATCHITOCHES\",\"DELI WOG\",\"TRUSSER\",\"https://web.microsoftstream.com/video/a0a9c7f7-9de9-4d8c-ba2a-d8e05bc23fba?channelId=d07f8c1f-fc74-4327-98c3-e81e640507bc\",\"Diaz Flores Granados, Jaime\",\"2/4/2022 10:55 AM\",\"Diaz Flores Granados, Jaime\",\"2/4/2022 10:55 AM\"\\n', '\"23\",\"NATCHITOCHES\",\"DELI WOG\",\"LOADER - CONE\",\"https://web.microsoftstream.com/video/7b861b73-57bb-4217-8f0d-8cad7c5bc09c?list=studio\",\"Diaz Flores Granados, Jaime\",\"2/4/2022 11:39 AM\",\"Diaz Flores Granados, Jaime\",\"2/4/2022 11:39 AM\"\\n', '\"24\",\"NATCHITOCHES\",\"DELI WOG\",\"OPERATOR - CVP\",\"https://web.microsoftstream.com/video/8de15582-449c-435d-a5ff-a844bcb243af?list=studio\",\"Diaz Flores Granados, Jaime\",\"2/4/2022 11:51 AM\",\"Diaz Flores Granados, Jaime\",\"2/4/2022 11:51 AM\"\\n', '\"26\",\"ARCADIA\",\"DAPEC\",\"PACKER\",\"https://web.microsoftstream.com/video/4df68bad-bcbc-410d-9592-1e4516086da5?list=studio\",\"Barraza, Luis\",\"2/21/2022 12:52 PM\",\"Barraza, Luis\",\"2/21/2022 12:52 PM\"\\n', '\"27\",\"MOOREFIELD\",\"DAPEC\",\"PACKER\",\"https://web.microsoftstream.com/video/0f16b23c-e269-49e6-a73f-8e41ecbaba25?list=studio\",\"Diaz Flores Granados, Jaime\",\"2/21/2022 12:54 PM\",\"Diaz Flores Granados, Jaime\",\"2/21/2022 12:54 PM\"\\n', '\"28\",\"NATCHITOCHES\",\"DAPEC\",\"PACKER\",\"https://web.microsoftstream.com/video/263edc8f-8d02-4d93-ba33-a3aac2e50a50?list=studio\",\"Diaz Flores Granados, Jaime\",\"2/21/2022 1:18 PM\",\"Diaz Flores Granados, Jaime\",\"2/21/2022 1:18 PM\"\\n', '\"29\",\"ARCADIA\",\"LIVE RECEIVING\",\"OPERATOR - FORKLIFT\",\"https://web.microsoftstream.com/video/6ef64e79-75f6-4ade-ab4b-76388b5b4df3?list=studio\",\"Diaz Flores Granados, Jaime\",\"2/24/2022 9:41 AM\",\"Diaz Flores Granados, Jaime\",\"2/24/2022 9:41 AM\"\\n', '\"30\",\"ARCADIA\",\"RUB BIRDS\",\"OPERATOR - BAND SEALER\",\"https://web.microsoftstream.com/video/f1225497-21a0-4eea-b48d-28311f94a286?list=studio\",\"Diaz Flores Granados, Jaime\",\"2/24/2022 10:12 AM\",\"Diaz Flores Granados, Jaime\",\"2/24/2022 10:12 AM\"\\n', '\"31\",\"ARCADIA\",\"RUB BIRDS\",\"OPERATOR - BAGGER (INNER)\",\"https://web.microsoftstream.com/video/b1225cb1-dfed-42c8-ad60-091e2e2db839?list=studio\",\"Diaz Flores Granados, Jaime\",\"2/24/2022 10:15 AM\",\"Diaz Flores Granados, Jaime\",\"2/24/2022 10:15 AM\"\\n', '\"32\",\"ARCADIA\",\"RUB BIRDS\",\"OPERATOR - BAGGER (OUTER)\",\"https://web.microsoftstream.com/video/4899870a-af78-4600-aee2-17ccbb025066?list=studio\",\"Diaz Flores Granados, Jaime\",\"2/24/2022 10:21 AM\",\"Diaz Flores Granados, Jaime\",\"2/24/2022 10:21 AM\"\\n', '\"33\",\"ARCADIA\",\"RUB BIRDS\",\"OPERATOR - TIPER TIE\",\"https://web.microsoftstream.com/video/629eb3c8-d2b9-463a-8706-12b6eb6287bc?list=studio\",\"Diaz Flores Granados, Jaime\",\"2/24/2022 10:33 AM\",\"Diaz Flores Granados, Jaime\",\"2/24/2022 10:33 AM\"\\n', '\"34\",\"ARCADIA\",\"CORR VAC\",\"OPERATOR - CVP\",\"https://web.microsoftstream.com/video/6fa6a314-12f1-4e33-b69c-af221c3005e0?list=studio\",\"Diaz Flores Granados, Jaime\",\"2/24/2022 10:47 AM\",\"Diaz Flores Granados, Jaime\",\"2/24/2022 10:47 AM\"\\n', '\"35\",\"ARCADIA\",\"DAPEC\",\"OPERATOR - SCALE\",\"https://web.microsoftstream.com/video/6fa6a314-12f1-4e33-b69c-af221c3005e0?list=studio\",\"Diaz Flores Granados, Jaime\",\"2/24/2022 10:48 AM\",\"Diaz Flores Granados, Jaime\",\"2/24/2022 10:48 AM\"\\n', '\"36\",\"ENTERPRISE\",\"DAPEC\",\"PACKER\",\"https://web.microsoftstream.com/video/c3714123-39b4-4c1e-bce3-a8ba7c6b5a05?list=studio\",\"Diaz Flores Granados, Jaime\",\"3/2/2022 3:17 PM\",\"Diaz Flores Granados, Jaime\",\"3/2/2022 3:17 PM\"\\n', '\"37\",\"ARCADIA\",\"DAPEC\",\"REHANG - DAPEC\",\"https://web.microsoftstream.com/video/b9915283-f9cf-463e-bbff-70d651af7e81?list=studio\",\"Diaz Flores Granados, Jaime\",\"3/7/2022 3:34 PM\",\"Diaz Flores Granados, Jaime\",\"3/7/2022 3:34 PM\"\\n', '\"39\",\"ELLIJAY\",\"DAPEC\",\"PACKER\",\"https://web.microsoftstream.com/video/7f273aaf-35d0-4b88-8c16-2894e61e4633\",\"Cruz Gonzalez, Isaac\",\"3/18/2022 12:44 PM\",\"Cruz Gonzalez, Isaac\",\"3/18/2022 12:44 PM\"\\n', '\"40\",\"LIVE OAK\",\"DEBONE PACKOUT\",\"PACKER - TENDER\",\"https://web.microsoftstream.com/video/aa2f14f9-54eb-4abc-8d18-376a61b0dce7\\n', '\\n', 'https://web.microsoftstream.com/video/c52dbd66-7cc1-47f5-b501-ad0d132f37a8\",\"Santiago Rosas, Ramiro\",\"3/21/2022 11:26 AM\",\"Santiago Rosas, Ramiro\",\"3/21/2022 11:51 AM\"\\n', '\"41\",\"LIVE OAK\",\"DEBONE PACKOUT\",\"PACKER - BREAST\",\"https://web.microsoftstream.com/video/bc05eb10-6428-4c28-acb6-b4f1108eed8c\",\"Santiago Rosas, Ramiro\",\"3/21/2022 11:58 AM\",\"Santiago Rosas, Ramiro\",\"3/21/2022 11:58 AM\"\\n', '\"42\",\"LIVE OAK\",\"DEBONE PACKOUT\",\"LOADER - WINGS\",\"https://web.microsoftstream.com/video/89a90793-2726-4f9c-b07a-72dc23b6cd96\",\"Santiago Rosas, Ramiro\",\"3/21/2022 12:55 PM\",\"Santiago Rosas, Ramiro\",\"3/21/2022 12:55 PM\"\\n', '\"43\",\"LIVE OAK\",\"DEBONE PACKOUT\",\"PACKER\",\"https://web.microsoftstream.com/video/2da61c04-ba2a-43c4-96db-02f0c3167d32\",\"Santiago Rosas, Ramiro\",\"3/21/2022 12:56 PM\",\"Santiago Rosas, Ramiro\",\"3/21/2022 12:56 PM\"\\n', '\"44\",\"LIVE OAK\",\"DEBONE PACKOUT\",\"PACKER - WINGS\",\"https://web.microsoftstream.com/video/a339cff4-1cc1-4b50-818e-7ff3a2397f2b\",\"Santiago Rosas, Ramiro\",\"3/21/2022 12:57 PM\",\"Santiago Rosas, Ramiro\",\"3/21/2022 12:57 PM\"\\n', '\"45\",\"LIVE OAK\",\"DEBONE\",\"TRIMMER - BREAST\",\"https://web.microsoftstream.com/video/3f2ef0e2-b8ee-43dc-8f9b-f2e4f7c078b4\",\"Santiago Rosas, Ramiro\",\"4/29/2022 7:51 AM\",\"Santiago Rosas, Ramiro\",\"4/29/2022 7:55 AM\"\\n', '\"46\",\"LIVE OAK\",\"DEBONE\",\"LOADER\",\"https://web.microsoftstream.com/video/3ed83328-4254-43a2-8129-a34e0d0a50e3\",\"Santiago Rosas, Ramiro\",\"4/29/2022 8:26 AM\",\"Santiago Rosas, Ramiro\",\"4/29/2022 8:26 AM\"\\n']\n"
          ]
        }
      ]
    },
    {
      "cell_type": "markdown",
      "source": [
        "#Module 4 - Lab Intruduccion to Pandas in Python"
      ],
      "metadata": {
        "id": "fCbNWU7MFxII"
      }
    },
    {
      "cell_type": "code",
      "source": [
        "#Donwload files to work the lab from a share folder\n",
        "\n",
        "from google.colab import drive\n",
        "drive.mount('/content/drive')\n",
        "\n",
        "filenamepath = \"/content/drive/Shareddrives/IBM Labs shared/Modulo4/TopSellingAlbums.csv\"\n",
        "\n"
      ],
      "metadata": {
        "id": "sz8hBCX7H4d_",
        "outputId": "66f96dfd-88e3-49cb-cb91-ef408dfd58e2",
        "colab": {
          "base_uri": "https://localhost:8080/"
        }
      },
      "execution_count": null,
      "outputs": [
        {
          "output_type": "stream",
          "name": "stdout",
          "text": [
            "Mounted at /content/drive\n"
          ]
        }
      ]
    },
    {
      "cell_type": "code",
      "source": [
        "import pandas as pd\n",
        "df = pd.read_csv(filenamepath)\n",
        "df.head()"
      ],
      "metadata": {
        "id": "VCoKhKrKJXgr",
        "outputId": "de7ff89d-2481-44bd-a356-ed1498d3779f",
        "colab": {
          "base_uri": "https://localhost:8080/",
          "height": 206
        }
      },
      "execution_count": null,
      "outputs": [
        {
          "output_type": "execute_result",
          "data": {
            "text/plain": [
              "            Artist                      Album  Released   Length  \\\n",
              "0  Michael Jackson                   Thriller      1982  0:42:19   \n",
              "1            AC/DC              Back in Black      1980  0:42:11   \n",
              "2       Pink Floyd  The Dark Side of the Moon      1973  0:42:49   \n",
              "3  Whitney Houston              The Bodyguard      1992  0:57:44   \n",
              "4        Meat Loaf            Bat Out of Hell      1977  0:46:33   \n",
              "\n",
              "                         Genre  Music Recording Sales (millions)  \\\n",
              "0               pop, rock, R&B                              46.0   \n",
              "1                    hard rock                              26.1   \n",
              "2             progressive rock                              24.2   \n",
              "3               R&B, soul, pop                              27.4   \n",
              "4  hard rock, progressive rock                              20.6   \n",
              "\n",
              "   Claimed Sales (millions) Released.1 Soundtrack  Rating  \n",
              "0                        65  30-Nov-82        NaN    10.0  \n",
              "1                        50  25-Jul-80        NaN     9.5  \n",
              "2                        45  01-Mar-73        NaN     9.0  \n",
              "3                        44  17-Nov-92          Y     8.5  \n",
              "4                        43  21-Oct-77        NaN     8.0  "
            ],
            "text/html": [
              "\n",
              "  <div id=\"df-3f79abc4-f9e5-422c-b63c-2cf390d364a0\">\n",
              "    <div class=\"colab-df-container\">\n",
              "      <div>\n",
              "<style scoped>\n",
              "    .dataframe tbody tr th:only-of-type {\n",
              "        vertical-align: middle;\n",
              "    }\n",
              "\n",
              "    .dataframe tbody tr th {\n",
              "        vertical-align: top;\n",
              "    }\n",
              "\n",
              "    .dataframe thead th {\n",
              "        text-align: right;\n",
              "    }\n",
              "</style>\n",
              "<table border=\"1\" class=\"dataframe\">\n",
              "  <thead>\n",
              "    <tr style=\"text-align: right;\">\n",
              "      <th></th>\n",
              "      <th>Artist</th>\n",
              "      <th>Album</th>\n",
              "      <th>Released</th>\n",
              "      <th>Length</th>\n",
              "      <th>Genre</th>\n",
              "      <th>Music Recording Sales (millions)</th>\n",
              "      <th>Claimed Sales (millions)</th>\n",
              "      <th>Released.1</th>\n",
              "      <th>Soundtrack</th>\n",
              "      <th>Rating</th>\n",
              "    </tr>\n",
              "  </thead>\n",
              "  <tbody>\n",
              "    <tr>\n",
              "      <th>0</th>\n",
              "      <td>Michael Jackson</td>\n",
              "      <td>Thriller</td>\n",
              "      <td>1982</td>\n",
              "      <td>0:42:19</td>\n",
              "      <td>pop, rock, R&amp;B</td>\n",
              "      <td>46.0</td>\n",
              "      <td>65</td>\n",
              "      <td>30-Nov-82</td>\n",
              "      <td>NaN</td>\n",
              "      <td>10.0</td>\n",
              "    </tr>\n",
              "    <tr>\n",
              "      <th>1</th>\n",
              "      <td>AC/DC</td>\n",
              "      <td>Back in Black</td>\n",
              "      <td>1980</td>\n",
              "      <td>0:42:11</td>\n",
              "      <td>hard rock</td>\n",
              "      <td>26.1</td>\n",
              "      <td>50</td>\n",
              "      <td>25-Jul-80</td>\n",
              "      <td>NaN</td>\n",
              "      <td>9.5</td>\n",
              "    </tr>\n",
              "    <tr>\n",
              "      <th>2</th>\n",
              "      <td>Pink Floyd</td>\n",
              "      <td>The Dark Side of the Moon</td>\n",
              "      <td>1973</td>\n",
              "      <td>0:42:49</td>\n",
              "      <td>progressive rock</td>\n",
              "      <td>24.2</td>\n",
              "      <td>45</td>\n",
              "      <td>01-Mar-73</td>\n",
              "      <td>NaN</td>\n",
              "      <td>9.0</td>\n",
              "    </tr>\n",
              "    <tr>\n",
              "      <th>3</th>\n",
              "      <td>Whitney Houston</td>\n",
              "      <td>The Bodyguard</td>\n",
              "      <td>1992</td>\n",
              "      <td>0:57:44</td>\n",
              "      <td>R&amp;B, soul, pop</td>\n",
              "      <td>27.4</td>\n",
              "      <td>44</td>\n",
              "      <td>17-Nov-92</td>\n",
              "      <td>Y</td>\n",
              "      <td>8.5</td>\n",
              "    </tr>\n",
              "    <tr>\n",
              "      <th>4</th>\n",
              "      <td>Meat Loaf</td>\n",
              "      <td>Bat Out of Hell</td>\n",
              "      <td>1977</td>\n",
              "      <td>0:46:33</td>\n",
              "      <td>hard rock, progressive rock</td>\n",
              "      <td>20.6</td>\n",
              "      <td>43</td>\n",
              "      <td>21-Oct-77</td>\n",
              "      <td>NaN</td>\n",
              "      <td>8.0</td>\n",
              "    </tr>\n",
              "  </tbody>\n",
              "</table>\n",
              "</div>\n",
              "      <button class=\"colab-df-convert\" onclick=\"convertToInteractive('df-3f79abc4-f9e5-422c-b63c-2cf390d364a0')\"\n",
              "              title=\"Convert this dataframe to an interactive table.\"\n",
              "              style=\"display:none;\">\n",
              "        \n",
              "  <svg xmlns=\"http://www.w3.org/2000/svg\" height=\"24px\"viewBox=\"0 0 24 24\"\n",
              "       width=\"24px\">\n",
              "    <path d=\"M0 0h24v24H0V0z\" fill=\"none\"/>\n",
              "    <path d=\"M18.56 5.44l.94 2.06.94-2.06 2.06-.94-2.06-.94-.94-2.06-.94 2.06-2.06.94zm-11 1L8.5 8.5l.94-2.06 2.06-.94-2.06-.94L8.5 2.5l-.94 2.06-2.06.94zm10 10l.94 2.06.94-2.06 2.06-.94-2.06-.94-.94-2.06-.94 2.06-2.06.94z\"/><path d=\"M17.41 7.96l-1.37-1.37c-.4-.4-.92-.59-1.43-.59-.52 0-1.04.2-1.43.59L10.3 9.45l-7.72 7.72c-.78.78-.78 2.05 0 2.83L4 21.41c.39.39.9.59 1.41.59.51 0 1.02-.2 1.41-.59l7.78-7.78 2.81-2.81c.8-.78.8-2.07 0-2.86zM5.41 20L4 18.59l7.72-7.72 1.47 1.35L5.41 20z\"/>\n",
              "  </svg>\n",
              "      </button>\n",
              "      \n",
              "  <style>\n",
              "    .colab-df-container {\n",
              "      display:flex;\n",
              "      flex-wrap:wrap;\n",
              "      gap: 12px;\n",
              "    }\n",
              "\n",
              "    .colab-df-convert {\n",
              "      background-color: #E8F0FE;\n",
              "      border: none;\n",
              "      border-radius: 50%;\n",
              "      cursor: pointer;\n",
              "      display: none;\n",
              "      fill: #1967D2;\n",
              "      height: 32px;\n",
              "      padding: 0 0 0 0;\n",
              "      width: 32px;\n",
              "    }\n",
              "\n",
              "    .colab-df-convert:hover {\n",
              "      background-color: #E2EBFA;\n",
              "      box-shadow: 0px 1px 2px rgba(60, 64, 67, 0.3), 0px 1px 3px 1px rgba(60, 64, 67, 0.15);\n",
              "      fill: #174EA6;\n",
              "    }\n",
              "\n",
              "    [theme=dark] .colab-df-convert {\n",
              "      background-color: #3B4455;\n",
              "      fill: #D2E3FC;\n",
              "    }\n",
              "\n",
              "    [theme=dark] .colab-df-convert:hover {\n",
              "      background-color: #434B5C;\n",
              "      box-shadow: 0px 1px 3px 1px rgba(0, 0, 0, 0.15);\n",
              "      filter: drop-shadow(0px 1px 2px rgba(0, 0, 0, 0.3));\n",
              "      fill: #FFFFFF;\n",
              "    }\n",
              "  </style>\n",
              "\n",
              "      <script>\n",
              "        const buttonEl =\n",
              "          document.querySelector('#df-3f79abc4-f9e5-422c-b63c-2cf390d364a0 button.colab-df-convert');\n",
              "        buttonEl.style.display =\n",
              "          google.colab.kernel.accessAllowed ? 'block' : 'none';\n",
              "\n",
              "        async function convertToInteractive(key) {\n",
              "          const element = document.querySelector('#df-3f79abc4-f9e5-422c-b63c-2cf390d364a0');\n",
              "          const dataTable =\n",
              "            await google.colab.kernel.invokeFunction('convertToInteractive',\n",
              "                                                     [key], {});\n",
              "          if (!dataTable) return;\n",
              "\n",
              "          const docLinkHtml = 'Like what you see? Visit the ' +\n",
              "            '<a target=\"_blank\" href=https://colab.research.google.com/notebooks/data_table.ipynb>data table notebook</a>'\n",
              "            + ' to learn more about interactive tables.';\n",
              "          element.innerHTML = '';\n",
              "          dataTable['output_type'] = 'display_data';\n",
              "          await google.colab.output.renderOutput(dataTable, element);\n",
              "          const docLink = document.createElement('div');\n",
              "          docLink.innerHTML = docLinkHtml;\n",
              "          element.appendChild(docLink);\n",
              "        }\n",
              "      </script>\n",
              "    </div>\n",
              "  </div>\n",
              "  "
            ]
          },
          "metadata": {},
          "execution_count": 3
        }
      ]
    },
    {
      "cell_type": "code",
      "source": [
        "#access column \"length\"\n",
        "x = df[['Length']] #with this we create a dataframe called x with the \"Length\" column information\n",
        "x"
      ],
      "metadata": {
        "id": "hJFbchPpJw76",
        "outputId": "b3db715b-5d32-470b-82e2-0135820bc7fa",
        "colab": {
          "base_uri": "https://localhost:8080/",
          "height": 300
        }
      },
      "execution_count": null,
      "outputs": [
        {
          "output_type": "execute_result",
          "data": {
            "text/plain": [
              "    Length\n",
              "0  0:42:19\n",
              "1  0:42:11\n",
              "2  0:42:49\n",
              "3  0:57:44\n",
              "4  0:46:33\n",
              "5  0:43:08\n",
              "6  1:15:54\n",
              "7  0:40:01"
            ],
            "text/html": [
              "\n",
              "  <div id=\"df-a38578a2-89ee-4a8c-b1a8-1fc775eb0716\">\n",
              "    <div class=\"colab-df-container\">\n",
              "      <div>\n",
              "<style scoped>\n",
              "    .dataframe tbody tr th:only-of-type {\n",
              "        vertical-align: middle;\n",
              "    }\n",
              "\n",
              "    .dataframe tbody tr th {\n",
              "        vertical-align: top;\n",
              "    }\n",
              "\n",
              "    .dataframe thead th {\n",
              "        text-align: right;\n",
              "    }\n",
              "</style>\n",
              "<table border=\"1\" class=\"dataframe\">\n",
              "  <thead>\n",
              "    <tr style=\"text-align: right;\">\n",
              "      <th></th>\n",
              "      <th>Length</th>\n",
              "    </tr>\n",
              "  </thead>\n",
              "  <tbody>\n",
              "    <tr>\n",
              "      <th>0</th>\n",
              "      <td>0:42:19</td>\n",
              "    </tr>\n",
              "    <tr>\n",
              "      <th>1</th>\n",
              "      <td>0:42:11</td>\n",
              "    </tr>\n",
              "    <tr>\n",
              "      <th>2</th>\n",
              "      <td>0:42:49</td>\n",
              "    </tr>\n",
              "    <tr>\n",
              "      <th>3</th>\n",
              "      <td>0:57:44</td>\n",
              "    </tr>\n",
              "    <tr>\n",
              "      <th>4</th>\n",
              "      <td>0:46:33</td>\n",
              "    </tr>\n",
              "    <tr>\n",
              "      <th>5</th>\n",
              "      <td>0:43:08</td>\n",
              "    </tr>\n",
              "    <tr>\n",
              "      <th>6</th>\n",
              "      <td>1:15:54</td>\n",
              "    </tr>\n",
              "    <tr>\n",
              "      <th>7</th>\n",
              "      <td>0:40:01</td>\n",
              "    </tr>\n",
              "  </tbody>\n",
              "</table>\n",
              "</div>\n",
              "      <button class=\"colab-df-convert\" onclick=\"convertToInteractive('df-a38578a2-89ee-4a8c-b1a8-1fc775eb0716')\"\n",
              "              title=\"Convert this dataframe to an interactive table.\"\n",
              "              style=\"display:none;\">\n",
              "        \n",
              "  <svg xmlns=\"http://www.w3.org/2000/svg\" height=\"24px\"viewBox=\"0 0 24 24\"\n",
              "       width=\"24px\">\n",
              "    <path d=\"M0 0h24v24H0V0z\" fill=\"none\"/>\n",
              "    <path d=\"M18.56 5.44l.94 2.06.94-2.06 2.06-.94-2.06-.94-.94-2.06-.94 2.06-2.06.94zm-11 1L8.5 8.5l.94-2.06 2.06-.94-2.06-.94L8.5 2.5l-.94 2.06-2.06.94zm10 10l.94 2.06.94-2.06 2.06-.94-2.06-.94-.94-2.06-.94 2.06-2.06.94z\"/><path d=\"M17.41 7.96l-1.37-1.37c-.4-.4-.92-.59-1.43-.59-.52 0-1.04.2-1.43.59L10.3 9.45l-7.72 7.72c-.78.78-.78 2.05 0 2.83L4 21.41c.39.39.9.59 1.41.59.51 0 1.02-.2 1.41-.59l7.78-7.78 2.81-2.81c.8-.78.8-2.07 0-2.86zM5.41 20L4 18.59l7.72-7.72 1.47 1.35L5.41 20z\"/>\n",
              "  </svg>\n",
              "      </button>\n",
              "      \n",
              "  <style>\n",
              "    .colab-df-container {\n",
              "      display:flex;\n",
              "      flex-wrap:wrap;\n",
              "      gap: 12px;\n",
              "    }\n",
              "\n",
              "    .colab-df-convert {\n",
              "      background-color: #E8F0FE;\n",
              "      border: none;\n",
              "      border-radius: 50%;\n",
              "      cursor: pointer;\n",
              "      display: none;\n",
              "      fill: #1967D2;\n",
              "      height: 32px;\n",
              "      padding: 0 0 0 0;\n",
              "      width: 32px;\n",
              "    }\n",
              "\n",
              "    .colab-df-convert:hover {\n",
              "      background-color: #E2EBFA;\n",
              "      box-shadow: 0px 1px 2px rgba(60, 64, 67, 0.3), 0px 1px 3px 1px rgba(60, 64, 67, 0.15);\n",
              "      fill: #174EA6;\n",
              "    }\n",
              "\n",
              "    [theme=dark] .colab-df-convert {\n",
              "      background-color: #3B4455;\n",
              "      fill: #D2E3FC;\n",
              "    }\n",
              "\n",
              "    [theme=dark] .colab-df-convert:hover {\n",
              "      background-color: #434B5C;\n",
              "      box-shadow: 0px 1px 3px 1px rgba(0, 0, 0, 0.15);\n",
              "      filter: drop-shadow(0px 1px 2px rgba(0, 0, 0, 0.3));\n",
              "      fill: #FFFFFF;\n",
              "    }\n",
              "  </style>\n",
              "\n",
              "      <script>\n",
              "        const buttonEl =\n",
              "          document.querySelector('#df-a38578a2-89ee-4a8c-b1a8-1fc775eb0716 button.colab-df-convert');\n",
              "        buttonEl.style.display =\n",
              "          google.colab.kernel.accessAllowed ? 'block' : 'none';\n",
              "\n",
              "        async function convertToInteractive(key) {\n",
              "          const element = document.querySelector('#df-a38578a2-89ee-4a8c-b1a8-1fc775eb0716');\n",
              "          const dataTable =\n",
              "            await google.colab.kernel.invokeFunction('convertToInteractive',\n",
              "                                                     [key], {});\n",
              "          if (!dataTable) return;\n",
              "\n",
              "          const docLinkHtml = 'Like what you see? Visit the ' +\n",
              "            '<a target=\"_blank\" href=https://colab.research.google.com/notebooks/data_table.ipynb>data table notebook</a>'\n",
              "            + ' to learn more about interactive tables.';\n",
              "          element.innerHTML = '';\n",
              "          dataTable['output_type'] = 'display_data';\n",
              "          await google.colab.output.renderOutput(dataTable, element);\n",
              "          const docLink = document.createElement('div');\n",
              "          docLink.innerHTML = docLinkHtml;\n",
              "          element.appendChild(docLink);\n",
              "        }\n",
              "      </script>\n",
              "    </div>\n",
              "  </div>\n",
              "  "
            ]
          },
          "metadata": {},
          "execution_count": 8
        }
      ]
    },
    {
      "cell_type": "code",
      "source": [
        "type(x)"
      ],
      "metadata": {
        "id": "D7JqYORiKOM2",
        "outputId": "1d979d4a-99c4-4bcc-830d-3d4d49ac8caa",
        "colab": {
          "base_uri": "https://localhost:8080/"
        }
      },
      "execution_count": null,
      "outputs": [
        {
          "output_type": "execute_result",
          "data": {
            "text/plain": [
              "pandas.core.frame.DataFrame"
            ]
          },
          "metadata": {},
          "execution_count": 9
        }
      ]
    },
    {
      "cell_type": "code",
      "source": [
        "#get the column as a series\n",
        "x = df['Length']\n",
        "x"
      ],
      "metadata": {
        "id": "ok8WQWJ5KE6A",
        "outputId": "2e619742-1e2d-4a13-bfd8-0764c028514d",
        "colab": {
          "base_uri": "https://localhost:8080/"
        }
      },
      "execution_count": null,
      "outputs": [
        {
          "output_type": "execute_result",
          "data": {
            "text/plain": [
              "0    0:42:19\n",
              "1    0:42:11\n",
              "2    0:42:49\n",
              "3    0:57:44\n",
              "4    0:46:33\n",
              "5    0:43:08\n",
              "6    1:15:54\n",
              "7    0:40:01\n",
              "Name: Length, dtype: object"
            ]
          },
          "metadata": {},
          "execution_count": 10
        }
      ]
    },
    {
      "cell_type": "code",
      "source": [
        "type(x)"
      ],
      "metadata": {
        "id": "oY9-zCO6KY5q",
        "outputId": "56dbc98b-637c-4e99-9c48-244a9ba1f1bf",
        "colab": {
          "base_uri": "https://localhost:8080/"
        }
      },
      "execution_count": null,
      "outputs": [
        {
          "output_type": "execute_result",
          "data": {
            "text/plain": [
              "pandas.core.series.Series"
            ]
          },
          "metadata": {},
          "execution_count": 11
        }
      ]
    },
    {
      "cell_type": "code",
      "source": [
        "#create a dataframe with multiple columns\n",
        "y = df[['Artist','Length','Genre']]\n",
        "y"
      ],
      "metadata": {
        "id": "gZGpinqpKiep",
        "outputId": "b1ad7db2-4e91-47f6-a5c3-158d9fb0a6fc",
        "colab": {
          "base_uri": "https://localhost:8080/",
          "height": 300
        }
      },
      "execution_count": null,
      "outputs": [
        {
          "output_type": "execute_result",
          "data": {
            "text/plain": [
              "            Artist   Length                        Genre\n",
              "0  Michael Jackson  0:42:19               pop, rock, R&B\n",
              "1            AC/DC  0:42:11                    hard rock\n",
              "2       Pink Floyd  0:42:49             progressive rock\n",
              "3  Whitney Houston  0:57:44               R&B, soul, pop\n",
              "4        Meat Loaf  0:46:33  hard rock, progressive rock\n",
              "5           Eagles  0:43:08   rock, soft rock, folk rock\n",
              "6         Bee Gees  1:15:54                        disco\n",
              "7    Fleetwood Mac  0:40:01                    soft rock"
            ],
            "text/html": [
              "\n",
              "  <div id=\"df-fc9c97da-2054-4431-8992-47dd4fdf5de1\">\n",
              "    <div class=\"colab-df-container\">\n",
              "      <div>\n",
              "<style scoped>\n",
              "    .dataframe tbody tr th:only-of-type {\n",
              "        vertical-align: middle;\n",
              "    }\n",
              "\n",
              "    .dataframe tbody tr th {\n",
              "        vertical-align: top;\n",
              "    }\n",
              "\n",
              "    .dataframe thead th {\n",
              "        text-align: right;\n",
              "    }\n",
              "</style>\n",
              "<table border=\"1\" class=\"dataframe\">\n",
              "  <thead>\n",
              "    <tr style=\"text-align: right;\">\n",
              "      <th></th>\n",
              "      <th>Artist</th>\n",
              "      <th>Length</th>\n",
              "      <th>Genre</th>\n",
              "    </tr>\n",
              "  </thead>\n",
              "  <tbody>\n",
              "    <tr>\n",
              "      <th>0</th>\n",
              "      <td>Michael Jackson</td>\n",
              "      <td>0:42:19</td>\n",
              "      <td>pop, rock, R&amp;B</td>\n",
              "    </tr>\n",
              "    <tr>\n",
              "      <th>1</th>\n",
              "      <td>AC/DC</td>\n",
              "      <td>0:42:11</td>\n",
              "      <td>hard rock</td>\n",
              "    </tr>\n",
              "    <tr>\n",
              "      <th>2</th>\n",
              "      <td>Pink Floyd</td>\n",
              "      <td>0:42:49</td>\n",
              "      <td>progressive rock</td>\n",
              "    </tr>\n",
              "    <tr>\n",
              "      <th>3</th>\n",
              "      <td>Whitney Houston</td>\n",
              "      <td>0:57:44</td>\n",
              "      <td>R&amp;B, soul, pop</td>\n",
              "    </tr>\n",
              "    <tr>\n",
              "      <th>4</th>\n",
              "      <td>Meat Loaf</td>\n",
              "      <td>0:46:33</td>\n",
              "      <td>hard rock, progressive rock</td>\n",
              "    </tr>\n",
              "    <tr>\n",
              "      <th>5</th>\n",
              "      <td>Eagles</td>\n",
              "      <td>0:43:08</td>\n",
              "      <td>rock, soft rock, folk rock</td>\n",
              "    </tr>\n",
              "    <tr>\n",
              "      <th>6</th>\n",
              "      <td>Bee Gees</td>\n",
              "      <td>1:15:54</td>\n",
              "      <td>disco</td>\n",
              "    </tr>\n",
              "    <tr>\n",
              "      <th>7</th>\n",
              "      <td>Fleetwood Mac</td>\n",
              "      <td>0:40:01</td>\n",
              "      <td>soft rock</td>\n",
              "    </tr>\n",
              "  </tbody>\n",
              "</table>\n",
              "</div>\n",
              "      <button class=\"colab-df-convert\" onclick=\"convertToInteractive('df-fc9c97da-2054-4431-8992-47dd4fdf5de1')\"\n",
              "              title=\"Convert this dataframe to an interactive table.\"\n",
              "              style=\"display:none;\">\n",
              "        \n",
              "  <svg xmlns=\"http://www.w3.org/2000/svg\" height=\"24px\"viewBox=\"0 0 24 24\"\n",
              "       width=\"24px\">\n",
              "    <path d=\"M0 0h24v24H0V0z\" fill=\"none\"/>\n",
              "    <path d=\"M18.56 5.44l.94 2.06.94-2.06 2.06-.94-2.06-.94-.94-2.06-.94 2.06-2.06.94zm-11 1L8.5 8.5l.94-2.06 2.06-.94-2.06-.94L8.5 2.5l-.94 2.06-2.06.94zm10 10l.94 2.06.94-2.06 2.06-.94-2.06-.94-.94-2.06-.94 2.06-2.06.94z\"/><path d=\"M17.41 7.96l-1.37-1.37c-.4-.4-.92-.59-1.43-.59-.52 0-1.04.2-1.43.59L10.3 9.45l-7.72 7.72c-.78.78-.78 2.05 0 2.83L4 21.41c.39.39.9.59 1.41.59.51 0 1.02-.2 1.41-.59l7.78-7.78 2.81-2.81c.8-.78.8-2.07 0-2.86zM5.41 20L4 18.59l7.72-7.72 1.47 1.35L5.41 20z\"/>\n",
              "  </svg>\n",
              "      </button>\n",
              "      \n",
              "  <style>\n",
              "    .colab-df-container {\n",
              "      display:flex;\n",
              "      flex-wrap:wrap;\n",
              "      gap: 12px;\n",
              "    }\n",
              "\n",
              "    .colab-df-convert {\n",
              "      background-color: #E8F0FE;\n",
              "      border: none;\n",
              "      border-radius: 50%;\n",
              "      cursor: pointer;\n",
              "      display: none;\n",
              "      fill: #1967D2;\n",
              "      height: 32px;\n",
              "      padding: 0 0 0 0;\n",
              "      width: 32px;\n",
              "    }\n",
              "\n",
              "    .colab-df-convert:hover {\n",
              "      background-color: #E2EBFA;\n",
              "      box-shadow: 0px 1px 2px rgba(60, 64, 67, 0.3), 0px 1px 3px 1px rgba(60, 64, 67, 0.15);\n",
              "      fill: #174EA6;\n",
              "    }\n",
              "\n",
              "    [theme=dark] .colab-df-convert {\n",
              "      background-color: #3B4455;\n",
              "      fill: #D2E3FC;\n",
              "    }\n",
              "\n",
              "    [theme=dark] .colab-df-convert:hover {\n",
              "      background-color: #434B5C;\n",
              "      box-shadow: 0px 1px 3px 1px rgba(0, 0, 0, 0.15);\n",
              "      filter: drop-shadow(0px 1px 2px rgba(0, 0, 0, 0.3));\n",
              "      fill: #FFFFFF;\n",
              "    }\n",
              "  </style>\n",
              "\n",
              "      <script>\n",
              "        const buttonEl =\n",
              "          document.querySelector('#df-fc9c97da-2054-4431-8992-47dd4fdf5de1 button.colab-df-convert');\n",
              "        buttonEl.style.display =\n",
              "          google.colab.kernel.accessAllowed ? 'block' : 'none';\n",
              "\n",
              "        async function convertToInteractive(key) {\n",
              "          const element = document.querySelector('#df-fc9c97da-2054-4431-8992-47dd4fdf5de1');\n",
              "          const dataTable =\n",
              "            await google.colab.kernel.invokeFunction('convertToInteractive',\n",
              "                                                     [key], {});\n",
              "          if (!dataTable) return;\n",
              "\n",
              "          const docLinkHtml = 'Like what you see? Visit the ' +\n",
              "            '<a target=\"_blank\" href=https://colab.research.google.com/notebooks/data_table.ipynb>data table notebook</a>'\n",
              "            + ' to learn more about interactive tables.';\n",
              "          element.innerHTML = '';\n",
              "          dataTable['output_type'] = 'display_data';\n",
              "          await google.colab.output.renderOutput(dataTable, element);\n",
              "          const docLink = document.createElement('div');\n",
              "          docLink.innerHTML = docLinkHtml;\n",
              "          element.appendChild(docLink);\n",
              "        }\n",
              "      </script>\n",
              "    </div>\n",
              "  </div>\n",
              "  "
            ]
          },
          "metadata": {},
          "execution_count": 12
        }
      ]
    },
    {
      "cell_type": "markdown",
      "source": [
        "**As we saw in the videos we can access a datframe value with iloc, df.iloc[row,colum]** <br>\n",
        "**it is important that row and columns are numbers**\n"
      ],
      "metadata": {
        "id": "JnvyuT2EK_1t"
      }
    },
    {
      "cell_type": "code",
      "source": [
        "#access 1st row 1st column\n",
        "df.iloc[0,0]"
      ],
      "metadata": {
        "id": "ZTDzZW8BLJfa",
        "outputId": "0ba33693-4c47-40b2-d52c-c6908affc7ed",
        "colab": {
          "base_uri": "https://localhost:8080/",
          "height": 35
        }
      },
      "execution_count": null,
      "outputs": [
        {
          "output_type": "execute_result",
          "data": {
            "text/plain": [
              "'Michael Jackson'"
            ],
            "application/vnd.google.colaboratory.intrinsic+json": {
              "type": "string"
            }
          },
          "metadata": {},
          "execution_count": 13
        }
      ]
    },
    {
      "cell_type": "code",
      "source": [
        "#access 2nd row 1st column\n",
        "df.iloc[1,0]"
      ],
      "metadata": {
        "id": "Sm0rbmHILZxr",
        "outputId": "012f08e4-83a0-4351-cad7-e0878de92018",
        "colab": {
          "base_uri": "https://localhost:8080/",
          "height": 35
        }
      },
      "execution_count": null,
      "outputs": [
        {
          "output_type": "execute_result",
          "data": {
            "text/plain": [
              "'AC/DC'"
            ],
            "application/vnd.google.colaboratory.intrinsic+json": {
              "type": "string"
            }
          },
          "metadata": {},
          "execution_count": 14
        }
      ]
    },
    {
      "cell_type": "markdown",
      "source": [
        "**also we can access the location using df.loc, the difference is that here we use the name of the columns**"
      ],
      "metadata": {
        "id": "uULVz4asLwKO"
      }
    },
    {
      "cell_type": "code",
      "source": [
        "#accss 2nd row, 1st columns\n",
        "df.loc[1,'Artist']"
      ],
      "metadata": {
        "id": "t2DObXr3L6Fk",
        "outputId": "25413da2-976d-4da8-961e-39314e97f883",
        "colab": {
          "base_uri": "https://localhost:8080/",
          "height": 35
        }
      },
      "execution_count": null,
      "outputs": [
        {
          "output_type": "execute_result",
          "data": {
            "text/plain": [
              "'AC/DC'"
            ],
            "application/vnd.google.colaboratory.intrinsic+json": {
              "type": "string"
            }
          },
          "metadata": {},
          "execution_count": 15
        }
      ]
    },
    {
      "cell_type": "code",
      "source": [
        "#Slicing a dataframe wiht iloc\n",
        "df.iloc[0:2,0:3]"
      ],
      "metadata": {
        "id": "dZANLgtkOltY",
        "outputId": "0570611a-13b1-4353-9004-688781748ca8",
        "colab": {
          "base_uri": "https://localhost:8080/",
          "height": 112
        }
      },
      "execution_count": null,
      "outputs": [
        {
          "output_type": "execute_result",
          "data": {
            "text/plain": [
              "            Artist          Album  Released\n",
              "0  Michael Jackson       Thriller      1982\n",
              "1            AC/DC  Back in Black      1980"
            ],
            "text/html": [
              "\n",
              "  <div id=\"df-eb09b177-b901-4f0b-b378-b5a363cd94c2\">\n",
              "    <div class=\"colab-df-container\">\n",
              "      <div>\n",
              "<style scoped>\n",
              "    .dataframe tbody tr th:only-of-type {\n",
              "        vertical-align: middle;\n",
              "    }\n",
              "\n",
              "    .dataframe tbody tr th {\n",
              "        vertical-align: top;\n",
              "    }\n",
              "\n",
              "    .dataframe thead th {\n",
              "        text-align: right;\n",
              "    }\n",
              "</style>\n",
              "<table border=\"1\" class=\"dataframe\">\n",
              "  <thead>\n",
              "    <tr style=\"text-align: right;\">\n",
              "      <th></th>\n",
              "      <th>Artist</th>\n",
              "      <th>Album</th>\n",
              "      <th>Released</th>\n",
              "    </tr>\n",
              "  </thead>\n",
              "  <tbody>\n",
              "    <tr>\n",
              "      <th>0</th>\n",
              "      <td>Michael Jackson</td>\n",
              "      <td>Thriller</td>\n",
              "      <td>1982</td>\n",
              "    </tr>\n",
              "    <tr>\n",
              "      <th>1</th>\n",
              "      <td>AC/DC</td>\n",
              "      <td>Back in Black</td>\n",
              "      <td>1980</td>\n",
              "    </tr>\n",
              "  </tbody>\n",
              "</table>\n",
              "</div>\n",
              "      <button class=\"colab-df-convert\" onclick=\"convertToInteractive('df-eb09b177-b901-4f0b-b378-b5a363cd94c2')\"\n",
              "              title=\"Convert this dataframe to an interactive table.\"\n",
              "              style=\"display:none;\">\n",
              "        \n",
              "  <svg xmlns=\"http://www.w3.org/2000/svg\" height=\"24px\"viewBox=\"0 0 24 24\"\n",
              "       width=\"24px\">\n",
              "    <path d=\"M0 0h24v24H0V0z\" fill=\"none\"/>\n",
              "    <path d=\"M18.56 5.44l.94 2.06.94-2.06 2.06-.94-2.06-.94-.94-2.06-.94 2.06-2.06.94zm-11 1L8.5 8.5l.94-2.06 2.06-.94-2.06-.94L8.5 2.5l-.94 2.06-2.06.94zm10 10l.94 2.06.94-2.06 2.06-.94-2.06-.94-.94-2.06-.94 2.06-2.06.94z\"/><path d=\"M17.41 7.96l-1.37-1.37c-.4-.4-.92-.59-1.43-.59-.52 0-1.04.2-1.43.59L10.3 9.45l-7.72 7.72c-.78.78-.78 2.05 0 2.83L4 21.41c.39.39.9.59 1.41.59.51 0 1.02-.2 1.41-.59l7.78-7.78 2.81-2.81c.8-.78.8-2.07 0-2.86zM5.41 20L4 18.59l7.72-7.72 1.47 1.35L5.41 20z\"/>\n",
              "  </svg>\n",
              "      </button>\n",
              "      \n",
              "  <style>\n",
              "    .colab-df-container {\n",
              "      display:flex;\n",
              "      flex-wrap:wrap;\n",
              "      gap: 12px;\n",
              "    }\n",
              "\n",
              "    .colab-df-convert {\n",
              "      background-color: #E8F0FE;\n",
              "      border: none;\n",
              "      border-radius: 50%;\n",
              "      cursor: pointer;\n",
              "      display: none;\n",
              "      fill: #1967D2;\n",
              "      height: 32px;\n",
              "      padding: 0 0 0 0;\n",
              "      width: 32px;\n",
              "    }\n",
              "\n",
              "    .colab-df-convert:hover {\n",
              "      background-color: #E2EBFA;\n",
              "      box-shadow: 0px 1px 2px rgba(60, 64, 67, 0.3), 0px 1px 3px 1px rgba(60, 64, 67, 0.15);\n",
              "      fill: #174EA6;\n",
              "    }\n",
              "\n",
              "    [theme=dark] .colab-df-convert {\n",
              "      background-color: #3B4455;\n",
              "      fill: #D2E3FC;\n",
              "    }\n",
              "\n",
              "    [theme=dark] .colab-df-convert:hover {\n",
              "      background-color: #434B5C;\n",
              "      box-shadow: 0px 1px 3px 1px rgba(0, 0, 0, 0.15);\n",
              "      filter: drop-shadow(0px 1px 2px rgba(0, 0, 0, 0.3));\n",
              "      fill: #FFFFFF;\n",
              "    }\n",
              "  </style>\n",
              "\n",
              "      <script>\n",
              "        const buttonEl =\n",
              "          document.querySelector('#df-eb09b177-b901-4f0b-b378-b5a363cd94c2 button.colab-df-convert');\n",
              "        buttonEl.style.display =\n",
              "          google.colab.kernel.accessAllowed ? 'block' : 'none';\n",
              "\n",
              "        async function convertToInteractive(key) {\n",
              "          const element = document.querySelector('#df-eb09b177-b901-4f0b-b378-b5a363cd94c2');\n",
              "          const dataTable =\n",
              "            await google.colab.kernel.invokeFunction('convertToInteractive',\n",
              "                                                     [key], {});\n",
              "          if (!dataTable) return;\n",
              "\n",
              "          const docLinkHtml = 'Like what you see? Visit the ' +\n",
              "            '<a target=\"_blank\" href=https://colab.research.google.com/notebooks/data_table.ipynb>data table notebook</a>'\n",
              "            + ' to learn more about interactive tables.';\n",
              "          element.innerHTML = '';\n",
              "          dataTable['output_type'] = 'display_data';\n",
              "          await google.colab.output.renderOutput(dataTable, element);\n",
              "          const docLink = document.createElement('div');\n",
              "          docLink.innerHTML = docLinkHtml;\n",
              "          element.appendChild(docLink);\n",
              "        }\n",
              "      </script>\n",
              "    </div>\n",
              "  </div>\n",
              "  "
            ]
          },
          "metadata": {},
          "execution_count": 16
        }
      ]
    },
    {
      "cell_type": "code",
      "source": [
        "#slicing a dataframe with loc\n",
        "df.loc[0:2,'Artist':'Released']"
      ],
      "metadata": {
        "id": "fdFg2SUoO201",
        "outputId": "c972492e-95ac-4b7b-8f2d-655e129a5731",
        "colab": {
          "base_uri": "https://localhost:8080/",
          "height": 143
        }
      },
      "execution_count": null,
      "outputs": [
        {
          "output_type": "execute_result",
          "data": {
            "text/plain": [
              "            Artist                      Album  Released\n",
              "0  Michael Jackson                   Thriller      1982\n",
              "1            AC/DC              Back in Black      1980\n",
              "2       Pink Floyd  The Dark Side of the Moon      1973"
            ],
            "text/html": [
              "\n",
              "  <div id=\"df-6d0c086a-e7cf-4624-881a-42a7bac20e06\">\n",
              "    <div class=\"colab-df-container\">\n",
              "      <div>\n",
              "<style scoped>\n",
              "    .dataframe tbody tr th:only-of-type {\n",
              "        vertical-align: middle;\n",
              "    }\n",
              "\n",
              "    .dataframe tbody tr th {\n",
              "        vertical-align: top;\n",
              "    }\n",
              "\n",
              "    .dataframe thead th {\n",
              "        text-align: right;\n",
              "    }\n",
              "</style>\n",
              "<table border=\"1\" class=\"dataframe\">\n",
              "  <thead>\n",
              "    <tr style=\"text-align: right;\">\n",
              "      <th></th>\n",
              "      <th>Artist</th>\n",
              "      <th>Album</th>\n",
              "      <th>Released</th>\n",
              "    </tr>\n",
              "  </thead>\n",
              "  <tbody>\n",
              "    <tr>\n",
              "      <th>0</th>\n",
              "      <td>Michael Jackson</td>\n",
              "      <td>Thriller</td>\n",
              "      <td>1982</td>\n",
              "    </tr>\n",
              "    <tr>\n",
              "      <th>1</th>\n",
              "      <td>AC/DC</td>\n",
              "      <td>Back in Black</td>\n",
              "      <td>1980</td>\n",
              "    </tr>\n",
              "    <tr>\n",
              "      <th>2</th>\n",
              "      <td>Pink Floyd</td>\n",
              "      <td>The Dark Side of the Moon</td>\n",
              "      <td>1973</td>\n",
              "    </tr>\n",
              "  </tbody>\n",
              "</table>\n",
              "</div>\n",
              "      <button class=\"colab-df-convert\" onclick=\"convertToInteractive('df-6d0c086a-e7cf-4624-881a-42a7bac20e06')\"\n",
              "              title=\"Convert this dataframe to an interactive table.\"\n",
              "              style=\"display:none;\">\n",
              "        \n",
              "  <svg xmlns=\"http://www.w3.org/2000/svg\" height=\"24px\"viewBox=\"0 0 24 24\"\n",
              "       width=\"24px\">\n",
              "    <path d=\"M0 0h24v24H0V0z\" fill=\"none\"/>\n",
              "    <path d=\"M18.56 5.44l.94 2.06.94-2.06 2.06-.94-2.06-.94-.94-2.06-.94 2.06-2.06.94zm-11 1L8.5 8.5l.94-2.06 2.06-.94-2.06-.94L8.5 2.5l-.94 2.06-2.06.94zm10 10l.94 2.06.94-2.06 2.06-.94-2.06-.94-.94-2.06-.94 2.06-2.06.94z\"/><path d=\"M17.41 7.96l-1.37-1.37c-.4-.4-.92-.59-1.43-.59-.52 0-1.04.2-1.43.59L10.3 9.45l-7.72 7.72c-.78.78-.78 2.05 0 2.83L4 21.41c.39.39.9.59 1.41.59.51 0 1.02-.2 1.41-.59l7.78-7.78 2.81-2.81c.8-.78.8-2.07 0-2.86zM5.41 20L4 18.59l7.72-7.72 1.47 1.35L5.41 20z\"/>\n",
              "  </svg>\n",
              "      </button>\n",
              "      \n",
              "  <style>\n",
              "    .colab-df-container {\n",
              "      display:flex;\n",
              "      flex-wrap:wrap;\n",
              "      gap: 12px;\n",
              "    }\n",
              "\n",
              "    .colab-df-convert {\n",
              "      background-color: #E8F0FE;\n",
              "      border: none;\n",
              "      border-radius: 50%;\n",
              "      cursor: pointer;\n",
              "      display: none;\n",
              "      fill: #1967D2;\n",
              "      height: 32px;\n",
              "      padding: 0 0 0 0;\n",
              "      width: 32px;\n",
              "    }\n",
              "\n",
              "    .colab-df-convert:hover {\n",
              "      background-color: #E2EBFA;\n",
              "      box-shadow: 0px 1px 2px rgba(60, 64, 67, 0.3), 0px 1px 3px 1px rgba(60, 64, 67, 0.15);\n",
              "      fill: #174EA6;\n",
              "    }\n",
              "\n",
              "    [theme=dark] .colab-df-convert {\n",
              "      background-color: #3B4455;\n",
              "      fill: #D2E3FC;\n",
              "    }\n",
              "\n",
              "    [theme=dark] .colab-df-convert:hover {\n",
              "      background-color: #434B5C;\n",
              "      box-shadow: 0px 1px 3px 1px rgba(0, 0, 0, 0.15);\n",
              "      filter: drop-shadow(0px 1px 2px rgba(0, 0, 0, 0.3));\n",
              "      fill: #FFFFFF;\n",
              "    }\n",
              "  </style>\n",
              "\n",
              "      <script>\n",
              "        const buttonEl =\n",
              "          document.querySelector('#df-6d0c086a-e7cf-4624-881a-42a7bac20e06 button.colab-df-convert');\n",
              "        buttonEl.style.display =\n",
              "          google.colab.kernel.accessAllowed ? 'block' : 'none';\n",
              "\n",
              "        async function convertToInteractive(key) {\n",
              "          const element = document.querySelector('#df-6d0c086a-e7cf-4624-881a-42a7bac20e06');\n",
              "          const dataTable =\n",
              "            await google.colab.kernel.invokeFunction('convertToInteractive',\n",
              "                                                     [key], {});\n",
              "          if (!dataTable) return;\n",
              "\n",
              "          const docLinkHtml = 'Like what you see? Visit the ' +\n",
              "            '<a target=\"_blank\" href=https://colab.research.google.com/notebooks/data_table.ipynb>data table notebook</a>'\n",
              "            + ' to learn more about interactive tables.';\n",
              "          element.innerHTML = '';\n",
              "          dataTable['output_type'] = 'display_data';\n",
              "          await google.colab.output.renderOutput(dataTable, element);\n",
              "          const docLink = document.createElement('div');\n",
              "          docLink.innerHTML = docLinkHtml;\n",
              "          element.appendChild(docLink);\n",
              "        }\n",
              "      </script>\n",
              "    </div>\n",
              "  </div>\n",
              "  "
            ]
          },
          "metadata": {},
          "execution_count": 17
        }
      ]
    },
    {
      "cell_type": "code",
      "source": [
        "#Exercise on lab\n",
        "\n",
        "# Write your code below and press Shift+Enter to execute\n",
        "q = df[['Rating']]\n",
        "q"
      ],
      "metadata": {
        "id": "zIqblngyg3DX",
        "outputId": "629c568e-3ab9-4153-b014-76cfd2aaf4f8",
        "colab": {
          "base_uri": "https://localhost:8080/",
          "height": 300
        }
      },
      "execution_count": null,
      "outputs": [
        {
          "output_type": "execute_result",
          "data": {
            "text/plain": [
              "   Rating\n",
              "0    10.0\n",
              "1     9.5\n",
              "2     9.0\n",
              "3     8.5\n",
              "4     8.0\n",
              "5     7.5\n",
              "6     7.0\n",
              "7     6.5"
            ],
            "text/html": [
              "\n",
              "  <div id=\"df-84460e42-d5f4-4857-a9af-d45ae54afbc6\">\n",
              "    <div class=\"colab-df-container\">\n",
              "      <div>\n",
              "<style scoped>\n",
              "    .dataframe tbody tr th:only-of-type {\n",
              "        vertical-align: middle;\n",
              "    }\n",
              "\n",
              "    .dataframe tbody tr th {\n",
              "        vertical-align: top;\n",
              "    }\n",
              "\n",
              "    .dataframe thead th {\n",
              "        text-align: right;\n",
              "    }\n",
              "</style>\n",
              "<table border=\"1\" class=\"dataframe\">\n",
              "  <thead>\n",
              "    <tr style=\"text-align: right;\">\n",
              "      <th></th>\n",
              "      <th>Rating</th>\n",
              "    </tr>\n",
              "  </thead>\n",
              "  <tbody>\n",
              "    <tr>\n",
              "      <th>0</th>\n",
              "      <td>10.0</td>\n",
              "    </tr>\n",
              "    <tr>\n",
              "      <th>1</th>\n",
              "      <td>9.5</td>\n",
              "    </tr>\n",
              "    <tr>\n",
              "      <th>2</th>\n",
              "      <td>9.0</td>\n",
              "    </tr>\n",
              "    <tr>\n",
              "      <th>3</th>\n",
              "      <td>8.5</td>\n",
              "    </tr>\n",
              "    <tr>\n",
              "      <th>4</th>\n",
              "      <td>8.0</td>\n",
              "    </tr>\n",
              "    <tr>\n",
              "      <th>5</th>\n",
              "      <td>7.5</td>\n",
              "    </tr>\n",
              "    <tr>\n",
              "      <th>6</th>\n",
              "      <td>7.0</td>\n",
              "    </tr>\n",
              "    <tr>\n",
              "      <th>7</th>\n",
              "      <td>6.5</td>\n",
              "    </tr>\n",
              "  </tbody>\n",
              "</table>\n",
              "</div>\n",
              "      <button class=\"colab-df-convert\" onclick=\"convertToInteractive('df-84460e42-d5f4-4857-a9af-d45ae54afbc6')\"\n",
              "              title=\"Convert this dataframe to an interactive table.\"\n",
              "              style=\"display:none;\">\n",
              "        \n",
              "  <svg xmlns=\"http://www.w3.org/2000/svg\" height=\"24px\"viewBox=\"0 0 24 24\"\n",
              "       width=\"24px\">\n",
              "    <path d=\"M0 0h24v24H0V0z\" fill=\"none\"/>\n",
              "    <path d=\"M18.56 5.44l.94 2.06.94-2.06 2.06-.94-2.06-.94-.94-2.06-.94 2.06-2.06.94zm-11 1L8.5 8.5l.94-2.06 2.06-.94-2.06-.94L8.5 2.5l-.94 2.06-2.06.94zm10 10l.94 2.06.94-2.06 2.06-.94-2.06-.94-.94-2.06-.94 2.06-2.06.94z\"/><path d=\"M17.41 7.96l-1.37-1.37c-.4-.4-.92-.59-1.43-.59-.52 0-1.04.2-1.43.59L10.3 9.45l-7.72 7.72c-.78.78-.78 2.05 0 2.83L4 21.41c.39.39.9.59 1.41.59.51 0 1.02-.2 1.41-.59l7.78-7.78 2.81-2.81c.8-.78.8-2.07 0-2.86zM5.41 20L4 18.59l7.72-7.72 1.47 1.35L5.41 20z\"/>\n",
              "  </svg>\n",
              "      </button>\n",
              "      \n",
              "  <style>\n",
              "    .colab-df-container {\n",
              "      display:flex;\n",
              "      flex-wrap:wrap;\n",
              "      gap: 12px;\n",
              "    }\n",
              "\n",
              "    .colab-df-convert {\n",
              "      background-color: #E8F0FE;\n",
              "      border: none;\n",
              "      border-radius: 50%;\n",
              "      cursor: pointer;\n",
              "      display: none;\n",
              "      fill: #1967D2;\n",
              "      height: 32px;\n",
              "      padding: 0 0 0 0;\n",
              "      width: 32px;\n",
              "    }\n",
              "\n",
              "    .colab-df-convert:hover {\n",
              "      background-color: #E2EBFA;\n",
              "      box-shadow: 0px 1px 2px rgba(60, 64, 67, 0.3), 0px 1px 3px 1px rgba(60, 64, 67, 0.15);\n",
              "      fill: #174EA6;\n",
              "    }\n",
              "\n",
              "    [theme=dark] .colab-df-convert {\n",
              "      background-color: #3B4455;\n",
              "      fill: #D2E3FC;\n",
              "    }\n",
              "\n",
              "    [theme=dark] .colab-df-convert:hover {\n",
              "      background-color: #434B5C;\n",
              "      box-shadow: 0px 1px 3px 1px rgba(0, 0, 0, 0.15);\n",
              "      filter: drop-shadow(0px 1px 2px rgba(0, 0, 0, 0.3));\n",
              "      fill: #FFFFFF;\n",
              "    }\n",
              "  </style>\n",
              "\n",
              "      <script>\n",
              "        const buttonEl =\n",
              "          document.querySelector('#df-84460e42-d5f4-4857-a9af-d45ae54afbc6 button.colab-df-convert');\n",
              "        buttonEl.style.display =\n",
              "          google.colab.kernel.accessAllowed ? 'block' : 'none';\n",
              "\n",
              "        async function convertToInteractive(key) {\n",
              "          const element = document.querySelector('#df-84460e42-d5f4-4857-a9af-d45ae54afbc6');\n",
              "          const dataTable =\n",
              "            await google.colab.kernel.invokeFunction('convertToInteractive',\n",
              "                                                     [key], {});\n",
              "          if (!dataTable) return;\n",
              "\n",
              "          const docLinkHtml = 'Like what you see? Visit the ' +\n",
              "            '<a target=\"_blank\" href=https://colab.research.google.com/notebooks/data_table.ipynb>data table notebook</a>'\n",
              "            + ' to learn more about interactive tables.';\n",
              "          element.innerHTML = '';\n",
              "          dataTable['output_type'] = 'display_data';\n",
              "          await google.colab.output.renderOutput(dataTable, element);\n",
              "          const docLink = document.createElement('div');\n",
              "          docLink.innerHTML = docLinkHtml;\n",
              "          element.appendChild(docLink);\n",
              "        }\n",
              "      </script>\n",
              "    </div>\n",
              "  </div>\n",
              "  "
            ]
          },
          "metadata": {},
          "execution_count": 18
        }
      ]
    },
    {
      "cell_type": "code",
      "source": [
        "# Write your code below and press Shift+Enter to execute\n",
        "q = df[['Released', 'Artist']]\n",
        "q"
      ],
      "metadata": {
        "id": "rSTCPLZdg_Oz",
        "outputId": "4e000b30-22e5-4123-b9c1-8cf267be2278",
        "colab": {
          "base_uri": "https://localhost:8080/",
          "height": 300
        }
      },
      "execution_count": null,
      "outputs": [
        {
          "output_type": "execute_result",
          "data": {
            "text/plain": [
              "   Released           Artist\n",
              "0      1982  Michael Jackson\n",
              "1      1980            AC/DC\n",
              "2      1973       Pink Floyd\n",
              "3      1992  Whitney Houston\n",
              "4      1977        Meat Loaf\n",
              "5      1976           Eagles\n",
              "6      1977         Bee Gees\n",
              "7      1977    Fleetwood Mac"
            ],
            "text/html": [
              "\n",
              "  <div id=\"df-8e96ff77-bdca-45b1-beb2-3f20e01ee844\">\n",
              "    <div class=\"colab-df-container\">\n",
              "      <div>\n",
              "<style scoped>\n",
              "    .dataframe tbody tr th:only-of-type {\n",
              "        vertical-align: middle;\n",
              "    }\n",
              "\n",
              "    .dataframe tbody tr th {\n",
              "        vertical-align: top;\n",
              "    }\n",
              "\n",
              "    .dataframe thead th {\n",
              "        text-align: right;\n",
              "    }\n",
              "</style>\n",
              "<table border=\"1\" class=\"dataframe\">\n",
              "  <thead>\n",
              "    <tr style=\"text-align: right;\">\n",
              "      <th></th>\n",
              "      <th>Released</th>\n",
              "      <th>Artist</th>\n",
              "    </tr>\n",
              "  </thead>\n",
              "  <tbody>\n",
              "    <tr>\n",
              "      <th>0</th>\n",
              "      <td>1982</td>\n",
              "      <td>Michael Jackson</td>\n",
              "    </tr>\n",
              "    <tr>\n",
              "      <th>1</th>\n",
              "      <td>1980</td>\n",
              "      <td>AC/DC</td>\n",
              "    </tr>\n",
              "    <tr>\n",
              "      <th>2</th>\n",
              "      <td>1973</td>\n",
              "      <td>Pink Floyd</td>\n",
              "    </tr>\n",
              "    <tr>\n",
              "      <th>3</th>\n",
              "      <td>1992</td>\n",
              "      <td>Whitney Houston</td>\n",
              "    </tr>\n",
              "    <tr>\n",
              "      <th>4</th>\n",
              "      <td>1977</td>\n",
              "      <td>Meat Loaf</td>\n",
              "    </tr>\n",
              "    <tr>\n",
              "      <th>5</th>\n",
              "      <td>1976</td>\n",
              "      <td>Eagles</td>\n",
              "    </tr>\n",
              "    <tr>\n",
              "      <th>6</th>\n",
              "      <td>1977</td>\n",
              "      <td>Bee Gees</td>\n",
              "    </tr>\n",
              "    <tr>\n",
              "      <th>7</th>\n",
              "      <td>1977</td>\n",
              "      <td>Fleetwood Mac</td>\n",
              "    </tr>\n",
              "  </tbody>\n",
              "</table>\n",
              "</div>\n",
              "      <button class=\"colab-df-convert\" onclick=\"convertToInteractive('df-8e96ff77-bdca-45b1-beb2-3f20e01ee844')\"\n",
              "              title=\"Convert this dataframe to an interactive table.\"\n",
              "              style=\"display:none;\">\n",
              "        \n",
              "  <svg xmlns=\"http://www.w3.org/2000/svg\" height=\"24px\"viewBox=\"0 0 24 24\"\n",
              "       width=\"24px\">\n",
              "    <path d=\"M0 0h24v24H0V0z\" fill=\"none\"/>\n",
              "    <path d=\"M18.56 5.44l.94 2.06.94-2.06 2.06-.94-2.06-.94-.94-2.06-.94 2.06-2.06.94zm-11 1L8.5 8.5l.94-2.06 2.06-.94-2.06-.94L8.5 2.5l-.94 2.06-2.06.94zm10 10l.94 2.06.94-2.06 2.06-.94-2.06-.94-.94-2.06-.94 2.06-2.06.94z\"/><path d=\"M17.41 7.96l-1.37-1.37c-.4-.4-.92-.59-1.43-.59-.52 0-1.04.2-1.43.59L10.3 9.45l-7.72 7.72c-.78.78-.78 2.05 0 2.83L4 21.41c.39.39.9.59 1.41.59.51 0 1.02-.2 1.41-.59l7.78-7.78 2.81-2.81c.8-.78.8-2.07 0-2.86zM5.41 20L4 18.59l7.72-7.72 1.47 1.35L5.41 20z\"/>\n",
              "  </svg>\n",
              "      </button>\n",
              "      \n",
              "  <style>\n",
              "    .colab-df-container {\n",
              "      display:flex;\n",
              "      flex-wrap:wrap;\n",
              "      gap: 12px;\n",
              "    }\n",
              "\n",
              "    .colab-df-convert {\n",
              "      background-color: #E8F0FE;\n",
              "      border: none;\n",
              "      border-radius: 50%;\n",
              "      cursor: pointer;\n",
              "      display: none;\n",
              "      fill: #1967D2;\n",
              "      height: 32px;\n",
              "      padding: 0 0 0 0;\n",
              "      width: 32px;\n",
              "    }\n",
              "\n",
              "    .colab-df-convert:hover {\n",
              "      background-color: #E2EBFA;\n",
              "      box-shadow: 0px 1px 2px rgba(60, 64, 67, 0.3), 0px 1px 3px 1px rgba(60, 64, 67, 0.15);\n",
              "      fill: #174EA6;\n",
              "    }\n",
              "\n",
              "    [theme=dark] .colab-df-convert {\n",
              "      background-color: #3B4455;\n",
              "      fill: #D2E3FC;\n",
              "    }\n",
              "\n",
              "    [theme=dark] .colab-df-convert:hover {\n",
              "      background-color: #434B5C;\n",
              "      box-shadow: 0px 1px 3px 1px rgba(0, 0, 0, 0.15);\n",
              "      filter: drop-shadow(0px 1px 2px rgba(0, 0, 0, 0.3));\n",
              "      fill: #FFFFFF;\n",
              "    }\n",
              "  </style>\n",
              "\n",
              "      <script>\n",
              "        const buttonEl =\n",
              "          document.querySelector('#df-8e96ff77-bdca-45b1-beb2-3f20e01ee844 button.colab-df-convert');\n",
              "        buttonEl.style.display =\n",
              "          google.colab.kernel.accessAllowed ? 'block' : 'none';\n",
              "\n",
              "        async function convertToInteractive(key) {\n",
              "          const element = document.querySelector('#df-8e96ff77-bdca-45b1-beb2-3f20e01ee844');\n",
              "          const dataTable =\n",
              "            await google.colab.kernel.invokeFunction('convertToInteractive',\n",
              "                                                     [key], {});\n",
              "          if (!dataTable) return;\n",
              "\n",
              "          const docLinkHtml = 'Like what you see? Visit the ' +\n",
              "            '<a target=\"_blank\" href=https://colab.research.google.com/notebooks/data_table.ipynb>data table notebook</a>'\n",
              "            + ' to learn more about interactive tables.';\n",
              "          element.innerHTML = '';\n",
              "          dataTable['output_type'] = 'display_data';\n",
              "          await google.colab.output.renderOutput(dataTable, element);\n",
              "          const docLink = document.createElement('div');\n",
              "          docLink.innerHTML = docLinkHtml;\n",
              "          element.appendChild(docLink);\n",
              "        }\n",
              "      </script>\n",
              "    </div>\n",
              "  </div>\n",
              "  "
            ]
          },
          "metadata": {},
          "execution_count": 20
        }
      ]
    },
    {
      "cell_type": "code",
      "source": [
        "# Write your code below and press Shift+Enter to execute\n",
        "df.iloc[1, 2]"
      ],
      "metadata": {
        "id": "7XwkG-FJhFoE",
        "outputId": "6b24ead7-d6aa-480c-a90c-09b9774a477a",
        "colab": {
          "base_uri": "https://localhost:8080/"
        }
      },
      "execution_count": null,
      "outputs": [
        {
          "output_type": "execute_result",
          "data": {
            "text/plain": [
              "1980"
            ]
          },
          "metadata": {},
          "execution_count": 21
        }
      ]
    },
    {
      "cell_type": "markdown",
      "source": [
        "Use the following list to convert the dataframe index df to characters and assign it to df_new; find the element corresponding to the row index a and column 'Artist'. Then select the rows a through d for the column 'Artist'"
      ],
      "metadata": {
        "id": "u29C0B_hhQkv"
      }
    },
    {
      "cell_type": "code",
      "source": [
        "new_index = ['a','b','c','d','e','f','g','h']\n",
        "df_new =df\n",
        "df_new.index = new_index #this is to replace te indes 0,1,2... with a,b,c,d\n",
        "df_new.loc['a', 'Artist'] \n",
        "\n"
      ],
      "metadata": {
        "id": "L1J8gGNuhRZK",
        "outputId": "0f6fd130-112c-4c1b-deb7-73750ded1835",
        "colab": {
          "base_uri": "https://localhost:8080/",
          "height": 35
        }
      },
      "execution_count": null,
      "outputs": [
        {
          "output_type": "execute_result",
          "data": {
            "text/plain": [
              "'Michael Jackson'"
            ],
            "application/vnd.google.colaboratory.intrinsic+json": {
              "type": "string"
            }
          },
          "metadata": {},
          "execution_count": 26
        }
      ]
    },
    {
      "cell_type": "code",
      "source": [
        "df_new.loc['a':'d', 'Artist']"
      ],
      "metadata": {
        "id": "oLomzjcvjRC9",
        "outputId": "35263611-f6d8-4ebe-97df-6211a4c570fb",
        "colab": {
          "base_uri": "https://localhost:8080/"
        }
      },
      "execution_count": null,
      "outputs": [
        {
          "output_type": "execute_result",
          "data": {
            "text/plain": [
              "a    Michael Jackson\n",
              "b              AC/DC\n",
              "c         Pink Floyd\n",
              "d    Whitney Houston\n",
              "Name: Artist, dtype: object"
            ]
          },
          "metadata": {},
          "execution_count": 27
        }
      ]
    },
    {
      "cell_type": "markdown",
      "source": [
        "# Progress until module 4\n",
        "![Progress.PNG](data:image/png;base64,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)"
      ],
      "metadata": {
        "id": "rRwOPfU_ojoH"
      }
    },
    {
      "cell_type": "markdown",
      "source": [
        "#MODULE 5 - 1D Arrays"
      ],
      "metadata": {
        "id": "po6MPNxqIYfW"
      }
    },
    {
      "cell_type": "markdown",
      "source": [
        "In this module it will be reviewed \n",
        "  * Basics and array Creation\n",
        "  * Indexing and Slicing\n",
        "  * Basic Operations\n",
        "  * Universal Functions\n",
        "\n",
        "  Numpy arrays are similar as the list\n",
        "  "
      ],
      "metadata": {
        "id": "_b5xWW_TKaeq"
      }
    },
    {
      "cell_type": "code",
      "source": [
        "import numpy as np #to import numpy library and assign to np\n",
        "\n",
        "#Convert array to numpy\n",
        "a = np.array([0,1,2,3,4])\n",
        "a"
      ],
      "metadata": {
        "colab": {
          "base_uri": "https://localhost:8080/"
        },
        "id": "e8x5UvzVLXt2",
        "outputId": "f99914f3-c7ce-4e53-bf75-180968a3b5b1"
      },
      "execution_count": null,
      "outputs": [
        {
          "output_type": "execute_result",
          "data": {
            "text/plain": [
              "array([0, 1, 2, 3, 4])"
            ]
          },
          "metadata": {},
          "execution_count": 3
        }
      ]
    },
    {
      "cell_type": "code",
      "source": [
        "type(a)"
      ],
      "metadata": {
        "colab": {
          "base_uri": "https://localhost:8080/"
        },
        "id": "y20eYMDoLp3x",
        "outputId": "3bc73701-8a29-465c-bc64-a14880947ed8"
      },
      "execution_count": null,
      "outputs": [
        {
          "output_type": "execute_result",
          "data": {
            "text/plain": [
              "numpy.ndarray"
            ]
          },
          "metadata": {},
          "execution_count": 4
        }
      ]
    },
    {
      "cell_type": "code",
      "source": [
        "a.dtype # it is the type of the array elements"
      ],
      "metadata": {
        "colab": {
          "base_uri": "https://localhost:8080/"
        },
        "id": "GCMfuoNVLw2i",
        "outputId": "7d15619b-c866-402d-cef0-08121d5b55bd"
      },
      "execution_count": null,
      "outputs": [
        {
          "output_type": "execute_result",
          "data": {
            "text/plain": [
              "dtype('int64')"
            ]
          },
          "metadata": {},
          "execution_count": 6
        }
      ]
    },
    {
      "cell_type": "code",
      "source": [
        "a.size"
      ],
      "metadata": {
        "colab": {
          "base_uri": "https://localhost:8080/"
        },
        "id": "SaxiPIixL3tP",
        "outputId": "ace6173a-d1fe-4c5e-f870-94e34be77d33"
      },
      "execution_count": null,
      "outputs": [
        {
          "output_type": "execute_result",
          "data": {
            "text/plain": [
              "5"
            ]
          },
          "metadata": {},
          "execution_count": 7
        }
      ]
    },
    {
      "cell_type": "code",
      "source": [
        "#Number of dimension\n",
        "a.ndim"
      ],
      "metadata": {
        "colab": {
          "base_uri": "https://localhost:8080/"
        },
        "id": "AvkUq9QcL4zL",
        "outputId": "913a6bd6-77fd-4ab3-a878-e36a549c542b"
      },
      "execution_count": null,
      "outputs": [
        {
          "output_type": "execute_result",
          "data": {
            "text/plain": [
              "1"
            ]
          },
          "metadata": {},
          "execution_count": 8
        }
      ]
    },
    {
      "cell_type": "code",
      "source": [
        "a.shape "
      ],
      "metadata": {
        "colab": {
          "base_uri": "https://localhost:8080/"
        },
        "id": "vg8ouSLEL-VZ",
        "outputId": "8f88aa27-1aa0-4c6f-c20d-20fdd5cb604d"
      },
      "execution_count": null,
      "outputs": [
        {
          "output_type": "execute_result",
          "data": {
            "text/plain": [
              "(5,)"
            ]
          },
          "metadata": {},
          "execution_count": 10
        }
      ]
    },
    {
      "cell_type": "markdown",
      "source": [
        "on shape we can see that are 5 arrays with no other dimensions"
      ],
      "metadata": {
        "id": "EmQ_7uUwMCt8"
      }
    },
    {
      "cell_type": "markdown",
      "source": [
        "**Slicing and indexing**\n",
        "\n",
        "For changing values in the array it will use as just assign the values\n"
      ],
      "metadata": {
        "id": "4E-Vd79CMUmv"
      }
    },
    {
      "cell_type": "code",
      "source": [
        "c = np.array([20,1,2,3,4])\n",
        "c"
      ],
      "metadata": {
        "colab": {
          "base_uri": "https://localhost:8080/"
        },
        "id": "IMfWi19GMWxI",
        "outputId": "df4a1b3f-6f0e-4d0a-eb78-8723d1acf7b5"
      },
      "execution_count": null,
      "outputs": [
        {
          "output_type": "execute_result",
          "data": {
            "text/plain": [
              "array([20,  1,  2,  3,  4])"
            ]
          },
          "metadata": {},
          "execution_count": 11
        }
      ]
    },
    {
      "cell_type": "code",
      "source": [
        "c[0] = 100\n",
        "c"
      ],
      "metadata": {
        "colab": {
          "base_uri": "https://localhost:8080/"
        },
        "id": "p6r2VF9wMeLt",
        "outputId": "ecb95baf-1bad-497c-94ea-f14d10576477"
      },
      "execution_count": null,
      "outputs": [
        {
          "output_type": "execute_result",
          "data": {
            "text/plain": [
              "array([100,   1,   2,   3,   4])"
            ]
          },
          "metadata": {},
          "execution_count": 12
        }
      ]
    },
    {
      "cell_type": "code",
      "source": [
        "c[4] = 0\n",
        "c"
      ],
      "metadata": {
        "colab": {
          "base_uri": "https://localhost:8080/"
        },
        "id": "1p6a9a1kMtUy",
        "outputId": "76f799e7-c1cb-4a41-ad5a-6d4bbe7546be"
      },
      "execution_count": null,
      "outputs": [
        {
          "output_type": "execute_result",
          "data": {
            "text/plain": [
              "array([100,   1,   2,   3,   0])"
            ]
          },
          "metadata": {},
          "execution_count": 14
        }
      ]
    },
    {
      "cell_type": "markdown",
      "source": [
        "**To slicing it works as the same, first number is start and last number is not include**"
      ],
      "metadata": {
        "id": "nwrCyFPGM1eI"
      }
    },
    {
      "cell_type": "code",
      "source": [
        "d = c[1:4]\n",
        "d"
      ],
      "metadata": {
        "colab": {
          "base_uri": "https://localhost:8080/"
        },
        "id": "zbUhMATPMxdp",
        "outputId": "81f38020-d440-4f77-b9bd-40d9415becf2"
      },
      "execution_count": null,
      "outputs": [
        {
          "output_type": "execute_result",
          "data": {
            "text/plain": [
              "array([1, 2, 3])"
            ]
          },
          "metadata": {},
          "execution_count": 15
        }
      ]
    },
    {
      "cell_type": "code",
      "source": [
        "c[3:5] = 300,400\n",
        "c"
      ],
      "metadata": {
        "colab": {
          "base_uri": "https://localhost:8080/"
        },
        "id": "BMGAaQmLNIz3",
        "outputId": "326f79ba-3c13-4b43-89a1-0fcb0d136b2d"
      },
      "execution_count": null,
      "outputs": [
        {
          "output_type": "execute_result",
          "data": {
            "text/plain": [
              "array([100,   1,   2, 300, 400])"
            ]
          },
          "metadata": {},
          "execution_count": 16
        }
      ]
    },
    {
      "cell_type": "markdown",
      "source": [
        "**Vectors**\n"
      ],
      "metadata": {
        "id": "uknKaCAtNynr"
      }
    },
    {
      "cell_type": "code",
      "source": [
        "#adding vectors\n",
        "u=[1,0]\n",
        "v=[1,0]\n",
        "z=[]\n",
        "\n",
        "for n,m in zip(u,v):\n",
        "  z.append(n+m)\n",
        "\n",
        "z"
      ],
      "metadata": {
        "colab": {
          "base_uri": "https://localhost:8080/"
        },
        "id": "ipkhzU0dN0Vp",
        "outputId": "b31d1449-754c-4afc-9cfe-fc530aa9bfbc"
      },
      "execution_count": null,
      "outputs": [
        {
          "output_type": "execute_result",
          "data": {
            "text/plain": [
              "[2, 0]"
            ]
          },
          "metadata": {},
          "execution_count": 19
        }
      ]
    },
    {
      "cell_type": "code",
      "source": [
        "from numpy.lib.function_base import vectorize\n",
        "# on numby arrays the additions is:\n",
        "u=np.array([1,0])\n",
        "v=np.array([0,1])\n",
        "z=u+v\n",
        "z"
      ],
      "metadata": {
        "colab": {
          "base_uri": "https://localhost:8080/"
        },
        "id": "orCWv8zOOLR_",
        "outputId": "34e13846-9a5c-4216-bf7c-6f518a46716b"
      },
      "execution_count": null,
      "outputs": [
        {
          "output_type": "execute_result",
          "data": {
            "text/plain": [
              "array([1, 1])"
            ]
          },
          "metadata": {},
          "execution_count": 20
        }
      ]
    },
    {
      "cell_type": "markdown",
      "source": [
        "So we can see that is better to the coding on numpy arrays. And it will run faster"
      ],
      "metadata": {
        "id": "BieTm1pWOaqj"
      }
    },
    {
      "cell_type": "code",
      "source": [
        "#Multiplicacion scarlar with array\n",
        "y = np.array([1,2])\n",
        "z = 2 * y\n",
        "z"
      ],
      "metadata": {
        "colab": {
          "base_uri": "https://localhost:8080/"
        },
        "id": "Yp3M5Gf5OeTX",
        "outputId": "ed8e0c14-075a-4edd-a4a7-8a2fdf81f942"
      },
      "execution_count": null,
      "outputs": [
        {
          "output_type": "execute_result",
          "data": {
            "text/plain": [
              "array([2, 4])"
            ]
          },
          "metadata": {},
          "execution_count": 21
        }
      ]
    },
    {
      "cell_type": "code",
      "source": [
        "#product of 2 numpy\n",
        "u = np.array([1,2])\n",
        "v = np.array([3,2])\n",
        "z = u*v\n",
        "z"
      ],
      "metadata": {
        "colab": {
          "base_uri": "https://localhost:8080/"
        },
        "id": "auRZv3BdOzGZ",
        "outputId": "c538bb6f-c274-44c9-f386-4f994376888a"
      },
      "execution_count": null,
      "outputs": [
        {
          "output_type": "execute_result",
          "data": {
            "text/plain": [
              "array([3, 4])"
            ]
          },
          "metadata": {},
          "execution_count": 22
        }
      ]
    },
    {
      "cell_type": "code",
      "source": [
        "#dot product\n",
        "u = np.array([1,2])\n",
        "v = np.array([3,1])\n",
        "result = np.dot(u,v)\n",
        "result"
      ],
      "metadata": {
        "colab": {
          "base_uri": "https://localhost:8080/"
        },
        "id": "0Y6rlXcPPBcj",
        "outputId": "b1d2ef57-99f2-4b04-a53e-c7a7b5edfbc0"
      },
      "execution_count": null,
      "outputs": [
        {
          "output_type": "execute_result",
          "data": {
            "text/plain": [
              "5"
            ]
          },
          "metadata": {},
          "execution_count": 23
        }
      ]
    },
    {
      "cell_type": "code",
      "source": [
        "#Universal Functions\n",
        "a = np.array([1,-1,1,-1])\n",
        "mean_a = a.mean()\n",
        "mean_a"
      ],
      "metadata": {
        "colab": {
          "base_uri": "https://localhost:8080/"
        },
        "id": "AsnDD2OiPXC8",
        "outputId": "d4b8f9a0-92dc-4f05-cb9c-f3138baa4987"
      },
      "execution_count": null,
      "outputs": [
        {
          "output_type": "execute_result",
          "data": {
            "text/plain": [
              "0.0"
            ]
          },
          "metadata": {},
          "execution_count": 25
        }
      ]
    },
    {
      "cell_type": "markdown",
      "source": [
        "we have universal functions as\n",
        "max, min, pi, sin x, cos"
      ],
      "metadata": {
        "id": "G2FufZJvPizS"
      }
    },
    {
      "cell_type": "markdown",
      "source": [
        "Linspace to generate arrays"
      ],
      "metadata": {
        "id": "OOgmfeQRP0f1"
      }
    },
    {
      "cell_type": "code",
      "source": [
        "np.linspace(-2,2,num=5)"
      ],
      "metadata": {
        "colab": {
          "base_uri": "https://localhost:8080/"
        },
        "id": "tY16HfaDP4cg",
        "outputId": "147e3c6d-cb6c-42f5-adac-d56bed66b23c"
      },
      "execution_count": null,
      "outputs": [
        {
          "output_type": "execute_result",
          "data": {
            "text/plain": [
              "array([-2., -1.,  0.,  1.,  2.])"
            ]
          },
          "metadata": {},
          "execution_count": 26
        }
      ]
    },
    {
      "cell_type": "markdown",
      "source": [
        "**Ploting mathematical Functions**\n"
      ],
      "metadata": {
        "id": "VmIjv5xuQGBF"
      }
    },
    {
      "cell_type": "code",
      "source": [
        "import matplotlib.pyplot as plt #for ploting\n",
        "x = np.linspace(0,2*np.pi,100)\n",
        "y = np.sin(x)\n",
        "# %matplotlib inline #for jyupyter notebook\n",
        "plt.plot(x,y)\n"
      ],
      "metadata": {
        "colab": {
          "base_uri": "https://localhost:8080/",
          "height": 282
        },
        "id": "NsubnM4MQJEL",
        "outputId": "d0115f60-30e1-4733-fbc1-3d08da5fb43e"
      },
      "execution_count": null,
      "outputs": [
        {
          "output_type": "execute_result",
          "data": {
            "text/plain": [
              "[<matplotlib.lines.Line2D at 0x7f65a39a23d0>]"
            ]
          },
          "metadata": {},
          "execution_count": 28
        },
        {
          "output_type": "display_data",
          "data": {
            "text/plain": [
              "<Figure size 432x288 with 1 Axes>"
            ],
            "image/png": "[encoded data removed]"
          },
          "metadata": {
            "needs_background": "light"
          }
        }
      ]
    },
    {
      "cell_type": "code",
      "source": [
        "#Question 1\n",
        "np.array([1,-1])*np.array([1,1])"
      ],
      "metadata": {
        "colab": {
          "base_uri": "https://localhost:8080/"
        },
        "id": "ak5H_oT0Q18R",
        "outputId": "edb553cf-5675-4e61-ff98-ffed0320a3e7"
      },
      "execution_count": null,
      "outputs": [
        {
          "output_type": "execute_result",
          "data": {
            "text/plain": [
              "array([ 1, -1])"
            ]
          },
          "metadata": {},
          "execution_count": 29
        }
      ]
    },
    {
      "cell_type": "code",
      "source": [
        "#Question 2\n",
        "np.dot(np.array([1,-1]),np.array([1,1]))"
      ],
      "metadata": {
        "colab": {
          "base_uri": "https://localhost:8080/"
        },
        "id": "xtsnoxt1Q72M",
        "outputId": "3f2351e1-5054-4df7-b15f-39524f635230"
      },
      "execution_count": null,
      "outputs": [
        {
          "output_type": "execute_result",
          "data": {
            "text/plain": [
              "0"
            ]
          },
          "metadata": {},
          "execution_count": 30
        }
      ]
    },
    {
      "cell_type": "markdown",
      "source": [
        "#MODULE 5 - NUMPY 2D ARRAYS.\n",
        "\n",
        "It is similar than 1D but in 2D\n"
      ],
      "metadata": {
        "id": "ZHH-r26ISAc_"
      }
    },
    {
      "cell_type": "code",
      "source": [
        "#the list put in between brackets and separete with comas\n",
        "a = [[11,12,13],[21,22,23],[31,32,33]]\n",
        "a = np.array(a)\n",
        "a"
      ],
      "metadata": {
        "colab": {
          "base_uri": "https://localhost:8080/"
        },
        "id": "0cD39sIDSI_j",
        "outputId": "df937501-58db-41a7-b2bf-49dfff39618f"
      },
      "execution_count": null,
      "outputs": [
        {
          "output_type": "execute_result",
          "data": {
            "text/plain": [
              "array([[11, 12, 13],\n",
              "       [21, 22, 23],\n",
              "       [31, 32, 33]])"
            ]
          },
          "metadata": {},
          "execution_count": 33
        }
      ]
    },
    {
      "cell_type": "code",
      "source": [
        "a.ndim"
      ],
      "metadata": {
        "colab": {
          "base_uri": "https://localhost:8080/"
        },
        "id": "eP7DaqepScSP",
        "outputId": "6119a351-d42f-4db1-ca3e-c2fc1bb9077c"
      },
      "execution_count": null,
      "outputs": [
        {
          "output_type": "execute_result",
          "data": {
            "text/plain": [
              "2"
            ]
          },
          "metadata": {},
          "execution_count": 34
        }
      ]
    },
    {
      "cell_type": "code",
      "source": [
        "a.shape #row and columns, axis 0 and axis 1"
      ],
      "metadata": {
        "colab": {
          "base_uri": "https://localhost:8080/"
        },
        "id": "-Lxle0wLSlKx",
        "outputId": "2e4198f8-d998-44a2-eba5-f4afe0207246"
      },
      "execution_count": null,
      "outputs": [
        {
          "output_type": "execute_result",
          "data": {
            "text/plain": [
              "(3, 3)"
            ]
          },
          "metadata": {},
          "execution_count": 35
        }
      ]
    },
    {
      "cell_type": "code",
      "source": [
        "a.size #total number of elements"
      ],
      "metadata": {
        "colab": {
          "base_uri": "https://localhost:8080/"
        },
        "id": "rXqmZ1jESt8d",
        "outputId": "e40dede0-590a-4920-be81-947adaf6619b"
      },
      "execution_count": null,
      "outputs": [
        {
          "output_type": "execute_result",
          "data": {
            "text/plain": [
              "9"
            ]
          },
          "metadata": {},
          "execution_count": 37
        }
      ]
    },
    {
      "cell_type": "code",
      "source": [
        "#To acces to the 2nd row 3rd column\n",
        "a[1][2]"
      ],
      "metadata": {
        "colab": {
          "base_uri": "https://localhost:8080/"
        },
        "id": "cu59SW4SS-jB",
        "outputId": "3270996d-98f3-4b17-ee03-a2a01853731c"
      },
      "execution_count": null,
      "outputs": [
        {
          "output_type": "execute_result",
          "data": {
            "text/plain": [
              "23"
            ]
          },
          "metadata": {},
          "execution_count": 39
        }
      ]
    },
    {
      "cell_type": "code",
      "source": [
        "#Question 1\n",
        "np.array([[1,2],[3,4],[5,6],[7,8]])"
      ],
      "metadata": {
        "colab": {
          "base_uri": "https://localhost:8080/"
        },
        "id": "9tIYEcsFVpR1",
        "outputId": "65bfc027-c3f4-4776-c499-5928b47ab2ac"
      },
      "execution_count": null,
      "outputs": [
        {
          "output_type": "execute_result",
          "data": {
            "text/plain": [
              "array([[1, 2],\n",
              "       [3, 4],\n",
              "       [5, 6],\n",
              "       [7, 8]])"
            ]
          },
          "metadata": {},
          "execution_count": 40
        }
      ]
    },
    {
      "cell_type": "code",
      "source": [
        "#question 2\n",
        "A = np.array([[1,2],[3,4],[5,6],[7,8]])\n",
        "B = np.array([[1,2,3],[4,5,6],[7,8,9]])\n",
        "\n",
        "A.shape==B.shape\n",
        "#Should be same\n"
      ],
      "metadata": {
        "colab": {
          "base_uri": "https://localhost:8080/"
        },
        "id": "dvse6z_3V7_n",
        "outputId": "8c6252f4-f217-4009-ed53-142ba256abe5"
      },
      "execution_count": null,
      "outputs": [
        {
          "output_type": "execute_result",
          "data": {
            "text/plain": [
              "False"
            ]
          },
          "metadata": {},
          "execution_count": 47
        }
      ]
    },
    {
      "cell_type": "markdown",
      "source": [
        "#MODULE 5 SIMPLE APIs Part 1 (Aplication program interface)\n",
        "\n",
        "An API lets 2 pieces of software talk wo each other, and with the API we can communicate inputs and outputs"
      ],
      "metadata": {
        "id": "HMN_cRXpWtKl"
      }
    },
    {
      "cell_type": "markdown",
      "source": [
        "REST APIs, are anothet popular type of API but through internet.\n",
        "\n",
        "It can use HTTP method to comunicate or send the requst, using Json as dictionary\n",
        "\n",
        "The http request inside the JSon tell the service to do an operation, then the service respond to the client"
      ],
      "metadata": {
        "id": "yh5nrojrXEXP"
      }
    },
    {
      "cell_type": "markdown",
      "source": [
        "About **nba_api** do not need json but it is need ID"
      ],
      "metadata": {
        "id": "2OPjUzzVX4UT"
      }
    },
    {
      "cell_type": "code",
      "source": [
        "pip install nba_api"
      ],
      "metadata": {
        "colab": {
          "base_uri": "https://localhost:8080/"
        },
        "id": "HnXRy_lOZCeo",
        "outputId": "2485d59e-898d-4a44-9357-b43b79c6a945"
      },
      "execution_count": null,
      "outputs": [
        {
          "output_type": "stream",
          "name": "stdout",
          "text": [
            "Looking in indexes: https://pypi.org/simple, https://us-python.pkg.dev/colab-wheels/public/simple/\n",
            "Collecting nba_api\n",
            "  Downloading nba_api-1.1.11.tar.gz (125 kB)\n",
            "\u001b[K     |████████████████████████████████| 125 kB 5.1 MB/s \n",
            "\u001b[?25hRequirement already satisfied: requests in /usr/local/lib/python3.7/dist-packages (from nba_api) (2.23.0)\n",
            "Requirement already satisfied: idna<3,>=2.5 in /usr/local/lib/python3.7/dist-packages (from requests->nba_api) (2.10)\n",
            "Requirement already satisfied: urllib3!=1.25.0,!=1.25.1,<1.26,>=1.21.1 in /usr/local/lib/python3.7/dist-packages (from requests->nba_api) (1.24.3)\n",
            "Requirement already satisfied: certifi>=2017.4.17 in /usr/local/lib/python3.7/dist-packages (from requests->nba_api) (2022.6.15)\n",
            "Requirement already satisfied: chardet<4,>=3.0.2 in /usr/local/lib/python3.7/dist-packages (from requests->nba_api) (3.0.4)\n",
            "Building wheels for collected packages: nba-api\n",
            "  Building wheel for nba-api (setup.py) ... \u001b[?25l\u001b[?25hdone\n",
            "  Created wheel for nba-api: filename=nba_api-1.1.11-py3-none-any.whl size=251504 sha256=2c37a27e1b53e5fdccdd4b8e9de803e83a48597493ebb4c055617a81d512f4d1\n",
            "  Stored in directory: /root/.cache/pip/wheels/e3/f4/46/996128675381abc175e306642bae575d372dcf7efc4683e551\n",
            "Successfully built nba-api\n",
            "Installing collected packages: nba-api\n",
            "Successfully installed nba-api-1.1.11\n"
          ]
        }
      ]
    },
    {
      "cell_type": "code",
      "source": [
        "\n",
        "from nba_api.stats.static import teams\n",
        "nba_teams = teams.get_teams()\n",
        "nba_teams[:5]"
      ],
      "metadata": {
        "colab": {
          "base_uri": "https://localhost:8080/"
        },
        "id": "cSFYRZIuYRe5",
        "outputId": "b0030d8a-b150-4dda-96b9-fd1ce68da36e"
      },
      "execution_count": null,
      "outputs": [
        {
          "output_type": "execute_result",
          "data": {
            "text/plain": [
              "[{'id': 1610612737,\n",
              "  'full_name': 'Atlanta Hawks',\n",
              "  'abbreviation': 'ATL',\n",
              "  'nickname': 'Hawks',\n",
              "  'city': 'Atlanta',\n",
              "  'state': 'Atlanta',\n",
              "  'year_founded': 1949},\n",
              " {'id': 1610612738,\n",
              "  'full_name': 'Boston Celtics',\n",
              "  'abbreviation': 'BOS',\n",
              "  'nickname': 'Celtics',\n",
              "  'city': 'Boston',\n",
              "  'state': 'Massachusetts',\n",
              "  'year_founded': 1946},\n",
              " {'id': 1610612739,\n",
              "  'full_name': 'Cleveland Cavaliers',\n",
              "  'abbreviation': 'CLE',\n",
              "  'nickname': 'Cavaliers',\n",
              "  'city': 'Cleveland',\n",
              "  'state': 'Ohio',\n",
              "  'year_founded': 1970},\n",
              " {'id': 1610612740,\n",
              "  'full_name': 'New Orleans Pelicans',\n",
              "  'abbreviation': 'NOP',\n",
              "  'nickname': 'Pelicans',\n",
              "  'city': 'New Orleans',\n",
              "  'state': 'Louisiana',\n",
              "  'year_founded': 2002},\n",
              " {'id': 1610612741,\n",
              "  'full_name': 'Chicago Bulls',\n",
              "  'abbreviation': 'CHI',\n",
              "  'nickname': 'Bulls',\n",
              "  'city': 'Chicago',\n",
              "  'state': 'Illinois',\n",
              "  'year_founded': 1966}]"
            ]
          },
          "metadata": {},
          "execution_count": 54
        }
      ]
    },
    {
      "cell_type": "code",
      "source": [
        "def one_dict(list_dict):\n",
        "  keys = list_dict[0].keys()\n",
        "  out_dict={key:[] for key in keys}\n",
        "  for dict_ in list_dict:\n",
        "    for key, value in dict_.items():\n",
        "      out_dict[key].append(value)\n",
        "  return out_dict"
      ],
      "metadata": {
        "id": "quhvoj0_ZPFY"
      },
      "execution_count": null,
      "outputs": []
    },
    {
      "cell_type": "code",
      "source": [
        "#first row\n",
        "nba_teams[0]"
      ],
      "metadata": {
        "colab": {
          "base_uri": "https://localhost:8080/"
        },
        "id": "InxBVbbVaPIS",
        "outputId": "ca42830e-0321-477b-dadf-2e1a171c5137"
      },
      "execution_count": null,
      "outputs": [
        {
          "output_type": "execute_result",
          "data": {
            "text/plain": [
              "{'id': 1610612737,\n",
              " 'full_name': 'Atlanta Hawks',\n",
              " 'abbreviation': 'ATL',\n",
              " 'nickname': 'Hawks',\n",
              " 'city': 'Atlanta',\n",
              " 'state': 'Atlanta',\n",
              " 'year_founded': 1949}"
            ]
          },
          "metadata": {},
          "execution_count": 65
        }
      ]
    },
    {
      "cell_type": "code",
      "source": [
        "#get keys for first row\n",
        "nba_teams[0].keys()"
      ],
      "metadata": {
        "colab": {
          "base_uri": "https://localhost:8080/"
        },
        "id": "zDou-M_mafoT",
        "outputId": "4f6561cc-0688-41a7-c455-e7b6405a1a40"
      },
      "execution_count": null,
      "outputs": [
        {
          "output_type": "execute_result",
          "data": {
            "text/plain": [
              "dict_keys(['id', 'full_name', 'abbreviation', 'nickname', 'city', 'state', 'year_founded'])"
            ]
          },
          "metadata": {},
          "execution_count": 66
        }
      ]
    },
    {
      "cell_type": "code",
      "source": [
        "import pandas as pd\n",
        "dict_nba_team=one_dict(nba_teams)\n",
        "df_teams = pd.DataFrame(dict_nba_team)\n",
        "df_teams.head()"
      ],
      "metadata": {
        "colab": {
          "base_uri": "https://localhost:8080/",
          "height": 206
        },
        "id": "tiXOG41qZpDp",
        "outputId": "b5f4ac06-4c4d-481e-806d-26c6e5dc091d"
      },
      "execution_count": null,
      "outputs": [
        {
          "output_type": "execute_result",
          "data": {
            "text/plain": [
              "           id             full_name abbreviation   nickname         city  \\\n",
              "0  1610612737         Atlanta Hawks          ATL      Hawks      Atlanta   \n",
              "1  1610612738        Boston Celtics          BOS    Celtics       Boston   \n",
              "2  1610612739   Cleveland Cavaliers          CLE  Cavaliers    Cleveland   \n",
              "3  1610612740  New Orleans Pelicans          NOP   Pelicans  New Orleans   \n",
              "4  1610612741         Chicago Bulls          CHI      Bulls      Chicago   \n",
              "\n",
              "           state  year_founded  \n",
              "0        Atlanta          1949  \n",
              "1  Massachusetts          1946  \n",
              "2           Ohio          1970  \n",
              "3      Louisiana          2002  \n",
              "4       Illinois          1966  "
            ],
            "text/html": [
              "\n",
              "  <div id=\"df-1d4a1b36-56a6-411a-a526-1fbdfbebeb5b\">\n",
              "    <div class=\"colab-df-container\">\n",
              "      <div>\n",
              "<style scoped>\n",
              "    .dataframe tbody tr th:only-of-type {\n",
              "        vertical-align: middle;\n",
              "    }\n",
              "\n",
              "    .dataframe tbody tr th {\n",
              "        vertical-align: top;\n",
              "    }\n",
              "\n",
              "    .dataframe thead th {\n",
              "        text-align: right;\n",
              "    }\n",
              "</style>\n",
              "<table border=\"1\" class=\"dataframe\">\n",
              "  <thead>\n",
              "    <tr style=\"text-align: right;\">\n",
              "      <th></th>\n",
              "      <th>id</th>\n",
              "      <th>full_name</th>\n",
              "      <th>abbreviation</th>\n",
              "      <th>nickname</th>\n",
              "      <th>city</th>\n",
              "      <th>state</th>\n",
              "      <th>year_founded</th>\n",
              "    </tr>\n",
              "  </thead>\n",
              "  <tbody>\n",
              "    <tr>\n",
              "      <th>0</th>\n",
              "      <td>1610612737</td>\n",
              "      <td>Atlanta Hawks</td>\n",
              "      <td>ATL</td>\n",
              "      <td>Hawks</td>\n",
              "      <td>Atlanta</td>\n",
              "      <td>Atlanta</td>\n",
              "      <td>1949</td>\n",
              "    </tr>\n",
              "    <tr>\n",
              "      <th>1</th>\n",
              "      <td>1610612738</td>\n",
              "      <td>Boston Celtics</td>\n",
              "      <td>BOS</td>\n",
              "      <td>Celtics</td>\n",
              "      <td>Boston</td>\n",
              "      <td>Massachusetts</td>\n",
              "      <td>1946</td>\n",
              "    </tr>\n",
              "    <tr>\n",
              "      <th>2</th>\n",
              "      <td>1610612739</td>\n",
              "      <td>Cleveland Cavaliers</td>\n",
              "      <td>CLE</td>\n",
              "      <td>Cavaliers</td>\n",
              "      <td>Cleveland</td>\n",
              "      <td>Ohio</td>\n",
              "      <td>1970</td>\n",
              "    </tr>\n",
              "    <tr>\n",
              "      <th>3</th>\n",
              "      <td>1610612740</td>\n",
              "      <td>New Orleans Pelicans</td>\n",
              "      <td>NOP</td>\n",
              "      <td>Pelicans</td>\n",
              "      <td>New Orleans</td>\n",
              "      <td>Louisiana</td>\n",
              "      <td>2002</td>\n",
              "    </tr>\n",
              "    <tr>\n",
              "      <th>4</th>\n",
              "      <td>1610612741</td>\n",
              "      <td>Chicago Bulls</td>\n",
              "      <td>CHI</td>\n",
              "      <td>Bulls</td>\n",
              "      <td>Chicago</td>\n",
              "      <td>Illinois</td>\n",
              "      <td>1966</td>\n",
              "    </tr>\n",
              "  </tbody>\n",
              "</table>\n",
              "</div>\n",
              "      <button class=\"colab-df-convert\" onclick=\"convertToInteractive('df-1d4a1b36-56a6-411a-a526-1fbdfbebeb5b')\"\n",
              "              title=\"Convert this dataframe to an interactive table.\"\n",
              "              style=\"display:none;\">\n",
              "        \n",
              "  <svg xmlns=\"http://www.w3.org/2000/svg\" height=\"24px\"viewBox=\"0 0 24 24\"\n",
              "       width=\"24px\">\n",
              "    <path d=\"M0 0h24v24H0V0z\" fill=\"none\"/>\n",
              "    <path d=\"M18.56 5.44l.94 2.06.94-2.06 2.06-.94-2.06-.94-.94-2.06-.94 2.06-2.06.94zm-11 1L8.5 8.5l.94-2.06 2.06-.94-2.06-.94L8.5 2.5l-.94 2.06-2.06.94zm10 10l.94 2.06.94-2.06 2.06-.94-2.06-.94-.94-2.06-.94 2.06-2.06.94z\"/><path d=\"M17.41 7.96l-1.37-1.37c-.4-.4-.92-.59-1.43-.59-.52 0-1.04.2-1.43.59L10.3 9.45l-7.72 7.72c-.78.78-.78 2.05 0 2.83L4 21.41c.39.39.9.59 1.41.59.51 0 1.02-.2 1.41-.59l7.78-7.78 2.81-2.81c.8-.78.8-2.07 0-2.86zM5.41 20L4 18.59l7.72-7.72 1.47 1.35L5.41 20z\"/>\n",
              "  </svg>\n",
              "      </button>\n",
              "      \n",
              "  <style>\n",
              "    .colab-df-container {\n",
              "      display:flex;\n",
              "      flex-wrap:wrap;\n",
              "      gap: 12px;\n",
              "    }\n",
              "\n",
              "    .colab-df-convert {\n",
              "      background-color: #E8F0FE;\n",
              "      border: none;\n",
              "      border-radius: 50%;\n",
              "      cursor: pointer;\n",
              "      display: none;\n",
              "      fill: #1967D2;\n",
              "      height: 32px;\n",
              "      padding: 0 0 0 0;\n",
              "      width: 32px;\n",
              "    }\n",
              "\n",
              "    .colab-df-convert:hover {\n",
              "      background-color: #E2EBFA;\n",
              "      box-shadow: 0px 1px 2px rgba(60, 64, 67, 0.3), 0px 1px 3px 1px rgba(60, 64, 67, 0.15);\n",
              "      fill: #174EA6;\n",
              "    }\n",
              "\n",
              "    [theme=dark] .colab-df-convert {\n",
              "      background-color: #3B4455;\n",
              "      fill: #D2E3FC;\n",
              "    }\n",
              "\n",
              "    [theme=dark] .colab-df-convert:hover {\n",
              "      background-color: #434B5C;\n",
              "      box-shadow: 0px 1px 3px 1px rgba(0, 0, 0, 0.15);\n",
              "      filter: drop-shadow(0px 1px 2px rgba(0, 0, 0, 0.3));\n",
              "      fill: #FFFFFF;\n",
              "    }\n",
              "  </style>\n",
              "\n",
              "      <script>\n",
              "        const buttonEl =\n",
              "          document.querySelector('#df-1d4a1b36-56a6-411a-a526-1fbdfbebeb5b button.colab-df-convert');\n",
              "        buttonEl.style.display =\n",
              "          google.colab.kernel.accessAllowed ? 'block' : 'none';\n",
              "\n",
              "        async function convertToInteractive(key) {\n",
              "          const element = document.querySelector('#df-1d4a1b36-56a6-411a-a526-1fbdfbebeb5b');\n",
              "          const dataTable =\n",
              "            await google.colab.kernel.invokeFunction('convertToInteractive',\n",
              "                                                     [key], {});\n",
              "          if (!dataTable) return;\n",
              "\n",
              "          const docLinkHtml = 'Like what you see? Visit the ' +\n",
              "            '<a target=\"_blank\" href=https://colab.research.google.com/notebooks/data_table.ipynb>data table notebook</a>'\n",
              "            + ' to learn more about interactive tables.';\n",
              "          element.innerHTML = '';\n",
              "          dataTable['output_type'] = 'display_data';\n",
              "          await google.colab.output.renderOutput(dataTable, element);\n",
              "          const docLink = document.createElement('div');\n",
              "          docLink.innerHTML = docLinkHtml;\n",
              "          element.appendChild(docLink);\n",
              "        }\n",
              "      </script>\n",
              "    </div>\n",
              "  </div>\n",
              "  "
            ]
          },
          "metadata": {},
          "execution_count": 60
        }
      ]
    },
    {
      "cell_type": "code",
      "source": [
        "df_warriors=df_teams[df_teams['nickname'] == \"Warriors\"]\n",
        "df_warriors"
      ],
      "metadata": {
        "colab": {
          "base_uri": "https://localhost:8080/",
          "height": 81
        },
        "id": "TvgjY9ofaVV0",
        "outputId": "8e7de853-5af6-427b-a43c-16087a71c18c"
      },
      "execution_count": null,
      "outputs": [
        {
          "output_type": "execute_result",
          "data": {
            "text/plain": [
              "           id              full_name abbreviation  nickname          city  \\\n",
              "7  1610612744  Golden State Warriors          GSW  Warriors  Golden State   \n",
              "\n",
              "        state  year_founded  \n",
              "7  California          1946  "
            ],
            "text/html": [
              "\n",
              "  <div id=\"df-eaa8b3a9-6e8b-4bdb-a665-a2e7477e9688\">\n",
              "    <div class=\"colab-df-container\">\n",
              "      <div>\n",
              "<style scoped>\n",
              "    .dataframe tbody tr th:only-of-type {\n",
              "        vertical-align: middle;\n",
              "    }\n",
              "\n",
              "    .dataframe tbody tr th {\n",
              "        vertical-align: top;\n",
              "    }\n",
              "\n",
              "    .dataframe thead th {\n",
              "        text-align: right;\n",
              "    }\n",
              "</style>\n",
              "<table border=\"1\" class=\"dataframe\">\n",
              "  <thead>\n",
              "    <tr style=\"text-align: right;\">\n",
              "      <th></th>\n",
              "      <th>id</th>\n",
              "      <th>full_name</th>\n",
              "      <th>abbreviation</th>\n",
              "      <th>nickname</th>\n",
              "      <th>city</th>\n",
              "      <th>state</th>\n",
              "      <th>year_founded</th>\n",
              "    </tr>\n",
              "  </thead>\n",
              "  <tbody>\n",
              "    <tr>\n",
              "      <th>7</th>\n",
              "      <td>1610612744</td>\n",
              "      <td>Golden State Warriors</td>\n",
              "      <td>GSW</td>\n",
              "      <td>Warriors</td>\n",
              "      <td>Golden State</td>\n",
              "      <td>California</td>\n",
              "      <td>1946</td>\n",
              "    </tr>\n",
              "  </tbody>\n",
              "</table>\n",
              "</div>\n",
              "      <button class=\"colab-df-convert\" onclick=\"convertToInteractive('df-eaa8b3a9-6e8b-4bdb-a665-a2e7477e9688')\"\n",
              "              title=\"Convert this dataframe to an interactive table.\"\n",
              "              style=\"display:none;\">\n",
              "        \n",
              "  <svg xmlns=\"http://www.w3.org/2000/svg\" height=\"24px\"viewBox=\"0 0 24 24\"\n",
              "       width=\"24px\">\n",
              "    <path d=\"M0 0h24v24H0V0z\" fill=\"none\"/>\n",
              "    <path d=\"M18.56 5.44l.94 2.06.94-2.06 2.06-.94-2.06-.94-.94-2.06-.94 2.06-2.06.94zm-11 1L8.5 8.5l.94-2.06 2.06-.94-2.06-.94L8.5 2.5l-.94 2.06-2.06.94zm10 10l.94 2.06.94-2.06 2.06-.94-2.06-.94-.94-2.06-.94 2.06-2.06.94z\"/><path d=\"M17.41 7.96l-1.37-1.37c-.4-.4-.92-.59-1.43-.59-.52 0-1.04.2-1.43.59L10.3 9.45l-7.72 7.72c-.78.78-.78 2.05 0 2.83L4 21.41c.39.39.9.59 1.41.59.51 0 1.02-.2 1.41-.59l7.78-7.78 2.81-2.81c.8-.78.8-2.07 0-2.86zM5.41 20L4 18.59l7.72-7.72 1.47 1.35L5.41 20z\"/>\n",
              "  </svg>\n",
              "      </button>\n",
              "      \n",
              "  <style>\n",
              "    .colab-df-container {\n",
              "      display:flex;\n",
              "      flex-wrap:wrap;\n",
              "      gap: 12px;\n",
              "    }\n",
              "\n",
              "    .colab-df-convert {\n",
              "      background-color: #E8F0FE;\n",
              "      border: none;\n",
              "      border-radius: 50%;\n",
              "      cursor: pointer;\n",
              "      display: none;\n",
              "      fill: #1967D2;\n",
              "      height: 32px;\n",
              "      padding: 0 0 0 0;\n",
              "      width: 32px;\n",
              "    }\n",
              "\n",
              "    .colab-df-convert:hover {\n",
              "      background-color: #E2EBFA;\n",
              "      box-shadow: 0px 1px 2px rgba(60, 64, 67, 0.3), 0px 1px 3px 1px rgba(60, 64, 67, 0.15);\n",
              "      fill: #174EA6;\n",
              "    }\n",
              "\n",
              "    [theme=dark] .colab-df-convert {\n",
              "      background-color: #3B4455;\n",
              "      fill: #D2E3FC;\n",
              "    }\n",
              "\n",
              "    [theme=dark] .colab-df-convert:hover {\n",
              "      background-color: #434B5C;\n",
              "      box-shadow: 0px 1px 3px 1px rgba(0, 0, 0, 0.15);\n",
              "      filter: drop-shadow(0px 1px 2px rgba(0, 0, 0, 0.3));\n",
              "      fill: #FFFFFF;\n",
              "    }\n",
              "  </style>\n",
              "\n",
              "      <script>\n",
              "        const buttonEl =\n",
              "          document.querySelector('#df-eaa8b3a9-6e8b-4bdb-a665-a2e7477e9688 button.colab-df-convert');\n",
              "        buttonEl.style.display =\n",
              "          google.colab.kernel.accessAllowed ? 'block' : 'none';\n",
              "\n",
              "        async function convertToInteractive(key) {\n",
              "          const element = document.querySelector('#df-eaa8b3a9-6e8b-4bdb-a665-a2e7477e9688');\n",
              "          const dataTable =\n",
              "            await google.colab.kernel.invokeFunction('convertToInteractive',\n",
              "                                                     [key], {});\n",
              "          if (!dataTable) return;\n",
              "\n",
              "          const docLinkHtml = 'Like what you see? Visit the ' +\n",
              "            '<a target=\"_blank\" href=https://colab.research.google.com/notebooks/data_table.ipynb>data table notebook</a>'\n",
              "            + ' to learn more about interactive tables.';\n",
              "          element.innerHTML = '';\n",
              "          dataTable['output_type'] = 'display_data';\n",
              "          await google.colab.output.renderOutput(dataTable, element);\n",
              "          const docLink = document.createElement('div');\n",
              "          docLink.innerHTML = docLinkHtml;\n",
              "          element.appendChild(docLink);\n",
              "        }\n",
              "      </script>\n",
              "    </div>\n",
              "  </div>\n",
              "  "
            ]
          },
          "metadata": {},
          "execution_count": 67
        }
      ]
    },
    {
      "cell_type": "code",
      "source": [
        "id_warriors = df_warriors[['id']].values[0][0]\n",
        "id_warriors"
      ],
      "metadata": {
        "colab": {
          "base_uri": "https://localhost:8080/"
        },
        "id": "uHuMucQ1bLu2",
        "outputId": "245dd989-57d5-47a7-d162-95b70863aeee"
      },
      "execution_count": null,
      "outputs": [
        {
          "output_type": "execute_result",
          "data": {
            "text/plain": [
              "1610612744"
            ]
          },
          "metadata": {},
          "execution_count": 68
        }
      ]
    },
    {
      "cell_type": "code",
      "source": [
        "from nba_api.stats.endpoints import leaguegamefinder\n",
        "gamefinder = leaguegamefinder.LeagueGameFinder(team_id_nullable=id_warriors)\n",
        "games = gamefinder.get_data_frames()[0]\n",
        "games.head()"
      ],
      "metadata": {
        "colab": {
          "base_uri": "https://localhost:8080/",
          "height": 236
        },
        "id": "pR8BVvWWbdXK",
        "outputId": "61b91188-19a1-4aaf-902a-80a00801b404"
      },
      "execution_count": null,
      "outputs": [
        {
          "output_type": "execute_result",
          "data": {
            "text/plain": [
              "  SEASON_ID     TEAM_ID TEAM_ABBREVIATION              TEAM_NAME     GAME_ID  \\\n",
              "0     12022  1610612744               GSW  Golden State Warriors  0012200004   \n",
              "1     12022  1610612744               GSW  Golden State Warriors  0012200001   \n",
              "2     22022  1610612744               GSW  Golden State Warriors  1522200074   \n",
              "3     22022  1610612744               GSW  Golden State Warriors  1522200056   \n",
              "4     22022  1610612744               GSW  Golden State Warriors  1522200035   \n",
              "\n",
              "    GAME_DATE      MATCHUP WL  MIN  PTS  ...  FT_PCT  OREB  DREB   REB  AST  \\\n",
              "0  2022-10-02  GSW vs. WAS  W  240  104  ...   0.667  11.0  36.0  47.0   29   \n",
              "1  2022-09-30    GSW @ WAS  W  239   96  ...   0.775  10.0  52.0  62.0   18   \n",
              "2  2022-07-17  GSW vs. WAS  L  201   77  ...   0.667  12.0  33.0  45.0   15   \n",
              "3  2022-07-15  GSW vs. OKC  L  202   82  ...   0.667   4.0  31.0  35.0   14   \n",
              "4  2022-07-12  GSW vs. BOS  L  199   92  ...   0.667  16.0  22.0  38.0   14   \n",
              "\n",
              "   STL  BLK  TOV  PF  PLUS_MINUS  \n",
              "0    6    5   22  25         9.0  \n",
              "1    6    3   17  27         9.0  \n",
              "2    6    6   21  20       -10.0  \n",
              "3    7    3   16  23        -8.0  \n",
              "4    7    8   13  23       -18.4  \n",
              "\n",
              "[5 rows x 28 columns]"
            ],
            "text/html": [
              "\n",
              "  <div id=\"df-422be37e-6aa1-492b-8b4c-d7cfc20cfb21\">\n",
              "    <div class=\"colab-df-container\">\n",
              "      <div>\n",
              "<style scoped>\n",
              "    .dataframe tbody tr th:only-of-type {\n",
              "        vertical-align: middle;\n",
              "    }\n",
              "\n",
              "    .dataframe tbody tr th {\n",
              "        vertical-align: top;\n",
              "    }\n",
              "\n",
              "    .dataframe thead th {\n",
              "        text-align: right;\n",
              "    }\n",
              "</style>\n",
              "<table border=\"1\" class=\"dataframe\">\n",
              "  <thead>\n",
              "    <tr style=\"text-align: right;\">\n",
              "      <th></th>\n",
              "      <th>SEASON_ID</th>\n",
              "      <th>TEAM_ID</th>\n",
              "      <th>TEAM_ABBREVIATION</th>\n",
              "      <th>TEAM_NAME</th>\n",
              "      <th>GAME_ID</th>\n",
              "      <th>GAME_DATE</th>\n",
              "      <th>MATCHUP</th>\n",
              "      <th>WL</th>\n",
              "      <th>MIN</th>\n",
              "      <th>PTS</th>\n",
              "      <th>...</th>\n",
              "      <th>FT_PCT</th>\n",
              "      <th>OREB</th>\n",
              "      <th>DREB</th>\n",
              "      <th>REB</th>\n",
              "      <th>AST</th>\n",
              "      <th>STL</th>\n",
              "      <th>BLK</th>\n",
              "      <th>TOV</th>\n",
              "      <th>PF</th>\n",
              "      <th>PLUS_MINUS</th>\n",
              "    </tr>\n",
              "  </thead>\n",
              "  <tbody>\n",
              "    <tr>\n",
              "      <th>0</th>\n",
              "      <td>12022</td>\n",
              "      <td>1610612744</td>\n",
              "      <td>GSW</td>\n",
              "      <td>Golden State Warriors</td>\n",
              "      <td>0012200004</td>\n",
              "      <td>2022-10-02</td>\n",
              "      <td>GSW vs. WAS</td>\n",
              "      <td>W</td>\n",
              "      <td>240</td>\n",
              "      <td>104</td>\n",
              "      <td>...</td>\n",
              "      <td>0.667</td>\n",
              "      <td>11.0</td>\n",
              "      <td>36.0</td>\n",
              "      <td>47.0</td>\n",
              "      <td>29</td>\n",
              "      <td>6</td>\n",
              "      <td>5</td>\n",
              "      <td>22</td>\n",
              "      <td>25</td>\n",
              "      <td>9.0</td>\n",
              "    </tr>\n",
              "    <tr>\n",
              "      <th>1</th>\n",
              "      <td>12022</td>\n",
              "      <td>1610612744</td>\n",
              "      <td>GSW</td>\n",
              "      <td>Golden State Warriors</td>\n",
              "      <td>0012200001</td>\n",
              "      <td>2022-09-30</td>\n",
              "      <td>GSW @ WAS</td>\n",
              "      <td>W</td>\n",
              "      <td>239</td>\n",
              "      <td>96</td>\n",
              "      <td>...</td>\n",
              "      <td>0.775</td>\n",
              "      <td>10.0</td>\n",
              "      <td>52.0</td>\n",
              "      <td>62.0</td>\n",
              "      <td>18</td>\n",
              "      <td>6</td>\n",
              "      <td>3</td>\n",
              "      <td>17</td>\n",
              "      <td>27</td>\n",
              "      <td>9.0</td>\n",
              "    </tr>\n",
              "    <tr>\n",
              "      <th>2</th>\n",
              "      <td>22022</td>\n",
              "      <td>1610612744</td>\n",
              "      <td>GSW</td>\n",
              "      <td>Golden State Warriors</td>\n",
              "      <td>1522200074</td>\n",
              "      <td>2022-07-17</td>\n",
              "      <td>GSW vs. WAS</td>\n",
              "      <td>L</td>\n",
              "      <td>201</td>\n",
              "      <td>77</td>\n",
              "      <td>...</td>\n",
              "      <td>0.667</td>\n",
              "      <td>12.0</td>\n",
              "      <td>33.0</td>\n",
              "      <td>45.0</td>\n",
              "      <td>15</td>\n",
              "      <td>6</td>\n",
              "      <td>6</td>\n",
              "      <td>21</td>\n",
              "      <td>20</td>\n",
              "      <td>-10.0</td>\n",
              "    </tr>\n",
              "    <tr>\n",
              "      <th>3</th>\n",
              "      <td>22022</td>\n",
              "      <td>1610612744</td>\n",
              "      <td>GSW</td>\n",
              "      <td>Golden State Warriors</td>\n",
              "      <td>1522200056</td>\n",
              "      <td>2022-07-15</td>\n",
              "      <td>GSW vs. OKC</td>\n",
              "      <td>L</td>\n",
              "      <td>202</td>\n",
              "      <td>82</td>\n",
              "      <td>...</td>\n",
              "      <td>0.667</td>\n",
              "      <td>4.0</td>\n",
              "      <td>31.0</td>\n",
              "      <td>35.0</td>\n",
              "      <td>14</td>\n",
              "      <td>7</td>\n",
              "      <td>3</td>\n",
              "      <td>16</td>\n",
              "      <td>23</td>\n",
              "      <td>-8.0</td>\n",
              "    </tr>\n",
              "    <tr>\n",
              "      <th>4</th>\n",
              "      <td>22022</td>\n",
              "      <td>1610612744</td>\n",
              "      <td>GSW</td>\n",
              "      <td>Golden State Warriors</td>\n",
              "      <td>1522200035</td>\n",
              "      <td>2022-07-12</td>\n",
              "      <td>GSW vs. BOS</td>\n",
              "      <td>L</td>\n",
              "      <td>199</td>\n",
              "      <td>92</td>\n",
              "      <td>...</td>\n",
              "      <td>0.667</td>\n",
              "      <td>16.0</td>\n",
              "      <td>22.0</td>\n",
              "      <td>38.0</td>\n",
              "      <td>14</td>\n",
              "      <td>7</td>\n",
              "      <td>8</td>\n",
              "      <td>13</td>\n",
              "      <td>23</td>\n",
              "      <td>-18.4</td>\n",
              "    </tr>\n",
              "  </tbody>\n",
              "</table>\n",
              "<p>5 rows × 28 columns</p>\n",
              "</div>\n",
              "      <button class=\"colab-df-convert\" onclick=\"convertToInteractive('df-422be37e-6aa1-492b-8b4c-d7cfc20cfb21')\"\n",
              "              title=\"Convert this dataframe to an interactive table.\"\n",
              "              style=\"display:none;\">\n",
              "        \n",
              "  <svg xmlns=\"http://www.w3.org/2000/svg\" height=\"24px\"viewBox=\"0 0 24 24\"\n",
              "       width=\"24px\">\n",
              "    <path d=\"M0 0h24v24H0V0z\" fill=\"none\"/>\n",
              "    <path d=\"M18.56 5.44l.94 2.06.94-2.06 2.06-.94-2.06-.94-.94-2.06-.94 2.06-2.06.94zm-11 1L8.5 8.5l.94-2.06 2.06-.94-2.06-.94L8.5 2.5l-.94 2.06-2.06.94zm10 10l.94 2.06.94-2.06 2.06-.94-2.06-.94-.94-2.06-.94 2.06-2.06.94z\"/><path d=\"M17.41 7.96l-1.37-1.37c-.4-.4-.92-.59-1.43-.59-.52 0-1.04.2-1.43.59L10.3 9.45l-7.72 7.72c-.78.78-.78 2.05 0 2.83L4 21.41c.39.39.9.59 1.41.59.51 0 1.02-.2 1.41-.59l7.78-7.78 2.81-2.81c.8-.78.8-2.07 0-2.86zM5.41 20L4 18.59l7.72-7.72 1.47 1.35L5.41 20z\"/>\n",
              "  </svg>\n",
              "      </button>\n",
              "      \n",
              "  <style>\n",
              "    .colab-df-container {\n",
              "      display:flex;\n",
              "      flex-wrap:wrap;\n",
              "      gap: 12px;\n",
              "    }\n",
              "\n",
              "    .colab-df-convert {\n",
              "      background-color: #E8F0FE;\n",
              "      border: none;\n",
              "      border-radius: 50%;\n",
              "      cursor: pointer;\n",
              "      display: none;\n",
              "      fill: #1967D2;\n",
              "      height: 32px;\n",
              "      padding: 0 0 0 0;\n",
              "      width: 32px;\n",
              "    }\n",
              "\n",
              "    .colab-df-convert:hover {\n",
              "      background-color: #E2EBFA;\n",
              "      box-shadow: 0px 1px 2px rgba(60, 64, 67, 0.3), 0px 1px 3px 1px rgba(60, 64, 67, 0.15);\n",
              "      fill: #174EA6;\n",
              "    }\n",
              "\n",
              "    [theme=dark] .colab-df-convert {\n",
              "      background-color: #3B4455;\n",
              "      fill: #D2E3FC;\n",
              "    }\n",
              "\n",
              "    [theme=dark] .colab-df-convert:hover {\n",
              "      background-color: #434B5C;\n",
              "      box-shadow: 0px 1px 3px 1px rgba(0, 0, 0, 0.15);\n",
              "      filter: drop-shadow(0px 1px 2px rgba(0, 0, 0, 0.3));\n",
              "      fill: #FFFFFF;\n",
              "    }\n",
              "  </style>\n",
              "\n",
              "      <script>\n",
              "        const buttonEl =\n",
              "          document.querySelector('#df-422be37e-6aa1-492b-8b4c-d7cfc20cfb21 button.colab-df-convert');\n",
              "        buttonEl.style.display =\n",
              "          google.colab.kernel.accessAllowed ? 'block' : 'none';\n",
              "\n",
              "        async function convertToInteractive(key) {\n",
              "          const element = document.querySelector('#df-422be37e-6aa1-492b-8b4c-d7cfc20cfb21');\n",
              "          const dataTable =\n",
              "            await google.colab.kernel.invokeFunction('convertToInteractive',\n",
              "                                                     [key], {});\n",
              "          if (!dataTable) return;\n",
              "\n",
              "          const docLinkHtml = 'Like what you see? Visit the ' +\n",
              "            '<a target=\"_blank\" href=https://colab.research.google.com/notebooks/data_table.ipynb>data table notebook</a>'\n",
              "            + ' to learn more about interactive tables.';\n",
              "          element.innerHTML = '';\n",
              "          dataTable['output_type'] = 'display_data';\n",
              "          await google.colab.output.renderOutput(dataTable, element);\n",
              "          const docLink = document.createElement('div');\n",
              "          docLink.innerHTML = docLinkHtml;\n",
              "          element.appendChild(docLink);\n",
              "        }\n",
              "      </script>\n",
              "    </div>\n",
              "  </div>\n",
              "  "
            ]
          },
          "metadata": {},
          "execution_count": 70
        }
      ]
    },
    {
      "cell_type": "code",
      "source": [
        "games_home = games[games['MATCHUP']=='GSW vs. TOR']\n",
        "games_away = games[games['MATCHUP']=='GSW @ TOR']\n"
      ],
      "metadata": {
        "id": "DKCLh-aacLj2"
      },
      "execution_count": null,
      "outputs": []
    },
    {
      "cell_type": "code",
      "source": [
        "fig, ax = plt.subplots()\n",
        "games_away.plot(x = 'GAME_DATE', y='PLUS_MINUS', ax = ax)\n",
        "games_home.plot(x = 'GAME_DATE', y='PLUS_MINUS', ax = ax)\n",
        "ax.legend(['away','home'])\n",
        "plt.show()"
      ],
      "metadata": {
        "colab": {
          "base_uri": "https://localhost:8080/",
          "height": 280
        },
        "id": "i7jNSrC_cT34",
        "outputId": "66c8060a-f5e3-474b-b8e1-0b833bf94d28"
      },
      "execution_count": null,
      "outputs": [
        {
          "output_type": "display_data",
          "data": {
            "text/plain": [
              "<Figure size 432x288 with 1 Axes>"
            ],
            "image/png": "[encoded data removed]"
          },
          "metadata": {
            "needs_background": "light"
          }
        }
      ]
    },
    {
      "cell_type": "markdown",
      "source": [
        "#MODULE 5 API PART 2"
      ],
      "metadata": {
        "id": "SK0TbY88dxut"
      }
    },
    {
      "cell_type": "markdown",
      "source": [
        "**API Keys and endpoints**"
      ],
      "metadata": {
        "id": "KCTy9FVBd4Qo"
      }
    },
    {
      "cell_type": "code",
      "source": [
        "pip install ibm-watson"
      ],
      "metadata": {
        "id": "Ufo8TFAXeVHi",
        "outputId": "62e97682-f720-48b4-d111-970fa3011dc8",
        "colab": {
          "base_uri": "https://localhost:8080/"
        }
      },
      "execution_count": 6,
      "outputs": [
        {
          "output_type": "stream",
          "name": "stdout",
          "text": [
            "Looking in indexes: https://pypi.org/simple, https://us-python.pkg.dev/colab-wheels/public/simple/\n",
            "Requirement already satisfied: ibm-watson in /usr/local/lib/python3.7/dist-packages (6.1.0)\n",
            "Requirement already satisfied: python-dateutil>=2.5.3 in /usr/local/lib/python3.7/dist-packages (from ibm-watson) (2.8.2)\n",
            "Requirement already satisfied: ibm-cloud-sdk-core==3.*,>=3.3.6 in /usr/local/lib/python3.7/dist-packages (from ibm-watson) (3.16.0)\n",
            "Requirement already satisfied: websocket-client==1.1.0 in /usr/local/lib/python3.7/dist-packages (from ibm-watson) (1.1.0)\n",
            "Requirement already satisfied: requests<3.0,>=2.0 in /usr/local/lib/python3.7/dist-packages (from ibm-watson) (2.28.1)\n",
            "Requirement already satisfied: urllib3<2.0.0,>=1.26.0 in /usr/local/lib/python3.7/dist-packages (from ibm-cloud-sdk-core==3.*,>=3.3.6->ibm-watson) (1.26.12)\n",
            "Requirement already satisfied: PyJWT<3.0.0,>=2.4.0 in /usr/local/lib/python3.7/dist-packages (from ibm-cloud-sdk-core==3.*,>=3.3.6->ibm-watson) (2.5.0)\n",
            "Requirement already satisfied: six>=1.5 in /usr/local/lib/python3.7/dist-packages (from python-dateutil>=2.5.3->ibm-watson) (1.15.0)\n",
            "Requirement already satisfied: charset-normalizer<3,>=2 in /usr/local/lib/python3.7/dist-packages (from requests<3.0,>=2.0->ibm-watson) (2.1.1)\n",
            "Requirement already satisfied: idna<4,>=2.5 in /usr/local/lib/python3.7/dist-packages (from requests<3.0,>=2.0->ibm-watson) (2.10)\n",
            "Requirement already satisfied: certifi>=2017.4.17 in /usr/local/lib/python3.7/dist-packages (from requests<3.0,>=2.0->ibm-watson) (2022.6.15)\n"
          ]
        }
      ]
    },
    {
      "cell_type": "code",
      "source": [
        "from ibm_watson import SpeechToTextV1\n",
        "\n",
        "url_s2t = \"https://stream.watsonplatform.net/speech-to-text/api\"\n",
        "apikey_lt='dU2SaxxxxxxxxxxxxasdCuasdf'\n",
        "version_lt ='2018-05-01'\n",
        "\n",
        "language_translator = LanguageTranslatorV3(iam_apikey=apikey_lt,url=url_lt,version=version_lt)\n",
        "language_translator.list_identifiable_languages().get_result()  "
      ],
      "metadata": {
        "id": "vA7BewgjeIEW"
      },
      "execution_count": null,
      "outputs": []
    },
    {
      "cell_type": "markdown",
      "source": [
        "I can not execute the ibm watson, I dont have access\n"
      ],
      "metadata": {
        "id": "C6oqh129Bi4w"
      }
    }
  ]
}