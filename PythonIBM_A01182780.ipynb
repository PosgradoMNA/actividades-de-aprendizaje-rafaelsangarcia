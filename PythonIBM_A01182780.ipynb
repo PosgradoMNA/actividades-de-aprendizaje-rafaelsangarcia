{
  "nbformat": 4,
  "nbformat_minor": 0,
  "metadata": {
    "colab": {
      "provenance": [],
      "authorship_tag": "ABX9TyMgAklEvmtAAoNUZ0Y+ItOM",
      "include_colab_link": true
    },
    "kernelspec": {
      "name": "python3",
      "display_name": "Python 3"
    },
    "language_info": {
      "name": "python"
    }
  },
  "cells": [
    {
      "cell_type": "markdown",
      "metadata": {
        "id": "view-in-github",
        "colab_type": "text"
      },
      "source": [
        "<a href=\"https://colab.research.google.com/github/PosgradoMNA/actividades-de-aprendizaje-rafaelsangarcia/blob/main/PythonIBM_A01182780.ipynb\" target=\"_parent\"><img src=\"https://colab.research.google.com/assets/colab-badge.svg\" alt=\"Open In Colab\"/></a>"
      ]
    },
    {
      "cell_type": "markdown",
      "source": [
        "# PYTHON FOR DATA SCIENCE (IBM)\n",
        "STUDENT: A01182780 RAFAEL SANCHEZ GARCIA\n",
        "\n"
      ],
      "metadata": {
        "id": "9KOTLA7VNvGk"
      }
    },
    {
      "cell_type": "markdown",
      "source": [
        "#Module 1"
      ],
      "metadata": {
        "id": "n2CgmG2CP8hm"
      }
    },
    {
      "cell_type": "code",
      "source": [
        "print(\"Hello Python 101\") #print something"
      ],
      "metadata": {
        "colab": {
          "base_uri": "https://localhost:8080/"
        },
        "id": "KO7hVfrBN_9o",
        "outputId": "f166fd4c-0bbd-4a27-ec7b-36e73a240775"
      },
      "execution_count": 2,
      "outputs": [
        {
          "output_type": "stream",
          "name": "stdout",
          "text": [
            "Hello Python 101\n"
          ]
        }
      ]
    },
    {
      "cell_type": "code",
      "source": [
        "#Question 1\n",
        "print(\"Hello\\nWorld!\") # with \\n jump to a new line"
      ],
      "metadata": {
        "colab": {
          "base_uri": "https://localhost:8080/"
        },
        "id": "JKJHHVddPlic",
        "outputId": "ccba8d59-2688-4951-c721-ebba34f54d88"
      },
      "execution_count": 3,
      "outputs": [
        {
          "output_type": "stream",
          "name": "stdout",
          "text": [
            "Hello\n",
            "World!\n"
          ]
        }
      ]
    },
    {
      "cell_type": "code",
      "source": [
        "#Question 2\n",
        "# print('Hello World!')"
      ],
      "metadata": {
        "id": "n-gxuowgP0x0"
      },
      "execution_count": 5,
      "outputs": []
    },
    {
      "cell_type": "markdown",
      "source": [
        "#Module 1 - Types"
      ],
      "metadata": {
        "id": "LMoskAwhQqps"
      }
    },
    {
      "cell_type": "code",
      "source": [
        "#Question 2\n",
        "bool(1)"
      ],
      "metadata": {
        "colab": {
          "base_uri": "https://localhost:8080/"
        },
        "id": "QCdCqGRvQt8f",
        "outputId": "b088e3a2-d1ea-4485-d015-b88515a355af"
      },
      "execution_count": 4,
      "outputs": [
        {
          "output_type": "execute_result",
          "data": {
            "text/plain": [
              "True"
            ]
          },
          "metadata": {},
          "execution_count": 4
        }
      ]
    },
    {
      "cell_type": "markdown",
      "source": [
        "#Moduel 1 - Expressions and Variables"
      ],
      "metadata": {
        "id": "eLnIIXpSROho"
      }
    },
    {
      "cell_type": "markdown",
      "source": [
        " with \"//\" the division will be by integer, and with one \"/\" is float"
      ],
      "metadata": {
        "id": "WNTl9MlqRlIB"
      }
    },
    {
      "cell_type": "code",
      "source": [
        "# I already know how to use variables and expressions"
      ],
      "metadata": {
        "id": "sWzLC-TzRv_l"
      },
      "execution_count": 6,
      "outputs": []
    },
    {
      "cell_type": "markdown",
      "source": [
        "#Module 1 - String Operators\n",
        "\n",
        "You can use single or double quotes. string can be access by index, it is works as a array too\n"
      ],
      "metadata": {
        "id": "nTBhAHt5SlsP"
      }
    },
    {
      "cell_type": "code",
      "source": [
        "Name= \"Michael Jackson\"\n",
        "print(Name)\n",
        "print(\"Name[0] = \" ,Name[0])\n",
        "print(\"Name[0] = \" ,Name[6])\n",
        "print(\"Name[0] = \" ,Name[13])"
      ],
      "metadata": {
        "colab": {
          "base_uri": "https://localhost:8080/"
        },
        "id": "FydSeDftTO7O",
        "outputId": "40b9a951-a905-4608-ba01-b0dad319bcb9"
      },
      "execution_count": 10,
      "outputs": [
        {
          "output_type": "stream",
          "name": "stdout",
          "text": [
            "Michael Jackson\n",
            "Name[0] =  M\n",
            "Name[0] =  l\n",
            "Name[0] =  o\n"
          ]
        }
      ]
    },
    {
      "cell_type": "code",
      "source": [
        "#index could be also negative\n",
        "print(\"Name[0] = \" ,Name[-15])\n",
        "print(\"Name[0] = \" ,Name[-7])\n",
        "print(\"Name[0] = \" ,Name[-1])\n"
      ],
      "metadata": {
        "colab": {
          "base_uri": "https://localhost:8080/"
        },
        "id": "2JgSHQWBTr7B",
        "outputId": "81ef1e69-451f-44a0-e0f2-43e20fb8bf0d"
      },
      "execution_count": 11,
      "outputs": [
        {
          "output_type": "stream",
          "name": "stdout",
          "text": [
            "Name[0] =  M\n",
            "Name[0] =  J\n",
            "Name[0] =  n\n"
          ]
        }
      ]
    },
    {
      "cell_type": "code",
      "source": [
        "#slicing\n",
        "Name[0:4]"
      ],
      "metadata": {
        "colab": {
          "base_uri": "https://localhost:8080/",
          "height": 36
        },
        "id": "9oXAC4mdT7Gj",
        "outputId": "31c7ecc0-89bd-4cf9-c61c-fa7e7c00e24d"
      },
      "execution_count": 12,
      "outputs": [
        {
          "output_type": "execute_result",
          "data": {
            "text/plain": [
              "'Mich'"
            ],
            "application/vnd.google.colaboratory.intrinsic+json": {
              "type": "string"
            }
          },
          "metadata": {},
          "execution_count": 12
        }
      ]
    },
    {
      "cell_type": "code",
      "source": [
        "#stride\n",
        "Name[::2] #it will select every second variable"
      ],
      "metadata": {
        "colab": {
          "base_uri": "https://localhost:8080/",
          "height": 36
        },
        "id": "2hmQO6T7UGY7",
        "outputId": "7f519e07-94cb-4b71-a598-605f61c1d787"
      },
      "execution_count": 14,
      "outputs": [
        {
          "output_type": "execute_result",
          "data": {
            "text/plain": [
              "'McalJcsn'"
            ],
            "application/vnd.google.colaboratory.intrinsic+json": {
              "type": "string"
            }
          },
          "metadata": {},
          "execution_count": 14
        }
      ]
    },
    {
      "cell_type": "code",
      "source": [
        "#stride with slicing\n",
        "Name[0:5:2] # 0 index is start, 5 index is finish, 2 steps"
      ],
      "metadata": {
        "colab": {
          "base_uri": "https://localhost:8080/",
          "height": 36
        },
        "id": "6_js4dGCUUNP",
        "outputId": "aeb0b117-4788-412c-84ff-ea96441d2283"
      },
      "execution_count": 17,
      "outputs": [
        {
          "output_type": "execute_result",
          "data": {
            "text/plain": [
              "'Mca'"
            ],
            "application/vnd.google.colaboratory.intrinsic+json": {
              "type": "string"
            }
          },
          "metadata": {},
          "execution_count": 17
        }
      ]
    },
    {
      "cell_type": "code",
      "source": [
        "#Question 1\n",
        "Numbers = \"0123456\"\n",
        "Numbers[::2] #get the even elements"
      ],
      "metadata": {
        "colab": {
          "base_uri": "https://localhost:8080/",
          "height": 36
        },
        "id": "t_jKxMrsVQZI",
        "outputId": "a2f8e542-738f-4c86-f5dc-64eda811eb42"
      },
      "execution_count": 18,
      "outputs": [
        {
          "output_type": "execute_result",
          "data": {
            "text/plain": [
              "'0246'"
            ],
            "application/vnd.google.colaboratory.intrinsic+json": {
              "type": "string"
            }
          },
          "metadata": {},
          "execution_count": 18
        }
      ]
    },
    {
      "cell_type": "code",
      "source": [
        "#Question 2\n",
        "\"0123456\".find('1') #it is 1 because the '1' is on index 1"
      ],
      "metadata": {
        "colab": {
          "base_uri": "https://localhost:8080/"
        },
        "id": "IaqHW9LCVvy5",
        "outputId": "2890cead-4199-4069-9b96-b2b80c7ae236"
      },
      "execution_count": 20,
      "outputs": [
        {
          "output_type": "execute_result",
          "data": {
            "text/plain": [
              "1"
            ]
          },
          "metadata": {},
          "execution_count": 20
        }
      ]
    },
    {
      "cell_type": "markdown",
      "source": [
        "#Module 1 - Review Questions"
      ],
      "metadata": {
        "id": "aiJU-CGhWU_-"
      }
    },
    {
      "cell_type": "code",
      "source": [
        "3 + 2 * 2"
      ],
      "metadata": {
        "colab": {
          "base_uri": "https://localhost:8080/"
        },
        "id": "NCWFjDp6WZRl",
        "outputId": "8440190b-3862-403b-a0a3-6ead4bd78c33"
      },
      "execution_count": 21,
      "outputs": [
        {
          "output_type": "execute_result",
          "data": {
            "text/plain": [
              "7"
            ]
          },
          "metadata": {},
          "execution_count": 21
        }
      ]
    },
    {
      "cell_type": "code",
      "source": [
        "name = 'Lizz'\n",
        "print(name[0:2])"
      ],
      "metadata": {
        "colab": {
          "base_uri": "https://localhost:8080/"
        },
        "id": "vJAwZ8YKWief",
        "outputId": "97472911-5fda-4bf7-a294-94313782a0b9"
      },
      "execution_count": 22,
      "outputs": [
        {
          "output_type": "stream",
          "name": "stdout",
          "text": [
            "Li\n"
          ]
        }
      ]
    },
    {
      "cell_type": "code",
      "source": [
        "var = '01234567'\n",
        "print(var[::2])"
      ],
      "metadata": {
        "colab": {
          "base_uri": "https://localhost:8080/"
        },
        "id": "XtM7f2FjWrqS",
        "outputId": "97e1ca51-77e3-48ad-8336-c03618779017"
      },
      "execution_count": 23,
      "outputs": [
        {
          "output_type": "stream",
          "name": "stdout",
          "text": [
            "0246\n"
          ]
        }
      ]
    },
    {
      "cell_type": "code",
      "source": [
        "'1'+'2'\n"
      ],
      "metadata": {
        "colab": {
          "base_uri": "https://localhost:8080/",
          "height": 36
        },
        "id": "Ptad6_W7W253",
        "outputId": "ebb4ac9b-bdea-4368-feb4-f472357d333e"
      },
      "execution_count": 24,
      "outputs": [
        {
          "output_type": "execute_result",
          "data": {
            "text/plain": [
              "'12'"
            ],
            "application/vnd.google.colaboratory.intrinsic+json": {
              "type": "string"
            }
          },
          "metadata": {},
          "execution_count": 24
        }
      ]
    },
    {
      "cell_type": "code",
      "source": [
        "myvar = 'hello'\n",
        "myvar.upper()"
      ],
      "metadata": {
        "colab": {
          "base_uri": "https://localhost:8080/",
          "height": 36
        },
        "id": "MAgJuokFW8wG",
        "outputId": "964f6339-b688-47ce-995c-bdcc015f23bd"
      },
      "execution_count": 25,
      "outputs": [
        {
          "output_type": "execute_result",
          "data": {
            "text/plain": [
              "'HELLO'"
            ],
            "application/vnd.google.colaboratory.intrinsic+json": {
              "type": "string"
            }
          },
          "metadata": {},
          "execution_count": 25
        }
      ]
    }
  ]
}