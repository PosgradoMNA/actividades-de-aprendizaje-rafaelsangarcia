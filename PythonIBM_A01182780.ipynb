{
  "nbformat": 4,
  "nbformat_minor": 0,
  "metadata": {
    "colab": {
      "provenance": [],
      "include_colab_link": true
    },
    "kernelspec": {
      "name": "python3",
      "display_name": "Python 3"
    },
    "language_info": {
      "name": "python"
    }
  },
  "cells": [
    {
      "cell_type": "markdown",
      "metadata": {
        "id": "view-in-github",
        "colab_type": "text"
      },
      "source": [
        "<a href=\"https://colab.research.google.com/github/PosgradoMNA/actividades-de-aprendizaje-rafaelsangarcia/blob/main/PythonIBM_A01182780.ipynb\" target=\"_parent\"><img src=\"https://colab.research.google.com/assets/colab-badge.svg\" alt=\"Open In Colab\"/></a>"
      ]
    },
    {
      "cell_type": "markdown",
      "source": [
        "# PYTHON FOR DATA SCIENCE (IBM)\n",
        "STUDENT: A01182780 RAFAEL SANCHEZ GARCIA\n",
        "\n"
      ],
      "metadata": {
        "id": "9KOTLA7VNvGk"
      }
    },
    {
      "cell_type": "markdown",
      "source": [
        "#Module 1"
      ],
      "metadata": {
        "id": "n2CgmG2CP8hm"
      }
    },
    {
      "cell_type": "code",
      "source": [
        "print(\"Hello Python 101\") #print something"
      ],
      "metadata": {
        "colab": {
          "base_uri": "https://localhost:8080/"
        },
        "id": "KO7hVfrBN_9o",
        "outputId": "f166fd4c-0bbd-4a27-ec7b-36e73a240775"
      },
      "execution_count": null,
      "outputs": [
        {
          "output_type": "stream",
          "name": "stdout",
          "text": [
            "Hello Python 101\n"
          ]
        }
      ]
    },
    {
      "cell_type": "code",
      "source": [
        "#Question 1\n",
        "print(\"Hello\\nWorld!\") # with \\n jump to a new line"
      ],
      "metadata": {
        "colab": {
          "base_uri": "https://localhost:8080/"
        },
        "id": "JKJHHVddPlic",
        "outputId": "ccba8d59-2688-4951-c721-ebba34f54d88"
      },
      "execution_count": null,
      "outputs": [
        {
          "output_type": "stream",
          "name": "stdout",
          "text": [
            "Hello\n",
            "World!\n"
          ]
        }
      ]
    },
    {
      "cell_type": "code",
      "source": [
        "#Question 2\n",
        "# print('Hello World!')"
      ],
      "metadata": {
        "id": "n-gxuowgP0x0"
      },
      "execution_count": null,
      "outputs": []
    },
    {
      "cell_type": "markdown",
      "source": [
        "#Module 1 - Types"
      ],
      "metadata": {
        "id": "LMoskAwhQqps"
      }
    },
    {
      "cell_type": "code",
      "source": [
        "#Question 2\n",
        "bool(1)"
      ],
      "metadata": {
        "colab": {
          "base_uri": "https://localhost:8080/"
        },
        "id": "QCdCqGRvQt8f",
        "outputId": "b088e3a2-d1ea-4485-d015-b88515a355af"
      },
      "execution_count": null,
      "outputs": [
        {
          "output_type": "execute_result",
          "data": {
            "text/plain": [
              "True"
            ]
          },
          "metadata": {},
          "execution_count": 4
        }
      ]
    },
    {
      "cell_type": "markdown",
      "source": [
        "#Moduel 1 - Expressions and Variables"
      ],
      "metadata": {
        "id": "eLnIIXpSROho"
      }
    },
    {
      "cell_type": "markdown",
      "source": [
        " with \"//\" the division will be by integer, and with one \"/\" is float"
      ],
      "metadata": {
        "id": "WNTl9MlqRlIB"
      }
    },
    {
      "cell_type": "code",
      "source": [
        "# I already know how to use variables and expressions"
      ],
      "metadata": {
        "id": "sWzLC-TzRv_l"
      },
      "execution_count": null,
      "outputs": []
    },
    {
      "cell_type": "markdown",
      "source": [
        "#Module 1 - String Operators\n",
        "\n",
        "You can use single or double quotes. string can be access by index, it is works as a array too\n"
      ],
      "metadata": {
        "id": "nTBhAHt5SlsP"
      }
    },
    {
      "cell_type": "code",
      "source": [
        "Name= \"Michael Jackson\"\n",
        "print(Name)\n",
        "print(\"Name[0] = \" ,Name[0])\n",
        "print(\"Name[0] = \" ,Name[6])\n",
        "print(\"Name[0] = \" ,Name[13])"
      ],
      "metadata": {
        "colab": {
          "base_uri": "https://localhost:8080/"
        },
        "id": "FydSeDftTO7O",
        "outputId": "40b9a951-a905-4608-ba01-b0dad319bcb9"
      },
      "execution_count": null,
      "outputs": [
        {
          "output_type": "stream",
          "name": "stdout",
          "text": [
            "Michael Jackson\n",
            "Name[0] =  M\n",
            "Name[0] =  l\n",
            "Name[0] =  o\n"
          ]
        }
      ]
    },
    {
      "cell_type": "code",
      "source": [
        "#index could be also negative\n",
        "print(\"Name[0] = \" ,Name[-15])\n",
        "print(\"Name[0] = \" ,Name[-7])\n",
        "print(\"Name[0] = \" ,Name[-1])\n"
      ],
      "metadata": {
        "colab": {
          "base_uri": "https://localhost:8080/"
        },
        "id": "2JgSHQWBTr7B",
        "outputId": "81ef1e69-451f-44a0-e0f2-43e20fb8bf0d"
      },
      "execution_count": null,
      "outputs": [
        {
          "output_type": "stream",
          "name": "stdout",
          "text": [
            "Name[0] =  M\n",
            "Name[0] =  J\n",
            "Name[0] =  n\n"
          ]
        }
      ]
    },
    {
      "cell_type": "code",
      "source": [
        "#slicing\n",
        "Name[0:4]"
      ],
      "metadata": {
        "colab": {
          "base_uri": "https://localhost:8080/",
          "height": 36
        },
        "id": "9oXAC4mdT7Gj",
        "outputId": "31c7ecc0-89bd-4cf9-c61c-fa7e7c00e24d"
      },
      "execution_count": null,
      "outputs": [
        {
          "output_type": "execute_result",
          "data": {
            "text/plain": [
              "'Mich'"
            ],
            "application/vnd.google.colaboratory.intrinsic+json": {
              "type": "string"
            }
          },
          "metadata": {},
          "execution_count": 12
        }
      ]
    },
    {
      "cell_type": "code",
      "source": [
        "#stride\n",
        "Name[::2] #it will select every second variable"
      ],
      "metadata": {
        "colab": {
          "base_uri": "https://localhost:8080/",
          "height": 36
        },
        "id": "2hmQO6T7UGY7",
        "outputId": "7f519e07-94cb-4b71-a598-605f61c1d787"
      },
      "execution_count": null,
      "outputs": [
        {
          "output_type": "execute_result",
          "data": {
            "text/plain": [
              "'McalJcsn'"
            ],
            "application/vnd.google.colaboratory.intrinsic+json": {
              "type": "string"
            }
          },
          "metadata": {},
          "execution_count": 14
        }
      ]
    },
    {
      "cell_type": "code",
      "source": [
        "#stride with slicing\n",
        "Name[0:5:2] # 0 index is start, 5 index is finish, 2 steps"
      ],
      "metadata": {
        "colab": {
          "base_uri": "https://localhost:8080/",
          "height": 36
        },
        "id": "6_js4dGCUUNP",
        "outputId": "aeb0b117-4788-412c-84ff-ea96441d2283"
      },
      "execution_count": null,
      "outputs": [
        {
          "output_type": "execute_result",
          "data": {
            "text/plain": [
              "'Mca'"
            ],
            "application/vnd.google.colaboratory.intrinsic+json": {
              "type": "string"
            }
          },
          "metadata": {},
          "execution_count": 17
        }
      ]
    },
    {
      "cell_type": "code",
      "source": [
        "#Question 1\n",
        "Numbers = \"0123456\"\n",
        "Numbers[::2] #get the even elements"
      ],
      "metadata": {
        "colab": {
          "base_uri": "https://localhost:8080/",
          "height": 36
        },
        "id": "t_jKxMrsVQZI",
        "outputId": "a2f8e542-738f-4c86-f5dc-64eda811eb42"
      },
      "execution_count": null,
      "outputs": [
        {
          "output_type": "execute_result",
          "data": {
            "text/plain": [
              "'0246'"
            ],
            "application/vnd.google.colaboratory.intrinsic+json": {
              "type": "string"
            }
          },
          "metadata": {},
          "execution_count": 18
        }
      ]
    },
    {
      "cell_type": "code",
      "source": [
        "#Question 2\n",
        "\"0123456\".find('1') #it is 1 because the '1' is on index 1"
      ],
      "metadata": {
        "colab": {
          "base_uri": "https://localhost:8080/"
        },
        "id": "IaqHW9LCVvy5",
        "outputId": "2890cead-4199-4069-9b96-b2b80c7ae236"
      },
      "execution_count": null,
      "outputs": [
        {
          "output_type": "execute_result",
          "data": {
            "text/plain": [
              "1"
            ]
          },
          "metadata": {},
          "execution_count": 20
        }
      ]
    },
    {
      "cell_type": "markdown",
      "source": [
        "#Module 1 - Review Questions"
      ],
      "metadata": {
        "id": "aiJU-CGhWU_-"
      }
    },
    {
      "cell_type": "code",
      "source": [
        "3 + 2 * 2"
      ],
      "metadata": {
        "colab": {
          "base_uri": "https://localhost:8080/"
        },
        "id": "NCWFjDp6WZRl",
        "outputId": "8440190b-3862-403b-a0a3-6ead4bd78c33"
      },
      "execution_count": null,
      "outputs": [
        {
          "output_type": "execute_result",
          "data": {
            "text/plain": [
              "7"
            ]
          },
          "metadata": {},
          "execution_count": 21
        }
      ]
    },
    {
      "cell_type": "code",
      "source": [
        "name = 'Lizz'\n",
        "print(name[0:2])"
      ],
      "metadata": {
        "colab": {
          "base_uri": "https://localhost:8080/"
        },
        "id": "vJAwZ8YKWief",
        "outputId": "97472911-5fda-4bf7-a294-94313782a0b9"
      },
      "execution_count": null,
      "outputs": [
        {
          "output_type": "stream",
          "name": "stdout",
          "text": [
            "Li\n"
          ]
        }
      ]
    },
    {
      "cell_type": "code",
      "source": [
        "var = '01234567'\n",
        "print(var[::2])"
      ],
      "metadata": {
        "colab": {
          "base_uri": "https://localhost:8080/"
        },
        "id": "XtM7f2FjWrqS",
        "outputId": "97e1ca51-77e3-48ad-8336-c03618779017"
      },
      "execution_count": null,
      "outputs": [
        {
          "output_type": "stream",
          "name": "stdout",
          "text": [
            "0246\n"
          ]
        }
      ]
    },
    {
      "cell_type": "code",
      "source": [
        "'1'+'2'\n"
      ],
      "metadata": {
        "colab": {
          "base_uri": "https://localhost:8080/",
          "height": 36
        },
        "id": "Ptad6_W7W253",
        "outputId": "ebb4ac9b-bdea-4368-feb4-f472357d333e"
      },
      "execution_count": null,
      "outputs": [
        {
          "output_type": "execute_result",
          "data": {
            "text/plain": [
              "'12'"
            ],
            "application/vnd.google.colaboratory.intrinsic+json": {
              "type": "string"
            }
          },
          "metadata": {},
          "execution_count": 24
        }
      ]
    },
    {
      "cell_type": "code",
      "source": [
        "myvar = 'hello'\n",
        "myvar.upper()"
      ],
      "metadata": {
        "colab": {
          "base_uri": "https://localhost:8080/",
          "height": 36
        },
        "id": "MAgJuokFW8wG",
        "outputId": "964f6339-b688-47ce-995c-bdcc015f23bd"
      },
      "execution_count": null,
      "outputs": [
        {
          "output_type": "execute_result",
          "data": {
            "text/plain": [
              "'HELLO'"
            ],
            "application/vnd.google.colaboratory.intrinsic+json": {
              "type": "string"
            }
          },
          "metadata": {},
          "execution_count": 25
        }
      ]
    },
    {
      "cell_type": "markdown",
      "source": [
        "#Module 2 - List and Tuples\n",
        "\n",
        "**Tuples** are an ordered sequence, this are written as comma-separated elements within parentesis.\n",
        "\n",
        "Tuple can hold any data type, however the type of tuple is tuple. It can be accessed via index\n",
        "\n",
        "**Tuple are Immutable, that is means it can not be changed**"
      ],
      "metadata": {
        "id": "jE3LMfoLXZfz"
      }
    },
    {
      "cell_type": "code",
      "source": [],
      "metadata": {
        "id": "-QDG8Cy1ZEB9"
      },
      "execution_count": null,
      "outputs": []
    },
    {
      "cell_type": "code",
      "source": [
        "Ratings=(10,9,6,5,10,8,9,6,2)\n",
        "Tuple1 = (\"disco\",10,1.2) #strig, int, float\n",
        "print(Tuple1[0]) # accessed by index\n",
        "Tuple2 = Tuple1 + (\"hard rock\",10)"
      ],
      "metadata": {
        "colab": {
          "base_uri": "https://localhost:8080/"
        },
        "id": "TMVTupd_XyAZ",
        "outputId": "39d71f19-6583-4f83-ae6c-3c6e9ca1ff96"
      },
      "execution_count": null,
      "outputs": [
        {
          "output_type": "stream",
          "name": "stdout",
          "text": [
            "disco\n"
          ]
        }
      ]
    },
    {
      "cell_type": "code",
      "source": [
        "#Slicing tuple\n",
        "Tuple2[0:3]"
      ],
      "metadata": {
        "colab": {
          "base_uri": "https://localhost:8080/"
        },
        "id": "sy4Peap8Xdor",
        "outputId": "11ecd23b-68f9-4eea-b367-6b6c1ce05425"
      },
      "execution_count": null,
      "outputs": [
        {
          "output_type": "execute_result",
          "data": {
            "text/plain": [
              "('disco', 10, 1.2)"
            ]
          },
          "metadata": {},
          "execution_count": 41
        }
      ]
    },
    {
      "cell_type": "code",
      "source": [
        "#Nesting, is having tuple inside tuple\n",
        "NT = (1,2,(\"pop\",\"rock\"),(3,4),(\"disco\",(1,2)))\n",
        "print(NT[2])\n",
        "print(NT[2][1])\n",
        "print(NT[2][1][0]) #it is like a tree\n"
      ],
      "metadata": {
        "colab": {
          "base_uri": "https://localhost:8080/"
        },
        "id": "Gi7caIlLZe9Y",
        "outputId": "63b1d3f9-7b09-4a6d-94e5-dabc2c232b94"
      },
      "execution_count": null,
      "outputs": [
        {
          "output_type": "stream",
          "name": "stdout",
          "text": [
            "('pop', 'rock')\n",
            "rock\n",
            "r\n"
          ]
        }
      ]
    },
    {
      "cell_type": "markdown",
      "source": [
        "**List** It is represent with [ ] square brackets, the difference between tupple is ().\n",
        "The list is mutable, that is means we can change values.\n",
        "It can include different types of values. Can be accessed by index, similar as tuples\n",
        "\n"
      ],
      "metadata": {
        "id": "_EaFAALTacTa"
      }
    },
    {
      "cell_type": "code",
      "source": [
        "L = ['Michael Jackson', 10.1, 1982]\n",
        "print(L)\n",
        "L.extend([\"pop\",10]) #with extend we concatenate at the end the new list\n",
        "print(L)"
      ],
      "metadata": {
        "colab": {
          "base_uri": "https://localhost:8080/"
        },
        "id": "WeCRA2tMbaQt",
        "outputId": "87fd456a-03e9-4601-d909-ef568494feaf"
      },
      "execution_count": null,
      "outputs": [
        {
          "output_type": "stream",
          "name": "stdout",
          "text": [
            "['Michael Jackson', 10.1, 1982]\n",
            "['Michael Jackson', 10.1, 1982, 'pop', 10]\n"
          ]
        }
      ]
    },
    {
      "cell_type": "code",
      "source": [
        "L = ['Michael Jackson', 10.1, 1982]\n",
        "print(L)\n",
        "L.append([\"pop\",10]) #with add the new list as an element\n",
        "print(L)"
      ],
      "metadata": {
        "colab": {
          "base_uri": "https://localhost:8080/"
        },
        "id": "SPdsLeFQb2Nc",
        "outputId": "5312599a-3920-4b04-972d-8830bf99cf61"
      },
      "execution_count": null,
      "outputs": [
        {
          "output_type": "stream",
          "name": "stdout",
          "text": [
            "['Michael Jackson', 10.1, 1982]\n",
            "['Michael Jackson', 10.1, 1982, ['pop', 10]]\n"
          ]
        }
      ]
    },
    {
      "cell_type": "code",
      "source": [
        "A=['disco',10,1.2]\n",
        "print(A)\n",
        "A[0] = \"hard rock\"\n",
        "print(A)"
      ],
      "metadata": {
        "colab": {
          "base_uri": "https://localhost:8080/"
        },
        "id": "lC_T8lgYcJp6",
        "outputId": "4916aa82-c67d-4adf-c319-b05be65df896"
      },
      "execution_count": null,
      "outputs": [
        {
          "output_type": "stream",
          "name": "stdout",
          "text": [
            "['disco', 10, 1.2]\n",
            "['hard rock', 10, 1.2]\n"
          ]
        }
      ]
    },
    {
      "cell_type": "code",
      "source": [
        "#Question 1\n",
        "A=(0,1,2,3)\n",
        "#A[3] and A[-1]"
      ],
      "metadata": {
        "id": "RuWC0PrzcsTO"
      },
      "execution_count": null,
      "outputs": []
    },
    {
      "cell_type": "code",
      "source": [
        "#Question 2\n",
        "B=[\"a\",\"b\",\"c\"]\n",
        "B[1:]"
      ],
      "metadata": {
        "colab": {
          "base_uri": "https://localhost:8080/"
        },
        "id": "xoCDIa1xdKRE",
        "outputId": "a5690ed8-383e-4ad3-cccd-4c4437b65e0b"
      },
      "execution_count": null,
      "outputs": [
        {
          "output_type": "execute_result",
          "data": {
            "text/plain": [
              "['b', 'c']"
            ]
          },
          "metadata": {},
          "execution_count": 50
        }
      ]
    },
    {
      "cell_type": "markdown",
      "source": [
        "#Module 2 - Sets\n",
        "The difference with list and tuples is that sets are unordered. <br>\n",
        "**Sets only have unique elements** <br>\n",
        "To define with need {}"
      ],
      "metadata": {
        "id": "Yew2VTgndf91"
      }
    },
    {
      "cell_type": "code",
      "source": [
        "#creating a set\n",
        "album_list = ['Michael Jackson','Thriller','Thriller',1982]\n",
        "print(album_list)\n",
        "album_set = set(album_list)\n",
        "print(album_set)\n",
        "#We can see that set just have unique values, we can use this as distinct"
      ],
      "metadata": {
        "colab": {
          "base_uri": "https://localhost:8080/"
        },
        "id": "001CbklReC8g",
        "outputId": "45a6ef04-594d-4a97-adc0-5b7304b3f12d"
      },
      "execution_count": null,
      "outputs": [
        {
          "output_type": "stream",
          "name": "stdout",
          "text": [
            "['Michael Jackson', 'Thriller', 'Thriller', 1982]\n",
            "{'Thriller', 'Michael Jackson', 1982}\n"
          ]
        }
      ]
    },
    {
      "cell_type": "code",
      "source": [
        "A={'Thriller','Black in Black', \"AC/DC\"}\n",
        "print(A)\n",
        "A.add(\"NSYNC\")\n",
        "print(A)\n",
        "A.add(\"NSYNC\") #it doesnt add becuase it is already in the set\n",
        "print(A)\n",
        "A.remove(\"NSYNC\")\n",
        "print(A)\n"
      ],
      "metadata": {
        "colab": {
          "base_uri": "https://localhost:8080/"
        },
        "id": "g1WUBr6-eTxt",
        "outputId": "73060f6f-54f1-46c7-b621-65f5d2562a0b"
      },
      "execution_count": null,
      "outputs": [
        {
          "output_type": "stream",
          "name": "stdout",
          "text": [
            "{'AC/DC', 'Black in Black', 'Thriller'}\n",
            "{'AC/DC', 'Black in Black', 'Thriller', 'NSYNC'}\n",
            "{'AC/DC', 'Black in Black', 'Thriller', 'NSYNC'}\n",
            "{'AC/DC', 'Black in Black', 'Thriller'}\n"
          ]
        }
      ]
    },
    {
      "cell_type": "code",
      "source": [
        "\"AC/DC\" in A #to check if \"AC/DC\" exist in the set A"
      ],
      "metadata": {
        "colab": {
          "base_uri": "https://localhost:8080/"
        },
        "id": "2bSwrMFkfgXj",
        "outputId": "e3a1521b-36fc-44c6-80ae-6d160a42d5ad"
      },
      "execution_count": null,
      "outputs": [
        {
          "output_type": "execute_result",
          "data": {
            "text/plain": [
              "True"
            ]
          },
          "metadata": {},
          "execution_count": 56
        }
      ]
    },
    {
      "cell_type": "code",
      "source": [
        "album_set_1 = {'AC/DC', 'Black in Black', 'Thriller'}\n",
        "album_set_2 = {'AC/DC', 'Black in Black', 'The Dark Side of the Moon'}\n",
        "album_set_3 = album_set_1 & album_set_2\n",
        "print(album_set_3) # it is just show the interesections"
      ],
      "metadata": {
        "colab": {
          "base_uri": "https://localhost:8080/"
        },
        "id": "Rcn3Ty1lf3Br",
        "outputId": "73d144c6-7c87-40b8-b171-9c1c73ab7120"
      },
      "execution_count": null,
      "outputs": [
        {
          "output_type": "stream",
          "name": "stdout",
          "text": [
            "{'AC/DC', 'Black in Black'}\n"
          ]
        }
      ]
    },
    {
      "cell_type": "code",
      "source": [
        "album_set_1.union(album_set_2)\n"
      ],
      "metadata": {
        "colab": {
          "base_uri": "https://localhost:8080/"
        },
        "id": "eyJ2CNWLga9v",
        "outputId": "d46198e1-281e-49b3-c8d8-896272ab635e"
      },
      "execution_count": null,
      "outputs": [
        {
          "output_type": "execute_result",
          "data": {
            "text/plain": [
              "{'AC/DC', 'Black in Black', 'The Dark Side of the Moon', 'Thriller'}"
            ]
          },
          "metadata": {},
          "execution_count": 64
        }
      ]
    },
    {
      "cell_type": "code",
      "source": [
        "#Question 1\n",
        "S={'A','B','C'}\n",
        "U={'A','Z','C'}\n",
        "U.union(S)"
      ],
      "metadata": {
        "colab": {
          "base_uri": "https://localhost:8080/"
        },
        "id": "gDJ6brLUhL6c",
        "outputId": "337dbe20-24f8-45c8-850a-910a7e3bc9af"
      },
      "execution_count": null,
      "outputs": [
        {
          "output_type": "execute_result",
          "data": {
            "text/plain": [
              "{'A', 'B', 'C', 'Z'}"
            ]
          },
          "metadata": {},
          "execution_count": 65
        }
      ]
    },
    {
      "cell_type": "code",
      "source": [
        "#Question 2\n",
        "S={'A','B','C'}\n",
        "U={'A','Z','C'}\n",
        "S & U"
      ],
      "metadata": {
        "colab": {
          "base_uri": "https://localhost:8080/"
        },
        "id": "Hpc4SL9mhW-x",
        "outputId": "6985fac5-6bde-40c8-c42f-68ecad1c80a4"
      },
      "execution_count": null,
      "outputs": [
        {
          "output_type": "execute_result",
          "data": {
            "text/plain": [
              "{'A', 'C'}"
            ]
          },
          "metadata": {},
          "execution_count": 66
        }
      ]
    },
    {
      "cell_type": "markdown",
      "source": [
        "#Module 2 - Dictionaries <br>\n",
        "It has Keys and Elements/Values <br>\n",
        "**Keys** is an index by label most of the time are characters<br>\n",
        "To create dictionaries we use {}<br>\n",
        "The keys have to be **inmutable and unique**<br>\n",
        "The values can be **inmutable, mutable and duplicates**<br>\n",
        "Each key and value pair is separate by a comma\n",
        "{**\"key1\"**:1,**\"key2\"**:\"2\",**\"key3\"**:[3,3,3].....}\n",
        "\n",
        "\n"
      ],
      "metadata": {
        "id": "605n8CbrieWK"
      }
    },
    {
      "cell_type": "code",
      "source": [
        "#Question 1\n",
        "D = {'a':0,'b':1,'c':2}\n",
        "D.values()"
      ],
      "metadata": {
        "colab": {
          "base_uri": "https://localhost:8080/"
        },
        "id": "8YU1iIpmkGPk",
        "outputId": "461a58d6-460d-4961-ad76-c0d05b99c2f3"
      },
      "execution_count": null,
      "outputs": [
        {
          "output_type": "execute_result",
          "data": {
            "text/plain": [
              "dict_values([0, 1, 2])"
            ]
          },
          "metadata": {},
          "execution_count": 67
        }
      ]
    },
    {
      "cell_type": "code",
      "source": [
        "#Question 2\n",
        "D = {'a':0,'b':1,'c':2}\n",
        "D['b']"
      ],
      "metadata": {
        "colab": {
          "base_uri": "https://localhost:8080/"
        },
        "id": "y4r0GPpcifCb",
        "outputId": "e3a37096-b30c-4336-e175-093f7743c994"
      },
      "execution_count": null,
      "outputs": [
        {
          "output_type": "execute_result",
          "data": {
            "text/plain": [
              "1"
            ]
          },
          "metadata": {},
          "execution_count": 68
        }
      ]
    },
    {
      "cell_type": "markdown",
      "source": [
        "#Module 2 - Review Questions\n"
      ],
      "metadata": {
        "id": "UuS3JM1UkXZo"
      }
    },
    {
      "cell_type": "code",
      "source": [
        "#Question 1\n",
        "A = ('a','b','c')\n",
        "A[0]"
      ],
      "metadata": {
        "colab": {
          "base_uri": "https://localhost:8080/",
          "height": 36
        },
        "id": "Cis-JvtykaMi",
        "outputId": "6418d4a5-3ed2-49be-a196-1d08531a69a9"
      },
      "execution_count": null,
      "outputs": [
        {
          "output_type": "execute_result",
          "data": {
            "text/plain": [
              "'a'"
            ],
            "application/vnd.google.colaboratory.intrinsic+json": {
              "type": "string"
            }
          },
          "metadata": {},
          "execution_count": 70
        }
      ]
    },
    {
      "cell_type": "code",
      "source": [
        "Dict={\"A\":1,\"B\":\"2\",\"C\":[3,3,3],\"D\":(4,4,4),'E':5,'F':6}\n",
        "Dict[\"D\"]"
      ],
      "metadata": {
        "colab": {
          "base_uri": "https://localhost:8080/"
        },
        "id": "3uoon0Aqk2NW",
        "outputId": "d626841d-dc65-4c08-ecfe-0693132aff63"
      },
      "execution_count": null,
      "outputs": [
        {
          "output_type": "execute_result",
          "data": {
            "text/plain": [
              "(4, 4, 4)"
            ]
          },
          "metadata": {},
          "execution_count": 2
        }
      ]
    },
    {
      "cell_type": "markdown",
      "source": [
        "#Module 3 - Conditions and Branching\n",
        "Comparison operator\n",
        "**== <,>,<=,>=,!=** <br>\n",
        "Branching are if statements\n"
      ],
      "metadata": {
        "id": "Uzd0zZRQn8Gt"
      }
    },
    {
      "cell_type": "code",
      "source": [
        "#sintaxis if else\n",
        "Age = 17\n",
        "if(Age>18):\n",
        "  print(\"you can enter\")\n",
        "else:\n",
        "  print(\"go see meat loaf\")\n",
        "print(\"move on\")\n"
      ],
      "metadata": {
        "id": "LqBMPFGloE64",
        "colab": {
          "base_uri": "https://localhost:8080/"
        },
        "outputId": "dd602fc1-37a9-4a54-a01f-692275dd0ae4"
      },
      "execution_count": 3,
      "outputs": [
        {
          "output_type": "stream",
          "name": "stdout",
          "text": [
            "go see meat loaf\n",
            "move on\n"
          ]
        }
      ]
    },
    {
      "cell_type": "code",
      "source": [
        "#Question 1\n",
        "i = 1 #-1,1000\n",
        "i!=0"
      ],
      "metadata": {
        "colab": {
          "base_uri": "https://localhost:8080/"
        },
        "id": "jggBFy2-NBVA",
        "outputId": "e547bbc9-81e8-4e80-838e-c695733b395f"
      },
      "execution_count": 8,
      "outputs": [
        {
          "output_type": "execute_result",
          "data": {
            "text/plain": [
              "True"
            ]
          },
          "metadata": {},
          "execution_count": 8
        }
      ]
    },
    {
      "cell_type": "markdown",
      "source": [
        "#Module 3 - loops\n"
      ],
      "metadata": {
        "id": "8z2gcTULN0Mc"
      }
    },
    {
      "cell_type": "code",
      "source": [
        "range(10,15) #for python2, on python 3 we need loops"
      ],
      "metadata": {
        "colab": {
          "base_uri": "https://localhost:8080/"
        },
        "id": "nGScHRm6N-nj",
        "outputId": "66ff169e-e662-4304-c335-8218c27b90df"
      },
      "execution_count": 11,
      "outputs": [
        {
          "output_type": "execute_result",
          "data": {
            "text/plain": [
              "range(10, 15)"
            ]
          },
          "metadata": {},
          "execution_count": 11
        }
      ]
    },
    {
      "cell_type": "code",
      "source": [
        "squares=[\"red\",\"yellow\",\"green\",\"purple\",\"blue\"]\n",
        "print(squares)\n",
        "for i in range(0,5):\n",
        "    squares[i]=\"white\"\n",
        "\n",
        "print (squares)"
      ],
      "metadata": {
        "colab": {
          "base_uri": "https://localhost:8080/"
        },
        "id": "hV2fLzFSOR7A",
        "outputId": "7aa2aa1a-e67b-4dde-f573-39c30af53e09"
      },
      "execution_count": 12,
      "outputs": [
        {
          "output_type": "stream",
          "name": "stdout",
          "text": [
            "['red', 'yellow', 'green', 'purple', 'blue']\n",
            "['white', 'white', 'white', 'white', 'white']\n"
          ]
        }
      ]
    },
    {
      "cell_type": "code",
      "source": [
        "A=[3,4,5]\n",
        "\n",
        "for a in A:\n",
        "  print(a)"
      ],
      "metadata": {
        "colab": {
          "base_uri": "https://localhost:8080/"
        },
        "id": "v0Ay5TA4Q30u",
        "outputId": "70f21c13-39d6-4d7b-de22-ec72d312d4a4"
      },
      "execution_count": 14,
      "outputs": [
        {
          "output_type": "stream",
          "name": "stdout",
          "text": [
            "3\n",
            "4\n",
            "5\n"
          ]
        }
      ]
    },
    {
      "cell_type": "code",
      "source": [
        "x=3\n",
        "y=1\n",
        "while(y!=x):\n",
        "  print(y)\n",
        "  y=y+1"
      ],
      "metadata": {
        "colab": {
          "base_uri": "https://localhost:8080/"
        },
        "id": "CX0FlgFyRT1L",
        "outputId": "fcf0e742-a056-402b-d709-628a9d470371"
      },
      "execution_count": 16,
      "outputs": [
        {
          "output_type": "stream",
          "name": "stdout",
          "text": [
            "1\n",
            "2\n"
          ]
        }
      ]
    },
    {
      "cell_type": "markdown",
      "source": [
        "#Module 3 - Functions\n",
        "Just focus on what the function do, not on how do\n"
      ],
      "metadata": {
        "id": "FW-yAol4RqP3"
      }
    },
    {
      "cell_type": "code",
      "source": [
        "def add1(a):\n",
        "  b=a+1\n",
        "  return b\n",
        "\n",
        "add1(5)"
      ],
      "metadata": {
        "colab": {
          "base_uri": "https://localhost:8080/"
        },
        "id": "e0nbAu7CSZUI",
        "outputId": "00b5b6fe-af79-4b06-afd9-c67d6c7325dc"
      },
      "execution_count": 17,
      "outputs": [
        {
          "output_type": "execute_result",
          "data": {
            "text/plain": [
              "6"
            ]
          },
          "metadata": {},
          "execution_count": 17
        }
      ]
    },
    {
      "cell_type": "markdown",
      "source": [
        "#Module 3 - Objects and Clases\n",
        "\n",
        "Object has a type<br>\n",
        "**CLASS** it has data attributes and methods\n"
      ],
      "metadata": {
        "id": "YHSU58Z4VPoy"
      }
    },
    {
      "cell_type": "code",
      "source": [
        "#init is the constructor\n",
        "class Circle(object):\n",
        "  def __init__(self,radius,color):\n",
        "    self.radius = radius;\n",
        "    self.color = color;\n",
        "\n",
        "class Rectangle(object):\n",
        "  def __init__(self,color,height,width):\n",
        "    self.height=height;\n",
        "    self.width=width;\n",
        "    self.color=color;"
      ],
      "metadata": {
        "id": "txAx55wmVT_2"
      },
      "execution_count": 19,
      "outputs": []
    },
    {
      "cell_type": "code",
      "source": [
        "RedCircle = Circle(10,\"red\")\n",
        "RedCircle.color\n",
        "RedCircle.color=\"blue\"\n",
        "RedCircle.color\n",
        "BlueCircle = Circle(color=\"BLUE\",radius=14)\n",
        "BlueCircle.color"
      ],
      "metadata": {
        "id": "x1PM72EfcNpG",
        "outputId": "f7f04249-69bf-4ccd-c659-bffbcba1035f",
        "colab": {
          "base_uri": "https://localhost:8080/",
          "height": 36
        }
      },
      "execution_count": 29,
      "outputs": [
        {
          "output_type": "execute_result",
          "data": {
            "text/plain": [
              "'BLUE'"
            ],
            "application/vnd.google.colaboratory.intrinsic+json": {
              "type": "string"
            }
          },
          "metadata": {},
          "execution_count": 29
        }
      ]
    },
    {
      "cell_type": "markdown",
      "source": [
        "#Module 3 - Review Questions\n"
      ],
      "metadata": {
        "id": "5oxuYJ23fE-8"
      }
    },
    {
      "cell_type": "code",
      "source": [
        "#Question 1,2,3,4,5\n",
        "#I dont need coding, do it in the webpage\n"
      ],
      "metadata": {
        "id": "XifgEIyjfgYa"
      },
      "execution_count": 37,
      "outputs": []
    }
  ]
}