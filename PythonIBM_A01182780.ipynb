{
  "nbformat": 4,
  "nbformat_minor": 0,
  "metadata": {
    "colab": {
      "provenance": [],
      "include_colab_link": true
    },
    "kernelspec": {
      "name": "python3",
      "display_name": "Python 3"
    },
    "language_info": {
      "name": "python"
    }
  },
  "cells": [
    {
      "cell_type": "markdown",
      "metadata": {
        "id": "view-in-github",
        "colab_type": "text"
      },
      "source": [
        "<a href=\"https://colab.research.google.com/github/PosgradoMNA/actividades-de-aprendizaje-rafaelsangarcia/blob/main/PythonIBM_A01182780.ipynb\" target=\"_parent\"><img src=\"https://colab.research.google.com/assets/colab-badge.svg\" alt=\"Open In Colab\"/></a>"
      ]
    },
    {
      "cell_type": "markdown",
      "source": [
        "# PYTHON FOR DATA SCIENCE (IBM)\n",
        "STUDENT: A01182780 RAFAEL SANCHEZ GARCIA\n",
        "\n"
      ],
      "metadata": {
        "id": "9KOTLA7VNvGk"
      }
    },
    {
      "cell_type": "markdown",
      "source": [
        "#Module 1"
      ],
      "metadata": {
        "id": "n2CgmG2CP8hm"
      }
    },
    {
      "cell_type": "code",
      "source": [
        "print(\"Hello Python 101\") #print something"
      ],
      "metadata": {
        "colab": {
          "base_uri": "https://localhost:8080/"
        },
        "id": "KO7hVfrBN_9o",
        "outputId": "9cede3d5-6a7c-4b24-da08-f9a5e90ecd6b"
      },
      "execution_count": 1,
      "outputs": [
        {
          "output_type": "stream",
          "name": "stdout",
          "text": [
            "Hello Python 101\n"
          ]
        }
      ]
    },
    {
      "cell_type": "code",
      "source": [
        "#Question 1\n",
        "print(\"Hello\\nWorld!\") # with \\n jump to a new line"
      ],
      "metadata": {
        "colab": {
          "base_uri": "https://localhost:8080/"
        },
        "id": "JKJHHVddPlic",
        "outputId": "f1fd11d5-e224-42af-d442-4d8d07b801f7"
      },
      "execution_count": 2,
      "outputs": [
        {
          "output_type": "stream",
          "name": "stdout",
          "text": [
            "Hello\n",
            "World!\n"
          ]
        }
      ]
    },
    {
      "cell_type": "code",
      "source": [
        "#Question 2\n",
        "# print('Hello World!')"
      ],
      "metadata": {
        "id": "n-gxuowgP0x0"
      },
      "execution_count": 3,
      "outputs": []
    },
    {
      "cell_type": "markdown",
      "source": [
        "#Module 1 - Types"
      ],
      "metadata": {
        "id": "LMoskAwhQqps"
      }
    },
    {
      "cell_type": "code",
      "source": [
        "#Question 2\n",
        "bool(1)"
      ],
      "metadata": {
        "colab": {
          "base_uri": "https://localhost:8080/"
        },
        "id": "QCdCqGRvQt8f",
        "outputId": "31f81fd0-9130-455c-fcdf-652f13675a19"
      },
      "execution_count": 4,
      "outputs": [
        {
          "output_type": "execute_result",
          "data": {
            "text/plain": [
              "True"
            ]
          },
          "metadata": {},
          "execution_count": 4
        }
      ]
    },
    {
      "cell_type": "markdown",
      "source": [
        "#Moduel 1 - Expressions and Variables"
      ],
      "metadata": {
        "id": "eLnIIXpSROho"
      }
    },
    {
      "cell_type": "markdown",
      "source": [
        " with \"//\" the division will be by integer, and with one \"/\" is float"
      ],
      "metadata": {
        "id": "WNTl9MlqRlIB"
      }
    },
    {
      "cell_type": "code",
      "source": [
        "# I already know how to use variables and expressions"
      ],
      "metadata": {
        "id": "sWzLC-TzRv_l"
      },
      "execution_count": 5,
      "outputs": []
    },
    {
      "cell_type": "markdown",
      "source": [
        "#Module 1 - String Operators\n",
        "\n",
        "You can use single or double quotes. string can be access by index, it is works as a array too\n"
      ],
      "metadata": {
        "id": "nTBhAHt5SlsP"
      }
    },
    {
      "cell_type": "code",
      "source": [
        "Name= \"Michael Jackson\"\n",
        "print(Name)\n",
        "print(\"Name[0] = \" ,Name[0])\n",
        "print(\"Name[0] = \" ,Name[6])\n",
        "print(\"Name[0] = \" ,Name[13])"
      ],
      "metadata": {
        "colab": {
          "base_uri": "https://localhost:8080/"
        },
        "id": "FydSeDftTO7O",
        "outputId": "5146aaad-d931-466a-b8da-004770fd3210"
      },
      "execution_count": 6,
      "outputs": [
        {
          "output_type": "stream",
          "name": "stdout",
          "text": [
            "Michael Jackson\n",
            "Name[0] =  M\n",
            "Name[0] =  l\n",
            "Name[0] =  o\n"
          ]
        }
      ]
    },
    {
      "cell_type": "code",
      "source": [
        "#index could be also negative\n",
        "print(\"Name[0] = \" ,Name[-15])\n",
        "print(\"Name[0] = \" ,Name[-7])\n",
        "print(\"Name[0] = \" ,Name[-1])\n"
      ],
      "metadata": {
        "colab": {
          "base_uri": "https://localhost:8080/"
        },
        "id": "2JgSHQWBTr7B",
        "outputId": "12db2145-5497-4d8e-933b-8acc738fcd0b"
      },
      "execution_count": 7,
      "outputs": [
        {
          "output_type": "stream",
          "name": "stdout",
          "text": [
            "Name[0] =  M\n",
            "Name[0] =  J\n",
            "Name[0] =  n\n"
          ]
        }
      ]
    },
    {
      "cell_type": "code",
      "source": [
        "#slicing\n",
        "Name[0:4]"
      ],
      "metadata": {
        "colab": {
          "base_uri": "https://localhost:8080/",
          "height": 36
        },
        "id": "9oXAC4mdT7Gj",
        "outputId": "8462d8d5-a2a7-4b73-9d6c-f927faa151f4"
      },
      "execution_count": 8,
      "outputs": [
        {
          "output_type": "execute_result",
          "data": {
            "text/plain": [
              "'Mich'"
            ],
            "application/vnd.google.colaboratory.intrinsic+json": {
              "type": "string"
            }
          },
          "metadata": {},
          "execution_count": 8
        }
      ]
    },
    {
      "cell_type": "code",
      "source": [
        "#stride\n",
        "Name[::2] #it will select every second variable"
      ],
      "metadata": {
        "colab": {
          "base_uri": "https://localhost:8080/",
          "height": 36
        },
        "id": "2hmQO6T7UGY7",
        "outputId": "b824354a-39d9-412a-e0f2-a87505639043"
      },
      "execution_count": 9,
      "outputs": [
        {
          "output_type": "execute_result",
          "data": {
            "text/plain": [
              "'McalJcsn'"
            ],
            "application/vnd.google.colaboratory.intrinsic+json": {
              "type": "string"
            }
          },
          "metadata": {},
          "execution_count": 9
        }
      ]
    },
    {
      "cell_type": "code",
      "source": [
        "#stride with slicing\n",
        "Name[0:5:2] # 0 index is start, 5 index is finish, 2 steps"
      ],
      "metadata": {
        "colab": {
          "base_uri": "https://localhost:8080/",
          "height": 36
        },
        "id": "6_js4dGCUUNP",
        "outputId": "d92a2adb-f87c-4a40-8362-e30b2c6c72bf"
      },
      "execution_count": 10,
      "outputs": [
        {
          "output_type": "execute_result",
          "data": {
            "text/plain": [
              "'Mca'"
            ],
            "application/vnd.google.colaboratory.intrinsic+json": {
              "type": "string"
            }
          },
          "metadata": {},
          "execution_count": 10
        }
      ]
    },
    {
      "cell_type": "code",
      "source": [
        "#Question 1\n",
        "Numbers = \"0123456\"\n",
        "Numbers[::2] #get the even elements"
      ],
      "metadata": {
        "colab": {
          "base_uri": "https://localhost:8080/",
          "height": 36
        },
        "id": "t_jKxMrsVQZI",
        "outputId": "f78251f7-d4a1-478e-f58f-0bc7f1d9f779"
      },
      "execution_count": 11,
      "outputs": [
        {
          "output_type": "execute_result",
          "data": {
            "text/plain": [
              "'0246'"
            ],
            "application/vnd.google.colaboratory.intrinsic+json": {
              "type": "string"
            }
          },
          "metadata": {},
          "execution_count": 11
        }
      ]
    },
    {
      "cell_type": "code",
      "source": [
        "#Question 2\n",
        "\"0123456\".find('1') #it is 1 because the '1' is on index 1"
      ],
      "metadata": {
        "colab": {
          "base_uri": "https://localhost:8080/"
        },
        "id": "IaqHW9LCVvy5",
        "outputId": "34843e27-3b76-4fab-88e0-0966251fbd04"
      },
      "execution_count": 12,
      "outputs": [
        {
          "output_type": "execute_result",
          "data": {
            "text/plain": [
              "1"
            ]
          },
          "metadata": {},
          "execution_count": 12
        }
      ]
    },
    {
      "cell_type": "markdown",
      "source": [
        "#Module 1 - Review Questions"
      ],
      "metadata": {
        "id": "aiJU-CGhWU_-"
      }
    },
    {
      "cell_type": "code",
      "source": [
        "3 + 2 * 2"
      ],
      "metadata": {
        "colab": {
          "base_uri": "https://localhost:8080/"
        },
        "id": "NCWFjDp6WZRl",
        "outputId": "18b9d376-e151-488d-f4bf-195eb5dec558"
      },
      "execution_count": 13,
      "outputs": [
        {
          "output_type": "execute_result",
          "data": {
            "text/plain": [
              "7"
            ]
          },
          "metadata": {},
          "execution_count": 13
        }
      ]
    },
    {
      "cell_type": "code",
      "source": [
        "name = 'Lizz'\n",
        "print(name[0:2])"
      ],
      "metadata": {
        "colab": {
          "base_uri": "https://localhost:8080/"
        },
        "id": "vJAwZ8YKWief",
        "outputId": "ba8b4f50-809b-4b75-fc44-9ba2c474586d"
      },
      "execution_count": 14,
      "outputs": [
        {
          "output_type": "stream",
          "name": "stdout",
          "text": [
            "Li\n"
          ]
        }
      ]
    },
    {
      "cell_type": "code",
      "source": [
        "var = '01234567'\n",
        "print(var[::2])"
      ],
      "metadata": {
        "colab": {
          "base_uri": "https://localhost:8080/"
        },
        "id": "XtM7f2FjWrqS",
        "outputId": "a6b78775-2c34-4722-babf-b3652ad02307"
      },
      "execution_count": 15,
      "outputs": [
        {
          "output_type": "stream",
          "name": "stdout",
          "text": [
            "0246\n"
          ]
        }
      ]
    },
    {
      "cell_type": "code",
      "source": [
        "'1'+'2'\n"
      ],
      "metadata": {
        "colab": {
          "base_uri": "https://localhost:8080/",
          "height": 0
        },
        "id": "Ptad6_W7W253",
        "outputId": "29214b15-bf67-4451-c263-93359342ef8f"
      },
      "execution_count": 16,
      "outputs": [
        {
          "output_type": "execute_result",
          "data": {
            "text/plain": [
              "'12'"
            ],
            "application/vnd.google.colaboratory.intrinsic+json": {
              "type": "string"
            }
          },
          "metadata": {},
          "execution_count": 16
        }
      ]
    },
    {
      "cell_type": "code",
      "source": [
        "myvar = 'hello'\n",
        "myvar.upper()"
      ],
      "metadata": {
        "colab": {
          "base_uri": "https://localhost:8080/",
          "height": 0
        },
        "id": "MAgJuokFW8wG",
        "outputId": "6a0d1a54-0198-471c-af86-a38b15e86aef"
      },
      "execution_count": 17,
      "outputs": [
        {
          "output_type": "execute_result",
          "data": {
            "text/plain": [
              "'HELLO'"
            ],
            "application/vnd.google.colaboratory.intrinsic+json": {
              "type": "string"
            }
          },
          "metadata": {},
          "execution_count": 17
        }
      ]
    },
    {
      "cell_type": "markdown",
      "source": [
        "#Module 2 - List and Tuples\n",
        "\n",
        "**Tuples** are an ordered sequence, this are written as comma-separated elements within parentesis.\n",
        "\n",
        "Tuple can hold any data type, however the type of tuple is tuple. It can be accessed via index\n",
        "\n",
        "**Tuple are Immutable, that is means it can not be changed**"
      ],
      "metadata": {
        "id": "jE3LMfoLXZfz"
      }
    },
    {
      "cell_type": "code",
      "source": [],
      "metadata": {
        "id": "-QDG8Cy1ZEB9"
      },
      "execution_count": 17,
      "outputs": []
    },
    {
      "cell_type": "code",
      "source": [
        "Ratings=(10,9,6,5,10,8,9,6,2)\n",
        "Tuple1 = (\"disco\",10,1.2) #strig, int, float\n",
        "print(Tuple1[0]) # accessed by index\n",
        "Tuple2 = Tuple1 + (\"hard rock\",10)"
      ],
      "metadata": {
        "colab": {
          "base_uri": "https://localhost:8080/"
        },
        "id": "TMVTupd_XyAZ",
        "outputId": "ca32608a-2381-4e5d-e056-88b9fd165125"
      },
      "execution_count": 18,
      "outputs": [
        {
          "output_type": "stream",
          "name": "stdout",
          "text": [
            "disco\n"
          ]
        }
      ]
    },
    {
      "cell_type": "code",
      "source": [
        "#Slicing tuple\n",
        "Tuple2[0:3]"
      ],
      "metadata": {
        "colab": {
          "base_uri": "https://localhost:8080/"
        },
        "id": "sy4Peap8Xdor",
        "outputId": "b730cb3c-a46d-4c03-e6fe-6e993b1400fb"
      },
      "execution_count": 19,
      "outputs": [
        {
          "output_type": "execute_result",
          "data": {
            "text/plain": [
              "('disco', 10, 1.2)"
            ]
          },
          "metadata": {},
          "execution_count": 19
        }
      ]
    },
    {
      "cell_type": "code",
      "source": [
        "#Nesting, is having tuple inside tuple\n",
        "NT = (1,2,(\"pop\",\"rock\"),(3,4),(\"disco\",(1,2)))\n",
        "print(NT[2])\n",
        "print(NT[2][1])\n",
        "print(NT[2][1][0]) #it is like a tree\n"
      ],
      "metadata": {
        "colab": {
          "base_uri": "https://localhost:8080/"
        },
        "id": "Gi7caIlLZe9Y",
        "outputId": "f805fb13-98aa-455f-97a9-86533f8feea4"
      },
      "execution_count": 20,
      "outputs": [
        {
          "output_type": "stream",
          "name": "stdout",
          "text": [
            "('pop', 'rock')\n",
            "rock\n",
            "r\n"
          ]
        }
      ]
    },
    {
      "cell_type": "markdown",
      "source": [
        "**List** It is represent with [ ] square brackets, the difference between tupple is ().\n",
        "The list is mutable, that is means we can change values.\n",
        "It can include different types of values. Can be accessed by index, similar as tuples\n",
        "\n"
      ],
      "metadata": {
        "id": "_EaFAALTacTa"
      }
    },
    {
      "cell_type": "code",
      "source": [
        "L = ['Michael Jackson', 10.1, 1982]\n",
        "print(L)\n",
        "L.extend([\"pop\",10]) #with extend we concatenate at the end the new list\n",
        "print(L)"
      ],
      "metadata": {
        "colab": {
          "base_uri": "https://localhost:8080/"
        },
        "id": "WeCRA2tMbaQt",
        "outputId": "54b25b72-2867-489b-c01a-28c67757793f"
      },
      "execution_count": 21,
      "outputs": [
        {
          "output_type": "stream",
          "name": "stdout",
          "text": [
            "['Michael Jackson', 10.1, 1982]\n",
            "['Michael Jackson', 10.1, 1982, 'pop', 10]\n"
          ]
        }
      ]
    },
    {
      "cell_type": "code",
      "source": [
        "L = ['Michael Jackson', 10.1, 1982]\n",
        "print(L)\n",
        "L.append([\"pop\",10]) #with add the new list as an element\n",
        "print(L)"
      ],
      "metadata": {
        "colab": {
          "base_uri": "https://localhost:8080/"
        },
        "id": "SPdsLeFQb2Nc",
        "outputId": "050c4ff2-555b-4b71-a5ed-10c19f0f5945"
      },
      "execution_count": 22,
      "outputs": [
        {
          "output_type": "stream",
          "name": "stdout",
          "text": [
            "['Michael Jackson', 10.1, 1982]\n",
            "['Michael Jackson', 10.1, 1982, ['pop', 10]]\n"
          ]
        }
      ]
    },
    {
      "cell_type": "code",
      "source": [
        "A=['disco',10,1.2]\n",
        "print(A)\n",
        "A[0] = \"hard rock\"\n",
        "print(A)"
      ],
      "metadata": {
        "colab": {
          "base_uri": "https://localhost:8080/"
        },
        "id": "lC_T8lgYcJp6",
        "outputId": "14401ed7-5002-49ce-ee84-eb1fad7182a6"
      },
      "execution_count": 23,
      "outputs": [
        {
          "output_type": "stream",
          "name": "stdout",
          "text": [
            "['disco', 10, 1.2]\n",
            "['hard rock', 10, 1.2]\n"
          ]
        }
      ]
    },
    {
      "cell_type": "code",
      "source": [
        "#Question 1\n",
        "A=(0,1,2,3)\n",
        "#A[3] and A[-1]"
      ],
      "metadata": {
        "id": "RuWC0PrzcsTO"
      },
      "execution_count": 24,
      "outputs": []
    },
    {
      "cell_type": "code",
      "source": [
        "#Question 2\n",
        "B=[\"a\",\"b\",\"c\"]\n",
        "B[1:]"
      ],
      "metadata": {
        "colab": {
          "base_uri": "https://localhost:8080/"
        },
        "id": "xoCDIa1xdKRE",
        "outputId": "6fde721a-9612-43a2-a601-823b123be384"
      },
      "execution_count": 25,
      "outputs": [
        {
          "output_type": "execute_result",
          "data": {
            "text/plain": [
              "['b', 'c']"
            ]
          },
          "metadata": {},
          "execution_count": 25
        }
      ]
    },
    {
      "cell_type": "markdown",
      "source": [
        "#Module 2 - Sets\n",
        "The difference with list and tuples is that sets are unordered. <br>\n",
        "**Sets only have unique elements** <br>\n",
        "To define with need {}"
      ],
      "metadata": {
        "id": "Yew2VTgndf91"
      }
    },
    {
      "cell_type": "code",
      "source": [
        "#creating a set\n",
        "album_list = ['Michael Jackson','Thriller','Thriller',1982]\n",
        "print(album_list)\n",
        "album_set = set(album_list)\n",
        "print(album_set)\n",
        "#We can see that set just have unique values, we can use this as distinct"
      ],
      "metadata": {
        "colab": {
          "base_uri": "https://localhost:8080/"
        },
        "id": "001CbklReC8g",
        "outputId": "d4936dd7-61c6-40fd-c972-c161333f1529"
      },
      "execution_count": 26,
      "outputs": [
        {
          "output_type": "stream",
          "name": "stdout",
          "text": [
            "['Michael Jackson', 'Thriller', 'Thriller', 1982]\n",
            "{'Michael Jackson', 'Thriller', 1982}\n"
          ]
        }
      ]
    },
    {
      "cell_type": "code",
      "source": [
        "A={'Thriller','Black in Black', \"AC/DC\"}\n",
        "print(A)\n",
        "A.add(\"NSYNC\")\n",
        "print(A)\n",
        "A.add(\"NSYNC\") #it doesnt add becuase it is already in the set\n",
        "print(A)\n",
        "A.remove(\"NSYNC\")\n",
        "print(A)\n"
      ],
      "metadata": {
        "colab": {
          "base_uri": "https://localhost:8080/"
        },
        "id": "g1WUBr6-eTxt",
        "outputId": "d8d98342-94b2-4dbc-e0a5-b47ad4e56ca3"
      },
      "execution_count": 27,
      "outputs": [
        {
          "output_type": "stream",
          "name": "stdout",
          "text": [
            "{'AC/DC', 'Thriller', 'Black in Black'}\n",
            "{'NSYNC', 'AC/DC', 'Thriller', 'Black in Black'}\n",
            "{'NSYNC', 'AC/DC', 'Thriller', 'Black in Black'}\n",
            "{'AC/DC', 'Thriller', 'Black in Black'}\n"
          ]
        }
      ]
    },
    {
      "cell_type": "code",
      "source": [
        "\"AC/DC\" in A #to check if \"AC/DC\" exist in the set A"
      ],
      "metadata": {
        "colab": {
          "base_uri": "https://localhost:8080/"
        },
        "id": "2bSwrMFkfgXj",
        "outputId": "20c8d984-5b92-4a53-d8af-96e5694ed5c9"
      },
      "execution_count": 28,
      "outputs": [
        {
          "output_type": "execute_result",
          "data": {
            "text/plain": [
              "True"
            ]
          },
          "metadata": {},
          "execution_count": 28
        }
      ]
    },
    {
      "cell_type": "code",
      "source": [
        "album_set_1 = {'AC/DC', 'Black in Black', 'Thriller'}\n",
        "album_set_2 = {'AC/DC', 'Black in Black', 'The Dark Side of the Moon'}\n",
        "album_set_3 = album_set_1 & album_set_2\n",
        "print(album_set_3) # it is just show the interesections"
      ],
      "metadata": {
        "colab": {
          "base_uri": "https://localhost:8080/"
        },
        "id": "Rcn3Ty1lf3Br",
        "outputId": "2bec0da7-779d-46fb-aa63-ddfbf39cc3f0"
      },
      "execution_count": 29,
      "outputs": [
        {
          "output_type": "stream",
          "name": "stdout",
          "text": [
            "{'AC/DC', 'Black in Black'}\n"
          ]
        }
      ]
    },
    {
      "cell_type": "code",
      "source": [
        "album_set_1.union(album_set_2)\n"
      ],
      "metadata": {
        "colab": {
          "base_uri": "https://localhost:8080/"
        },
        "id": "eyJ2CNWLga9v",
        "outputId": "cc2849c3-b704-46e4-a6ad-112bdbfabc3c"
      },
      "execution_count": 30,
      "outputs": [
        {
          "output_type": "execute_result",
          "data": {
            "text/plain": [
              "{'AC/DC', 'Black in Black', 'The Dark Side of the Moon', 'Thriller'}"
            ]
          },
          "metadata": {},
          "execution_count": 30
        }
      ]
    },
    {
      "cell_type": "code",
      "source": [
        "#Question 1\n",
        "S={'A','B','C'}\n",
        "U={'A','Z','C'}\n",
        "U.union(S)"
      ],
      "metadata": {
        "colab": {
          "base_uri": "https://localhost:8080/"
        },
        "id": "gDJ6brLUhL6c",
        "outputId": "96d1806f-a83a-4c2c-e6d1-7eb7042045cf"
      },
      "execution_count": 31,
      "outputs": [
        {
          "output_type": "execute_result",
          "data": {
            "text/plain": [
              "{'A', 'B', 'C', 'Z'}"
            ]
          },
          "metadata": {},
          "execution_count": 31
        }
      ]
    },
    {
      "cell_type": "code",
      "source": [
        "#Question 2\n",
        "S={'A','B','C'}\n",
        "U={'A','Z','C'}\n",
        "S & U"
      ],
      "metadata": {
        "colab": {
          "base_uri": "https://localhost:8080/"
        },
        "id": "Hpc4SL9mhW-x",
        "outputId": "8959ba3e-9d3b-4200-b736-75484749a1f1"
      },
      "execution_count": 32,
      "outputs": [
        {
          "output_type": "execute_result",
          "data": {
            "text/plain": [
              "{'A', 'C'}"
            ]
          },
          "metadata": {},
          "execution_count": 32
        }
      ]
    },
    {
      "cell_type": "markdown",
      "source": [
        "#Module 2 - Dictionaries <br>\n",
        "It has Keys and Elements/Values <br>\n",
        "**Keys** is an index by label most of the time are characters<br>\n",
        "To create dictionaries we use {}<br>\n",
        "The keys have to be **inmutable and unique**<br>\n",
        "The values can be **inmutable, mutable and duplicates**<br>\n",
        "Each key and value pair is separate by a comma\n",
        "{**\"key1\"**:1,**\"key2\"**:\"2\",**\"key3\"**:[3,3,3].....}\n",
        "\n",
        "\n"
      ],
      "metadata": {
        "id": "605n8CbrieWK"
      }
    },
    {
      "cell_type": "code",
      "source": [
        "#Question 1\n",
        "D = {'a':0,'b':1,'c':2}\n",
        "D.values()"
      ],
      "metadata": {
        "colab": {
          "base_uri": "https://localhost:8080/"
        },
        "id": "8YU1iIpmkGPk",
        "outputId": "63bdb2e2-5f57-4e60-c018-fe069d7e0fae"
      },
      "execution_count": 33,
      "outputs": [
        {
          "output_type": "execute_result",
          "data": {
            "text/plain": [
              "dict_values([0, 1, 2])"
            ]
          },
          "metadata": {},
          "execution_count": 33
        }
      ]
    },
    {
      "cell_type": "code",
      "source": [
        "#Question 2\n",
        "D = {'a':0,'b':1,'c':2}\n",
        "D['b']"
      ],
      "metadata": {
        "colab": {
          "base_uri": "https://localhost:8080/"
        },
        "id": "y4r0GPpcifCb",
        "outputId": "4b1826d7-30e6-4cc6-f488-e298f995874f"
      },
      "execution_count": 34,
      "outputs": [
        {
          "output_type": "execute_result",
          "data": {
            "text/plain": [
              "1"
            ]
          },
          "metadata": {},
          "execution_count": 34
        }
      ]
    },
    {
      "cell_type": "markdown",
      "source": [
        "#Module 2 - Review Questions\n"
      ],
      "metadata": {
        "id": "UuS3JM1UkXZo"
      }
    },
    {
      "cell_type": "code",
      "source": [
        "#Question 1\n",
        "A = ('a','b','c')\n",
        "A[0]"
      ],
      "metadata": {
        "colab": {
          "base_uri": "https://localhost:8080/",
          "height": 0
        },
        "id": "Cis-JvtykaMi",
        "outputId": "964e5c9c-bfbf-4426-f425-bcccf633350d"
      },
      "execution_count": 35,
      "outputs": [
        {
          "output_type": "execute_result",
          "data": {
            "text/plain": [
              "'a'"
            ],
            "application/vnd.google.colaboratory.intrinsic+json": {
              "type": "string"
            }
          },
          "metadata": {},
          "execution_count": 35
        }
      ]
    },
    {
      "cell_type": "code",
      "source": [
        "Dict={\"A\":1,\"B\":\"2\",\"C\":[3,3,3],\"D\":(4,4,4),'E':5,'F':6}\n",
        "Dict[\"D\"]"
      ],
      "metadata": {
        "colab": {
          "base_uri": "https://localhost:8080/"
        },
        "id": "3uoon0Aqk2NW",
        "outputId": "107d2318-bfb8-474a-b6e5-aed04e599584"
      },
      "execution_count": 36,
      "outputs": [
        {
          "output_type": "execute_result",
          "data": {
            "text/plain": [
              "(4, 4, 4)"
            ]
          },
          "metadata": {},
          "execution_count": 36
        }
      ]
    },
    {
      "cell_type": "markdown",
      "source": [
        "#Module 3 - Conditions and Branching\n",
        "Comparison operator\n",
        "**== <,>,<=,>=,!=** <br>\n",
        "Branching are if statements\n"
      ],
      "metadata": {
        "id": "Uzd0zZRQn8Gt"
      }
    },
    {
      "cell_type": "code",
      "source": [
        "#sintaxis if else\n",
        "Age = 17\n",
        "if(Age>18):\n",
        "  print(\"you can enter\")\n",
        "else:\n",
        "  print(\"go see meat loaf\")\n",
        "print(\"move on\")\n"
      ],
      "metadata": {
        "id": "LqBMPFGloE64",
        "colab": {
          "base_uri": "https://localhost:8080/"
        },
        "outputId": "cf3f6838-46ec-462b-ebe2-a31ae9cdf68c"
      },
      "execution_count": 37,
      "outputs": [
        {
          "output_type": "stream",
          "name": "stdout",
          "text": [
            "go see meat loaf\n",
            "move on\n"
          ]
        }
      ]
    },
    {
      "cell_type": "code",
      "source": [
        "#Question 1\n",
        "i = 1 #-1,1000\n",
        "i!=0"
      ],
      "metadata": {
        "colab": {
          "base_uri": "https://localhost:8080/"
        },
        "id": "jggBFy2-NBVA",
        "outputId": "06a3dfef-0d7a-4536-f6bb-5cf0f03366d0"
      },
      "execution_count": 38,
      "outputs": [
        {
          "output_type": "execute_result",
          "data": {
            "text/plain": [
              "True"
            ]
          },
          "metadata": {},
          "execution_count": 38
        }
      ]
    },
    {
      "cell_type": "markdown",
      "source": [
        "#Module 3 - loops\n"
      ],
      "metadata": {
        "id": "8z2gcTULN0Mc"
      }
    },
    {
      "cell_type": "code",
      "source": [
        "range(10,15) #for python2, on python 3 we need loops"
      ],
      "metadata": {
        "colab": {
          "base_uri": "https://localhost:8080/"
        },
        "id": "nGScHRm6N-nj",
        "outputId": "bfde3800-b098-4526-ed6a-68a44cb4ea23"
      },
      "execution_count": 39,
      "outputs": [
        {
          "output_type": "execute_result",
          "data": {
            "text/plain": [
              "range(10, 15)"
            ]
          },
          "metadata": {},
          "execution_count": 39
        }
      ]
    },
    {
      "cell_type": "code",
      "source": [
        "squares=[\"red\",\"yellow\",\"green\",\"purple\",\"blue\"]\n",
        "print(squares)\n",
        "for i in range(0,5):\n",
        "    squares[i]=\"white\"\n",
        "\n",
        "print (squares)"
      ],
      "metadata": {
        "colab": {
          "base_uri": "https://localhost:8080/"
        },
        "id": "hV2fLzFSOR7A",
        "outputId": "437f6f4a-7868-46de-8097-7224dcf428e2"
      },
      "execution_count": 40,
      "outputs": [
        {
          "output_type": "stream",
          "name": "stdout",
          "text": [
            "['red', 'yellow', 'green', 'purple', 'blue']\n",
            "['white', 'white', 'white', 'white', 'white']\n"
          ]
        }
      ]
    },
    {
      "cell_type": "code",
      "source": [
        "A=[3,4,5]\n",
        "\n",
        "for a in A:\n",
        "  print(a)"
      ],
      "metadata": {
        "colab": {
          "base_uri": "https://localhost:8080/"
        },
        "id": "v0Ay5TA4Q30u",
        "outputId": "94c12fd6-9f50-4677-d471-6528023198e0"
      },
      "execution_count": 41,
      "outputs": [
        {
          "output_type": "stream",
          "name": "stdout",
          "text": [
            "3\n",
            "4\n",
            "5\n"
          ]
        }
      ]
    },
    {
      "cell_type": "code",
      "source": [
        "x=3\n",
        "y=1\n",
        "while(y!=x):\n",
        "  print(y)\n",
        "  y=y+1"
      ],
      "metadata": {
        "colab": {
          "base_uri": "https://localhost:8080/"
        },
        "id": "CX0FlgFyRT1L",
        "outputId": "43b1e8ed-56f7-425a-f245-3c73a0980717"
      },
      "execution_count": 42,
      "outputs": [
        {
          "output_type": "stream",
          "name": "stdout",
          "text": [
            "1\n",
            "2\n"
          ]
        }
      ]
    },
    {
      "cell_type": "markdown",
      "source": [
        "#Module 3 - Functions\n",
        "Just focus on what the function do, not on how do\n"
      ],
      "metadata": {
        "id": "FW-yAol4RqP3"
      }
    },
    {
      "cell_type": "code",
      "source": [
        "def add1(a):\n",
        "  b=a+1\n",
        "  return b\n",
        "\n",
        "add1(5)"
      ],
      "metadata": {
        "colab": {
          "base_uri": "https://localhost:8080/"
        },
        "id": "e0nbAu7CSZUI",
        "outputId": "1aac9e07-0c75-4aa6-b803-b522eda00ab3"
      },
      "execution_count": 43,
      "outputs": [
        {
          "output_type": "execute_result",
          "data": {
            "text/plain": [
              "6"
            ]
          },
          "metadata": {},
          "execution_count": 43
        }
      ]
    },
    {
      "cell_type": "markdown",
      "source": [
        "#Module 3 - Objects and Clases\n",
        "\n",
        "Object has a type<br>\n",
        "**CLASS** it has data attributes and methods\n"
      ],
      "metadata": {
        "id": "YHSU58Z4VPoy"
      }
    },
    {
      "cell_type": "code",
      "source": [
        "#init is the constructor\n",
        "class Circle(object):\n",
        "  def __init__(self,radius,color):\n",
        "    self.radius = radius;\n",
        "    self.color = color;\n",
        "\n",
        "class Rectangle(object):\n",
        "  def __init__(self,color,height,width):\n",
        "    self.height=height;\n",
        "    self.width=width;\n",
        "    self.color=color;"
      ],
      "metadata": {
        "id": "txAx55wmVT_2"
      },
      "execution_count": 44,
      "outputs": []
    },
    {
      "cell_type": "code",
      "source": [
        "RedCircle = Circle(10,\"red\")\n",
        "RedCircle.color\n",
        "RedCircle.color=\"blue\"\n",
        "RedCircle.color\n",
        "BlueCircle = Circle(color=\"BLUE\",radius=14)\n",
        "BlueCircle.color"
      ],
      "metadata": {
        "id": "x1PM72EfcNpG",
        "outputId": "19c746f6-11de-4f9a-8fd0-b8387c6c1649",
        "colab": {
          "base_uri": "https://localhost:8080/",
          "height": 0
        }
      },
      "execution_count": 45,
      "outputs": [
        {
          "output_type": "execute_result",
          "data": {
            "text/plain": [
              "'BLUE'"
            ],
            "application/vnd.google.colaboratory.intrinsic+json": {
              "type": "string"
            }
          },
          "metadata": {},
          "execution_count": 45
        }
      ]
    },
    {
      "cell_type": "markdown",
      "source": [
        "#Module 3 - Review Questions\n"
      ],
      "metadata": {
        "id": "5oxuYJ23fE-8"
      }
    },
    {
      "cell_type": "code",
      "source": [
        "#Question 1,2,3,4,5\n",
        "#I dont need coding, do it in the webpage\n"
      ],
      "metadata": {
        "id": "XifgEIyjfgYa"
      },
      "execution_count": 46,
      "outputs": []
    },
    {
      "cell_type": "markdown",
      "source": [
        "# Module 4 - Working with Data in Python\n"
      ],
      "metadata": {
        "id": "-FRZCHRYZbL_"
      }
    },
    {
      "cell_type": "markdown",
      "source": [
        "File1 = open(\"/resources/data/Example2.txt\",\"w\") <br> if is w is for write <br>\n",
        "File1.name - give the name<br>\n",
        "File1.mode -  give w, r for writing or read<br>\n",
        "File1.close()<br>\n",
        "\n",
        "It is recommend to use **with**, because automatically close the file\n",
        "<br>\n",
        "fil1.readline() for read each line. if we put inside a number is to read number of characters\n",
        "\n"
      ],
      "metadata": {
        "id": "hdCONAszZsVs"
      }
    },
    {
      "cell_type": "markdown",
      "source": [
        "For writing we need to put **file1.write(\"text to write\")**,<br>\n"
      ],
      "metadata": {
        "id": "oDBHQVu1a9Gy"
      }
    },
    {
      "cell_type": "markdown",
      "source": [
        "# Module 4 - Loading data with pandas\n",
        "\n"
      ],
      "metadata": {
        "id": "veUtWl39cfBf"
      }
    },
    {
      "cell_type": "code",
      "source": [
        "import pandas as pd\n",
        "csv_path='Standard Videos.csv'\n",
        "df=pd.read_csv(csv_path)\n",
        "\n",
        "df.head() # to see the first 5 rows of the data\n"
      ],
      "metadata": {
        "colab": {
          "base_uri": "https://localhost:8080/",
          "height": 354
        },
        "id": "6RJS5xnhcqTz",
        "outputId": "ed07aedb-2262-4433-9260-ce4e74404439"
      },
      "execution_count": 54,
      "outputs": [
        {
          "output_type": "execute_result",
          "data": {
            "text/plain": [
              "   ID        Site       Dept.Type           Job Title  \\\n",
              "0   1  Carrollton           DAPEC              PACKER   \n",
              "1   7     ARCADIA  LIVE RECEIVING       HANGER - LIVE   \n",
              "2   8     ARCADIA  CHILLER REHANG  REHANGER - CHILLER   \n",
              "3   9     ARCADIA  LIVE RECEIVING   OPERATOR - DRAWER   \n",
              "4  10     ARCADIA  CHILLER REHANG      OPERATOR - SAW   \n",
              "\n",
              "                                          Video Link     Created By  \\\n",
              "0  https://web.microsoftstream.com/video/2c5c33f7...  Barraza, Luis   \n",
              "1  https://web.microsoftstream.com/video/fcbf2847...  Barraza, Luis   \n",
              "2  https://web.microsoftstream.com/video/8e061752...  Barraza, Luis   \n",
              "3  https://web.microsoftstream.com/video/b5f0261a...  Barraza, Luis   \n",
              "4  https://web.microsoftstream.com/video/f29bd804...  Barraza, Luis   \n",
              "\n",
              "             Created    Modified By            Modified  \n",
              "0  7/5/2021 10:47 PM  Barraza, Luis  7/19/2021 11:34 PM  \n",
              "1  9/6/2021 12:21 PM  Barraza, Luis   9/6/2021 12:21 PM  \n",
              "2  9/6/2021 12:23 PM  Barraza, Luis   9/6/2021 12:23 PM  \n",
              "3  9/6/2021 12:38 PM  Barraza, Luis    9/6/2021 5:21 PM  \n",
              "4  9/6/2021 12:50 PM  Barraza, Luis   9/6/2021 12:50 PM  "
            ],
            "text/html": [
              "\n",
              "  <div id=\"df-3f10bca2-209b-43c9-be4b-e37aea25d3d6\">\n",
              "    <div class=\"colab-df-container\">\n",
              "      <div>\n",
              "<style scoped>\n",
              "    .dataframe tbody tr th:only-of-type {\n",
              "        vertical-align: middle;\n",
              "    }\n",
              "\n",
              "    .dataframe tbody tr th {\n",
              "        vertical-align: top;\n",
              "    }\n",
              "\n",
              "    .dataframe thead th {\n",
              "        text-align: right;\n",
              "    }\n",
              "</style>\n",
              "<table border=\"1\" class=\"dataframe\">\n",
              "  <thead>\n",
              "    <tr style=\"text-align: right;\">\n",
              "      <th></th>\n",
              "      <th>ID</th>\n",
              "      <th>Site</th>\n",
              "      <th>Dept.Type</th>\n",
              "      <th>Job Title</th>\n",
              "      <th>Video Link</th>\n",
              "      <th>Created By</th>\n",
              "      <th>Created</th>\n",
              "      <th>Modified By</th>\n",
              "      <th>Modified</th>\n",
              "    </tr>\n",
              "  </thead>\n",
              "  <tbody>\n",
              "    <tr>\n",
              "      <th>0</th>\n",
              "      <td>1</td>\n",
              "      <td>Carrollton</td>\n",
              "      <td>DAPEC</td>\n",
              "      <td>PACKER</td>\n",
              "      <td>https://web.microsoftstream.com/video/2c5c33f7...</td>\n",
              "      <td>Barraza, Luis</td>\n",
              "      <td>7/5/2021 10:47 PM</td>\n",
              "      <td>Barraza, Luis</td>\n",
              "      <td>7/19/2021 11:34 PM</td>\n",
              "    </tr>\n",
              "    <tr>\n",
              "      <th>1</th>\n",
              "      <td>7</td>\n",
              "      <td>ARCADIA</td>\n",
              "      <td>LIVE RECEIVING</td>\n",
              "      <td>HANGER - LIVE</td>\n",
              "      <td>https://web.microsoftstream.com/video/fcbf2847...</td>\n",
              "      <td>Barraza, Luis</td>\n",
              "      <td>9/6/2021 12:21 PM</td>\n",
              "      <td>Barraza, Luis</td>\n",
              "      <td>9/6/2021 12:21 PM</td>\n",
              "    </tr>\n",
              "    <tr>\n",
              "      <th>2</th>\n",
              "      <td>8</td>\n",
              "      <td>ARCADIA</td>\n",
              "      <td>CHILLER REHANG</td>\n",
              "      <td>REHANGER - CHILLER</td>\n",
              "      <td>https://web.microsoftstream.com/video/8e061752...</td>\n",
              "      <td>Barraza, Luis</td>\n",
              "      <td>9/6/2021 12:23 PM</td>\n",
              "      <td>Barraza, Luis</td>\n",
              "      <td>9/6/2021 12:23 PM</td>\n",
              "    </tr>\n",
              "    <tr>\n",
              "      <th>3</th>\n",
              "      <td>9</td>\n",
              "      <td>ARCADIA</td>\n",
              "      <td>LIVE RECEIVING</td>\n",
              "      <td>OPERATOR - DRAWER</td>\n",
              "      <td>https://web.microsoftstream.com/video/b5f0261a...</td>\n",
              "      <td>Barraza, Luis</td>\n",
              "      <td>9/6/2021 12:38 PM</td>\n",
              "      <td>Barraza, Luis</td>\n",
              "      <td>9/6/2021 5:21 PM</td>\n",
              "    </tr>\n",
              "    <tr>\n",
              "      <th>4</th>\n",
              "      <td>10</td>\n",
              "      <td>ARCADIA</td>\n",
              "      <td>CHILLER REHANG</td>\n",
              "      <td>OPERATOR - SAW</td>\n",
              "      <td>https://web.microsoftstream.com/video/f29bd804...</td>\n",
              "      <td>Barraza, Luis</td>\n",
              "      <td>9/6/2021 12:50 PM</td>\n",
              "      <td>Barraza, Luis</td>\n",
              "      <td>9/6/2021 12:50 PM</td>\n",
              "    </tr>\n",
              "  </tbody>\n",
              "</table>\n",
              "</div>\n",
              "      <button class=\"colab-df-convert\" onclick=\"convertToInteractive('df-3f10bca2-209b-43c9-be4b-e37aea25d3d6')\"\n",
              "              title=\"Convert this dataframe to an interactive table.\"\n",
              "              style=\"display:none;\">\n",
              "        \n",
              "  <svg xmlns=\"http://www.w3.org/2000/svg\" height=\"24px\"viewBox=\"0 0 24 24\"\n",
              "       width=\"24px\">\n",
              "    <path d=\"M0 0h24v24H0V0z\" fill=\"none\"/>\n",
              "    <path d=\"M18.56 5.44l.94 2.06.94-2.06 2.06-.94-2.06-.94-.94-2.06-.94 2.06-2.06.94zm-11 1L8.5 8.5l.94-2.06 2.06-.94-2.06-.94L8.5 2.5l-.94 2.06-2.06.94zm10 10l.94 2.06.94-2.06 2.06-.94-2.06-.94-.94-2.06-.94 2.06-2.06.94z\"/><path d=\"M17.41 7.96l-1.37-1.37c-.4-.4-.92-.59-1.43-.59-.52 0-1.04.2-1.43.59L10.3 9.45l-7.72 7.72c-.78.78-.78 2.05 0 2.83L4 21.41c.39.39.9.59 1.41.59.51 0 1.02-.2 1.41-.59l7.78-7.78 2.81-2.81c.8-.78.8-2.07 0-2.86zM5.41 20L4 18.59l7.72-7.72 1.47 1.35L5.41 20z\"/>\n",
              "  </svg>\n",
              "      </button>\n",
              "      \n",
              "  <style>\n",
              "    .colab-df-container {\n",
              "      display:flex;\n",
              "      flex-wrap:wrap;\n",
              "      gap: 12px;\n",
              "    }\n",
              "\n",
              "    .colab-df-convert {\n",
              "      background-color: #E8F0FE;\n",
              "      border: none;\n",
              "      border-radius: 50%;\n",
              "      cursor: pointer;\n",
              "      display: none;\n",
              "      fill: #1967D2;\n",
              "      height: 32px;\n",
              "      padding: 0 0 0 0;\n",
              "      width: 32px;\n",
              "    }\n",
              "\n",
              "    .colab-df-convert:hover {\n",
              "      background-color: #E2EBFA;\n",
              "      box-shadow: 0px 1px 2px rgba(60, 64, 67, 0.3), 0px 1px 3px 1px rgba(60, 64, 67, 0.15);\n",
              "      fill: #174EA6;\n",
              "    }\n",
              "\n",
              "    [theme=dark] .colab-df-convert {\n",
              "      background-color: #3B4455;\n",
              "      fill: #D2E3FC;\n",
              "    }\n",
              "\n",
              "    [theme=dark] .colab-df-convert:hover {\n",
              "      background-color: #434B5C;\n",
              "      box-shadow: 0px 1px 3px 1px rgba(0, 0, 0, 0.15);\n",
              "      filter: drop-shadow(0px 1px 2px rgba(0, 0, 0, 0.3));\n",
              "      fill: #FFFFFF;\n",
              "    }\n",
              "  </style>\n",
              "\n",
              "      <script>\n",
              "        const buttonEl =\n",
              "          document.querySelector('#df-3f10bca2-209b-43c9-be4b-e37aea25d3d6 button.colab-df-convert');\n",
              "        buttonEl.style.display =\n",
              "          google.colab.kernel.accessAllowed ? 'block' : 'none';\n",
              "\n",
              "        async function convertToInteractive(key) {\n",
              "          const element = document.querySelector('#df-3f10bca2-209b-43c9-be4b-e37aea25d3d6');\n",
              "          const dataTable =\n",
              "            await google.colab.kernel.invokeFunction('convertToInteractive',\n",
              "                                                     [key], {});\n",
              "          if (!dataTable) return;\n",
              "\n",
              "          const docLinkHtml = 'Like what you see? Visit the ' +\n",
              "            '<a target=\"_blank\" href=https://colab.research.google.com/notebooks/data_table.ipynb>data table notebook</a>'\n",
              "            + ' to learn more about interactive tables.';\n",
              "          element.innerHTML = '';\n",
              "          dataTable['output_type'] = 'display_data';\n",
              "          await google.colab.output.renderOutput(dataTable, element);\n",
              "          const docLink = document.createElement('div');\n",
              "          docLink.innerHTML = docLinkHtml;\n",
              "          element.appendChild(docLink);\n",
              "        }\n",
              "      </script>\n",
              "    </div>\n",
              "  </div>\n",
              "  "
            ]
          },
          "metadata": {},
          "execution_count": 54
        }
      ]
    },
    {
      "cell_type": "code",
      "source": [
        "#we can create a datafram out of the dictionary. A dataframe has columns and rows\n",
        "songs = {'Album': ['Thriller back','back in black'], 'Released': [1982,1980], 'Length': ['00:42:19','00:42:11']} \n",
        "songs_frame = pd.DataFrame(songs) # take the dictionay inside pd.DataFrame(##)\n",
        "songs_frame.head()"
      ],
      "metadata": {
        "colab": {
          "base_uri": "https://localhost:8080/",
          "height": 112
        },
        "id": "9FKHwc6_eL4h",
        "outputId": "87daa7c4-8d88-4a91-8549-1c3c6720d2e7"
      },
      "execution_count": 58,
      "outputs": [
        {
          "output_type": "execute_result",
          "data": {
            "text/plain": [
              "           Album  Released    Length\n",
              "0  Thriller back      1982  00:42:19\n",
              "1  back in black      1980  00:42:11"
            ],
            "text/html": [
              "\n",
              "  <div id=\"df-d7325ba3-973b-474e-a650-f3e08600acc5\">\n",
              "    <div class=\"colab-df-container\">\n",
              "      <div>\n",
              "<style scoped>\n",
              "    .dataframe tbody tr th:only-of-type {\n",
              "        vertical-align: middle;\n",
              "    }\n",
              "\n",
              "    .dataframe tbody tr th {\n",
              "        vertical-align: top;\n",
              "    }\n",
              "\n",
              "    .dataframe thead th {\n",
              "        text-align: right;\n",
              "    }\n",
              "</style>\n",
              "<table border=\"1\" class=\"dataframe\">\n",
              "  <thead>\n",
              "    <tr style=\"text-align: right;\">\n",
              "      <th></th>\n",
              "      <th>Album</th>\n",
              "      <th>Released</th>\n",
              "      <th>Length</th>\n",
              "    </tr>\n",
              "  </thead>\n",
              "  <tbody>\n",
              "    <tr>\n",
              "      <th>0</th>\n",
              "      <td>Thriller back</td>\n",
              "      <td>1982</td>\n",
              "      <td>00:42:19</td>\n",
              "    </tr>\n",
              "    <tr>\n",
              "      <th>1</th>\n",
              "      <td>back in black</td>\n",
              "      <td>1980</td>\n",
              "      <td>00:42:11</td>\n",
              "    </tr>\n",
              "  </tbody>\n",
              "</table>\n",
              "</div>\n",
              "      <button class=\"colab-df-convert\" onclick=\"convertToInteractive('df-d7325ba3-973b-474e-a650-f3e08600acc5')\"\n",
              "              title=\"Convert this dataframe to an interactive table.\"\n",
              "              style=\"display:none;\">\n",
              "        \n",
              "  <svg xmlns=\"http://www.w3.org/2000/svg\" height=\"24px\"viewBox=\"0 0 24 24\"\n",
              "       width=\"24px\">\n",
              "    <path d=\"M0 0h24v24H0V0z\" fill=\"none\"/>\n",
              "    <path d=\"M18.56 5.44l.94 2.06.94-2.06 2.06-.94-2.06-.94-.94-2.06-.94 2.06-2.06.94zm-11 1L8.5 8.5l.94-2.06 2.06-.94-2.06-.94L8.5 2.5l-.94 2.06-2.06.94zm10 10l.94 2.06.94-2.06 2.06-.94-2.06-.94-.94-2.06-.94 2.06-2.06.94z\"/><path d=\"M17.41 7.96l-1.37-1.37c-.4-.4-.92-.59-1.43-.59-.52 0-1.04.2-1.43.59L10.3 9.45l-7.72 7.72c-.78.78-.78 2.05 0 2.83L4 21.41c.39.39.9.59 1.41.59.51 0 1.02-.2 1.41-.59l7.78-7.78 2.81-2.81c.8-.78.8-2.07 0-2.86zM5.41 20L4 18.59l7.72-7.72 1.47 1.35L5.41 20z\"/>\n",
              "  </svg>\n",
              "      </button>\n",
              "      \n",
              "  <style>\n",
              "    .colab-df-container {\n",
              "      display:flex;\n",
              "      flex-wrap:wrap;\n",
              "      gap: 12px;\n",
              "    }\n",
              "\n",
              "    .colab-df-convert {\n",
              "      background-color: #E8F0FE;\n",
              "      border: none;\n",
              "      border-radius: 50%;\n",
              "      cursor: pointer;\n",
              "      display: none;\n",
              "      fill: #1967D2;\n",
              "      height: 32px;\n",
              "      padding: 0 0 0 0;\n",
              "      width: 32px;\n",
              "    }\n",
              "\n",
              "    .colab-df-convert:hover {\n",
              "      background-color: #E2EBFA;\n",
              "      box-shadow: 0px 1px 2px rgba(60, 64, 67, 0.3), 0px 1px 3px 1px rgba(60, 64, 67, 0.15);\n",
              "      fill: #174EA6;\n",
              "    }\n",
              "\n",
              "    [theme=dark] .colab-df-convert {\n",
              "      background-color: #3B4455;\n",
              "      fill: #D2E3FC;\n",
              "    }\n",
              "\n",
              "    [theme=dark] .colab-df-convert:hover {\n",
              "      background-color: #434B5C;\n",
              "      box-shadow: 0px 1px 3px 1px rgba(0, 0, 0, 0.15);\n",
              "      filter: drop-shadow(0px 1px 2px rgba(0, 0, 0, 0.3));\n",
              "      fill: #FFFFFF;\n",
              "    }\n",
              "  </style>\n",
              "\n",
              "      <script>\n",
              "        const buttonEl =\n",
              "          document.querySelector('#df-d7325ba3-973b-474e-a650-f3e08600acc5 button.colab-df-convert');\n",
              "        buttonEl.style.display =\n",
              "          google.colab.kernel.accessAllowed ? 'block' : 'none';\n",
              "\n",
              "        async function convertToInteractive(key) {\n",
              "          const element = document.querySelector('#df-d7325ba3-973b-474e-a650-f3e08600acc5');\n",
              "          const dataTable =\n",
              "            await google.colab.kernel.invokeFunction('convertToInteractive',\n",
              "                                                     [key], {});\n",
              "          if (!dataTable) return;\n",
              "\n",
              "          const docLinkHtml = 'Like what you see? Visit the ' +\n",
              "            '<a target=\"_blank\" href=https://colab.research.google.com/notebooks/data_table.ipynb>data table notebook</a>'\n",
              "            + ' to learn more about interactive tables.';\n",
              "          element.innerHTML = '';\n",
              "          dataTable['output_type'] = 'display_data';\n",
              "          await google.colab.output.renderOutput(dataTable, element);\n",
              "          const docLink = document.createElement('div');\n",
              "          docLink.innerHTML = docLinkHtml;\n",
              "          element.appendChild(docLink);\n",
              "        }\n",
              "      </script>\n",
              "    </div>\n",
              "  </div>\n",
              "  "
            ]
          },
          "metadata": {},
          "execution_count": 58
        }
      ]
    },
    {
      "cell_type": "code",
      "source": [
        "#we can create new data frame from a previous data frame, it is important to use [[]] double\n",
        "x = songs_frame[['Length']]\n",
        "x.head()"
      ],
      "metadata": {
        "colab": {
          "base_uri": "https://localhost:8080/",
          "height": 112
        },
        "id": "DeZH7tpEfO-m",
        "outputId": "0dff5a79-88ab-474a-b6fa-eb757220fe48"
      },
      "execution_count": 61,
      "outputs": [
        {
          "output_type": "execute_result",
          "data": {
            "text/plain": [
              "     Length\n",
              "0  00:42:19\n",
              "1  00:42:11"
            ],
            "text/html": [
              "\n",
              "  <div id=\"df-c7aecbdb-5de2-456f-af09-53ddf485e415\">\n",
              "    <div class=\"colab-df-container\">\n",
              "      <div>\n",
              "<style scoped>\n",
              "    .dataframe tbody tr th:only-of-type {\n",
              "        vertical-align: middle;\n",
              "    }\n",
              "\n",
              "    .dataframe tbody tr th {\n",
              "        vertical-align: top;\n",
              "    }\n",
              "\n",
              "    .dataframe thead th {\n",
              "        text-align: right;\n",
              "    }\n",
              "</style>\n",
              "<table border=\"1\" class=\"dataframe\">\n",
              "  <thead>\n",
              "    <tr style=\"text-align: right;\">\n",
              "      <th></th>\n",
              "      <th>Length</th>\n",
              "    </tr>\n",
              "  </thead>\n",
              "  <tbody>\n",
              "    <tr>\n",
              "      <th>0</th>\n",
              "      <td>00:42:19</td>\n",
              "    </tr>\n",
              "    <tr>\n",
              "      <th>1</th>\n",
              "      <td>00:42:11</td>\n",
              "    </tr>\n",
              "  </tbody>\n",
              "</table>\n",
              "</div>\n",
              "      <button class=\"colab-df-convert\" onclick=\"convertToInteractive('df-c7aecbdb-5de2-456f-af09-53ddf485e415')\"\n",
              "              title=\"Convert this dataframe to an interactive table.\"\n",
              "              style=\"display:none;\">\n",
              "        \n",
              "  <svg xmlns=\"http://www.w3.org/2000/svg\" height=\"24px\"viewBox=\"0 0 24 24\"\n",
              "       width=\"24px\">\n",
              "    <path d=\"M0 0h24v24H0V0z\" fill=\"none\"/>\n",
              "    <path d=\"M18.56 5.44l.94 2.06.94-2.06 2.06-.94-2.06-.94-.94-2.06-.94 2.06-2.06.94zm-11 1L8.5 8.5l.94-2.06 2.06-.94-2.06-.94L8.5 2.5l-.94 2.06-2.06.94zm10 10l.94 2.06.94-2.06 2.06-.94-2.06-.94-.94-2.06-.94 2.06-2.06.94z\"/><path d=\"M17.41 7.96l-1.37-1.37c-.4-.4-.92-.59-1.43-.59-.52 0-1.04.2-1.43.59L10.3 9.45l-7.72 7.72c-.78.78-.78 2.05 0 2.83L4 21.41c.39.39.9.59 1.41.59.51 0 1.02-.2 1.41-.59l7.78-7.78 2.81-2.81c.8-.78.8-2.07 0-2.86zM5.41 20L4 18.59l7.72-7.72 1.47 1.35L5.41 20z\"/>\n",
              "  </svg>\n",
              "      </button>\n",
              "      \n",
              "  <style>\n",
              "    .colab-df-container {\n",
              "      display:flex;\n",
              "      flex-wrap:wrap;\n",
              "      gap: 12px;\n",
              "    }\n",
              "\n",
              "    .colab-df-convert {\n",
              "      background-color: #E8F0FE;\n",
              "      border: none;\n",
              "      border-radius: 50%;\n",
              "      cursor: pointer;\n",
              "      display: none;\n",
              "      fill: #1967D2;\n",
              "      height: 32px;\n",
              "      padding: 0 0 0 0;\n",
              "      width: 32px;\n",
              "    }\n",
              "\n",
              "    .colab-df-convert:hover {\n",
              "      background-color: #E2EBFA;\n",
              "      box-shadow: 0px 1px 2px rgba(60, 64, 67, 0.3), 0px 1px 3px 1px rgba(60, 64, 67, 0.15);\n",
              "      fill: #174EA6;\n",
              "    }\n",
              "\n",
              "    [theme=dark] .colab-df-convert {\n",
              "      background-color: #3B4455;\n",
              "      fill: #D2E3FC;\n",
              "    }\n",
              "\n",
              "    [theme=dark] .colab-df-convert:hover {\n",
              "      background-color: #434B5C;\n",
              "      box-shadow: 0px 1px 3px 1px rgba(0, 0, 0, 0.15);\n",
              "      filter: drop-shadow(0px 1px 2px rgba(0, 0, 0, 0.3));\n",
              "      fill: #FFFFFF;\n",
              "    }\n",
              "  </style>\n",
              "\n",
              "      <script>\n",
              "        const buttonEl =\n",
              "          document.querySelector('#df-c7aecbdb-5de2-456f-af09-53ddf485e415 button.colab-df-convert');\n",
              "        buttonEl.style.display =\n",
              "          google.colab.kernel.accessAllowed ? 'block' : 'none';\n",
              "\n",
              "        async function convertToInteractive(key) {\n",
              "          const element = document.querySelector('#df-c7aecbdb-5de2-456f-af09-53ddf485e415');\n",
              "          const dataTable =\n",
              "            await google.colab.kernel.invokeFunction('convertToInteractive',\n",
              "                                                     [key], {});\n",
              "          if (!dataTable) return;\n",
              "\n",
              "          const docLinkHtml = 'Like what you see? Visit the ' +\n",
              "            '<a target=\"_blank\" href=https://colab.research.google.com/notebooks/data_table.ipynb>data table notebook</a>'\n",
              "            + ' to learn more about interactive tables.';\n",
              "          element.innerHTML = '';\n",
              "          dataTable['output_type'] = 'display_data';\n",
              "          await google.colab.output.renderOutput(dataTable, element);\n",
              "          const docLink = document.createElement('div');\n",
              "          docLink.innerHTML = docLinkHtml;\n",
              "          element.appendChild(docLink);\n",
              "        }\n",
              "      </script>\n",
              "    </div>\n",
              "  </div>\n",
              "  "
            ]
          },
          "metadata": {},
          "execution_count": 61
        }
      ]
    },
    {
      "cell_type": "code",
      "source": [
        "# we can include multiple columns\n",
        "y = songs_frame[['Album','Length']]\n",
        "y.head()"
      ],
      "metadata": {
        "colab": {
          "base_uri": "https://localhost:8080/",
          "height": 112
        },
        "id": "rCY1Y9R8fpic",
        "outputId": "29154dd9-67c4-4e50-c416-ee81919225d6"
      },
      "execution_count": 76,
      "outputs": [
        {
          "output_type": "execute_result",
          "data": {
            "text/plain": [
              "           Album    Length\n",
              "0  Thriller back  00:42:19\n",
              "1  back in black  00:42:11"
            ],
            "text/html": [
              "\n",
              "  <div id=\"df-e1862856-7ee0-4a0c-b32e-a879ae3b7ffe\">\n",
              "    <div class=\"colab-df-container\">\n",
              "      <div>\n",
              "<style scoped>\n",
              "    .dataframe tbody tr th:only-of-type {\n",
              "        vertical-align: middle;\n",
              "    }\n",
              "\n",
              "    .dataframe tbody tr th {\n",
              "        vertical-align: top;\n",
              "    }\n",
              "\n",
              "    .dataframe thead th {\n",
              "        text-align: right;\n",
              "    }\n",
              "</style>\n",
              "<table border=\"1\" class=\"dataframe\">\n",
              "  <thead>\n",
              "    <tr style=\"text-align: right;\">\n",
              "      <th></th>\n",
              "      <th>Album</th>\n",
              "      <th>Length</th>\n",
              "    </tr>\n",
              "  </thead>\n",
              "  <tbody>\n",
              "    <tr>\n",
              "      <th>0</th>\n",
              "      <td>Thriller back</td>\n",
              "      <td>00:42:19</td>\n",
              "    </tr>\n",
              "    <tr>\n",
              "      <th>1</th>\n",
              "      <td>back in black</td>\n",
              "      <td>00:42:11</td>\n",
              "    </tr>\n",
              "  </tbody>\n",
              "</table>\n",
              "</div>\n",
              "      <button class=\"colab-df-convert\" onclick=\"convertToInteractive('df-e1862856-7ee0-4a0c-b32e-a879ae3b7ffe')\"\n",
              "              title=\"Convert this dataframe to an interactive table.\"\n",
              "              style=\"display:none;\">\n",
              "        \n",
              "  <svg xmlns=\"http://www.w3.org/2000/svg\" height=\"24px\"viewBox=\"0 0 24 24\"\n",
              "       width=\"24px\">\n",
              "    <path d=\"M0 0h24v24H0V0z\" fill=\"none\"/>\n",
              "    <path d=\"M18.56 5.44l.94 2.06.94-2.06 2.06-.94-2.06-.94-.94-2.06-.94 2.06-2.06.94zm-11 1L8.5 8.5l.94-2.06 2.06-.94-2.06-.94L8.5 2.5l-.94 2.06-2.06.94zm10 10l.94 2.06.94-2.06 2.06-.94-2.06-.94-.94-2.06-.94 2.06-2.06.94z\"/><path d=\"M17.41 7.96l-1.37-1.37c-.4-.4-.92-.59-1.43-.59-.52 0-1.04.2-1.43.59L10.3 9.45l-7.72 7.72c-.78.78-.78 2.05 0 2.83L4 21.41c.39.39.9.59 1.41.59.51 0 1.02-.2 1.41-.59l7.78-7.78 2.81-2.81c.8-.78.8-2.07 0-2.86zM5.41 20L4 18.59l7.72-7.72 1.47 1.35L5.41 20z\"/>\n",
              "  </svg>\n",
              "      </button>\n",
              "      \n",
              "  <style>\n",
              "    .colab-df-container {\n",
              "      display:flex;\n",
              "      flex-wrap:wrap;\n",
              "      gap: 12px;\n",
              "    }\n",
              "\n",
              "    .colab-df-convert {\n",
              "      background-color: #E8F0FE;\n",
              "      border: none;\n",
              "      border-radius: 50%;\n",
              "      cursor: pointer;\n",
              "      display: none;\n",
              "      fill: #1967D2;\n",
              "      height: 32px;\n",
              "      padding: 0 0 0 0;\n",
              "      width: 32px;\n",
              "    }\n",
              "\n",
              "    .colab-df-convert:hover {\n",
              "      background-color: #E2EBFA;\n",
              "      box-shadow: 0px 1px 2px rgba(60, 64, 67, 0.3), 0px 1px 3px 1px rgba(60, 64, 67, 0.15);\n",
              "      fill: #174EA6;\n",
              "    }\n",
              "\n",
              "    [theme=dark] .colab-df-convert {\n",
              "      background-color: #3B4455;\n",
              "      fill: #D2E3FC;\n",
              "    }\n",
              "\n",
              "    [theme=dark] .colab-df-convert:hover {\n",
              "      background-color: #434B5C;\n",
              "      box-shadow: 0px 1px 3px 1px rgba(0, 0, 0, 0.15);\n",
              "      filter: drop-shadow(0px 1px 2px rgba(0, 0, 0, 0.3));\n",
              "      fill: #FFFFFF;\n",
              "    }\n",
              "  </style>\n",
              "\n",
              "      <script>\n",
              "        const buttonEl =\n",
              "          document.querySelector('#df-e1862856-7ee0-4a0c-b32e-a879ae3b7ffe button.colab-df-convert');\n",
              "        buttonEl.style.display =\n",
              "          google.colab.kernel.accessAllowed ? 'block' : 'none';\n",
              "\n",
              "        async function convertToInteractive(key) {\n",
              "          const element = document.querySelector('#df-e1862856-7ee0-4a0c-b32e-a879ae3b7ffe');\n",
              "          const dataTable =\n",
              "            await google.colab.kernel.invokeFunction('convertToInteractive',\n",
              "                                                     [key], {});\n",
              "          if (!dataTable) return;\n",
              "\n",
              "          const docLinkHtml = 'Like what you see? Visit the ' +\n",
              "            '<a target=\"_blank\" href=https://colab.research.google.com/notebooks/data_table.ipynb>data table notebook</a>'\n",
              "            + ' to learn more about interactive tables.';\n",
              "          element.innerHTML = '';\n",
              "          dataTable['output_type'] = 'display_data';\n",
              "          await google.colab.output.renderOutput(dataTable, element);\n",
              "          const docLink = document.createElement('div');\n",
              "          docLink.innerHTML = docLinkHtml;\n",
              "          element.appendChild(docLink);\n",
              "        }\n",
              "      </script>\n",
              "    </div>\n",
              "  </div>\n",
              "  "
            ]
          },
          "metadata": {},
          "execution_count": 76
        }
      ]
    },
    {
      "cell_type": "code",
      "source": [
        "#to access to an element you can use the iloc, ix is deprecated\n",
        "songs_frame.iloc[0,0]\n",
        "songs_frame.loc[0,'Album'] #with strings"
      ],
      "metadata": {
        "colab": {
          "base_uri": "https://localhost:8080/",
          "height": 36
        },
        "id": "7YEkdnGyf3bw",
        "outputId": "438ce787-61ac-4e4e-f4aa-0d93bc13c831"
      },
      "execution_count": 99,
      "outputs": [
        {
          "output_type": "execute_result",
          "data": {
            "text/plain": [
              "'Thriller back'"
            ],
            "application/vnd.google.colaboratory.intrinsic+json": {
              "type": "string"
            }
          },
          "metadata": {},
          "execution_count": 99
        }
      ]
    },
    {
      "cell_type": "code",
      "source": [
        "#question 1\n",
        "#find the second row and first column\n",
        "df.iloc[1,0]"
      ],
      "metadata": {
        "colab": {
          "base_uri": "https://localhost:8080/"
        },
        "id": "nAGc2C_giGZ_",
        "outputId": "c4817283-2204-494d-95e2-deab15a3abb3"
      },
      "execution_count": 100,
      "outputs": [
        {
          "output_type": "execute_result",
          "data": {
            "text/plain": [
              "7"
            ]
          },
          "metadata": {},
          "execution_count": 100
        }
      ]
    },
    {
      "cell_type": "code",
      "source": [
        "#question2.\n",
        "#answered in the quiz\n"
      ],
      "metadata": {
        "id": "SfgbfRP4ihsA"
      },
      "execution_count": null,
      "outputs": []
    },
    {
      "cell_type": "markdown",
      "source": [
        "#Module 4 - Working with and savings data with pandas\n",
        "with unique method you can distinct the values<br>\n"
      ],
      "metadata": {
        "id": "ZbxMs0p0jM6H"
      }
    },
    {
      "cell_type": "code",
      "source": [
        "df['Site'].unique()"
      ],
      "metadata": {
        "colab": {
          "base_uri": "https://localhost:8080/"
        },
        "id": "6NPE0VD8jZbQ",
        "outputId": "20e75e10-2771-4a04-91b6-c7722d22c881"
      },
      "execution_count": 102,
      "outputs": [
        {
          "output_type": "execute_result",
          "data": {
            "text/plain": [
              "array(['Carrollton', 'ARCADIA', 'SUMTER', 'ENTERPRISE', 'MARSHVILLE',\n",
              "       'BROADWAY', 'NATCHITOCHES', 'MOOREFIELD', 'ELLIJAY', 'LIVE OAK'],\n",
              "      dtype=object)"
            ]
          },
          "metadata": {},
          "execution_count": 102
        }
      ]
    },
    {
      "cell_type": "code",
      "source": [
        "df1=df[df['ID']<15] #the inside gives you trues and false, and with the second just assigned the trues\n",
        "df1"
      ],
      "metadata": {
        "colab": {
          "base_uri": "https://localhost:8080/",
          "height": 452
        },
        "id": "9ZVNe9yUjzI6",
        "outputId": "d5148405-473f-4731-899b-49bc10032407"
      },
      "execution_count": 111,
      "outputs": [
        {
          "output_type": "execute_result",
          "data": {
            "text/plain": [
              "   ID        Site       Dept.Type           Job Title  \\\n",
              "0   1  Carrollton           DAPEC              PACKER   \n",
              "1   7     ARCADIA  LIVE RECEIVING       HANGER - LIVE   \n",
              "2   8     ARCADIA  CHILLER REHANG  REHANGER - CHILLER   \n",
              "3   9     ARCADIA  LIVE RECEIVING   OPERATOR - DRAWER   \n",
              "4  10     ARCADIA  CHILLER REHANG      OPERATOR - SAW   \n",
              "5  12      SUMTER  LIVE RECEIVING       HANGER - LIVE   \n",
              "6  13      SUMTER    EVISCERATION  HELPER - INSPECTOR   \n",
              "\n",
              "                                          Video Link     Created By  \\\n",
              "0  https://web.microsoftstream.com/video/2c5c33f7...  Barraza, Luis   \n",
              "1  https://web.microsoftstream.com/video/fcbf2847...  Barraza, Luis   \n",
              "2  https://web.microsoftstream.com/video/8e061752...  Barraza, Luis   \n",
              "3  https://web.microsoftstream.com/video/b5f0261a...  Barraza, Luis   \n",
              "4  https://web.microsoftstream.com/video/f29bd804...  Barraza, Luis   \n",
              "5  https://web.microsoftstream.com/video/3ed02be0...  Barraza, Luis   \n",
              "6  https://web.microsoftstream.com/video/1e8ff58f...  Barraza, Luis   \n",
              "\n",
              "             Created    Modified By            Modified  \n",
              "0  7/5/2021 10:47 PM  Barraza, Luis  7/19/2021 11:34 PM  \n",
              "1  9/6/2021 12:21 PM  Barraza, Luis   9/6/2021 12:21 PM  \n",
              "2  9/6/2021 12:23 PM  Barraza, Luis   9/6/2021 12:23 PM  \n",
              "3  9/6/2021 12:38 PM  Barraza, Luis    9/6/2021 5:21 PM  \n",
              "4  9/6/2021 12:50 PM  Barraza, Luis   9/6/2021 12:50 PM  \n",
              "5  9/7/2021 11:15 AM  Barraza, Luis   9/7/2021 11:15 AM  \n",
              "6  9/7/2021 11:16 AM  Barraza, Luis   9/7/2021 11:16 AM  "
            ],
            "text/html": [
              "\n",
              "  <div id=\"df-34e95cd8-a237-45b4-9f7a-a5da4848259e\">\n",
              "    <div class=\"colab-df-container\">\n",
              "      <div>\n",
              "<style scoped>\n",
              "    .dataframe tbody tr th:only-of-type {\n",
              "        vertical-align: middle;\n",
              "    }\n",
              "\n",
              "    .dataframe tbody tr th {\n",
              "        vertical-align: top;\n",
              "    }\n",
              "\n",
              "    .dataframe thead th {\n",
              "        text-align: right;\n",
              "    }\n",
              "</style>\n",
              "<table border=\"1\" class=\"dataframe\">\n",
              "  <thead>\n",
              "    <tr style=\"text-align: right;\">\n",
              "      <th></th>\n",
              "      <th>ID</th>\n",
              "      <th>Site</th>\n",
              "      <th>Dept.Type</th>\n",
              "      <th>Job Title</th>\n",
              "      <th>Video Link</th>\n",
              "      <th>Created By</th>\n",
              "      <th>Created</th>\n",
              "      <th>Modified By</th>\n",
              "      <th>Modified</th>\n",
              "    </tr>\n",
              "  </thead>\n",
              "  <tbody>\n",
              "    <tr>\n",
              "      <th>0</th>\n",
              "      <td>1</td>\n",
              "      <td>Carrollton</td>\n",
              "      <td>DAPEC</td>\n",
              "      <td>PACKER</td>\n",
              "      <td>https://web.microsoftstream.com/video/2c5c33f7...</td>\n",
              "      <td>Barraza, Luis</td>\n",
              "      <td>7/5/2021 10:47 PM</td>\n",
              "      <td>Barraza, Luis</td>\n",
              "      <td>7/19/2021 11:34 PM</td>\n",
              "    </tr>\n",
              "    <tr>\n",
              "      <th>1</th>\n",
              "      <td>7</td>\n",
              "      <td>ARCADIA</td>\n",
              "      <td>LIVE RECEIVING</td>\n",
              "      <td>HANGER - LIVE</td>\n",
              "      <td>https://web.microsoftstream.com/video/fcbf2847...</td>\n",
              "      <td>Barraza, Luis</td>\n",
              "      <td>9/6/2021 12:21 PM</td>\n",
              "      <td>Barraza, Luis</td>\n",
              "      <td>9/6/2021 12:21 PM</td>\n",
              "    </tr>\n",
              "    <tr>\n",
              "      <th>2</th>\n",
              "      <td>8</td>\n",
              "      <td>ARCADIA</td>\n",
              "      <td>CHILLER REHANG</td>\n",
              "      <td>REHANGER - CHILLER</td>\n",
              "      <td>https://web.microsoftstream.com/video/8e061752...</td>\n",
              "      <td>Barraza, Luis</td>\n",
              "      <td>9/6/2021 12:23 PM</td>\n",
              "      <td>Barraza, Luis</td>\n",
              "      <td>9/6/2021 12:23 PM</td>\n",
              "    </tr>\n",
              "    <tr>\n",
              "      <th>3</th>\n",
              "      <td>9</td>\n",
              "      <td>ARCADIA</td>\n",
              "      <td>LIVE RECEIVING</td>\n",
              "      <td>OPERATOR - DRAWER</td>\n",
              "      <td>https://web.microsoftstream.com/video/b5f0261a...</td>\n",
              "      <td>Barraza, Luis</td>\n",
              "      <td>9/6/2021 12:38 PM</td>\n",
              "      <td>Barraza, Luis</td>\n",
              "      <td>9/6/2021 5:21 PM</td>\n",
              "    </tr>\n",
              "    <tr>\n",
              "      <th>4</th>\n",
              "      <td>10</td>\n",
              "      <td>ARCADIA</td>\n",
              "      <td>CHILLER REHANG</td>\n",
              "      <td>OPERATOR - SAW</td>\n",
              "      <td>https://web.microsoftstream.com/video/f29bd804...</td>\n",
              "      <td>Barraza, Luis</td>\n",
              "      <td>9/6/2021 12:50 PM</td>\n",
              "      <td>Barraza, Luis</td>\n",
              "      <td>9/6/2021 12:50 PM</td>\n",
              "    </tr>\n",
              "    <tr>\n",
              "      <th>5</th>\n",
              "      <td>12</td>\n",
              "      <td>SUMTER</td>\n",
              "      <td>LIVE RECEIVING</td>\n",
              "      <td>HANGER - LIVE</td>\n",
              "      <td>https://web.microsoftstream.com/video/3ed02be0...</td>\n",
              "      <td>Barraza, Luis</td>\n",
              "      <td>9/7/2021 11:15 AM</td>\n",
              "      <td>Barraza, Luis</td>\n",
              "      <td>9/7/2021 11:15 AM</td>\n",
              "    </tr>\n",
              "    <tr>\n",
              "      <th>6</th>\n",
              "      <td>13</td>\n",
              "      <td>SUMTER</td>\n",
              "      <td>EVISCERATION</td>\n",
              "      <td>HELPER - INSPECTOR</td>\n",
              "      <td>https://web.microsoftstream.com/video/1e8ff58f...</td>\n",
              "      <td>Barraza, Luis</td>\n",
              "      <td>9/7/2021 11:16 AM</td>\n",
              "      <td>Barraza, Luis</td>\n",
              "      <td>9/7/2021 11:16 AM</td>\n",
              "    </tr>\n",
              "  </tbody>\n",
              "</table>\n",
              "</div>\n",
              "      <button class=\"colab-df-convert\" onclick=\"convertToInteractive('df-34e95cd8-a237-45b4-9f7a-a5da4848259e')\"\n",
              "              title=\"Convert this dataframe to an interactive table.\"\n",
              "              style=\"display:none;\">\n",
              "        \n",
              "  <svg xmlns=\"http://www.w3.org/2000/svg\" height=\"24px\"viewBox=\"0 0 24 24\"\n",
              "       width=\"24px\">\n",
              "    <path d=\"M0 0h24v24H0V0z\" fill=\"none\"/>\n",
              "    <path d=\"M18.56 5.44l.94 2.06.94-2.06 2.06-.94-2.06-.94-.94-2.06-.94 2.06-2.06.94zm-11 1L8.5 8.5l.94-2.06 2.06-.94-2.06-.94L8.5 2.5l-.94 2.06-2.06.94zm10 10l.94 2.06.94-2.06 2.06-.94-2.06-.94-.94-2.06-.94 2.06-2.06.94z\"/><path d=\"M17.41 7.96l-1.37-1.37c-.4-.4-.92-.59-1.43-.59-.52 0-1.04.2-1.43.59L10.3 9.45l-7.72 7.72c-.78.78-.78 2.05 0 2.83L4 21.41c.39.39.9.59 1.41.59.51 0 1.02-.2 1.41-.59l7.78-7.78 2.81-2.81c.8-.78.8-2.07 0-2.86zM5.41 20L4 18.59l7.72-7.72 1.47 1.35L5.41 20z\"/>\n",
              "  </svg>\n",
              "      </button>\n",
              "      \n",
              "  <style>\n",
              "    .colab-df-container {\n",
              "      display:flex;\n",
              "      flex-wrap:wrap;\n",
              "      gap: 12px;\n",
              "    }\n",
              "\n",
              "    .colab-df-convert {\n",
              "      background-color: #E8F0FE;\n",
              "      border: none;\n",
              "      border-radius: 50%;\n",
              "      cursor: pointer;\n",
              "      display: none;\n",
              "      fill: #1967D2;\n",
              "      height: 32px;\n",
              "      padding: 0 0 0 0;\n",
              "      width: 32px;\n",
              "    }\n",
              "\n",
              "    .colab-df-convert:hover {\n",
              "      background-color: #E2EBFA;\n",
              "      box-shadow: 0px 1px 2px rgba(60, 64, 67, 0.3), 0px 1px 3px 1px rgba(60, 64, 67, 0.15);\n",
              "      fill: #174EA6;\n",
              "    }\n",
              "\n",
              "    [theme=dark] .colab-df-convert {\n",
              "      background-color: #3B4455;\n",
              "      fill: #D2E3FC;\n",
              "    }\n",
              "\n",
              "    [theme=dark] .colab-df-convert:hover {\n",
              "      background-color: #434B5C;\n",
              "      box-shadow: 0px 1px 3px 1px rgba(0, 0, 0, 0.15);\n",
              "      filter: drop-shadow(0px 1px 2px rgba(0, 0, 0, 0.3));\n",
              "      fill: #FFFFFF;\n",
              "    }\n",
              "  </style>\n",
              "\n",
              "      <script>\n",
              "        const buttonEl =\n",
              "          document.querySelector('#df-34e95cd8-a237-45b4-9f7a-a5da4848259e button.colab-df-convert');\n",
              "        buttonEl.style.display =\n",
              "          google.colab.kernel.accessAllowed ? 'block' : 'none';\n",
              "\n",
              "        async function convertToInteractive(key) {\n",
              "          const element = document.querySelector('#df-34e95cd8-a237-45b4-9f7a-a5da4848259e');\n",
              "          const dataTable =\n",
              "            await google.colab.kernel.invokeFunction('convertToInteractive',\n",
              "                                                     [key], {});\n",
              "          if (!dataTable) return;\n",
              "\n",
              "          const docLinkHtml = 'Like what you see? Visit the ' +\n",
              "            '<a target=\"_blank\" href=https://colab.research.google.com/notebooks/data_table.ipynb>data table notebook</a>'\n",
              "            + ' to learn more about interactive tables.';\n",
              "          element.innerHTML = '';\n",
              "          dataTable['output_type'] = 'display_data';\n",
              "          await google.colab.output.renderOutput(dataTable, element);\n",
              "          const docLink = document.createElement('div');\n",
              "          docLink.innerHTML = docLinkHtml;\n",
              "          element.appendChild(docLink);\n",
              "        }\n",
              "      </script>\n",
              "    </div>\n",
              "  </div>\n",
              "  "
            ]
          },
          "metadata": {},
          "execution_count": 111
        }
      ]
    },
    {
      "cell_type": "code",
      "source": [
        "df1.to_csv('Items ID less 15') #to export the data frame to a csv"
      ],
      "metadata": {
        "id": "tTTu754ukg2V"
      },
      "execution_count": 112,
      "outputs": []
    },
    {
      "cell_type": "code",
      "source": [
        "#question1\n",
        "import pandas as pd\n",
        "df=pd.DataFrame({'a': [1,2,1], 'b':[1,1,1]})\n",
        "df['a']==1"
      ],
      "metadata": {
        "colab": {
          "base_uri": "https://localhost:8080/"
        },
        "id": "xWtusd3Hkxj1",
        "outputId": "da441156-4ec5-4d45-a05f-bc5909eb356a"
      },
      "execution_count": 115,
      "outputs": [
        {
          "output_type": "execute_result",
          "data": {
            "text/plain": [
              "0     True\n",
              "1    False\n",
              "2     True\n",
              "Name: a, dtype: bool"
            ]
          },
          "metadata": {},
          "execution_count": 115
        }
      ]
    },
    {
      "cell_type": "code",
      "source": [
        "#Module 4. Review questions\n",
        "with open('Standard Videos.csv','r') as file1:\n",
        "  FileContent = file1.readlines()\n",
        "  print(FileContent)"
      ],
      "metadata": {
        "id": "ObYFrZAqmHrC",
        "outputId": "3d2c6d73-c83e-4c36-ddb0-7ed9aff800b5",
        "colab": {
          "base_uri": "https://localhost:8080/"
        }
      },
      "execution_count": 116,
      "outputs": [
        {
          "output_type": "stream",
          "name": "stdout",
          "text": [
            "['ID,Site,Dept.Type,Job Title,Video Link,Created By,Created,Modified By,Modified\\n', '\"1\",\"Carrollton\",\"DAPEC\",\"PACKER\",\"https://web.microsoftstream.com/video/2c5c33f7-a480-4881-b1b8-ebdef3c64644\",\"Barraza, Luis\",\"7/5/2021 10:47 PM\",\"Barraza, Luis\",\"7/19/2021 11:34 PM\"\\n', '\"7\",\"ARCADIA\",\"LIVE RECEIVING\",\"HANGER - LIVE\",\"https://web.microsoftstream.com/video/fcbf2847-0261-462a-a59b-2d7b29203234?channelId=d07f8c1f-fc74-4327-98c3-e81e640507bc\",\"Barraza, Luis\",\"9/6/2021 12:21 PM\",\"Barraza, Luis\",\"9/6/2021 12:21 PM\"\\n', '\"8\",\"ARCADIA\",\"CHILLER REHANG\",\"REHANGER - CHILLER\",\"https://web.microsoftstream.com/video/8e061752-cf34-4a11-8f4a-68fd813ad631?channelId=d07f8c1f-fc74-4327-98c3-e81e640507bc\",\"Barraza, Luis\",\"9/6/2021 12:23 PM\",\"Barraza, Luis\",\"9/6/2021 12:23 PM\"\\n', '\"9\",\"ARCADIA\",\"LIVE RECEIVING\",\"OPERATOR - DRAWER\",\"https://web.microsoftstream.com/video/b5f0261a-eef7-4dda-bc52-a25e6c247606?channelId=d07f8c1f-fc74-4327-98c3-e81e640507bc\",\"Barraza, Luis\",\"9/6/2021 12:38 PM\",\"Barraza, Luis\",\"9/6/2021 5:21 PM\"\\n', '\"10\",\"ARCADIA\",\"CHILLER REHANG\",\"OPERATOR - SAW\",\"https://web.microsoftstream.com/video/f29bd804-18eb-4fc7-9f91-d7ac6045f3ae?list=studio\",\"Barraza, Luis\",\"9/6/2021 12:50 PM\",\"Barraza, Luis\",\"9/6/2021 12:50 PM\"\\n', '\"12\",\"SUMTER\",\"LIVE RECEIVING\",\"HANGER - LIVE\",\"https://web.microsoftstream.com/video/3ed02be0-b235-46b7-9c6d-dddb42572091?channelId=53c00208-0a28-4c87-9070-84b8c3776d52\",\"Barraza, Luis\",\"9/7/2021 11:15 AM\",\"Barraza, Luis\",\"9/7/2021 11:15 AM\"\\n', '\"13\",\"SUMTER\",\"EVISCERATION\",\"HELPER - INSPECTOR\",\"https://web.microsoftstream.com/video/1e8ff58f-603d-4658-8de7-e5dfd64f83c0?channelId=53c00208-0a28-4c87-9070-84b8c3776d52\",\"Barraza, Luis\",\"9/7/2021 11:16 AM\",\"Barraza, Luis\",\"9/7/2021 11:16 AM\"\\n', '\"15\",\"ENTERPRISE\",\"DELI WOG\",\"LOADER - LINE\",\"https://web.microsoftstream.com/video/770e041d-9062-4ecf-a9f9-47152b34bfaf?channelId=d07f8c1f-fc74-4327-98c3-e81e640507bc\",\"Barraza, Luis\",\"11/24/2021 9:06 AM\",\"Barraza, Luis\",\"11/24/2021 9:06 AM\"\\n', '\"16\",\"ENTERPRISE\",\"DELI WOG\",\"STACKER\",\"https://web.microsoftstream.com/video/a5683730-a80a-4d59-8b10-2343c3587463?channelId=d07f8c1f-fc74-4327-98c3-e81e640507bc\",\"Barraza, Luis\",\"11/24/2021 9:13 AM\",\"Barraza, Luis\",\"11/24/2021 9:13 AM\"\\n', '\"17\",\"ENTERPRISE\",\"DELI WOG\",\"TUCKER - WING\",\"https://web.microsoftstream.com/video/b98bba2e-5d8b-4ef0-902b-ee19c6a47173?channelId=d07f8c1f-fc74-4327-98c3-e81e640507bc\",\"Barraza, Luis\",\"11/29/2021 11:50 AM\",\"Barraza, Luis\",\"11/29/2021 11:50 AM\"\\n', '\"18\",\"ENTERPRISE\",\"DELI WOG\",\"SIZER OPERATOR\",\"https://web.microsoftstream.com/video/303fec5b-2398-4af1-adda-d90769ed7c0b?channelId=d07f8c1f-fc74-4327-98c3-e81e640507bc\",\"Barraza, Luis\",\"11/29/2021 11:51 AM\",\"Barraza, Luis\",\"11/29/2021 11:51 AM\"\\n', '\"20\",\"MARSHVILLE\",\"THIGH DEBONE\",\"TRIMMER - THIGH\",\"https://web.microsoftstream.com/video/5cee8a65-fb2f-4c14-8385-c74c54db729a?list=studio\",\"Kuller, Stephen\",\"2/3/2022 12:03 PM\",\"Kuller, Stephen\",\"2/3/2022 12:03 PM\"\\n', '\"21\",\"BROADWAY\",\"MARINATION\",\"OPERATOR-CVP\",\"https://web.microsoftstream.com/video/5e3f6e78-979b-4826-9604-3126386b7a1a?list=studio\",\"Kuller, Stephen\",\"2/4/2022 6:58 AM\",\"Kuller, Stephen\",\"2/4/2022 6:58 AM\"\\n', '\"22\",\"NATCHITOCHES\",\"DELI WOG\",\"TRUSSER\",\"https://web.microsoftstream.com/video/a0a9c7f7-9de9-4d8c-ba2a-d8e05bc23fba?channelId=d07f8c1f-fc74-4327-98c3-e81e640507bc\",\"Diaz Flores Granados, Jaime\",\"2/4/2022 10:55 AM\",\"Diaz Flores Granados, Jaime\",\"2/4/2022 10:55 AM\"\\n', '\"23\",\"NATCHITOCHES\",\"DELI WOG\",\"LOADER - CONE\",\"https://web.microsoftstream.com/video/7b861b73-57bb-4217-8f0d-8cad7c5bc09c?list=studio\",\"Diaz Flores Granados, Jaime\",\"2/4/2022 11:39 AM\",\"Diaz Flores Granados, Jaime\",\"2/4/2022 11:39 AM\"\\n', '\"24\",\"NATCHITOCHES\",\"DELI WOG\",\"OPERATOR - CVP\",\"https://web.microsoftstream.com/video/8de15582-449c-435d-a5ff-a844bcb243af?list=studio\",\"Diaz Flores Granados, Jaime\",\"2/4/2022 11:51 AM\",\"Diaz Flores Granados, Jaime\",\"2/4/2022 11:51 AM\"\\n', '\"26\",\"ARCADIA\",\"DAPEC\",\"PACKER\",\"https://web.microsoftstream.com/video/4df68bad-bcbc-410d-9592-1e4516086da5?list=studio\",\"Barraza, Luis\",\"2/21/2022 12:52 PM\",\"Barraza, Luis\",\"2/21/2022 12:52 PM\"\\n', '\"27\",\"MOOREFIELD\",\"DAPEC\",\"PACKER\",\"https://web.microsoftstream.com/video/0f16b23c-e269-49e6-a73f-8e41ecbaba25?list=studio\",\"Diaz Flores Granados, Jaime\",\"2/21/2022 12:54 PM\",\"Diaz Flores Granados, Jaime\",\"2/21/2022 12:54 PM\"\\n', '\"28\",\"NATCHITOCHES\",\"DAPEC\",\"PACKER\",\"https://web.microsoftstream.com/video/263edc8f-8d02-4d93-ba33-a3aac2e50a50?list=studio\",\"Diaz Flores Granados, Jaime\",\"2/21/2022 1:18 PM\",\"Diaz Flores Granados, Jaime\",\"2/21/2022 1:18 PM\"\\n', '\"29\",\"ARCADIA\",\"LIVE RECEIVING\",\"OPERATOR - FORKLIFT\",\"https://web.microsoftstream.com/video/6ef64e79-75f6-4ade-ab4b-76388b5b4df3?list=studio\",\"Diaz Flores Granados, Jaime\",\"2/24/2022 9:41 AM\",\"Diaz Flores Granados, Jaime\",\"2/24/2022 9:41 AM\"\\n', '\"30\",\"ARCADIA\",\"RUB BIRDS\",\"OPERATOR - BAND SEALER\",\"https://web.microsoftstream.com/video/f1225497-21a0-4eea-b48d-28311f94a286?list=studio\",\"Diaz Flores Granados, Jaime\",\"2/24/2022 10:12 AM\",\"Diaz Flores Granados, Jaime\",\"2/24/2022 10:12 AM\"\\n', '\"31\",\"ARCADIA\",\"RUB BIRDS\",\"OPERATOR - BAGGER (INNER)\",\"https://web.microsoftstream.com/video/b1225cb1-dfed-42c8-ad60-091e2e2db839?list=studio\",\"Diaz Flores Granados, Jaime\",\"2/24/2022 10:15 AM\",\"Diaz Flores Granados, Jaime\",\"2/24/2022 10:15 AM\"\\n', '\"32\",\"ARCADIA\",\"RUB BIRDS\",\"OPERATOR - BAGGER (OUTER)\",\"https://web.microsoftstream.com/video/4899870a-af78-4600-aee2-17ccbb025066?list=studio\",\"Diaz Flores Granados, Jaime\",\"2/24/2022 10:21 AM\",\"Diaz Flores Granados, Jaime\",\"2/24/2022 10:21 AM\"\\n', '\"33\",\"ARCADIA\",\"RUB BIRDS\",\"OPERATOR - TIPER TIE\",\"https://web.microsoftstream.com/video/629eb3c8-d2b9-463a-8706-12b6eb6287bc?list=studio\",\"Diaz Flores Granados, Jaime\",\"2/24/2022 10:33 AM\",\"Diaz Flores Granados, Jaime\",\"2/24/2022 10:33 AM\"\\n', '\"34\",\"ARCADIA\",\"CORR VAC\",\"OPERATOR - CVP\",\"https://web.microsoftstream.com/video/6fa6a314-12f1-4e33-b69c-af221c3005e0?list=studio\",\"Diaz Flores Granados, Jaime\",\"2/24/2022 10:47 AM\",\"Diaz Flores Granados, Jaime\",\"2/24/2022 10:47 AM\"\\n', '\"35\",\"ARCADIA\",\"DAPEC\",\"OPERATOR - SCALE\",\"https://web.microsoftstream.com/video/6fa6a314-12f1-4e33-b69c-af221c3005e0?list=studio\",\"Diaz Flores Granados, Jaime\",\"2/24/2022 10:48 AM\",\"Diaz Flores Granados, Jaime\",\"2/24/2022 10:48 AM\"\\n', '\"36\",\"ENTERPRISE\",\"DAPEC\",\"PACKER\",\"https://web.microsoftstream.com/video/c3714123-39b4-4c1e-bce3-a8ba7c6b5a05?list=studio\",\"Diaz Flores Granados, Jaime\",\"3/2/2022 3:17 PM\",\"Diaz Flores Granados, Jaime\",\"3/2/2022 3:17 PM\"\\n', '\"37\",\"ARCADIA\",\"DAPEC\",\"REHANG - DAPEC\",\"https://web.microsoftstream.com/video/b9915283-f9cf-463e-bbff-70d651af7e81?list=studio\",\"Diaz Flores Granados, Jaime\",\"3/7/2022 3:34 PM\",\"Diaz Flores Granados, Jaime\",\"3/7/2022 3:34 PM\"\\n', '\"39\",\"ELLIJAY\",\"DAPEC\",\"PACKER\",\"https://web.microsoftstream.com/video/7f273aaf-35d0-4b88-8c16-2894e61e4633\",\"Cruz Gonzalez, Isaac\",\"3/18/2022 12:44 PM\",\"Cruz Gonzalez, Isaac\",\"3/18/2022 12:44 PM\"\\n', '\"40\",\"LIVE OAK\",\"DEBONE PACKOUT\",\"PACKER - TENDER\",\"https://web.microsoftstream.com/video/aa2f14f9-54eb-4abc-8d18-376a61b0dce7\\n', '\\n', 'https://web.microsoftstream.com/video/c52dbd66-7cc1-47f5-b501-ad0d132f37a8\",\"Santiago Rosas, Ramiro\",\"3/21/2022 11:26 AM\",\"Santiago Rosas, Ramiro\",\"3/21/2022 11:51 AM\"\\n', '\"41\",\"LIVE OAK\",\"DEBONE PACKOUT\",\"PACKER - BREAST\",\"https://web.microsoftstream.com/video/bc05eb10-6428-4c28-acb6-b4f1108eed8c\",\"Santiago Rosas, Ramiro\",\"3/21/2022 11:58 AM\",\"Santiago Rosas, Ramiro\",\"3/21/2022 11:58 AM\"\\n', '\"42\",\"LIVE OAK\",\"DEBONE PACKOUT\",\"LOADER - WINGS\",\"https://web.microsoftstream.com/video/89a90793-2726-4f9c-b07a-72dc23b6cd96\",\"Santiago Rosas, Ramiro\",\"3/21/2022 12:55 PM\",\"Santiago Rosas, Ramiro\",\"3/21/2022 12:55 PM\"\\n', '\"43\",\"LIVE OAK\",\"DEBONE PACKOUT\",\"PACKER\",\"https://web.microsoftstream.com/video/2da61c04-ba2a-43c4-96db-02f0c3167d32\",\"Santiago Rosas, Ramiro\",\"3/21/2022 12:56 PM\",\"Santiago Rosas, Ramiro\",\"3/21/2022 12:56 PM\"\\n', '\"44\",\"LIVE OAK\",\"DEBONE PACKOUT\",\"PACKER - WINGS\",\"https://web.microsoftstream.com/video/a339cff4-1cc1-4b50-818e-7ff3a2397f2b\",\"Santiago Rosas, Ramiro\",\"3/21/2022 12:57 PM\",\"Santiago Rosas, Ramiro\",\"3/21/2022 12:57 PM\"\\n', '\"45\",\"LIVE OAK\",\"DEBONE\",\"TRIMMER - BREAST\",\"https://web.microsoftstream.com/video/3f2ef0e2-b8ee-43dc-8f9b-f2e4f7c078b4\",\"Santiago Rosas, Ramiro\",\"4/29/2022 7:51 AM\",\"Santiago Rosas, Ramiro\",\"4/29/2022 7:55 AM\"\\n', '\"46\",\"LIVE OAK\",\"DEBONE\",\"LOADER\",\"https://web.microsoftstream.com/video/3ed83328-4254-43a2-8129-a34e0d0a50e3\",\"Santiago Rosas, Ramiro\",\"4/29/2022 8:26 AM\",\"Santiago Rosas, Ramiro\",\"4/29/2022 8:26 AM\"\\n']\n"
          ]
        }
      ]
    }
  ]
}