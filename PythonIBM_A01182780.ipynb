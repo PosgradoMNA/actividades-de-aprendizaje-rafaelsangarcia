{
  "nbformat": 4,
  "nbformat_minor": 0,
  "metadata": {
    "colab": {
      "provenance": [],
      "authorship_tag": "ABX9TyP/kIswbBIu1QkkKArckeiU",
      "include_colab_link": true
    },
    "kernelspec": {
      "name": "python3",
      "display_name": "Python 3"
    },
    "language_info": {
      "name": "python"
    }
  },
  "cells": [
    {
      "cell_type": "markdown",
      "metadata": {
        "id": "view-in-github",
        "colab_type": "text"
      },
      "source": [
        "<a href=\"https://colab.research.google.com/github/PosgradoMNA/actividades-de-aprendizaje-rafaelsangarcia/blob/main/PythonIBM_A01182780.ipynb\" target=\"_parent\"><img src=\"https://colab.research.google.com/assets/colab-badge.svg\" alt=\"Open In Colab\"/></a>"
      ]
    },
    {
      "cell_type": "markdown",
      "source": [
        "# PYTHON FOR DATA SCIENCE (IBM)\n",
        "STUDENT: A01182780 RAFAEL SANCHEZ GARCIA\n",
        "\n"
      ],
      "metadata": {
        "id": "9KOTLA7VNvGk"
      }
    },
    {
      "cell_type": "markdown",
      "source": [
        "#Module 1"
      ],
      "metadata": {
        "id": "n2CgmG2CP8hm"
      }
    },
    {
      "cell_type": "code",
      "source": [
        "print(\"Hello Python 101\") #print something"
      ],
      "metadata": {
        "colab": {
          "base_uri": "https://localhost:8080/"
        },
        "id": "KO7hVfrBN_9o",
        "outputId": "f166fd4c-0bbd-4a27-ec7b-36e73a240775"
      },
      "execution_count": 2,
      "outputs": [
        {
          "output_type": "stream",
          "name": "stdout",
          "text": [
            "Hello Python 101\n"
          ]
        }
      ]
    },
    {
      "cell_type": "code",
      "source": [
        "#Question 1\n",
        "print(\"Hello\\nWorld!\") # with \\n jump to a new line"
      ],
      "metadata": {
        "colab": {
          "base_uri": "https://localhost:8080/"
        },
        "id": "JKJHHVddPlic",
        "outputId": "ccba8d59-2688-4951-c721-ebba34f54d88"
      },
      "execution_count": 3,
      "outputs": [
        {
          "output_type": "stream",
          "name": "stdout",
          "text": [
            "Hello\n",
            "World!\n"
          ]
        }
      ]
    },
    {
      "cell_type": "code",
      "source": [
        "#Question 2\n",
        "# print('Hello World!')"
      ],
      "metadata": {
        "id": "n-gxuowgP0x0"
      },
      "execution_count": 5,
      "outputs": []
    },
    {
      "cell_type": "markdown",
      "source": [
        "#Module 1 - Types"
      ],
      "metadata": {
        "id": "LMoskAwhQqps"
      }
    },
    {
      "cell_type": "code",
      "source": [
        "#Question 2\n",
        "bool(1)"
      ],
      "metadata": {
        "colab": {
          "base_uri": "https://localhost:8080/"
        },
        "id": "QCdCqGRvQt8f",
        "outputId": "b088e3a2-d1ea-4485-d015-b88515a355af"
      },
      "execution_count": 4,
      "outputs": [
        {
          "output_type": "execute_result",
          "data": {
            "text/plain": [
              "True"
            ]
          },
          "metadata": {},
          "execution_count": 4
        }
      ]
    },
    {
      "cell_type": "markdown",
      "source": [
        "#Moduel 1 - Expressions and Variables"
      ],
      "metadata": {
        "id": "eLnIIXpSROho"
      }
    },
    {
      "cell_type": "markdown",
      "source": [
        " with \"//\" the division will be by integer, and with one \"/\" is float"
      ],
      "metadata": {
        "id": "WNTl9MlqRlIB"
      }
    },
    {
      "cell_type": "code",
      "source": [
        "# I already know how to use variables and expressions"
      ],
      "metadata": {
        "id": "sWzLC-TzRv_l"
      },
      "execution_count": 6,
      "outputs": []
    },
    {
      "cell_type": "markdown",
      "source": [
        "#Module 1 - String Operators"
      ],
      "metadata": {
        "id": "nTBhAHt5SlsP"
      }
    }
  ]
}