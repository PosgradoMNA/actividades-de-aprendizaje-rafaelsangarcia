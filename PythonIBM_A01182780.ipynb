{
  "nbformat": 4,
  "nbformat_minor": 0,
  "metadata": {
    "colab": {
      "provenance": [],
      "include_colab_link": true
    },
    "kernelspec": {
      "name": "python3",
      "display_name": "Python 3"
    },
    "language_info": {
      "name": "python"
    }
  },
  "cells": [
    {
      "cell_type": "markdown",
      "metadata": {
        "id": "view-in-github",
        "colab_type": "text"
      },
      "source": [
        "<a href=\"https://colab.research.google.com/github/PosgradoMNA/actividades-de-aprendizaje-rafaelsangarcia/blob/main/PythonIBM_A01182780.ipynb\" target=\"_parent\"><img src=\"https://colab.research.google.com/assets/colab-badge.svg\" alt=\"Open In Colab\"/></a>"
      ]
    },
    {
      "cell_type": "markdown",
      "source": [
        "# PYTHON FOR DATA SCIENCE (IBM)\n",
        "STUDENT: A01182780 RAFAEL SANCHEZ GARCIA\n",
        "\n"
      ],
      "metadata": {
        "id": "9KOTLA7VNvGk"
      }
    },
    {
      "cell_type": "markdown",
      "source": [
        "#Module 1"
      ],
      "metadata": {
        "id": "n2CgmG2CP8hm"
      }
    },
    {
      "cell_type": "code",
      "source": [
        "print(\"Hello Python 101\") #print something"
      ],
      "metadata": {
        "colab": {
          "base_uri": "https://localhost:8080/"
        },
        "id": "KO7hVfrBN_9o",
        "outputId": "9cede3d5-6a7c-4b24-da08-f9a5e90ecd6b"
      },
      "execution_count": null,
      "outputs": [
        {
          "output_type": "stream",
          "name": "stdout",
          "text": [
            "Hello Python 101\n"
          ]
        }
      ]
    },
    {
      "cell_type": "code",
      "source": [
        "#Question 1\n",
        "print(\"Hello\\nWorld!\") # with \\n jump to a new line"
      ],
      "metadata": {
        "colab": {
          "base_uri": "https://localhost:8080/"
        },
        "id": "JKJHHVddPlic",
        "outputId": "f1fd11d5-e224-42af-d442-4d8d07b801f7"
      },
      "execution_count": null,
      "outputs": [
        {
          "output_type": "stream",
          "name": "stdout",
          "text": [
            "Hello\n",
            "World!\n"
          ]
        }
      ]
    },
    {
      "cell_type": "code",
      "source": [
        "#Question 2\n",
        "# print('Hello World!')"
      ],
      "metadata": {
        "id": "n-gxuowgP0x0"
      },
      "execution_count": null,
      "outputs": []
    },
    {
      "cell_type": "markdown",
      "source": [
        "#Module 1 - Types"
      ],
      "metadata": {
        "id": "LMoskAwhQqps"
      }
    },
    {
      "cell_type": "code",
      "source": [
        "#Question 2\n",
        "bool(1)"
      ],
      "metadata": {
        "colab": {
          "base_uri": "https://localhost:8080/"
        },
        "id": "QCdCqGRvQt8f",
        "outputId": "31f81fd0-9130-455c-fcdf-652f13675a19"
      },
      "execution_count": null,
      "outputs": [
        {
          "output_type": "execute_result",
          "data": {
            "text/plain": [
              "True"
            ]
          },
          "metadata": {},
          "execution_count": 4
        }
      ]
    },
    {
      "cell_type": "markdown",
      "source": [
        "#Moduel 1 - Expressions and Variables"
      ],
      "metadata": {
        "id": "eLnIIXpSROho"
      }
    },
    {
      "cell_type": "markdown",
      "source": [
        " with \"//\" the division will be by integer, and with one \"/\" is float"
      ],
      "metadata": {
        "id": "WNTl9MlqRlIB"
      }
    },
    {
      "cell_type": "code",
      "source": [
        "# I already know how to use variables and expressions"
      ],
      "metadata": {
        "id": "sWzLC-TzRv_l"
      },
      "execution_count": null,
      "outputs": []
    },
    {
      "cell_type": "markdown",
      "source": [
        "#Module 1 - String Operators\n",
        "\n",
        "You can use single or double quotes. string can be access by index, it is works as a array too\n"
      ],
      "metadata": {
        "id": "nTBhAHt5SlsP"
      }
    },
    {
      "cell_type": "code",
      "source": [
        "Name= \"Michael Jackson\"\n",
        "print(Name)\n",
        "print(\"Name[0] = \" ,Name[0])\n",
        "print(\"Name[0] = \" ,Name[6])\n",
        "print(\"Name[0] = \" ,Name[13])"
      ],
      "metadata": {
        "colab": {
          "base_uri": "https://localhost:8080/"
        },
        "id": "FydSeDftTO7O",
        "outputId": "5146aaad-d931-466a-b8da-004770fd3210"
      },
      "execution_count": null,
      "outputs": [
        {
          "output_type": "stream",
          "name": "stdout",
          "text": [
            "Michael Jackson\n",
            "Name[0] =  M\n",
            "Name[0] =  l\n",
            "Name[0] =  o\n"
          ]
        }
      ]
    },
    {
      "cell_type": "code",
      "source": [
        "#index could be also negative\n",
        "print(\"Name[0] = \" ,Name[-15])\n",
        "print(\"Name[0] = \" ,Name[-7])\n",
        "print(\"Name[0] = \" ,Name[-1])\n"
      ],
      "metadata": {
        "colab": {
          "base_uri": "https://localhost:8080/"
        },
        "id": "2JgSHQWBTr7B",
        "outputId": "12db2145-5497-4d8e-933b-8acc738fcd0b"
      },
      "execution_count": null,
      "outputs": [
        {
          "output_type": "stream",
          "name": "stdout",
          "text": [
            "Name[0] =  M\n",
            "Name[0] =  J\n",
            "Name[0] =  n\n"
          ]
        }
      ]
    },
    {
      "cell_type": "code",
      "source": [
        "#slicing\n",
        "Name[0:4]"
      ],
      "metadata": {
        "colab": {
          "base_uri": "https://localhost:8080/",
          "height": 36
        },
        "id": "9oXAC4mdT7Gj",
        "outputId": "8462d8d5-a2a7-4b73-9d6c-f927faa151f4"
      },
      "execution_count": null,
      "outputs": [
        {
          "output_type": "execute_result",
          "data": {
            "text/plain": [
              "'Mich'"
            ],
            "application/vnd.google.colaboratory.intrinsic+json": {
              "type": "string"
            }
          },
          "metadata": {},
          "execution_count": 8
        }
      ]
    },
    {
      "cell_type": "code",
      "source": [
        "#stride\n",
        "Name[::2] #it will select every second variable"
      ],
      "metadata": {
        "colab": {
          "base_uri": "https://localhost:8080/",
          "height": 36
        },
        "id": "2hmQO6T7UGY7",
        "outputId": "b824354a-39d9-412a-e0f2-a87505639043"
      },
      "execution_count": null,
      "outputs": [
        {
          "output_type": "execute_result",
          "data": {
            "text/plain": [
              "'McalJcsn'"
            ],
            "application/vnd.google.colaboratory.intrinsic+json": {
              "type": "string"
            }
          },
          "metadata": {},
          "execution_count": 9
        }
      ]
    },
    {
      "cell_type": "code",
      "source": [
        "#stride with slicing\n",
        "Name[0:5:2] # 0 index is start, 5 index is finish, 2 steps"
      ],
      "metadata": {
        "colab": {
          "base_uri": "https://localhost:8080/",
          "height": 36
        },
        "id": "6_js4dGCUUNP",
        "outputId": "d92a2adb-f87c-4a40-8362-e30b2c6c72bf"
      },
      "execution_count": null,
      "outputs": [
        {
          "output_type": "execute_result",
          "data": {
            "text/plain": [
              "'Mca'"
            ],
            "application/vnd.google.colaboratory.intrinsic+json": {
              "type": "string"
            }
          },
          "metadata": {},
          "execution_count": 10
        }
      ]
    },
    {
      "cell_type": "code",
      "source": [
        "#Question 1\n",
        "Numbers = \"0123456\"\n",
        "Numbers[::2] #get the even elements"
      ],
      "metadata": {
        "colab": {
          "base_uri": "https://localhost:8080/",
          "height": 36
        },
        "id": "t_jKxMrsVQZI",
        "outputId": "f78251f7-d4a1-478e-f58f-0bc7f1d9f779"
      },
      "execution_count": null,
      "outputs": [
        {
          "output_type": "execute_result",
          "data": {
            "text/plain": [
              "'0246'"
            ],
            "application/vnd.google.colaboratory.intrinsic+json": {
              "type": "string"
            }
          },
          "metadata": {},
          "execution_count": 11
        }
      ]
    },
    {
      "cell_type": "code",
      "source": [
        "#Question 2\n",
        "\"0123456\".find('1') #it is 1 because the '1' is on index 1"
      ],
      "metadata": {
        "colab": {
          "base_uri": "https://localhost:8080/"
        },
        "id": "IaqHW9LCVvy5",
        "outputId": "34843e27-3b76-4fab-88e0-0966251fbd04"
      },
      "execution_count": null,
      "outputs": [
        {
          "output_type": "execute_result",
          "data": {
            "text/plain": [
              "1"
            ]
          },
          "metadata": {},
          "execution_count": 12
        }
      ]
    },
    {
      "cell_type": "markdown",
      "source": [
        "#Module 1 - Review Questions"
      ],
      "metadata": {
        "id": "aiJU-CGhWU_-"
      }
    },
    {
      "cell_type": "code",
      "source": [
        "3 + 2 * 2"
      ],
      "metadata": {
        "colab": {
          "base_uri": "https://localhost:8080/"
        },
        "id": "NCWFjDp6WZRl",
        "outputId": "18b9d376-e151-488d-f4bf-195eb5dec558"
      },
      "execution_count": null,
      "outputs": [
        {
          "output_type": "execute_result",
          "data": {
            "text/plain": [
              "7"
            ]
          },
          "metadata": {},
          "execution_count": 13
        }
      ]
    },
    {
      "cell_type": "code",
      "source": [
        "name = 'Lizz'\n",
        "print(name[0:2])"
      ],
      "metadata": {
        "colab": {
          "base_uri": "https://localhost:8080/"
        },
        "id": "vJAwZ8YKWief",
        "outputId": "ba8b4f50-809b-4b75-fc44-9ba2c474586d"
      },
      "execution_count": null,
      "outputs": [
        {
          "output_type": "stream",
          "name": "stdout",
          "text": [
            "Li\n"
          ]
        }
      ]
    },
    {
      "cell_type": "code",
      "source": [
        "var = '01234567'\n",
        "print(var[::2])"
      ],
      "metadata": {
        "colab": {
          "base_uri": "https://localhost:8080/"
        },
        "id": "XtM7f2FjWrqS",
        "outputId": "a6b78775-2c34-4722-babf-b3652ad02307"
      },
      "execution_count": null,
      "outputs": [
        {
          "output_type": "stream",
          "name": "stdout",
          "text": [
            "0246\n"
          ]
        }
      ]
    },
    {
      "cell_type": "code",
      "source": [
        "'1'+'2'\n"
      ],
      "metadata": {
        "colab": {
          "base_uri": "https://localhost:8080/"
        },
        "id": "Ptad6_W7W253",
        "outputId": "29214b15-bf67-4451-c263-93359342ef8f"
      },
      "execution_count": null,
      "outputs": [
        {
          "output_type": "execute_result",
          "data": {
            "text/plain": [
              "'12'"
            ],
            "application/vnd.google.colaboratory.intrinsic+json": {
              "type": "string"
            }
          },
          "metadata": {},
          "execution_count": 16
        }
      ]
    },
    {
      "cell_type": "code",
      "source": [
        "myvar = 'hello'\n",
        "myvar.upper()"
      ],
      "metadata": {
        "colab": {
          "base_uri": "https://localhost:8080/"
        },
        "id": "MAgJuokFW8wG",
        "outputId": "6a0d1a54-0198-471c-af86-a38b15e86aef"
      },
      "execution_count": null,
      "outputs": [
        {
          "output_type": "execute_result",
          "data": {
            "text/plain": [
              "'HELLO'"
            ],
            "application/vnd.google.colaboratory.intrinsic+json": {
              "type": "string"
            }
          },
          "metadata": {},
          "execution_count": 17
        }
      ]
    },
    {
      "cell_type": "markdown",
      "source": [
        "#Module 2 - List and Tuples\n",
        "\n",
        "**Tuples** are an ordered sequence, this are written as comma-separated elements within parentesis.\n",
        "\n",
        "Tuple can hold any data type, however the type of tuple is tuple. It can be accessed via index\n",
        "\n",
        "**Tuple are Immutable, that is means it can not be changed**"
      ],
      "metadata": {
        "id": "jE3LMfoLXZfz"
      }
    },
    {
      "cell_type": "code",
      "source": [],
      "metadata": {
        "id": "-QDG8Cy1ZEB9"
      },
      "execution_count": null,
      "outputs": []
    },
    {
      "cell_type": "code",
      "source": [
        "Ratings=(10,9,6,5,10,8,9,6,2)\n",
        "Tuple1 = (\"disco\",10,1.2) #strig, int, float\n",
        "print(Tuple1[0]) # accessed by index\n",
        "Tuple2 = Tuple1 + (\"hard rock\",10)"
      ],
      "metadata": {
        "colab": {
          "base_uri": "https://localhost:8080/"
        },
        "id": "TMVTupd_XyAZ",
        "outputId": "ca32608a-2381-4e5d-e056-88b9fd165125"
      },
      "execution_count": null,
      "outputs": [
        {
          "output_type": "stream",
          "name": "stdout",
          "text": [
            "disco\n"
          ]
        }
      ]
    },
    {
      "cell_type": "code",
      "source": [
        "#Slicing tuple\n",
        "Tuple2[0:3]"
      ],
      "metadata": {
        "colab": {
          "base_uri": "https://localhost:8080/"
        },
        "id": "sy4Peap8Xdor",
        "outputId": "b730cb3c-a46d-4c03-e6fe-6e993b1400fb"
      },
      "execution_count": null,
      "outputs": [
        {
          "output_type": "execute_result",
          "data": {
            "text/plain": [
              "('disco', 10, 1.2)"
            ]
          },
          "metadata": {},
          "execution_count": 19
        }
      ]
    },
    {
      "cell_type": "code",
      "source": [
        "#Nesting, is having tuple inside tuple\n",
        "NT = (1,2,(\"pop\",\"rock\"),(3,4),(\"disco\",(1,2)))\n",
        "print(NT[2])\n",
        "print(NT[2][1])\n",
        "print(NT[2][1][0]) #it is like a tree\n"
      ],
      "metadata": {
        "colab": {
          "base_uri": "https://localhost:8080/"
        },
        "id": "Gi7caIlLZe9Y",
        "outputId": "f805fb13-98aa-455f-97a9-86533f8feea4"
      },
      "execution_count": null,
      "outputs": [
        {
          "output_type": "stream",
          "name": "stdout",
          "text": [
            "('pop', 'rock')\n",
            "rock\n",
            "r\n"
          ]
        }
      ]
    },
    {
      "cell_type": "markdown",
      "source": [
        "**List** It is represent with [ ] square brackets, the difference between tupple is ().\n",
        "The list is mutable, that is means we can change values.\n",
        "It can include different types of values. Can be accessed by index, similar as tuples\n",
        "\n"
      ],
      "metadata": {
        "id": "_EaFAALTacTa"
      }
    },
    {
      "cell_type": "code",
      "source": [
        "L = ['Michael Jackson', 10.1, 1982]\n",
        "print(L)\n",
        "L.extend([\"pop\",10]) #with extend we concatenate at the end the new list\n",
        "print(L)"
      ],
      "metadata": {
        "colab": {
          "base_uri": "https://localhost:8080/"
        },
        "id": "WeCRA2tMbaQt",
        "outputId": "54b25b72-2867-489b-c01a-28c67757793f"
      },
      "execution_count": null,
      "outputs": [
        {
          "output_type": "stream",
          "name": "stdout",
          "text": [
            "['Michael Jackson', 10.1, 1982]\n",
            "['Michael Jackson', 10.1, 1982, 'pop', 10]\n"
          ]
        }
      ]
    },
    {
      "cell_type": "code",
      "source": [
        "L = ['Michael Jackson', 10.1, 1982]\n",
        "print(L)\n",
        "L.append([\"pop\",10]) #with add the new list as an element\n",
        "print(L)"
      ],
      "metadata": {
        "colab": {
          "base_uri": "https://localhost:8080/"
        },
        "id": "SPdsLeFQb2Nc",
        "outputId": "050c4ff2-555b-4b71-a5ed-10c19f0f5945"
      },
      "execution_count": null,
      "outputs": [
        {
          "output_type": "stream",
          "name": "stdout",
          "text": [
            "['Michael Jackson', 10.1, 1982]\n",
            "['Michael Jackson', 10.1, 1982, ['pop', 10]]\n"
          ]
        }
      ]
    },
    {
      "cell_type": "code",
      "source": [
        "A=['disco',10,1.2]\n",
        "print(A)\n",
        "A[0] = \"hard rock\"\n",
        "print(A)"
      ],
      "metadata": {
        "colab": {
          "base_uri": "https://localhost:8080/"
        },
        "id": "lC_T8lgYcJp6",
        "outputId": "14401ed7-5002-49ce-ee84-eb1fad7182a6"
      },
      "execution_count": null,
      "outputs": [
        {
          "output_type": "stream",
          "name": "stdout",
          "text": [
            "['disco', 10, 1.2]\n",
            "['hard rock', 10, 1.2]\n"
          ]
        }
      ]
    },
    {
      "cell_type": "code",
      "source": [
        "#Question 1\n",
        "A=(0,1,2,3)\n",
        "#A[3] and A[-1]"
      ],
      "metadata": {
        "id": "RuWC0PrzcsTO"
      },
      "execution_count": null,
      "outputs": []
    },
    {
      "cell_type": "code",
      "source": [
        "#Question 2\n",
        "B=[\"a\",\"b\",\"c\"]\n",
        "B[1:]"
      ],
      "metadata": {
        "colab": {
          "base_uri": "https://localhost:8080/"
        },
        "id": "xoCDIa1xdKRE",
        "outputId": "6fde721a-9612-43a2-a601-823b123be384"
      },
      "execution_count": null,
      "outputs": [
        {
          "output_type": "execute_result",
          "data": {
            "text/plain": [
              "['b', 'c']"
            ]
          },
          "metadata": {},
          "execution_count": 25
        }
      ]
    },
    {
      "cell_type": "markdown",
      "source": [
        "#Module 2 - Sets\n",
        "The difference with list and tuples is that sets are unordered. <br>\n",
        "**Sets only have unique elements** <br>\n",
        "To define with need {}"
      ],
      "metadata": {
        "id": "Yew2VTgndf91"
      }
    },
    {
      "cell_type": "code",
      "source": [
        "#creating a set\n",
        "album_list = ['Michael Jackson','Thriller','Thriller',1982]\n",
        "print(album_list)\n",
        "album_set = set(album_list)\n",
        "print(album_set)\n",
        "#We can see that set just have unique values, we can use this as distinct"
      ],
      "metadata": {
        "colab": {
          "base_uri": "https://localhost:8080/"
        },
        "id": "001CbklReC8g",
        "outputId": "d4936dd7-61c6-40fd-c972-c161333f1529"
      },
      "execution_count": null,
      "outputs": [
        {
          "output_type": "stream",
          "name": "stdout",
          "text": [
            "['Michael Jackson', 'Thriller', 'Thriller', 1982]\n",
            "{'Michael Jackson', 'Thriller', 1982}\n"
          ]
        }
      ]
    },
    {
      "cell_type": "code",
      "source": [
        "A={'Thriller','Black in Black', \"AC/DC\"}\n",
        "print(A)\n",
        "A.add(\"NSYNC\")\n",
        "print(A)\n",
        "A.add(\"NSYNC\") #it doesnt add becuase it is already in the set\n",
        "print(A)\n",
        "A.remove(\"NSYNC\")\n",
        "print(A)\n"
      ],
      "metadata": {
        "colab": {
          "base_uri": "https://localhost:8080/"
        },
        "id": "g1WUBr6-eTxt",
        "outputId": "d8d98342-94b2-4dbc-e0a5-b47ad4e56ca3"
      },
      "execution_count": null,
      "outputs": [
        {
          "output_type": "stream",
          "name": "stdout",
          "text": [
            "{'AC/DC', 'Thriller', 'Black in Black'}\n",
            "{'NSYNC', 'AC/DC', 'Thriller', 'Black in Black'}\n",
            "{'NSYNC', 'AC/DC', 'Thriller', 'Black in Black'}\n",
            "{'AC/DC', 'Thriller', 'Black in Black'}\n"
          ]
        }
      ]
    },
    {
      "cell_type": "code",
      "source": [
        "\"AC/DC\" in A #to check if \"AC/DC\" exist in the set A"
      ],
      "metadata": {
        "colab": {
          "base_uri": "https://localhost:8080/"
        },
        "id": "2bSwrMFkfgXj",
        "outputId": "20c8d984-5b92-4a53-d8af-96e5694ed5c9"
      },
      "execution_count": null,
      "outputs": [
        {
          "output_type": "execute_result",
          "data": {
            "text/plain": [
              "True"
            ]
          },
          "metadata": {},
          "execution_count": 28
        }
      ]
    },
    {
      "cell_type": "code",
      "source": [
        "album_set_1 = {'AC/DC', 'Black in Black', 'Thriller'}\n",
        "album_set_2 = {'AC/DC', 'Black in Black', 'The Dark Side of the Moon'}\n",
        "album_set_3 = album_set_1 & album_set_2\n",
        "print(album_set_3) # it is just show the interesections"
      ],
      "metadata": {
        "colab": {
          "base_uri": "https://localhost:8080/"
        },
        "id": "Rcn3Ty1lf3Br",
        "outputId": "2bec0da7-779d-46fb-aa63-ddfbf39cc3f0"
      },
      "execution_count": null,
      "outputs": [
        {
          "output_type": "stream",
          "name": "stdout",
          "text": [
            "{'AC/DC', 'Black in Black'}\n"
          ]
        }
      ]
    },
    {
      "cell_type": "code",
      "source": [
        "album_set_1.union(album_set_2)\n"
      ],
      "metadata": {
        "colab": {
          "base_uri": "https://localhost:8080/"
        },
        "id": "eyJ2CNWLga9v",
        "outputId": "cc2849c3-b704-46e4-a6ad-112bdbfabc3c"
      },
      "execution_count": null,
      "outputs": [
        {
          "output_type": "execute_result",
          "data": {
            "text/plain": [
              "{'AC/DC', 'Black in Black', 'The Dark Side of the Moon', 'Thriller'}"
            ]
          },
          "metadata": {},
          "execution_count": 30
        }
      ]
    },
    {
      "cell_type": "code",
      "source": [
        "#Question 1\n",
        "S={'A','B','C'}\n",
        "U={'A','Z','C'}\n",
        "U.union(S)"
      ],
      "metadata": {
        "colab": {
          "base_uri": "https://localhost:8080/"
        },
        "id": "gDJ6brLUhL6c",
        "outputId": "96d1806f-a83a-4c2c-e6d1-7eb7042045cf"
      },
      "execution_count": null,
      "outputs": [
        {
          "output_type": "execute_result",
          "data": {
            "text/plain": [
              "{'A', 'B', 'C', 'Z'}"
            ]
          },
          "metadata": {},
          "execution_count": 31
        }
      ]
    },
    {
      "cell_type": "code",
      "source": [
        "#Question 2\n",
        "S={'A','B','C'}\n",
        "U={'A','Z','C'}\n",
        "S & U"
      ],
      "metadata": {
        "colab": {
          "base_uri": "https://localhost:8080/"
        },
        "id": "Hpc4SL9mhW-x",
        "outputId": "8959ba3e-9d3b-4200-b736-75484749a1f1"
      },
      "execution_count": null,
      "outputs": [
        {
          "output_type": "execute_result",
          "data": {
            "text/plain": [
              "{'A', 'C'}"
            ]
          },
          "metadata": {},
          "execution_count": 32
        }
      ]
    },
    {
      "cell_type": "markdown",
      "source": [
        "#Module 2 - Dictionaries <br>\n",
        "It has Keys and Elements/Values <br>\n",
        "**Keys** is an index by label most of the time are characters<br>\n",
        "To create dictionaries we use {}<br>\n",
        "The keys have to be **inmutable and unique**<br>\n",
        "The values can be **inmutable, mutable and duplicates**<br>\n",
        "Each key and value pair is separate by a comma\n",
        "{**\"key1\"**:1,**\"key2\"**:\"2\",**\"key3\"**:[3,3,3].....}\n",
        "\n",
        "\n"
      ],
      "metadata": {
        "id": "605n8CbrieWK"
      }
    },
    {
      "cell_type": "code",
      "source": [
        "#Question 1\n",
        "D = {'a':0,'b':1,'c':2}\n",
        "D.values()"
      ],
      "metadata": {
        "colab": {
          "base_uri": "https://localhost:8080/"
        },
        "id": "8YU1iIpmkGPk",
        "outputId": "63bdb2e2-5f57-4e60-c018-fe069d7e0fae"
      },
      "execution_count": null,
      "outputs": [
        {
          "output_type": "execute_result",
          "data": {
            "text/plain": [
              "dict_values([0, 1, 2])"
            ]
          },
          "metadata": {},
          "execution_count": 33
        }
      ]
    },
    {
      "cell_type": "code",
      "source": [
        "#Question 2\n",
        "D = {'a':0,'b':1,'c':2}\n",
        "D['b']"
      ],
      "metadata": {
        "colab": {
          "base_uri": "https://localhost:8080/"
        },
        "id": "y4r0GPpcifCb",
        "outputId": "4b1826d7-30e6-4cc6-f488-e298f995874f"
      },
      "execution_count": null,
      "outputs": [
        {
          "output_type": "execute_result",
          "data": {
            "text/plain": [
              "1"
            ]
          },
          "metadata": {},
          "execution_count": 34
        }
      ]
    },
    {
      "cell_type": "markdown",
      "source": [
        "#Module 2 - Review Questions\n"
      ],
      "metadata": {
        "id": "UuS3JM1UkXZo"
      }
    },
    {
      "cell_type": "code",
      "source": [
        "#Question 1\n",
        "A = ('a','b','c')\n",
        "A[0]"
      ],
      "metadata": {
        "colab": {
          "base_uri": "https://localhost:8080/"
        },
        "id": "Cis-JvtykaMi",
        "outputId": "964e5c9c-bfbf-4426-f425-bcccf633350d"
      },
      "execution_count": null,
      "outputs": [
        {
          "output_type": "execute_result",
          "data": {
            "text/plain": [
              "'a'"
            ],
            "application/vnd.google.colaboratory.intrinsic+json": {
              "type": "string"
            }
          },
          "metadata": {},
          "execution_count": 35
        }
      ]
    },
    {
      "cell_type": "code",
      "source": [
        "Dict={\"A\":1,\"B\":\"2\",\"C\":[3,3,3],\"D\":(4,4,4),'E':5,'F':6}\n",
        "Dict[\"D\"]"
      ],
      "metadata": {
        "colab": {
          "base_uri": "https://localhost:8080/"
        },
        "id": "3uoon0Aqk2NW",
        "outputId": "107d2318-bfb8-474a-b6e5-aed04e599584"
      },
      "execution_count": null,
      "outputs": [
        {
          "output_type": "execute_result",
          "data": {
            "text/plain": [
              "(4, 4, 4)"
            ]
          },
          "metadata": {},
          "execution_count": 36
        }
      ]
    },
    {
      "cell_type": "markdown",
      "source": [
        "#Module 3 - Conditions and Branching\n",
        "Comparison operator\n",
        "**== <,>,<=,>=,!=** <br>\n",
        "Branching are if statements\n"
      ],
      "metadata": {
        "id": "Uzd0zZRQn8Gt"
      }
    },
    {
      "cell_type": "code",
      "source": [
        "#sintaxis if else\n",
        "Age = 17\n",
        "if(Age>18):\n",
        "  print(\"you can enter\")\n",
        "else:\n",
        "  print(\"go see meat loaf\")\n",
        "print(\"move on\")\n"
      ],
      "metadata": {
        "id": "LqBMPFGloE64",
        "colab": {
          "base_uri": "https://localhost:8080/"
        },
        "outputId": "cf3f6838-46ec-462b-ebe2-a31ae9cdf68c"
      },
      "execution_count": null,
      "outputs": [
        {
          "output_type": "stream",
          "name": "stdout",
          "text": [
            "go see meat loaf\n",
            "move on\n"
          ]
        }
      ]
    },
    {
      "cell_type": "code",
      "source": [
        "#Question 1\n",
        "i = 1 #-1,1000\n",
        "i!=0"
      ],
      "metadata": {
        "colab": {
          "base_uri": "https://localhost:8080/"
        },
        "id": "jggBFy2-NBVA",
        "outputId": "06a3dfef-0d7a-4536-f6bb-5cf0f03366d0"
      },
      "execution_count": null,
      "outputs": [
        {
          "output_type": "execute_result",
          "data": {
            "text/plain": [
              "True"
            ]
          },
          "metadata": {},
          "execution_count": 38
        }
      ]
    },
    {
      "cell_type": "markdown",
      "source": [
        "#Module 3 - loops\n"
      ],
      "metadata": {
        "id": "8z2gcTULN0Mc"
      }
    },
    {
      "cell_type": "code",
      "source": [
        "range(10,15) #for python2, on python 3 we need loops"
      ],
      "metadata": {
        "colab": {
          "base_uri": "https://localhost:8080/"
        },
        "id": "nGScHRm6N-nj",
        "outputId": "bfde3800-b098-4526-ed6a-68a44cb4ea23"
      },
      "execution_count": null,
      "outputs": [
        {
          "output_type": "execute_result",
          "data": {
            "text/plain": [
              "range(10, 15)"
            ]
          },
          "metadata": {},
          "execution_count": 39
        }
      ]
    },
    {
      "cell_type": "code",
      "source": [
        "squares=[\"red\",\"yellow\",\"green\",\"purple\",\"blue\"]\n",
        "print(squares)\n",
        "for i in range(0,5):\n",
        "    squares[i]=\"white\"\n",
        "\n",
        "print (squares)"
      ],
      "metadata": {
        "colab": {
          "base_uri": "https://localhost:8080/"
        },
        "id": "hV2fLzFSOR7A",
        "outputId": "437f6f4a-7868-46de-8097-7224dcf428e2"
      },
      "execution_count": null,
      "outputs": [
        {
          "output_type": "stream",
          "name": "stdout",
          "text": [
            "['red', 'yellow', 'green', 'purple', 'blue']\n",
            "['white', 'white', 'white', 'white', 'white']\n"
          ]
        }
      ]
    },
    {
      "cell_type": "code",
      "source": [
        "A=[3,4,5]\n",
        "\n",
        "for a in A:\n",
        "  print(a)"
      ],
      "metadata": {
        "colab": {
          "base_uri": "https://localhost:8080/"
        },
        "id": "v0Ay5TA4Q30u",
        "outputId": "94c12fd6-9f50-4677-d471-6528023198e0"
      },
      "execution_count": null,
      "outputs": [
        {
          "output_type": "stream",
          "name": "stdout",
          "text": [
            "3\n",
            "4\n",
            "5\n"
          ]
        }
      ]
    },
    {
      "cell_type": "code",
      "source": [
        "x=3\n",
        "y=1\n",
        "while(y!=x):\n",
        "  print(y)\n",
        "  y=y+1"
      ],
      "metadata": {
        "colab": {
          "base_uri": "https://localhost:8080/"
        },
        "id": "CX0FlgFyRT1L",
        "outputId": "43b1e8ed-56f7-425a-f245-3c73a0980717"
      },
      "execution_count": null,
      "outputs": [
        {
          "output_type": "stream",
          "name": "stdout",
          "text": [
            "1\n",
            "2\n"
          ]
        }
      ]
    },
    {
      "cell_type": "markdown",
      "source": [
        "#Module 3 - Functions\n",
        "Just focus on what the function do, not on how do\n"
      ],
      "metadata": {
        "id": "FW-yAol4RqP3"
      }
    },
    {
      "cell_type": "code",
      "source": [
        "def add1(a):\n",
        "  b=a+1\n",
        "  return b\n",
        "\n",
        "add1(5)"
      ],
      "metadata": {
        "colab": {
          "base_uri": "https://localhost:8080/"
        },
        "id": "e0nbAu7CSZUI",
        "outputId": "1aac9e07-0c75-4aa6-b803-b522eda00ab3"
      },
      "execution_count": null,
      "outputs": [
        {
          "output_type": "execute_result",
          "data": {
            "text/plain": [
              "6"
            ]
          },
          "metadata": {},
          "execution_count": 43
        }
      ]
    },
    {
      "cell_type": "markdown",
      "source": [
        "#Module 3 - Objects and Clases\n",
        "\n",
        "Object has a type<br>\n",
        "**CLASS** it has data attributes and methods\n"
      ],
      "metadata": {
        "id": "YHSU58Z4VPoy"
      }
    },
    {
      "cell_type": "code",
      "source": [
        "#init is the constructor\n",
        "class Circle(object):\n",
        "  def __init__(self,radius,color):\n",
        "    self.radius = radius;\n",
        "    self.color = color;\n",
        "\n",
        "class Rectangle(object):\n",
        "  def __init__(self,color,height,width):\n",
        "    self.height=height;\n",
        "    self.width=width;\n",
        "    self.color=color;"
      ],
      "metadata": {
        "id": "txAx55wmVT_2"
      },
      "execution_count": null,
      "outputs": []
    },
    {
      "cell_type": "code",
      "source": [
        "RedCircle = Circle(10,\"red\")\n",
        "RedCircle.color\n",
        "RedCircle.color=\"blue\"\n",
        "RedCircle.color\n",
        "BlueCircle = Circle(color=\"BLUE\",radius=14)\n",
        "BlueCircle.color"
      ],
      "metadata": {
        "id": "x1PM72EfcNpG",
        "outputId": "19c746f6-11de-4f9a-8fd0-b8387c6c1649",
        "colab": {
          "base_uri": "https://localhost:8080/"
        }
      },
      "execution_count": null,
      "outputs": [
        {
          "output_type": "execute_result",
          "data": {
            "text/plain": [
              "'BLUE'"
            ],
            "application/vnd.google.colaboratory.intrinsic+json": {
              "type": "string"
            }
          },
          "metadata": {},
          "execution_count": 45
        }
      ]
    },
    {
      "cell_type": "markdown",
      "source": [
        "#Module 3 - Review Questions\n"
      ],
      "metadata": {
        "id": "5oxuYJ23fE-8"
      }
    },
    {
      "cell_type": "code",
      "source": [
        "#Question 1,2,3,4,5\n",
        "#I dont need coding, do it in the webpage\n"
      ],
      "metadata": {
        "id": "XifgEIyjfgYa"
      },
      "execution_count": null,
      "outputs": []
    },
    {
      "cell_type": "markdown",
      "source": [
        "# Module 4 - Working with Data in Python\n"
      ],
      "metadata": {
        "id": "-FRZCHRYZbL_"
      }
    },
    {
      "cell_type": "markdown",
      "source": [
        "File1 = open(\"/resources/data/Example2.txt\",\"w\") <br> if is w is for write <br>\n",
        "File1.name - give the name<br>\n",
        "File1.mode -  give w, r for writing or read<br>\n",
        "File1.close()<br>\n",
        "\n"
      ],
      "metadata": {
        "id": "hdCONAszZsVs"
      }
    },
    {
      "cell_type": "code",
      "source": [],
      "metadata": {
        "id": "glx42AHrSnxx"
      },
      "execution_count": null,
      "outputs": []
    },
    {
      "cell_type": "markdown",
      "source": [
        "For writing we need to put **file1.write(\"text to write\")**,<br>\n"
      ],
      "metadata": {
        "id": "oDBHQVu1a9Gy"
      }
    },
    {
      "cell_type": "markdown",
      "source": [
        "\n",
        "It is recommend to use **with**, because automatically close the file\n",
        "<br>\n",
        "fil1.readline() for read each line. if we put inside a number is to read number of characters\n"
      ],
      "metadata": {
        "id": "xMZJ6KqPSNuW"
      }
    },
    {
      "cell_type": "markdown",
      "source": [
        "#Module 4 - Lab Reading files notes\n"
      ],
      "metadata": {
        "id": "qEQWgSbbSgMw"
      }
    },
    {
      "cell_type": "code",
      "source": [
        "#We need to include this to use the lab example \n",
        "#Uncomment these if working locally, else let the following code cell run.\n",
        "\n",
        "import urllib.request\n",
        "url = 'https://cf-courses-data.s3.us.cloud-object-storage.appdomain.cloud/IBMDeveloperSkillsNetwork-PY0101EN-SkillsNetwork/labs/Module%204/data/example1.txt'\n",
        "filename = 'Example1.txt'\n",
        "urllib.request.urlretrieve(url, filename)\n",
        "\n",
        "# Download Example file\n",
        "!wget -O /resources/data/Example1.txt https://cf-courses-data.s3.us.cloud-object-storage.appdomain.cloud/IBMDeveloperSkillsNetwork-PY0101EN-SkillsNetwork/labs/Module%204/data/example1.txt"
      ],
      "metadata": {
        "id": "tseHCZlPSodF",
        "outputId": "0cb1f43c-2d71-4c4c-dc6e-42af26a60abd",
        "colab": {
          "base_uri": "https://localhost:8080/"
        }
      },
      "execution_count": null,
      "outputs": [
        {
          "output_type": "stream",
          "name": "stdout",
          "text": [
            "/resources/data/Example1.txt: No such file or directory\n"
          ]
        }
      ]
    },
    {
      "cell_type": "code",
      "source": [
        "# Read the Example1.txt\n",
        "example1 = \"Example1.txt\"\n",
        "file1 = open(example1, \"r\")\n",
        "file1.name #we are getting the name\n",
        "\n"
      ],
      "metadata": {
        "id": "mJwukDYMTO4G",
        "outputId": "9b185de5-7830-417f-db5d-c566d9ea3dcc",
        "colab": {
          "base_uri": "https://localhost:8080/",
          "height": 35
        }
      },
      "execution_count": null,
      "outputs": [
        {
          "output_type": "execute_result",
          "data": {
            "text/plain": [
              "'Example1.txt'"
            ],
            "application/vnd.google.colaboratory.intrinsic+json": {
              "type": "string"
            }
          },
          "metadata": {},
          "execution_count": 41
        }
      ]
    },
    {
      "cell_type": "code",
      "source": [
        "#to see in wich mode we are on the file, could be r, w, or a\n",
        "file1.mode"
      ],
      "metadata": {
        "id": "FsDPC9LmTjvy",
        "outputId": "b922d2a1-a09b-4b70-caf4-492c67d8f853",
        "colab": {
          "base_uri": "https://localhost:8080/",
          "height": 35
        }
      },
      "execution_count": null,
      "outputs": [
        {
          "output_type": "execute_result",
          "data": {
            "text/plain": [
              "'r'"
            ],
            "application/vnd.google.colaboratory.intrinsic+json": {
              "type": "string"
            }
          },
          "metadata": {},
          "execution_count": 42
        }
      ]
    },
    {
      "cell_type": "code",
      "source": [
        "#to read the content of the file\n",
        "FileContent = file1.read()\n",
        "print(FileContent)\n",
        "file1.close()\n",
        "print(file1.closed)"
      ],
      "metadata": {
        "id": "nog1pg3pUKNj",
        "outputId": "45566d56-5573-4190-9e9f-78c7f53456cc",
        "colab": {
          "base_uri": "https://localhost:8080/"
        }
      },
      "execution_count": null,
      "outputs": [
        {
          "output_type": "stream",
          "name": "stdout",
          "text": [
            "This is line 1 \n",
            "This is line 2\n",
            "This is line 3\n",
            "True\n"
          ]
        }
      ]
    },
    {
      "cell_type": "code",
      "source": [
        "#the recommendation is use with as above I explained, here is the example:\n",
        "with open(example1, \"r\") as file1:\n",
        "    FileContent = file1.read()\n",
        "    print(FileContent)\n",
        "print(file1.closed) # it is important to put print wiht no indent, to put out the with statement"
      ],
      "metadata": {
        "id": "p8BqTzsoUP4O",
        "outputId": "62e4312e-bf74-41be-ac2f-fd193e30ff6e",
        "colab": {
          "base_uri": "https://localhost:8080/"
        }
      },
      "execution_count": null,
      "outputs": [
        {
          "output_type": "stream",
          "name": "stdout",
          "text": [
            "This is line 1 \n",
            "This is line 2\n",
            "This is line 3\n",
            "True\n"
          ]
        }
      ]
    },
    {
      "cell_type": "code",
      "source": [
        "#To itereato, we can use loops like the for loop\n",
        "with open(example1,\"r\") as file1:\n",
        "        i = 0;\n",
        "        for line in file1:\n",
        "            print(\"Iteration\", str(i), \": \", line)\n",
        "            i = i + 1"
      ],
      "metadata": {
        "id": "pzgtIkdiVDKo",
        "outputId": "5f2f7751-2f4b-48ce-f13b-23de799eba0c",
        "colab": {
          "base_uri": "https://localhost:8080/"
        }
      },
      "execution_count": null,
      "outputs": [
        {
          "output_type": "stream",
          "name": "stdout",
          "text": [
            "Iteration 0 :  This is line 1 \n",
            "\n",
            "Iteration 1 :  This is line 2\n",
            "\n",
            "Iteration 2 :  This is line 3\n"
          ]
        }
      ]
    },
    {
      "cell_type": "markdown",
      "source": [
        "#Module 4  - Lab write files notes"
      ],
      "metadata": {
        "id": "uNwpgdAMVc_D"
      }
    },
    {
      "cell_type": "code",
      "source": [
        "#We can create a new file, and write into it\n",
        "\n",
        "exmp2 = 'Example2.txt'\n",
        "with open(exmp2, 'w') as writefile:\n",
        "    writefile.write(\"This is line A\")"
      ],
      "metadata": {
        "id": "W281tlAGWaAA"
      },
      "execution_count": null,
      "outputs": []
    },
    {
      "cell_type": "code",
      "source": [
        "#to read the file recent created\n",
        "with open(exmp2, 'r') as testwritefile:\n",
        "    print(testwritefile.read())"
      ],
      "metadata": {
        "id": "1YFSRxoqWmWY",
        "outputId": "73d46e22-687e-4007-be48-a3b6e9454d10",
        "colab": {
          "base_uri": "https://localhost:8080/"
        }
      },
      "execution_count": null,
      "outputs": [
        {
          "output_type": "stream",
          "name": "stdout",
          "text": [
            "This is line A\n"
          ]
        }
      ]
    },
    {
      "cell_type": "markdown",
      "source": [
        "**We can see that the line that we write before it is the line that we read it.**"
      ],
      "metadata": {
        "id": "Rs9HQO5FWu1_"
      }
    },
    {
      "cell_type": "code",
      "source": [
        "#To write but using list\n",
        "#first we create the list\n",
        "Lines = [\"This is line A\\n\", \"This is line B\\n\", \"This is line C\\n\"]\n",
        "Lines\n"
      ],
      "metadata": {
        "id": "HrUFPsPRW5-T",
        "outputId": "9dc20720-e0e1-4141-d019-46883a0fcba7",
        "colab": {
          "base_uri": "https://localhost:8080/"
        }
      },
      "execution_count": null,
      "outputs": [
        {
          "output_type": "execute_result",
          "data": {
            "text/plain": [
              "['This is line A\\n', 'This is line B\\n', 'This is line C\\n']"
            ]
          },
          "metadata": {},
          "execution_count": 51
        }
      ]
    },
    {
      "cell_type": "code",
      "source": [
        "#then we write in to the file\n",
        "with open('Example2.txt', 'w') as writefile:\n",
        "    for line in Lines:\n",
        "        print(line)\n",
        "        writefile.write(line)"
      ],
      "metadata": {
        "id": "KCx8NI-MXDRu",
        "outputId": "8b6f3372-bdbe-4e1f-a694-a603172dd0b9",
        "colab": {
          "base_uri": "https://localhost:8080/"
        }
      },
      "execution_count": null,
      "outputs": [
        {
          "output_type": "stream",
          "name": "stdout",
          "text": [
            "This is line A\n",
            "\n",
            "This is line B\n",
            "\n",
            "This is line C\n",
            "\n"
          ]
        }
      ]
    },
    {
      "cell_type": "code",
      "source": [
        "#test if the previous command worked\n",
        "with open('Example2.txt', 'r') as testwritefile:\n",
        "    print(testwritefile.read())"
      ],
      "metadata": {
        "id": "jaagn15nXh_k",
        "outputId": "efde91a4-d8e0-46f4-a526-eaca5af3c48e",
        "colab": {
          "base_uri": "https://localhost:8080/"
        }
      },
      "execution_count": null,
      "outputs": [
        {
          "output_type": "stream",
          "name": "stdout",
          "text": [
            "This is line A\n",
            "This is line B\n",
            "This is line C\n",
            "\n"
          ]
        }
      ]
    },
    {
      "cell_type": "markdown",
      "source": [
        "**It is important to see here that we are getting the data from lines which is a list**\n"
      ],
      "metadata": {
        "id": "4L6Ew8-cXO2i"
      }
    },
    {
      "cell_type": "code",
      "source": [
        "#important to know\n",
        "with open('Example2.txt', 'w') as writefile:\n",
        "    writefile.write(\"Overwrite\\n\")\n",
        "with open('Example2.txt', 'r') as testwritefile:\n",
        "    print(testwritefile.read())"
      ],
      "metadata": {
        "id": "cmUBk2M7XtEL",
        "outputId": "33d76cbb-9867-40cd-d7a0-9a56ec3ce2c0",
        "colab": {
          "base_uri": "https://localhost:8080/"
        }
      },
      "execution_count": null,
      "outputs": [
        {
          "output_type": "stream",
          "name": "stdout",
          "text": [
            "Overwrite\n",
            "\n"
          ]
        }
      ]
    },
    {
      "cell_type": "markdown",
      "source": [
        "**using this command actually we are overwriting** "
      ],
      "metadata": {
        "id": "-AhKo1QEXyi7"
      }
    },
    {
      "cell_type": "code",
      "source": [
        "#If we can to continue writing what we can do is an append\n",
        "with open('Example2.txt', 'a') as testwritefile:\n",
        "    testwritefile.write(\"This is line C\\n\")\n",
        "    testwritefile.write(\"This is line D\\n\")\n",
        "    testwritefile.write(\"This is line E\\n\")"
      ],
      "metadata": {
        "id": "rxG65WIqX7v6"
      },
      "execution_count": null,
      "outputs": []
    },
    {
      "cell_type": "code",
      "source": [
        "with open('Example2.txt', 'r') as testwritefile:\n",
        "    print(testwritefile.read())"
      ],
      "metadata": {
        "id": "gFu8IrN5YC9v",
        "outputId": "6655bd0d-94d5-4f20-c0eb-cad1bb7743ee",
        "colab": {
          "base_uri": "https://localhost:8080/"
        }
      },
      "execution_count": null,
      "outputs": [
        {
          "output_type": "stream",
          "name": "stdout",
          "text": [
            "Overwrite\n",
            "This is line C\n",
            "This is line D\n",
            "This is line E\n",
            "\n"
          ]
        }
      ]
    },
    {
      "cell_type": "markdown",
      "source": [
        "**this is the probe that with append we can write at the end of the file**\n"
      ],
      "metadata": {
        "id": "ZAo4hV-aYIZQ"
      }
    },
    {
      "cell_type": "markdown",
      "source": [
        "**It is not a good practice to open and close the files, to first read, then write, etc. That is why we can use**\n",
        "\n",
        "*   r+\n",
        "*   w+\n",
        "*   a+\n",
        "\n",
        "\n"
      ],
      "metadata": {
        "id": "6WBGnIgDYWdl"
      }
    },
    {
      "cell_type": "code",
      "source": [
        "with open('Example2.txt', 'a+') as testwritefile:\n",
        "    print(\"Initial Location: {}\".format(testwritefile.tell())) #with .tell() we can knkow the current position in bytes()\n",
        "    \n",
        "    data = testwritefile.read()\n",
        "    if (not data):  #empty strings return false in python\n",
        "            print('Read nothing') \n",
        "    else: \n",
        "            print(testwritefile.read())\n",
        "            \n",
        "    testwritefile.seek(0,0) # move 0 bytes from beginning. changes the position by 'offset' bytes with respect to 'from'. From can take the value of 0,1,2 corresponding to beginning, relative to current position and end\n",
        "    \n",
        "    print(\"\\nNew Location : {}\".format(testwritefile.tell()))\n",
        "    data = testwritefile.read()\n",
        "    if (not data): \n",
        "            print('Read nothing') \n",
        "    else: \n",
        "            print(data)\n",
        "    \n",
        "    print(\"Location after read: {}\".format(testwritefile.tell()) )"
      ],
      "metadata": {
        "id": "hLztu_bNYu-I",
        "outputId": "801f0e0c-04c7-4e44-99d3-199c87f66ca8",
        "colab": {
          "base_uri": "https://localhost:8080/"
        }
      },
      "execution_count": null,
      "outputs": [
        {
          "output_type": "stream",
          "name": "stdout",
          "text": [
            "Initial Location: 55\n",
            "Read nothing\n",
            "\n",
            "New Location : 0\n",
            "Overwrite\n",
            "This is line C\n",
            "This is line D\n",
            "This is line E\n",
            "\n",
            "Location after read: 55\n"
          ]
        }
      ]
    },
    {
      "cell_type": "markdown",
      "source": [
        "# Module 4 - Loading data with pandas\n",
        "\n"
      ],
      "metadata": {
        "id": "veUtWl39cfBf"
      }
    },
    {
      "cell_type": "code",
      "source": [
        "import pandas as pd\n",
        "csv_path='/content/sample_data/Standard Videos.csv'\n",
        "df=pd.read_csv(csv_path)\n",
        "\n",
        "df.head() # to see the first 5 rows of the data\n"
      ],
      "metadata": {
        "colab": {
          "base_uri": "https://localhost:8080/",
          "height": 206
        },
        "id": "6RJS5xnhcqTz",
        "outputId": "8ff088a6-47e6-414e-bf3f-744c96e9f979"
      },
      "execution_count": null,
      "outputs": [
        {
          "output_type": "execute_result",
          "data": {
            "text/plain": [
              "   ID        Site       Dept.Type           Job Title  \\\n",
              "0   1  Carrollton           DAPEC              PACKER   \n",
              "1   7     ARCADIA  LIVE RECEIVING       HANGER - LIVE   \n",
              "2   8     ARCADIA  CHILLER REHANG  REHANGER - CHILLER   \n",
              "3   9     ARCADIA  LIVE RECEIVING   OPERATOR - DRAWER   \n",
              "4  10     ARCADIA  CHILLER REHANG      OPERATOR - SAW   \n",
              "\n",
              "                                          Video Link     Created By  \\\n",
              "0  https://web.microsoftstream.com/video/2c5c33f7...  Barraza, Luis   \n",
              "1  https://web.microsoftstream.com/video/fcbf2847...  Barraza, Luis   \n",
              "2  https://web.microsoftstream.com/video/8e061752...  Barraza, Luis   \n",
              "3  https://web.microsoftstream.com/video/b5f0261a...  Barraza, Luis   \n",
              "4  https://web.microsoftstream.com/video/f29bd804...  Barraza, Luis   \n",
              "\n",
              "             Created    Modified By            Modified  \n",
              "0  7/5/2021 10:47 PM  Barraza, Luis  7/19/2021 11:34 PM  \n",
              "1  9/6/2021 12:21 PM  Barraza, Luis   9/6/2021 12:21 PM  \n",
              "2  9/6/2021 12:23 PM  Barraza, Luis   9/6/2021 12:23 PM  \n",
              "3  9/6/2021 12:38 PM  Barraza, Luis    9/6/2021 5:21 PM  \n",
              "4  9/6/2021 12:50 PM  Barraza, Luis   9/6/2021 12:50 PM  "
            ],
            "text/html": [
              "\n",
              "  <div id=\"df-f8b24c19-eab8-4575-a60f-214fbd4e7cb3\">\n",
              "    <div class=\"colab-df-container\">\n",
              "      <div>\n",
              "<style scoped>\n",
              "    .dataframe tbody tr th:only-of-type {\n",
              "        vertical-align: middle;\n",
              "    }\n",
              "\n",
              "    .dataframe tbody tr th {\n",
              "        vertical-align: top;\n",
              "    }\n",
              "\n",
              "    .dataframe thead th {\n",
              "        text-align: right;\n",
              "    }\n",
              "</style>\n",
              "<table border=\"1\" class=\"dataframe\">\n",
              "  <thead>\n",
              "    <tr style=\"text-align: right;\">\n",
              "      <th></th>\n",
              "      <th>ID</th>\n",
              "      <th>Site</th>\n",
              "      <th>Dept.Type</th>\n",
              "      <th>Job Title</th>\n",
              "      <th>Video Link</th>\n",
              "      <th>Created By</th>\n",
              "      <th>Created</th>\n",
              "      <th>Modified By</th>\n",
              "      <th>Modified</th>\n",
              "    </tr>\n",
              "  </thead>\n",
              "  <tbody>\n",
              "    <tr>\n",
              "      <th>0</th>\n",
              "      <td>1</td>\n",
              "      <td>Carrollton</td>\n",
              "      <td>DAPEC</td>\n",
              "      <td>PACKER</td>\n",
              "      <td>https://web.microsoftstream.com/video/2c5c33f7...</td>\n",
              "      <td>Barraza, Luis</td>\n",
              "      <td>7/5/2021 10:47 PM</td>\n",
              "      <td>Barraza, Luis</td>\n",
              "      <td>7/19/2021 11:34 PM</td>\n",
              "    </tr>\n",
              "    <tr>\n",
              "      <th>1</th>\n",
              "      <td>7</td>\n",
              "      <td>ARCADIA</td>\n",
              "      <td>LIVE RECEIVING</td>\n",
              "      <td>HANGER - LIVE</td>\n",
              "      <td>https://web.microsoftstream.com/video/fcbf2847...</td>\n",
              "      <td>Barraza, Luis</td>\n",
              "      <td>9/6/2021 12:21 PM</td>\n",
              "      <td>Barraza, Luis</td>\n",
              "      <td>9/6/2021 12:21 PM</td>\n",
              "    </tr>\n",
              "    <tr>\n",
              "      <th>2</th>\n",
              "      <td>8</td>\n",
              "      <td>ARCADIA</td>\n",
              "      <td>CHILLER REHANG</td>\n",
              "      <td>REHANGER - CHILLER</td>\n",
              "      <td>https://web.microsoftstream.com/video/8e061752...</td>\n",
              "      <td>Barraza, Luis</td>\n",
              "      <td>9/6/2021 12:23 PM</td>\n",
              "      <td>Barraza, Luis</td>\n",
              "      <td>9/6/2021 12:23 PM</td>\n",
              "    </tr>\n",
              "    <tr>\n",
              "      <th>3</th>\n",
              "      <td>9</td>\n",
              "      <td>ARCADIA</td>\n",
              "      <td>LIVE RECEIVING</td>\n",
              "      <td>OPERATOR - DRAWER</td>\n",
              "      <td>https://web.microsoftstream.com/video/b5f0261a...</td>\n",
              "      <td>Barraza, Luis</td>\n",
              "      <td>9/6/2021 12:38 PM</td>\n",
              "      <td>Barraza, Luis</td>\n",
              "      <td>9/6/2021 5:21 PM</td>\n",
              "    </tr>\n",
              "    <tr>\n",
              "      <th>4</th>\n",
              "      <td>10</td>\n",
              "      <td>ARCADIA</td>\n",
              "      <td>CHILLER REHANG</td>\n",
              "      <td>OPERATOR - SAW</td>\n",
              "      <td>https://web.microsoftstream.com/video/f29bd804...</td>\n",
              "      <td>Barraza, Luis</td>\n",
              "      <td>9/6/2021 12:50 PM</td>\n",
              "      <td>Barraza, Luis</td>\n",
              "      <td>9/6/2021 12:50 PM</td>\n",
              "    </tr>\n",
              "  </tbody>\n",
              "</table>\n",
              "</div>\n",
              "      <button class=\"colab-df-convert\" onclick=\"convertToInteractive('df-f8b24c19-eab8-4575-a60f-214fbd4e7cb3')\"\n",
              "              title=\"Convert this dataframe to an interactive table.\"\n",
              "              style=\"display:none;\">\n",
              "        \n",
              "  <svg xmlns=\"http://www.w3.org/2000/svg\" height=\"24px\"viewBox=\"0 0 24 24\"\n",
              "       width=\"24px\">\n",
              "    <path d=\"M0 0h24v24H0V0z\" fill=\"none\"/>\n",
              "    <path d=\"M18.56 5.44l.94 2.06.94-2.06 2.06-.94-2.06-.94-.94-2.06-.94 2.06-2.06.94zm-11 1L8.5 8.5l.94-2.06 2.06-.94-2.06-.94L8.5 2.5l-.94 2.06-2.06.94zm10 10l.94 2.06.94-2.06 2.06-.94-2.06-.94-.94-2.06-.94 2.06-2.06.94z\"/><path d=\"M17.41 7.96l-1.37-1.37c-.4-.4-.92-.59-1.43-.59-.52 0-1.04.2-1.43.59L10.3 9.45l-7.72 7.72c-.78.78-.78 2.05 0 2.83L4 21.41c.39.39.9.59 1.41.59.51 0 1.02-.2 1.41-.59l7.78-7.78 2.81-2.81c.8-.78.8-2.07 0-2.86zM5.41 20L4 18.59l7.72-7.72 1.47 1.35L5.41 20z\"/>\n",
              "  </svg>\n",
              "      </button>\n",
              "      \n",
              "  <style>\n",
              "    .colab-df-container {\n",
              "      display:flex;\n",
              "      flex-wrap:wrap;\n",
              "      gap: 12px;\n",
              "    }\n",
              "\n",
              "    .colab-df-convert {\n",
              "      background-color: #E8F0FE;\n",
              "      border: none;\n",
              "      border-radius: 50%;\n",
              "      cursor: pointer;\n",
              "      display: none;\n",
              "      fill: #1967D2;\n",
              "      height: 32px;\n",
              "      padding: 0 0 0 0;\n",
              "      width: 32px;\n",
              "    }\n",
              "\n",
              "    .colab-df-convert:hover {\n",
              "      background-color: #E2EBFA;\n",
              "      box-shadow: 0px 1px 2px rgba(60, 64, 67, 0.3), 0px 1px 3px 1px rgba(60, 64, 67, 0.15);\n",
              "      fill: #174EA6;\n",
              "    }\n",
              "\n",
              "    [theme=dark] .colab-df-convert {\n",
              "      background-color: #3B4455;\n",
              "      fill: #D2E3FC;\n",
              "    }\n",
              "\n",
              "    [theme=dark] .colab-df-convert:hover {\n",
              "      background-color: #434B5C;\n",
              "      box-shadow: 0px 1px 3px 1px rgba(0, 0, 0, 0.15);\n",
              "      filter: drop-shadow(0px 1px 2px rgba(0, 0, 0, 0.3));\n",
              "      fill: #FFFFFF;\n",
              "    }\n",
              "  </style>\n",
              "\n",
              "      <script>\n",
              "        const buttonEl =\n",
              "          document.querySelector('#df-f8b24c19-eab8-4575-a60f-214fbd4e7cb3 button.colab-df-convert');\n",
              "        buttonEl.style.display =\n",
              "          google.colab.kernel.accessAllowed ? 'block' : 'none';\n",
              "\n",
              "        async function convertToInteractive(key) {\n",
              "          const element = document.querySelector('#df-f8b24c19-eab8-4575-a60f-214fbd4e7cb3');\n",
              "          const dataTable =\n",
              "            await google.colab.kernel.invokeFunction('convertToInteractive',\n",
              "                                                     [key], {});\n",
              "          if (!dataTable) return;\n",
              "\n",
              "          const docLinkHtml = 'Like what you see? Visit the ' +\n",
              "            '<a target=\"_blank\" href=https://colab.research.google.com/notebooks/data_table.ipynb>data table notebook</a>'\n",
              "            + ' to learn more about interactive tables.';\n",
              "          element.innerHTML = '';\n",
              "          dataTable['output_type'] = 'display_data';\n",
              "          await google.colab.output.renderOutput(dataTable, element);\n",
              "          const docLink = document.createElement('div');\n",
              "          docLink.innerHTML = docLinkHtml;\n",
              "          element.appendChild(docLink);\n",
              "        }\n",
              "      </script>\n",
              "    </div>\n",
              "  </div>\n",
              "  "
            ]
          },
          "metadata": {},
          "execution_count": 12
        }
      ]
    },
    {
      "cell_type": "code",
      "source": [
        "#we can create a datafram out of the dictionary. A dataframe has columns and rows\n",
        "songs = {'Album': ['Thriller back','back in black'], 'Released': [1982,1980], 'Length': ['00:42:19','00:42:11']} \n",
        "songs_frame = pd.DataFrame(songs) # take the dictionay inside pd.DataFrame(##)\n",
        "songs_frame.head()"
      ],
      "metadata": {
        "colab": {
          "base_uri": "https://localhost:8080/",
          "height": 112
        },
        "id": "9FKHwc6_eL4h",
        "outputId": "87daa7c4-8d88-4a91-8549-1c3c6720d2e7"
      },
      "execution_count": null,
      "outputs": [
        {
          "output_type": "execute_result",
          "data": {
            "text/plain": [
              "           Album  Released    Length\n",
              "0  Thriller back      1982  00:42:19\n",
              "1  back in black      1980  00:42:11"
            ],
            "text/html": [
              "\n",
              "  <div id=\"df-d7325ba3-973b-474e-a650-f3e08600acc5\">\n",
              "    <div class=\"colab-df-container\">\n",
              "      <div>\n",
              "<style scoped>\n",
              "    .dataframe tbody tr th:only-of-type {\n",
              "        vertical-align: middle;\n",
              "    }\n",
              "\n",
              "    .dataframe tbody tr th {\n",
              "        vertical-align: top;\n",
              "    }\n",
              "\n",
              "    .dataframe thead th {\n",
              "        text-align: right;\n",
              "    }\n",
              "</style>\n",
              "<table border=\"1\" class=\"dataframe\">\n",
              "  <thead>\n",
              "    <tr style=\"text-align: right;\">\n",
              "      <th></th>\n",
              "      <th>Album</th>\n",
              "      <th>Released</th>\n",
              "      <th>Length</th>\n",
              "    </tr>\n",
              "  </thead>\n",
              "  <tbody>\n",
              "    <tr>\n",
              "      <th>0</th>\n",
              "      <td>Thriller back</td>\n",
              "      <td>1982</td>\n",
              "      <td>00:42:19</td>\n",
              "    </tr>\n",
              "    <tr>\n",
              "      <th>1</th>\n",
              "      <td>back in black</td>\n",
              "      <td>1980</td>\n",
              "      <td>00:42:11</td>\n",
              "    </tr>\n",
              "  </tbody>\n",
              "</table>\n",
              "</div>\n",
              "      <button class=\"colab-df-convert\" onclick=\"convertToInteractive('df-d7325ba3-973b-474e-a650-f3e08600acc5')\"\n",
              "              title=\"Convert this dataframe to an interactive table.\"\n",
              "              style=\"display:none;\">\n",
              "        \n",
              "  <svg xmlns=\"http://www.w3.org/2000/svg\" height=\"24px\"viewBox=\"0 0 24 24\"\n",
              "       width=\"24px\">\n",
              "    <path d=\"M0 0h24v24H0V0z\" fill=\"none\"/>\n",
              "    <path d=\"M18.56 5.44l.94 2.06.94-2.06 2.06-.94-2.06-.94-.94-2.06-.94 2.06-2.06.94zm-11 1L8.5 8.5l.94-2.06 2.06-.94-2.06-.94L8.5 2.5l-.94 2.06-2.06.94zm10 10l.94 2.06.94-2.06 2.06-.94-2.06-.94-.94-2.06-.94 2.06-2.06.94z\"/><path d=\"M17.41 7.96l-1.37-1.37c-.4-.4-.92-.59-1.43-.59-.52 0-1.04.2-1.43.59L10.3 9.45l-7.72 7.72c-.78.78-.78 2.05 0 2.83L4 21.41c.39.39.9.59 1.41.59.51 0 1.02-.2 1.41-.59l7.78-7.78 2.81-2.81c.8-.78.8-2.07 0-2.86zM5.41 20L4 18.59l7.72-7.72 1.47 1.35L5.41 20z\"/>\n",
              "  </svg>\n",
              "      </button>\n",
              "      \n",
              "  <style>\n",
              "    .colab-df-container {\n",
              "      display:flex;\n",
              "      flex-wrap:wrap;\n",
              "      gap: 12px;\n",
              "    }\n",
              "\n",
              "    .colab-df-convert {\n",
              "      background-color: #E8F0FE;\n",
              "      border: none;\n",
              "      border-radius: 50%;\n",
              "      cursor: pointer;\n",
              "      display: none;\n",
              "      fill: #1967D2;\n",
              "      height: 32px;\n",
              "      padding: 0 0 0 0;\n",
              "      width: 32px;\n",
              "    }\n",
              "\n",
              "    .colab-df-convert:hover {\n",
              "      background-color: #E2EBFA;\n",
              "      box-shadow: 0px 1px 2px rgba(60, 64, 67, 0.3), 0px 1px 3px 1px rgba(60, 64, 67, 0.15);\n",
              "      fill: #174EA6;\n",
              "    }\n",
              "\n",
              "    [theme=dark] .colab-df-convert {\n",
              "      background-color: #3B4455;\n",
              "      fill: #D2E3FC;\n",
              "    }\n",
              "\n",
              "    [theme=dark] .colab-df-convert:hover {\n",
              "      background-color: #434B5C;\n",
              "      box-shadow: 0px 1px 3px 1px rgba(0, 0, 0, 0.15);\n",
              "      filter: drop-shadow(0px 1px 2px rgba(0, 0, 0, 0.3));\n",
              "      fill: #FFFFFF;\n",
              "    }\n",
              "  </style>\n",
              "\n",
              "      <script>\n",
              "        const buttonEl =\n",
              "          document.querySelector('#df-d7325ba3-973b-474e-a650-f3e08600acc5 button.colab-df-convert');\n",
              "        buttonEl.style.display =\n",
              "          google.colab.kernel.accessAllowed ? 'block' : 'none';\n",
              "\n",
              "        async function convertToInteractive(key) {\n",
              "          const element = document.querySelector('#df-d7325ba3-973b-474e-a650-f3e08600acc5');\n",
              "          const dataTable =\n",
              "            await google.colab.kernel.invokeFunction('convertToInteractive',\n",
              "                                                     [key], {});\n",
              "          if (!dataTable) return;\n",
              "\n",
              "          const docLinkHtml = 'Like what you see? Visit the ' +\n",
              "            '<a target=\"_blank\" href=https://colab.research.google.com/notebooks/data_table.ipynb>data table notebook</a>'\n",
              "            + ' to learn more about interactive tables.';\n",
              "          element.innerHTML = '';\n",
              "          dataTable['output_type'] = 'display_data';\n",
              "          await google.colab.output.renderOutput(dataTable, element);\n",
              "          const docLink = document.createElement('div');\n",
              "          docLink.innerHTML = docLinkHtml;\n",
              "          element.appendChild(docLink);\n",
              "        }\n",
              "      </script>\n",
              "    </div>\n",
              "  </div>\n",
              "  "
            ]
          },
          "metadata": {},
          "execution_count": 58
        }
      ]
    },
    {
      "cell_type": "code",
      "source": [
        "#we can create new data frame from a previous data frame, it is important to use [[]] double\n",
        "x = songs_frame[['Length']]\n",
        "x.head()"
      ],
      "metadata": {
        "colab": {
          "base_uri": "https://localhost:8080/",
          "height": 112
        },
        "id": "DeZH7tpEfO-m",
        "outputId": "0dff5a79-88ab-474a-b6fa-eb757220fe48"
      },
      "execution_count": null,
      "outputs": [
        {
          "output_type": "execute_result",
          "data": {
            "text/plain": [
              "     Length\n",
              "0  00:42:19\n",
              "1  00:42:11"
            ],
            "text/html": [
              "\n",
              "  <div id=\"df-c7aecbdb-5de2-456f-af09-53ddf485e415\">\n",
              "    <div class=\"colab-df-container\">\n",
              "      <div>\n",
              "<style scoped>\n",
              "    .dataframe tbody tr th:only-of-type {\n",
              "        vertical-align: middle;\n",
              "    }\n",
              "\n",
              "    .dataframe tbody tr th {\n",
              "        vertical-align: top;\n",
              "    }\n",
              "\n",
              "    .dataframe thead th {\n",
              "        text-align: right;\n",
              "    }\n",
              "</style>\n",
              "<table border=\"1\" class=\"dataframe\">\n",
              "  <thead>\n",
              "    <tr style=\"text-align: right;\">\n",
              "      <th></th>\n",
              "      <th>Length</th>\n",
              "    </tr>\n",
              "  </thead>\n",
              "  <tbody>\n",
              "    <tr>\n",
              "      <th>0</th>\n",
              "      <td>00:42:19</td>\n",
              "    </tr>\n",
              "    <tr>\n",
              "      <th>1</th>\n",
              "      <td>00:42:11</td>\n",
              "    </tr>\n",
              "  </tbody>\n",
              "</table>\n",
              "</div>\n",
              "      <button class=\"colab-df-convert\" onclick=\"convertToInteractive('df-c7aecbdb-5de2-456f-af09-53ddf485e415')\"\n",
              "              title=\"Convert this dataframe to an interactive table.\"\n",
              "              style=\"display:none;\">\n",
              "        \n",
              "  <svg xmlns=\"http://www.w3.org/2000/svg\" height=\"24px\"viewBox=\"0 0 24 24\"\n",
              "       width=\"24px\">\n",
              "    <path d=\"M0 0h24v24H0V0z\" fill=\"none\"/>\n",
              "    <path d=\"M18.56 5.44l.94 2.06.94-2.06 2.06-.94-2.06-.94-.94-2.06-.94 2.06-2.06.94zm-11 1L8.5 8.5l.94-2.06 2.06-.94-2.06-.94L8.5 2.5l-.94 2.06-2.06.94zm10 10l.94 2.06.94-2.06 2.06-.94-2.06-.94-.94-2.06-.94 2.06-2.06.94z\"/><path d=\"M17.41 7.96l-1.37-1.37c-.4-.4-.92-.59-1.43-.59-.52 0-1.04.2-1.43.59L10.3 9.45l-7.72 7.72c-.78.78-.78 2.05 0 2.83L4 21.41c.39.39.9.59 1.41.59.51 0 1.02-.2 1.41-.59l7.78-7.78 2.81-2.81c.8-.78.8-2.07 0-2.86zM5.41 20L4 18.59l7.72-7.72 1.47 1.35L5.41 20z\"/>\n",
              "  </svg>\n",
              "      </button>\n",
              "      \n",
              "  <style>\n",
              "    .colab-df-container {\n",
              "      display:flex;\n",
              "      flex-wrap:wrap;\n",
              "      gap: 12px;\n",
              "    }\n",
              "\n",
              "    .colab-df-convert {\n",
              "      background-color: #E8F0FE;\n",
              "      border: none;\n",
              "      border-radius: 50%;\n",
              "      cursor: pointer;\n",
              "      display: none;\n",
              "      fill: #1967D2;\n",
              "      height: 32px;\n",
              "      padding: 0 0 0 0;\n",
              "      width: 32px;\n",
              "    }\n",
              "\n",
              "    .colab-df-convert:hover {\n",
              "      background-color: #E2EBFA;\n",
              "      box-shadow: 0px 1px 2px rgba(60, 64, 67, 0.3), 0px 1px 3px 1px rgba(60, 64, 67, 0.15);\n",
              "      fill: #174EA6;\n",
              "    }\n",
              "\n",
              "    [theme=dark] .colab-df-convert {\n",
              "      background-color: #3B4455;\n",
              "      fill: #D2E3FC;\n",
              "    }\n",
              "\n",
              "    [theme=dark] .colab-df-convert:hover {\n",
              "      background-color: #434B5C;\n",
              "      box-shadow: 0px 1px 3px 1px rgba(0, 0, 0, 0.15);\n",
              "      filter: drop-shadow(0px 1px 2px rgba(0, 0, 0, 0.3));\n",
              "      fill: #FFFFFF;\n",
              "    }\n",
              "  </style>\n",
              "\n",
              "      <script>\n",
              "        const buttonEl =\n",
              "          document.querySelector('#df-c7aecbdb-5de2-456f-af09-53ddf485e415 button.colab-df-convert');\n",
              "        buttonEl.style.display =\n",
              "          google.colab.kernel.accessAllowed ? 'block' : 'none';\n",
              "\n",
              "        async function convertToInteractive(key) {\n",
              "          const element = document.querySelector('#df-c7aecbdb-5de2-456f-af09-53ddf485e415');\n",
              "          const dataTable =\n",
              "            await google.colab.kernel.invokeFunction('convertToInteractive',\n",
              "                                                     [key], {});\n",
              "          if (!dataTable) return;\n",
              "\n",
              "          const docLinkHtml = 'Like what you see? Visit the ' +\n",
              "            '<a target=\"_blank\" href=https://colab.research.google.com/notebooks/data_table.ipynb>data table notebook</a>'\n",
              "            + ' to learn more about interactive tables.';\n",
              "          element.innerHTML = '';\n",
              "          dataTable['output_type'] = 'display_data';\n",
              "          await google.colab.output.renderOutput(dataTable, element);\n",
              "          const docLink = document.createElement('div');\n",
              "          docLink.innerHTML = docLinkHtml;\n",
              "          element.appendChild(docLink);\n",
              "        }\n",
              "      </script>\n",
              "    </div>\n",
              "  </div>\n",
              "  "
            ]
          },
          "metadata": {},
          "execution_count": 61
        }
      ]
    },
    {
      "cell_type": "code",
      "source": [
        "# we can include multiple columns\n",
        "y = songs_frame[['Album','Length']]\n",
        "y.head()"
      ],
      "metadata": {
        "colab": {
          "base_uri": "https://localhost:8080/",
          "height": 112
        },
        "id": "rCY1Y9R8fpic",
        "outputId": "29154dd9-67c4-4e50-c416-ee81919225d6"
      },
      "execution_count": null,
      "outputs": [
        {
          "output_type": "execute_result",
          "data": {
            "text/plain": [
              "           Album    Length\n",
              "0  Thriller back  00:42:19\n",
              "1  back in black  00:42:11"
            ],
            "text/html": [
              "\n",
              "  <div id=\"df-e1862856-7ee0-4a0c-b32e-a879ae3b7ffe\">\n",
              "    <div class=\"colab-df-container\">\n",
              "      <div>\n",
              "<style scoped>\n",
              "    .dataframe tbody tr th:only-of-type {\n",
              "        vertical-align: middle;\n",
              "    }\n",
              "\n",
              "    .dataframe tbody tr th {\n",
              "        vertical-align: top;\n",
              "    }\n",
              "\n",
              "    .dataframe thead th {\n",
              "        text-align: right;\n",
              "    }\n",
              "</style>\n",
              "<table border=\"1\" class=\"dataframe\">\n",
              "  <thead>\n",
              "    <tr style=\"text-align: right;\">\n",
              "      <th></th>\n",
              "      <th>Album</th>\n",
              "      <th>Length</th>\n",
              "    </tr>\n",
              "  </thead>\n",
              "  <tbody>\n",
              "    <tr>\n",
              "      <th>0</th>\n",
              "      <td>Thriller back</td>\n",
              "      <td>00:42:19</td>\n",
              "    </tr>\n",
              "    <tr>\n",
              "      <th>1</th>\n",
              "      <td>back in black</td>\n",
              "      <td>00:42:11</td>\n",
              "    </tr>\n",
              "  </tbody>\n",
              "</table>\n",
              "</div>\n",
              "      <button class=\"colab-df-convert\" onclick=\"convertToInteractive('df-e1862856-7ee0-4a0c-b32e-a879ae3b7ffe')\"\n",
              "              title=\"Convert this dataframe to an interactive table.\"\n",
              "              style=\"display:none;\">\n",
              "        \n",
              "  <svg xmlns=\"http://www.w3.org/2000/svg\" height=\"24px\"viewBox=\"0 0 24 24\"\n",
              "       width=\"24px\">\n",
              "    <path d=\"M0 0h24v24H0V0z\" fill=\"none\"/>\n",
              "    <path d=\"M18.56 5.44l.94 2.06.94-2.06 2.06-.94-2.06-.94-.94-2.06-.94 2.06-2.06.94zm-11 1L8.5 8.5l.94-2.06 2.06-.94-2.06-.94L8.5 2.5l-.94 2.06-2.06.94zm10 10l.94 2.06.94-2.06 2.06-.94-2.06-.94-.94-2.06-.94 2.06-2.06.94z\"/><path d=\"M17.41 7.96l-1.37-1.37c-.4-.4-.92-.59-1.43-.59-.52 0-1.04.2-1.43.59L10.3 9.45l-7.72 7.72c-.78.78-.78 2.05 0 2.83L4 21.41c.39.39.9.59 1.41.59.51 0 1.02-.2 1.41-.59l7.78-7.78 2.81-2.81c.8-.78.8-2.07 0-2.86zM5.41 20L4 18.59l7.72-7.72 1.47 1.35L5.41 20z\"/>\n",
              "  </svg>\n",
              "      </button>\n",
              "      \n",
              "  <style>\n",
              "    .colab-df-container {\n",
              "      display:flex;\n",
              "      flex-wrap:wrap;\n",
              "      gap: 12px;\n",
              "    }\n",
              "\n",
              "    .colab-df-convert {\n",
              "      background-color: #E8F0FE;\n",
              "      border: none;\n",
              "      border-radius: 50%;\n",
              "      cursor: pointer;\n",
              "      display: none;\n",
              "      fill: #1967D2;\n",
              "      height: 32px;\n",
              "      padding: 0 0 0 0;\n",
              "      width: 32px;\n",
              "    }\n",
              "\n",
              "    .colab-df-convert:hover {\n",
              "      background-color: #E2EBFA;\n",
              "      box-shadow: 0px 1px 2px rgba(60, 64, 67, 0.3), 0px 1px 3px 1px rgba(60, 64, 67, 0.15);\n",
              "      fill: #174EA6;\n",
              "    }\n",
              "\n",
              "    [theme=dark] .colab-df-convert {\n",
              "      background-color: #3B4455;\n",
              "      fill: #D2E3FC;\n",
              "    }\n",
              "\n",
              "    [theme=dark] .colab-df-convert:hover {\n",
              "      background-color: #434B5C;\n",
              "      box-shadow: 0px 1px 3px 1px rgba(0, 0, 0, 0.15);\n",
              "      filter: drop-shadow(0px 1px 2px rgba(0, 0, 0, 0.3));\n",
              "      fill: #FFFFFF;\n",
              "    }\n",
              "  </style>\n",
              "\n",
              "      <script>\n",
              "        const buttonEl =\n",
              "          document.querySelector('#df-e1862856-7ee0-4a0c-b32e-a879ae3b7ffe button.colab-df-convert');\n",
              "        buttonEl.style.display =\n",
              "          google.colab.kernel.accessAllowed ? 'block' : 'none';\n",
              "\n",
              "        async function convertToInteractive(key) {\n",
              "          const element = document.querySelector('#df-e1862856-7ee0-4a0c-b32e-a879ae3b7ffe');\n",
              "          const dataTable =\n",
              "            await google.colab.kernel.invokeFunction('convertToInteractive',\n",
              "                                                     [key], {});\n",
              "          if (!dataTable) return;\n",
              "\n",
              "          const docLinkHtml = 'Like what you see? Visit the ' +\n",
              "            '<a target=\"_blank\" href=https://colab.research.google.com/notebooks/data_table.ipynb>data table notebook</a>'\n",
              "            + ' to learn more about interactive tables.';\n",
              "          element.innerHTML = '';\n",
              "          dataTable['output_type'] = 'display_data';\n",
              "          await google.colab.output.renderOutput(dataTable, element);\n",
              "          const docLink = document.createElement('div');\n",
              "          docLink.innerHTML = docLinkHtml;\n",
              "          element.appendChild(docLink);\n",
              "        }\n",
              "      </script>\n",
              "    </div>\n",
              "  </div>\n",
              "  "
            ]
          },
          "metadata": {},
          "execution_count": 76
        }
      ]
    },
    {
      "cell_type": "code",
      "source": [
        "#to access to an element you can use the iloc, ix is deprecated\n",
        "songs_frame.iloc[0,0]\n",
        "songs_frame.loc[0,'Album'] #with strings"
      ],
      "metadata": {
        "colab": {
          "base_uri": "https://localhost:8080/",
          "height": 36
        },
        "id": "7YEkdnGyf3bw",
        "outputId": "438ce787-61ac-4e4e-f4aa-0d93bc13c831"
      },
      "execution_count": null,
      "outputs": [
        {
          "output_type": "execute_result",
          "data": {
            "text/plain": [
              "'Thriller back'"
            ],
            "application/vnd.google.colaboratory.intrinsic+json": {
              "type": "string"
            }
          },
          "metadata": {},
          "execution_count": 99
        }
      ]
    },
    {
      "cell_type": "code",
      "source": [
        "#question 1\n",
        "#find the second row and first column\n",
        "df.iloc[1,0]"
      ],
      "metadata": {
        "colab": {
          "base_uri": "https://localhost:8080/"
        },
        "id": "nAGc2C_giGZ_",
        "outputId": "c4817283-2204-494d-95e2-deab15a3abb3"
      },
      "execution_count": null,
      "outputs": [
        {
          "output_type": "execute_result",
          "data": {
            "text/plain": [
              "7"
            ]
          },
          "metadata": {},
          "execution_count": 100
        }
      ]
    },
    {
      "cell_type": "code",
      "source": [
        "#question2.\n",
        "#answered in the quiz\n"
      ],
      "metadata": {
        "id": "SfgbfRP4ihsA"
      },
      "execution_count": null,
      "outputs": []
    },
    {
      "cell_type": "markdown",
      "source": [
        "#Module 4 - Working with and savings data with pandas\n",
        "with unique method you can distinct the values<br>\n"
      ],
      "metadata": {
        "id": "ZbxMs0p0jM6H"
      }
    },
    {
      "cell_type": "code",
      "source": [
        "df['Site'].unique()"
      ],
      "metadata": {
        "colab": {
          "base_uri": "https://localhost:8080/"
        },
        "id": "6NPE0VD8jZbQ",
        "outputId": "20e75e10-2771-4a04-91b6-c7722d22c881"
      },
      "execution_count": null,
      "outputs": [
        {
          "output_type": "execute_result",
          "data": {
            "text/plain": [
              "array(['Carrollton', 'ARCADIA', 'SUMTER', 'ENTERPRISE', 'MARSHVILLE',\n",
              "       'BROADWAY', 'NATCHITOCHES', 'MOOREFIELD', 'ELLIJAY', 'LIVE OAK'],\n",
              "      dtype=object)"
            ]
          },
          "metadata": {},
          "execution_count": 102
        }
      ]
    },
    {
      "cell_type": "code",
      "source": [
        "df1=df[df['ID']<15] #the inside gives you trues and false, and with the second just assigned the trues\n",
        "df1"
      ],
      "metadata": {
        "colab": {
          "base_uri": "https://localhost:8080/",
          "height": 452
        },
        "id": "9ZVNe9yUjzI6",
        "outputId": "d5148405-473f-4731-899b-49bc10032407"
      },
      "execution_count": null,
      "outputs": [
        {
          "output_type": "execute_result",
          "data": {
            "text/plain": [
              "   ID        Site       Dept.Type           Job Title  \\\n",
              "0   1  Carrollton           DAPEC              PACKER   \n",
              "1   7     ARCADIA  LIVE RECEIVING       HANGER - LIVE   \n",
              "2   8     ARCADIA  CHILLER REHANG  REHANGER - CHILLER   \n",
              "3   9     ARCADIA  LIVE RECEIVING   OPERATOR - DRAWER   \n",
              "4  10     ARCADIA  CHILLER REHANG      OPERATOR - SAW   \n",
              "5  12      SUMTER  LIVE RECEIVING       HANGER - LIVE   \n",
              "6  13      SUMTER    EVISCERATION  HELPER - INSPECTOR   \n",
              "\n",
              "                                          Video Link     Created By  \\\n",
              "0  https://web.microsoftstream.com/video/2c5c33f7...  Barraza, Luis   \n",
              "1  https://web.microsoftstream.com/video/fcbf2847...  Barraza, Luis   \n",
              "2  https://web.microsoftstream.com/video/8e061752...  Barraza, Luis   \n",
              "3  https://web.microsoftstream.com/video/b5f0261a...  Barraza, Luis   \n",
              "4  https://web.microsoftstream.com/video/f29bd804...  Barraza, Luis   \n",
              "5  https://web.microsoftstream.com/video/3ed02be0...  Barraza, Luis   \n",
              "6  https://web.microsoftstream.com/video/1e8ff58f...  Barraza, Luis   \n",
              "\n",
              "             Created    Modified By            Modified  \n",
              "0  7/5/2021 10:47 PM  Barraza, Luis  7/19/2021 11:34 PM  \n",
              "1  9/6/2021 12:21 PM  Barraza, Luis   9/6/2021 12:21 PM  \n",
              "2  9/6/2021 12:23 PM  Barraza, Luis   9/6/2021 12:23 PM  \n",
              "3  9/6/2021 12:38 PM  Barraza, Luis    9/6/2021 5:21 PM  \n",
              "4  9/6/2021 12:50 PM  Barraza, Luis   9/6/2021 12:50 PM  \n",
              "5  9/7/2021 11:15 AM  Barraza, Luis   9/7/2021 11:15 AM  \n",
              "6  9/7/2021 11:16 AM  Barraza, Luis   9/7/2021 11:16 AM  "
            ],
            "text/html": [
              "\n",
              "  <div id=\"df-34e95cd8-a237-45b4-9f7a-a5da4848259e\">\n",
              "    <div class=\"colab-df-container\">\n",
              "      <div>\n",
              "<style scoped>\n",
              "    .dataframe tbody tr th:only-of-type {\n",
              "        vertical-align: middle;\n",
              "    }\n",
              "\n",
              "    .dataframe tbody tr th {\n",
              "        vertical-align: top;\n",
              "    }\n",
              "\n",
              "    .dataframe thead th {\n",
              "        text-align: right;\n",
              "    }\n",
              "</style>\n",
              "<table border=\"1\" class=\"dataframe\">\n",
              "  <thead>\n",
              "    <tr style=\"text-align: right;\">\n",
              "      <th></th>\n",
              "      <th>ID</th>\n",
              "      <th>Site</th>\n",
              "      <th>Dept.Type</th>\n",
              "      <th>Job Title</th>\n",
              "      <th>Video Link</th>\n",
              "      <th>Created By</th>\n",
              "      <th>Created</th>\n",
              "      <th>Modified By</th>\n",
              "      <th>Modified</th>\n",
              "    </tr>\n",
              "  </thead>\n",
              "  <tbody>\n",
              "    <tr>\n",
              "      <th>0</th>\n",
              "      <td>1</td>\n",
              "      <td>Carrollton</td>\n",
              "      <td>DAPEC</td>\n",
              "      <td>PACKER</td>\n",
              "      <td>https://web.microsoftstream.com/video/2c5c33f7...</td>\n",
              "      <td>Barraza, Luis</td>\n",
              "      <td>7/5/2021 10:47 PM</td>\n",
              "      <td>Barraza, Luis</td>\n",
              "      <td>7/19/2021 11:34 PM</td>\n",
              "    </tr>\n",
              "    <tr>\n",
              "      <th>1</th>\n",
              "      <td>7</td>\n",
              "      <td>ARCADIA</td>\n",
              "      <td>LIVE RECEIVING</td>\n",
              "      <td>HANGER - LIVE</td>\n",
              "      <td>https://web.microsoftstream.com/video/fcbf2847...</td>\n",
              "      <td>Barraza, Luis</td>\n",
              "      <td>9/6/2021 12:21 PM</td>\n",
              "      <td>Barraza, Luis</td>\n",
              "      <td>9/6/2021 12:21 PM</td>\n",
              "    </tr>\n",
              "    <tr>\n",
              "      <th>2</th>\n",
              "      <td>8</td>\n",
              "      <td>ARCADIA</td>\n",
              "      <td>CHILLER REHANG</td>\n",
              "      <td>REHANGER - CHILLER</td>\n",
              "      <td>https://web.microsoftstream.com/video/8e061752...</td>\n",
              "      <td>Barraza, Luis</td>\n",
              "      <td>9/6/2021 12:23 PM</td>\n",
              "      <td>Barraza, Luis</td>\n",
              "      <td>9/6/2021 12:23 PM</td>\n",
              "    </tr>\n",
              "    <tr>\n",
              "      <th>3</th>\n",
              "      <td>9</td>\n",
              "      <td>ARCADIA</td>\n",
              "      <td>LIVE RECEIVING</td>\n",
              "      <td>OPERATOR - DRAWER</td>\n",
              "      <td>https://web.microsoftstream.com/video/b5f0261a...</td>\n",
              "      <td>Barraza, Luis</td>\n",
              "      <td>9/6/2021 12:38 PM</td>\n",
              "      <td>Barraza, Luis</td>\n",
              "      <td>9/6/2021 5:21 PM</td>\n",
              "    </tr>\n",
              "    <tr>\n",
              "      <th>4</th>\n",
              "      <td>10</td>\n",
              "      <td>ARCADIA</td>\n",
              "      <td>CHILLER REHANG</td>\n",
              "      <td>OPERATOR - SAW</td>\n",
              "      <td>https://web.microsoftstream.com/video/f29bd804...</td>\n",
              "      <td>Barraza, Luis</td>\n",
              "      <td>9/6/2021 12:50 PM</td>\n",
              "      <td>Barraza, Luis</td>\n",
              "      <td>9/6/2021 12:50 PM</td>\n",
              "    </tr>\n",
              "    <tr>\n",
              "      <th>5</th>\n",
              "      <td>12</td>\n",
              "      <td>SUMTER</td>\n",
              "      <td>LIVE RECEIVING</td>\n",
              "      <td>HANGER - LIVE</td>\n",
              "      <td>https://web.microsoftstream.com/video/3ed02be0...</td>\n",
              "      <td>Barraza, Luis</td>\n",
              "      <td>9/7/2021 11:15 AM</td>\n",
              "      <td>Barraza, Luis</td>\n",
              "      <td>9/7/2021 11:15 AM</td>\n",
              "    </tr>\n",
              "    <tr>\n",
              "      <th>6</th>\n",
              "      <td>13</td>\n",
              "      <td>SUMTER</td>\n",
              "      <td>EVISCERATION</td>\n",
              "      <td>HELPER - INSPECTOR</td>\n",
              "      <td>https://web.microsoftstream.com/video/1e8ff58f...</td>\n",
              "      <td>Barraza, Luis</td>\n",
              "      <td>9/7/2021 11:16 AM</td>\n",
              "      <td>Barraza, Luis</td>\n",
              "      <td>9/7/2021 11:16 AM</td>\n",
              "    </tr>\n",
              "  </tbody>\n",
              "</table>\n",
              "</div>\n",
              "      <button class=\"colab-df-convert\" onclick=\"convertToInteractive('df-34e95cd8-a237-45b4-9f7a-a5da4848259e')\"\n",
              "              title=\"Convert this dataframe to an interactive table.\"\n",
              "              style=\"display:none;\">\n",
              "        \n",
              "  <svg xmlns=\"http://www.w3.org/2000/svg\" height=\"24px\"viewBox=\"0 0 24 24\"\n",
              "       width=\"24px\">\n",
              "    <path d=\"M0 0h24v24H0V0z\" fill=\"none\"/>\n",
              "    <path d=\"M18.56 5.44l.94 2.06.94-2.06 2.06-.94-2.06-.94-.94-2.06-.94 2.06-2.06.94zm-11 1L8.5 8.5l.94-2.06 2.06-.94-2.06-.94L8.5 2.5l-.94 2.06-2.06.94zm10 10l.94 2.06.94-2.06 2.06-.94-2.06-.94-.94-2.06-.94 2.06-2.06.94z\"/><path d=\"M17.41 7.96l-1.37-1.37c-.4-.4-.92-.59-1.43-.59-.52 0-1.04.2-1.43.59L10.3 9.45l-7.72 7.72c-.78.78-.78 2.05 0 2.83L4 21.41c.39.39.9.59 1.41.59.51 0 1.02-.2 1.41-.59l7.78-7.78 2.81-2.81c.8-.78.8-2.07 0-2.86zM5.41 20L4 18.59l7.72-7.72 1.47 1.35L5.41 20z\"/>\n",
              "  </svg>\n",
              "      </button>\n",
              "      \n",
              "  <style>\n",
              "    .colab-df-container {\n",
              "      display:flex;\n",
              "      flex-wrap:wrap;\n",
              "      gap: 12px;\n",
              "    }\n",
              "\n",
              "    .colab-df-convert {\n",
              "      background-color: #E8F0FE;\n",
              "      border: none;\n",
              "      border-radius: 50%;\n",
              "      cursor: pointer;\n",
              "      display: none;\n",
              "      fill: #1967D2;\n",
              "      height: 32px;\n",
              "      padding: 0 0 0 0;\n",
              "      width: 32px;\n",
              "    }\n",
              "\n",
              "    .colab-df-convert:hover {\n",
              "      background-color: #E2EBFA;\n",
              "      box-shadow: 0px 1px 2px rgba(60, 64, 67, 0.3), 0px 1px 3px 1px rgba(60, 64, 67, 0.15);\n",
              "      fill: #174EA6;\n",
              "    }\n",
              "\n",
              "    [theme=dark] .colab-df-convert {\n",
              "      background-color: #3B4455;\n",
              "      fill: #D2E3FC;\n",
              "    }\n",
              "\n",
              "    [theme=dark] .colab-df-convert:hover {\n",
              "      background-color: #434B5C;\n",
              "      box-shadow: 0px 1px 3px 1px rgba(0, 0, 0, 0.15);\n",
              "      filter: drop-shadow(0px 1px 2px rgba(0, 0, 0, 0.3));\n",
              "      fill: #FFFFFF;\n",
              "    }\n",
              "  </style>\n",
              "\n",
              "      <script>\n",
              "        const buttonEl =\n",
              "          document.querySelector('#df-34e95cd8-a237-45b4-9f7a-a5da4848259e button.colab-df-convert');\n",
              "        buttonEl.style.display =\n",
              "          google.colab.kernel.accessAllowed ? 'block' : 'none';\n",
              "\n",
              "        async function convertToInteractive(key) {\n",
              "          const element = document.querySelector('#df-34e95cd8-a237-45b4-9f7a-a5da4848259e');\n",
              "          const dataTable =\n",
              "            await google.colab.kernel.invokeFunction('convertToInteractive',\n",
              "                                                     [key], {});\n",
              "          if (!dataTable) return;\n",
              "\n",
              "          const docLinkHtml = 'Like what you see? Visit the ' +\n",
              "            '<a target=\"_blank\" href=https://colab.research.google.com/notebooks/data_table.ipynb>data table notebook</a>'\n",
              "            + ' to learn more about interactive tables.';\n",
              "          element.innerHTML = '';\n",
              "          dataTable['output_type'] = 'display_data';\n",
              "          await google.colab.output.renderOutput(dataTable, element);\n",
              "          const docLink = document.createElement('div');\n",
              "          docLink.innerHTML = docLinkHtml;\n",
              "          element.appendChild(docLink);\n",
              "        }\n",
              "      </script>\n",
              "    </div>\n",
              "  </div>\n",
              "  "
            ]
          },
          "metadata": {},
          "execution_count": 111
        }
      ]
    },
    {
      "cell_type": "code",
      "source": [
        "df1.to_csv('Items ID less 15') #to export the data frame to a csv"
      ],
      "metadata": {
        "id": "tTTu754ukg2V"
      },
      "execution_count": null,
      "outputs": []
    },
    {
      "cell_type": "code",
      "source": [
        "#question1\n",
        "import pandas as pd\n",
        "df=pd.DataFrame({'a': [1,2,1], 'b':[1,1,1]})\n",
        "df['a']==1"
      ],
      "metadata": {
        "colab": {
          "base_uri": "https://localhost:8080/"
        },
        "id": "xWtusd3Hkxj1",
        "outputId": "da441156-4ec5-4d45-a05f-bc5909eb356a"
      },
      "execution_count": null,
      "outputs": [
        {
          "output_type": "execute_result",
          "data": {
            "text/plain": [
              "0     True\n",
              "1    False\n",
              "2     True\n",
              "Name: a, dtype: bool"
            ]
          },
          "metadata": {},
          "execution_count": 115
        }
      ]
    },
    {
      "cell_type": "code",
      "source": [
        "#Module 4. Review questions\n",
        "with open('Standard Videos.csv','r') as file1:\n",
        "  FileContent = file1.readlines()\n",
        "  print(FileContent)"
      ],
      "metadata": {
        "id": "ObYFrZAqmHrC",
        "outputId": "3d2c6d73-c83e-4c36-ddb0-7ed9aff800b5",
        "colab": {
          "base_uri": "https://localhost:8080/"
        }
      },
      "execution_count": null,
      "outputs": [
        {
          "output_type": "stream",
          "name": "stdout",
          "text": [
            "['ID,Site,Dept.Type,Job Title,Video Link,Created By,Created,Modified By,Modified\\n', '\"1\",\"Carrollton\",\"DAPEC\",\"PACKER\",\"https://web.microsoftstream.com/video/2c5c33f7-a480-4881-b1b8-ebdef3c64644\",\"Barraza, Luis\",\"7/5/2021 10:47 PM\",\"Barraza, Luis\",\"7/19/2021 11:34 PM\"\\n', '\"7\",\"ARCADIA\",\"LIVE RECEIVING\",\"HANGER - LIVE\",\"https://web.microsoftstream.com/video/fcbf2847-0261-462a-a59b-2d7b29203234?channelId=d07f8c1f-fc74-4327-98c3-e81e640507bc\",\"Barraza, Luis\",\"9/6/2021 12:21 PM\",\"Barraza, Luis\",\"9/6/2021 12:21 PM\"\\n', '\"8\",\"ARCADIA\",\"CHILLER REHANG\",\"REHANGER - CHILLER\",\"https://web.microsoftstream.com/video/8e061752-cf34-4a11-8f4a-68fd813ad631?channelId=d07f8c1f-fc74-4327-98c3-e81e640507bc\",\"Barraza, Luis\",\"9/6/2021 12:23 PM\",\"Barraza, Luis\",\"9/6/2021 12:23 PM\"\\n', '\"9\",\"ARCADIA\",\"LIVE RECEIVING\",\"OPERATOR - DRAWER\",\"https://web.microsoftstream.com/video/b5f0261a-eef7-4dda-bc52-a25e6c247606?channelId=d07f8c1f-fc74-4327-98c3-e81e640507bc\",\"Barraza, Luis\",\"9/6/2021 12:38 PM\",\"Barraza, Luis\",\"9/6/2021 5:21 PM\"\\n', '\"10\",\"ARCADIA\",\"CHILLER REHANG\",\"OPERATOR - SAW\",\"https://web.microsoftstream.com/video/f29bd804-18eb-4fc7-9f91-d7ac6045f3ae?list=studio\",\"Barraza, Luis\",\"9/6/2021 12:50 PM\",\"Barraza, Luis\",\"9/6/2021 12:50 PM\"\\n', '\"12\",\"SUMTER\",\"LIVE RECEIVING\",\"HANGER - LIVE\",\"https://web.microsoftstream.com/video/3ed02be0-b235-46b7-9c6d-dddb42572091?channelId=53c00208-0a28-4c87-9070-84b8c3776d52\",\"Barraza, Luis\",\"9/7/2021 11:15 AM\",\"Barraza, Luis\",\"9/7/2021 11:15 AM\"\\n', '\"13\",\"SUMTER\",\"EVISCERATION\",\"HELPER - INSPECTOR\",\"https://web.microsoftstream.com/video/1e8ff58f-603d-4658-8de7-e5dfd64f83c0?channelId=53c00208-0a28-4c87-9070-84b8c3776d52\",\"Barraza, Luis\",\"9/7/2021 11:16 AM\",\"Barraza, Luis\",\"9/7/2021 11:16 AM\"\\n', '\"15\",\"ENTERPRISE\",\"DELI WOG\",\"LOADER - LINE\",\"https://web.microsoftstream.com/video/770e041d-9062-4ecf-a9f9-47152b34bfaf?channelId=d07f8c1f-fc74-4327-98c3-e81e640507bc\",\"Barraza, Luis\",\"11/24/2021 9:06 AM\",\"Barraza, Luis\",\"11/24/2021 9:06 AM\"\\n', '\"16\",\"ENTERPRISE\",\"DELI WOG\",\"STACKER\",\"https://web.microsoftstream.com/video/a5683730-a80a-4d59-8b10-2343c3587463?channelId=d07f8c1f-fc74-4327-98c3-e81e640507bc\",\"Barraza, Luis\",\"11/24/2021 9:13 AM\",\"Barraza, Luis\",\"11/24/2021 9:13 AM\"\\n', '\"17\",\"ENTERPRISE\",\"DELI WOG\",\"TUCKER - WING\",\"https://web.microsoftstream.com/video/b98bba2e-5d8b-4ef0-902b-ee19c6a47173?channelId=d07f8c1f-fc74-4327-98c3-e81e640507bc\",\"Barraza, Luis\",\"11/29/2021 11:50 AM\",\"Barraza, Luis\",\"11/29/2021 11:50 AM\"\\n', '\"18\",\"ENTERPRISE\",\"DELI WOG\",\"SIZER OPERATOR\",\"https://web.microsoftstream.com/video/303fec5b-2398-4af1-adda-d90769ed7c0b?channelId=d07f8c1f-fc74-4327-98c3-e81e640507bc\",\"Barraza, Luis\",\"11/29/2021 11:51 AM\",\"Barraza, Luis\",\"11/29/2021 11:51 AM\"\\n', '\"20\",\"MARSHVILLE\",\"THIGH DEBONE\",\"TRIMMER - THIGH\",\"https://web.microsoftstream.com/video/5cee8a65-fb2f-4c14-8385-c74c54db729a?list=studio\",\"Kuller, Stephen\",\"2/3/2022 12:03 PM\",\"Kuller, Stephen\",\"2/3/2022 12:03 PM\"\\n', '\"21\",\"BROADWAY\",\"MARINATION\",\"OPERATOR-CVP\",\"https://web.microsoftstream.com/video/5e3f6e78-979b-4826-9604-3126386b7a1a?list=studio\",\"Kuller, Stephen\",\"2/4/2022 6:58 AM\",\"Kuller, Stephen\",\"2/4/2022 6:58 AM\"\\n', '\"22\",\"NATCHITOCHES\",\"DELI WOG\",\"TRUSSER\",\"https://web.microsoftstream.com/video/a0a9c7f7-9de9-4d8c-ba2a-d8e05bc23fba?channelId=d07f8c1f-fc74-4327-98c3-e81e640507bc\",\"Diaz Flores Granados, Jaime\",\"2/4/2022 10:55 AM\",\"Diaz Flores Granados, Jaime\",\"2/4/2022 10:55 AM\"\\n', '\"23\",\"NATCHITOCHES\",\"DELI WOG\",\"LOADER - CONE\",\"https://web.microsoftstream.com/video/7b861b73-57bb-4217-8f0d-8cad7c5bc09c?list=studio\",\"Diaz Flores Granados, Jaime\",\"2/4/2022 11:39 AM\",\"Diaz Flores Granados, Jaime\",\"2/4/2022 11:39 AM\"\\n', '\"24\",\"NATCHITOCHES\",\"DELI WOG\",\"OPERATOR - CVP\",\"https://web.microsoftstream.com/video/8de15582-449c-435d-a5ff-a844bcb243af?list=studio\",\"Diaz Flores Granados, Jaime\",\"2/4/2022 11:51 AM\",\"Diaz Flores Granados, Jaime\",\"2/4/2022 11:51 AM\"\\n', '\"26\",\"ARCADIA\",\"DAPEC\",\"PACKER\",\"https://web.microsoftstream.com/video/4df68bad-bcbc-410d-9592-1e4516086da5?list=studio\",\"Barraza, Luis\",\"2/21/2022 12:52 PM\",\"Barraza, Luis\",\"2/21/2022 12:52 PM\"\\n', '\"27\",\"MOOREFIELD\",\"DAPEC\",\"PACKER\",\"https://web.microsoftstream.com/video/0f16b23c-e269-49e6-a73f-8e41ecbaba25?list=studio\",\"Diaz Flores Granados, Jaime\",\"2/21/2022 12:54 PM\",\"Diaz Flores Granados, Jaime\",\"2/21/2022 12:54 PM\"\\n', '\"28\",\"NATCHITOCHES\",\"DAPEC\",\"PACKER\",\"https://web.microsoftstream.com/video/263edc8f-8d02-4d93-ba33-a3aac2e50a50?list=studio\",\"Diaz Flores Granados, Jaime\",\"2/21/2022 1:18 PM\",\"Diaz Flores Granados, Jaime\",\"2/21/2022 1:18 PM\"\\n', '\"29\",\"ARCADIA\",\"LIVE RECEIVING\",\"OPERATOR - FORKLIFT\",\"https://web.microsoftstream.com/video/6ef64e79-75f6-4ade-ab4b-76388b5b4df3?list=studio\",\"Diaz Flores Granados, Jaime\",\"2/24/2022 9:41 AM\",\"Diaz Flores Granados, Jaime\",\"2/24/2022 9:41 AM\"\\n', '\"30\",\"ARCADIA\",\"RUB BIRDS\",\"OPERATOR - BAND SEALER\",\"https://web.microsoftstream.com/video/f1225497-21a0-4eea-b48d-28311f94a286?list=studio\",\"Diaz Flores Granados, Jaime\",\"2/24/2022 10:12 AM\",\"Diaz Flores Granados, Jaime\",\"2/24/2022 10:12 AM\"\\n', '\"31\",\"ARCADIA\",\"RUB BIRDS\",\"OPERATOR - BAGGER (INNER)\",\"https://web.microsoftstream.com/video/b1225cb1-dfed-42c8-ad60-091e2e2db839?list=studio\",\"Diaz Flores Granados, Jaime\",\"2/24/2022 10:15 AM\",\"Diaz Flores Granados, Jaime\",\"2/24/2022 10:15 AM\"\\n', '\"32\",\"ARCADIA\",\"RUB BIRDS\",\"OPERATOR - BAGGER (OUTER)\",\"https://web.microsoftstream.com/video/4899870a-af78-4600-aee2-17ccbb025066?list=studio\",\"Diaz Flores Granados, Jaime\",\"2/24/2022 10:21 AM\",\"Diaz Flores Granados, Jaime\",\"2/24/2022 10:21 AM\"\\n', '\"33\",\"ARCADIA\",\"RUB BIRDS\",\"OPERATOR - TIPER TIE\",\"https://web.microsoftstream.com/video/629eb3c8-d2b9-463a-8706-12b6eb6287bc?list=studio\",\"Diaz Flores Granados, Jaime\",\"2/24/2022 10:33 AM\",\"Diaz Flores Granados, Jaime\",\"2/24/2022 10:33 AM\"\\n', '\"34\",\"ARCADIA\",\"CORR VAC\",\"OPERATOR - CVP\",\"https://web.microsoftstream.com/video/6fa6a314-12f1-4e33-b69c-af221c3005e0?list=studio\",\"Diaz Flores Granados, Jaime\",\"2/24/2022 10:47 AM\",\"Diaz Flores Granados, Jaime\",\"2/24/2022 10:47 AM\"\\n', '\"35\",\"ARCADIA\",\"DAPEC\",\"OPERATOR - SCALE\",\"https://web.microsoftstream.com/video/6fa6a314-12f1-4e33-b69c-af221c3005e0?list=studio\",\"Diaz Flores Granados, Jaime\",\"2/24/2022 10:48 AM\",\"Diaz Flores Granados, Jaime\",\"2/24/2022 10:48 AM\"\\n', '\"36\",\"ENTERPRISE\",\"DAPEC\",\"PACKER\",\"https://web.microsoftstream.com/video/c3714123-39b4-4c1e-bce3-a8ba7c6b5a05?list=studio\",\"Diaz Flores Granados, Jaime\",\"3/2/2022 3:17 PM\",\"Diaz Flores Granados, Jaime\",\"3/2/2022 3:17 PM\"\\n', '\"37\",\"ARCADIA\",\"DAPEC\",\"REHANG - DAPEC\",\"https://web.microsoftstream.com/video/b9915283-f9cf-463e-bbff-70d651af7e81?list=studio\",\"Diaz Flores Granados, Jaime\",\"3/7/2022 3:34 PM\",\"Diaz Flores Granados, Jaime\",\"3/7/2022 3:34 PM\"\\n', '\"39\",\"ELLIJAY\",\"DAPEC\",\"PACKER\",\"https://web.microsoftstream.com/video/7f273aaf-35d0-4b88-8c16-2894e61e4633\",\"Cruz Gonzalez, Isaac\",\"3/18/2022 12:44 PM\",\"Cruz Gonzalez, Isaac\",\"3/18/2022 12:44 PM\"\\n', '\"40\",\"LIVE OAK\",\"DEBONE PACKOUT\",\"PACKER - TENDER\",\"https://web.microsoftstream.com/video/aa2f14f9-54eb-4abc-8d18-376a61b0dce7\\n', '\\n', 'https://web.microsoftstream.com/video/c52dbd66-7cc1-47f5-b501-ad0d132f37a8\",\"Santiago Rosas, Ramiro\",\"3/21/2022 11:26 AM\",\"Santiago Rosas, Ramiro\",\"3/21/2022 11:51 AM\"\\n', '\"41\",\"LIVE OAK\",\"DEBONE PACKOUT\",\"PACKER - BREAST\",\"https://web.microsoftstream.com/video/bc05eb10-6428-4c28-acb6-b4f1108eed8c\",\"Santiago Rosas, Ramiro\",\"3/21/2022 11:58 AM\",\"Santiago Rosas, Ramiro\",\"3/21/2022 11:58 AM\"\\n', '\"42\",\"LIVE OAK\",\"DEBONE PACKOUT\",\"LOADER - WINGS\",\"https://web.microsoftstream.com/video/89a90793-2726-4f9c-b07a-72dc23b6cd96\",\"Santiago Rosas, Ramiro\",\"3/21/2022 12:55 PM\",\"Santiago Rosas, Ramiro\",\"3/21/2022 12:55 PM\"\\n', '\"43\",\"LIVE OAK\",\"DEBONE PACKOUT\",\"PACKER\",\"https://web.microsoftstream.com/video/2da61c04-ba2a-43c4-96db-02f0c3167d32\",\"Santiago Rosas, Ramiro\",\"3/21/2022 12:56 PM\",\"Santiago Rosas, Ramiro\",\"3/21/2022 12:56 PM\"\\n', '\"44\",\"LIVE OAK\",\"DEBONE PACKOUT\",\"PACKER - WINGS\",\"https://web.microsoftstream.com/video/a339cff4-1cc1-4b50-818e-7ff3a2397f2b\",\"Santiago Rosas, Ramiro\",\"3/21/2022 12:57 PM\",\"Santiago Rosas, Ramiro\",\"3/21/2022 12:57 PM\"\\n', '\"45\",\"LIVE OAK\",\"DEBONE\",\"TRIMMER - BREAST\",\"https://web.microsoftstream.com/video/3f2ef0e2-b8ee-43dc-8f9b-f2e4f7c078b4\",\"Santiago Rosas, Ramiro\",\"4/29/2022 7:51 AM\",\"Santiago Rosas, Ramiro\",\"4/29/2022 7:55 AM\"\\n', '\"46\",\"LIVE OAK\",\"DEBONE\",\"LOADER\",\"https://web.microsoftstream.com/video/3ed83328-4254-43a2-8129-a34e0d0a50e3\",\"Santiago Rosas, Ramiro\",\"4/29/2022 8:26 AM\",\"Santiago Rosas, Ramiro\",\"4/29/2022 8:26 AM\"\\n']\n"
          ]
        }
      ]
    },
    {
      "cell_type": "markdown",
      "source": [
        "#Module 4 - Lab Intruduccion to Pandas in Python"
      ],
      "metadata": {
        "id": "fCbNWU7MFxII"
      }
    },
    {
      "cell_type": "code",
      "source": [
        "#Donwload files to work the lab from a share folder\n",
        "\n",
        "from google.colab import drive\n",
        "drive.mount('/content/drive')\n",
        "\n",
        "filenamepath = \"/content/drive/Shareddrives/IBM Labs shared/Modulo4/TopSellingAlbums.csv\"\n",
        "\n"
      ],
      "metadata": {
        "id": "sz8hBCX7H4d_",
        "outputId": "66f96dfd-88e3-49cb-cb91-ef408dfd58e2",
        "colab": {
          "base_uri": "https://localhost:8080/"
        }
      },
      "execution_count": null,
      "outputs": [
        {
          "output_type": "stream",
          "name": "stdout",
          "text": [
            "Mounted at /content/drive\n"
          ]
        }
      ]
    },
    {
      "cell_type": "code",
      "source": [
        "import pandas as pd\n",
        "df = pd.read_csv(filenamepath)\n",
        "df.head()"
      ],
      "metadata": {
        "id": "VCoKhKrKJXgr",
        "outputId": "de7ff89d-2481-44bd-a356-ed1498d3779f",
        "colab": {
          "base_uri": "https://localhost:8080/",
          "height": 206
        }
      },
      "execution_count": null,
      "outputs": [
        {
          "output_type": "execute_result",
          "data": {
            "text/plain": [
              "            Artist                      Album  Released   Length  \\\n",
              "0  Michael Jackson                   Thriller      1982  0:42:19   \n",
              "1            AC/DC              Back in Black      1980  0:42:11   \n",
              "2       Pink Floyd  The Dark Side of the Moon      1973  0:42:49   \n",
              "3  Whitney Houston              The Bodyguard      1992  0:57:44   \n",
              "4        Meat Loaf            Bat Out of Hell      1977  0:46:33   \n",
              "\n",
              "                         Genre  Music Recording Sales (millions)  \\\n",
              "0               pop, rock, R&B                              46.0   \n",
              "1                    hard rock                              26.1   \n",
              "2             progressive rock                              24.2   \n",
              "3               R&B, soul, pop                              27.4   \n",
              "4  hard rock, progressive rock                              20.6   \n",
              "\n",
              "   Claimed Sales (millions) Released.1 Soundtrack  Rating  \n",
              "0                        65  30-Nov-82        NaN    10.0  \n",
              "1                        50  25-Jul-80        NaN     9.5  \n",
              "2                        45  01-Mar-73        NaN     9.0  \n",
              "3                        44  17-Nov-92          Y     8.5  \n",
              "4                        43  21-Oct-77        NaN     8.0  "
            ],
            "text/html": [
              "\n",
              "  <div id=\"df-3f79abc4-f9e5-422c-b63c-2cf390d364a0\">\n",
              "    <div class=\"colab-df-container\">\n",
              "      <div>\n",
              "<style scoped>\n",
              "    .dataframe tbody tr th:only-of-type {\n",
              "        vertical-align: middle;\n",
              "    }\n",
              "\n",
              "    .dataframe tbody tr th {\n",
              "        vertical-align: top;\n",
              "    }\n",
              "\n",
              "    .dataframe thead th {\n",
              "        text-align: right;\n",
              "    }\n",
              "</style>\n",
              "<table border=\"1\" class=\"dataframe\">\n",
              "  <thead>\n",
              "    <tr style=\"text-align: right;\">\n",
              "      <th></th>\n",
              "      <th>Artist</th>\n",
              "      <th>Album</th>\n",
              "      <th>Released</th>\n",
              "      <th>Length</th>\n",
              "      <th>Genre</th>\n",
              "      <th>Music Recording Sales (millions)</th>\n",
              "      <th>Claimed Sales (millions)</th>\n",
              "      <th>Released.1</th>\n",
              "      <th>Soundtrack</th>\n",
              "      <th>Rating</th>\n",
              "    </tr>\n",
              "  </thead>\n",
              "  <tbody>\n",
              "    <tr>\n",
              "      <th>0</th>\n",
              "      <td>Michael Jackson</td>\n",
              "      <td>Thriller</td>\n",
              "      <td>1982</td>\n",
              "      <td>0:42:19</td>\n",
              "      <td>pop, rock, R&amp;B</td>\n",
              "      <td>46.0</td>\n",
              "      <td>65</td>\n",
              "      <td>30-Nov-82</td>\n",
              "      <td>NaN</td>\n",
              "      <td>10.0</td>\n",
              "    </tr>\n",
              "    <tr>\n",
              "      <th>1</th>\n",
              "      <td>AC/DC</td>\n",
              "      <td>Back in Black</td>\n",
              "      <td>1980</td>\n",
              "      <td>0:42:11</td>\n",
              "      <td>hard rock</td>\n",
              "      <td>26.1</td>\n",
              "      <td>50</td>\n",
              "      <td>25-Jul-80</td>\n",
              "      <td>NaN</td>\n",
              "      <td>9.5</td>\n",
              "    </tr>\n",
              "    <tr>\n",
              "      <th>2</th>\n",
              "      <td>Pink Floyd</td>\n",
              "      <td>The Dark Side of the Moon</td>\n",
              "      <td>1973</td>\n",
              "      <td>0:42:49</td>\n",
              "      <td>progressive rock</td>\n",
              "      <td>24.2</td>\n",
              "      <td>45</td>\n",
              "      <td>01-Mar-73</td>\n",
              "      <td>NaN</td>\n",
              "      <td>9.0</td>\n",
              "    </tr>\n",
              "    <tr>\n",
              "      <th>3</th>\n",
              "      <td>Whitney Houston</td>\n",
              "      <td>The Bodyguard</td>\n",
              "      <td>1992</td>\n",
              "      <td>0:57:44</td>\n",
              "      <td>R&amp;B, soul, pop</td>\n",
              "      <td>27.4</td>\n",
              "      <td>44</td>\n",
              "      <td>17-Nov-92</td>\n",
              "      <td>Y</td>\n",
              "      <td>8.5</td>\n",
              "    </tr>\n",
              "    <tr>\n",
              "      <th>4</th>\n",
              "      <td>Meat Loaf</td>\n",
              "      <td>Bat Out of Hell</td>\n",
              "      <td>1977</td>\n",
              "      <td>0:46:33</td>\n",
              "      <td>hard rock, progressive rock</td>\n",
              "      <td>20.6</td>\n",
              "      <td>43</td>\n",
              "      <td>21-Oct-77</td>\n",
              "      <td>NaN</td>\n",
              "      <td>8.0</td>\n",
              "    </tr>\n",
              "  </tbody>\n",
              "</table>\n",
              "</div>\n",
              "      <button class=\"colab-df-convert\" onclick=\"convertToInteractive('df-3f79abc4-f9e5-422c-b63c-2cf390d364a0')\"\n",
              "              title=\"Convert this dataframe to an interactive table.\"\n",
              "              style=\"display:none;\">\n",
              "        \n",
              "  <svg xmlns=\"http://www.w3.org/2000/svg\" height=\"24px\"viewBox=\"0 0 24 24\"\n",
              "       width=\"24px\">\n",
              "    <path d=\"M0 0h24v24H0V0z\" fill=\"none\"/>\n",
              "    <path d=\"M18.56 5.44l.94 2.06.94-2.06 2.06-.94-2.06-.94-.94-2.06-.94 2.06-2.06.94zm-11 1L8.5 8.5l.94-2.06 2.06-.94-2.06-.94L8.5 2.5l-.94 2.06-2.06.94zm10 10l.94 2.06.94-2.06 2.06-.94-2.06-.94-.94-2.06-.94 2.06-2.06.94z\"/><path d=\"M17.41 7.96l-1.37-1.37c-.4-.4-.92-.59-1.43-.59-.52 0-1.04.2-1.43.59L10.3 9.45l-7.72 7.72c-.78.78-.78 2.05 0 2.83L4 21.41c.39.39.9.59 1.41.59.51 0 1.02-.2 1.41-.59l7.78-7.78 2.81-2.81c.8-.78.8-2.07 0-2.86zM5.41 20L4 18.59l7.72-7.72 1.47 1.35L5.41 20z\"/>\n",
              "  </svg>\n",
              "      </button>\n",
              "      \n",
              "  <style>\n",
              "    .colab-df-container {\n",
              "      display:flex;\n",
              "      flex-wrap:wrap;\n",
              "      gap: 12px;\n",
              "    }\n",
              "\n",
              "    .colab-df-convert {\n",
              "      background-color: #E8F0FE;\n",
              "      border: none;\n",
              "      border-radius: 50%;\n",
              "      cursor: pointer;\n",
              "      display: none;\n",
              "      fill: #1967D2;\n",
              "      height: 32px;\n",
              "      padding: 0 0 0 0;\n",
              "      width: 32px;\n",
              "    }\n",
              "\n",
              "    .colab-df-convert:hover {\n",
              "      background-color: #E2EBFA;\n",
              "      box-shadow: 0px 1px 2px rgba(60, 64, 67, 0.3), 0px 1px 3px 1px rgba(60, 64, 67, 0.15);\n",
              "      fill: #174EA6;\n",
              "    }\n",
              "\n",
              "    [theme=dark] .colab-df-convert {\n",
              "      background-color: #3B4455;\n",
              "      fill: #D2E3FC;\n",
              "    }\n",
              "\n",
              "    [theme=dark] .colab-df-convert:hover {\n",
              "      background-color: #434B5C;\n",
              "      box-shadow: 0px 1px 3px 1px rgba(0, 0, 0, 0.15);\n",
              "      filter: drop-shadow(0px 1px 2px rgba(0, 0, 0, 0.3));\n",
              "      fill: #FFFFFF;\n",
              "    }\n",
              "  </style>\n",
              "\n",
              "      <script>\n",
              "        const buttonEl =\n",
              "          document.querySelector('#df-3f79abc4-f9e5-422c-b63c-2cf390d364a0 button.colab-df-convert');\n",
              "        buttonEl.style.display =\n",
              "          google.colab.kernel.accessAllowed ? 'block' : 'none';\n",
              "\n",
              "        async function convertToInteractive(key) {\n",
              "          const element = document.querySelector('#df-3f79abc4-f9e5-422c-b63c-2cf390d364a0');\n",
              "          const dataTable =\n",
              "            await google.colab.kernel.invokeFunction('convertToInteractive',\n",
              "                                                     [key], {});\n",
              "          if (!dataTable) return;\n",
              "\n",
              "          const docLinkHtml = 'Like what you see? Visit the ' +\n",
              "            '<a target=\"_blank\" href=https://colab.research.google.com/notebooks/data_table.ipynb>data table notebook</a>'\n",
              "            + ' to learn more about interactive tables.';\n",
              "          element.innerHTML = '';\n",
              "          dataTable['output_type'] = 'display_data';\n",
              "          await google.colab.output.renderOutput(dataTable, element);\n",
              "          const docLink = document.createElement('div');\n",
              "          docLink.innerHTML = docLinkHtml;\n",
              "          element.appendChild(docLink);\n",
              "        }\n",
              "      </script>\n",
              "    </div>\n",
              "  </div>\n",
              "  "
            ]
          },
          "metadata": {},
          "execution_count": 3
        }
      ]
    },
    {
      "cell_type": "code",
      "source": [
        "#access column \"length\"\n",
        "x = df[['Length']] #with this we create a dataframe called x with the \"Length\" column information\n",
        "x"
      ],
      "metadata": {
        "id": "hJFbchPpJw76",
        "outputId": "b3db715b-5d32-470b-82e2-0135820bc7fa",
        "colab": {
          "base_uri": "https://localhost:8080/",
          "height": 300
        }
      },
      "execution_count": null,
      "outputs": [
        {
          "output_type": "execute_result",
          "data": {
            "text/plain": [
              "    Length\n",
              "0  0:42:19\n",
              "1  0:42:11\n",
              "2  0:42:49\n",
              "3  0:57:44\n",
              "4  0:46:33\n",
              "5  0:43:08\n",
              "6  1:15:54\n",
              "7  0:40:01"
            ],
            "text/html": [
              "\n",
              "  <div id=\"df-a38578a2-89ee-4a8c-b1a8-1fc775eb0716\">\n",
              "    <div class=\"colab-df-container\">\n",
              "      <div>\n",
              "<style scoped>\n",
              "    .dataframe tbody tr th:only-of-type {\n",
              "        vertical-align: middle;\n",
              "    }\n",
              "\n",
              "    .dataframe tbody tr th {\n",
              "        vertical-align: top;\n",
              "    }\n",
              "\n",
              "    .dataframe thead th {\n",
              "        text-align: right;\n",
              "    }\n",
              "</style>\n",
              "<table border=\"1\" class=\"dataframe\">\n",
              "  <thead>\n",
              "    <tr style=\"text-align: right;\">\n",
              "      <th></th>\n",
              "      <th>Length</th>\n",
              "    </tr>\n",
              "  </thead>\n",
              "  <tbody>\n",
              "    <tr>\n",
              "      <th>0</th>\n",
              "      <td>0:42:19</td>\n",
              "    </tr>\n",
              "    <tr>\n",
              "      <th>1</th>\n",
              "      <td>0:42:11</td>\n",
              "    </tr>\n",
              "    <tr>\n",
              "      <th>2</th>\n",
              "      <td>0:42:49</td>\n",
              "    </tr>\n",
              "    <tr>\n",
              "      <th>3</th>\n",
              "      <td>0:57:44</td>\n",
              "    </tr>\n",
              "    <tr>\n",
              "      <th>4</th>\n",
              "      <td>0:46:33</td>\n",
              "    </tr>\n",
              "    <tr>\n",
              "      <th>5</th>\n",
              "      <td>0:43:08</td>\n",
              "    </tr>\n",
              "    <tr>\n",
              "      <th>6</th>\n",
              "      <td>1:15:54</td>\n",
              "    </tr>\n",
              "    <tr>\n",
              "      <th>7</th>\n",
              "      <td>0:40:01</td>\n",
              "    </tr>\n",
              "  </tbody>\n",
              "</table>\n",
              "</div>\n",
              "      <button class=\"colab-df-convert\" onclick=\"convertToInteractive('df-a38578a2-89ee-4a8c-b1a8-1fc775eb0716')\"\n",
              "              title=\"Convert this dataframe to an interactive table.\"\n",
              "              style=\"display:none;\">\n",
              "        \n",
              "  <svg xmlns=\"http://www.w3.org/2000/svg\" height=\"24px\"viewBox=\"0 0 24 24\"\n",
              "       width=\"24px\">\n",
              "    <path d=\"M0 0h24v24H0V0z\" fill=\"none\"/>\n",
              "    <path d=\"M18.56 5.44l.94 2.06.94-2.06 2.06-.94-2.06-.94-.94-2.06-.94 2.06-2.06.94zm-11 1L8.5 8.5l.94-2.06 2.06-.94-2.06-.94L8.5 2.5l-.94 2.06-2.06.94zm10 10l.94 2.06.94-2.06 2.06-.94-2.06-.94-.94-2.06-.94 2.06-2.06.94z\"/><path d=\"M17.41 7.96l-1.37-1.37c-.4-.4-.92-.59-1.43-.59-.52 0-1.04.2-1.43.59L10.3 9.45l-7.72 7.72c-.78.78-.78 2.05 0 2.83L4 21.41c.39.39.9.59 1.41.59.51 0 1.02-.2 1.41-.59l7.78-7.78 2.81-2.81c.8-.78.8-2.07 0-2.86zM5.41 20L4 18.59l7.72-7.72 1.47 1.35L5.41 20z\"/>\n",
              "  </svg>\n",
              "      </button>\n",
              "      \n",
              "  <style>\n",
              "    .colab-df-container {\n",
              "      display:flex;\n",
              "      flex-wrap:wrap;\n",
              "      gap: 12px;\n",
              "    }\n",
              "\n",
              "    .colab-df-convert {\n",
              "      background-color: #E8F0FE;\n",
              "      border: none;\n",
              "      border-radius: 50%;\n",
              "      cursor: pointer;\n",
              "      display: none;\n",
              "      fill: #1967D2;\n",
              "      height: 32px;\n",
              "      padding: 0 0 0 0;\n",
              "      width: 32px;\n",
              "    }\n",
              "\n",
              "    .colab-df-convert:hover {\n",
              "      background-color: #E2EBFA;\n",
              "      box-shadow: 0px 1px 2px rgba(60, 64, 67, 0.3), 0px 1px 3px 1px rgba(60, 64, 67, 0.15);\n",
              "      fill: #174EA6;\n",
              "    }\n",
              "\n",
              "    [theme=dark] .colab-df-convert {\n",
              "      background-color: #3B4455;\n",
              "      fill: #D2E3FC;\n",
              "    }\n",
              "\n",
              "    [theme=dark] .colab-df-convert:hover {\n",
              "      background-color: #434B5C;\n",
              "      box-shadow: 0px 1px 3px 1px rgba(0, 0, 0, 0.15);\n",
              "      filter: drop-shadow(0px 1px 2px rgba(0, 0, 0, 0.3));\n",
              "      fill: #FFFFFF;\n",
              "    }\n",
              "  </style>\n",
              "\n",
              "      <script>\n",
              "        const buttonEl =\n",
              "          document.querySelector('#df-a38578a2-89ee-4a8c-b1a8-1fc775eb0716 button.colab-df-convert');\n",
              "        buttonEl.style.display =\n",
              "          google.colab.kernel.accessAllowed ? 'block' : 'none';\n",
              "\n",
              "        async function convertToInteractive(key) {\n",
              "          const element = document.querySelector('#df-a38578a2-89ee-4a8c-b1a8-1fc775eb0716');\n",
              "          const dataTable =\n",
              "            await google.colab.kernel.invokeFunction('convertToInteractive',\n",
              "                                                     [key], {});\n",
              "          if (!dataTable) return;\n",
              "\n",
              "          const docLinkHtml = 'Like what you see? Visit the ' +\n",
              "            '<a target=\"_blank\" href=https://colab.research.google.com/notebooks/data_table.ipynb>data table notebook</a>'\n",
              "            + ' to learn more about interactive tables.';\n",
              "          element.innerHTML = '';\n",
              "          dataTable['output_type'] = 'display_data';\n",
              "          await google.colab.output.renderOutput(dataTable, element);\n",
              "          const docLink = document.createElement('div');\n",
              "          docLink.innerHTML = docLinkHtml;\n",
              "          element.appendChild(docLink);\n",
              "        }\n",
              "      </script>\n",
              "    </div>\n",
              "  </div>\n",
              "  "
            ]
          },
          "metadata": {},
          "execution_count": 8
        }
      ]
    },
    {
      "cell_type": "code",
      "source": [
        "type(x)"
      ],
      "metadata": {
        "id": "D7JqYORiKOM2",
        "outputId": "1d979d4a-99c4-4bcc-830d-3d4d49ac8caa",
        "colab": {
          "base_uri": "https://localhost:8080/"
        }
      },
      "execution_count": null,
      "outputs": [
        {
          "output_type": "execute_result",
          "data": {
            "text/plain": [
              "pandas.core.frame.DataFrame"
            ]
          },
          "metadata": {},
          "execution_count": 9
        }
      ]
    },
    {
      "cell_type": "code",
      "source": [
        "#get the column as a series\n",
        "x = df['Length']\n",
        "x"
      ],
      "metadata": {
        "id": "ok8WQWJ5KE6A",
        "outputId": "2e619742-1e2d-4a13-bfd8-0764c028514d",
        "colab": {
          "base_uri": "https://localhost:8080/"
        }
      },
      "execution_count": null,
      "outputs": [
        {
          "output_type": "execute_result",
          "data": {
            "text/plain": [
              "0    0:42:19\n",
              "1    0:42:11\n",
              "2    0:42:49\n",
              "3    0:57:44\n",
              "4    0:46:33\n",
              "5    0:43:08\n",
              "6    1:15:54\n",
              "7    0:40:01\n",
              "Name: Length, dtype: object"
            ]
          },
          "metadata": {},
          "execution_count": 10
        }
      ]
    },
    {
      "cell_type": "code",
      "source": [
        "type(x)"
      ],
      "metadata": {
        "id": "oY9-zCO6KY5q",
        "outputId": "56dbc98b-637c-4e99-9c48-244a9ba1f1bf",
        "colab": {
          "base_uri": "https://localhost:8080/"
        }
      },
      "execution_count": null,
      "outputs": [
        {
          "output_type": "execute_result",
          "data": {
            "text/plain": [
              "pandas.core.series.Series"
            ]
          },
          "metadata": {},
          "execution_count": 11
        }
      ]
    },
    {
      "cell_type": "code",
      "source": [
        "#create a dataframe with multiple columns\n",
        "y = df[['Artist','Length','Genre']]\n",
        "y"
      ],
      "metadata": {
        "id": "gZGpinqpKiep",
        "outputId": "b1ad7db2-4e91-47f6-a5c3-158d9fb0a6fc",
        "colab": {
          "base_uri": "https://localhost:8080/",
          "height": 300
        }
      },
      "execution_count": null,
      "outputs": [
        {
          "output_type": "execute_result",
          "data": {
            "text/plain": [
              "            Artist   Length                        Genre\n",
              "0  Michael Jackson  0:42:19               pop, rock, R&B\n",
              "1            AC/DC  0:42:11                    hard rock\n",
              "2       Pink Floyd  0:42:49             progressive rock\n",
              "3  Whitney Houston  0:57:44               R&B, soul, pop\n",
              "4        Meat Loaf  0:46:33  hard rock, progressive rock\n",
              "5           Eagles  0:43:08   rock, soft rock, folk rock\n",
              "6         Bee Gees  1:15:54                        disco\n",
              "7    Fleetwood Mac  0:40:01                    soft rock"
            ],
            "text/html": [
              "\n",
              "  <div id=\"df-fc9c97da-2054-4431-8992-47dd4fdf5de1\">\n",
              "    <div class=\"colab-df-container\">\n",
              "      <div>\n",
              "<style scoped>\n",
              "    .dataframe tbody tr th:only-of-type {\n",
              "        vertical-align: middle;\n",
              "    }\n",
              "\n",
              "    .dataframe tbody tr th {\n",
              "        vertical-align: top;\n",
              "    }\n",
              "\n",
              "    .dataframe thead th {\n",
              "        text-align: right;\n",
              "    }\n",
              "</style>\n",
              "<table border=\"1\" class=\"dataframe\">\n",
              "  <thead>\n",
              "    <tr style=\"text-align: right;\">\n",
              "      <th></th>\n",
              "      <th>Artist</th>\n",
              "      <th>Length</th>\n",
              "      <th>Genre</th>\n",
              "    </tr>\n",
              "  </thead>\n",
              "  <tbody>\n",
              "    <tr>\n",
              "      <th>0</th>\n",
              "      <td>Michael Jackson</td>\n",
              "      <td>0:42:19</td>\n",
              "      <td>pop, rock, R&amp;B</td>\n",
              "    </tr>\n",
              "    <tr>\n",
              "      <th>1</th>\n",
              "      <td>AC/DC</td>\n",
              "      <td>0:42:11</td>\n",
              "      <td>hard rock</td>\n",
              "    </tr>\n",
              "    <tr>\n",
              "      <th>2</th>\n",
              "      <td>Pink Floyd</td>\n",
              "      <td>0:42:49</td>\n",
              "      <td>progressive rock</td>\n",
              "    </tr>\n",
              "    <tr>\n",
              "      <th>3</th>\n",
              "      <td>Whitney Houston</td>\n",
              "      <td>0:57:44</td>\n",
              "      <td>R&amp;B, soul, pop</td>\n",
              "    </tr>\n",
              "    <tr>\n",
              "      <th>4</th>\n",
              "      <td>Meat Loaf</td>\n",
              "      <td>0:46:33</td>\n",
              "      <td>hard rock, progressive rock</td>\n",
              "    </tr>\n",
              "    <tr>\n",
              "      <th>5</th>\n",
              "      <td>Eagles</td>\n",
              "      <td>0:43:08</td>\n",
              "      <td>rock, soft rock, folk rock</td>\n",
              "    </tr>\n",
              "    <tr>\n",
              "      <th>6</th>\n",
              "      <td>Bee Gees</td>\n",
              "      <td>1:15:54</td>\n",
              "      <td>disco</td>\n",
              "    </tr>\n",
              "    <tr>\n",
              "      <th>7</th>\n",
              "      <td>Fleetwood Mac</td>\n",
              "      <td>0:40:01</td>\n",
              "      <td>soft rock</td>\n",
              "    </tr>\n",
              "  </tbody>\n",
              "</table>\n",
              "</div>\n",
              "      <button class=\"colab-df-convert\" onclick=\"convertToInteractive('df-fc9c97da-2054-4431-8992-47dd4fdf5de1')\"\n",
              "              title=\"Convert this dataframe to an interactive table.\"\n",
              "              style=\"display:none;\">\n",
              "        \n",
              "  <svg xmlns=\"http://www.w3.org/2000/svg\" height=\"24px\"viewBox=\"0 0 24 24\"\n",
              "       width=\"24px\">\n",
              "    <path d=\"M0 0h24v24H0V0z\" fill=\"none\"/>\n",
              "    <path d=\"M18.56 5.44l.94 2.06.94-2.06 2.06-.94-2.06-.94-.94-2.06-.94 2.06-2.06.94zm-11 1L8.5 8.5l.94-2.06 2.06-.94-2.06-.94L8.5 2.5l-.94 2.06-2.06.94zm10 10l.94 2.06.94-2.06 2.06-.94-2.06-.94-.94-2.06-.94 2.06-2.06.94z\"/><path d=\"M17.41 7.96l-1.37-1.37c-.4-.4-.92-.59-1.43-.59-.52 0-1.04.2-1.43.59L10.3 9.45l-7.72 7.72c-.78.78-.78 2.05 0 2.83L4 21.41c.39.39.9.59 1.41.59.51 0 1.02-.2 1.41-.59l7.78-7.78 2.81-2.81c.8-.78.8-2.07 0-2.86zM5.41 20L4 18.59l7.72-7.72 1.47 1.35L5.41 20z\"/>\n",
              "  </svg>\n",
              "      </button>\n",
              "      \n",
              "  <style>\n",
              "    .colab-df-container {\n",
              "      display:flex;\n",
              "      flex-wrap:wrap;\n",
              "      gap: 12px;\n",
              "    }\n",
              "\n",
              "    .colab-df-convert {\n",
              "      background-color: #E8F0FE;\n",
              "      border: none;\n",
              "      border-radius: 50%;\n",
              "      cursor: pointer;\n",
              "      display: none;\n",
              "      fill: #1967D2;\n",
              "      height: 32px;\n",
              "      padding: 0 0 0 0;\n",
              "      width: 32px;\n",
              "    }\n",
              "\n",
              "    .colab-df-convert:hover {\n",
              "      background-color: #E2EBFA;\n",
              "      box-shadow: 0px 1px 2px rgba(60, 64, 67, 0.3), 0px 1px 3px 1px rgba(60, 64, 67, 0.15);\n",
              "      fill: #174EA6;\n",
              "    }\n",
              "\n",
              "    [theme=dark] .colab-df-convert {\n",
              "      background-color: #3B4455;\n",
              "      fill: #D2E3FC;\n",
              "    }\n",
              "\n",
              "    [theme=dark] .colab-df-convert:hover {\n",
              "      background-color: #434B5C;\n",
              "      box-shadow: 0px 1px 3px 1px rgba(0, 0, 0, 0.15);\n",
              "      filter: drop-shadow(0px 1px 2px rgba(0, 0, 0, 0.3));\n",
              "      fill: #FFFFFF;\n",
              "    }\n",
              "  </style>\n",
              "\n",
              "      <script>\n",
              "        const buttonEl =\n",
              "          document.querySelector('#df-fc9c97da-2054-4431-8992-47dd4fdf5de1 button.colab-df-convert');\n",
              "        buttonEl.style.display =\n",
              "          google.colab.kernel.accessAllowed ? 'block' : 'none';\n",
              "\n",
              "        async function convertToInteractive(key) {\n",
              "          const element = document.querySelector('#df-fc9c97da-2054-4431-8992-47dd4fdf5de1');\n",
              "          const dataTable =\n",
              "            await google.colab.kernel.invokeFunction('convertToInteractive',\n",
              "                                                     [key], {});\n",
              "          if (!dataTable) return;\n",
              "\n",
              "          const docLinkHtml = 'Like what you see? Visit the ' +\n",
              "            '<a target=\"_blank\" href=https://colab.research.google.com/notebooks/data_table.ipynb>data table notebook</a>'\n",
              "            + ' to learn more about interactive tables.';\n",
              "          element.innerHTML = '';\n",
              "          dataTable['output_type'] = 'display_data';\n",
              "          await google.colab.output.renderOutput(dataTable, element);\n",
              "          const docLink = document.createElement('div');\n",
              "          docLink.innerHTML = docLinkHtml;\n",
              "          element.appendChild(docLink);\n",
              "        }\n",
              "      </script>\n",
              "    </div>\n",
              "  </div>\n",
              "  "
            ]
          },
          "metadata": {},
          "execution_count": 12
        }
      ]
    },
    {
      "cell_type": "markdown",
      "source": [
        "**As we saw in the videos we can access a datframe value with iloc, df.iloc[row,colum]** <br>\n",
        "**it is important that row and columns are numbers**\n"
      ],
      "metadata": {
        "id": "JnvyuT2EK_1t"
      }
    },
    {
      "cell_type": "code",
      "source": [
        "#access 1st row 1st column\n",
        "df.iloc[0,0]"
      ],
      "metadata": {
        "id": "ZTDzZW8BLJfa",
        "outputId": "0ba33693-4c47-40b2-d52c-c6908affc7ed",
        "colab": {
          "base_uri": "https://localhost:8080/",
          "height": 35
        }
      },
      "execution_count": null,
      "outputs": [
        {
          "output_type": "execute_result",
          "data": {
            "text/plain": [
              "'Michael Jackson'"
            ],
            "application/vnd.google.colaboratory.intrinsic+json": {
              "type": "string"
            }
          },
          "metadata": {},
          "execution_count": 13
        }
      ]
    },
    {
      "cell_type": "code",
      "source": [
        "#access 2nd row 1st column\n",
        "df.iloc[1,0]"
      ],
      "metadata": {
        "id": "Sm0rbmHILZxr",
        "outputId": "012f08e4-83a0-4351-cad7-e0878de92018",
        "colab": {
          "base_uri": "https://localhost:8080/",
          "height": 35
        }
      },
      "execution_count": null,
      "outputs": [
        {
          "output_type": "execute_result",
          "data": {
            "text/plain": [
              "'AC/DC'"
            ],
            "application/vnd.google.colaboratory.intrinsic+json": {
              "type": "string"
            }
          },
          "metadata": {},
          "execution_count": 14
        }
      ]
    },
    {
      "cell_type": "markdown",
      "source": [
        "**also we can access the location using df.loc, the difference is that here we use the name of the columns**"
      ],
      "metadata": {
        "id": "uULVz4asLwKO"
      }
    },
    {
      "cell_type": "code",
      "source": [
        "#accss 2nd row, 1st columns\n",
        "df.loc[1,'Artist']"
      ],
      "metadata": {
        "id": "t2DObXr3L6Fk",
        "outputId": "25413da2-976d-4da8-961e-39314e97f883",
        "colab": {
          "base_uri": "https://localhost:8080/",
          "height": 35
        }
      },
      "execution_count": null,
      "outputs": [
        {
          "output_type": "execute_result",
          "data": {
            "text/plain": [
              "'AC/DC'"
            ],
            "application/vnd.google.colaboratory.intrinsic+json": {
              "type": "string"
            }
          },
          "metadata": {},
          "execution_count": 15
        }
      ]
    },
    {
      "cell_type": "code",
      "source": [
        "#Slicing a dataframe wiht iloc\n",
        "df.iloc[0:2,0:3]"
      ],
      "metadata": {
        "id": "dZANLgtkOltY",
        "outputId": "0570611a-13b1-4353-9004-688781748ca8",
        "colab": {
          "base_uri": "https://localhost:8080/",
          "height": 112
        }
      },
      "execution_count": null,
      "outputs": [
        {
          "output_type": "execute_result",
          "data": {
            "text/plain": [
              "            Artist          Album  Released\n",
              "0  Michael Jackson       Thriller      1982\n",
              "1            AC/DC  Back in Black      1980"
            ],
            "text/html": [
              "\n",
              "  <div id=\"df-eb09b177-b901-4f0b-b378-b5a363cd94c2\">\n",
              "    <div class=\"colab-df-container\">\n",
              "      <div>\n",
              "<style scoped>\n",
              "    .dataframe tbody tr th:only-of-type {\n",
              "        vertical-align: middle;\n",
              "    }\n",
              "\n",
              "    .dataframe tbody tr th {\n",
              "        vertical-align: top;\n",
              "    }\n",
              "\n",
              "    .dataframe thead th {\n",
              "        text-align: right;\n",
              "    }\n",
              "</style>\n",
              "<table border=\"1\" class=\"dataframe\">\n",
              "  <thead>\n",
              "    <tr style=\"text-align: right;\">\n",
              "      <th></th>\n",
              "      <th>Artist</th>\n",
              "      <th>Album</th>\n",
              "      <th>Released</th>\n",
              "    </tr>\n",
              "  </thead>\n",
              "  <tbody>\n",
              "    <tr>\n",
              "      <th>0</th>\n",
              "      <td>Michael Jackson</td>\n",
              "      <td>Thriller</td>\n",
              "      <td>1982</td>\n",
              "    </tr>\n",
              "    <tr>\n",
              "      <th>1</th>\n",
              "      <td>AC/DC</td>\n",
              "      <td>Back in Black</td>\n",
              "      <td>1980</td>\n",
              "    </tr>\n",
              "  </tbody>\n",
              "</table>\n",
              "</div>\n",
              "      <button class=\"colab-df-convert\" onclick=\"convertToInteractive('df-eb09b177-b901-4f0b-b378-b5a363cd94c2')\"\n",
              "              title=\"Convert this dataframe to an interactive table.\"\n",
              "              style=\"display:none;\">\n",
              "        \n",
              "  <svg xmlns=\"http://www.w3.org/2000/svg\" height=\"24px\"viewBox=\"0 0 24 24\"\n",
              "       width=\"24px\">\n",
              "    <path d=\"M0 0h24v24H0V0z\" fill=\"none\"/>\n",
              "    <path d=\"M18.56 5.44l.94 2.06.94-2.06 2.06-.94-2.06-.94-.94-2.06-.94 2.06-2.06.94zm-11 1L8.5 8.5l.94-2.06 2.06-.94-2.06-.94L8.5 2.5l-.94 2.06-2.06.94zm10 10l.94 2.06.94-2.06 2.06-.94-2.06-.94-.94-2.06-.94 2.06-2.06.94z\"/><path d=\"M17.41 7.96l-1.37-1.37c-.4-.4-.92-.59-1.43-.59-.52 0-1.04.2-1.43.59L10.3 9.45l-7.72 7.72c-.78.78-.78 2.05 0 2.83L4 21.41c.39.39.9.59 1.41.59.51 0 1.02-.2 1.41-.59l7.78-7.78 2.81-2.81c.8-.78.8-2.07 0-2.86zM5.41 20L4 18.59l7.72-7.72 1.47 1.35L5.41 20z\"/>\n",
              "  </svg>\n",
              "      </button>\n",
              "      \n",
              "  <style>\n",
              "    .colab-df-container {\n",
              "      display:flex;\n",
              "      flex-wrap:wrap;\n",
              "      gap: 12px;\n",
              "    }\n",
              "\n",
              "    .colab-df-convert {\n",
              "      background-color: #E8F0FE;\n",
              "      border: none;\n",
              "      border-radius: 50%;\n",
              "      cursor: pointer;\n",
              "      display: none;\n",
              "      fill: #1967D2;\n",
              "      height: 32px;\n",
              "      padding: 0 0 0 0;\n",
              "      width: 32px;\n",
              "    }\n",
              "\n",
              "    .colab-df-convert:hover {\n",
              "      background-color: #E2EBFA;\n",
              "      box-shadow: 0px 1px 2px rgba(60, 64, 67, 0.3), 0px 1px 3px 1px rgba(60, 64, 67, 0.15);\n",
              "      fill: #174EA6;\n",
              "    }\n",
              "\n",
              "    [theme=dark] .colab-df-convert {\n",
              "      background-color: #3B4455;\n",
              "      fill: #D2E3FC;\n",
              "    }\n",
              "\n",
              "    [theme=dark] .colab-df-convert:hover {\n",
              "      background-color: #434B5C;\n",
              "      box-shadow: 0px 1px 3px 1px rgba(0, 0, 0, 0.15);\n",
              "      filter: drop-shadow(0px 1px 2px rgba(0, 0, 0, 0.3));\n",
              "      fill: #FFFFFF;\n",
              "    }\n",
              "  </style>\n",
              "\n",
              "      <script>\n",
              "        const buttonEl =\n",
              "          document.querySelector('#df-eb09b177-b901-4f0b-b378-b5a363cd94c2 button.colab-df-convert');\n",
              "        buttonEl.style.display =\n",
              "          google.colab.kernel.accessAllowed ? 'block' : 'none';\n",
              "\n",
              "        async function convertToInteractive(key) {\n",
              "          const element = document.querySelector('#df-eb09b177-b901-4f0b-b378-b5a363cd94c2');\n",
              "          const dataTable =\n",
              "            await google.colab.kernel.invokeFunction('convertToInteractive',\n",
              "                                                     [key], {});\n",
              "          if (!dataTable) return;\n",
              "\n",
              "          const docLinkHtml = 'Like what you see? Visit the ' +\n",
              "            '<a target=\"_blank\" href=https://colab.research.google.com/notebooks/data_table.ipynb>data table notebook</a>'\n",
              "            + ' to learn more about interactive tables.';\n",
              "          element.innerHTML = '';\n",
              "          dataTable['output_type'] = 'display_data';\n",
              "          await google.colab.output.renderOutput(dataTable, element);\n",
              "          const docLink = document.createElement('div');\n",
              "          docLink.innerHTML = docLinkHtml;\n",
              "          element.appendChild(docLink);\n",
              "        }\n",
              "      </script>\n",
              "    </div>\n",
              "  </div>\n",
              "  "
            ]
          },
          "metadata": {},
          "execution_count": 16
        }
      ]
    },
    {
      "cell_type": "code",
      "source": [
        "#slicing a dataframe with loc\n",
        "df.loc[0:2,'Artist':'Released']"
      ],
      "metadata": {
        "id": "fdFg2SUoO201",
        "outputId": "c972492e-95ac-4b7b-8f2d-655e129a5731",
        "colab": {
          "base_uri": "https://localhost:8080/",
          "height": 143
        }
      },
      "execution_count": null,
      "outputs": [
        {
          "output_type": "execute_result",
          "data": {
            "text/plain": [
              "            Artist                      Album  Released\n",
              "0  Michael Jackson                   Thriller      1982\n",
              "1            AC/DC              Back in Black      1980\n",
              "2       Pink Floyd  The Dark Side of the Moon      1973"
            ],
            "text/html": [
              "\n",
              "  <div id=\"df-6d0c086a-e7cf-4624-881a-42a7bac20e06\">\n",
              "    <div class=\"colab-df-container\">\n",
              "      <div>\n",
              "<style scoped>\n",
              "    .dataframe tbody tr th:only-of-type {\n",
              "        vertical-align: middle;\n",
              "    }\n",
              "\n",
              "    .dataframe tbody tr th {\n",
              "        vertical-align: top;\n",
              "    }\n",
              "\n",
              "    .dataframe thead th {\n",
              "        text-align: right;\n",
              "    }\n",
              "</style>\n",
              "<table border=\"1\" class=\"dataframe\">\n",
              "  <thead>\n",
              "    <tr style=\"text-align: right;\">\n",
              "      <th></th>\n",
              "      <th>Artist</th>\n",
              "      <th>Album</th>\n",
              "      <th>Released</th>\n",
              "    </tr>\n",
              "  </thead>\n",
              "  <tbody>\n",
              "    <tr>\n",
              "      <th>0</th>\n",
              "      <td>Michael Jackson</td>\n",
              "      <td>Thriller</td>\n",
              "      <td>1982</td>\n",
              "    </tr>\n",
              "    <tr>\n",
              "      <th>1</th>\n",
              "      <td>AC/DC</td>\n",
              "      <td>Back in Black</td>\n",
              "      <td>1980</td>\n",
              "    </tr>\n",
              "    <tr>\n",
              "      <th>2</th>\n",
              "      <td>Pink Floyd</td>\n",
              "      <td>The Dark Side of the Moon</td>\n",
              "      <td>1973</td>\n",
              "    </tr>\n",
              "  </tbody>\n",
              "</table>\n",
              "</div>\n",
              "      <button class=\"colab-df-convert\" onclick=\"convertToInteractive('df-6d0c086a-e7cf-4624-881a-42a7bac20e06')\"\n",
              "              title=\"Convert this dataframe to an interactive table.\"\n",
              "              style=\"display:none;\">\n",
              "        \n",
              "  <svg xmlns=\"http://www.w3.org/2000/svg\" height=\"24px\"viewBox=\"0 0 24 24\"\n",
              "       width=\"24px\">\n",
              "    <path d=\"M0 0h24v24H0V0z\" fill=\"none\"/>\n",
              "    <path d=\"M18.56 5.44l.94 2.06.94-2.06 2.06-.94-2.06-.94-.94-2.06-.94 2.06-2.06.94zm-11 1L8.5 8.5l.94-2.06 2.06-.94-2.06-.94L8.5 2.5l-.94 2.06-2.06.94zm10 10l.94 2.06.94-2.06 2.06-.94-2.06-.94-.94-2.06-.94 2.06-2.06.94z\"/><path d=\"M17.41 7.96l-1.37-1.37c-.4-.4-.92-.59-1.43-.59-.52 0-1.04.2-1.43.59L10.3 9.45l-7.72 7.72c-.78.78-.78 2.05 0 2.83L4 21.41c.39.39.9.59 1.41.59.51 0 1.02-.2 1.41-.59l7.78-7.78 2.81-2.81c.8-.78.8-2.07 0-2.86zM5.41 20L4 18.59l7.72-7.72 1.47 1.35L5.41 20z\"/>\n",
              "  </svg>\n",
              "      </button>\n",
              "      \n",
              "  <style>\n",
              "    .colab-df-container {\n",
              "      display:flex;\n",
              "      flex-wrap:wrap;\n",
              "      gap: 12px;\n",
              "    }\n",
              "\n",
              "    .colab-df-convert {\n",
              "      background-color: #E8F0FE;\n",
              "      border: none;\n",
              "      border-radius: 50%;\n",
              "      cursor: pointer;\n",
              "      display: none;\n",
              "      fill: #1967D2;\n",
              "      height: 32px;\n",
              "      padding: 0 0 0 0;\n",
              "      width: 32px;\n",
              "    }\n",
              "\n",
              "    .colab-df-convert:hover {\n",
              "      background-color: #E2EBFA;\n",
              "      box-shadow: 0px 1px 2px rgba(60, 64, 67, 0.3), 0px 1px 3px 1px rgba(60, 64, 67, 0.15);\n",
              "      fill: #174EA6;\n",
              "    }\n",
              "\n",
              "    [theme=dark] .colab-df-convert {\n",
              "      background-color: #3B4455;\n",
              "      fill: #D2E3FC;\n",
              "    }\n",
              "\n",
              "    [theme=dark] .colab-df-convert:hover {\n",
              "      background-color: #434B5C;\n",
              "      box-shadow: 0px 1px 3px 1px rgba(0, 0, 0, 0.15);\n",
              "      filter: drop-shadow(0px 1px 2px rgba(0, 0, 0, 0.3));\n",
              "      fill: #FFFFFF;\n",
              "    }\n",
              "  </style>\n",
              "\n",
              "      <script>\n",
              "        const buttonEl =\n",
              "          document.querySelector('#df-6d0c086a-e7cf-4624-881a-42a7bac20e06 button.colab-df-convert');\n",
              "        buttonEl.style.display =\n",
              "          google.colab.kernel.accessAllowed ? 'block' : 'none';\n",
              "\n",
              "        async function convertToInteractive(key) {\n",
              "          const element = document.querySelector('#df-6d0c086a-e7cf-4624-881a-42a7bac20e06');\n",
              "          const dataTable =\n",
              "            await google.colab.kernel.invokeFunction('convertToInteractive',\n",
              "                                                     [key], {});\n",
              "          if (!dataTable) return;\n",
              "\n",
              "          const docLinkHtml = 'Like what you see? Visit the ' +\n",
              "            '<a target=\"_blank\" href=https://colab.research.google.com/notebooks/data_table.ipynb>data table notebook</a>'\n",
              "            + ' to learn more about interactive tables.';\n",
              "          element.innerHTML = '';\n",
              "          dataTable['output_type'] = 'display_data';\n",
              "          await google.colab.output.renderOutput(dataTable, element);\n",
              "          const docLink = document.createElement('div');\n",
              "          docLink.innerHTML = docLinkHtml;\n",
              "          element.appendChild(docLink);\n",
              "        }\n",
              "      </script>\n",
              "    </div>\n",
              "  </div>\n",
              "  "
            ]
          },
          "metadata": {},
          "execution_count": 17
        }
      ]
    },
    {
      "cell_type": "code",
      "source": [
        "#Exercise on lab\n",
        "\n",
        "# Write your code below and press Shift+Enter to execute\n",
        "q = df[['Rating']]\n",
        "q"
      ],
      "metadata": {
        "id": "zIqblngyg3DX",
        "outputId": "629c568e-3ab9-4153-b014-76cfd2aaf4f8",
        "colab": {
          "base_uri": "https://localhost:8080/",
          "height": 300
        }
      },
      "execution_count": null,
      "outputs": [
        {
          "output_type": "execute_result",
          "data": {
            "text/plain": [
              "   Rating\n",
              "0    10.0\n",
              "1     9.5\n",
              "2     9.0\n",
              "3     8.5\n",
              "4     8.0\n",
              "5     7.5\n",
              "6     7.0\n",
              "7     6.5"
            ],
            "text/html": [
              "\n",
              "  <div id=\"df-84460e42-d5f4-4857-a9af-d45ae54afbc6\">\n",
              "    <div class=\"colab-df-container\">\n",
              "      <div>\n",
              "<style scoped>\n",
              "    .dataframe tbody tr th:only-of-type {\n",
              "        vertical-align: middle;\n",
              "    }\n",
              "\n",
              "    .dataframe tbody tr th {\n",
              "        vertical-align: top;\n",
              "    }\n",
              "\n",
              "    .dataframe thead th {\n",
              "        text-align: right;\n",
              "    }\n",
              "</style>\n",
              "<table border=\"1\" class=\"dataframe\">\n",
              "  <thead>\n",
              "    <tr style=\"text-align: right;\">\n",
              "      <th></th>\n",
              "      <th>Rating</th>\n",
              "    </tr>\n",
              "  </thead>\n",
              "  <tbody>\n",
              "    <tr>\n",
              "      <th>0</th>\n",
              "      <td>10.0</td>\n",
              "    </tr>\n",
              "    <tr>\n",
              "      <th>1</th>\n",
              "      <td>9.5</td>\n",
              "    </tr>\n",
              "    <tr>\n",
              "      <th>2</th>\n",
              "      <td>9.0</td>\n",
              "    </tr>\n",
              "    <tr>\n",
              "      <th>3</th>\n",
              "      <td>8.5</td>\n",
              "    </tr>\n",
              "    <tr>\n",
              "      <th>4</th>\n",
              "      <td>8.0</td>\n",
              "    </tr>\n",
              "    <tr>\n",
              "      <th>5</th>\n",
              "      <td>7.5</td>\n",
              "    </tr>\n",
              "    <tr>\n",
              "      <th>6</th>\n",
              "      <td>7.0</td>\n",
              "    </tr>\n",
              "    <tr>\n",
              "      <th>7</th>\n",
              "      <td>6.5</td>\n",
              "    </tr>\n",
              "  </tbody>\n",
              "</table>\n",
              "</div>\n",
              "      <button class=\"colab-df-convert\" onclick=\"convertToInteractive('df-84460e42-d5f4-4857-a9af-d45ae54afbc6')\"\n",
              "              title=\"Convert this dataframe to an interactive table.\"\n",
              "              style=\"display:none;\">\n",
              "        \n",
              "  <svg xmlns=\"http://www.w3.org/2000/svg\" height=\"24px\"viewBox=\"0 0 24 24\"\n",
              "       width=\"24px\">\n",
              "    <path d=\"M0 0h24v24H0V0z\" fill=\"none\"/>\n",
              "    <path d=\"M18.56 5.44l.94 2.06.94-2.06 2.06-.94-2.06-.94-.94-2.06-.94 2.06-2.06.94zm-11 1L8.5 8.5l.94-2.06 2.06-.94-2.06-.94L8.5 2.5l-.94 2.06-2.06.94zm10 10l.94 2.06.94-2.06 2.06-.94-2.06-.94-.94-2.06-.94 2.06-2.06.94z\"/><path d=\"M17.41 7.96l-1.37-1.37c-.4-.4-.92-.59-1.43-.59-.52 0-1.04.2-1.43.59L10.3 9.45l-7.72 7.72c-.78.78-.78 2.05 0 2.83L4 21.41c.39.39.9.59 1.41.59.51 0 1.02-.2 1.41-.59l7.78-7.78 2.81-2.81c.8-.78.8-2.07 0-2.86zM5.41 20L4 18.59l7.72-7.72 1.47 1.35L5.41 20z\"/>\n",
              "  </svg>\n",
              "      </button>\n",
              "      \n",
              "  <style>\n",
              "    .colab-df-container {\n",
              "      display:flex;\n",
              "      flex-wrap:wrap;\n",
              "      gap: 12px;\n",
              "    }\n",
              "\n",
              "    .colab-df-convert {\n",
              "      background-color: #E8F0FE;\n",
              "      border: none;\n",
              "      border-radius: 50%;\n",
              "      cursor: pointer;\n",
              "      display: none;\n",
              "      fill: #1967D2;\n",
              "      height: 32px;\n",
              "      padding: 0 0 0 0;\n",
              "      width: 32px;\n",
              "    }\n",
              "\n",
              "    .colab-df-convert:hover {\n",
              "      background-color: #E2EBFA;\n",
              "      box-shadow: 0px 1px 2px rgba(60, 64, 67, 0.3), 0px 1px 3px 1px rgba(60, 64, 67, 0.15);\n",
              "      fill: #174EA6;\n",
              "    }\n",
              "\n",
              "    [theme=dark] .colab-df-convert {\n",
              "      background-color: #3B4455;\n",
              "      fill: #D2E3FC;\n",
              "    }\n",
              "\n",
              "    [theme=dark] .colab-df-convert:hover {\n",
              "      background-color: #434B5C;\n",
              "      box-shadow: 0px 1px 3px 1px rgba(0, 0, 0, 0.15);\n",
              "      filter: drop-shadow(0px 1px 2px rgba(0, 0, 0, 0.3));\n",
              "      fill: #FFFFFF;\n",
              "    }\n",
              "  </style>\n",
              "\n",
              "      <script>\n",
              "        const buttonEl =\n",
              "          document.querySelector('#df-84460e42-d5f4-4857-a9af-d45ae54afbc6 button.colab-df-convert');\n",
              "        buttonEl.style.display =\n",
              "          google.colab.kernel.accessAllowed ? 'block' : 'none';\n",
              "\n",
              "        async function convertToInteractive(key) {\n",
              "          const element = document.querySelector('#df-84460e42-d5f4-4857-a9af-d45ae54afbc6');\n",
              "          const dataTable =\n",
              "            await google.colab.kernel.invokeFunction('convertToInteractive',\n",
              "                                                     [key], {});\n",
              "          if (!dataTable) return;\n",
              "\n",
              "          const docLinkHtml = 'Like what you see? Visit the ' +\n",
              "            '<a target=\"_blank\" href=https://colab.research.google.com/notebooks/data_table.ipynb>data table notebook</a>'\n",
              "            + ' to learn more about interactive tables.';\n",
              "          element.innerHTML = '';\n",
              "          dataTable['output_type'] = 'display_data';\n",
              "          await google.colab.output.renderOutput(dataTable, element);\n",
              "          const docLink = document.createElement('div');\n",
              "          docLink.innerHTML = docLinkHtml;\n",
              "          element.appendChild(docLink);\n",
              "        }\n",
              "      </script>\n",
              "    </div>\n",
              "  </div>\n",
              "  "
            ]
          },
          "metadata": {},
          "execution_count": 18
        }
      ]
    },
    {
      "cell_type": "code",
      "source": [
        "# Write your code below and press Shift+Enter to execute\n",
        "q = df[['Released', 'Artist']]\n",
        "q"
      ],
      "metadata": {
        "id": "rSTCPLZdg_Oz",
        "outputId": "4e000b30-22e5-4123-b9c1-8cf267be2278",
        "colab": {
          "base_uri": "https://localhost:8080/",
          "height": 300
        }
      },
      "execution_count": null,
      "outputs": [
        {
          "output_type": "execute_result",
          "data": {
            "text/plain": [
              "   Released           Artist\n",
              "0      1982  Michael Jackson\n",
              "1      1980            AC/DC\n",
              "2      1973       Pink Floyd\n",
              "3      1992  Whitney Houston\n",
              "4      1977        Meat Loaf\n",
              "5      1976           Eagles\n",
              "6      1977         Bee Gees\n",
              "7      1977    Fleetwood Mac"
            ],
            "text/html": [
              "\n",
              "  <div id=\"df-8e96ff77-bdca-45b1-beb2-3f20e01ee844\">\n",
              "    <div class=\"colab-df-container\">\n",
              "      <div>\n",
              "<style scoped>\n",
              "    .dataframe tbody tr th:only-of-type {\n",
              "        vertical-align: middle;\n",
              "    }\n",
              "\n",
              "    .dataframe tbody tr th {\n",
              "        vertical-align: top;\n",
              "    }\n",
              "\n",
              "    .dataframe thead th {\n",
              "        text-align: right;\n",
              "    }\n",
              "</style>\n",
              "<table border=\"1\" class=\"dataframe\">\n",
              "  <thead>\n",
              "    <tr style=\"text-align: right;\">\n",
              "      <th></th>\n",
              "      <th>Released</th>\n",
              "      <th>Artist</th>\n",
              "    </tr>\n",
              "  </thead>\n",
              "  <tbody>\n",
              "    <tr>\n",
              "      <th>0</th>\n",
              "      <td>1982</td>\n",
              "      <td>Michael Jackson</td>\n",
              "    </tr>\n",
              "    <tr>\n",
              "      <th>1</th>\n",
              "      <td>1980</td>\n",
              "      <td>AC/DC</td>\n",
              "    </tr>\n",
              "    <tr>\n",
              "      <th>2</th>\n",
              "      <td>1973</td>\n",
              "      <td>Pink Floyd</td>\n",
              "    </tr>\n",
              "    <tr>\n",
              "      <th>3</th>\n",
              "      <td>1992</td>\n",
              "      <td>Whitney Houston</td>\n",
              "    </tr>\n",
              "    <tr>\n",
              "      <th>4</th>\n",
              "      <td>1977</td>\n",
              "      <td>Meat Loaf</td>\n",
              "    </tr>\n",
              "    <tr>\n",
              "      <th>5</th>\n",
              "      <td>1976</td>\n",
              "      <td>Eagles</td>\n",
              "    </tr>\n",
              "    <tr>\n",
              "      <th>6</th>\n",
              "      <td>1977</td>\n",
              "      <td>Bee Gees</td>\n",
              "    </tr>\n",
              "    <tr>\n",
              "      <th>7</th>\n",
              "      <td>1977</td>\n",
              "      <td>Fleetwood Mac</td>\n",
              "    </tr>\n",
              "  </tbody>\n",
              "</table>\n",
              "</div>\n",
              "      <button class=\"colab-df-convert\" onclick=\"convertToInteractive('df-8e96ff77-bdca-45b1-beb2-3f20e01ee844')\"\n",
              "              title=\"Convert this dataframe to an interactive table.\"\n",
              "              style=\"display:none;\">\n",
              "        \n",
              "  <svg xmlns=\"http://www.w3.org/2000/svg\" height=\"24px\"viewBox=\"0 0 24 24\"\n",
              "       width=\"24px\">\n",
              "    <path d=\"M0 0h24v24H0V0z\" fill=\"none\"/>\n",
              "    <path d=\"M18.56 5.44l.94 2.06.94-2.06 2.06-.94-2.06-.94-.94-2.06-.94 2.06-2.06.94zm-11 1L8.5 8.5l.94-2.06 2.06-.94-2.06-.94L8.5 2.5l-.94 2.06-2.06.94zm10 10l.94 2.06.94-2.06 2.06-.94-2.06-.94-.94-2.06-.94 2.06-2.06.94z\"/><path d=\"M17.41 7.96l-1.37-1.37c-.4-.4-.92-.59-1.43-.59-.52 0-1.04.2-1.43.59L10.3 9.45l-7.72 7.72c-.78.78-.78 2.05 0 2.83L4 21.41c.39.39.9.59 1.41.59.51 0 1.02-.2 1.41-.59l7.78-7.78 2.81-2.81c.8-.78.8-2.07 0-2.86zM5.41 20L4 18.59l7.72-7.72 1.47 1.35L5.41 20z\"/>\n",
              "  </svg>\n",
              "      </button>\n",
              "      \n",
              "  <style>\n",
              "    .colab-df-container {\n",
              "      display:flex;\n",
              "      flex-wrap:wrap;\n",
              "      gap: 12px;\n",
              "    }\n",
              "\n",
              "    .colab-df-convert {\n",
              "      background-color: #E8F0FE;\n",
              "      border: none;\n",
              "      border-radius: 50%;\n",
              "      cursor: pointer;\n",
              "      display: none;\n",
              "      fill: #1967D2;\n",
              "      height: 32px;\n",
              "      padding: 0 0 0 0;\n",
              "      width: 32px;\n",
              "    }\n",
              "\n",
              "    .colab-df-convert:hover {\n",
              "      background-color: #E2EBFA;\n",
              "      box-shadow: 0px 1px 2px rgba(60, 64, 67, 0.3), 0px 1px 3px 1px rgba(60, 64, 67, 0.15);\n",
              "      fill: #174EA6;\n",
              "    }\n",
              "\n",
              "    [theme=dark] .colab-df-convert {\n",
              "      background-color: #3B4455;\n",
              "      fill: #D2E3FC;\n",
              "    }\n",
              "\n",
              "    [theme=dark] .colab-df-convert:hover {\n",
              "      background-color: #434B5C;\n",
              "      box-shadow: 0px 1px 3px 1px rgba(0, 0, 0, 0.15);\n",
              "      filter: drop-shadow(0px 1px 2px rgba(0, 0, 0, 0.3));\n",
              "      fill: #FFFFFF;\n",
              "    }\n",
              "  </style>\n",
              "\n",
              "      <script>\n",
              "        const buttonEl =\n",
              "          document.querySelector('#df-8e96ff77-bdca-45b1-beb2-3f20e01ee844 button.colab-df-convert');\n",
              "        buttonEl.style.display =\n",
              "          google.colab.kernel.accessAllowed ? 'block' : 'none';\n",
              "\n",
              "        async function convertToInteractive(key) {\n",
              "          const element = document.querySelector('#df-8e96ff77-bdca-45b1-beb2-3f20e01ee844');\n",
              "          const dataTable =\n",
              "            await google.colab.kernel.invokeFunction('convertToInteractive',\n",
              "                                                     [key], {});\n",
              "          if (!dataTable) return;\n",
              "\n",
              "          const docLinkHtml = 'Like what you see? Visit the ' +\n",
              "            '<a target=\"_blank\" href=https://colab.research.google.com/notebooks/data_table.ipynb>data table notebook</a>'\n",
              "            + ' to learn more about interactive tables.';\n",
              "          element.innerHTML = '';\n",
              "          dataTable['output_type'] = 'display_data';\n",
              "          await google.colab.output.renderOutput(dataTable, element);\n",
              "          const docLink = document.createElement('div');\n",
              "          docLink.innerHTML = docLinkHtml;\n",
              "          element.appendChild(docLink);\n",
              "        }\n",
              "      </script>\n",
              "    </div>\n",
              "  </div>\n",
              "  "
            ]
          },
          "metadata": {},
          "execution_count": 20
        }
      ]
    },
    {
      "cell_type": "code",
      "source": [
        "# Write your code below and press Shift+Enter to execute\n",
        "df.iloc[1, 2]"
      ],
      "metadata": {
        "id": "7XwkG-FJhFoE",
        "outputId": "6b24ead7-d6aa-480c-a90c-09b9774a477a",
        "colab": {
          "base_uri": "https://localhost:8080/"
        }
      },
      "execution_count": null,
      "outputs": [
        {
          "output_type": "execute_result",
          "data": {
            "text/plain": [
              "1980"
            ]
          },
          "metadata": {},
          "execution_count": 21
        }
      ]
    },
    {
      "cell_type": "markdown",
      "source": [
        "Use the following list to convert the dataframe index df to characters and assign it to df_new; find the element corresponding to the row index a and column 'Artist'. Then select the rows a through d for the column 'Artist'"
      ],
      "metadata": {
        "id": "u29C0B_hhQkv"
      }
    },
    {
      "cell_type": "code",
      "source": [
        "new_index = ['a','b','c','d','e','f','g','h']\n",
        "df_new =df\n",
        "df_new.index = new_index #this is to replace te indes 0,1,2... with a,b,c,d\n",
        "df_new.loc['a', 'Artist'] \n",
        "\n"
      ],
      "metadata": {
        "id": "L1J8gGNuhRZK",
        "outputId": "0f6fd130-112c-4c1b-deb7-73750ded1835",
        "colab": {
          "base_uri": "https://localhost:8080/",
          "height": 35
        }
      },
      "execution_count": null,
      "outputs": [
        {
          "output_type": "execute_result",
          "data": {
            "text/plain": [
              "'Michael Jackson'"
            ],
            "application/vnd.google.colaboratory.intrinsic+json": {
              "type": "string"
            }
          },
          "metadata": {},
          "execution_count": 26
        }
      ]
    },
    {
      "cell_type": "code",
      "source": [
        "df_new.loc['a':'d', 'Artist']"
      ],
      "metadata": {
        "id": "oLomzjcvjRC9",
        "outputId": "35263611-f6d8-4ebe-97df-6211a4c570fb",
        "colab": {
          "base_uri": "https://localhost:8080/"
        }
      },
      "execution_count": null,
      "outputs": [
        {
          "output_type": "execute_result",
          "data": {
            "text/plain": [
              "a    Michael Jackson\n",
              "b              AC/DC\n",
              "c         Pink Floyd\n",
              "d    Whitney Houston\n",
              "Name: Artist, dtype: object"
            ]
          },
          "metadata": {},
          "execution_count": 27
        }
      ]
    },
    {
      "cell_type": "markdown",
      "source": [
        "# Progress until module 4\n",
        "![Progress.PNG](data:image/png;base64,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)"
      ],
      "metadata": {
        "id": "rRwOPfU_ojoH"
      }
    },
    {
      "cell_type": "markdown",
      "source": [
        "#MODULE 5 - 1D Arrays"
      ],
      "metadata": {
        "id": "po6MPNxqIYfW"
      }
    },
    {
      "cell_type": "markdown",
      "source": [
        "In this module it will be reviewed \n",
        "  * Basics and array Creation\n",
        "  * Indexing and Slicing\n",
        "  * Basic Operations\n",
        "  * Universal Functions\n",
        "\n",
        "  Numpy arrays are similar as the list\n",
        "  "
      ],
      "metadata": {
        "id": "_b5xWW_TKaeq"
      }
    },
    {
      "cell_type": "code",
      "source": [
        "import numpy as np #to import numpy library and assign to np\n",
        "\n",
        "#Convert array to numpy\n",
        "a = np.array([0,1,2,3,4])\n",
        "a"
      ],
      "metadata": {
        "colab": {
          "base_uri": "https://localhost:8080/"
        },
        "id": "e8x5UvzVLXt2",
        "outputId": "f99914f3-c7ce-4e53-bf75-180968a3b5b1"
      },
      "execution_count": null,
      "outputs": [
        {
          "output_type": "execute_result",
          "data": {
            "text/plain": [
              "array([0, 1, 2, 3, 4])"
            ]
          },
          "metadata": {},
          "execution_count": 3
        }
      ]
    },
    {
      "cell_type": "code",
      "source": [
        "type(a)"
      ],
      "metadata": {
        "colab": {
          "base_uri": "https://localhost:8080/"
        },
        "id": "y20eYMDoLp3x",
        "outputId": "3bc73701-8a29-465c-bc64-a14880947ed8"
      },
      "execution_count": null,
      "outputs": [
        {
          "output_type": "execute_result",
          "data": {
            "text/plain": [
              "numpy.ndarray"
            ]
          },
          "metadata": {},
          "execution_count": 4
        }
      ]
    },
    {
      "cell_type": "code",
      "source": [
        "a.dtype # it is the type of the array elements"
      ],
      "metadata": {
        "colab": {
          "base_uri": "https://localhost:8080/"
        },
        "id": "GCMfuoNVLw2i",
        "outputId": "7d15619b-c866-402d-cef0-08121d5b55bd"
      },
      "execution_count": null,
      "outputs": [
        {
          "output_type": "execute_result",
          "data": {
            "text/plain": [
              "dtype('int64')"
            ]
          },
          "metadata": {},
          "execution_count": 6
        }
      ]
    },
    {
      "cell_type": "code",
      "source": [
        "a.size"
      ],
      "metadata": {
        "colab": {
          "base_uri": "https://localhost:8080/"
        },
        "id": "SaxiPIixL3tP",
        "outputId": "ace6173a-d1fe-4c5e-f870-94e34be77d33"
      },
      "execution_count": null,
      "outputs": [
        {
          "output_type": "execute_result",
          "data": {
            "text/plain": [
              "5"
            ]
          },
          "metadata": {},
          "execution_count": 7
        }
      ]
    },
    {
      "cell_type": "code",
      "source": [
        "#Number of dimension\n",
        "a.ndim"
      ],
      "metadata": {
        "colab": {
          "base_uri": "https://localhost:8080/"
        },
        "id": "AvkUq9QcL4zL",
        "outputId": "913a6bd6-77fd-4ab3-a878-e36a549c542b"
      },
      "execution_count": null,
      "outputs": [
        {
          "output_type": "execute_result",
          "data": {
            "text/plain": [
              "1"
            ]
          },
          "metadata": {},
          "execution_count": 8
        }
      ]
    },
    {
      "cell_type": "code",
      "source": [
        "a.shape "
      ],
      "metadata": {
        "colab": {
          "base_uri": "https://localhost:8080/"
        },
        "id": "vg8ouSLEL-VZ",
        "outputId": "8f88aa27-1aa0-4c6f-c20d-20fdd5cb604d"
      },
      "execution_count": null,
      "outputs": [
        {
          "output_type": "execute_result",
          "data": {
            "text/plain": [
              "(5,)"
            ]
          },
          "metadata": {},
          "execution_count": 10
        }
      ]
    },
    {
      "cell_type": "markdown",
      "source": [
        "on shape we can see that are 5 arrays with no other dimensions"
      ],
      "metadata": {
        "id": "EmQ_7uUwMCt8"
      }
    },
    {
      "cell_type": "markdown",
      "source": [
        "**Slicing and indexing**\n",
        "\n",
        "For changing values in the array it will use as just assign the values\n"
      ],
      "metadata": {
        "id": "4E-Vd79CMUmv"
      }
    },
    {
      "cell_type": "code",
      "source": [
        "c = np.array([20,1,2,3,4])\n",
        "c"
      ],
      "metadata": {
        "colab": {
          "base_uri": "https://localhost:8080/"
        },
        "id": "IMfWi19GMWxI",
        "outputId": "df4a1b3f-6f0e-4d0a-eb78-8723d1acf7b5"
      },
      "execution_count": null,
      "outputs": [
        {
          "output_type": "execute_result",
          "data": {
            "text/plain": [
              "array([20,  1,  2,  3,  4])"
            ]
          },
          "metadata": {},
          "execution_count": 11
        }
      ]
    },
    {
      "cell_type": "code",
      "source": [
        "c[0] = 100\n",
        "c"
      ],
      "metadata": {
        "colab": {
          "base_uri": "https://localhost:8080/"
        },
        "id": "p6r2VF9wMeLt",
        "outputId": "ecb95baf-1bad-497c-94ea-f14d10576477"
      },
      "execution_count": null,
      "outputs": [
        {
          "output_type": "execute_result",
          "data": {
            "text/plain": [
              "array([100,   1,   2,   3,   4])"
            ]
          },
          "metadata": {},
          "execution_count": 12
        }
      ]
    },
    {
      "cell_type": "code",
      "source": [
        "c[4] = 0\n",
        "c"
      ],
      "metadata": {
        "colab": {
          "base_uri": "https://localhost:8080/"
        },
        "id": "1p6a9a1kMtUy",
        "outputId": "76f799e7-c1cb-4a41-ad5a-6d4bbe7546be"
      },
      "execution_count": null,
      "outputs": [
        {
          "output_type": "execute_result",
          "data": {
            "text/plain": [
              "array([100,   1,   2,   3,   0])"
            ]
          },
          "metadata": {},
          "execution_count": 14
        }
      ]
    },
    {
      "cell_type": "markdown",
      "source": [
        "**To slicing it works as the same, first number is start and last number is not include**"
      ],
      "metadata": {
        "id": "nwrCyFPGM1eI"
      }
    },
    {
      "cell_type": "code",
      "source": [
        "d = c[1:4]\n",
        "d"
      ],
      "metadata": {
        "colab": {
          "base_uri": "https://localhost:8080/"
        },
        "id": "zbUhMATPMxdp",
        "outputId": "81f38020-d440-4f77-b9bd-40d9415becf2"
      },
      "execution_count": null,
      "outputs": [
        {
          "output_type": "execute_result",
          "data": {
            "text/plain": [
              "array([1, 2, 3])"
            ]
          },
          "metadata": {},
          "execution_count": 15
        }
      ]
    },
    {
      "cell_type": "code",
      "source": [
        "c[3:5] = 300,400\n",
        "c"
      ],
      "metadata": {
        "colab": {
          "base_uri": "https://localhost:8080/"
        },
        "id": "BMGAaQmLNIz3",
        "outputId": "326f79ba-3c13-4b43-89a1-0fcb0d136b2d"
      },
      "execution_count": null,
      "outputs": [
        {
          "output_type": "execute_result",
          "data": {
            "text/plain": [
              "array([100,   1,   2, 300, 400])"
            ]
          },
          "metadata": {},
          "execution_count": 16
        }
      ]
    },
    {
      "cell_type": "markdown",
      "source": [
        "**Vectors**\n"
      ],
      "metadata": {
        "id": "uknKaCAtNynr"
      }
    },
    {
      "cell_type": "code",
      "source": [
        "#adding vectors\n",
        "u=[1,0]\n",
        "v=[1,0]\n",
        "z=[]\n",
        "\n",
        "for n,m in zip(u,v):\n",
        "  z.append(n+m)\n",
        "\n",
        "z"
      ],
      "metadata": {
        "colab": {
          "base_uri": "https://localhost:8080/"
        },
        "id": "ipkhzU0dN0Vp",
        "outputId": "b31d1449-754c-4afc-9cfe-fc530aa9bfbc"
      },
      "execution_count": null,
      "outputs": [
        {
          "output_type": "execute_result",
          "data": {
            "text/plain": [
              "[2, 0]"
            ]
          },
          "metadata": {},
          "execution_count": 19
        }
      ]
    },
    {
      "cell_type": "code",
      "source": [
        "from numpy.lib.function_base import vectorize\n",
        "# on numby arrays the additions is:\n",
        "u=np.array([1,0])\n",
        "v=np.array([0,1])\n",
        "z=u+v\n",
        "z"
      ],
      "metadata": {
        "colab": {
          "base_uri": "https://localhost:8080/"
        },
        "id": "orCWv8zOOLR_",
        "outputId": "34e13846-9a5c-4216-bf7c-6f518a46716b"
      },
      "execution_count": null,
      "outputs": [
        {
          "output_type": "execute_result",
          "data": {
            "text/plain": [
              "array([1, 1])"
            ]
          },
          "metadata": {},
          "execution_count": 20
        }
      ]
    },
    {
      "cell_type": "markdown",
      "source": [
        "So we can see that is better to the coding on numpy arrays. And it will run faster"
      ],
      "metadata": {
        "id": "BieTm1pWOaqj"
      }
    },
    {
      "cell_type": "code",
      "source": [
        "#Multiplicacion scarlar with array\n",
        "y = np.array([1,2])\n",
        "z = 2 * y\n",
        "z"
      ],
      "metadata": {
        "colab": {
          "base_uri": "https://localhost:8080/"
        },
        "id": "Yp3M5Gf5OeTX",
        "outputId": "ed8e0c14-075a-4edd-a4a7-8a2fdf81f942"
      },
      "execution_count": null,
      "outputs": [
        {
          "output_type": "execute_result",
          "data": {
            "text/plain": [
              "array([2, 4])"
            ]
          },
          "metadata": {},
          "execution_count": 21
        }
      ]
    },
    {
      "cell_type": "code",
      "source": [
        "#product of 2 numpy\n",
        "u = np.array([1,2])\n",
        "v = np.array([3,2])\n",
        "z = u*v\n",
        "z"
      ],
      "metadata": {
        "colab": {
          "base_uri": "https://localhost:8080/"
        },
        "id": "auRZv3BdOzGZ",
        "outputId": "c538bb6f-c274-44c9-f386-4f994376888a"
      },
      "execution_count": null,
      "outputs": [
        {
          "output_type": "execute_result",
          "data": {
            "text/plain": [
              "array([3, 4])"
            ]
          },
          "metadata": {},
          "execution_count": 22
        }
      ]
    },
    {
      "cell_type": "code",
      "source": [
        "#dot product\n",
        "u = np.array([1,2])\n",
        "v = np.array([3,1])\n",
        "result = np.dot(u,v)\n",
        "result"
      ],
      "metadata": {
        "colab": {
          "base_uri": "https://localhost:8080/"
        },
        "id": "0Y6rlXcPPBcj",
        "outputId": "b1d2ef57-99f2-4b04-a53e-c7a7b5edfbc0"
      },
      "execution_count": null,
      "outputs": [
        {
          "output_type": "execute_result",
          "data": {
            "text/plain": [
              "5"
            ]
          },
          "metadata": {},
          "execution_count": 23
        }
      ]
    },
    {
      "cell_type": "code",
      "source": [
        "#Universal Functions\n",
        "a = np.array([1,-1,1,-1])\n",
        "mean_a = a.mean()\n",
        "mean_a"
      ],
      "metadata": {
        "colab": {
          "base_uri": "https://localhost:8080/"
        },
        "id": "AsnDD2OiPXC8",
        "outputId": "d4b8f9a0-92dc-4f05-cb9c-f3138baa4987"
      },
      "execution_count": null,
      "outputs": [
        {
          "output_type": "execute_result",
          "data": {
            "text/plain": [
              "0.0"
            ]
          },
          "metadata": {},
          "execution_count": 25
        }
      ]
    },
    {
      "cell_type": "markdown",
      "source": [
        "we have universal functions as\n",
        "max, min, pi, sin x, cos"
      ],
      "metadata": {
        "id": "G2FufZJvPizS"
      }
    },
    {
      "cell_type": "markdown",
      "source": [
        "Linspace to generate arrays"
      ],
      "metadata": {
        "id": "OOgmfeQRP0f1"
      }
    },
    {
      "cell_type": "code",
      "source": [
        "np.linspace(-2,2,num=5)"
      ],
      "metadata": {
        "colab": {
          "base_uri": "https://localhost:8080/"
        },
        "id": "tY16HfaDP4cg",
        "outputId": "147e3c6d-cb6c-42f5-adac-d56bed66b23c"
      },
      "execution_count": null,
      "outputs": [
        {
          "output_type": "execute_result",
          "data": {
            "text/plain": [
              "array([-2., -1.,  0.,  1.,  2.])"
            ]
          },
          "metadata": {},
          "execution_count": 26
        }
      ]
    },
    {
      "cell_type": "markdown",
      "source": [
        "**Ploting mathematical Functions**\n"
      ],
      "metadata": {
        "id": "VmIjv5xuQGBF"
      }
    },
    {
      "cell_type": "code",
      "source": [
        "import matplotlib.pyplot as plt #for ploting\n",
        "x = np.linspace(0,2*np.pi,100)\n",
        "y = np.sin(x)\n",
        "# %matplotlib inline #for jyupyter notebook\n",
        "plt.plot(x,y)\n"
      ],
      "metadata": {
        "colab": {
          "base_uri": "https://localhost:8080/",
          "height": 282
        },
        "id": "NsubnM4MQJEL",
        "outputId": "d0115f60-30e1-4733-fbc1-3d08da5fb43e"
      },
      "execution_count": null,
      "outputs": [
        {
          "output_type": "execute_result",
          "data": {
            "text/plain": [
              "[<matplotlib.lines.Line2D at 0x7f65a39a23d0>]"
            ]
          },
          "metadata": {},
          "execution_count": 28
        },
        {
          "output_type": "display_data",
          "data": {
            "text/plain": [
              "<Figure size 432x288 with 1 Axes>"
            ],
            "image/png": "[encoded data removed]"
          },
          "metadata": {
            "needs_background": "light"
          }
        }
      ]
    },
    {
      "cell_type": "code",
      "source": [
        "#Question 1\n",
        "np.array([1,-1])*np.array([1,1])"
      ],
      "metadata": {
        "colab": {
          "base_uri": "https://localhost:8080/"
        },
        "id": "ak5H_oT0Q18R",
        "outputId": "edb553cf-5675-4e61-ff98-ffed0320a3e7"
      },
      "execution_count": null,
      "outputs": [
        {
          "output_type": "execute_result",
          "data": {
            "text/plain": [
              "array([ 1, -1])"
            ]
          },
          "metadata": {},
          "execution_count": 29
        }
      ]
    },
    {
      "cell_type": "code",
      "source": [
        "#Question 2\n",
        "np.dot(np.array([1,-1]),np.array([1,1]))"
      ],
      "metadata": {
        "colab": {
          "base_uri": "https://localhost:8080/"
        },
        "id": "xtsnoxt1Q72M",
        "outputId": "3f2351e1-5054-4df7-b15f-39524f635230"
      },
      "execution_count": null,
      "outputs": [
        {
          "output_type": "execute_result",
          "data": {
            "text/plain": [
              "0"
            ]
          },
          "metadata": {},
          "execution_count": 30
        }
      ]
    },
    {
      "cell_type": "markdown",
      "source": [
        "#MODULE 5 - NUMPY 2D ARRAYS.\n",
        "\n",
        "It is similar than 1D but in 2D\n"
      ],
      "metadata": {
        "id": "ZHH-r26ISAc_"
      }
    },
    {
      "cell_type": "code",
      "source": [
        "#the list put in between brackets and separete with comas\n",
        "a = [[11,12,13],[21,22,23],[31,32,33]]\n",
        "a = np.array(a)\n",
        "a"
      ],
      "metadata": {
        "colab": {
          "base_uri": "https://localhost:8080/"
        },
        "id": "0cD39sIDSI_j",
        "outputId": "df937501-58db-41a7-b2bf-49dfff39618f"
      },
      "execution_count": null,
      "outputs": [
        {
          "output_type": "execute_result",
          "data": {
            "text/plain": [
              "array([[11, 12, 13],\n",
              "       [21, 22, 23],\n",
              "       [31, 32, 33]])"
            ]
          },
          "metadata": {},
          "execution_count": 33
        }
      ]
    },
    {
      "cell_type": "code",
      "source": [
        "a.ndim"
      ],
      "metadata": {
        "colab": {
          "base_uri": "https://localhost:8080/"
        },
        "id": "eP7DaqepScSP",
        "outputId": "6119a351-d42f-4db1-ca3e-c2fc1bb9077c"
      },
      "execution_count": null,
      "outputs": [
        {
          "output_type": "execute_result",
          "data": {
            "text/plain": [
              "2"
            ]
          },
          "metadata": {},
          "execution_count": 34
        }
      ]
    },
    {
      "cell_type": "code",
      "source": [
        "a.shape #row and columns, axis 0 and axis 1"
      ],
      "metadata": {
        "colab": {
          "base_uri": "https://localhost:8080/"
        },
        "id": "-Lxle0wLSlKx",
        "outputId": "2e4198f8-d998-44a2-eba5-f4afe0207246"
      },
      "execution_count": null,
      "outputs": [
        {
          "output_type": "execute_result",
          "data": {
            "text/plain": [
              "(3, 3)"
            ]
          },
          "metadata": {},
          "execution_count": 35
        }
      ]
    },
    {
      "cell_type": "code",
      "source": [
        "a.size #total number of elements"
      ],
      "metadata": {
        "colab": {
          "base_uri": "https://localhost:8080/"
        },
        "id": "rXqmZ1jESt8d",
        "outputId": "e40dede0-590a-4920-be81-947adaf6619b"
      },
      "execution_count": null,
      "outputs": [
        {
          "output_type": "execute_result",
          "data": {
            "text/plain": [
              "9"
            ]
          },
          "metadata": {},
          "execution_count": 37
        }
      ]
    },
    {
      "cell_type": "code",
      "source": [
        "#To acces to the 2nd row 3rd column\n",
        "a[1][2]"
      ],
      "metadata": {
        "colab": {
          "base_uri": "https://localhost:8080/"
        },
        "id": "cu59SW4SS-jB",
        "outputId": "3270996d-98f3-4b17-ee03-a2a01853731c"
      },
      "execution_count": null,
      "outputs": [
        {
          "output_type": "execute_result",
          "data": {
            "text/plain": [
              "23"
            ]
          },
          "metadata": {},
          "execution_count": 39
        }
      ]
    },
    {
      "cell_type": "code",
      "source": [
        "#Question 1\n",
        "np.array([[1,2],[3,4],[5,6],[7,8]])"
      ],
      "metadata": {
        "colab": {
          "base_uri": "https://localhost:8080/"
        },
        "id": "9tIYEcsFVpR1",
        "outputId": "65bfc027-c3f4-4776-c499-5928b47ab2ac"
      },
      "execution_count": null,
      "outputs": [
        {
          "output_type": "execute_result",
          "data": {
            "text/plain": [
              "array([[1, 2],\n",
              "       [3, 4],\n",
              "       [5, 6],\n",
              "       [7, 8]])"
            ]
          },
          "metadata": {},
          "execution_count": 40
        }
      ]
    },
    {
      "cell_type": "code",
      "source": [
        "#question 2\n",
        "A = np.array([[1,2],[3,4],[5,6],[7,8]])\n",
        "B = np.array([[1,2,3],[4,5,6],[7,8,9]])\n",
        "\n",
        "A.shape==B.shape\n",
        "#Should be same\n"
      ],
      "metadata": {
        "colab": {
          "base_uri": "https://localhost:8080/"
        },
        "id": "dvse6z_3V7_n",
        "outputId": "8c6252f4-f217-4009-ed53-142ba256abe5"
      },
      "execution_count": null,
      "outputs": [
        {
          "output_type": "execute_result",
          "data": {
            "text/plain": [
              "False"
            ]
          },
          "metadata": {},
          "execution_count": 47
        }
      ]
    },
    {
      "cell_type": "markdown",
      "source": [
        "#MODULE 5 SIMPLE APIs Part 1 (Aplication program interface)\n",
        "\n",
        "An API lets 2 pieces of software talk wo each other, and with the API we can communicate inputs and outputs"
      ],
      "metadata": {
        "id": "HMN_cRXpWtKl"
      }
    },
    {
      "cell_type": "markdown",
      "source": [
        "REST APIs, are anothet popular type of API but through internet.\n",
        "\n",
        "It can use HTTP method to comunicate or send the requst, using Json as dictionary\n",
        "\n",
        "The http request inside the JSon tell the service to do an operation, then the service respond to the client"
      ],
      "metadata": {
        "id": "yh5nrojrXEXP"
      }
    },
    {
      "cell_type": "markdown",
      "source": [
        "About **nba_api** do not need json but it is need ID"
      ],
      "metadata": {
        "id": "2OPjUzzVX4UT"
      }
    },
    {
      "cell_type": "code",
      "source": [
        "pip install nba_api"
      ],
      "metadata": {
        "colab": {
          "base_uri": "https://localhost:8080/"
        },
        "id": "HnXRy_lOZCeo",
        "outputId": "2485d59e-898d-4a44-9357-b43b79c6a945"
      },
      "execution_count": null,
      "outputs": [
        {
          "output_type": "stream",
          "name": "stdout",
          "text": [
            "Looking in indexes: https://pypi.org/simple, https://us-python.pkg.dev/colab-wheels/public/simple/\n",
            "Collecting nba_api\n",
            "  Downloading nba_api-1.1.11.tar.gz (125 kB)\n",
            "\u001b[K     |████████████████████████████████| 125 kB 5.1 MB/s \n",
            "\u001b[?25hRequirement already satisfied: requests in /usr/local/lib/python3.7/dist-packages (from nba_api) (2.23.0)\n",
            "Requirement already satisfied: idna<3,>=2.5 in /usr/local/lib/python3.7/dist-packages (from requests->nba_api) (2.10)\n",
            "Requirement already satisfied: urllib3!=1.25.0,!=1.25.1,<1.26,>=1.21.1 in /usr/local/lib/python3.7/dist-packages (from requests->nba_api) (1.24.3)\n",
            "Requirement already satisfied: certifi>=2017.4.17 in /usr/local/lib/python3.7/dist-packages (from requests->nba_api) (2022.6.15)\n",
            "Requirement already satisfied: chardet<4,>=3.0.2 in /usr/local/lib/python3.7/dist-packages (from requests->nba_api) (3.0.4)\n",
            "Building wheels for collected packages: nba-api\n",
            "  Building wheel for nba-api (setup.py) ... \u001b[?25l\u001b[?25hdone\n",
            "  Created wheel for nba-api: filename=nba_api-1.1.11-py3-none-any.whl size=251504 sha256=2c37a27e1b53e5fdccdd4b8e9de803e83a48597493ebb4c055617a81d512f4d1\n",
            "  Stored in directory: /root/.cache/pip/wheels/e3/f4/46/996128675381abc175e306642bae575d372dcf7efc4683e551\n",
            "Successfully built nba-api\n",
            "Installing collected packages: nba-api\n",
            "Successfully installed nba-api-1.1.11\n"
          ]
        }
      ]
    },
    {
      "cell_type": "code",
      "source": [
        "\n",
        "from nba_api.stats.static import teams\n",
        "nba_teams = teams.get_teams()\n",
        "nba_teams[:5]"
      ],
      "metadata": {
        "colab": {
          "base_uri": "https://localhost:8080/"
        },
        "id": "cSFYRZIuYRe5",
        "outputId": "b0030d8a-b150-4dda-96b9-fd1ce68da36e"
      },
      "execution_count": null,
      "outputs": [
        {
          "output_type": "execute_result",
          "data": {
            "text/plain": [
              "[{'id': 1610612737,\n",
              "  'full_name': 'Atlanta Hawks',\n",
              "  'abbreviation': 'ATL',\n",
              "  'nickname': 'Hawks',\n",
              "  'city': 'Atlanta',\n",
              "  'state': 'Atlanta',\n",
              "  'year_founded': 1949},\n",
              " {'id': 1610612738,\n",
              "  'full_name': 'Boston Celtics',\n",
              "  'abbreviation': 'BOS',\n",
              "  'nickname': 'Celtics',\n",
              "  'city': 'Boston',\n",
              "  'state': 'Massachusetts',\n",
              "  'year_founded': 1946},\n",
              " {'id': 1610612739,\n",
              "  'full_name': 'Cleveland Cavaliers',\n",
              "  'abbreviation': 'CLE',\n",
              "  'nickname': 'Cavaliers',\n",
              "  'city': 'Cleveland',\n",
              "  'state': 'Ohio',\n",
              "  'year_founded': 1970},\n",
              " {'id': 1610612740,\n",
              "  'full_name': 'New Orleans Pelicans',\n",
              "  'abbreviation': 'NOP',\n",
              "  'nickname': 'Pelicans',\n",
              "  'city': 'New Orleans',\n",
              "  'state': 'Louisiana',\n",
              "  'year_founded': 2002},\n",
              " {'id': 1610612741,\n",
              "  'full_name': 'Chicago Bulls',\n",
              "  'abbreviation': 'CHI',\n",
              "  'nickname': 'Bulls',\n",
              "  'city': 'Chicago',\n",
              "  'state': 'Illinois',\n",
              "  'year_founded': 1966}]"
            ]
          },
          "metadata": {},
          "execution_count": 54
        }
      ]
    },
    {
      "cell_type": "code",
      "source": [
        "def one_dict(list_dict):\n",
        "  keys = list_dict[0].keys()\n",
        "  out_dict={key:[] for key in keys}\n",
        "  for dict_ in list_dict:\n",
        "    for key, value in dict_.items():\n",
        "      out_dict[key].append(value)\n",
        "  return out_dict"
      ],
      "metadata": {
        "id": "quhvoj0_ZPFY"
      },
      "execution_count": null,
      "outputs": []
    },
    {
      "cell_type": "code",
      "source": [
        "#first row\n",
        "nba_teams[0]"
      ],
      "metadata": {
        "colab": {
          "base_uri": "https://localhost:8080/"
        },
        "id": "InxBVbbVaPIS",
        "outputId": "ca42830e-0321-477b-dadf-2e1a171c5137"
      },
      "execution_count": null,
      "outputs": [
        {
          "output_type": "execute_result",
          "data": {
            "text/plain": [
              "{'id': 1610612737,\n",
              " 'full_name': 'Atlanta Hawks',\n",
              " 'abbreviation': 'ATL',\n",
              " 'nickname': 'Hawks',\n",
              " 'city': 'Atlanta',\n",
              " 'state': 'Atlanta',\n",
              " 'year_founded': 1949}"
            ]
          },
          "metadata": {},
          "execution_count": 65
        }
      ]
    },
    {
      "cell_type": "code",
      "source": [
        "#get keys for first row\n",
        "nba_teams[0].keys()"
      ],
      "metadata": {
        "colab": {
          "base_uri": "https://localhost:8080/"
        },
        "id": "zDou-M_mafoT",
        "outputId": "4f6561cc-0688-41a7-c455-e7b6405a1a40"
      },
      "execution_count": null,
      "outputs": [
        {
          "output_type": "execute_result",
          "data": {
            "text/plain": [
              "dict_keys(['id', 'full_name', 'abbreviation', 'nickname', 'city', 'state', 'year_founded'])"
            ]
          },
          "metadata": {},
          "execution_count": 66
        }
      ]
    },
    {
      "cell_type": "code",
      "source": [
        "import pandas as pd\n",
        "dict_nba_team=one_dict(nba_teams)\n",
        "df_teams = pd.DataFrame(dict_nba_team)\n",
        "df_teams.head()"
      ],
      "metadata": {
        "colab": {
          "base_uri": "https://localhost:8080/",
          "height": 206
        },
        "id": "tiXOG41qZpDp",
        "outputId": "b5f4ac06-4c4d-481e-806d-26c6e5dc091d"
      },
      "execution_count": null,
      "outputs": [
        {
          "output_type": "execute_result",
          "data": {
            "text/plain": [
              "           id             full_name abbreviation   nickname         city  \\\n",
              "0  1610612737         Atlanta Hawks          ATL      Hawks      Atlanta   \n",
              "1  1610612738        Boston Celtics          BOS    Celtics       Boston   \n",
              "2  1610612739   Cleveland Cavaliers          CLE  Cavaliers    Cleveland   \n",
              "3  1610612740  New Orleans Pelicans          NOP   Pelicans  New Orleans   \n",
              "4  1610612741         Chicago Bulls          CHI      Bulls      Chicago   \n",
              "\n",
              "           state  year_founded  \n",
              "0        Atlanta          1949  \n",
              "1  Massachusetts          1946  \n",
              "2           Ohio          1970  \n",
              "3      Louisiana          2002  \n",
              "4       Illinois          1966  "
            ],
            "text/html": [
              "\n",
              "  <div id=\"df-1d4a1b36-56a6-411a-a526-1fbdfbebeb5b\">\n",
              "    <div class=\"colab-df-container\">\n",
              "      <div>\n",
              "<style scoped>\n",
              "    .dataframe tbody tr th:only-of-type {\n",
              "        vertical-align: middle;\n",
              "    }\n",
              "\n",
              "    .dataframe tbody tr th {\n",
              "        vertical-align: top;\n",
              "    }\n",
              "\n",
              "    .dataframe thead th {\n",
              "        text-align: right;\n",
              "    }\n",
              "</style>\n",
              "<table border=\"1\" class=\"dataframe\">\n",
              "  <thead>\n",
              "    <tr style=\"text-align: right;\">\n",
              "      <th></th>\n",
              "      <th>id</th>\n",
              "      <th>full_name</th>\n",
              "      <th>abbreviation</th>\n",
              "      <th>nickname</th>\n",
              "      <th>city</th>\n",
              "      <th>state</th>\n",
              "      <th>year_founded</th>\n",
              "    </tr>\n",
              "  </thead>\n",
              "  <tbody>\n",
              "    <tr>\n",
              "      <th>0</th>\n",
              "      <td>1610612737</td>\n",
              "      <td>Atlanta Hawks</td>\n",
              "      <td>ATL</td>\n",
              "      <td>Hawks</td>\n",
              "      <td>Atlanta</td>\n",
              "      <td>Atlanta</td>\n",
              "      <td>1949</td>\n",
              "    </tr>\n",
              "    <tr>\n",
              "      <th>1</th>\n",
              "      <td>1610612738</td>\n",
              "      <td>Boston Celtics</td>\n",
              "      <td>BOS</td>\n",
              "      <td>Celtics</td>\n",
              "      <td>Boston</td>\n",
              "      <td>Massachusetts</td>\n",
              "      <td>1946</td>\n",
              "    </tr>\n",
              "    <tr>\n",
              "      <th>2</th>\n",
              "      <td>1610612739</td>\n",
              "      <td>Cleveland Cavaliers</td>\n",
              "      <td>CLE</td>\n",
              "      <td>Cavaliers</td>\n",
              "      <td>Cleveland</td>\n",
              "      <td>Ohio</td>\n",
              "      <td>1970</td>\n",
              "    </tr>\n",
              "    <tr>\n",
              "      <th>3</th>\n",
              "      <td>1610612740</td>\n",
              "      <td>New Orleans Pelicans</td>\n",
              "      <td>NOP</td>\n",
              "      <td>Pelicans</td>\n",
              "      <td>New Orleans</td>\n",
              "      <td>Louisiana</td>\n",
              "      <td>2002</td>\n",
              "    </tr>\n",
              "    <tr>\n",
              "      <th>4</th>\n",
              "      <td>1610612741</td>\n",
              "      <td>Chicago Bulls</td>\n",
              "      <td>CHI</td>\n",
              "      <td>Bulls</td>\n",
              "      <td>Chicago</td>\n",
              "      <td>Illinois</td>\n",
              "      <td>1966</td>\n",
              "    </tr>\n",
              "  </tbody>\n",
              "</table>\n",
              "</div>\n",
              "      <button class=\"colab-df-convert\" onclick=\"convertToInteractive('df-1d4a1b36-56a6-411a-a526-1fbdfbebeb5b')\"\n",
              "              title=\"Convert this dataframe to an interactive table.\"\n",
              "              style=\"display:none;\">\n",
              "        \n",
              "  <svg xmlns=\"http://www.w3.org/2000/svg\" height=\"24px\"viewBox=\"0 0 24 24\"\n",
              "       width=\"24px\">\n",
              "    <path d=\"M0 0h24v24H0V0z\" fill=\"none\"/>\n",
              "    <path d=\"M18.56 5.44l.94 2.06.94-2.06 2.06-.94-2.06-.94-.94-2.06-.94 2.06-2.06.94zm-11 1L8.5 8.5l.94-2.06 2.06-.94-2.06-.94L8.5 2.5l-.94 2.06-2.06.94zm10 10l.94 2.06.94-2.06 2.06-.94-2.06-.94-.94-2.06-.94 2.06-2.06.94z\"/><path d=\"M17.41 7.96l-1.37-1.37c-.4-.4-.92-.59-1.43-.59-.52 0-1.04.2-1.43.59L10.3 9.45l-7.72 7.72c-.78.78-.78 2.05 0 2.83L4 21.41c.39.39.9.59 1.41.59.51 0 1.02-.2 1.41-.59l7.78-7.78 2.81-2.81c.8-.78.8-2.07 0-2.86zM5.41 20L4 18.59l7.72-7.72 1.47 1.35L5.41 20z\"/>\n",
              "  </svg>\n",
              "      </button>\n",
              "      \n",
              "  <style>\n",
              "    .colab-df-container {\n",
              "      display:flex;\n",
              "      flex-wrap:wrap;\n",
              "      gap: 12px;\n",
              "    }\n",
              "\n",
              "    .colab-df-convert {\n",
              "      background-color: #E8F0FE;\n",
              "      border: none;\n",
              "      border-radius: 50%;\n",
              "      cursor: pointer;\n",
              "      display: none;\n",
              "      fill: #1967D2;\n",
              "      height: 32px;\n",
              "      padding: 0 0 0 0;\n",
              "      width: 32px;\n",
              "    }\n",
              "\n",
              "    .colab-df-convert:hover {\n",
              "      background-color: #E2EBFA;\n",
              "      box-shadow: 0px 1px 2px rgba(60, 64, 67, 0.3), 0px 1px 3px 1px rgba(60, 64, 67, 0.15);\n",
              "      fill: #174EA6;\n",
              "    }\n",
              "\n",
              "    [theme=dark] .colab-df-convert {\n",
              "      background-color: #3B4455;\n",
              "      fill: #D2E3FC;\n",
              "    }\n",
              "\n",
              "    [theme=dark] .colab-df-convert:hover {\n",
              "      background-color: #434B5C;\n",
              "      box-shadow: 0px 1px 3px 1px rgba(0, 0, 0, 0.15);\n",
              "      filter: drop-shadow(0px 1px 2px rgba(0, 0, 0, 0.3));\n",
              "      fill: #FFFFFF;\n",
              "    }\n",
              "  </style>\n",
              "\n",
              "      <script>\n",
              "        const buttonEl =\n",
              "          document.querySelector('#df-1d4a1b36-56a6-411a-a526-1fbdfbebeb5b button.colab-df-convert');\n",
              "        buttonEl.style.display =\n",
              "          google.colab.kernel.accessAllowed ? 'block' : 'none';\n",
              "\n",
              "        async function convertToInteractive(key) {\n",
              "          const element = document.querySelector('#df-1d4a1b36-56a6-411a-a526-1fbdfbebeb5b');\n",
              "          const dataTable =\n",
              "            await google.colab.kernel.invokeFunction('convertToInteractive',\n",
              "                                                     [key], {});\n",
              "          if (!dataTable) return;\n",
              "\n",
              "          const docLinkHtml = 'Like what you see? Visit the ' +\n",
              "            '<a target=\"_blank\" href=https://colab.research.google.com/notebooks/data_table.ipynb>data table notebook</a>'\n",
              "            + ' to learn more about interactive tables.';\n",
              "          element.innerHTML = '';\n",
              "          dataTable['output_type'] = 'display_data';\n",
              "          await google.colab.output.renderOutput(dataTable, element);\n",
              "          const docLink = document.createElement('div');\n",
              "          docLink.innerHTML = docLinkHtml;\n",
              "          element.appendChild(docLink);\n",
              "        }\n",
              "      </script>\n",
              "    </div>\n",
              "  </div>\n",
              "  "
            ]
          },
          "metadata": {},
          "execution_count": 60
        }
      ]
    },
    {
      "cell_type": "code",
      "source": [
        "df_warriors=df_teams[df_teams['nickname'] == \"Warriors\"]\n",
        "df_warriors"
      ],
      "metadata": {
        "colab": {
          "base_uri": "https://localhost:8080/",
          "height": 81
        },
        "id": "TvgjY9ofaVV0",
        "outputId": "8e7de853-5af6-427b-a43c-16087a71c18c"
      },
      "execution_count": null,
      "outputs": [
        {
          "output_type": "execute_result",
          "data": {
            "text/plain": [
              "           id              full_name abbreviation  nickname          city  \\\n",
              "7  1610612744  Golden State Warriors          GSW  Warriors  Golden State   \n",
              "\n",
              "        state  year_founded  \n",
              "7  California          1946  "
            ],
            "text/html": [
              "\n",
              "  <div id=\"df-eaa8b3a9-6e8b-4bdb-a665-a2e7477e9688\">\n",
              "    <div class=\"colab-df-container\">\n",
              "      <div>\n",
              "<style scoped>\n",
              "    .dataframe tbody tr th:only-of-type {\n",
              "        vertical-align: middle;\n",
              "    }\n",
              "\n",
              "    .dataframe tbody tr th {\n",
              "        vertical-align: top;\n",
              "    }\n",
              "\n",
              "    .dataframe thead th {\n",
              "        text-align: right;\n",
              "    }\n",
              "</style>\n",
              "<table border=\"1\" class=\"dataframe\">\n",
              "  <thead>\n",
              "    <tr style=\"text-align: right;\">\n",
              "      <th></th>\n",
              "      <th>id</th>\n",
              "      <th>full_name</th>\n",
              "      <th>abbreviation</th>\n",
              "      <th>nickname</th>\n",
              "      <th>city</th>\n",
              "      <th>state</th>\n",
              "      <th>year_founded</th>\n",
              "    </tr>\n",
              "  </thead>\n",
              "  <tbody>\n",
              "    <tr>\n",
              "      <th>7</th>\n",
              "      <td>1610612744</td>\n",
              "      <td>Golden State Warriors</td>\n",
              "      <td>GSW</td>\n",
              "      <td>Warriors</td>\n",
              "      <td>Golden State</td>\n",
              "      <td>California</td>\n",
              "      <td>1946</td>\n",
              "    </tr>\n",
              "  </tbody>\n",
              "</table>\n",
              "</div>\n",
              "      <button class=\"colab-df-convert\" onclick=\"convertToInteractive('df-eaa8b3a9-6e8b-4bdb-a665-a2e7477e9688')\"\n",
              "              title=\"Convert this dataframe to an interactive table.\"\n",
              "              style=\"display:none;\">\n",
              "        \n",
              "  <svg xmlns=\"http://www.w3.org/2000/svg\" height=\"24px\"viewBox=\"0 0 24 24\"\n",
              "       width=\"24px\">\n",
              "    <path d=\"M0 0h24v24H0V0z\" fill=\"none\"/>\n",
              "    <path d=\"M18.56 5.44l.94 2.06.94-2.06 2.06-.94-2.06-.94-.94-2.06-.94 2.06-2.06.94zm-11 1L8.5 8.5l.94-2.06 2.06-.94-2.06-.94L8.5 2.5l-.94 2.06-2.06.94zm10 10l.94 2.06.94-2.06 2.06-.94-2.06-.94-.94-2.06-.94 2.06-2.06.94z\"/><path d=\"M17.41 7.96l-1.37-1.37c-.4-.4-.92-.59-1.43-.59-.52 0-1.04.2-1.43.59L10.3 9.45l-7.72 7.72c-.78.78-.78 2.05 0 2.83L4 21.41c.39.39.9.59 1.41.59.51 0 1.02-.2 1.41-.59l7.78-7.78 2.81-2.81c.8-.78.8-2.07 0-2.86zM5.41 20L4 18.59l7.72-7.72 1.47 1.35L5.41 20z\"/>\n",
              "  </svg>\n",
              "      </button>\n",
              "      \n",
              "  <style>\n",
              "    .colab-df-container {\n",
              "      display:flex;\n",
              "      flex-wrap:wrap;\n",
              "      gap: 12px;\n",
              "    }\n",
              "\n",
              "    .colab-df-convert {\n",
              "      background-color: #E8F0FE;\n",
              "      border: none;\n",
              "      border-radius: 50%;\n",
              "      cursor: pointer;\n",
              "      display: none;\n",
              "      fill: #1967D2;\n",
              "      height: 32px;\n",
              "      padding: 0 0 0 0;\n",
              "      width: 32px;\n",
              "    }\n",
              "\n",
              "    .colab-df-convert:hover {\n",
              "      background-color: #E2EBFA;\n",
              "      box-shadow: 0px 1px 2px rgba(60, 64, 67, 0.3), 0px 1px 3px 1px rgba(60, 64, 67, 0.15);\n",
              "      fill: #174EA6;\n",
              "    }\n",
              "\n",
              "    [theme=dark] .colab-df-convert {\n",
              "      background-color: #3B4455;\n",
              "      fill: #D2E3FC;\n",
              "    }\n",
              "\n",
              "    [theme=dark] .colab-df-convert:hover {\n",
              "      background-color: #434B5C;\n",
              "      box-shadow: 0px 1px 3px 1px rgba(0, 0, 0, 0.15);\n",
              "      filter: drop-shadow(0px 1px 2px rgba(0, 0, 0, 0.3));\n",
              "      fill: #FFFFFF;\n",
              "    }\n",
              "  </style>\n",
              "\n",
              "      <script>\n",
              "        const buttonEl =\n",
              "          document.querySelector('#df-eaa8b3a9-6e8b-4bdb-a665-a2e7477e9688 button.colab-df-convert');\n",
              "        buttonEl.style.display =\n",
              "          google.colab.kernel.accessAllowed ? 'block' : 'none';\n",
              "\n",
              "        async function convertToInteractive(key) {\n",
              "          const element = document.querySelector('#df-eaa8b3a9-6e8b-4bdb-a665-a2e7477e9688');\n",
              "          const dataTable =\n",
              "            await google.colab.kernel.invokeFunction('convertToInteractive',\n",
              "                                                     [key], {});\n",
              "          if (!dataTable) return;\n",
              "\n",
              "          const docLinkHtml = 'Like what you see? Visit the ' +\n",
              "            '<a target=\"_blank\" href=https://colab.research.google.com/notebooks/data_table.ipynb>data table notebook</a>'\n",
              "            + ' to learn more about interactive tables.';\n",
              "          element.innerHTML = '';\n",
              "          dataTable['output_type'] = 'display_data';\n",
              "          await google.colab.output.renderOutput(dataTable, element);\n",
              "          const docLink = document.createElement('div');\n",
              "          docLink.innerHTML = docLinkHtml;\n",
              "          element.appendChild(docLink);\n",
              "        }\n",
              "      </script>\n",
              "    </div>\n",
              "  </div>\n",
              "  "
            ]
          },
          "metadata": {},
          "execution_count": 67
        }
      ]
    },
    {
      "cell_type": "code",
      "source": [
        "id_warriors = df_warriors[['id']].values[0][0]\n",
        "id_warriors"
      ],
      "metadata": {
        "colab": {
          "base_uri": "https://localhost:8080/"
        },
        "id": "uHuMucQ1bLu2",
        "outputId": "245dd989-57d5-47a7-d162-95b70863aeee"
      },
      "execution_count": null,
      "outputs": [
        {
          "output_type": "execute_result",
          "data": {
            "text/plain": [
              "1610612744"
            ]
          },
          "metadata": {},
          "execution_count": 68
        }
      ]
    },
    {
      "cell_type": "code",
      "source": [
        "from nba_api.stats.endpoints import leaguegamefinder\n",
        "gamefinder = leaguegamefinder.LeagueGameFinder(team_id_nullable=id_warriors)\n",
        "games = gamefinder.get_data_frames()[0]\n",
        "games.head()"
      ],
      "metadata": {
        "colab": {
          "base_uri": "https://localhost:8080/",
          "height": 236
        },
        "id": "pR8BVvWWbdXK",
        "outputId": "61b91188-19a1-4aaf-902a-80a00801b404"
      },
      "execution_count": null,
      "outputs": [
        {
          "output_type": "execute_result",
          "data": {
            "text/plain": [
              "  SEASON_ID     TEAM_ID TEAM_ABBREVIATION              TEAM_NAME     GAME_ID  \\\n",
              "0     12022  1610612744               GSW  Golden State Warriors  0012200004   \n",
              "1     12022  1610612744               GSW  Golden State Warriors  0012200001   \n",
              "2     22022  1610612744               GSW  Golden State Warriors  1522200074   \n",
              "3     22022  1610612744               GSW  Golden State Warriors  1522200056   \n",
              "4     22022  1610612744               GSW  Golden State Warriors  1522200035   \n",
              "\n",
              "    GAME_DATE      MATCHUP WL  MIN  PTS  ...  FT_PCT  OREB  DREB   REB  AST  \\\n",
              "0  2022-10-02  GSW vs. WAS  W  240  104  ...   0.667  11.0  36.0  47.0   29   \n",
              "1  2022-09-30    GSW @ WAS  W  239   96  ...   0.775  10.0  52.0  62.0   18   \n",
              "2  2022-07-17  GSW vs. WAS  L  201   77  ...   0.667  12.0  33.0  45.0   15   \n",
              "3  2022-07-15  GSW vs. OKC  L  202   82  ...   0.667   4.0  31.0  35.0   14   \n",
              "4  2022-07-12  GSW vs. BOS  L  199   92  ...   0.667  16.0  22.0  38.0   14   \n",
              "\n",
              "   STL  BLK  TOV  PF  PLUS_MINUS  \n",
              "0    6    5   22  25         9.0  \n",
              "1    6    3   17  27         9.0  \n",
              "2    6    6   21  20       -10.0  \n",
              "3    7    3   16  23        -8.0  \n",
              "4    7    8   13  23       -18.4  \n",
              "\n",
              "[5 rows x 28 columns]"
            ],
            "text/html": [
              "\n",
              "  <div id=\"df-422be37e-6aa1-492b-8b4c-d7cfc20cfb21\">\n",
              "    <div class=\"colab-df-container\">\n",
              "      <div>\n",
              "<style scoped>\n",
              "    .dataframe tbody tr th:only-of-type {\n",
              "        vertical-align: middle;\n",
              "    }\n",
              "\n",
              "    .dataframe tbody tr th {\n",
              "        vertical-align: top;\n",
              "    }\n",
              "\n",
              "    .dataframe thead th {\n",
              "        text-align: right;\n",
              "    }\n",
              "</style>\n",
              "<table border=\"1\" class=\"dataframe\">\n",
              "  <thead>\n",
              "    <tr style=\"text-align: right;\">\n",
              "      <th></th>\n",
              "      <th>SEASON_ID</th>\n",
              "      <th>TEAM_ID</th>\n",
              "      <th>TEAM_ABBREVIATION</th>\n",
              "      <th>TEAM_NAME</th>\n",
              "      <th>GAME_ID</th>\n",
              "      <th>GAME_DATE</th>\n",
              "      <th>MATCHUP</th>\n",
              "      <th>WL</th>\n",
              "      <th>MIN</th>\n",
              "      <th>PTS</th>\n",
              "      <th>...</th>\n",
              "      <th>FT_PCT</th>\n",
              "      <th>OREB</th>\n",
              "      <th>DREB</th>\n",
              "      <th>REB</th>\n",
              "      <th>AST</th>\n",
              "      <th>STL</th>\n",
              "      <th>BLK</th>\n",
              "      <th>TOV</th>\n",
              "      <th>PF</th>\n",
              "      <th>PLUS_MINUS</th>\n",
              "    </tr>\n",
              "  </thead>\n",
              "  <tbody>\n",
              "    <tr>\n",
              "      <th>0</th>\n",
              "      <td>12022</td>\n",
              "      <td>1610612744</td>\n",
              "      <td>GSW</td>\n",
              "      <td>Golden State Warriors</td>\n",
              "      <td>0012200004</td>\n",
              "      <td>2022-10-02</td>\n",
              "      <td>GSW vs. WAS</td>\n",
              "      <td>W</td>\n",
              "      <td>240</td>\n",
              "      <td>104</td>\n",
              "      <td>...</td>\n",
              "      <td>0.667</td>\n",
              "      <td>11.0</td>\n",
              "      <td>36.0</td>\n",
              "      <td>47.0</td>\n",
              "      <td>29</td>\n",
              "      <td>6</td>\n",
              "      <td>5</td>\n",
              "      <td>22</td>\n",
              "      <td>25</td>\n",
              "      <td>9.0</td>\n",
              "    </tr>\n",
              "    <tr>\n",
              "      <th>1</th>\n",
              "      <td>12022</td>\n",
              "      <td>1610612744</td>\n",
              "      <td>GSW</td>\n",
              "      <td>Golden State Warriors</td>\n",
              "      <td>0012200001</td>\n",
              "      <td>2022-09-30</td>\n",
              "      <td>GSW @ WAS</td>\n",
              "      <td>W</td>\n",
              "      <td>239</td>\n",
              "      <td>96</td>\n",
              "      <td>...</td>\n",
              "      <td>0.775</td>\n",
              "      <td>10.0</td>\n",
              "      <td>52.0</td>\n",
              "      <td>62.0</td>\n",
              "      <td>18</td>\n",
              "      <td>6</td>\n",
              "      <td>3</td>\n",
              "      <td>17</td>\n",
              "      <td>27</td>\n",
              "      <td>9.0</td>\n",
              "    </tr>\n",
              "    <tr>\n",
              "      <th>2</th>\n",
              "      <td>22022</td>\n",
              "      <td>1610612744</td>\n",
              "      <td>GSW</td>\n",
              "      <td>Golden State Warriors</td>\n",
              "      <td>1522200074</td>\n",
              "      <td>2022-07-17</td>\n",
              "      <td>GSW vs. WAS</td>\n",
              "      <td>L</td>\n",
              "      <td>201</td>\n",
              "      <td>77</td>\n",
              "      <td>...</td>\n",
              "      <td>0.667</td>\n",
              "      <td>12.0</td>\n",
              "      <td>33.0</td>\n",
              "      <td>45.0</td>\n",
              "      <td>15</td>\n",
              "      <td>6</td>\n",
              "      <td>6</td>\n",
              "      <td>21</td>\n",
              "      <td>20</td>\n",
              "      <td>-10.0</td>\n",
              "    </tr>\n",
              "    <tr>\n",
              "      <th>3</th>\n",
              "      <td>22022</td>\n",
              "      <td>1610612744</td>\n",
              "      <td>GSW</td>\n",
              "      <td>Golden State Warriors</td>\n",
              "      <td>1522200056</td>\n",
              "      <td>2022-07-15</td>\n",
              "      <td>GSW vs. OKC</td>\n",
              "      <td>L</td>\n",
              "      <td>202</td>\n",
              "      <td>82</td>\n",
              "      <td>...</td>\n",
              "      <td>0.667</td>\n",
              "      <td>4.0</td>\n",
              "      <td>31.0</td>\n",
              "      <td>35.0</td>\n",
              "      <td>14</td>\n",
              "      <td>7</td>\n",
              "      <td>3</td>\n",
              "      <td>16</td>\n",
              "      <td>23</td>\n",
              "      <td>-8.0</td>\n",
              "    </tr>\n",
              "    <tr>\n",
              "      <th>4</th>\n",
              "      <td>22022</td>\n",
              "      <td>1610612744</td>\n",
              "      <td>GSW</td>\n",
              "      <td>Golden State Warriors</td>\n",
              "      <td>1522200035</td>\n",
              "      <td>2022-07-12</td>\n",
              "      <td>GSW vs. BOS</td>\n",
              "      <td>L</td>\n",
              "      <td>199</td>\n",
              "      <td>92</td>\n",
              "      <td>...</td>\n",
              "      <td>0.667</td>\n",
              "      <td>16.0</td>\n",
              "      <td>22.0</td>\n",
              "      <td>38.0</td>\n",
              "      <td>14</td>\n",
              "      <td>7</td>\n",
              "      <td>8</td>\n",
              "      <td>13</td>\n",
              "      <td>23</td>\n",
              "      <td>-18.4</td>\n",
              "    </tr>\n",
              "  </tbody>\n",
              "</table>\n",
              "<p>5 rows × 28 columns</p>\n",
              "</div>\n",
              "      <button class=\"colab-df-convert\" onclick=\"convertToInteractive('df-422be37e-6aa1-492b-8b4c-d7cfc20cfb21')\"\n",
              "              title=\"Convert this dataframe to an interactive table.\"\n",
              "              style=\"display:none;\">\n",
              "        \n",
              "  <svg xmlns=\"http://www.w3.org/2000/svg\" height=\"24px\"viewBox=\"0 0 24 24\"\n",
              "       width=\"24px\">\n",
              "    <path d=\"M0 0h24v24H0V0z\" fill=\"none\"/>\n",
              "    <path d=\"M18.56 5.44l.94 2.06.94-2.06 2.06-.94-2.06-.94-.94-2.06-.94 2.06-2.06.94zm-11 1L8.5 8.5l.94-2.06 2.06-.94-2.06-.94L8.5 2.5l-.94 2.06-2.06.94zm10 10l.94 2.06.94-2.06 2.06-.94-2.06-.94-.94-2.06-.94 2.06-2.06.94z\"/><path d=\"M17.41 7.96l-1.37-1.37c-.4-.4-.92-.59-1.43-.59-.52 0-1.04.2-1.43.59L10.3 9.45l-7.72 7.72c-.78.78-.78 2.05 0 2.83L4 21.41c.39.39.9.59 1.41.59.51 0 1.02-.2 1.41-.59l7.78-7.78 2.81-2.81c.8-.78.8-2.07 0-2.86zM5.41 20L4 18.59l7.72-7.72 1.47 1.35L5.41 20z\"/>\n",
              "  </svg>\n",
              "      </button>\n",
              "      \n",
              "  <style>\n",
              "    .colab-df-container {\n",
              "      display:flex;\n",
              "      flex-wrap:wrap;\n",
              "      gap: 12px;\n",
              "    }\n",
              "\n",
              "    .colab-df-convert {\n",
              "      background-color: #E8F0FE;\n",
              "      border: none;\n",
              "      border-radius: 50%;\n",
              "      cursor: pointer;\n",
              "      display: none;\n",
              "      fill: #1967D2;\n",
              "      height: 32px;\n",
              "      padding: 0 0 0 0;\n",
              "      width: 32px;\n",
              "    }\n",
              "\n",
              "    .colab-df-convert:hover {\n",
              "      background-color: #E2EBFA;\n",
              "      box-shadow: 0px 1px 2px rgba(60, 64, 67, 0.3), 0px 1px 3px 1px rgba(60, 64, 67, 0.15);\n",
              "      fill: #174EA6;\n",
              "    }\n",
              "\n",
              "    [theme=dark] .colab-df-convert {\n",
              "      background-color: #3B4455;\n",
              "      fill: #D2E3FC;\n",
              "    }\n",
              "\n",
              "    [theme=dark] .colab-df-convert:hover {\n",
              "      background-color: #434B5C;\n",
              "      box-shadow: 0px 1px 3px 1px rgba(0, 0, 0, 0.15);\n",
              "      filter: drop-shadow(0px 1px 2px rgba(0, 0, 0, 0.3));\n",
              "      fill: #FFFFFF;\n",
              "    }\n",
              "  </style>\n",
              "\n",
              "      <script>\n",
              "        const buttonEl =\n",
              "          document.querySelector('#df-422be37e-6aa1-492b-8b4c-d7cfc20cfb21 button.colab-df-convert');\n",
              "        buttonEl.style.display =\n",
              "          google.colab.kernel.accessAllowed ? 'block' : 'none';\n",
              "\n",
              "        async function convertToInteractive(key) {\n",
              "          const element = document.querySelector('#df-422be37e-6aa1-492b-8b4c-d7cfc20cfb21');\n",
              "          const dataTable =\n",
              "            await google.colab.kernel.invokeFunction('convertToInteractive',\n",
              "                                                     [key], {});\n",
              "          if (!dataTable) return;\n",
              "\n",
              "          const docLinkHtml = 'Like what you see? Visit the ' +\n",
              "            '<a target=\"_blank\" href=https://colab.research.google.com/notebooks/data_table.ipynb>data table notebook</a>'\n",
              "            + ' to learn more about interactive tables.';\n",
              "          element.innerHTML = '';\n",
              "          dataTable['output_type'] = 'display_data';\n",
              "          await google.colab.output.renderOutput(dataTable, element);\n",
              "          const docLink = document.createElement('div');\n",
              "          docLink.innerHTML = docLinkHtml;\n",
              "          element.appendChild(docLink);\n",
              "        }\n",
              "      </script>\n",
              "    </div>\n",
              "  </div>\n",
              "  "
            ]
          },
          "metadata": {},
          "execution_count": 70
        }
      ]
    },
    {
      "cell_type": "code",
      "source": [
        "games_home = games[games['MATCHUP']=='GSW vs. TOR']\n",
        "games_away = games[games['MATCHUP']=='GSW @ TOR']\n"
      ],
      "metadata": {
        "id": "DKCLh-aacLj2"
      },
      "execution_count": null,
      "outputs": []
    },
    {
      "cell_type": "code",
      "source": [
        "fig, ax = plt.subplots()\n",
        "games_away.plot(x = 'GAME_DATE', y='PLUS_MINUS', ax = ax)\n",
        "games_home.plot(x = 'GAME_DATE', y='PLUS_MINUS', ax = ax)\n",
        "ax.legend(['away','home'])\n",
        "plt.show()"
      ],
      "metadata": {
        "colab": {
          "base_uri": "https://localhost:8080/",
          "height": 280
        },
        "id": "i7jNSrC_cT34",
        "outputId": "66c8060a-f5e3-474b-b8e1-0b833bf94d28"
      },
      "execution_count": null,
      "outputs": [
        {
          "output_type": "display_data",
          "data": {
            "text/plain": [
              "<Figure size 432x288 with 1 Axes>"
            ],
            "image/png": "[encoded data removed]"
          },
          "metadata": {
            "needs_background": "light"
          }
        }
      ]
    },
    {
      "cell_type": "markdown",
      "source": [
        "#MODULE 5 API PART 2"
      ],
      "metadata": {
        "id": "SK0TbY88dxut"
      }
    },
    {
      "cell_type": "markdown",
      "source": [
        "**API Keys and endpoints**"
      ],
      "metadata": {
        "id": "KCTy9FVBd4Qo"
      }
    },
    {
      "cell_type": "code",
      "source": [
        "pip install ibm-watson"
      ],
      "metadata": {
        "id": "Ufo8TFAXeVHi",
        "outputId": "62e97682-f720-48b4-d111-970fa3011dc8",
        "colab": {
          "base_uri": "https://localhost:8080/"
        }
      },
      "execution_count": null,
      "outputs": [
        {
          "output_type": "stream",
          "name": "stdout",
          "text": [
            "Looking in indexes: https://pypi.org/simple, https://us-python.pkg.dev/colab-wheels/public/simple/\n",
            "Requirement already satisfied: ibm-watson in /usr/local/lib/python3.7/dist-packages (6.1.0)\n",
            "Requirement already satisfied: python-dateutil>=2.5.3 in /usr/local/lib/python3.7/dist-packages (from ibm-watson) (2.8.2)\n",
            "Requirement already satisfied: ibm-cloud-sdk-core==3.*,>=3.3.6 in /usr/local/lib/python3.7/dist-packages (from ibm-watson) (3.16.0)\n",
            "Requirement already satisfied: websocket-client==1.1.0 in /usr/local/lib/python3.7/dist-packages (from ibm-watson) (1.1.0)\n",
            "Requirement already satisfied: requests<3.0,>=2.0 in /usr/local/lib/python3.7/dist-packages (from ibm-watson) (2.28.1)\n",
            "Requirement already satisfied: urllib3<2.0.0,>=1.26.0 in /usr/local/lib/python3.7/dist-packages (from ibm-cloud-sdk-core==3.*,>=3.3.6->ibm-watson) (1.26.12)\n",
            "Requirement already satisfied: PyJWT<3.0.0,>=2.4.0 in /usr/local/lib/python3.7/dist-packages (from ibm-cloud-sdk-core==3.*,>=3.3.6->ibm-watson) (2.5.0)\n",
            "Requirement already satisfied: six>=1.5 in /usr/local/lib/python3.7/dist-packages (from python-dateutil>=2.5.3->ibm-watson) (1.15.0)\n",
            "Requirement already satisfied: charset-normalizer<3,>=2 in /usr/local/lib/python3.7/dist-packages (from requests<3.0,>=2.0->ibm-watson) (2.1.1)\n",
            "Requirement already satisfied: idna<4,>=2.5 in /usr/local/lib/python3.7/dist-packages (from requests<3.0,>=2.0->ibm-watson) (2.10)\n",
            "Requirement already satisfied: certifi>=2017.4.17 in /usr/local/lib/python3.7/dist-packages (from requests<3.0,>=2.0->ibm-watson) (2022.6.15)\n"
          ]
        }
      ]
    },
    {
      "cell_type": "code",
      "source": [
        "from ibm_watson import SpeechToTextV1\n",
        "\n",
        "#url_s2t = \"https://stream.watsonplatform.net/speech-to-text/api\"\n",
        "#apikey_lt='dU2SaxxxxxxxxxxxxasdCuasdf'\n",
        "#version_lt ='2018-05-01'\n",
        "\n",
        "#language_translator = LanguageTranslatorV3(iam_apikey=apikey_lt,url=url_lt,version=version_lt)\n",
        "#language_translator.list_identifiable_languages().get_result()  "
      ],
      "metadata": {
        "id": "vA7BewgjeIEW"
      },
      "execution_count": null,
      "outputs": []
    },
    {
      "cell_type": "markdown",
      "source": [
        "I can not execute the ibm watson, I dont have access\n"
      ],
      "metadata": {
        "id": "C6oqh129Bi4w"
      }
    },
    {
      "cell_type": "markdown",
      "source": [
        "*We can resume that the API are really usefol and on python it will be easier because it is just use ID or key and not the full json to establish the comunnication between server an client*\n"
      ],
      "metadata": {
        "id": "CkekPoswy4I8"
      }
    },
    {
      "cell_type": "markdown",
      "source": [
        "![image.png](data:image/png;base64,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)"
      ],
      "metadata": {
        "id": "3BvpvozFzK4i"
      }
    },
    {
      "cell_type": "markdown",
      "source": [
        "![image.png](data:image/png;base64,iVBORw0KGgoAAAANSUhEUgAABYEAAAOiCAYAAAAmJxgXAAAgAElEQVR4nOzdeXxV1b3//9c+c06Sk3lkSBgFIiAzBRXUYh2uVqte8eGEA/antvUK13LvF2t7VdraVlGq4tBWHKpSZ5xaEZxAiMpgmMckkJmMJ3POOXv//gg5ckiCYFUgvJ+PBw/Ze6+91trrhPh4vLPy2YZlWRYiIiIiIiIiIiIi0iPZjvYEREREREREREREROS7oxBYREREREREREREpAdTCCwiIiIiIiIiIiLSgykEFhEREREREREREenBFAKLiIiIiIiIiIiI9GAKgUVERERERERERER6MIXAIiIiIiIiIiIiIj2YQmARERERERERERGRHkwhsIiIiIiIiIiIiEgPphBYREREREREREREpAdTCCwiIiIiIiIiIiLSgykEFhEREREREREREenBFAKLiIiIiIiIiIiI9GAKgUVERERERERERER6MIXAIiIiIiIiIiIiIj2YQmARERERERERERGRHkwhsIiIiIiIiIiIiEgPphBYREREREREREREpAdTCCwiIiIiIiIiIiLSgykEFhEREREREREREenBFAKLiIiIiIiIiIiI9GAKgUVERERERERERER6MIXAIiIiIiIiIiIiIj2YQmARERERERERERGRHkwhsIiIiIiIiIiIiEgPphBYREREREREREREpAdTCCwiIiIiIiIiIiLSgykEFhEREREREREREenBFAKLiIiIiIiIiIiI9GAKgUVERERERERERER6MIXAIiIiIiIiIiIiIj2YQmARERERERERERGRHkwhsIiIiIiIiIiIiEgPphBYREREREREREREpAdTCCwiIiIiIiIiIiLSgykEFhEREREREREREenBFAKLiIiIiIiIiIiI9GCOoz2B75tlWRH/FREREREREREREfkuGYYR8d/v2wkVAluWRTAYJBAIEAwGFQSLiIiIiIiIiIjId8owDBwOB06nE4fDcVSC4BMmBO4IgP1+P1VVVdTX1ysIFhERERERERERke9MRwAcGxtLUlISPp/vqATBJ0wIDBAIBKiqquL0S6842lMRERERERERERGRE8jHL79AVFQUDsf3H8meMCFwx07g+vp6AMry1pCYmPitjzNnzhzmzJnzrfcrIiIiIiIiIiIi35377ruP++677zvp29W7X0Rlgu97J7Dtex3tKOsIgr8rCoBFRERERERERESOT991tnc0S9OeUCEw8J0ttAJgERERERERERGR49t3mfEdzXeTnXAh8HdBAbCIiIiIiIiIiEjP0BOzPoXA/6ae+EUhIiIiIiIiIiJyIutpmZ9C4H9DT/tiEBERERERERERkXY9KftTCPwN9aQvAhEREREREREREemsp2SACoG/gZ7y4YuIiIiIiIiIiMih9YQsUCHwEeoJH7qIiIiIiIiIiIgcvuM9E1QIfASO9w9bREREREREREREvpnjORtUCHyYjucPWURERERERERERP59x2tG6DjaEzgezJkzh/l//wfz//6Poz0VEREREREREREROcrmzJnDfffdd7SncdgUAn+NjnR//t//wfz//W8yMzPxeDzYbNpELSIiIiIiIiIiciIwTZOWlhZKSkq4/Xd/Cu8GPl6CYIXAh3Dw9u7MzEwGDhxIdHS0QmAREREREREREZEThGmaNDY2Rpw7noJghcDd6Kq+h8fjITo6mpiYGIXAIiIiIiIiIiIiJwjTNIH2fPBAx0sQrBC4C90VeLbZbBF/RERERERERERE5MTQXSZ4PATBSjIPcry+4U9ERERERERERESOjmM9U1QIfIBj/cMSERERERERERGRY9OxnC0qBN7vWP6QRERERERERERE5Nh3rGaMCoE5dj8cEREREREREREROb4ci1njCR8CH4sfioiIiIiIiIiIiBy/jrXM8YQOgY+1D0NERERERERERER6hmMpezzhQ2ARERERERERERGR78KcOXOorq4+2tPAcbQnICIiIiIiIiIicqwwDONoT0GOAsuyjvYUvlMKgUVERERERERERA7Q0wNBiXQiBP8ndDkIERERERERERERkZ5OIbCIiIiIiIiIiIhID6YQWERERERERERERKQHUwgsIiIiIiIiIiIi0oMpBBYRERERERERERHpwRQCi4iIiIiIiIiIHAbDML7xn+nTp3fqb8yYMYd9/6JFiyLuXbt2bfhaQUEBANOnT4+459RTTwUgEAiQnp6OYRgsWbIkop+lS5cecryFCxdiGAZjxowJ39OvXz8Mw2Dx4sUAPPDAAxH3ulwuysvLD7mWfr+fuLg4DMNg6dKlEdeWLFmCYRikp6cTCAQAOPXUU/+t9TcM42s/355MIbCIiIiIiIiIiIhID+Y42hMQERERERERERE5ntx7772MGjXqsNr+5S9/4bXXXjtkm1tvvZXzzjvvkG2WLVvG+eefHz5OSUnh7bffBiAtLQ2AOXPmcM0114TblJaWcv7552OaJrW1tQDcfffdPP7441x++eVcc801jBo1KtzPgUaMGBFxvHPnzvD4Hbt877vvPp555hlOOeWUiD5sNhvx8fHh8XJzc8PjdeXOO+/kwQcfDB8fahfxzJkzueiii7q9fqD333+f+fPnH1bbnk4hsIiIiIiIiIiIyBEYP34806ZNO6y2y5Yt+9o2OTk5XxsCv/TSS7zzzjvh49GjR3cqETFq1KiIcHrlypUR9wCsWbMm3BYgOTn5a8eG9vINB/e1bt061q1bx5AhQ7rtY82aNbzzzjuHDM0/++yzrx2/w6HGOlhFRcVh99vTKQQWERERERERERH5Bj788ENWrlzZ5bVrr72W3r17H/L+66+/nnPPPZeKigrmzZvHiBEjuOCCCyLaPP7441RWVpKXlwe0h7/nnnsuhmEwb968iLYXX3wxw4YNIzc3l/fff589e/Z87TPk5+fz/PPPh49/+tOfkpyczJtvvkleXl6XAe2tt94a3ukL4HA4mDdvHn369OGaa67BNE0WLFhAY2Mj27dvB9oD6QPn29raSmtrKwBXXHEF/fv3P+R6Hmzz5s3d7rA+99xzGT169GH1c6JQCCwiIiIiIiIiIvINvP/++52C2A5Tp0792hD41ltvBeCWW25h4cKFzJgxo1MI/NBDD7Fly5bw8YQJE7j33ntZu3ZtxMvaAAYOHMiwYcNYuXIld95552E9w86dOyPa/uQnPyE5OZlXX321007jDv/93/9NdnZ2+PiBBx5g9uzZTJ48mWuuuYZQKMTvf//7iLIOH374IR9++GGX/V133XVMmzaNO++887BD4A0bNnT7jImJiQqBD6IQWERERERERERE5Cj44osvqK+vp7i4uNs248ePJz09nS1btlBWVnZY/fbp04czzjiDuro61q5de0Rz+uyzzygrKyM+Pp4zzjiD4uJitm/fTmxsLGPHjgVg/fr15Ofnk5OTQ2pqani8k08+uVN/w4cPJzk5mcLCQnbv3n1Yc0hOTmb48OEkJCRgGMYRzV+6ZjvaExARERERERERETkR/fSnP+XMM89kyZIl3bZZtGgRy5cv55xzzjnsfi+77DKWL1/OggULjnhOM2bM4Mwzz2TkyJEsX76c//qv/wJg0KBBLF++nOXLl3P77bdz5pln8sEHH3ztePfeey/Lly/n+uuvP+w5TJo0ieXLl/PKK6/gcGgP67dBqygiIiIiIiIiIvI9sSyLQCAQ/ju019S12WwYhkFbWxuGYeB0OgEIBAJYloVhGLhcrnCbUCiEy+WK6Ns0Tdra2rDb7djt9ohrTqcTwzAIBoOYpkkoFKKtrY1gMNjlPDuuh0Khbp8lGAzS1tbW6XzHnA9kt9txuVyYptntmB1tFPx++7QTWERERERERERE5HtSVFREVlYWWVlZbNy4EWjfLVtYWMjEiRPJysrirLPOCrc/66yzyMrKYuLEiRQWFjJkyBCysrL45S9/SWFhYcSff/7zn2RlZXHPPfdEjOl0OlmzZg2FhYX88Ic/BODPf/4zWVlZXHnllV3Oc/bs2WRlZTF37txun+VnP/tZ+FkO/DNgwAAqKysj2v785z+nsLCQv//97932d8cdd1BYWMhf/vKXQy+iHDHF6iIiIiIiIiIiIt+TUCjUqbavz+cjPT0dl8tFWVkZCQkJ4WuVlZWUlZXhcrlIT0/H4XBQVlZGZmYm6enpEf20trZSVlZGfX19p3FTU1NJS0vD4/EA0NjYSGNjY7fzrKuro66u7pDPUltb+7XP2yE6Opro6OiIZztYTEwMMTExh92nHD6FwCIiIiIiIiIiIt/AFVdcwahRo7q8NmTIkC7Pp6am8vLLL0ecO7iPoqIiLr30UqB9d6zP5wu/lO1HP/oRL7/8MjU1NeE2HSZPnsxll13G1q1bufTSS6mqqup27pdccglXXHFFt9cfeeSRcM3fgy1cuPCQAfKBxo0bB8Arr7zCCy+8QHl5eac2d999N48//jhXXHEFl1xyyWH1O3ny5E7r2KG7z+REphBYRERERERERETkG8jJySEnJ+eI7vF6vV8bdNbX1/PKK68AcM899zB06NDwtf79+9O/f3/Wrl3LzJkzI+677LLLuOSSS3jggQfC93dnyJAhh5zHW2+91e21I3lJXYetW7d2O6cVK1YARxbe9u7dm969ex/xPE5UCoFFRERERERERESOwCuvvMKGDRsOq+2aNWsijv1+f7jm7VVXXUVqairLli3jyy+/pKmpiVmzZlFVVcXTTz8dcd+//vUvNm3axMiRIyNqBgPccMMNxMXFsXPnTh544AEaGhqYNWsWxcXFLF68+JDzKywsjAhnZ8yYQWJiYvi4Yzyn08kDDzwAwI033ojP5+Ptt99m27ZtjBkzhilTplBSUsKLL76I3W5n5syZeL1e3njjDXbt2kUwGGTWrFnh8VwuFzNnzsTtdvPKK69QWFgYHnPXrl288cYbREdHM3PmTGy2r15r9tFHHx3OsgPw+eefH3bbns7R1NR0tOfwvTBNk6amJlpbW4/2VERERERERERE5Dj2+OOPf+N7q6urmT17NgBTp04lNTWVV155hYULFzJjxgyeeuoptmzZ0ikEfvHFF1m0aBE333xzpxD4zjvvJDs7m+nTp7N48WJmzZrF/fffz8qVK782BN6+fXt4PgDnnntuRAg8adIk7r//ftauXcuYMWMA+MlPfoLP5+PZZ58NjzdlyhTy8/OZPXs2TqeT6dOn4/V6+dvf/saSJUuYO3cu999/P0uXLuWVV17B4/Hw29/+Fp/Px4YNGyJC4E2bNjF79mzS0tK4/vrrI0LgJUuWsGTJkiNc9WNDa2srTU1N2O32iGf6PmgnsIiIiIiIiIiIyGGYMGHCN7534MCB3V7Lzs5mwoQJxMbGkpubS0FBQfhaXl4efr+f2NhYJkyYQFRUFLm5uRQVFYXn43a7I/orLS0lNzeXzZs3A2BZFmvXriUxMZGampqItnFxcRHPFRUVFXG9vLyc3Nxctm3bFj63fv16ysvLD1lzuMPgwYOZMGECNpuN3NxcSktLmTBhAtHR0djt9oi2RUVF5Obmsn379k79DBs2jGAwiGEYXzumdKYQWERERERERERE5DCsXr36O+n3l7/8Jb/85S9ZtGgREydOjLg2ffp0AJ566ikWLFjAwoULmThxIqNHj+5UaqLDCy+8wAsvvBA+DgaDnHfeeV22HT9+/CGf69VXX+XVV1+NOHfxxRcf1nMB/PGPfwRg3rx5TJw4kWnTpnU73mOPPcZjjz3W5bUnnnjisMeUzr7ffcciIiIiIiIiIiIi8r3STmAREREREREREZFv4P777+eRRx4JHycnJ/Ppp5/icHwVuc2bN4+//vWv4eNgMNhtf5deeilTpkxh165dTJs2DYClS5cyYMAA/vCHP3D33Xfj9/u7vX/BggX87ne/Cx+vWbOGyy67rMu2jzzyCM8//3y3fe3bt6/bax3+/Oc/c/755/Pyyy/Tv39/cnJy2L17N4ZhkJycDMBNN93E+++/T21tLQArVqygf//+xMTE8OmnnxITExPub/bs2dx6663h45qaGnJyciLWbO7cudxwww28/fbb/PznP6d37958/PHHXzvXE51CYBERERERERERkW+gpqaG/Pz88HFTUxOWZUW0qa6ujmhzKDExMcTExNDS0hI+16tXL/r160dLS8vX9pOamhpxXFJS0m3b2tracDD7TaWkpNCvXz/sdjv5+flkZmbSr1+/iDbl5eUR825ubiY/Px+fz4dpmhFtExISIu73er0UFBQQCATC5+rq6gBoaGggPz+/03pL1xQCy0FMmhs3QU0ZhIIQ7cPh64/TlXG0JyYiIiIiIiIiclRdffXVEcfr168HYPTo0dx+++1ERUWFX3Z29913s2PHDk466SSeffZZcnNzefjhh0lOTmb+/PlA+wvhABYtWsSyZcs47bTTuOmmm8jMzOTZZ58F4KGHHqKxsZFPP/00YuyCgoLwfObPn09ycjIPP/wwubm54TYdu3ntdjsLFizA5/Md8TMvW7aMRYsWRZzrGO/g+sXbt2/n6quvxm6389BDDxEXF8ftt9/e5W7kYDDIbbfdRjAY5Pzzz+eaa67hlFNO+dr5PP/886xbt4709HSeffZZmpubw+twzz33hNdUIikE7umCQcx95Zhb1n11Li4O+4ChGHGJYHxVFtq0TBqbq2ne/CpW/T4wTXB7iM6ahrNPWkTbY4VlWTS1thEyLQ7+wY/TYSPK7eLgd0aapkVrIEhbMNSpP7vdwOtyYrPZDrrHpKktQCjU+adLLqcdj8sZHseyLJrbAgRDJpYFDpuBy+nA6fjqjZcHtwGwGeB0tPcVCpk0trZFPJPDbsPldOCwGQSCIZrbuv/1ka54XO1zME2L1mCQYDDyp21etxOH3U4gFKQtECJkfjW4YUBMlBubYdDSFiAQDNFx2TDAabe1r4Fh0NzaRuCA5zoUh8OG2+HAYT/2vrZEREREREREDvbcc891eb53795cddVVEefee+89Vq5cyf33389VV12F0+nk4YcfJiYmplPbzz77jOeeew6Hw8FNN91EXFxcuM1vf/tbtmzZ0mnM6urq8HzuuecekpOTWbFiBYsXL+7U1mazcckll5CWlnbEz1xfX98pBL7ooou6DFv37dvHc889h9Pp5L777iMuLo6pU6d22a/f7+e2227D7/dzzTXXhMtffJ01a9awZs0aLr/8cv74xz9SUFDATTfdBMDtt9+uELgbCoGPMw0tAQIhE4fNwO204XQ4OoWcBzKrKgh+sozA8ve/OhkbCz/6CdbIUZjeKEIhk5BlYppBGupLcBTlQbAx3NzyngTJLUR5PNht/15YFwyZtAaCBEwLt8OGx+nAMA71BN1raG7hyx17WL5mc0Rg2SE+xsuowVlMHjE4HDK2BoKs3riT9TsKqalv6nSP3WZw1tgchg/oQ6zXA0C1v5E1W/NZvWlnl+OkJvgYN7Qfo0/KxmazEQiZvLh0NSWVNQRDJtFuF2OH9uPUkSfhdNixgLZgiKff+YR9NfWY+9PSWK+HUYP6cvqooZRV1fK3tz4OXwPok5rED04eQHZGMpsLSnhr5fojWq9p43IYMbAv+2rrWbVxJzv2lkVcv/yHE+mfmULezj18tnk3+2rrATAMg1ivhxsvnEJMlIdP1m8jb9de6pvafzXFabeTlZ7E9GkTcdjt/Ct3A9v2lNHc2va1cxrcN4NJJw8kOyP5iJ5FRERERERE5Gi4+eabI45zc3NZu3Zt+Li5uZlnnnkG0zSZOHEiI0aMoLGxkYULF7JmzRqgPVRduHBhRD+bNm0CYOvWrSxcuJCEhASmT58OwPTp0ykrK4to210N3GnTppGYmBg+Li0t5fXXX8c0TZ5++mliY2M599xzI4LSoqIi3nzzzfDx9OnTSUhI4IMPPmDr1q188sknQHu9444dvUuWLMHpdDJt2jQGDhwYvjc9PZ2LL74Yu91OVFQUAO+++y4FBQWMGTOG8ePHh8czTZOrr74a0zTp3bt3xHMUFBTw7rvvEgwGufHGGwF47bXXItZh586dLFy4kOrq6vC5l19+mdzcXE4//XRycnK6XKMTlULg40hrIMjyLcUUVzfishukx0eR0yuR7JS4bu+xyosIrv6AQN62iPONCdlYKRkYvTIIhUwMwMDEsGxY7gyMUCFYARyeeIJGNDX1zTS1hXDt36nqdjohGCBQW0+oNQB2B7boKNyxUe1bQ7tQ7m9mc3E1hfvqaA1axHkcXDCmP16385BBdlcCwRA7i8p55OWlEWGow27HtCxM0yQhNpqpo4fii45i1OAsLODLHXtY9PbHLP9iMzX17UG3YRg47DYC+3cG7y7ex8wfT2XU4CyCIZMvtuxm4WvLWPb5pshxTBPTskhPjOP8yafg83oY3DeDUCjE4vdXs25bAS1tAaI9bi45YxxZGcn0z0wFyyIQCvHCe6vYtLsoPG6vlASuPmcyk0cMprSyhkdfXkpzawCL9iB44skDSY6PIT0pjo279vLA8+8c0ZolxHoZ0CuVovIqlnz8Be+uyou4PnZoP/qkJrJh516eeecTthS01w2y221kpSUz/YcTifa4+XTDDl54bxUllTUARLldnDpiMJedOR6H3c4Hazaz5JO1VNU1RPTfvs52AvuLuQdDJheeOoqstESFwCIiIiIiInJcePTRRyOO77zzzogQ2O/38/Of/5xAIMCKFSuYPHkys2fP5q677gq3qaqq4pZbbumy/9WrV7N69WqGDh0aDoEPvBdg4cKF3YbAN9xwAzfccEP4eOXKlbz++uuEQiHmzJkDwBtvvBERAm/ZsiViPlOnTiUhIYFnnnkmYgdw3759w8/fr18/CgoKePHFFyNC4AEDBnRao8cee4wlS5Ywd+5cxo8fHx7P5/Oxd+/eLktU5OXlccstt5CWlsbevXtxOp3k5eVFhMAdO4IP1PFSvEcffVQh8EEUAh9H/E0tPP3xFj7ZXoZlwdDMeGaeMeTQIXBrE6a/stP5UMs+HKEmotxuXA47blf7r+SbwVj27DsTp/8zDLMRV8IgSBlCs2FQW9+EYRjERLnxRXsI7NxDzZottFbXYbmjiB6YRcb4ITjjY7ucy8biah5eupEVW0uwGQbxXieTBmcQ5XRg2I4sBm5saWXDzr0s+WQdyfGxZGck47C3l38IhUxqG5qorK3n8y27eXn5Z+0hsGXx2oef89mm3bicDnL69yba48Jus+Fxu/A3NrO7uIJ3V33JkKwM+qYlUd/Uwvufb2L1xp2kJcaRlZ4EgNfjpi0QpNrfSGVdPSu+3E6/zBQGZ2XisNkYMbAPFTV+KqrrCIZMNu4u4pP128hKT8Zm2HDYbUzIGUBDUwvl1X7cTgcD+6STnZmCYRhER3mYNGIweTv30NjcSnysl4G900iJjwXaw9QotwuAfpkpRHvc1NQ3UlXXgGlZJPqiSY6LpTUQZGdROZZl4XLYMQyD+Nho+vdKo29aEpV19bgcDvr1SiUpNhq7zSAzJYGT+mZQ29BEXUMzvugoxgzph8fVvmu7f69UsjOSaWppxQIyUxIY1r8Xtv2f4Ul9MxjQK21/GG+R5IshOT4Gm82G1+2isbmVkqpaSvbVdCqTISIiIiIiInI8yM/Pp76+noqKCqA9/M3Ly8Pv93PyyScTCoUoKysjLy8Pp9PJiBEjqK2tZc+ePbhcLoYMGRLRX3FxMVVVVSQkJNCnT59OL1cD2Lt3LzU1NRQXF3/t/CorKykpKaGsrIwRI0ZEXKuuriYvL4/U1FTS09OJjY2NaFNYWEggEIjYYQvtu5zz8to3lPXv3x+fz0d8fHxEm8bGRvLy8jAMg6FDh+JwfBU9VlRUkJeXd8iX25WVlVFRUUF1dTUjRowgKSnpG/0GeXFxcXiuBzp4LU4kCoGPMZYFLW0B2gIBDMPA6bDjdjrDAZvLbsNuGAQti6AFLaFDl2ewbHZMh6vT+ZSEWFyJPuyx3gPGtghYDtpSJ5Ey5AxcThvVDUFCdhe+mGjiDYNQKERtbR0l+2oofOxlqj78jMD+sgFpY3Pwuq8lecroLufS0haksaW9RIBhQIzbhQlYgGlZBIOh/bVmLey2/fV8u/l3HggGaWhuxW63kZ2RzKP/fQ0JsdHh6+t27OG5f64kd9MuivfvWDVNi7LqOppaW5l48iCuOmcSowf1bb9mWTS0tHHDvL+QX1KBv7GZ5tYA9Y3N7Kv143E5GX1SFvNvuzJi1/KH67by7D8/pbCsktKqOgzA6XQw55oLCYZM/rkqj2p/A7uLK/h43VbOmTiCtMQ4PE4nc665kFDI5J+r88hKT+bKH03iPyaPwumwM6BXGvNvu5Jb/7SIvF1FTB09lKvPmcyok7JpamnDbreFn/eu6y/m5IF9ePOTtbzw3ipa2gJcMnUsV50ziT0Vtfx/v/8rgWAIt6v96+ik7EyuOHsSWPD0O5+QlhjHw7OuYUDvNDwuJ6edchLRUW7cLifvfPol2RnJ3HHV+cTFeLEZBhedPoby6joq6xowDLhk6jhu+PEZOPd/Y7/qnMm4nHaeeWcFDc2tXP7DCVxzzuSIz+/RV5fz5op1xES5cdgVAouIiIiIiMjx5ac//SlLly4NH3/44YeMHDkyYufqqaeeGq4J/OWXX7J48WKmT59OZmYmX375ZUR/t9xyCwsXLuTHP/4xTz31VJdj3nXXXZ1q83bnmWeeYfbs2UyePLnTWD/+8Y+57rrrmDt3Lvfeey8TJ06MaDNs2LAuaxBv2bKFkSNHAu0heFe1d9evX8/IkSNxOp3s3bs3ogbxk08+yZNPPnnIeT/88MPMmzePCy+8sNO8j8S8efOYN29ep/PW4bzAqIdSCHyMaQ0GeXPlOt7P3UBSXAw5/XszbcIIUuJjvlF/zUm9qBk0jri8oojzod79sOKTIs4FgiHyiyuIjY3G5YnBYbexsaqcj2rqaY5rIzHag9dm8N7O788AACAASURBVIP4OE5JtlPmivzyCbSEaKhr4Zv8Yn9dYwtf7igkb8ceqv319ElN4upzT8Xl7PpLtGM3rWEYuF0OUpPiSfJ9tUa+kn1d3udyONp3pHpcpMT7SE9OANqD6ObWtnDNY7vdht1mYLfbcOzfQet2OcnY375DdFR73WBrfwmKDkm+aGKi3NgPqEW8tbCUd1d9yYzzTw+3iY7y7N+J7CQ+xktMlBsAt8tB77TEcEDqi/aS6IvB43Jit9mYcsoQHrnjWgDGDR1AjNdNfEwULkd7uYUYr4feqUmkJMSxYPbVmKbFgN5p+KKjcDvsJMR6ife1/wDAZrORlpIQfrFbtMfNsKxMBvdNZ8kna6lvaiEQCoV/8uZxOqhvbMbf2MxJfTM4ZXAWiQf8MMEXHUWU24XNZsNmsxHrjQqvc4erzz2VM8YOI8kXrVIQIiIiIiIiIiLfMYXAx5jGpmbythfy9qfr8XrcfLRuK9X+Bn560ZlH3FdDUwt+VzSOCy4letr5mK0BAJqiPFR6okiwuTmwkIQFOB12UnzROBx21tUHeL3VTm6rDauyGVt1KzbgnWKDP2e5Ce6vZdvB6bETHef+Rs/97sp1vPj+anbsLaO1LciQrAzOmTiCXqmJh7zPsixaA+01Zg/89YDszFT+84c/4AfDB9GvV+pXNxhf/cc44B7LsgiFzIObdfo7GBG7k4dkZXLVOZOprW/kpOzMg+6JvLOksoaln23igtPGkOSL3j9+5HzCzwWEQiYdP6AK7a8/DO31iFMT40jwte8Edruc2Iz9PRzYn2HgdjqYmNNem8fpsIdDbtM0D/j8LELB4P7aw+0d+GK89EpJINEXTXNLG19uL2BoVgY2u52Sqjr2lFdT39RMclwM/TNTuqjpfNCqHbSlu19mCn3SErHZbDi1E1hERERERESOEx11Zn/1q1/x4IMP8tBDD/HEE09wxhln8PDDD+NwOMIlEJ577jmampp4+umnycnJYdKkSWzatAmn09mp31/96lf87Gc/C5dX2L17NxdccEFEm1tvvZU77rgjfLxlyxYuvfTSw5p3MBjkzDPPpKqqijlz5vC73/2OV199lZycHH7wgx/wl7/8Jdz2zTffpLW1lblz5/L6669z+eWXc9dddx3xeKeffjoOhyM8XodVq1Zx44030tDQwIQJE7DZvvot947yGh988AE5OTkkJSWxfPnyiLISHc455xzuv/9+SkpKmDZtWsS1u+66i8svv5zXX3+duXPnHtacezqFwMcY07RoaQtQ39RCMGRitxnUNTRxpJvVWwNB6hqbCdkcpGf1xWEzsPaHnDF2O/66Utbu+4K6ykpsrgBWyIbR4iXVm0aWPQkD2NtmUhqCBsuAkAWh9tCwOQiNIQ+D//NHJPbpTe2efbTaLOJG9sczpPOvAhyO2oYmKmr8VPsbCQRD1DY00dIWOKx7u9rKnxofy+mnnERroD8e1wHfXA+xkO39HNlK901LItEXTTBkEuXpXHYDID0pHrfTwb5aPzuLynj/sw1cdtaE/cFtd5M5+Lms8AviDAMcdhsOe9fjHcgwjHDt4IjuLTiw+4Of2mG3k5rgo29aEvmlleTt3Mt/njUR7FBQuo+qunqi3C4yUxJIT+y+JvWB6hubWb5mM40trYwenE12RgrubnZ6i4iIiIiIiByLNm/eDEBSUhLDhg0jJSUFgNjYWIYNGxbRtqNcQjAYZPPmzQwfPrxTmw4ZGRlkZGSEj1tbW8NjdfB6vRH3t7S0HPa8Lcti+/btlJeXEx8fz7Bhw3jttdfYvHkzvXr1img7YMAAgHAgnZiYyLBhw77ReB39HDjvjprGpmmydevWLu+vr69n8+bNpKWldVvCIS4ujmHDhuH1ejtdS09PZ9iwYXz22WeHPeeeTglMDxIwQ+xuKKepqQkjaBDniiUlLg73/hDQ2J+F2oDi0E4+r/2IspZiDHsIy7JhC7pIjEok0eMj0ZVO874WQk1dBLGGgdftJOWUk/D1zqC20k8AC0e8l0aHg65fC3doNsPotFvU/DfqtLicDhIPDhi/xbovBaX7qGtoDn8jstttJPpiiIuO6tS2d2oC2RnJbN9Txq7iCt5csY6zxg4j0ffNSnx8HwwDkuNj6d8rlS0FJWzcXUxTWwCnw86uonKq/Y0k+WLonZKA19P97u+2QJCSylrWbS+keF81C19dRlswyI0XTiUlwYfH3fmnnyIiIiIiIiI9yWWXXcaQIUOorq7mpptuIikpKbwz9t5772XPnj3htpMmTWLGjBlkZGTwxBNPAPDrX/+a0tJSFi1axKeffhpu6/V6w23+9Kc/0dbWxk033cTYsWOZNm0aTzzxBA0NDdx0000YhsGvf/1rHA5HuK5vh82bN3PTTTeFj//v//6PjIwMZsyYwaRJk7oNrgGeeOIJvvjiC9LT03niiSfYtWsX9913H3a7nT/84Q/ExsaGx3vnnXd4/fXXKSpqL1nq8Xj4wx/+gMfj4cEHH2Tz5s1cdNFFnHfeeeH+g8EgP/vZz7Asi0suuYRrr702fK0jrE5KSgqvw8HrKV9RCNxDWJZFTWMlq8ryqGn0E2fFMjJ5IIneGGr8je2NDLDbDEzTYnP1BvKbttLQ1hDRT2WghF0VO/GkxpPicRDrDEHgqzIJDgP6uG3Ee104PE4Mj5uo+Ghi7HbAorqugYYmNzFezxHN3zCMLkoKHJtMy+Kfqzewcdde2vaXVIiJcjNuaH+uOPsHndpHuV2MGNiX5HgfG3cVkbdzL5+s38aPJo7s1PZYkhwXS7/MVALBEHvLqyiv9uN1u9hdso+a+kb6ZabQOy0p/NLCrtQ3NbNqww4qauqo9jeybnshAJW1DQRCoW7vExEREREREekpJk6cyMSJE1m8eDH/8z//Q3Z2djgEfu2111i7dm24bSAQYMaMGcTHxzNz5kwA5s+fT2lpKR999BEfffRRuO3o0aN58MEHAejXrx8FBQWcddZZjB07luHDhzN8+HBWrlzJrFmzunxRW4fi4uKIF7bdfvvtZGRkMGXKFKZMmXLIZ1u+fDmLFy9m1qxZzJw5k5UrV3Lfffdhs9m48sorI8Zbt25dxDgul4trr70Wn8/HSy+9xObNmxk7dmz4uQHKy8u57bbbCAQCrFixgsmTI188D+27sDvueeyxxxQCd0MhcA9hYeFv9ZNft5eq1nrSSSSrKZXGqCRMywpvgrXZDILBENX1floCrV321Ww0EBXl5CRfPJMczdhrWmhqacMIhkiI9TDEFsRqa8NyOwiZJsFQCLvNwO1y4XQ6qPI3HHEIfDwxTYv12wv5cO0WGltaCZkmCbHReFxOrqBzCBwKhUhPjKN3ahJLPl5LVV09r374BeOGtdfqPXgH9LEiPtZLdkYybpeTppY2dhWVkxATxd7yKuqbWkhPiqf319RsbmppY3NBCdv3lkX8+obNZnD8xP4iIiIiIiIikd577z2Ki4ux2+3MmDGDU045BYDm5mZeeumliJfHd+goTdDQ0MCiRYuA9p2/I0aMCLfpCDnr6up47bXXADjjjDOYMGECK1asYOfOneG2VVVV4X7OOeccWlpa2LNnD4sWLSInJ4dx48aRmprKjBkzsNvtREW1//by8uXL2bNnD6FQiBkzZlBSUsJ7770X7vf1118nNze30/wLCws7nZsyZQpRUVF4vV4WLVoUnp9pmixevBifz8dZZ51Fnz59wvdkZmZy9tln4/F4uqyP3J13332XHTt2MG7cOHJycigoKODDDz8kJiamU63i1atXExUVRVlZGTNmzDjsMXoyhcA9hGEYxHjjSXEm4ra5ScWH1+7CbrcT7XLufwOZSTAEIUeAKEcMDsNF0Opc7sEV3b6rN8VmcWm6l0mJHsoq/ZgNTWRlxRHlr6O21o/HbsNmM2k1WzBNJ9EuN0m+aMpKq2gqrcaNHVuUCyPGDQ5bp3GOV4ZhMKxfJq2BACWVtewtr8JmM3B2U982ZFo47HYG90lj2vgcnn9vFas27mRjfhFtgdChawMfRV63i8zkBDKT4ymprGHT7r3EeT2UV9cRCplkJseTmZxwyD5cTge9UhLISk+moamF9TsKCYY6/49QRERERERE5Hjypz/9CWgvP/DUU0+Fz/v9fm688UYCge7fc1RZWcl1110HwJo1axg9enSnNiUlJeE2mzdvZujQoVx33XURIXBhYWG4TX5+PtnZ2UyfPj28M3fcuHEMGjQoYn4ADz30EEuWLGHu3Lk89dRTLF26NCIE/n//7/8d9jrcfPPN3HzzzTzwwAPhuUD7hrjbbrsNgDfeeCMiBM7Jyek0p8Mxb948AO6//35ycnLIzc3luuuuIzs7u1MI/Mwzz/DMM88wY8aMbzRWT6QQuIcwMEj3pjA1dgJuH8RFRdPoD1Lb0EhaohePK4BlBfG4PQRNN6ajGZMQBjYszHAfLruLUK2dMtNPs9dGfIyXgQ47vigHVaaLFJuNhLRkivdVsaN0D43WPqpa64nyRDOELPo4U0j3N1P40qf0IgZXdhrOKQOxp/uO8gp9e+w2gxsvnEooZPLeZxv525sfsaei6mvv65OayH9MOoV/rd5AWXUdr334eXsgemxmwNhsNhJ90Qzum86e8io27y7CabdT19hMoi+avmlJJMVFH7KPlPhY/vOsCVz3H6ezY08ptz/0PP7GZrxu1yHLSIiIiIiIiIgcy3r16oXX68WyLHbs2EF0dDSZmZldtk1OTiYhoetNVG53+3t2KioqqKurw+fzdVmyASAtLY1BgwZRV1dHRUUFbrebvn37AhzRjtqMjAwGDRpEUlIS0F5beNCgQd22P5zxEhISIvqwLIv8/HxCh1kKslevXgwaNCi8nh1qa2sZMGBARD8Hr2UgEAjfk5qayqBBg8Lr6ff7I/o71HP2dAqBe5i4mCiSYmPwetyYXovKhn1s3fceDW0vgmEQ5crEZ13PGN9UjKCHrf711IfaA0y3w82ozDFMyToLF1FUVNVRULaPDWUN/KuojU2BGHpFN/PcOekkJrr53ZoF5NcUhMcemz6KG9IuJeXdMmIXrMC//3ziUzcSdc7wo7Aa352Ol6FFR7lwOuyHdY/H7aJ/7zTOGjeMF95bzQdrthAT5cbf0PxdTvXfEh/r5eQBffhX7gY27CqmtqGZGn8jWelJpCfG4bAf+tltNhsel5OE2GhGDMri8f+5nrZgiIzkeOJjOr+9U0REREREROR48NRTTzFt2jTuvPNOBg8ezIUXXsgbb7zRZdv//d//ZdasWYfs7ze/+Q0LFy485M7V3//+9/z+979n4cKF3HLLLeTk5LBmzZojnvtjjz0WcTx58mS2b9/ebfvDGe+6666L2AkcCATo06cP5eXlhzWnjmfuWM8OaWlp7N2795Ahd3Fxcfiejp3Vt9xyCwsXLuTVV1/l1VdfDbc9sFTliUYhcA9gWSbBVj/B4rVQVUYoexxBR19M7ASCDQTaSmkOVQDQEqwiK2Uf/WPHcHLGMJqC9bSZLZhmiEAgQJQ9kRi7GxvQKyUBZwjK/LVsD9RgWdDcFuCzjTtxuew0Nbdh8dU/nooGP5+37GJwbRPJB/yjCgSDuL7nEgC7iitY/sUmtu8t4+T+vbn2vNPaS2J865tPj6zDpLgYLpk6jnc+zaO+qZnG5hZC5rH7DSgmykP/zBRM06K0qoZ9tX7agkH6ZQ4l42tKQRzM7XQwuG86WGC327AZPadEiIiIiIiIiIjIsUwhcA8Qam2kcvO/SM5fQkprI1UN5VT2PhObrxetIQvDHosVDAEGTruX6tpWmprr8Xp8xHoTSI5yYvhrCKz5kND2jQTsNgzAFp8GQ8YTaMmgzWoP7FwOB0Oyk/CH6rAX2qDlq3l43HbS+yTR29Wf4M72fcCePslE9UvF/h396r9htM/p4JeM1fgbWLe9kNUbd9LSGmgPgQ9gs9mw220H9GPg9biJcrux2b7dcNJ+wFgel5PBfTP40YThvLliHY0tXb+czzDA6XTQUS7Ybvt2Q1O73cAR3sFstJdn6KI2sdfjIjs9hZT4WCrrGgiG2msa9U1LIj0prtv+nQ479oPW0TAMXI72bzlfbMlnc0ExGUlxjBjYl7TE7vsSEREREREROdbceuut+Hw+iouLAfjoo48YO3YsgUCAYDAY0Xb+/Pk8//zz4eOMjAzefPNNAK666iq2bt3Knj17AHjzzTcZO3Ys6enpfPHFFwDccccdlJWVhe+fMmUKX3zxBV7vV79he8EFF1BaWsrMmTO54447OpWUCAaDnHfeeVRXV/PAAw9w+umn87e//Y1HH32007O99NJL9OvXj9/85je89dZbXY73bWhsbOS8886jsbGRRx55hAkTJnDLLbdw8cUX8/HHHzNr1iyqq6uZOHEihmHw17/+lZEjRzJ//nz+/ve/U1NT06nPq666Cq/XG17PCy64gF//+tff6ryPVwqBewDLDNHqL8fmL8QRasNr7sPjMXHERNMatBG0RuCwXUuouY3MxExinCdjEUcwaFHf2IK/1o+jcBPxn76BvaoMC9r/eKLxRlv8aNg0+iemUN8cIDHKTnqij5g2B9m+oTgcNhqtSgxsZCf2ol9GFrFpSRRfa5KWGIc7IRp7VhLGt/zyM9OyCJkWlgUtrQFWbdyBL7r9LZeGYbAlv4Q9ZVXUNTRR3/xVUh0MhrBMi4qaOtZtL6SppRXTau8nEAzS2NyCtb9v07IwTYtgyCRkmlTVNfDx+q3hYNZmGGzOL6ausbn9nv27nU3T4sudeyirqiUQDFLb0MSuonL2VlTRJzWJuBgvl5w1gVUbd9JSESB00BtDTdOiobmFL3fsoa6hGdM0KdlXw469pSTHxZAcH9tpPXYWlZNfuo/G5lZa2gIUVdSwbU8pJ/XN6NS2tqGJnUUV7CmrbF+TUIhP87YzPmcACbHREeGt3W4nwRfNoD7pVPl3YVkWPm8UfdISSYjt+pv/zqJydhVXUN/cQktrG7uKK/h4/dbwdZth480Va8ndtItxw/qTmhCnEFhERERERESOKwfWmYX2urndlUooKiqiqKgofJydnR3++5YtW1i7dm34uKqqiqqqKoYOHcqYMWMA2L17N1u2bAm3GT9+fPhah40bN1JQUMAdd9zR6Rq0l0HIy8ujvLyc2tpaAEpLS7ucc0tLe45SWFjImjVruhzv2xAKhVi/fj1+vx+/v30zYWZmJpmZmeFwPRAIhNenoaEBaF/P7tb6wHUCSEpK+k7mfjxSCNwD2JxufL1GEAyUYIQCmInDiIpNxuFxEWgMEevqS0J0JuWBGnzuFOJjEzGw0dIWoLUtQEOglebaSuLKd0X0azU04mouJ8cXZGhiLHWNLWCGsNvstDWbnNbrNFptJ1PTUoGFweDEQSR6U2hqM2BMHzwZKZ12g35bXE4H8bHRRHvcVNT4WfT2J+HavDbDoLa+iYKySrweN0Oz2guz22wG2RkpxEbns6uoglc/+Jz4WC/m/tIVwWCI8uo6YqI8pCX6iPa4MU2LzOQEbIZBQWklj7227Kt1Nwz21dZTUllDoi+G7Izk9jA5FOIfy3LZsGsvzS1tlOyr4aN1W0lNjKPPmUk4HXZGD85iwskDqMttora+CdO0CO2fR8g0Kauq5fHXl1NSVUPINNmUX8wHa7aQHBfbZQi8/IvNrMrbQWVdA6Zp8vnW3aQlxnUZAu8tr+KjtVtYszUfy7Koa2jib29+RHK8j+EDPES5D9ghTftu4JP79+azzbsxgYzkeNIS4/C4XV1+Nsu+2MTKL7dTVdtAMBRi1YadlFTW7O/PaA/pC4opKK2kd2oizW1tR/4FICIiIiIiInIUPPTQQwA8+uijbNu2jf/4j/9g2rRpbNy4kSeffJLY2FjuvvtubDYbDz30ELt37+biiy9m6tSprFu3jkWLFlFdXc1tt90GwN69ew977CuvvJLx48fj9/vD93eorq6OOP7ggw94/fXXw8ehUIj6+noAnnzySZYtW0ZCQkL4eQ7017/+lUAgQG5ubsT5oqIi/vjHP3Y5t6lTp3LxxReze/fucJ9z5szBbrezatUqli1bxueffw7Atm3buO2222hrawsHzh3eeustli5dyu7duwEi1rN///4AXHTRRWRlZYXXMzExsdNu35deeokVK1aQm5sbsVZdPe+JQiFwD2B3uInLGkswJgHLDNHc4iJY04JVt5dWhxtnjId6gmxvq6a0solBwQDJnjgMywaGgcvlgG4CvUCzidUcwoWJw9ZMbVMl7maT6vpmRqYPJTbKQ11DEy2BIL7oKGyGjZr6WuJivN/67t8Ded0uhmRncvaE4azetJN12woj6hMD+KKjmJAzkLMntL+UzmYYTBt/MqVVtazasJMthSWd+vW4nEwdPYRxQ/uR4PMS4/Vw2qgh7C6uYO22AnI37ep0T1JcDKefchKnjhgMWJimyebdxdTUN+Jw2AmEQhRVVFNU0f4N2TAMYqLcXHjqaHbuLWfH3nI8Lme4ZIZpWTQ2t7Jmaz7BYIgot4vahiYKSiupqmvocj3ySysoqazFsiwMw6Ci2s+2PaVdtq1raKKwrJJ9tfVEeVyYlsXa7YVU+xs67UruWOtTBmcR6/XQFgxyUlYGKQm+LstHAOwurqCksgYLC7vdRll1LWXVtZ3auZwOvG4Xzq95uZyIiIiIiIjIseIXv/gF0B5Wbtu2jYkTJ/KLX/yCJUuW8OSTT+L1ern11ltxOp384x//YPfu3Zx66qn84he/YPHixSxatAi/38+CBQuOeOwf/vCHzJgxg4ULF/KrX/3qkG3XrVvX7RhvvfUWAHPnzg0/z4GGDRvWaUctQEVFRbd9OhwOLr74YkpLS1mwYAFOp5O9e/eSlpbGj3/8Y5YsWRJuu2fPnm77Wb16dcS1A9ezw2mnncZpp50WXk+fz9fpObZu3cqKFSvYsmVLxLMoBJbjm2HD7orBnjESAHfxHprXraK5qQX74JEEo9P4pOxL1tVtgToY3zCUcck5RNmiCJkWTsPE443BiErAamuCUBtgYbhjabHiMJvsOBrLqG7+ksr6fOqCvfDZhhHtad/VGuP1EKhvpLGphWivh6BpEhcT3W1I+G1wOuyc1Ded2y7/EUn/jKGxubXTGx57pyZy9oThjBqcFT438eSBmFb77t695VWd+o2P9XLl2T/gpKxM3C4nHhdMHj6IGI+bVz74jMbmzjV8B/dN5+wJwxmSnYkFOOw2Th05mD5piQSCIQCS42IYkhW5K/cHwwdybsEI+vcqo39mCumJ8QDYbQYJsV7OnjCc1rYAHY81oFcqGSldv4xt5MC+BAIh6pvaf4IW5XZx8oDeXbZNjvcxdki/cH3eDqkJPhz2zju3PW4Xpwzqyw/H5RAIhpg6eugh6wGPHNiXYMikoaml2zYArW0BRgzqS1zMt1tTSEREREREROT71qtXLy6//HLi4uI6vWto/fr1LF68mFWrVnW67+yzzyYhIYE1a9awc+fO8Hm/38/ixYsBmDx5MiNGjGDfvn0sXryYuro6Lr/8cmpqanjvvf+fvfsOr7q8Gz/+PvucnJM9IRMII2yCygrSgkREQXm0Ra1aeKy14OgjKlixddSJgv6kYh0V3FC0CFIeJSJVCUsTEFlhZA+y99nj98chX3M4Jwxt+1j5vK6Ly3zv/b0T4+WH+3zuzQBcccUVmM1mqqqqWLNmDTabjdmzZ9PQ0MCWLVtQq9XMmDEDo9GozDFsmP/QXG1tLf/4xz+U8q75du3aRWlpKceOHWPNmjWUlJQobbrm2759e8Bp5ri4OGbPno1Go1HmysnJwWQyKW1OnDjBZ599FrAPn332GU1NTRw8eBDwp4WYOHEiBoOB999/H5VKxZQpU4iLi1P6pKWlMXv2bMLCwpS96tpPEUyCwD9CkVoV5sajtNU10RGdREO4gcq6cjh54LLR1oFKpyEpOhq9RoNarcKDE/uASagayvB0VoNKhS55OIbhE2mLjqOm6Qvqna/i9LTQ0qGld/wC1CTj9enQ6Zyo1K2022yotCbCjF7UKjegA/51gWCTXseoAekM65eKN8QJVrVahTbEKdPxw/ozZnC/kKdeddpvL2PrYjEZ/H2G9As5T/eL31Qnx/if2ZcGnEtWqQj6j4DFZOS2a3KVMbtSZ2g1GtJ7J/D07dcFtFepVKh7uGDvZ5PHcPVPLgyYs6cL7gakJdEvOSEoaK49+bNwKp1WQ7+URJb99hf+dlrNaQP8P79kLNdMvqjH+u7UKhXqEIFnIYQQQgghhBDiP8no0aNZvXp1yLo333yTN998M2TdE088QXZ2NvPnzw8IAldVVXHttdcCcPDgQbKyspg7dy4LFy5k3rx5rF69msLCQiUIvHz5cjIyMrj22mtZs2YNCxYsYPXq1eTn57NlyxY0Gg0vvfRS0IVxAPv27VPmOnW+VatWkZeXR15eXkCfU+frMnDgwKB9uPfeewOe8/LygoLAjz32WMDzBRdcwOrVq6mtrSU1NRWXy8W2bdsCgsDjxo1j3LhxlJaW0qdPHwAKCgokCNwDCQL/CGlj4/FdegMxbkiMjidK6yVLM4SGSn/ulViTBYtej16jRq1S4fP5sEUlcGL6HPpYDJQ31aM1RxIXG0O0QY/B0U5nkwOnzf+Rfp8PipvaUevtmIxq2t2fUG3bTHN7DepOAxGGfkR0XEt4eBYq1b/+R0yrUcM5BhI1mm8Dt+C/CK8rghoQG1X5A7sqVeA8p8RPg+h0Z/feGrUKtcofqO4eV1XhT5cQSqi51erA9zldHxXfBsfP5bB2T+s51Xf5fgghhBBCCCGEEP8Jui5468pl29bWFnDpW3cOh//TxJGRkYSHh2O1WoNy956N2tpawsPD6ezsDCjX6/WkpPg/Baw9+WnfmJgYUlJS0Gg0VFZWUl9fD/gvhqupqcHlchEXF4fRaKS9vZ3W1lYaGhpCzmcwNt+txAAAIABJREFUGJTxAZxOJ3V1dYD/NK9Wq8VqtYZcs8/n48SJE3g8HmW+0+lq09raquQu7klXm7CwMGJiYkK2iYqKCli7kCDwj5Jaa0Af7/9BV6k1xODj8pQLuDhxMBo0qL1q6hraqT50hJhaK7Z2Kx0JBlJ+MhK1Vo3e7cGHitZOGxW1Tbg9brzaWCKNg3C6WzHqexGhz6S900VRzdd0eD/DqzqA1+sBlQqnpxlUakaaF6HTWP6Pd+PM2qw2CotKqW8K/iWTFBvJoJM5cLvsPlRMdX0zLpc/1YNGoyI5IYYLBvY5bSA2lK+PlVNaU49Oq2VgWi/6JSectn1FXRP7j1fQYQ1OSzEwLZG+yYlYwr79xerxeqmqa2Lv0QocTldAe4NeS0piDNkDMk4dSgghhBBCCCGEECGkpaUBKJ+uffrpp3u8LK2rzR/+8Afuuusu/vrXvwacuD1bkydPDhivy9ChQykvLwdQ7mV64YUXeOGFF3j22WeVtQK43W6ys7MBWL9+PTNmzGD58uU88MADPc732muv8eKLLyrlhYWFXHDBBQCMHz8+5JpOna+2tlaZ73TeeecdLrnkEh544AEef/zx07Z95JFHePbZZ/n5z3/e4+nrxx57LOh08flOgsA/SipUmm+/tWpUmLVGTBoDKvwHXvU2K7Z1+2jbVoTX7UU9KIGW5ES8sUbM6/6MymHD9pNZxPbNwqjX43CPwtgeiw8XRqOGGPMg1BixGE5wvMVDg93pn8wHXq8Dl7cDOMNx2R+AmsYW/p6/l9c3bcPlcgfVR4WH8ZPsLH45fSK94vw5e/+29Ut2HyzGejI/sF6nZfIFgxnZP/2cgsAut4e1W3aTv+8Ieq2WayZfSHpSbMgUFgD7iyv56yc72fLVQTye4LQUqYkxXPPTi7h03HCiLGE4XW6OVJzg0dc+oLKuCfcpfdRqFSkJMdx2zVQmjhjQY/oIIYQQQgghhBBC+J0a9OwpCHoq1fe4N+l0c5w6bvfnntba/Z+hxu5e1n28043d07p7miMUlUp11vt0pjG/z37/WEkQ+DzSlcdVBeisduyVTbiL/R8LUEUYcXfa0SeaMZjCUGnUtHvA7bVjd7VjszpR+1KJjTDQZrNj0lkAFU6PG7fH83/3Ut9DS7uVL/YW8fqmbRyrPEF0uDmg3u32UNfcRqfNQZhRz/yrL0Gr0eD1+mhu66SuuRW3x0t0hBmX23PO2Y/rW9rYf7yCI+U1qFVqispSaGm3EhcVHtS2sq6JD7ft4cNte2ho7SA8LPBjFE6Xm4ZW/0lmi9nIZeNGUNXQzJ/W5rHzwHFUKhUGnTYg56/T5aGmsYUX3sujd3w0GUlx6LShA9BCCCGEEEIIIYSAL774AoAFCxbw5Zdfcsstt3DTTTedts/f//53Jk6cyPDhw5X+XQYMGADA3XffzfXXX6+Ul5WVccMNNwS0vf/++7nsssvYtWsXEydOZMCAAfzlL38JaPPggw/y6aefUlVVBfgvf1uxYgVut5urr76apqYmfve73/H0008rF7pdeOGFLFu2TBnjhhtuoKysLOg9BgwYELT+rvnWrFnD7t27lXKfz6ekvuiar0tmZmbQOH/5y1945JFHguaNiYlh69at+Hw+5SK722+/nVmzZhEfHx+0xi5Lly7lgw8+4LLLLuP+++/vsd35RILA5yl1vAVNZgKaGn+eX3X/JEy9YjBEhKPNmQYeD16jgS+rtlPSdhzw0ieqD5dETMXZaadZ34HN6cbmCCfcNAiVvgOHy5+bRqe20Ns8EbVK/3/4hmfWYbNTXF3HsYoTxEaGc/OMiwkzGpQ8uVX1zWz/5ijHq+r4+mg5bo8XrUbD5RNGYnc42Vp4CKfbzcUjBpI7Zug5p4I4XllHU1vnyRO6Xk40tVJZ3xwyCFzb3MrhsmoaWzsY0ieZGROz0XWbb39xJV/sPcKRihMcr6pTAtXbvj6C3enksrEjGJ6ZitlkAPwB4EOl1Xy4bQ+FRWXUNbWRmhCDDgkCCyGEEEIIIYQQPcnJyQH8OWcB0tPTlbKerFu3jm3btpGcnNxj2379+tGvXz/lOTY2NqhN//79ycnJ4ZtvvmHbtm0h8/EWFRWxbds25TkiIoKcnBxcLhc6nQ7wX/zWXVRUVMC6wsLCQq7RYrEErb8rEFtVVaUEnk916nwmkylonEceeSRg3V10Oh0TJkwIKOvTp49yEVxPjh8/zrZt28jMzDxtu/OJBIH/g3k8XpwhUhicDV3vaEyXjUDbPwkATWIkYb1jUGnV0H8oAKrmMg6Ufk1+1Q50OhUNzoFcGDGYcPunOJvG4tQlEWlOJs4wBZunLzaX/ySqVh1GsmUSGnVgENjr9QWlJOji8/n+7ckjPF4vbo8XtVpFTISZ63LHEh1hQaPyB1f3Ha+grrmNI+UnsDvdyvomjhhISXUdhUdKcbu9jBnSj5wRA9GcYzqFg6VVdNq+ze3b0NJOaXU9I/unBbV1uT14PF70Oi0D03vxy+k5GE/+8gYoKCohPiqClvZO+vWOx+fz4fF4cLnd4INxw/ozc2I2cZH+HM12l4uvj5ajVqtQqSAmwoxGLR+VEEIIIYQQQgghzsbNN9/MlClTuPjiiwF/oPONN94I2TYiIoInn3wSp9PJfffdR3R0NIsWLQrZtqCggLVr16JWq3nyyScD6rry8Yby1FNP0dzczNdffx2yXqPR8MADD9DZ2ckbb7zBwYMHmTx5Mrm5ubjdbu677z6l7Y033oharaa4uDigPJRT50tPT2fevHmn7ZOREXw3Udd+bt68mU8//VQp7+jo4PHHH8fr/TaedPnllzNx4sTTznHVVVeRnp6unB4WEgT+j2Z1uGlos+Lxes85AKnSqDGN64dpXL8e2+g1OiKNkUSbovDiResKw+NswOjJR0MmcfED0BrCUakigcGnnc/t8dJmddAW4kIzAM855Ij5V9Foteg036ZMCA8zkd4rniF9U0hNiFHSaXRPqYAK1Br1Oe+/1+vjUEkVHXY7Oq0Gn89HQ0s7JdV1eH0+ZS5lbSq1ks9GrVKh02rRdkvdMCIznX7JiXi8HswhbtzUaNRotRqlj1mrIXtgBn17x6NSqYiJsPSYi1gIIYQQQgghhBCBZs+eHfB87NgxnnrqqZBtly5dyoIFC1izZg3XXnstGRkZPQaBv/nmG5566imysrKCTtCezp///GdKS0t7rFer1dx+++0AbN++nYMHDzJu3DgWLVpEXl4eubm5StuDBw+SlZXF3LlzWbVq1VmvASAlJaXHdzudrv1sb28PCAJ3dnbyzDPP4HJ9e9l9QkLCGYPAubm5Ae8kJAj8H63F6uBITQtVzR2kxVhA9c+92CvKHMPo3qPR6bW4vS76hQ8kPnEEJZX3kpHcF43ezNnk2fb5fJxo6eBwdTM1LbZ/6hr/mdweH/7zyP6X6hUXxc8mX8TUC4cQHmZCGyLdg8/nw+c9t+C1z+fDandQVH4Cq91JUkwkNqeLprZOSmoasDuchBkNPffHHzTvzmjQYTR8ezLY5Q7M06xSqQJyFqsAk0GPyfD9UnZ4vP7T6G6PF7PJEBS8FkIIIYQQQgghfkw2bNgAwLhx4wJy0iYlJTFz5kwcDgd5eXkBJ1cPHDjAhg0bKCgoAMBqtSrjTJo0icjISKVtWloaM2fOJCUlJWjuPXv2UFFRQVtbGzNnziQ2NlYZZ/z48QwfPlxpe/z4cQ4cOHDadzly5AgbNmwIOs27detWjh49Snl5OeA/uTt8+HBaW1v57LPPALjkkksC0kacOp/X6yUvLw+HI/gwYHx8POPGjQu5pkGDBjFz5kzS0tLYsGEDLS0tAXsJ3+5nl7q6OuXrzz//nMrKSoYPHx7yxPH5TILA/8HsLg+FZQ28kLefh68ajl5vQqVSnwzMfv9gnEFjJCcth5y0HBwuNy0dndS12ImN60uYLhz1GYLOPnz4fGBzulhfUMJH31Tg7CEdxA+RxWTAkpzwTx/X4/VSdqKR6vpmXC43Fw3uy4mmVvL3HaWqvomaxlb6nWZetUqFQavBc8ovQZVK1WMQVqtR+1NEnEOfs9HU1sm+YxXUt7Rx2fiRRIQZ/wk/eUIIIYQQQgghxA/TlVdeCcDmzZuZOnWqUn7RRRexfv16amtrSU1NDQhcvvbaa7z22mvKc11dnTJOQUEB2dnZSt3kyZOZPHlyyLmff/55Vq1axbx581i/fj2FhYWMHj0agJKSkoCg57Jly7j77rtP+y5r165l7dq1QeW33XZbwPNll13GihUrAuZ75ZVXTjufx+Phl7/8JbW1tUHjT506lc2bN4dc0w033MANN9zAhg0blD061an72d1dd90FwIoVK86YluJ8I0Hg/3BNHQ7+9lUJ5Q1N3DjYwJjkRCJ6J6M1R6JS//O+vXqtFoteS1NNBSXHajAN701kZD/U6uDUA+DD53XRYm3mcOMJ3t9Rz9YDjVQ1/3BPAf87udwe9h0rx+l2ExcVzkWD+1F6op4DxVW0dtg4WnGixyCwy+2hqPwEL6/fGlQ3IjONIX2SibQEJ3D/Ys9hGlraMRm/PflrMujp1zuBiSMHfud3+fpoOUvf2USHzUG0xcyUC4eEPDEthBBCCCGEEEL8GFmtVmw2G3q9nvDwwIveIyMj0WqDYzNer5fm5uaQ4zkcDjo6OtBoNMrlcy0tLXg8HrRaLbGxsWg0GhobG2ltbVX6tbS00NjYGDBHbGwsERERPa7dZDL1eAkc+PPxOhwO7HY7jY2NdHZ2KhfWtbW10djYSHh4OHr9uX3K2OVyBaw1lPZ2/71TarWa6OjokG269qp7m9bWVtxuN52dnSHnCHXh3vlCgsA/cG6vj6a2Tnw+H2EGPQmRRswGLa02fy4Ur89Hm83JjuNNFNeoCNc3ERNVwUWpEUztG8ngtCR0Md//NKtKBQY6iHfuQt30BZ1f6jGMvh1j9CDUJy+Ac7rtVLbWsq2klJ373Ryva6fD4aCh3UWbzY2nW9oErVpNSnQYYXotahVY7Q4c3/GSu/80breHr4+W4XS5GZjei77JCWi1GhJiImjtsHKkrIZpY4cH9ElNiiUrozd7j5RxsKSK6vqmoHF7x0XzsykXMSMnm+hwM/HRkVw6bjjvbdnN53uL2H2oOODUr1qtJiU+hk67g6kXDT3nvMYAaUmxTBs3nNqmVjLTkgLzJQshhBBCCCGEED9yTz/9NEuWLOHyyy/nr3/9a0Dd3/72N8aOHRvUp6ysjMGDQ9+ttHbtWm699VYGDhxIYWEh4D8dXFRUxPLly/l//+//sWrVKtLS0gJOG48fP165Swhg3rx5lJeXoz7N/+vfcccdPPjggz3W33rrrbz11lu8+eabrFmzhuHDhyspIrKzs6moqOCNN97g6quv7nGMUL744gvS0tJO28bj8ae5jIuL48iRI+h0uqA277//PjfddBOpqalK/uQJEyawd+9eFi9eHPLdOjs7z2mtPyYSBP6BczhdHCiuoqG5jcTYKG6cMJAL+ybR3GHD5nTT4vBS02GnrcNOeV0zBxvsqBrtHK9tJf9ILX0T6xg6IJExQ6MZHBmcT+ZcqFCh93kxuU/gbQW8XlSoaLE2s7e8kS8ON7G/qpbqtjZqGny02V0kRhjoHWVhWIqBWIuRKLOJSKOWSIOaQSnxRJoMNLV1UlnbRHvnj/+ksM/nw+Zwsu9YBU63h7jIcFxuD1qNmkhLGLVNJzhScQK32xNw8VtMhIUZE7Px+nx8sns/nfbAnDp2h4sj5Sf44PNCYiItzMzJJjEmkrmXT8ThdHOguCIgyO71+ui0O/j6WBl/XvcpfZMT6dMrDp02+HI4t8dDXVMbx6vqsDmcJMVGktErngizidgICxcM6kNjWwcxkRZUkgxCCCGEEEIIIcR5xOVyYbVaQ+a+NRgMIU/amkymHsdzu91YrVbsdrtSZrfbsVqtqNVqwsLCUKlUWK3WgH42W2BMxefznfaUL4BOpzttm65TzG63G7fbjdPpVNo7HA6sVitu97kf6PN4PEHr74lKpSIsLCxkELjrBHJXG0AJejudTpxO5zmv7cdMgsA/cC63h5Lqet7evJ3/+smFDE6OZVDvWOxOF063hw6Xj2a7E6vNyYnmdkrqO6ho6qS8sZ1jDe3sqz/BlzWt7K4IZ2JaJxP6xdM7NjJksO9M1PpwDL3HYtJZ0GrUtLoi+GxfBYVlNewtb6KoxkqHzUnvaDMTB0XRy6KnT2Ik8ZFmIsP0RBj1mI16zHoNRi1EmMNo67CycVsh+45XYHX8+P/ldHu81Da3UVxdj9vt4XhVHW99nI/d6aK6vplOm4PSmgYaWztIiI1UQqp6rYZB6b0wThnD0L4pOJyugHH3FJXxyZf7Ka6uo7S6Hh9gMugY1i+VW2b+hPLahoDL4uxOF3uKSnk3byf7j1dworGFtMQYdAT+XLRb7ewpKuWDzwtobuvE6XYTZjRw6ZhhXDxqEO1WG3uPlFHV0MzoQX2ICjPyz8hHLYQQQgghhBBC/BB15bLtyuM7Z84cJk2aFHBJ3Kleeukl3n//fSZNmsTixYtDtnn++efZuHEjQ4cOZfPmzZjNZqXu1VdfpbOzk//93/8lNzeXkSNHsnnzZo4dO8b8+fMDxlm8eDGTJk3iq6++Ijc3lyFDhvDss8+e9p0KCwu57777AuYLdVL36NGj5ObmAvDMM88QERERcBkd+C9ty83NRa1W89JLLwUEmd99911WrlwZcg1PPvkk2dnZrFy5knfffTdkm7vuuosDBw5w6623Bpw+rq2tVdZ19OjRgD65ubncc889p3v984YEgX/gfD4f7TY7qz/ZRUuHjdGD+pCSEEN0eBgRYSaSLEb6xJrRaTV4vT5abE4qmzsorW+nqLqJIzWtlDV1sOObZr450s6hikQmDklnVHocsWbjOX18X6UzoUsYijFiAAeqW9mxp4J/FNVQ2tCBwaBjYHIMmXEWBvWOYlByDCnhBqIjwjDq/X9b43K5sTqcdFjt1LbY+OZYBfuPV/LhtkJKquvw/MAujfP5/Pvvw/e9L1DrYnc6OVZZS1unDa/Px7HKWo5VBiZJb2zr4FhVHQkxEdBtTp1GQ//UJPqnJgWNq9dq+OpwMTWNrbg9Xv/iVSq0Gg0XZPXhgqw+Ae07bXZ0GjXv5u0E/Kd9fT5f0LgOp4uqhhbKTjSQlZGMSqXi068OYHM4iY+OwGwy8NXhEg6XVvPLyybiiwlYshBCCCGEEEII8aPS/TI4gMzMTDIzM0/b58iRI+Tl5RETE9Njm8OHD5OXl0dycnLQHOPHjwfgnXfeIS8vj8zMTKZOnRoyv+2wYcOYOnUq33zzDXl5eWd14raxsZG8vDzluaeUCe3t7Uq7l19+OeBiuC4tLS3k5eWh0+l4/fXXSUxMVOp2797d4xqys7OZOnUqn332WY9tvvzyS/Lz85k2bVpAuc1mC1h/d7179w7az/OVBIH/A/h8PmoaWli58XO2FhwkMyWR1MRYEmMiSYiOID4qnLiocMLDjESYTWTGhzO0dwxThyRT1dTBvspmCkvqKCyp44O9VeyvtTJjZCoT+yeRFmvBoA8+Uh+K2+OlucPG3vJG3t1dwr6yekx6LRf0jWdEnwRGZiQwODGSWIsRj8dLp81OQ0s77Z022jptNLV1UN/STl1zG9UNLRyvrOVI+QnarPaAPDY/FB02O5V1TTS0tBMTYSEro/f3znlrtTs5WFyFz+cj0mwiLSkOo8G//60dVqrqm7HZnRwormTc0Mx/W0BVq1aHTOUQZjQwckA6SbGRDO+XisPt5kRjC/uOlXO8spaRA9K/Uy5hIYQQQgghhBBCCPHvI0HgHxi1WoVep8Wg0wUE1zwng6SlNQ2U1jQo5f5csmbSk2IZkJbEoIzeDErvTUp8NFGWMHpFhdE3IYorRqRxpLKOv31dxWeHa3h16yGq6luYOboP/XvHEaY//Y+C0+2lurmdf+wv5cV/HMXn8zG+fxKTh6Qypl8CiREm3G4PVruTqrom6ls7KKmqZX9xFUcrTlBW00B1QzPtVvtp51GpVOi0Ggw6LVrNuaes+D78Ad5vA6HVDc28s3k7n+zez5ghmTx122wlYO5Pth7YvruWditWhwOtRkNEmEkJ9FrtTg6UVOIDRvRP55arfkpqov9v7goOlfDWR9sorq7jQHElPnzK+A6Xm/ZOGw6XmzCDnugIc8B8367Hzwc4XW4aW9rx+HzERJgx6fUBQWzVWUSYDXotKXFRGHQavjlWQX1rG22dNhxON87z5CI/IYQQQgghhBCiy1/+8hcApk2bRnJyMgUFBezdu5e0tLQeT5xedNFF3HzzzVx44YVBdevXr2fPnj1ER0dz8803K6d+W1paeP/99wPaJiUlBbSJjY3l5ptvBmDNmjV0dHR8p3dKTk5WxgGIiooK2S42NparrroKAIvFElA3dOjQgDFUKhXr1q1Dp9MxdepU0tLSGDlyZEAbp9PJ6tWrcblcfPTRR5SXl6PRaLj55pspLy8POt17xRVXMGjQIIYOHRpQbrFYmD17dsg1x8fHK98zIGD+840EgX9gwowG+iYnMCijFx1WOz78n+xv67DiPflxfR/+Qn+dj7ZOK/uOdfL10XJ8Ph9mk4E+vRMYM6QfF48ayMj+6URZwhic3ouhfXpT0dTB3/dVkLevnKr2Iq4b5yWnfy80PZxy9fp8lDa08c6Oo6z/qpjxA3rxq/F9yEpPwqDT4vF66bA5KDvRyM5vjvDF3sPsOlBMu9WOz+dPpeCPN/oDvCpUoPo2CKnMqgKjXkdEmImB6b2Jiwr/l+71qTQaNW6Ph66sFHaHi+a2TirrmklJaKbrrLLb40WtVqM++V4+wHlKIvT3t+5m274jJMdH81+TLmDUwD54fV7aOm0cKq3G5/MxZmg/hvVNISk2CvDh9XjYcySFA8VVHCytxuF0YTwZuC2uqmPdZ18pJ4R/fdXkgPhz93QVKpX/4rfj1fUseWMD7VYHv541mQsH9cESZgDA6wO1JvQJ3u5pIVrarWz56gAvffApTa2dJMVGUNfcDvCd8koLIYQQQgghhBD/yX71q18B/tzAycnJrFu3jscee4yZM2f2GASePXt2j0HKRx55BIAVK1bw2GOPKeU1NTXKXF1WrlzJE088oTynp6fz6quvArBly5bvHAQePHiwMs7pdJ/vVLm5uUpeXvBfmJeamkptbS3r168nLS2Nyy+/nMsvv1xp09bWxvr163G5XCxbtgyARx99lFdffZUNGzYEBYG75y3uLi4ursd1rVq1irlz5yrPEgQWPxhGvZ4bpk3gyonZdNoduL1eHHYnDpebTocLh9OFzeGkzWqjpb2T1nYrbZ026pvbaOqw0djaTnNbJ8cqT3CkvIbVeTtJio3k0jFDuXzCKIZnppEcbWbOhAHkDk7m00NVfHqgEo/Xx6SBvYI+2u/xejlU3cwnB6vweT38Zc4EBqQmYtRp0GjUVNc3s7XgIB/t3Mf+4kraOmy43B7cHg+JMZFEWEzERJiJibAQbQkjwmwi3GwiKjyMqHAzeq2GMJMRg1aLXqvBYNBhMRmJtoRhMRn+LXvu9nipbmjmuXf+F5NBpwSna5ta2Xe8AvAHVjUng66btu9ly5f7qW9pA2DLlweobWoNGHNrwUGKq+sZ3i+Vn2YPpt1q46tDxbz90XZOnGz71aEShvZNxWTUY3e6KDhSxqHSKpxuN8cra/nDy+9x02UTGZDei9ZOK4fLqvl8TxGlNQ3Ut7QHpPEoKqumurFZefb5fLR1dLLlq4P4fD7UahVf7DlEmNFw8p09HK0IzEXcpbWjk/ZOO0aDnoOl1Tzz9iZioyysfeK3xEaEseStv/PpVwdwdrtoTgghhBBCCCGEOJ91dHRw+PBhGhsblcNV5eXlIfP2VlVV9ThOa2srNTU1VFVVMWjQIACKi4txOp3U1NRw+PDhkP1crsAL5GNiYhg0aBDx8fFBfbqCxQ0NDT2O17WWM6murqatrY2YmBgSEhKw2WyUlZXh8Xjo06cP0dHRQaeGOzs7qaiowGaz0a9fP2w2GxUVFXR2dipr6tojt9tNUVERWm1wCLO6ulp59673yMjIwGg0Km0iIyOVfTzfSRD4B0Z18jSsQaclxmvBhw+v14fP58Pr83/t9fnweL3+U6seLx6vF5fb/7XD5abdaqOprZO6pjYq6hqpqG1k//FKDpfVMDgjmZ+OzmJI3xRSYizMGt2H2pYOXE4nnXYnEWHGgPXYHC50eJmUGU9idAQxZj1ajYajFSf4R8FBCo+U0dDSjkGv5afZWaT3iiMxOpK4SDOREeGEmwzodVq0GjVajQaNWoVGo0aj1qDVqFGpVGjUqpOnhf2nWdVqtVL2rxQXFcGI/ukM6ZPMobJq3t/6JWr1t5lxXR4PNoeLtKRYLhs3At3JXzgf7/qGgsOltHbYQAW7Dh5n37HygLHbrXYcLjcOlxu310trh5XCI2V8tvcwXq//PwZfHiome2AGgzN602a1se9oOYdKqk/uu5ON+XsZN3wA6b3i6JecwLB+qXx9tJzyE42s/XR3wEV19pN/OTBpVBajB/VFq1GTEh/DzyZfxOq8nRQcLuHA8UolHYTP58PhcmMxGcgZMYD+aUnodBrcbg9vf7yDTTu+ZtzQTIb2TaHdagP8geaahmZ27T9Gc7sVfOA9+XMohBBCCCGEEEKczz799FOysrICyq6//vpzHmfdunXMnTuXrKwsDh06BPhP6h46dIj777+f+++//6zGmTNnDnPmzCE/Pz9oXV1eeuklXnrppXNeY3cLFixgzZo1LFiwgKVLl1JYWEhOTg46nY6KioqAi+G6bN++ndzcXCIiIqioqCAiIoLc3Fzy8vJ47rnneO6555S2jY2NDBs27LRrqKqqUt6xoKCA7OxspW7WrFnMmjXre73jj4UEgX+gVCoVmq6jp+fwqXufz4dXLml0AAAgAElEQVTb48XpdmN3uOiw2WnrtNFutWN3uvB5PGi1WqwOJyajnliLkXCjFofTjTHEBXEGvZbk2AjUKhVhRj0er5em1nY6rHYyUxLp0zsBvV6LxWQkwuy/mM5k0GPU69BqNWjVmn/b5WbnymTQMWZwX347+1Le/8eXNLYGf2wiLjKcCSMGMG3scCUonZ4YS1ZGbzrtjjPOMaRPCjERZvQ6LQlREQxM7xVQnxAdgV6nwajX0Ss2ksF9kwPqI80mNGo10eFmZk4cjdGg54s9h0PO3bd3ApeNG87wzFRUKhXx0RHcPGMSJqOegyVVQTl8DTot/ZITuC53AnGR4WjUatw+L0a9jkizifAwIwPTenHTZTns2H+Mj3Z8TXJ8FJMvGExlfTNJcZFYwoz0T01Cp9Vi0mt7SpEshBBCCCGEEEIIIf4PSRD4R6brYjWdVoPZaCA28tsj916vD6vdgd3lwqjXoVH5Uz/otVr0IY7VA+g0GnSmb6PQKpUKo15PamIM/VISCTPq0eu0AadS/1OoVSrioyL46ejBJERHhLy0LtxsIi0xll5x3yZFv3zCSC4c3BfXWaRDiImwkNE7DovJyITh/UmKjQyo75ucQKQljDCjgUvHDGdYv9SA+sF9UjDodWg1GjJTEggzjmZ4v1QczsCPeQAkxkSSnhRHlCUM8Ad5B6X35qbLcqiqb8Z9ynq1Wg1xkeEM7ZeifP80ahUTRw6iX0oiidERpPeKZ/YlYxnRPx23x0Ov2CgiLSZaO20kREcQZQnjigmjaLfaiIkM/5ef3hZCCCGEEEIIIX4I5s+fT3h4OP/1X/9FYWGhUt7U1MS0adNwd7s7aMGCBdxwww1s3ryZ++67j969e7Nx48aA8d58802ys7OZMGEChYWF1NTUKCdaS0pKQq5h0KBBvPPOO4D/0rTq6mruu+8+nnrqKW644QYWLFgQst+zzz7LpEmTzvpd33vvPR5//PHTtnnrrbfYunUrnZ2dgD+NwyWXXIJO9+2Bw5tvvpnbbruNsWPHUlhYiEajwWz2X3y/YsUK2tvbg8btvp8rV65kxIgRLFu2jLfeeovc3FyefPLJgPYDBw4E4PHHH+e9995jxowZPPzww2f9rj9mEgQ+j6jVKixhRiwYz9y4pzFUKsJP5vX9MVCpIMJsYtyw/mfdZ0jfFIZ8h7n6pSTSLyX4YxAAJgMM7ZfC0H4pPfbXqNWkJsSQmhBz1nNqNGoGpvViYFqvMzfGH+QfkJbEgLQkpaxvcgJ9kxN67DOif9pZr0cIIYQQQgghhPgxOHbsGABXX301o0aNUspra2uDDkglJyczatQojhw5AoBerw/oA/DKK6+wZ88eRowYwahRozAajezZs+e0awgLC1PG0ev1AJSWllJaWspPf/rTHvv17ds3aP7T2blz5xnb1NXVUVdXpzz7fD72798f0KampgaA8PDwoPkzMzNDjtt9P/v378+oUaNISPDHKKKjo3t8j8rKSmU/hZ8EgYUQQgghhBBCCCGEOAvLly8H4IUXXuDw4cNs3LiREydOMHToUG699daAtnfddRd9+/alrq6OO+64g6NHjwL+PLd33HFHQNvevXuzfPlyJbdtUlKSMleXt956i127dpGTk8Ps2bOJj49X6h5++GHa2tqU5+bmZu644w4l8Ho6hw8f5oUXXlCeFy9eTFJSkjJfVFQUy5cvx+FwKOt++OGHiYn59pDa5MmTmTVrFsXFxTz77LMB4996660MHTqUCy64IKDcbrfz+9//Hrvdzm233RZwgds333zDyy+/jEajYdmyZQCsX7+e1atXs23btoBxmpqaePDBBwPKTt1PIUFgIYQQQgghhBBCCCHOyu233w7Ahg0bOHz4MDt37mTnzp3MnDkzKAh89dVXM2HCBO6++27+9Kc/KeXt7e0Bz+BPhzBv3jzlOTo6WpmrS0FBAbt27WLYsGFBdTfddFPA87Jly4Lm6ElFRUVA2/nz55OUlMSWLVtYtWoV8+bN449//COFhYWMHj0agLvvvjsgCDxy5Ehuv/128vPzg4LA06dPZ+bMmUHzOp1OXn75Zdra2pg5c2ZAELikpIQ//elPJCYmUlFRgU6nIycnh/z8/KBx2trazrifQoLAQgghhBBCCCGEEEJ8L1VVVbz77ru0trbi9XoB+OSTTygvL8dkMnHdddcpbTs7O9mwYUNA/6+++op3332Xvn37MmbMmIC6TZs20draSnFxcUB5c3MzH330EQAzZ87EbDaTn59PeXk5NpuN6667jvr6ej755JPv9E5jxozB4XAEneDtbvz48ajVakwmE++++y5NTU1cd911eL1e1q9fj91u54svvlByBXfndru58sorcbvdJCX501Lu27ePAwcOUFtby3XXXYfBYGDt2rWoVCrq6+tDrsFsNiv7+9FHH9Hc3Kzs56m6fx/ONxIEFkIIIYQQQgghhBDieygoKOD6668PKHvooYcAWLp0KY8++qhSXlpaGhQEfu2113jttdeYM2dOUBD4nnvu4dChQ0FzlpSUKHOWlJRgNptZvnw5a9asYcGCBbzzzjvk5+d/5yDwb37zG37zm9+cts2dd97JnXfeybJly7j++uuZMGEC27Ztw+VykZqait1u55lnngnZNyIigoqKCiIiIpSyv/71rzz22GPMnDmT9evXU1tbS2pqKi6Xq8c1xMfHKxfkjR49mubmZmU/TyVBYCGEEEIIIYQQQgghxGmVlZUBYLPZAIiKiiIyMlKp93g8VFVV4fP5SEpKwmAw4PF4KCsrw2w2ExcXh1arJT09PeT4BoOBsrIydDodvXv3Bvz5ba1Wq9KmKw2DXq9XxtFqA0N8bW1tlJWVceLECcB/EXxycjIajYaOjg7lPYCAC926a2xspKOjg/DwcGJiYkLO19DQQGdnJ83NzWfcu8jISKKiorDb7dTW1gbU1dbWYrfbUalUpKenB+Q77klnZydlZWVotVqSk5MB6NWrV8DednR00NjYeMaxzgcSBBZCCCGEEEIIIYQQ4ixkZGQEPN9zzz0sXrxYee5+cvW9995TcgJnZGQwe/ZsVq9eTUpKCqWlpSHHX7VqFRkZGWRlZXHw4EGAHk/yDh06tMdxXn31VV599VXlWavV8tVXX5GYmMiVV17JL37xizO+6z333KPkBF6xYkXI+W6//XbWrFlzxrG62j766KPk5eWRm5sbUHfjjTeSl5fHo48+2uM7nWrjxo1s3LiRjIwMSkpKlLLuVq1axdy5c89qvB879f/1AoQQQgghhBBCCCGEEEL868hJYCGEEEIIIYQQQgghzkJ+fn7Ac1paGgDbtm1j0aJFWCwWPv30U9RqNS+88AILFy5kxowZ5OfnExcXB0BNTQ3XXHMN4M8FPHDgQGW86dOnk5+fj8lkUsquv/76gPQNs2bN4p577qGoqIj//u//DljPDTfcwJ133snq1atZvny5Uu52u5kxYwY6nY65c+eyaNEiXn/9dV5++WUuvPBCnnvuOaXtqaedu3Sf77333qNXr15Bbfbt28eECRNQq9W88cYbWCwWpW7Lli1MmDCB/v37k5+fj8Ph4KqrrsLhcCinnl9++WU2bdpETk4OTz31VMh1nKqmpoYJEyYA3+7nM888w7p163pMdXE+kiCwEEIIIYQQQgghhBBnYfz48SHLm5qa2L59O4mJiYwZMwadTsfChQvZvn07V199dUA/h8PB9u3bAX9e2+4SEhJISEgIKNu7d2/AxXAjRoxQ+naN0+XOO+9k/Pjx7Ny5M6Dc5/Px5ZdfArBo0SLGjx/P1q1bAX9e457eq7vu8zkcjpBt2tvb2b59OzqdjhEjRpCYmKjUbd26le3bt2M2mxk/fjxtbW0UFBTQ1tamtCkvL6e8vFwJmJ+NUPtZXFwctDfnOwkCCyGEEEIIIYQQQgjxHXz00Ud8+umn6PV6lixZgtlsRqPRADB//nyuvPJKWltbWbhwodJHrVazZMkSwH+idvXq1UHjJiQkcM8994Scc8eOHSxcuBCtVquM88QTT5z2cjaNRsPixYuxWCzs3r2bbdu2KYHiI0eOBKyvS9++fVmyZAk2m42FCxcGXeYWSkZGBvPnzwfg2Wefxev1MmfOHAYPHsyUKVPQ6/U9njQGmDZtGpMnTyYzMxOA8PBwnnzySTweT1Dbr7/+mrfffjvkOLNmzaJPnz5nXO/5RILAQgghhBBCCCGEEEJ8B9u2bePpp59m5syZrF+/PqDu+uuvB+Duu+9m2bJlSnn3i8xGjx5NYWFh0LhZWVk9BoH37t3L3r17yc7OpqCgAIAVK1acNgisVquZP3++cjHchg0blLqysjKefvrpoD4rV65kzpw5vPjiizz44IM9jt1dcnIy9957Ly6Xi9TUVGpra8nJyWHw4MGMHTuWsWPHnrZ/Tk4O9957r/IcFhbGggULQrZds2ZNj0HgqVOnMnXq1LNa8/lCgsBCCCGEEEIIIYQQQpyD7du3U1dXR1FRUUC5w+Hg448/xuv1KmVGo5GrrrqKqqoqvvzyS6xWKx988AEAI0eOVPIKd5eSkhJUlp2dHdC2b9++yte5ubnU1dVRU1PDBx98gN1u56qrrlLqNRoNBoMhYLwBAwYwePBg6urqAlInTJkyhfDw8JDr6rJ582YSEhKoqqrqsU1P6uvryc/Px+Vycemll+JyuZQ6j8fDBx98QK9evRgzZkzI/Rw2bBj9+vUjOTk54B3Bn9pChCZBYCGEEEIIIYQQQgghzsFDDz1EXl5eUHlLSwvXXHNNQGBz6dKlrFu3jjVr1nDttddSV1fHrFmzACgoKCA7O/us5rzjjjuYM2dOyLqXXnoJgGuvvZa77rqLBQsWsG7dutOO97Of/YxHH32UvLw8cnNzlfLly5eTlZV12r633nrrWa05lL179zJr1iwiIiKoqKggIiJCqXvggQeYNWuWcrK6p/1csGABOTk55OTkfOd1nG8kCCyEEEIIIYQQQgghxFmoq6sDwOl0AmA2mzGbzURGRgL+tAvx8fG43W6am5txuVx0dHRQV1eHw+EIuvRNq/WH5trb27HZbCHnjIyMJCEhAZPJFFDudrtpamoCIDY2VslFfCZd43W9j9VqDVhX15q6mEymoHV3aW1txeFwEBYWhsViwWKxUFdXh9vtVk7vtra2UldXp+yVXq8nISEBs9lMY2MjdrudqKgo9Hp90Pjd97OL1+tVvg+niomJCVq/8JNdEUIIIYQQQgghhBDiLKSnpwPfBoHvvfdeFi1ahFqtBiAuLo7jx48DMHnyZHbs2MEf//hHnnjiCWbNmkVZWVnAeF2Bz8WLF/PKK6+EnHPXrl0MGDAAnU4XUL5//37GjRsHwOHDh5W1ncmrr76K1+tl6dKlpKen85Of/CRgXaemjbjxxhu59tprQ45144038t577/GrX/2Kp556il27dinrcDgcAPzqV79CrVazaNEiHnroISZOnEhZWRnt7e0MGTKE9vZ2Nm7cyJQpU4LG776fXRYvXtzju+7YsYORI0ee1T6cbyQILIQQQgghhBBCCCHEWbDb7QHPWq0Wo9GoPKtUKuW5KzDsdruVk7Hd23bndruDxu6i0+lC9vN6vUofn8931u/Q/cSt3W7H4/H0uC7w5xPu6ZRxV3nXPmi12qD36AqYd53mVavVGI1GnE4nDocDu90ekPO3u+772V1Pe9XTOEKCwEIIIYQQQgghhBBCfCcrV65k69atIetuueUWHn74YeX50KFDXHLJJSQmJvL2228DMG/ePI4ePcrhw4fPONeSJUvYvHkzM2bM4Le//S39+/fnk08+ASApKSlknwMHDvDb3/4WjUbD6tWriY6OVup+8YtfMHbsWGJiYgL6/Pd//zfl5eXKc9d850Kr1fLuu+8SHR3N73//e3bs2KHUFRQUsGjRIvR6PatXr0av1zNq1Kgzjvnb3/6WAwcOMGXKFOW9T7V06VJqa2uV59zcXBYuXHhOa/+xkiCwEEIIIYQQQgghhBDfwfHjx4PSFXR5+OGHmTBhgvLc0NDAli1byMjIUMp2795NYWHhWc116NAhtmzZwoABAwAIDw8PmUKhu5aWFrZs2YJOp1NO5HbJyMgIWEuXnTt3cujQIeW5a75zoVKpmDhxIomJiTz//PMBdU1NTWzZsoWIiAhWr14dcDHc6RQUFJCfn8/06dN7fO+FCxcG7Gdqauo5r/3HSoLAQgghhBBCCCGEEEKcg1/+8pf07duXLVu28Pnnn5+27UcffcSOHTtQqVTKyeAHH3wQgCuvvJIrr7xSabt3717WrVtHfHw8t99+OwDx8fEAzJo1iz59+uDz+ZT+p9q/fz8A27dv58EHH6SioiKozTvvvENRUREXX3wxU6ZM4fjx47zxxhtKfX19/Rnf/9lnn6WlpYWsrCwefvhhxo4dC0BaWpryjitWrAAgOzub0aNHK+suLi4OGu/111+nuLiYzz77DPDnOH7wwQcxm83cfffdIdNR7N+/n7Vr1xIVFcVdd90VUHfFFVdw4YUXSn7gbiQILIQQQgghhBBCCCHEOfjFL37B1KlTcTqdZwwC5+XlsWzZMmbPns3q1aspLS2lT58+gP90a3Z2ttJ21apVrFu3jri4OP7whz8EjDNz5kxmzpzJiy++yPz58087586dO9m5c2fIujVr1rBhwwYWL17MlClTKC4u5pFHHjmb11Y8//zzlJaWsnr1ambPnq2Up6am8oc//AGXy0Vqaiq1tbWsX7+emTNn8thjj/HAAw+EHO/tt98mLy9PeT5y5AiPPPIIiYmJ3HXXXSGDwAcOHOCRRx4hIyMjKAg8ffp05s2bd07v9GMnQWAhhBBCCCGEEEIIIb6DzMxMLr30UuXZ4XDw2WefBVzUNnDgQC699FISEhL4+OOPaWtrU/ocOHAg4ORtc3Mzl156acg0Bvv376eqqkpJ1RAREcG4ceMA+Pzzz7HZbErb9PR0Bg0aRHNzM7t37w4YZ9SoUTgcDtRqNR9//DF79uwJqJ8wYQIWi0WZL5SLL76YgQMHUldXx8cffxxU7/F4gtJPdImNjeWCCy4gLCwMrfbcQ5NFRUV8/PHH7Nu3L6hu3LhxxMfH09HREXJd3b9X5xsJAgshhBBCCCGEEEII8R3MmTOHOXPmKM+1tbWkpqbicrmUsl//+tf8+te/Zs2aNUybNo2MjAxKSkoAGD16dEAO2zlz5vDRRx+FnGvp0qWsWrVKec7MzFTa9unTh9LSUqXu6quvZunSpeTn55OTkxMwzkMPPQTAY489xrRp04LmeeWVV8jKymLu3LkB83X3+uuvA3Dttddy5513hmzTk+zs7B7f8Wy8/PLLvPzyyyHr/vSnPwEwf/78kBfCdQ/On28kCCyEEEIIIYQQQgghxFmwWCwAuFwuOjo60Ov16PV6pV6lUmGxWHC5XDidTjo6OpQ6u91+1vN4vV6sVmtAWVdgWafTYTAYMBgMyvherzfkOBqNBovFgk6nQ6VS9djGZDIpz2q1GgCDwYDFYkGtVtPR0YFarSYsLCygr9FoVN7X4XAEjQUop331er2ylo6ODlQqFWFhYQHrOnU/zWaz8rXJZMJiseBwOHC5XGi1WoxGIyaTSdmHsLAwZf1dcxuNxpDvfb5Rn7mJEEIIIYQQQgghhBCivLyc8vJy/vznP5OWlqacPO0SFxfH8ePHKS8v5/HHHyctLU35c9ttt531PMeOHQvom5aWxtq1awG48cYbKS8vZ8mSJUpdZWVlyHEuuOACysvLOX78OHFxcSHbTJw4UXmv8vJyMjMzAf/J4/LycgYNGkRaWhrTp08P6vvCCy9QXl7O73//+4D5uv+ZOnUqAHfccQfl5eX85je/IS0tjcGDBwcEyQEWLlwY0LewsBCdTgfA3/72N8rLy7nlllsAmDFjBuXl5axZs0bZh66L8br87Gc/CxjvfCYngYUQQgghhBBCCCGEOAvR0dGA/1Rvc3NzQB5e8J+i7Wpjs9lobm7+TvN4PJ4e+xoMBqKjowkLCzvj+FqtVllPT3Q6Xcg2ZrMZs9mMRqOhubmZ9vb2Htt0nf493XxGo1H509zcjMfjCUrPYDQae+wfHh6utAH/qeHo6GhaW1uVfXC73QF9uvZKSBBYCCGEEEIIIYQQQojv5M0332Tnzp3Kc1RUFCtXrkSr1bJkyRKampqUui+++IIlS5YE9H/uuedobW3lxRdfZNOmTXzyySfMmDEj4ITsiy++SEpKCs899xxbtmxh06ZNzJgxg7i4OD788EMAbr75Zurq6pQ+H3zwAUeOHCErK4slS5bgdruZO3cuLS0tPPDAA4wZM4bZs2czYsQIKisrmTFjRtC7/c///A9Tpkxh+vTpfPjhhzQ0NIRsBzB8+HA+/PBDTpw4wYwZM9BoNKxatYqoqCj++Mc/snv3bn7+859z4403MmrUKD788EO0Wm1Qeol/lnnz5jF9+nSKiooC1ty1X+cjCQILIYQQQgghhBBCCPEdFBUVUVRUpDwnJiYqp1vHjx8f0LazszOo/8SJEwHYtGkTAJWVlUGpHSZNmkRWVhbvv/8+AGVlZZSVlZGdnc3KlSsBgoKpxcXFFBcXKydkfT4feXl51NbWKukUMjMzyczMJC8vj40bNwat7eqrrwYgPT2d9PR0CgsLmTt3bsh9GDBgAFdccQX5+fnccsst6HQ6HA4HAF999RUbN25kxIgRgD9lxhVXXBFynH+WYcOGMWzYMBoaGkK+2/lIgsBCCCGEEEIIIYQQQpyFJ554AoCSkpKA8v79+3PNNdcoF6l1t2XLFnbv3o3b7eZ3v/sdUVFRQeNeeumlAeUNDQ288sorAW0uv/xyevXqpTyr1WplPa2trQBcddVVZGVlsXv3brZs2RLyHd5//30OHDigPB87dixku7///e/U1NQoz16vl9/97nch2+r1ep544gnKyspC1p+ro0eP8t5774Ws2717NwCHDh3iiSeeoKWlRalbuXIlH3/8MdOmTWPUqFH/lLX8WEgQWAghhBBCCCGEEEKIs3D//feHLM/KyuLxxx8PWbdp0yaWLVvG7Nmz/z97dx4fVX3vf/z1PScjNiKplUXxSlQQlCpcF1xrEAWv9hb0ilWsUrRqq3X5qbT6s6LWBbeKtWpd6kIF64Uq/alYN0AxVBFZqtGSioCALQrBBcUImTnf7++PMzOZJDPJZJ1k5v30ETOZOXPOd04OmZn3fM7ny4wZM9Iuc+KJJ3LiiScmf66srGwQAp9yyimccsopyZ+XLVvGQQcdVGeZcePGcdppp3HnnXdmDIGnTZuW9vr6nnrqqTpB7IEHHsjSpUvTLnvnnXcyceLErNabjcrKyoz7OqGiooKKioo61yUm6vv2t7+tELgehcAiIiIiIiIiIiJZKCsrS3v9d7/73Yz32WuvvSgrK2OfffYBwknlEtWs9fXp04dBgwZRXFyc3Nby5cupqqpi0KBB9OnTJ7ls9+7dG4zn008/pby8nJqaGsrKythvv/0yjqtfv37sscceGW9///332bBhQ8bbIQxrq6qqkttL8DyPpUuX0r17d3bZZRfKysrwPI/y8nJ22mkn9t9//zrr2X///dm2bRvWWsrLy5OVyttttx2HHnooxpgG266qqqKysrLR8UkthcAiIiIiIiIiIiJZeO2115p9nwsvvJALL7ww+fMnn3zC8OHD0y571llnMXXqVEpLS5PbGjx4MJWVlUydOpWzzjoruezAgQMbjGfcuHFceOGFXH755U2Odfz48dx0000Zbz/77LP54x//2Og6rr/+embOnNlge9FolN13350NGzbwzDPP8OCDDzJ58mSGDx/OqFGjePnll+usZ8qUKQBMmjSpzr7ZaaedmDdvHpFIpMG2Z86cybhx4xodn9RSCCwiIiIiIiIiIpKFIAhafF9jTIN+wZ7n1alyTb2c2Jbnefi+n7zNOYe1ts56fN9vdNnGxl1/fYl1pVsusZ7Glsm0vdSx1V+PtTY5oZ7v+2kfY2KZ+vus/jYStwVBkFynKAQWERERERERERHJSr9+/Vp83zFjxnD//ffXue7555+v0xqhuLgYCCdGO/roowF48skn2WOPPZITx02fPr3BBG1vvvkmu+++O7///e+544476N69OwBLlizhpJNOwjlHVVVV2nEtWLCA008/Pfnz/Pnz2XvvvRss99577yUff2J79TW2vYsvvpgJEyawaNEi+vXrR/fu3VmyZAk77rgjZ5xxBuXl5VxwwQWsW7eOl19+mbPPPrvO/U8++WQWL17Mddddx09/+tO0jyWxP2+99Vb69etHdXV12uUKkUJgERERERERERGRLKxfv77F9/38888bXNerVy/69u3b4PpYLJbc1k477VRnma+//rrBOBKVtTvttBM77bRT8vqampomx7xt27Y6y8RisbTLRaPR5HKZKosb21737t2TX+vXr6dHjx7JSt1PP/2U9evXY4yhb9++fOc732lw/02bNrF+/Xq2bNmS8bEk9mfq/pOQQmAREREREREREZFmmDRpEkOGDMlq2WnTpvHcc88lf+7Vqxd//vOfAdhzzz3rLDt//nzuu+8+vvzyy+R1l112GT169Ej+vGrVqgbbuPDCC9lhhx249NJLOeKII3juueeYNm0aO++8M3/+858JgoDzzz+fzZs3N7jvkCFDkuMB2G233ercftxxx3HuuefWue7Xv/411dXVvPnmm3WuHzRoUJ11ARx88MENtgnwzTffMGHCBCKRCGPGjOG8885rdCK7G2+8kU2bNjF06NCMyySce+65jBgxIrk/RSGwiIiIiIiIiIhIs5SVlTFq1Kislq0flO6www788Ic/TLvsmjVrePLJJ+tc99JLLzW5jeeffx6AsWPHArBixQqefPJJjjzySO6//36i0SiXXnpp2hC4T58+GccD0L9//wa3X3HFFaxZs6bBsj179mx0Xami0UQ6XRAAACAASURBVChPP/00AOedd16T+3PEiBFZrRfgwAMP5MADD+Trr7/O+j75TiGwiIiIiIiIiIhIC7zxxhu89dZbaW879dRT07Z6SPXEE0+wceNGjjnmGIYMGcLgwYO59NJL6ywzbdo0PvvsM4477jgGDx5MRUUFr7zySp1lfvKTn9CjRw9WrVrFXXfdxYIFC4CwfcVdd90FwBlnnIG1lmeffZbVq1fz1ltvJW9LZ/ny5QBUVFRw11130bt3b370ox81vkMa8dZbb/HGG2+wdevWBo9x6dKl/OMf/+CII47gkEMOSV5fXV3NPffc02BCPYC33367yW2m25+FSiGwiIiIiIiIiIhICzz//PNMnjw57W3Dhg1rMgSeMmUKy5Yt47777mPIkCEccsghdUJQCCuBP/vsM04//XTOOuss7r///gYh8DXXXMMee+zBuHHjmDlzZvL6Dz/8kMsuu4xIJMJHH31Enz59WL16NatXr2bOnDnMmTOnycf4+uuv8/rrr3PggQe2KgSeM2cOkyZNYtSoUbz88st1bjvuuOOYM2cON910U53H/9VXXzFx4sQWbzPd/ixUCoFFREREREREREQ6yLZt26ioqABgjz32wPd9vvnmGxYvXkzPnj3Zc8892bp1K++++y4Q9s5N1bt3b4YNG1bnum7dutX5eZdddmH33XdP/uz7Pv/4xz9Yt24dPXv2ZNiwYaxfv55///vf9OjRg0GDBjU57tRlhgwZQq9evZI/J7a1ZcsWKisrMcYwdOhQIpFIg/V8+eWXLF68uMF4swnNE9vaZZdd+Oyzz1i1ahXdunVL9mdes2YNQRBQWlpK79692bRpEx9++GHyvvX3WyFRCCwiIiIiIiIiItJBPv7442R16tKlSznwwAP5+c9/zsSJEznrrLOYOnUqH374YcYK1rFjxyZ7/2byox/9iClTpiR/jkaj7L777mzYsIFnnnmGRx55hMmTJzNp0iQOPfTQBpW5TXnmmWfSXv/OO+/wve99r07lcX2LFi1q8NhefvnlrHssX3rppVx++eXMnDmTcePGseuuuyZbchx00EHJyuoLLriA5557jrPPPjt5X+dctg8x7zRsqCEiIiIiIiIiIiIieUOVwCIiIiIiIiIiIjl0/fXXM3HiRHbccccGt7300kv079+f3r17A+Fkctdeey3f/e53M1bkPvroozzzzDMcdNBBzJw5k6KiIt58802CIOC6667j8ssv5/TTT2flypUsW7aMAQMGNNjeFVdcwV/+8hd+9KMfccMNN9RZ//Dhw/n3v//dYLtbt24FIBaLcdhhh+H7fvK2xPbSqd8G4thjj2XlypVs2rSJ733ve8RiMWbOnMlBBx3EzjvvnHYd6YwdO5ajjjoq6+XzmUJgERERERERERGRHOrVq1edHrupdt99d/r375/8efPmzaxatYqSkpKM6/viiy/44osv2GWXXQAwxrDHHnsA4WRrq1atwjlH//79Wb16NatWrUret6amBoCqqipWrVrFpk2bGqx/3bp1rFmzJuP2nXMNbk9sLxs77LAD/fv3p3v37hhjANhtt92yvn/CjjvumDZYL0QKgUVERERERERERFpg7NixDBw4MO1te++9d9rre/bsyWOPPQaEFbu/+93vmDBhAscccwwLFizg4Ycfpri4OLlMpsnS1qxZw4QJE+pct2jRoibHfOmllzJ27Njk/devX9/o8vPmzWuwnauuuortt98++fNLL73EE088kfzZ933uuusuevTowV133cXf//735G3/+Mc/uP3229l+++256667+Na3vpVx2yUlJTz66KNYazPuz02bNiXH11gwXegUAouIiIiIiIiIiLTAAQccwAEHHNCs+3Tv3p0f//jHAPzud79j2bJlHHbYYRxzzDGsWrWKadOmse+++3L//fc3up7PPvuMadOmNXvMI0aMAGDy5MlZ3X/FihWsWLGiznXXX399srIYwiA2NQT2PI8f/vCH9OnTh1mzZtUJgdevX8+0adPo0aMHv/nNbxoNgbfffnvOPPPMRse3ZcuWFu2HQqMQWEREREREREREpBn++te/snr16qyWraioaHKZv/3tb3iex2effcbPfvYztt9+ex588ME6y4wYMSJj1XHCyJEj6d+/PxUVFSxcuJBPPvmkwXqOP/54SktLmxzT0UcfTbdu3dLelqnFwi677MKJJ56I7/sNwt1ly5bx4IMPUllZ2eS2E7755hsef/xxrLWceOKJyfYWAP379+dnP/sZX331VZ0AGmr3Z30/+9nPst52vlEILCIiIiIiIiIi0gy/+93v2nR9TzzxBE888QRnnXUWU6dOpbKyksGDB9dZZurUqU2GwOeeey6nnXYad955JwsXLmTVqlWcf/75dZZ55plnsgqBJ0yY0KANRFP69+/PAw88kPa2F154gRdeeKFZ6/vyyy+58MILiUaj7LfffnVC4IMPPpiDDz6YNWvWNAiBE/uzvkIOgRtG4iIiIiIiIiIiIiKSNxQCi4iIiIiIiIiIiOQx8/XXX7tcD6IjWGv56quvWLFiBaddfDmfVCxt1v13GXIQsx95gEGDBtG9e/e0fUVERERERERERKRrM8bgXEHEZRKXze/cWsuWLVt4//33GX3O+S3KFmfecycDBw5kxx137PBsUUmmiIiIiIiIiIiISB5TCCwiIiIiIiIiIiKSxxQCi4iIiIiIiIiIiOQxhcAiIiIiIiIiIiIieawo1wMQERERERERERHpTIwxuR6CSJtSCCwiIiIiIiIiIhLnnMv1EETanNpBiIiIiIiIiIiIiOQxhcAiIiIiIiIiIiIieUwhsIiIiIiIiIiIiEgeUwgsIiIiIiIiIiIikscUAouIiIiIiIiIiIjksaJcD0BEREREJL84SJlV3NX7OS1jMJg6P8cvtP3wRERERKTgKAQWEREREcmWczhsGOqmXk4GvS4e+kL8f/HbmlivSf4v/G6Ih8Lx60z8BD5jMHhhSGwM4GGMgmIRERERaZxCYBERERGRdJzDuQBsgHMBzqUEviRC4MRlaDrpbebmk5dMnZDYkAiAawNiYzyMVwSejzF+m45DRERERLo+hcAiIiIiIimcC3BBFBfUgLMp7RzaNuRtxojqhMzp8mYXD4aNMWCK8PxuGD/SweMUERERkc5KIbCIiIiICICz2NhWXFATVv3mLPRtiXhlsgMICGwNJhbBixRjPFUGi4iIiBQ6hcAiIiIiUvBcEMXGqnE2luuhtA3ncK6GoCbAixTj+dvlekQiIiIikkMKgUVERESkgDlsUIOLVserf/OMC3DRr7GA50eonXxORERERAqJl+sBiIiIiIjkig1qsPkaAMc5Z3HRr3FBNNdDEREREZEcUQgsIiIiIgXJBVFctBryOABOcM5iY9/gXJDroYiIiIhIDigEFhEREZHC41w8FM3/ADjB2RguujXXwxARERGRHFAILCIiIiIFxwbbcLbw2iOEj1vVwCIiIiKFRhPDNcMOO+zAN998QxAEGKNJNURERES6KhdsxTmX62HkhKn+DONHcj0MERERkS7FOUdNTQ077LBDrofSIqoEFhEREZHC4mzBBsCA+gKLiIiIFCCFwCIiIiJSUBSCOu0DERERkQKjEFhERERECksBTQaXkfoCi4iIiBQUhcAiIiIiUkAcFHAriCTtAxEREZGCohBYRERERAqHwk8AnMJwERERkYJSlOsBiIiIiLRIWwRYxrR+HdKluDD+FAAs4Od6ECIiIiLSARQCi4iISOfiUioU63x31KZ3qZdpXiBskv+r+3P97xCGxCblsnR9iWOp4DmcczqsRURERAqEQmARERHpeImgt/4XLp7nJkLeRoLf9pAhCDbx7xhqg2Hj1Q2JpYtQAFxL+0JERESkUCgEFhERkfbnHFib/HINQt4OCHizUX9MqVcn1AuKjTHgeeGXr1PrOz31wa2lfSEiIiJSMBQCi4iISPuxAS4WgA06V9jbGvWCYgfh4yNeFez7mKIiVQh3Wl39AGxL2hciIiIihUIhsIiIiLS9IMBFo+BsYeRMyWA4rHh2sSgURTCRSK5HJnUUwsHYXI46PbJFREREJC8pBBYREZG2Y20Y/gZBrkeSWw6IRnFBEAbBahPROaj9gYiIiIgUKC/XAxAREZF84CAWw23bpgA4lbW4mhqIRVEVamfgFASLiIiISEFSJbCIiIi0jnO4WCwMOpWvNeQcLhrDOEC9gnPK5UFL6rYVD8V1TIqIiIjkPVUCi4iISKsoAM5CIihXlXSOOXSgptCuEBERESkYCoFFRESk5RQAZ8+5cMI4a3M9kgKmA7Uh7RMRERGRQqAQWERERFomMQmcMqTsWRfuM8kRHawiIiIiUpgUAouIiEiLhAGwQrVms0FYQS0dwjmHdQ5rrQ5XERERESlYmhhOREREms9a9bdtKRcG6KZIL8PamnMu/gUOVy/0dRhUAZHKxf+neeFERERE8p/efYiIiEizuZhaGrSKc2GI7vu5HkmXVDfoTYS92ZT5mviXSoJFREREpLAoBBYREZHmcQ4CTW7WWi4WxSgEbpRzDkfdCl8FuG3Jof0pIiIiUhgUAouIiEjzWIuCozZgbfjlFXaDgjDXdbXf67Ry0HEmIiIiItIWFAKLiIhI81hVAbcJR8GEwImAt/ZbbYUvLvFTR41EwXJd2h8iIiIihUAhsIhIB0k/UVGt1Il5DKbBdSKdhbNWuVEbcUGQVxPE1a3qDf+XDHshR9W98b+oBoyOWxEREREpUPnzrkNEpBMKW6darAPrXBiHuPQRSCLvNSnJb+KiwWBMfBkTBhrGhMsqJ5YO5RwZP8mQ5nM23J+NfOKz/LEJ3PZKyhXHXMljEwa3/9ia4FJbOECdit7ctXIw8V2Z8jczeR1grQ5fgC0fMe+JR/jLsk+ojkKkZDBH/Gg8Pzmsb4dsvrMe0yIiIiL5TCGwiEg7iQaWmA0nM7LNSR0yLBvOaZ9MNeIBR/iDFw+EPROGHZ5KiKW9OJ1O33zvM/2Cu5jX3Lv1H88d145k8JkPc/eID3ht5m3Meq9lI4hWzuCqKS/wRclILr9xPIOLs79vahVv7QdZacLebZX8+drf8fLmEkZcch1nNGcjzVb7YVjigzFSPxTL8AGZMybPD99NlE+5nqnLYd8zr+OKET0bLlL9Po//+reU9xzLr+8ZxW5Fa5h5xa28cP+NFPe6n3H923+UbXFMi0jhqX9WXe3kofGfG/kDn/qhYPjUodfMIlJ4FAKLiLQx6xw1MUtgXZv2uQyjt5Qy4pTwpX61W+LFreeFwbCnF7nSVtQKouWG/ZSHfnIAkcTPn77GTZNmsJL+jJ9yLSOTeV01C6dcwANfx3/0I5T0G8yA3i3f9AdvvUBVFNg0l6WrxzN4v4bLJHv1Jt9kJ99Vp/zKG/nlr1rGy5uiwCZeXbaWMwbv2/IB12HqnvlgDLGvqnHFO7Cd3/x1hV9d+yCObqmG4mIi9dtJb3qPBcujAFS+8R5VI46mV71FVs5+kHmfF3P8z0fRNwJ2WxTrRWD7UnYtaYfBbq2mmmKKt0+5rg2O6TYdj4h0KuFJR2ERRfJsusQHkvWWo8G1jUl3th34nqHI9/RaWUTyXv7PRCIi0oGsc2yLBsSs7cCJjmoDYht/wRw4R8xaorGAbdGAb2oCqmtibIsGRAPbvMpkkVSqBG6x0tLdawPgRhXT6z/atop270NOoFcEIj1HctBetW+uA2uJBQHRWEAsCIgFlsAGWGvDCqtEG5tsJlTrfyDH9YxApCcjDixtwShN/IwGD9/z8H2fIt8nUhR+9z0Pz/P457SzOO/inzPzny3YQh600Kl8/Hx++n8uT//4e+7HUYMjQIR9j9ivQQCMfZ83X60GdqFnD3AYbLfB/PC2B3j497/kyJ0CrG3Df9/vTWfCzy7ggpnL226drdHZxiMiQPj6ORpYtsUCvqmJ8U00xjfRgG0xSzQIX1cH8de3NuWr9j+y/Kr9L/U1czSwfFMTvkYWEclnqgQWEWkjDqiJBQSdKGBNrZlw8UoK4q9vDQbfC7+KPE+T0El2nCqBW6p0lzSn5gPpdmjpnkPh/bbZrnMOf9Cp3PbgqfEPgGLEgrZZdx3d9uXU2x7g1CwWNfHAN1nhm/UfoCjV1a0ZJGH5Vyf6O908TT3+npRNvIeyTDd/9jFrowC70us7YQhcK6wCD1xAYMEzHp7XnN9NmtFWf930Qh2os41HpFAFNvwQMrCuU7xuTrxe3hYLCKxj+0izTzMREekSFAKLiLSRsIIu16PInsMRs46YhW0EeMZQ5Jl4tV3Xr5aTdpByOqY0116U7tLIzdaSeoJWpLSU5tbS1lbu1l7OHVP7/5SgN9GqpuW+4Iuq1gyrq/9l29y6x2+jhM0iIvFWEpn3h3UWGyRaC7XsNOkvNrdmsG2vs41HJN8lOpeFZ564+GTJHXmuXPMF1rItBt2KFASLSP5RCCwi0gasc8SCjm0B0dasc9QEDhNYfM8Q8X2FwVKXc6oCbpFBjL//l40vUi8Eps8J3HBtI4vHNrD8led47qUlrNxUTZQIJfscxkk/PJWj9khpJbHpFW658k+sSl5xDL945Az2qbe+6n8v4qVZL/K3f65j8zaACCV77Mv3xpzB/wzNVMGcCHo38crNV/Cn2o1w7C//yI/3q/fXY9Ny5s6ezYtLP6DqqygQobjn3gw7aRzjjiiluLH325te44Enqyk7eTDRMMVk7m8mMDd+84Az7+CaUbXND6o/fI0ZM2ezeGUV1VEgUkyvAUMp+6+xjB7Sgsa3m97jL088Q/k/Pwr3T6SYXv0P4L9Gn8ix+/RouPyWjyif9RTPLVtN1ZZocvkf/HAsZam/n+UzOHvK/PgPPTn5hpsYvRtsfncW9z48n5VboHjvkVx2Zk/mPV9N2Un7EI2FS8+bcn5yssEBP7qJkz+exO2v1q56wI9u4upjw99d1bzbueKJ1SkDnM/t5yS2258Tx8Azz6b8AgE4lJ/f91MO7OYIgoBg+Z84d8ordZYY+cvHGN+gv3QVr90/i+qjxjI48ct65TYmJO4an/CwQauKoIrlr8xm9ouL+SBxTO97BGNPG8fwPdO0R0ksP+dtPtiwmSgQKSnl4NHn8ONjUo+nFo5HRFrEpfTxDYPftp0jo705IAgcMWMp8tU9U0Tyi0JgEZE2EFiXN312HRCzjsAGRHyPiN+604EljzjbhU+j7+Rc7WkEqRW8iUnacI4gcfWaOdwzaRM9f/hTLrllAhGibFo8lVv+sIDHbl1P7KZfMSKR2/Y8hqvuG8K6V//IDU9Wpt109fI/cc2UBfT8/v/hqgv2pWcEsFE2r3mO+yZP4pYzJ/OrET2TRaOGcGp1k5yMsjfHXf0wB/x7Lo9eM4PliWVSbZjLjVdPp+qQnzBx8pWUxnPY6McLeWTytfzftVcy5czBmXsm9xzO+RcAwTu8uS68Kn0AWc3aZ6Zw41/W0nfUxdwwcSi9IsDmlcx97G6m37WQuSN+wc1nDiDbrstVr/6Wqx9fzbe/N47LbjkyHLuNUvXuLH5/19W8+cPrkmErABvnc/uvZ1BZfAg/u/pODusdgc2rmX3/b5l647usm/hrzhwc3/rgcUx9aCxrX7ydX8/6iPUfR9m87lEe3PR9LrtmZ3575QxWfvACMz+4nat/2gPse8nHf+zEBzhzcMpA7T38/tj3mHn3g5RvrPsYeh17BVOPJSV0PporHhnHIHwcHtgoZQe8yZ+n/JFFW6Dkexfyi9P2Z9duKSsZfAb339SPh27+I8t2OobLLjydoX0dDauJezH8gvMBeOfNteFVx1zJYxMGk9HaedxzdRW9Tjufy2//CRGiVC1+hBvvf41HJ/+b6K3XpEycCGxdzoyr7+SF4hO48uq7GVwCbF3Pwmm38sDj17LkrfHccnUi2G3BeESk2RKhb8xarO1KsW9DNn62nOc5TRYnInlFH22JiLSSc8SrHPKLwxENAmpiVrmfhFzyf9LWnCMIbPhlLbEgnLAtMUlbnQ+ZVm9mwCXXcerQXcNT+r0IPQ89mzMOBaKreGnhx3XX3a0n/frtmmHDq3juwVfY3P0YTh27L70i8cnZfMMnixawiiirFr3LFj+crK3I9/HjlxP9Yo0x4Efo1a+Uvmm3Uc3Cx6ezMjqU008fngyAAb6onMuSr2Dz/KV8kM1+8iONTq4XfW8Wt/5lJdH+47j4zHgADFAygJEXXsIJ34HNr/6OBxd+lc3WqF4+g8mPvw/7j+fqs4+sHbsX4ds9d6Fn9ygrn3yWpdvi19vVzLx9BpXbduHky34SBsAAJXsx+oJx7MuXzLt7BktT+/p6EYq7hctV/HMWM17ux5n/vTvF3+nPQXuEE+3tW9ojuWzGx+9FKN51d/p1z+qhhXeJT8Rn/O0o6XcUPzghPE42f/Y1xcUNtxShmo+rYZ/jfsB3+3hhG6TAJicSbLB8djMhwqovGHDZDYw7oC8Rn/B4OuwcfnwYEF3Ji6+vr7N49dIXeWFTFNYtZ32iv/X2fTn8nEs4YUeIrpjBrKXRlo9HRLLmCFuibYsG4dwYefKaOLCubSfKFBHpBBQCi4i0UmJ24XwUVgVbaoL2mEVKuhy1g2g3zrl42JsI0xrZ0fsfy/d6178yQr/+/QHYtGodTc2dlpiYzftiHau2hNd41Aa8vr892/fYgQgRBhwxlG83a/K2+tawshIgSk29vunbFX+bSARKjj6IvVu49lpVvPaXuVQDAw4f2vD0fn8AZUf3AqJUPPs31jdcQT2fUD5jPpuJUHbcIdRtIlHN0idnsPRzILqJL+KZ8uY3nuHFz4HBoyjbrd7qSg6gbH8g+hbzln2ZdovVr86n+rjh9PUAb3eOv+Yepj5wEyfv1eRgW8DgeSm/c8+j7xHHh61Clr/Eoo8b3mPT8qV8zL4cun9ibziss/EJnmyy32ezDRnJ8D71r4xQOmAAAFUr19Y5posHHcTg7SHSc2/6ppZ0+6UM+C5AlCWVWX2sICKt4IBoLKAmsASdvNdvczlc3j0mERGFwCIireTI9QRM7Sus8AhP8ZMCl8fHeZfSs0fjrQy+/jolMIuHvclT9g1+sprXx++5G3tGgC3zeHxGBZtsbdg74MRbePixh7nmmNZ2S92NXfcEWM6sx+ayNqUIt+Swi7n/4ce4u7FWENn6aiUV8ba2e+yafsx9+w8NL2z8OxUb0y5Sa/XrzP43wCAG9Kt/YzH9DxxEBIgMPpIhPQGqqVzyPgC9BvanYefhYkriLQ0qP1iXYaN7MWSfbBtVtE44aV+8r3N88jd/pyMZeUQE+JgF73xS7x6bePfNVbD/URyUpq1y4oOMIFnF3oyZUnuWNHlMf11n+eFc+eBjPDxlHIO3T70hQt++4e8+uno9mgZOpH3FAks0yN9iCGvz+zW+iBQe9QQWEWmlQiiOdDhqYgHf2k5PGwXL6Y1QZ5es0zVhhWdRooevMeDVhsCY1I69gzl8VAlzn9/M2jl38os5EfoeMJJjR5YxfN/4qfmtVsKwo4cyY8U7bF46nWuXzqB44MGccOwJDD+olJK2OkX/XytZDsAAdt0lwzK9elIKrGUdmzYBDSqqa21euyoepvekJE2LhV5ll/GHstRrPmHth+GlkuIm/lau30QVNKxWjvSj706N37XNGJ/6/XyNiTBsxEiK33iBj1/8Gx/+92nslWj1sLmSpavh0AsObKKfsgufF1P7WLenIErVmiW8s+wdli5ezgcbNnfARkXEOhe2DMvjV8HWxT//VltgEckTejcvItIKDvK2+qG+ID7hh+/plXBBaqpFgbSBbN9p1vbiNZC87KcEvZ7XYGq2jAacdis3fOcR7pm5hKpolPV/f4Hpf3+B6ZFeDP3+eM45cSglrQyDS468nCk7zmDK719g7dYo1SsWMmvFQmYRofTo8Zxz2nBKW1sAG0DDLrD1NNFTOFX91hVNixLdEl5a+cQkzn6iufcHdt+Fnk0v1Ta8DCcEDixjzH+8wIx/vcayD8YxcKCPc7Clchn/5DB+vn8LUnsXEIsFGM/gtaq1SIqgineemc7059/hi55DGXnssYy74hwif7+Vqx5f2fr1i0ij8j0AhrAIwjqHrxRYRPKEQmARkdYosFwssBbfa5PSQOmKCuhY73jpd65JBr7gJzPecIK2tlNM6aiLueOYzaytWMzC1+bx2nvrqY5W8c4zdzKxcjy3XD2yYdVqM5UMGccN942las0bLHz5Tea+vZzNW6Osnf8o11as48pbxtc7tb+lokSzamPuAc1OerNy7MQHOHNwu6y67ZhMx1Bfjjh+MDMeXs7chcsZN3AwxlTz3qIKIkdezH8W+5gME8E1xuFw1mGpbT/RYtXLmX7NnczdVMzhF9zB+YfVHp1qASHS/pxzxJrT8qULK5BaDxEpEOoJLCLSSoX02jCmvsCFS5XA7coQVkiGk7L5RIqKiBQVUVQU9u9tVWCWLb+E0gNGMu7SW7j/wbu55uQBRIDoilnMW9VW24jQq/9wxlxwJXff9zB3XHB42Dv3s7m8uLSp6eyaEG/1AGvZlCkJ/ORjwhrRAfTdrfFaiG8nGviyjvWfZzmGeJHs2o83ZXmHXGn8eCoZdiyHRyC6oJwlW4Gty3mnIsLBBw2lmzEU+T5Fvh8/Lg3NPVfaOUcQBC1sFxFlyeN3MndTlOL/uqROACwiHSPaIb1eOgcXb3EjIpIPFAKLiLRKYQVj6glb4PTrbz8GfC8Me722OFU+S1Wv3Ma5EyZw7u+XUCeC9UsYcOJEzjkIoJroNy3fRvV70/nFuRM4d+KzrK2zjQi9DjufiSeGId7X1V+nvX/W+gzl8P8IL76zan3aRTZvXBNe6H84Q3f2MSbzS+HIPvsxBICPWPlhk40mgL3Y98Dw0spVHzXdmiKnmngLsP3BjDymGKILWVIRJVqxhIWR4ZT9Z20rCBP/0CKSy7DuDwAAIABJREFU+KDCeGTfhKQeFxALAmxWFcYfUPl6uHeHDihtcGvV+rUNrhORttWsiR+7Or32EZE8ohBYRKQVHIV3mliBPVxJUCVwOwsnbOtYVbzzt+VhWBk0EllGDiZN1pa1NUvnUhWFqG0sFi1h8IDWVnT25YjvDyUCVM0vZ2WDlhBVLP7bSqCYkScPpxdgvAgZq1i7H8Dxx/YAorz5wnyq0mUedhPz/jCDii0AEYaUHR1WNi+aw7yN6Vdb/e585q1pZdVzBxgwYgx9gYWvzeW1t5dQfMzhDM7QQcIzBt/3wi/Pi/erbkF1sLXJL+ua7ja6/vMv6l6xYS6z3ogXZG+p7uRBvEjXVSjzYYBe+YhIflEILCIizVNAL/ylHv3q24aNUvWv9yl/7S3CetWPWTj/byxfV5W+l20QZfO65axMhIob17J2c714a+t61v5rc3h5yzqWr1pfu66tVaxdl6iMXc/KVeupjgL0Yuj3wpYPxdvXUJW6zq3reeeJW3lkaQkHnz2Ow3ds4jEFUarWrSW5lVUrWR9uhL0PGUkJEOkJX3+cso3oZlbOuYd7nv+C0u9fwgl7NrENwjH37BdeWvNxw54PJUeez+XHlMBnL3D3719j7daUx/P4PcxYFaH0+xMZu1+8otV4mIx9ziPse9L5HN8vAqtnMfn++axM7CMbZf3yOdx71c0s7X80Q7rH77HPGC46fncirGbm7Q8yb/WXRG3i4X7EmzMn88u/fEpp79pZ8KKbP2LVv74Mf9jyEZX//Iiq6kzx5c7Jx9+g5YSNUv3xR6yLT063+V+rWbspZT3bNrHuo0/iP6xn5d9Xsv6rRmLSXY/g+P2A92Yx460Iww8ekHnZuESv3yI/rA7uvUtpYrDUGa2NsnldJas2xH/esI518X3rnMNaS1D9b9Z8FA95t6xNOaZ3Y8CQ8Pe39sUXeecrwuPvvRe45/6VnPB/xzMYYMNa1tbL2nslx7NevYNFWqiQAmCIt4PQCyARyRPm66+/Loi/aNZavvrqK1asWMFpF1/OJxVLm3X/XYYcxCszprPzzjuz3Xbbtc2sxiLS5Vnn2BoNCuYFsQGKtyvS38BCFIvhampyPYo8sIl5t1/D9A8z3HzMlTw2oe6MYssfm8Btr9RfcADjp1zDyJ4Ay5k+4TbmplvXf6/nxonT431wU/Qfzx3XhpO9VX/4Gs8+M48lK9dTFQ8FIyW92PuA4xk9eiSDe9a/c31VzL3hF0xv0Dc4ZYyb3uHZJ1+kvPKDZNgc2bEXfQcczgmnnMDh/1Fc/86Zt/bKbVz12PKUKs+RXPlYPPhLLPP3Z5n1UjnvrKwKA+9IMb0GDGP0aeMYvmf9bTlcEMW5DLPJ2WrWvjGLmX99l5UbvyQKRLr3ZMB3j+T4k09gSJr9U73mdWY/O5+F//yIzdvi299tLw4bM47R+/ckkijDWD6Ds6fMT7vZTJPLVb36W65+/P2Ux380VzwyDh4/n9tfzbSe93n8nN8yL92G0hxzCdGlD3DB3QuJ7ngC19w7jqZj4Ho2zOXWa6dTubX2qhETH+GgZedwR4Ox9ueM237FiJ4AlfzpnDtosMiIK/jjhMGYb9Yx97EHmLU0/EAjUjKYI0aPZvQxg+nlVzF38lVMXxHfQynHOhvmctu101meMp6Rv3yM8fs194GJFK7AOrZGYwUTi/rG0C3id2irJhHpvJxz1NTU8Omnn3LMuPEtyhZn3nMnAwcOZMcdd+yYeT9SKATOkkJgEUlHIbAUjGgUF9XJ1e3G9zHbbZeDlhACgLM4G8W5/OxzaYwftr5o7vFVvZB7LniAtSffwh0n9m31OJxzYaVv/HvzGYwJJ1I0nimsUMYlJqdyyV5ULn49qd9pfv/+2ud0U9sdxZj44WLi3Wpy0bJGOqNYYNkWCwomBPaMYXuFwCIS19VD4ManRRYREanH0dx54EVEOjnjhSFpHgbBxhRhvKIWBXjRynd4h76MPaT1AXA4FhO2jIBkGGxtc/qNh0Gow0FgsIDnmeR684IDZ23yK3zAicA33fKtj+IarMEk/1fnuvBqA56H8QzG8zAd/OZVcq9Qwl8RkXykEFhEREQk1/Ikv+rSjIfxt4PGWkN0KQbjxQPgrFTx2m+u4tH34OAL7+biQyK8s3QJ0f3Gc8Su7TA6Y/CNwfeIh8G2mRWsYTAaWBdfn4fvdd0w2AUBNhrUBr85HUzyf3Wuc4kLga291RhMkY9X5CsQFhER6eQUAouIiIiIAGDCINjGcDZGV615M8bH+BGa9+lCFevejwK96NurmOr3pjPt9WJOuHY4Je00zgTPGDzfb2F1cMg5SywAMHheOEFdp4+DHdggho3GwHbNYw3ncNEYQTQGnoe/XRHGzzTZooiIiOSSQmARERERkRTGK8IYH2ej2HrtIUynDYYNxnjx1g8tqcgczNgrxlL16LM8++sJvLDjAEZOvJFx/dt8oBmlrw6G5gXCYYhsrQ3X53mdsjrYBQFBTQxsHrUfsZZga01YGRwpUmWwiIhIJ6MQWERERKQz6IRBVUEzhoAiHA1DOo8Ag+vwSlNX53tiBIlY2qPI81p1HBUPHMPlt45p5SjbRv3qYJc6MVqWnHPEgqDORHI5D4Sdw0bj1b95ysUCAuvwI0WYIlUFi4iIdBYKgUVERERyzHT+E9cLThg8ZqjSNEXhxFgdMpK6oWcQuGQIXJ+1Dt/Pr2MpUR0MpITBrln9gx0OZ8M4PxEE52IyOWcdNhrFxfKh53QTrCWIRvEAT0GwiIhIp6AQWEREmsehSaxEJO/ZjKfpG0yOWgwYwPNscjK0+qxzeM7lvtq1nXjGgDEpQXBY7euaUR1swzuF1cF1AuF2HHi44cIJgBPij9kYg/HVGkJERCTXFAKLiEizdNZumNLO8jRUEkknsDZjpalnwrYCueJ5HtZlHl9gHUV5Vg1cX2oVbyIQts1sF+GIVxO7MAA2ph3bRTiHjcUKKwBOiAfBnrdd3n44ISIi0lUoBBYRkWZRCCzSDhSOdBqNtRowGDwv978rzzMEQfoxJsZfKIFbspIXwrDVhRPDZf9slVpRbMDUbRnRFmwswBZiABznAouLBZiI3nqKiIjkks7LERERkewURqbU8bRfOxVrGwmBvU4wsRhNVyMHGVtZ5C9DvH+w51Hk+/ie3+zfVaI6OLCWWGCJBUGzeg+nXacNA1BauZ6uzsZiBb8PREREck0hsIiIiDTNGJRWSr6z8UrSdIwxeF7neensNTIxnXNkfByFwJhw/xT5PkW+j2da8nsLA+FYEBCLBS0O1l1gcQUYyjdgHS7QfhAREcmlzvNKVkRERDovZcDtS/u2U3AZ2wgYPON1ql+TMQbTSGuKzBPbFRZjDL7vESkqwvebXx0MYYWwtZZoLEYQZO7H3OB+1hVmH+AMbCyW6yGIiIgUNDVmEhERkSwkUuDCrS5sP0rYOwNrLdalD04TlaWdjWcMzri0Z9k7F7a26IzjzhXPGDzfT5lIrnmTyQFYZ7FBbX/oxnoHO6sq4FQusOGB2QlaqoiIiBQihcAiIiLSNGP0xl3ylmukDQSA34naQKRKBJCZKlOtcxhn9E+3HmMMfnynWOfCil2aFwg7HIF1hFXiiTCY2kDYoSrgNJy1GN/P9TBEREQKkkJgERERaVoibMr1OPJROKNVrkdR0JzLPBmcZ7xOMRlcJp7xcCZ9i4Iw3Lb4LeqJWxg8Y8A3yWPAOgMuDIWzE/8AwYXVwYnJA41zOKsQuD4bWHyFwCIiIjmhEFhERESyY4w6QrQLVVnnknOJis50DJ7fuQNUY8IgM8gQYifCzc4cZHcGiapqD1IC4cwfDqTjcPG+0vEGL/pb2VDGf2siIiLS3hQCi4iISHaM+gK3GwV0ORNOoJb+mPY90yW6NXuewbr0bSESvYF9vys8ks4hEQgbF9YDu2T/4GYEwk6dvtNRj2QREZHcUQgsIiIi2fHiFavNCEIkC2oHkTO2kV7Axhi8TtoLOB3fM8SCxnoDu7D1gWTNmPiHAMYkJ5FzzjbaP1qaoH0nIiKSM13nla2IiIjklvEUVrYDnaafOzbIXJXYWSeDyyQMrTMfS1YVmK2S2L++71Pk+3ieR9eoE++EFASLiIjkRNd6dSsiIiK5Ez9FWtqQIQzXpcNZazNO/tXZJ4PLpLHgOmwLoSC4LRhj8D2PoqIwEO6Kx0ouKQIWERHJDb3rEBERkex5qgZuW5oULhfCyeAyBaKNV9R2dkWNTGQX2Ob1tZWmGWMo8hUGi4iISOenEFhERESy53ma7aitdbG2A/nA2sxBqOd17Yp3Y0yjvX8zh9/SGokwuCsfOx1GH0SIiIjkhN51iIiISPY8T+0L2pIxCoE7WJOTweVBiBf2q00vbAuhEK69dLVe0iIiIlI49CpFREREmsX4qgZuK8b3cz2EglLbFzddCBoGwPlQyWkMeI22hbBqC9FOwuOn6x9DIiIikn+Kcj0AEWkbzoF14Zu68Cv+FjfDe7zU97iJN7zhN4MxYOLfU28XEQHAL4JoDE3v00oGUAjcoZyzGc9ENwZMHlVxesbgPJOx6tdah+/r+b09GGMUsouIiEinoxBYpIuzzhEElsBabDz8xWWa7zw9k3LB0DAQBpLVUeGpsiQvi0gBMgZ8D2JBrkfStXmeWkF0IJdsA5GhCriRFgpdlWcMzri0wbd1DuNcXrS/6GyM0UdkIiKQaAGe8t40zftUY5LvQDVXrkg7Uwgs0oXFgoBoLMDa5oW+9bmUC8k11SsjTjwfp1YNGwzGC0+f9bz8OY1WRJpm/CKcQuBWMUWRXA+hoNj4mTLpeHnSC7i+xAe2mR63tQ5P1cAiItJCiQ9YnSPljNTEWakuvkx260oUIXkm7G3veUZ91kXamEJgkS5qWzRGLBZ0WKVJYjvJN5LxkNikTDIevtkMn7R9L6yqysc31SJC2MbA88DappeVhjxPrSA6kHOukcnQwg8y81VYX5X+sYf7xeLpTbaIiDTCWpecWNWlnIHqcA2eYlr8/jT+/tICBBZM+CFtke9T5HsqNhJpAwqBRbqgrTVRYkHnCF5Sn+RdvBFxYAOi8es8Y/A9g+97+J6evEXyiYlEcNu25XoYXZKJqAq4I4UBcIYqYC/Pz2JJ89AcEE6PZwgcmIwBefr7tsewUqdTS551lPgymmpNRKQjOMIJVK118S9L0ME9zlPPUg2cI7AxojFDt0gRfiOTnopI0xQCi3QxNdFYpwmAs2GdwwaOaHzMYSjs4fvx/ovJHlAi0uWoGrhlfF9VwB0orFzKdIzm96mmzoGLB7yJN9UBBhs/5bZ2wY4eWRMyBA6JUNgzie8GD4XEIiLNkej6l2jlYOOVveH3XI8uPesc39RE2a6oiO0ieg0l0lIKgUW6kCCwRLt4D84wFA6IBvE3cF54io/vq3WESFdkiopwNTW5HkbX4RlVAXcw28iHFPlcUeScI7CJyfDAxsNf14Xj0kQ9dzKkiD82D/BNordz3apiEZFCl2iJVDfwbd2cMrlSE4sBju0iirJEWkL/ckS6COccNbFYl3yyzsQBgQ1P8fFihkiR+j2JdDmqBs6eMeFkcHlcedrZWGsLajI4S6Kyq3YiPIfBdfHwtymWeDDsXDIQ9lMC4Q6XTy/WRKTLcs4RBJZYYAmszZs/TdFYkCwkEpHmUQgs0kXEAtvIpDZdn3WOmmgMa30iRX5eT9IjkldMWNnqamqyn/65EBkwRWoD0ZGcCz9oTM/k1WRoYQjqiLkwDA0ftUlMtV5QEoFwzLlkGOyrXYSIFBhrwzNIY0H+hL8JjkQQrDNJRZorf179iuSxsGI2/57A63NALAioicWSp6+KSOdnjcF6Pk4vxNMzYPwiKIoUZCiXK2EbiPyfDC5wELWOGhte1rNnyAGx+L6J2vhs8x22bf0WRCR3AmvZFg2I5mEAnGCtIxZ07TaJIrmgEFikC0jM0FoIHGHv41gsUFGhSBdgE31HPQ/r+7g8qq5sEwbwiyCiALgjNTYZnDEGz3T949SRCH/DCmA9ZaZnCcPgGusItJNEJM9Z66iJBgR53qYrfM/oMrZ8EpH0uv4rYJECYG1hPcE5IBrk/4sXka4u0WsOHBhwnkfg+1jP07nXgDMG6xepSjoHGpsMzjNel8/jEwFw1NGhFa5dlSOsklYQLCL5LDGHTGPPgfkkMQGqiGRPIbBIF9BVZ29tDefC1hCFFH6LdCXOOWJBmtPt48GnK4qAX6AvMwwEvk9QVBRWSOMK5g1ZZxA0Ohmclxc956Oq/m0RSxgE61+jiOSjaBAQ5HELiPqc0+srkebSxHAinVxidu9CFAQW6zt8v+u/YRfJJxkD4DjP9+KTbkXCK4IAF8QgsHk/eZz1faznN6iEttZiIK8mI+uMnAPX6GRwXf/5JFEBLC1jgZrA0c037XbCgsGoL7CIdKjAWmKxwgmAIXwVal3417brP7uLdAyFwCKdnHOOwno6r5WYEM/zPT2xi3QSzhFv1ZK50tKvH3T6Psb3w8vWgrW4+PfaUNjV+dapmAYXwovGgPEwnhdWQGPik1qmfxCBdWCcZrJuR9bajOFbPkwGZx0KgNuAJQzTt2uvDwW69mEmIl1MeAalLciJtRMf/po8+JBXpCMoBBbp5JyjYCuBIQybIs5pQiWRTiD8YCZzmxZjsqi09DzwUj7YcS4ZBjtnw5QrNRhObqodQuJM4W7i58RlE34lwt7kVz0e4BqdyDM8bdF4XpcPIzujcDK4Ro7NLr7PHbCtANtDtYdEj+DAQXucbNR+NcZ5wjo1JRRpQ9aGk2oXIpc8a1Z/d0WyoRBYpJNzrrCb/oWT4ikDFsm1MKvN3GvVGIPfknDTGIhXCdcJhhPfU79Sb8O1qLOEqRPypvme7nIz+J4HDqxL36MunMTE4vu+3q60MZuxQj0MgLt68B5VL9s2ZYHAhZX5bX1kGM9AYeYxItLBEmdOFurbRRf/T0SyoxBYpJMr9Ke1sNeTxcPP9VBEClbi32GmYNNg8NqiujW2mRXzn2X6009Rsex9yis3AFB6cBllx41n/IRTGNY7ZbstT4Hble97uCBzP3fnHEEQUOTr71pbSXxgmI4xXb8Xs41XrUrbChz47VANbFBNmoh0kOQ8DQUq9QQyEWmSQmCRTsyhJzUI39wrAxbJHWtto7Mve77X6lPtN795LxdfeA2zVze8be2ScqYvKWf6zX/g3P99iN8cXxre0IkrO33fJwgytc5YzJ09v88tja3gVy/z+S+HtdPo8otLVl5nqALuAgHw4t/sxHE3N7bE1Ty7aSIHdtSACoQlbCPit8PfEs/zVLmdSef90y3S5RTyJOJQ0CfMirRI539VLFLI9KwGFHZPZJFcs432uAXf81sdAK99+hKGn5A+AK5rMQ+ffg1PrW/V5jqEgZa1x5Bmcy5zmxIvD3oBJ+iZsH0EtM++1SRFjcj232RsLXN+cx6H7rMTO+20D4eeO4Xyde07NJGuxqpXvN4rijSDQmCRTq2wP9lN0B4QyQ1rLUHGPqvxALiVQce2JVM47+zprE25rs9pd/Pays/5/PPPefveU+rdYzYvvbWxVdvsKOFEeR4qe2s/YY/lzM8SrT0+Jf9ZF361NR15jcgqBN7G4t/+mFNvfooVGwA2sGLWTZx45hQWb2vn8Yl0IY2dqVUoHHq/KJIttYMQkU5PQbgUho08dfYgznu6tevpw8CjBjFo71GMOek4Rh0+kJIWPNvb+ARmmfie1wYBWwUPXXUTi1Ov2n8i06eMZ8gOACuY88enGtxrWxeacMkLG9IS2NRBD+OyNf/gvyvfYvHcufxl+p9Y0NG5drz/8p9fmMPiigrKlyRi+FKGjRjC0INHcdwPxzBq7xIANj59HoPOrv1dTJrzORMP7uAxpxFWqWf+kKKrVGIPu+wT3j9pEeWvzqH8ydlMX7K26TtJm3CAxZE6VeO2T1ewaH45c16dTcW6T3h/wQo2JG7caxhlQ4Yy6gencuoPhtG7W+KGxUzZ5zhuSiw45gH+cd8YUtqYS1x2/y4rKL+5ouHV7z5E+fKJDDugzYcl0iVZvU+qTYG7xlO+SE4pBBbpxFzyfyIi2drAigUbWLGgnNmPXgN7jebGu+7goqOyjyJsfOKyTDzPa5M+q9sWPMu9S+peV3bOeIbtkPipG92+Xf9efRjYu6TV2+5InmdweHWrdXbozcCDf8DAgw9h+w/+xIJnO2o021gx6yZ+efW9lG9Id/taFr+6lsWvzubh31xC6ciLmHTzJAZ+uKCjBpg151zmyQqN6VpVwEXd6L13GafsXcYpB36b6aNuyvWICop14Ax8uXoO02+exL2zUkLf+lYvpnz1Ysqffphr+pRx0eTfMGnsQCKr/slr9e6kl3BptPq5Y0PYw0NEAM0fE1IKLJIttYMQ6cyc3kCISCutns01Y8o49b4KsjmD1jlH0Mgs08YY/DaZaGsz5U9PaRC0lH23NOWnUk69+SEuOn4gfQD6DOSU2/7ML4/qRlfjex6eyfXLrrXMuXI0h56bKQBOc4+593LeIaP5xfNZ3qEDNVWpLpIt6zZT8YcfM/ygU7mmsQC4vg3l3Hvuofzg+vm8vehlGnxU0pU+iOggXlG2/zaHMOyyPg2v7jORYfu36ZBEujR1BNb7ZZHm0CtkEen09Am3FIbenDL1cz7/ZA1r1qxhzZMT0y41aU7YK7fB1ydreLt8GjeeVJrmXhuYc/WpXPR04z0HagPg9P/o2i4ABlhLxV/rXzea0noFy932PoUb/3cR//z8cz7/5yIe+ukQul4EHPI8k8P2BNuo+O15nPqHxfWuL2X09dN47Z01fJI8nj5hzTsv89CvRhMeTYtZvKThGnOpsdnQPU3IJ82ylnlXncrRV86mfhOO0pMm8dCct1nzr9q/tZ99sobKRTO57cdHJVs9LLnrfzj2wufq3duA53fA+LsW42e7T7pRNvFZHrpkFAPDTwEZePxFTHt5EmVd9UlAREQkxxQCi0inp0+4paB0K6GkpISSb3+r2fcr3X80F01dxKK7TqFh/dQGnvq/f6A8Qzmwi/cAzvTvLREAt1m4tn4F76Qrt8vjRlVtvg+bY/WfuemG+gFwH055+BmmXTKaIf1KUsL1bpT0G8Ypv5zGorfu5pQ0xXi5ZjNUqxtM2IdZJCvbWHrHTxn/UMMPR8Y//DZvT53I2INL6VHssDb8GxkUdWfnvY7l7Cn/j9fL72JsY512PINTVXotYzDN2R87DOSU6//Mon9+zuef/5NF/3sjo/u13/BERETynV6ViIiI5JVuDJwwmZtOSnPThik8NWdzg6uTAXCGykqDafvqyq3f0HAk+S/sVevRZN+6Nj4FouLFh5lT/8oRVzNpbLrK8Vrd9h7P5Mmj23QsrZX5w4p2OE4lr21bci833Fo/AIaRv/1//PZ/dicIbPhlwy9rXZ1/miX7nsn9T9/GyEwbMAZ8D6djEgAvksef8olI7qiFokjWFAKLiIjknd6M/snENNXAMP3Vt+qEr865eLCR6eWzwfO9tq+u/Gwj5W27xi7DMwbfb+IlmMscyjffWlYsrGh49eH70HgEHOr9g3OZ2EmqgRPHazrGgFEPVslaBX+cNJml9a8++AauOrMf1rpk25FG/ynufQ633pkxBg4PTB2X4Bm8IrXHEJG2p8nURbKnEFhERCQPdeu/D4eku+GzzXUmiAuDjsYm2NLp9e3Ba7K/smt04rPm2cja+u1Km6PboZSd1kZDaaUwAG74Ti9Zrd7xQ5Iu6su/PsyNaXpdn3HRGTR33rF+p17IZZnaQoSfTnSBSeu/ZPHUqzn92P+k13/05aAxE7nvrS/bbO1eUVG4L0RERCRndE6OiHR6pvO/cxLpkgJrGw2Av1r1Oq+8NpfyFytYtLycFfEevn32LWPQgUM45aTxjDl6ICVZvJrYOOvHDDp3dhNLzea87+7EefWv/tXLfP7LYZnvtm0jFXNe4tlX57C4ooLyJYnpnUoZNmIIQ48ew6mnjGZY31bOJrRtI4ufe5ZnX51NxbL3Ka9MNDWOb+fgUZSN/i+O2793VpPXeZ6Ha+TzeOccsSCgKOuJlJopmu2C3SgdPBpo6veXRhv+bqxzvHXHznz/1gwLjLibt/8yvkF18+bVc3j2sdk89UZ5cvt99i3juFGnMHrCGEbtVdL8x5W6/g/KmfPCbJ6dv4L3U/6dsNcwykr3YcjxZYw5fjTD+rXhbFaxjSx9djozpj3J3L+toApgz2EcefghnDTmXP57ZCk9WrP+T1fwyktP8sq8xbxbUc7SD+PX9x7IkYMPYb//KuOYo0dx5N5Z7LslU/iP4ye3ZjR1XPHiZ1xycGvXspa/Tn+84dW9L+fkkc07HjxjMN8q48QLh/Db61Iq7j2PIt/HjzcvcdaDRv7esm0j7746j9nl81jy3nssWLYufkM/hpXtx5Cj/puxJ32fYbtmeRwt+x29xtyW4cbv88Dihxm7a/zHr5fy27PP4eY3aicPXbfsf7nu5Hmsm1rOraOyOJo++4AF5fP464uvsOKDFSx4P7Gufgwb3o99hoyhbMxxjP7PUrplfM7YyFNnD+K8pxvZzkkP8f7UU2isFXOqzR+UM+fVOW3yPCYiItLV6elORDo9FY6ItECmnrv9elMCWGuxGSpNt30wi1uuuJb7/rYx7e0bKsvZUFlO+Z/u5ZI+ZVw0+TdMGjswq+CzbW1m8d0Xc951s1mb9va1LH51LYtfnc3D10HpSTfy0B0XMWznZm4mtpHy+37BJdls5zfQZ99TuOi2yVx0VNMxhe95jZ4p7pwjCGzT7SNaYtqzlP+fYZTt0PSi32r2K8a2/91kOl6TXq1gxWYoTWR4ny7m3l+cxzVPNxzBhspypleWM/3uyZT98g9M+1UZzY2CNy64l6uvvJenKtPNcAisXkz56sWUvzqde6+E0pEXMenmSZyyd+v+pXz59sPMLG64AAAgAElEQVRMPO8KXviw3g0fLub1Dxfz+hO/5/bvTeTeR67myOYe65tX8PQdV3D9/eVhsFzfxhW8vnEFr89/nAeBfiMv5IrrfsFJ+7YuSO9wHy7g6bkNr+79k1EclcWvJ+ztXfcsiaFHjKEPFWyosxx4/5+9ew+Iqs7/P/48ZxgxdovaBJIKymu5iltCZiaagVkbWkqmteivvOQW2RaZXbTa1MrU2jUr18v2VSrN0FJK2yBTskzBSjRN1BJrTcFysdWNhjnn98eZgWHmzAXkMgPvxy6mZ2bOnPvhvM7nvD8oEGZBA7RfbSb1vk9Q+MoDTJy5jkOYOURhwSEKC9axZCbE3fg4C56eSNLv/E+nd0UcKgfaG+Nf9WjtALhGGUvmvMHtqRO9t44u38zLf32Ml97Zh/kZ4xCFmw5RuGkz2S8+BB1SyXx0RqOfMyr35TAjayrzPzbfP4PnPCaEEEI0HSkHIYQQQrRAZV/kmdTcjSErpTdW3XupgYrNTzPsqoleA2APRwuYP643aU8VNG1Hb5WlZE/szSCvIaOn0nemMajveLL3Vfp/s1NFIXOHJTO0Dt9zdE8O04YkM/SFQgL5Jn/3uTTde2AfmGjibzQZfHQ+E7KyKTnpfwzh8alM/+v06p8EXwFUI6wb9w65zG1jryNFq9w5nxF9B5kGwLUdpWD2UG552aRmslcVFDw9lOQh07wHwCZK8+cz/oo0Jr8f6FLxVFk0l4wUkwDYTfnmudx6+1y2B7Buqx3KYXLKlWR6C4DNPpL/Epn9BjB5Tf3nqTl8tzmHT0yGD++V4PNzqqpgDbMQZlYnvXMyj7nsI9NT4msFimqYxegYzfVzlYd4/b5kbvAaAHs69O5T3HDtPby+38/R5fL7+P6LTaxbPJf7b7vareVsGXsPGcf4sneeYuIqH8f7rzZQfND8pYqCWQwbNIInvAbAJr7JM84ZU/ICPj7UVcXHM0i7YrzXANhDc53HhBBCiCYmIbAQQgjR0lQWkv13k0f3EzO58eo22O1288/9lM+zd71AYa3PZLFs20GOHD/O8ePHObJ/E4vuTvbodK7whaGMX+r9kj56+DKOO8Zx/PhxjudNNXlXGou+Ol77fcePm5aCKF4ynklvul7gx5A+6wO+/N7xmfIjfLl2Omkd3D54NIdJaTMoCCQcqyxmbvogZrgFCfE3TWfNjiM10/f9l3wwP5PkWgvlKAVPZZC5yn/MEcjTDr477/MnnqTBqaavHH1zEr2TRzM/v9Rn+BGZmEHmpMzqn1T35eqiodeNrjvrVusk3vc9uz5dx6vz7ufOa+Pcv5kdB8rgUA6Zt0wjL/B8lsJ5aykI6N5AJYWzb2Ho7IJaLT6JSSZz/gd8edBluzhykL3bVjJ7jOv+UsjiUeOZvzPwaat2KIes0SYdmXlTNJOnlgUYbh/OJXPwBJbXCpej6fvnhby/9we+P/YT3x/7iQN7P2PZk2nUXvKlLB87gXlFgd9c+X+vf1s9Ts+fH1jzsJfyL4mP0ffSgL/Giwr2FZt1S5lOYjfPdqCKo363Ncziu453ZBIZLvtI5u1JHq3LVWtYrSB457J7+EutADaa4dNz2b73MOXfH6b84LdsX/k4N17kNqLyt/nLLbP42M9xLDyqM0mDR/Ho/aM8asR/fLAMKrfz+ivrAKOF8bOZvUzGspmynzyHVn7+d0bd9nc+rnXHIJp+4+eybsvXfP/vH/ixrJzjx49wcO9WVs7KqHWMLFw4gvEeN1+iSV90hL3bPmDZ/Cwy+tWjR8of85gxfm6jnMeEEEKIUCchsBBCCNGiVFAw6zFmeIRMSTz29Di62723KD1RlM8St+ZcMWecwXmxkdUt2sLPTSB95kqyH/UMafL+Mo2cw6c18QEqpmBFoduwtpwRHU28s7RBWDjx/TJZ9vYi0t2v9I/OZ9rL/lrpVlL88oPMcOs4KmHyGja9mkmya33X38STdPt0Vr42ldpL5Sg54yaT/U3AM+aV7ugorr5BcPxNmWR6y1O+yWXaLX/gol6jmbuqkLKq+k9nQ68bXXeb77Bwojsn8cdRj/Lsg3/y+Pac4rUszhpPzlGI6ZfJvLwvOXjENXyeSqrZcjg6l7xP/YeYZe9kkvG02/zFpLPogzVMvz2J+EiX7SI8kujOqYz72zJW/tU1hC9k2v/l1bHFYTEL/jqBd8qiGfiXhaz53F8wa9j+Yi6f+J2tMtbPmMw7bvv+9fP+xZvT0+l+bs08hZ/bhYGZS3lzYTpRtd5dyHOjZ/BJQC2Pk/l9F+/lI75bfS/jnnXfhoDodOYvzKJXAOVLfCtl13smg7v35MJoI5xVFKPWb5hFNVr9+qrZUkeqNQxLGyuK+hUf57hH+m1pGxVFnMu+EnfVRF5d/hLDo9zeWr6AJxZtD+hpAzNl+w5RUrCap7+C6OEv8faCiSS0NbvFcDXR7i3/f1jHfWNn1Q5aiWb439ey+olRJMVFcoYz8CacyOgupE6Yx7Ll06m1JzyWTZ77juDYx9Nun8rUMabdm/pUUfgBi91uAAXneUwIIYRoehICCyGEEC3ByTJKPs5m2pDeDH3BPUBJYtwbC/nL5VZHF0WeFEWh6pTnA71HP57Bwjz34eEkTZ7DdI8ikbm8mFOXx+rrq5JKj5C7lOyHc/D49rh05szJ8BhD8dPZfPCjj684nMucp9yXYwYP3uW9dmx4YiZT73dPGPOY+VpBvYMaV7quo2n1bA38m2SmeoTUbr7JZca4QXTt3pvx8/Io8bV8vGq4daO5B8CBeGEyk/Mh6f41bF07nYzEeKpz2bBw4vtlkf1/WZg99F+wZ6/vcZ8s4MWHc3BvYJw2cybpZgmsMTcsHtKb/k/k1R78z2JK/M6Mq1zWr0liUs5Wlk1Np1dcIMEsUDaXDVv83O4oyubvK9328e7Tue829y72alw47DEeSnH/rpf4R0BlIZLocrG3aZlL5oQck3IU0dz18ovc5HU510FZKSVmtQs6xhCtgMWiYlFVLBYVpZE6JVDCLKjhGr9+5f7KIV6f9jYeu9CFNzPrmVEe49k55w3yTFrpBqTgPZ5f9SpE3cysh28mDujS8w7PDtduHEVqrZbIlXz8z0dZ5b6SbnyCp4bHoVhU1DZWRwBco3jhUHoPnEbtPWExxfvqOf1eVJ70fAQgOM9jQgghRNOTEFgIEfQUvxUzhWg9ZqSewznnmPxc0JXeQyZ51kDskMG8T1byzKALvYZpCgqqqhJzeSqeRQOS6NnRrIOzBJJHekZpxTkFnmFfg0sgySNshZg/JmAWW0X2S2Ocx9BsCgq9t8Us/WglHgU1JqUzyGdHW+H07neLx9CjbxTWY5mYH/c0XfNaz9mf8MQscgtme5ZhcHe0hJwnRtC70x8Y8fhb7Dimo+mB/vQg8X7P7SX6jwnE6Z59YnlbN5u2Hkez17Plc4+pzJziI6y/cgi3mPRyVXz0Pz7D+tJ35jPfI1/KZNyN3jsArHg/m8mmdUmP8J86Fh+NynyM+wZ4b0F74bBMJnb3HP6Jz3C7kqL3F7HLbWjfsTdiMioX8Vz9x2SPoRs+LPRfT3hEgmmrZU4W8JyXche9Hs7moQEN1GVXVaX5er4wmrMVo7O3xgp/XSlqT64wOY5FX9/ddPlEXnUDYz2GLmfz9hP1m4Dyt1n1LvSY8GdubO/4jmseZ8X0USRdBBBNl5seZ93TN9cOhg+u5uVXPFP0u2//I+dZw4wAOMxS+8WKPLKnFHjcQAE4cqxhq/BGXxYq5zEhhBCi6UkILIQIfpIBC1F3HVIZN2sNe7fO47auZ/kI04wAWFUU6JDBovXTSb/UCCbiU8Yxe/1bZHrpFj7hcpM6szu3URJoD0f1Fk5y1loWTUo1Qt+YLqQ/uoy1T6WaB3+RXeht0jHa4s+9tcUspfD9PI+h6Zdd4rfn+PAzz/YceLSAr+taEsJHCKVpOvZ6BqThPcaxbMPWmmXnUyl5L05gQOfLGP33TfxQqWG3+/ux0ve+d1iQmWIEWdFdGP7w//H2EwP5rWbHrtmpsmvVP/bfdiLpj57fvOTzr722Wvcn9a50knyuqAR6DzYZfKjMR4mGMgrzPbcJ7kymp4/vMmuVCECPeGK857mmhg3o7Wf7SyDRZL52fXMU7zFhMZ/8zT3Qi6ZvD/9bR9vfmMzAmh2U+Gn23r1HvGeLZUp5Z/IE/mHSQjdqxELmP5jkd98L2OFS1psN/+0ZtG2o7wiI23EsugvpU17lnce9HMfO6kySyfpdsuN0mtJ2Jz3ZNe4Pp8cdc1m3+TDl33/JJ/MnkuRWCqLsyw/J9xjPnSQn/Ra1jRXFrG7yyQrTABgSiD+/jjuCPyFzHhNCCCGaXpj/twghhBAilHS5eyUfzDSCBLumoXltOapgUZVa9S4jr8xk0aeZLArki2IvIQ3cWszmUloG5k39GtBvupD+15Wk/zWQN8cTfynwrtvgfaWUkeT5+HNFCVvd3wtccoH3Fp++FRgdK/lrgetKUVFV1cu6M1rd6nYFFMfTEmaZsaIDenXr2+pQ9cyLGPLEawyZWMjqZa/wzLPv4TvvKOW9v97Me8v+yDMLn+eOP7iHNm5f/puO3PTE69z0hOtAO3bTTPd8zr8EcK/Ruq+UoyRWr5vAnwhJJq2P/wAz/IwYcI+lquB/3j5QsYOt73gOTugY47XFMThbJea6PQIfQ/oDI0xLUniXRo8u/mPQ8MgEcG/D+FOF9xbOu7axwWNgb+Lqu6lziPIfgViXQYlZfH8sy8dnKtk+ZwKZ7iUpABIfY/HsdC6s7+TUUeD3nMvIuaMr4022Ce+m8sHxrNolWcyOY7qOrunouoZu18DZKaQeR9wlwPtuo91/iDJ6eR7HAvH7YfT7vctXg3EDSnEeUxxLpHrBVLCjaJ3neLpfRPtzLZ7DnWKTSE2BXLf0OObWBxnhJZw9HSFzHhNCCCGamITAQgghRAiZmnecrMSaf1cWzWVQ6oxasU/Jy/fy4OX/4h83x/kIgEFVjVbAgaqsKKN031a2frqD4i8KKdhSYFrX1Hi8t4Fbd9VFVSUVh/eyrXAbe4uLyfu0gIIik/cdOMIR8AxPfjxiOl8zUs9hRoNPrHcWVXXUADZvEaujY/zf+V8ADV3RjL/7aykcfTk3PbiIm+4to+i95bz6wqus3mNWLNXh2/d4JLWQwpfX8tKIeqYjVZWcOLyPwqJC9hXv4sPPPmGz2br55geOKFW0cx2mOzrtQnH8aTZ/0Zz9W/+TcV7cFbjHPrxbShmYt5A+tJdtJoPjY87z/UUdMli0voIHH5hPzp6jxFyazvinppKVUtfILo4on6VIDDEx8XiEwAeOchRMWt9C5bEjHqUgIJfMhN+RWccprC+vHcGRxLQ5DdERnJswY1l4lK3YY9wUuqCBv67OFAXFoqBU2ag4spdthVuN49iWj82PY9+WUaaqRDsPAnV5QiA1iR6KgmJRQVVRHDcEdZfjijFNzg98T4nZNHSMwfeeEE/Ggg+omJLJ/FUlHI3pQvrYGUy9P7V+4fVpCJnzmBBCCNEIJAQWQgQ9qQkshHfhiRnce9MMtxZpR8kZN41rL/8nw700oVMVo/Mjfyr2FZD3Tg7Zb39AwR4vj7a7OXqyIbpBq6PKMorz1pK9aiV57xQSSPdU7PRSG/SnMgoadurqTVUVv53B6ejo2NGVenYaFx5N4rD7SBx2H8/sWser82bxz9X7MI+Dy1h99xAI/4CXhgYY31SWsSv/Pd5YvZoP12z30+rYYVclv7gPc8yfs0Wzrpjd4LiE8xojVaqsrHeN0Dq1SvTqbNrWtx7Crl+8tgQ+8VMzP/N+KIenvHQEd9PChdzluzBx/UTHkwieJSEqvC+nJlOf49hXdmxnhNdc1OlQpdkdrYcdxwSranrLJK17F8IivBfB0D06Z/yFSs+7Bt7uU9V2bhKZi7eSuTiA9zawkDmPCSGEEI1MagILIYQQIS2a9AemmzxanssTL+ab1jhVFAWLxdevABWU5s9n/FWXcNEVQxn/dHb1hXPMpelkzlrEmm17ObJ3pUmnXk2srJDsJ0bwh/O60j9jMourg5N4Uu/MYl72Jr48eIRNM+v28H2w09HRsGPHhqZU1T8AdnNW9xu4b+EmthWv5Imh3lr7lrH6kVfZ7C8jKdvOG09m0Pv8P5A65jFerQ6A47j2jvuYu/QDth74lrzpDZn0VWHX7fWuJyya0MlC5k2YYFqft9fD2cwd5r+sR72cG23+lP/GvZQGnPtFk77oCHu3fcCy+dPJHN4Fzy7eID4xg8xZi1hZ8CUHv3crBeGqIY9jCjUd21WXdjC/md7lfN93TBRFIcxiIcxi8XNDXvf51EnzCKHzmBBCCNFEpCWwEEIIEep6ZPDg7dMY/XrtwWWv3scLN3zOkwNqmhA6L+q9+rGAGXdMYO7Hrq2lYkge8yBZD2WQHOvaHPFsP48AN6ZKSl6fzIjM7Nqt5TqkMfWvDzJucAKRLr/llJk9Jl9H7qU4moKuOVu/Gn/qjviXuoS+Fdt5I7uwpnOw2Ku5Y1h3nx1thcdezcQlm7h2wAOk3/+2Z6vgsr+zbuOfufq6s0w+Xcm+Nx7lT5OW1271e/ENPPzkX7jjuu6cVWvdxIFJUYL60anSfuVXFCyKBVWxoCrS5qFu0phfvJSbYv2/s/5KeWdyBs+ZlBZo8I7g3IXH02kAsNH9hY/ZWQIDewY4nrBwojsnkdY5ibRrzqN01Xj3AiNkPDPPzzGjcY5jzpIp/pronhHglaCiKISFWaiye9+X7JqGrig1AXRzCpnzmBBCCNG0JAQWQgghQl4kaXdNJ+n1adSurFnGy7OWMHzA3fTA0QJY9REAH8ph/KDx5NR6WjaJqevfIuvKYKqNWEnh7DQGPV17bmNuXcS/5qcT30J+u9F0DQ3N0apVq39r35OH+PDJp6juzmnoSwwb1j2AWpzhdM54niVHD5H27HaPV9/bc4inr3NvxVtJ0Zx0j/dHj3iJ3Hk3E9dE60ZHp0qvAt1OWEOEweHhmHS5BlVeu5ITXvnoCC56HHOnN3ZHcPH0uDYBNrqvzWIKS8qgp1mb3sbQeMcxZ79uDd0ePsxyBmf0AHa6vWCHXzCCYIuqNm8QHDLnMSGEEKLpSdMIIYQQoiXokUHWnSaxXtETPJN9yBEAq96eCgZKyc5yv3CG1L8t8n7hXPk//nM601xPlR/NIMMtOCEmk4VzvQcn//uvWWEML6LjSTMZvKPUR6dpDU23U6XZ0LCjK6dR79fMmpLA6vICEE7iHX/mNpNXyqo8n52v3DiLse6BcfREXprtPQD+5eQJ8xcahBEGV2k27Lq9/qOJiaeLyeDc3aXNX0f2NETFms3VVg4dbrzvrCyaz1NeOoJ7aNl0BgbQAd7p6t7vFsyKkLy38oPA6vC6q6r7Rxr9ONYoziO+m8ng94oprTRqCPurYd64Quc8JoQQQjQHCYGFEEKIFkDTzmRgxj2YPXmc/+zTrDvip3VWUQ4z890HpjHiGh91OUuKm6EDtTJyl83Ho2uf0UNI/o23z1RQUlyHKY2Jxmyucz/aalpjuVHoVWh1LfsQsA8pqkv1hXNjzGuoeijjvewFnqUjRv+Rq72umxPsK95ch4mpHw2NKs1GlV5Vv3rB0QkkX2My/M0CtoZyChwTT1+PgWWs++z0Sqd4dSiHrNEz8WxXbnQENynRpAjErpcY3O53XOD4Gb+6AW7GdO/HzaYHy1wKvqnH+A5/7VEKwrfGPo41VkvcaHr2STYZnsPmQmNH0HSt+eoDh8x5TAghhGgeEgILIYQQIU7TNOyaDt1v54E7TFoDl63ioYUf+2yxWLxtrWcgQU/ifaR/xR+9dZpVduuhYgdb3/EcnNbVx0X+jwXk/rMO3xHekytuNxn+ejZrAw6IKih4agSjFxY3XXAcsF2s2nj6NXiHdXZ7aL9iJ0VrPN93QxcfD/f/uJl1r572pARER8euVWHX6tFsk3h6pph0ynV0LovfCbztaOmb4+mdmU1JsGwUFycw0KRJ7K6X3+KTkwGO42QJyyfdyvT3/CwHR0dw75hkuL46gjvx79IGqxhdI4FR948jymN4HjOXFtS5dXfxtry6faApjmONJP7yVJOOSMt44dV3q58w0HQdXfdxs+VQDuOvmkT2nobdEULmPCaEEEI0EwmBhRBCiBCmaboRAKMDkaT8+VFSTN53dN405hd5jzYqT5pdBh/hP96u0Q/lMOeJZrh0PllhcpEPpUePePlAJYX/mEN2nb4kkuTBGSbD85h011wK/YVjZQXMv6M/Q1/II3dKf3rfkk1Jnb6/8e168m+sDrQmxOFDJiHJtfRNcLvhcPKE6bo5dNRby81Kihb9jTcCnIyG4KwVbPcVUHmRMHgcqSbDc5+YzPydfmLDihJyHhvKdRNzKHl9Er0HTibvxzpPQiNIoG+6Sbhd9hKZk3P4zs+nT+zJYfrtQ5j8Rh7/GHMZVz3pLUAtY72XjuBIfIyZ93rvCO7QN9v8TEX9nHXdPTwx1HP40XnTmP1ZHWLgH/PIfrmOx8ImOY41kh5pjDM7yax9nIcX7KQSX2UhKihZNY2hg8aTsyebSVf1Z/L7DRcEh8x5TAghhGgmEgILIYQQIcpoAWynVvc/F6fz50yzLr+KmfHIIq8tnsLDzDpDyqXgc5MwpKKQuWPHk0sS6bd6Phpc8d9G7CwrLNw0LCr+aIdpLc/SNzPJmF1MzK3pJnV+/8P/vGQ9kanjmGr2uHjRDAYlj2Z+fgllLmFwZUUFpTtzWZw1gj90Hcq06tahSYyfMsK0nmzzWsc9E2ax2W8QeYjVM/5a06mcQ3TmXQy/2G1gWDhtTcawa9NO0xrEh1Y+wNg5u4gecTM3eLxawS+NWGbBptfjcfUOI8icZLKfHM1jWnIakxYWUFrhMtEnjW0i+4nx9O7dm/EvF1QHf0kjR5DcBLVvA9F9WBY3mRwyyldOYMhN01heVMoJl9mqrChj3+Yc5k24kv79JvCPzY6QPzqdh+5MNt0/v1s9lUdNO4JLZ/7CLLp7S4Ap47udjRXSxXPTEwtN5r2Yuf8vM7BWqidLyH7sXhabJbq+NPpxrDHr8sYz4u5MPPeEMvKnDeTmSUv4+LsK/qfrRlmIqkoqDhWT+/o0xl/Vm97j5lPgXF6JGYzo13CdtYXMeUwIIYRoJhICCyGEEMGisoLSnXnkzJvM6EfM23xlPzKayU8vZuUHX/LtcbOL1HD6jTZvDUzRNEbfMpkZC3PI21lKhUuIGX+pWVdoR5n/50yyd1ZUT1/xuzMY0XsQM4og6dGZTB3smR4VvJtLsWl+YoQBeasWM+0ls/nbxuysycyYl03ux4WUlFVQ6f7kfnQ8PXuYfDR/EuOfyqPMca1feaiAxZmD+MPEHI7GpDPj0Qn09MgH3iJ3vZdWquEJZD4zlSSz177JZdotvel6wTmcc47xc95FF/GH5NFM/meeS4gTT8ari8gyq3N6soySolyyn57Bsk9NvuPNv/Hos8tZV7SvVtjcoIr+zi39RpC1aB27Dp2otawrK8rYl/8qWTcN4R738C5xCksmX+0ZYkXH0cOst638LO6Z8aHLutnMq5PS6H3325RF38wTD9+Je6NiWM26983WTSUnDu3iw9Wv8tdXlpu8vpxXnjSW2wmT3KeybB+bV7/KK6vMmqT+i+yns8n9uLh2mFstnOSHFpJpljNRSPaUofzhovOqt4lzLjC2iUnzcihxCQmTJqxk0WT3lq/+9o3XWPDka6wvKvEyXyV8snoxC1ZtNfnsB6x49jXWby7mO7P5ik1jyox0k9IIUL75JSYPvoxu59fU5O3Y8RKuuWkCz60uodz5xuhkHlr2IjeZPHZfWTSXzAk5Ne+tluT1MzWOsG+jr9dPU1w6c9fM8wyCj+Yw6areDP3LYnLdjpVUVVJRVkLBqrmMTu7NpDeNlRuTmGRSJsGLJjqOVZaVUPTe6zwz53XMuuLLnuXneOtF+DVTWWh2QwQoWv4wwy/vxIVR7Tj33HM5J+o8LurZn9GZ88nZ47IjJI5j5ZIsktxrIFdVUravkNzXZzBjqUkr8C3ZzHg6m9yiEsrctuemOY8JIYQQoUs5efJkc3bh2mQ0TePnn3+mpKSEW+99gCPFnl1S+HJeQi82rMjm3HPPpU2bNr471xGigWiaTqWtCntzdbARJKwWC+FtvHSV3cw0XecXmx2tHo8WhyIFCLeGEabKMbDhlZFzR1fGm9SJ9OWR9eXc79ZiVVW287d2g5nh99NpLPpqGemxQGUxc2/szwyzbMxDDMmPZ7Py/iTCi+ZyTqqPb7ppEXtfTScaKFs1mq7j6tZ9kuvnncreGU/yHTmmj1N76JDBsrfnkRbnf/lOzTtOltuyLH1/MuNHLTYNUHyKSSbrlWVMvcaslVshc88ZFMD6cZpC7rH7TDv9C8jhtxmbcE9Na97u9zH31l3MmvahZydu/iTewWsLZ3Ktl+CubM09pI59O7DxXjyKJavmckNcGavH/oF7TOoJOz38/mHuS4SiObGkPRvoxLott6K/037wrEA/bLo9AHAol0k3jya7zh2IxZA6cyWL7k7AfasonH0Og54OdDyPseZYFr2c/yyaywWDZwY8FQ+9/xOTPOarkl2vjCZjWp5JWOvHxX9i9huzGdXZvDnv9jm/Y2jA68y/6xd+zaJhZk87nIYfC3hu7ATmba5fp3NJE1ayaObZ5HQfxAyXA5PXbYjGPY490EvHvnUOUdcHvFE5P80Hx7PMb355KCU3cyijXw+8JrZTzODprFyQSYLH4bGu50GXcxg0yXlMgM2u8WuVvVHbmwcTVVFoa7WgBun1/8lfKmkllyFeWVSVcGsYqlyfiCag6zq//vorP/74IwNHZtQrW3zzxefp0qULZ555JqratG1zpSWwEEII0YKoioLFUo/Te3gCWUsWkdHBz/s6pDF9bQFr7ne0ZIyNNwB1E40AACAASURBVHk8uXFF3zSH7MeTTR5HdhVD8t2L2LphHmlxANHEd/P9CTPxg2eTu20Rmf0C/azje7eu8RIAB4GkRG78czZ5K+7j6kBTjejODHtyJTve9R4AA0QPfYYlU6/2E5ZEc/WfX6Igfy43ONZN3KUhFK/EpTFvwyZmD+/iZxusEZ+SyaJPt7LSJAAODuF0//ObbHp3Ote7l/nwKp7rn3yHL7bM8xoAh4xzk3nona18vPAeUv0dA111SGP62r18MCuV+LAkkscGfoxpyuNY44gnbf4mNs1Kp0ugk9QhlczFW9m63CwAbgAhdB4TQgghmkNwNq0TQgghRJ0pioLFYqn/COLSmbchibQ355P9bgHbPi7hKBBzaTJX9EllyE1ppPaLrx1ixaZx719TKX7CKIMQn5hMfNcEUhN60rVPEld0iW+E0CuSpPvXUNAvh+z/y+ZfWwoo/AYgnqRrkuk9PJVbUtM8Sgwk3TqbjLcnk73nKMR0IblbV7okXkFCQm96X5FAFy85ZHjndKavTefBfXmsfesD8op2UPxRYXXZh5hLk+natQupN6YxaEAyXYKk1qs33TvEcBZwVsoU3iq+g6K17/HexvUUbdlM0bfOd8WROCCOLt2vp2/K1aRc2ZmzAvqt8SwS/7KSvKvfZvmy5eRXjzOOxAF9SRx2LcNTbqC727JOHPE0t615lDf2lEF0Z67u1pnOiYl075FEUlJ3OgdbRhyZwLjFW8l4qpgPPnqLvFXFbN1dUFP2oUMSyQk9SUpJZsg1g0iIDY2Q9Kwr72FR4TjKi3J5790C1n+5jZLNNWUf4hKTubBLD2667hZSUhKICo3ZClAknYdPZ+Ut0yjb+QH/+mgbhRuL+brUeXwB4xgTzyU90khOG0JaYnStsh5J14wn5ukZgbXubcTjWNO1CowkYcIito6ZyY4P/sXK9W+x88u9fLzH2aI6jsQBCfTslULykMFclxDjtQPABhMy5zEhhBCi6Uk5iABJOQjRHKQchEHKQQQPKQfRtHRdN3pZd/zXF0VRsKgW5PQUOmyaDbseYBFO0WhUxUIbtU1zT0Y1XQe7Zseug11R0JGduqmEKRDeAs5vuq5TZddw7yBOURTCTudGoR+apjs6K/WkKmr9nlIRQUfKQQQXKQch5SBE0wr1chDBmaoIIYQQQaz6d22337q9/Q6uQMA3D43g1/Ff/Ie/4AyAVQmAQ4iOjl03D0tE09J1DR0dpZnDVue+r+maY7+XHVrUT3PlQaqqoOsqmu7ZeEHTNRSNJr/YFUIIIUQNCYGFEEKIAPhtkavX+k81pfoPjJBJcY12FIw40Pig42+ObDmwy/iaAFgCo1BitJZr5U13goSOEQQrSuO1kPT63W7Hlbrs+0IEI1VV0TXzc6Vd01EUXc5XQgghRDOREFgIIYTwQ9N17CaP1gbCNdPRjaTXhVKvcbp+XlUUuaAOQVIGIpjoaOhN1luypuvVIZkj+m2ibxb+yJH09CmKUfrB/EkHHbumNWpJCiGEEEJ4JyGwEEII4YWzHIPdrtUrpjELFAIrIOH987VeV+TR2lCk6fbqVt8iOGi61qgJoDP4NerHy7oPVhICNwxfZSF03QiCLXLuEkIIIZqchMBCCCGEGx2dKs2O3XkB24zJgKI7K5W6VyxVgraTEuGb1AIOPs4a3A1ZF9hZ6kFr5Z27hpSWckgNgvsMqqqga4ppWQhN01GlLIQQQgjR5CQEFkIIIVzYdY0qLXhaauqKMSWK7oyojJiqLp3NieBi1jpONDcdTdewnGZd4Ooav5oeNMcQEbjm7hywsTXl/CmKcaPSblrnWspCCCGEEM1BQmAhhBDCIdgCYFe6ArjUFG7pYUVLJQFwcNLR0XR7nUNgI9/SXTp4qx5aT0r1n3KPp+nJIm9Yqqqi65qjDEptUhZCCCGEaHoSAgshhBA4On8L0gDYla4YQZMS5NMpzEn70OBlrBsNxU8Xcc4O3XRH+Ht6wa9SHfYqzr8rNa397VpQPNnfaqiSAjc4X2UhdE1HU3QpbSSEEEI0EQmBhRBCCIwWmvXr/q0ZKKDR8DVMRePTdQ2J9YKTszWvRXEfbgTEuIW/9aWggGI8Lu8Mfs1Ku6iAquhosrk0CWfw3qI1wwwaZSFUR419965RjZrZisXS8pe9EEIIEQQkBBZCCNHqabpe0wlcyNCx67q0XAsx0g44eOmOusAKanXgiyMAPt0yD0bY6xr4Kn7LPbSKUDKItKyiBDrBdLNJVRV0XfFaFkKTshBCCCFEk5AQWAghRKun6VrIhXM6xnTbNUUunkNIaG1lrY+ma6DZG2hsRsdYtcPfuo7B+JHtpvG1pBtqwbi9qKqCZjffmjVNR5GyEEIIIUSjkxBYCCFEqxd6rYBraJpW3Qu7CHbB1TpPmGiA1aMoqiP8rV/w60pVFBQ91G5RhSY5hjYuRTFuWNpNb7I4ykKoFukQUQghhGhEEgILIYRo1UKxFXA13RErahpYLM09NcKP06woIIKY80aM2sCt8o0gGdlumkDLf55CafYa8kZZCNVoce/GqMmtYVFa/poQQgghmouEwEIIIVo1sxqFoUbXjQvo0211KIQInDP4VVS10aI1FakL3BQszrBdNDqLRUWrMn8qQtO06hIqQgghhGh4EgILIYRo1UI9BDYaCYb2PLQWujzWH8KMUEpRcKnz2zRBlaqAoktj4MYkYXvTslhU7Hbz2tt2TcMiZSGEEEKIRiEhsBBCiFYtlGM512tkHQkxQkPobm+tkaIYj9CfTudup8uCQlVIH6mCmwJYWkviGCSzqSoKuqqiaV7KQmgaFouUhRBCCCEamoTAQgghWi3jgdQWEq1IChwCWsi21kqoqoraiKUeAp4OxfjRZPNpFCpSCqI5qIqCrijoJk/jaLqGoimoqqwYIYQQoiHJLVYhhBCtV4iXgqitJc1LyyRrKHSoioIlCAJgJ4si93gaiyrLtlko1R0pmi99TddMA2IhhBBC1J+EwEIIIVqtUL+8DPXpFyJYKWpw/YpsURQJKhuBSutatsE2n6rivbWvURZCznJCCCFEQwqu33CFEEKIJhXiF5hKzRyE+Jy0Ei2m+EgLF3yhoAJY5dH4BucstdHihNCBRvXRyaLmqA8shBBCiIYhIbAQQohWK4Suk03p1f8TocB4tFnWlqifMEV+cW9Ira0VcLBSFAVV8VYWQkfTdSkLIYQQQjQQ6RhOCCGECGG6ooOuG51G+Wkwpbj86e0NXl91a6klwUndSYwhTlcbVeEXeUS+QaiKUWtZND9VVdBRTMs/OMtCWGRlCSGEEKdNQmAhhBAixOmK8dgsejA8NqvU/pvi/qpi9lafr7mG116eGg56RnttCe/E6bEoYFXAJpvSaVGBsFbWCtjvTcBmZlFVdM382RZN11A07/WDhRBCCBEYCYGFEEK0WnI52Rj02n/T3V/Vzd56GlyiDZMVWiv48GjprJj8x3tI7WVQYHSpCCwahlVVsNt1fw3/hRcKRpguDUuDj2pRsdvtpq9puoaiq17rBwshhBDCPwmBhRBCtGJyMRn69Jo/TTJWl1frETp7bh9KrYzYV8vl2h/QdU3qWooGoWCUhfhVkyC4rhR0VJQW38leqB5pVEVBV1XTzuCkLIQQQghx+iQEFkIIIVoAuSxuDGb1KV1fDbxVs46OLitJNBCLIkFwXanoqLqOquigq6FbW6aFs6gqupfO4KQshBBCCHF6pJNhIYQQIsQpuoLEwEK0Ls4gWBpG+qfqOhZdR8XoSNOutdKW+SGyrVhUFW8Tq7XWdSeEEEI0AGkJLIQQotVqCQ3BFF1BqS5MYLSQcq2ZqOt6TStVZ01c1xl3u5j2uLT22tjV7V+m1+RyoS5EY7IoRlkSGzp2XfY4Myo6FnQU13rljiDYoraiGrMeNdGDl6IoWFQFu2byNAbGuguzWJphyoQQQojQJiGwEEIIEaJqB8BgURVU1e0hH38BRx0DEN30H4FFT7U/q3sZ7vrXQILmwL9fiJZIVaCNomDXwSblIWpRHCUgFNPSLi05CA79Y6Kqqui6UQLCnVEfWPM83wkhhBDCJwmBhRBCiBZAUUwC4Mb4HtN/BBagmHWY1lBq8mi3cNlLUO3ekZxZJK17S6eFCDIKEKaAxaJg18Cmt94wWMVoIW1RjBtkmqZ7vYHUEoPgllQpQVUVdLvicUMQwK7pKIreYtabEEII0RQkBBZCCNFqKSHzcKx3zjlQW/mFcE0erdQeVsegOlC1s2XvwbFePVxDR6Jk0bgUIEyFMIyWwVV66ygToeIIwVXFrcMTBUVVsds10yARaoJgKS8QfIybm+ZlIZCyEEIIIUSdSQgshBCiVVMwb2UUWhRpDdXEamfLLsGzeVNpdF1B0+wtYFsTocLZGhbAroOm69gBszwtFLZK9yOcilEKI8wj+HX7nKJgsahU2TW8zamu61TZ7RIoBiHfZSGQshBCCCFEHUgILIQQolVTCI0AxBeJf0OFCq32IX3RnJyBsNXxb83ROlhHN/6uB+/tCUWpeWZDwXjqQa1jJ2eKohBm8d8iWILg4OS9LISx/Sq6lIUQQgghAiEhsBBCiFZNUZTQL6Lo1hpVBCcjymoJtx1EqFNdm7IroKMYQbDuvX6ud7pHjW2vFGM/UJTa5Xi8BbOKojRYqRtni2C7pqF7mUlnEGyxWEL4iNryji81ZSHAo767rqNpOhZL6K4xIYQQoqlICCyEEKJVUxUVu8ljpqFCRzLgkFK9woQIHgqOG2Jugavu8ro73eUPXQcNzXeArDha8aqqyfiaZqdQFAWL6j8I1uwaFouUGAgmqqqi6ebrTdN1FCkLIYQQQvglZ0ohhBCtmlkcEZJaXuOvFkfRW0JXhKI1cbZd9/qaUtNKU1VVn1mugrcAuGkpziDaRwtjTdeMoLgJp0v4Z1G9bZE6mqMluxBCCCG8kxBYCCFEq2bUm2zuWOL06AE/iy2aX2hva0J44yswBkdg3FQT44caSBCsaWgSBAcVZ0tuM86yEKLxSfllIYQIXRICCyGEaPUsSuieDo1rsfrU8RRCiIbkIwZ2tBgOJjWlKfwHwSJ4qKridVvSdE2C4CYRXPuyEEKIwIXuVa8QQgjRQFTFdxAQCrQQrmsshGgBfJaCCL4QGJxBsO82zJpmlIYIKS08B7WoFrytM1/1noUQQojWTkJgIYQQrZ6qKCHXGtioL1tzEWw8ChtiQUUrotPicxnRyjlrBPt6PRipquqoNetdSAbBLZii4KPjPikLIYQQQngTWle8QgghRCOxqCpqCAXBZm3X7JqGJi2ghBBBJ1gjYIMRBPs+/ksQHFyc5TzMSFkIIYQQwlzoXO0KIYQQjUhBIUyxhEQQrOjeH1+22+0SBAshgkoQVoLwoKqq11DRyagRLMfXYKEq3usDS1kIIYQQwlPwX+kKIYQQTURVjCDYEqQ1ghWU6jIQvqbObrc7LoCbbNKEECLkWaqDYO9HWLtml9I7QUKpbg1str507BLYCyGEELWENfcECCGEEMFEVRQULNjRsOsaegNXclVQPIvDVl+/mn+b4vo/BUe463u6NE1DV3SjdVsoNMNr4Xx3PSWCh6ylxhBKS9UoC6Fh5Lzmx1m7pqFXv1c0J1VR0FXFtIW2rmtomrPzPyGEEEJICCyEEEK4URwtglVdNWoL6hraaYTBRutd8BqFVI/a+b6a71IUBVWpHeTqGB3BOX+80XUdza6h8z++++g1/rGmiMM/26BtJN2uHEXG6D7EWuo+P+V503nwtf01AwZOYemYbsbfd2UzZnZ+zWsdM5jzeApRdf8a4dMxNs6cyvIDNUMGZC1g1O+bb4rq7NhGZj20gm+qBwzg/n+O5JJmnKQ6k+29FuMIFiStL4/lMz0rm5ojVQpTlmbQLYCPBhIEa5qOgua3hERTa42dUKqKgq4opudDTddQdNVr2YhmJccPIYQQTSy4fmsRQgghgoiqKISpFsLUMKyqUS+4LmUiFBRU3bUdLwH+GP9TFRWLasGiGhewzh9VUbA4OjKyqL6nSecku197lCfeLCN5ysssXbqUaQNh98YFTM/Z7/VzvkQNfJhXnp3G8O4mL3bPYPHcp5g4QC5jPSjQcPFMOwY89DxPPjY0tEJTV+0G8MD8J5lyc9fmnpL6a+Xbe/nGWYwbM4Zxs/Mptzf31Lhpl8LDrzzDtGGBxL6ejNIQvo73RrmB1lMaopxNs8cxZsw4Zm0ob+6JqcV5s9TsRquu68Fbx7mJjx9Bvb8KIYRoEhICCyGEEH6oioJFsWBVw6p//NUNdgbAKmp15zVGSyT/IbKiKI7w1+KzlIOzHqLFonrv0G7fu7z8UQUR195KSnsLmlbJr/Y2WLFyUUyk32kxZbES0b4TnaLNX7a2i6fTBfUcdwvVKK3QrBG079iB8xp+zNj+ewpbE2Rb1ojz6NChfeN/UZ0YoVGgnUq13u29nB0Fu7EBtl1b2HEcr3VPmiuCs0bE0qljbL0/b1F9HFuBVhUEH9tBwS4bYGP35h0EVwwMquq97IOmB+86arrjh8n+KoQQotWREFgIIYQIkIIzEFaxqmG0UcOw6Krpj1WxYA0LIyzMQpil5sca5hju+LfF5cd43XhNVY36vwFNl6Jgsaim9Sm/3rqBU0D730ViBBYWut46i8VLFzOllbZebC6KooREcdSvsyeSOekBcvY095Q0H03XqLLbqbJLJ2DeRdEzuRtWwNq9Dz3Pae7paRw+b7IBxnFVa/nbSbueJHe3Ala6Xd0zKEsWqNU3W93paH7KJ7V8rWN/FUII4ZvUBBZCCCHqybic9KyBqXi9EK39HuenG4rqKBtRZdcc03SMH0ptAMRGt6t+n6braFV2wixBWiexhapZ48EcRNj436nmnobgoes6dt0I+VRHq1DZZWpEDZjC4gE1/w7Wp+5Pl8Wiott9h4h2TUdR9OY/pjbaOoii/+TF9G+s0TcA59Mx9upzYA1nWQiLpfXuwO77qxBCiNZHWgILIYQQ9WQEAmZX3P5D4MaiKArWsJoyErYqY3iYRwdwOlX2VtB6LYgoSl0qSjeXCiqONfc0BCdN06iyVxmtg1t1i8K6awktMMMsFj/HdeOY2hLmNZSpiq+yEHLOE0II0bpJS2AhhBDN59hu8nNzeX/7Psp/tgFWItp1JummkYy8Kp4IC8BussfMoqb/bLce3t1716YTGXOnkdIOT8d2sOq1VWzaU0rFL4A1gqhOSQweOpyUS81r8pV/sYrsNZvY/W0FNsB6ZhSdew0mbWgKXUw+curgx7yV8x7b95dzyuZ8fxoj0/sTf2Z9l4HL+L/fwvqc9TXzgJXIi7vRf2gGwy9zPKB7LJ+ns7Jx7fbto7lj+cjx9463zWI8C3n4jQM1S+1Ps5mW6izyW07+Uw+SfcBlBAOnsHRM/TpYMrivR0PUsGeYM9RZs9PkewPtLb2u69Zezo412azauJvSCqO1tDUynm5XXsvwNLd1VWsbi+D6x19hZEeTbSOyGyl33MlIx3qoOLCJVW/lUujcFtr3ZNDI0Qzp8ZvqUX+dPZEXnCvGOoD7/zGSuIMbWb5sHV8cPGGM97ft6NjretKH9+XC3/pbECb++x2frMph3fZvOPZfG1gjaNfxMm4YMZy+F0U4lt8nLFl1ir43X4LNWBxsnDuRjY5RdLhtBlNcdqpTBz8hZ+V6vjhwzJi3AKbx2JdrWL5qE3v/fQobViLadaDvbRmkW+sxT9oxvt6wnvX5OzlQ5lhOkRdy2R9HM2rghUS4NnP4agV3zXXOSQSpjz1Pekc49tVG1r2XXzMPkV0ZMOb/cWtPL8WutVMc+nQlK1d/xtcVxr4aeVEvhowZTc+6THut7SmK4TPnMOQCqChewbyF+ez/GSK6XE/W/cPpFFHzsVPfbmLFmy7bk79jCzTAfmFyfPGYB6r303OBr7PvZM5HbuO9ZjJL/19NT5LledN58DXXI1Tt43p95rX8i1Vk5+Sz+3vn9tWZ/n+6k5H12b7s5ezekEtu3pfsO+rcv+NJTBvLbQMu4AzFW9BrBMFhlr289v9qjnfW1CksHnURpRuWsSS3qHrZ+jrW+5qG0QNN3u/4zJ4P17L2X0UcOHaq5vhx+Y3cmp5MB/dVHuD5Z/fSMczaUPOxTn+aw7RUx/bg7fi4K5/cd9+vWYdux0cP3rbVG9Po37UNh7fnsyo3n5MDnqr5bi8sJ7+jYOVy3v18v3HMw0rkRZdy9aARXHd5O37ev5l/vZfLlvYTWdxre533R+d5eMv+w8Zys0YQ1ak/GeNG0tPsdw8A+ylKP13Birc+ZXf1vpUY2PHj51I25awg17meHMsm7daR9L84wt+nve6vUQDH8pnu8vtCzwmv8EDfCI/fNaxnxpI4dCKjB8bTJvjvZgohhPBCOXnyZKu4Xa1pGj///DMlJSXceu8DHCneXqfPn5fQiw0rsjn33HNp06ZN8z/qJVoFTdOptFVhb+WtFqwWC+FtgvOelabr/GJrPa3CFCDcGkaYzx7TA3Q0n+mPZVN+xZ1k3dqfeMfFqe2HLSyZuYDdV05h7p+M+nX8cpj9/8pm+urdeITAgO3UYUq3vc+CVzdR7iUELt8wi0eW7uPsfhnce4vj++w2yotX8OJLm7De+kztC0t7OfnPP0L23rPpP+Zehl8VT6QFsJWz480XeXGjlRHTH+WaqJp1f+yjOUx7bQ8RV01k2p19iLJCxYG1zHtmFfvPTGHKzAy6uV6v1WUZAKd2ZfPw7E1E3fgAE2/qRpTVmIeKg2uZ99R6GPMM0wa6XhzvZtmYWXwIXJO1hNtdF5pmo+L7z3nnlYV8XAYdb3uOqYOiazqis9so//c+trw5i1W7MA2Bq4MBk9eqQx7Xi81fDrN7zRJmrdsPdGP4k3dyfVwUVtcww1bB/nfmMv3dw/S8bRpjB8YT6SfEqfO6/amIBdNfZAuJZGSOJqVjpMv78ymlExkzp5ES4/Y9jnmKGjqR4d+vp+jS0Ywe2IlIC5R/toDpr2yhgghSsp4iofh5PozIICPNWE8Vu1bw7Oz1HCaS1MeeI72jXr0eTh39jo1vPMeary6k7zVWth2IY+Ldw+kebQXtBN98sITnV+7Fds4A7p8+kktqXfPvZfmdL7ARGJC1gFG/d1s4ZRt54YkVfB1xBWOnZHBFtBUqvmHdyy+wZt8ZDMh6klG/dxmhtotl4+bzibfxAcc+eoEns/dyxlV3MmXMFbSzwokD63nluTV881uzaTzF19lP8sJH/+PClLuYeEt32lmpno6dXMg3+74BBnD/P0dyie/VDZV7yZk2n7yIFO6/fyiXRAKVR9iW/TxLPj2BtfNInnxkAO5ZzLH853jsjW9ol3YnQ/+dx+ed0km/tivtrGD79ycseT6bL45b6TFuFvf1cUvLtGN89NxUXt8XweW33cPt13QkUgVb2Vb+77k3OdauDQf2lQd+08Juo3T9dB5/q5Q+9yxmlG0BC44N4d6++5jrCGQ6jZnHtIHGdBjb+G4i+k5k2h0BHFuox35xajfZ054nvyKe4Y9MYkjHSLCVs+XV6Sz45BSd/lT7/bZTh9nx5vO8uLFmvs/VdeyVxzm04VWeebMYG3EM+stdDOvenrZhLuVn7DYqvlrB9Ln5MOBeHhiVSGxb1+muy7yeYvfSh5m14RTxqfdy7609jWNjxX7Wzn+WHcSzv2Q/ZucOU7/sZsVjz7M+4nqmPDicbpHAL4fZsuxZFnxSgbVLBjMevoZzfZ73FcK0X/jhuw/JfmoVu+P6k9L2U/bF156+9QufZcUuG5EDp/DsmG5Uz1YA0/DMY27bmb2c/GcfIbu8F2Mm3Uq/uLOM4ZU/sHXp0ywquZIpz46hm2M51+n8Y7dxqmwHK154kU1H3UJgB4/jY6eRjEw1jn+27zexYO4/KfrJSs8Jc3mgb+39yzi35YPLOnedX2J6kpIQxcnvd2DrO417+/noSM0xX6UXD+fBiX+kY6QOtgoOvP8Sc945gC0ijt59OtHmx/18ff5oZo/ojFKH/bF84yweefUgPcc9xcSrorBio+LgemP7tEWS8vBcMi51O2k5101JBIl/mlR93rAd3cKSZ5dT3q4N+0u8HD+O5jPr8Wx2R/Rh4sNj6RNjrd62V5VEkDL5WTK6+w+CzfbXWt/jDIqvvJMHfvchq2zXMzatj7FdVOxmxZznWX/IRuQN03j+lo5U2qqCurBRQ1IVhbZW3x31NqeTv1TSSi5DvLKoKuHWMK9PAQjRkHRd59dff+XHH39k4MiMemWLb774PF26dOHMM89ENenTpTFJOQghhBDN4BRbXstmv60no0bVXHwC/GdPPkU/Q8XG7exzDmzru4d3a0QsnbrH4e2y8NSubKYv3Q0JY5k2zuX7LFbOjmpP1Jk29r+5iqJfaqZv92vTyd4FPe+Yxp39HAEwgPVsomKjiLDtZ+Wa7dicH/lmJc+8tgfb+cOYMvZK4yIWiOw4hEljusFP+Ty/tIiacqt1XAbsZ+2CfCrOTGHULd2qx48F/r1lE/uxsX/LDirc5t3567CiqNSqQKxaiYzrSFx1q00dza5h1zTjws5iJSquG528NIqsl7axdBt6PX2sAAc5ZXMLgAGsEfzn+GE4M4UhKf4D4Lqv23Ly57/Ilp8iSBk70QiAHe+PuiyDrDt6YrXtJ/vZFey3m39n+Zol5F96L/emdqreLqKuHMvoKwFOkT/vEdZGPcADw2rWU2T3kYy9LgKoYOOnJTUjU61EtO9Ah2iA7/jko1PcMH6kEQADqGfRYXAmmddEwPGNzH/ji5ptzh/tG3JmreDryvMY+sCdRgAMENmBG+4eySWcYOO8FXzhWgNYteJzkR9YxazsvdjOH8oDdxoBMMBZHa/nzxldjWnM/gLXUZ749J/M/+gE1t538sBt3as/Q2QHbrjvTtod/CbQOQLg1PY88o7Z4NBejjjvkYafxxV3TiT1e9ZR5QAAIABJREFUt2Dbt4o1n3tfSsdys/nokruYOLhr9bRYz+/LbTd3BWzs/OhzfnS72D+w6mle32ej/U2TuftaIwAGsEb3Zvz9Azm1r9zxTh1N04xOqHzNhMVKRLjx5Tv2rGD5+/Fk3BhPxDmdSbzYCtYoujk35gMrmL50N7YLhvPw2D4BHFvqs19UsOWV58k/Bn0mZBkBMIA1ij5jJ3H9mTb2v/Y8a7+v+Q5rRCzxF3gedRVrJHEp13G1FeAQP/w3kjDVrXCOxYr153LKieXawTUBcH3mteKTBTy/oQLrlRN5+E89a46NkZ0Ycv9Eor51bXHs36nt77P+mA0O7eaw8xjQNtaxHMBWsoK3v7D7LQ1hV9tyXodOxAIc2kT+qSFMHFV7+q6/9wFSzoSKDc+zbHvNNhvINKzaXnsbP/VZNtklNhLSR9MvzmW9/LyHDZ+fguMfs/3b6nfX7fxjsRLRPt7lfOFd9fHxhprjn/WC/owe1g2wsePDQsprfaKU9UvyqbCmMNFlndM2lj6jRxvni5+i6DUqg4kPz/EdAHOKLW+uYL+tEyPvGkLnsx3ryBpJx7Q7uPl84JSVToNuZ8y9T/DMsA7Y7XY0xULbNs79cbmP/XE/H+bsxsYpdpSWG+cvi7Vm+6SC/NfyOew2VftzppNdYiN22MO1zhvWmD5MzErhVEk5puz7WfFsNrt/iWV41kQjAAZj287MoBsV5P9tGUUB1HH3tr96+OyfLPllJA//qU/NdhHZjZEZKUQAFXlb2NO626YIIURIkxBYCCFEMzjI/j0ANn51u5hoE3E2VitEDuhF5wb5rsNsWp5PBVb6X9fHLSg+RdGb2RT9BNjK+c9/HYN/2ET2hgqw9mfwlW4XTT8XsWJpERWA7eh/HKFrBR+//S8qgEuv68f5YbXDgcg/JNMTsH32IYXVKW0dl8FPB9n3s+PvtcJJK23O/A1WrHTq09NrEK4qKhZVwVdVWt0ZYNntjVfXsm0iKQMjgFPkbyzyDDTt+9izzUbEVYl0MnvcuZZ6rNtd77PiAGC9il7urbWAyF7JJAL8tJ787d6CxESu7+fe1tNKfKdOxl9t3Ui5yrMtaNR5xo0MW+kRvJbdje7NZee7D7RyyVV9iQBsn25km3vS78WJT9eQdxz4fSpXu48z8jL69gBs29j4+YnARsgJPnknjxPAJdf1pb3bb5Fn/aEv3QHb1o18UT2NR9i6fhc24LLLu+PRXi2iO5dfHuDXOz/S5TIuCQdru46c5zpC9UI6/h7Axhdf+wqWL2NQP89ntiMvvsRoGXfgCD+pKhZHR3BUfs6GDyuAdlx5eXvP0Z3fiyudN0t0Yx+y2zUjXNL814g9tSGfU4NTiLUAlniuf3IxSxfPYXhHgAo2rV5PBdBtcH/jPa7TbHpsqcd+UbKeZcU2ODOFlF5ua8nSicR+EcBh1hf4DlSrjy7qpVx5jTGenVuLOeVRPr2Cwk93QMdrSWxfM6w+8/rpuh3YgMRePU22r54k9vI5yR4iuvaiW1uwtutMrOsILfF0cmxf27/ej0X13bGm83jqnO2oKxI95om23ejTLwKwsWXDp9U38QKZhqI9+2qN6uC3uwGwab9Sa2Fbf0NkuBXO6Uevi6vf3YjnYLPjI0RefKlj//qhdgh8bB+7fwLi2hPlsXzi6RQH2A5y+Hgg332Q/dttwEXEtsOtVWB74roAHOBwmXOY0dmfXdPQHb0antrwISdTBnCevQq9KpbBj7zC/730DMMusKFXxpLQu51xvj3vHPRKm+OnirPO72rM3/eF7C6zQ5Ud7Br8r4j8vAogij69TG5mX5BInxjPwQAVn65i/U9A98H0v8DtxcgkkhMA2xY+3B7gSSEgUaRc281zX4rrZJStsB3kh58a8OuEEEI0KQmBhRBCNIPzaX8xwG5WLc2n9OeaVyKvvJdXFi9lnksZhNNyoMDReq0bneLdX4ygUy/je6zdk6tr+e0vWGu05Lm0Exe5X5Se2Yle3a2AlUv6JRiPnP/3az7fDdCOSy8+23Mazox0PHa5mwOlzoF1XAa/i+UiK/BzPsuW76DcJQjuNPQZFi9d7FYKwpOqqlgsvoMLMMqc2B2tGRtDp2uGEAvYthWx4xe3F/dsZ5Mtgv69O/kfUX3W7VefGsGzWeAARujQ0fjrluLd5t8bF098W/OXDFFEmtQtjYy+yPhL2TFOeFu0XS7EJGaECzpgVFTdy+dfBdDsi1N8XbgXgHZdOnKWx+sRnOVYJl+XHApgfBjb+VcA7eh6secY+W2kowTDXg44R3n8az7/t/GZ9rFme7SVCzt2COz7ndr15f5XFjD/ueFcEl57XOfFGlNg+/YH70F73IVcGO45WGn7G0dgepDDx5Xq/SWs9GuMhsWdaG9a77O9I3x2VRMu2TVHIOx1f+pEwqVeHuf+eTfbdwFEcenFJrd4zI4t9dkvvthktK79fSfiTfaLyN8Z4dWpPfvw0mbRQ8ekfkaQtPMzdv7XCEWrVXzJZ7ug2zVJNY+k12def9pN0ffGZ2K9bF/VN2cC1a4/U/6xlMVzR9aUTnCMKzbWmALbN4c5pij+g2CXFuHdLjZ/miX+YkdF2F3b2e08DwQ4Da7r4vxYY2XvWZ3NRwddjhGRvbn77wtYMvdPLuNqxHOwt+Nj24ia/auJQkRj3bisH8fKUOw6il1HrdJQbRqWXzWU6nNqBxI6hYPNDjbN7cfCpTc/zaKXXmLKlb9zGW6HyBiMU8cBDh+qQv/Vjl5Zhb53F0U2Y7yxZ9vBrrvdEIl1BPvuTrF7m3EOiurS2eQGbwSRjv13996D9V1EJroRb3YSahuBUc2+lB8CPQgIIYQIOsFZZFMIIUQLF0nSgJ6sKNlBxfZsHt++goguiVx/7fX07+W/BEBdVJTuczw6bB7MRQ2YwuIBtT7Bwf2OC+h2kZ6tYYgi+cHF9NVcWsuWlXLAMV8RPsNB+PfRciCKui+DbvRJjSR/XQWlec/zYJ6V2MtSuDYlmf6XxnqWVfBCURTCLBYj5PXxSKeu69jtGlpj5MDtr2Jw9xX8c9cWCraPJrFvzVLeX/wptpjrSe7ofzSntW7jY73UbY0iKhY4ABwux7m2arHWbwOtjoP+a+NXFDArGOBt3OER1dvikR9PgMmWWdsRDjke/T7rDD+/7v1wjGPgUUPXw9HvMNrXnkWESYhaa5RHj0GPdnD4iN/PREa2A+pWEqKaZuPYt1+w68tdfFH4NQfKAmjV7GUZq65hkcu+cezfpY4W67/ltxEWVE13BLo168+YB/PYuToItGtoirEP1qotab2I2N95mdayUscj+YEfW+q+X5yi/HvHfhER4Tv4O3TMfJ8w0yGZG8//Fyv/XcxnO09x5VU1HSJWFH/GbrpxZ4JLtFWPeeXwD44Orbx/5uzIKKBuJSGq2W2UHyz6/+yde3wU1fmHnzOTlYrV2MpFaUsqcpMqVAVRqQEVUKmgLdHir6W0FZS2SFvxVgVbBe9gW8QWBWw1XhBBBawoQYV4QQgUQQQJAUnQQC6KQYmEzc75/TGzl+zObnaTTbLZvI+flWR27nPOmZzvec/3ZfP/NrOxYBs7y+pGXCpHCPbFiPj2L80wNLjMxPC099+XUiqqgGOdbfz783mp2LORLZveZ0PBdopCziFUZD7uzKH0faaILQc28vT0jSz65imcefGFDB90Jl0zPaCDbZBqyndwPO1j6LvnW/YAZ1HJPip81B2cO1xMUQlwbA++X28DBdCRk04Bdu2htBJOPd7CqLVAa5QuZW8hwOn06GJh1Npb+HP8Kf/99mTxnczg8pgcLGH7h1tZu/l/bP84LMLZeXlWfOJvP9rTXtWia5RdDEwDlWGCoTj++I4QMbxSSrHThme2r+eeRntXNQhPPX9PeOs+P0EQBKFVISKwIAiC0CJkDrqBWccuZNYjKyg+7KW6cC1LCteyBA9ZQ8Zyzc8GkxVH0uv6OBLF1zXGFmF2C5FodN0kHIe9juiyi6du+jVPxXmkRO9B95/dx13fXsDDz22gwuuldNMKcjetINfTkX4jxnLN5f2C3sX1YEew1TchqB5f0waTyXkXnkvu1rVsfreAqkGDnSinIja8W03HYf2J7gAdpCmeLTRY462XUNG9MalLKr+oAk6sZy0vXmeq/+5npnLdM404oJ9AOd/NszdP5Nkk7BLA074BFd2qZOvShTz76laqOpzGkAuGkHPjWDLe/xt/fSZxQVmh4kr6q5TCNBWGDkb6AnjaZxJNBA5itxtaayzA5x9h6XpSdPHma/89LyJ3yjhy47iWxOvFIQ4dcn58437GvZHo9tE4idPPO4lFz+/jg3c3UnXe+Xxba5Q6yPvvbYNzrue80PDGBlxrPARF1gTwVbB5aS65r2zmiw79GHrRRYy5+Ro8m+7jz0/VFZTjEYIBtGVhaSMiuVSwla3g8899eE/0J42s5INlT/P0q1uo6tCXCy64gCtv+BWezQ8y7ZldoO0I81r/fr7Zn0n3XM/zj8wlb48X71e7WLdkF+uWgOf7gxjzi9EMOjlY19oN/B33tF/M7H/lsbem7vun6+Cf85urssk6RsVdNxqM2YdLftadNU+tYu6C7mGJ4Z5krTeToX8cRXzx3B0576dDWfbgKhb+60Wyxo+g+7GA9yBFq57ghVIP3a+8mnOPwXUMDoDvnljvgFh1ydssfPZZ8vd56N5vONkXX8OY71ay5I8P83qsDTVBcd/yob0+yDCc9iNcBD6C14nQLnrqRsbF+4eFIAiCIMRARGBBEAShxcjsO4a7/jmaij3vsnble6x6fxtVh70Ur36cO7aUcMu9Y8OmwqYIYVGAQS7klifG1Z99PoTE7kF7soZdz8wLqyjeUsDaNa+zZmsp1d4KNi99iCnbXTLGx8BQirgTKWvbHiJZ2bE9PxzK0GPXsmJrPgWVgxnaAdi1gTVfdmHU2fFIwI3EG3d6taRgWRZWnTITJRI4Dr7X+YSE1h8yZS5Xu043bihD+NPjY+idrN1ZCT6L6h08+9c5rK48mrOvm8E1A4OSTX0ybDQionPjWF8p2zLCsjQq0Wsg5Ok7PsLaMGIMDgzllifGJtS2NITuv5jJtGHJiScEOOncS+j9/L/5aNt7bP7ifIZ8C9RnBeRv9XDu5H5Roo6TfK0Jl69t5E57iFWV7Tn3tzOZeE7wfkSbBe8vCz6fRbR6rdFOEjK77GhnICE43aIrHTs4P1dv5+k7/8Gble0ZeO19jHct4xqf9uGzhyXtRd/6AaOnPsyo8t2s37Ca9a9vYkeVF++ed8id8QF7b7ybMb09gfM59rTR3P7wKCr3rKdg1Xre3LyDgzVeStb8h79u2cOfZoyhVzv/NdYEBGew0OiYHvOJ0HHYNGZ9ey7TZs/lxnfm2gu/kUnWqYO5YdbogG1JvViao7uP4d5bvslDs19ixq0v2cs97el48pmMvWUy2V0bN7pc8dZD3LbwIzjlCu6cMYKsQLK8BH15/Y/da6EPH4m56tCbnmDsaYmeqSAIgiBEIiKwIAiC0LKYHjqeMphRvx3MKJ+XioIFTP/XWqo+X8WrG0fTZ1CcHbbD1a5dsOBUYNuHsE+0adfBLTi+I7YdwCelVNEnwosvItjLAA/gpZjSSugTb4fVT6L3wMwk64yhZJ0xlDG+Kopens19LxThLVzC67uGMiYOK4UIAt6JoRfnpTpgLWnbQ2DYYkejMbuTPaILK54r4vX1pQwd0YXSrRuo/u5F9HM1xY0k8Wcbh9UDFZQ6fqOebtEsIxLDsqxg1GeAKOJJHOJ0V3dj2kjsQknJvkr4QaKF0gXTv8sS9ldC73h22flEugG72U+lnVstgsqyfQmchJdNz8xhdaWX9sP/VEcAbgwG0QXYjid9Hw9FeKmg6ksgzGLBMBSflzsmyCo0+WK8Ir8tAtdaFoZhR4oGIi8D93xP3G1L4vXiKHBmEBSVJm9SOQCZfRnYBz7atp11H1QxOPt4KjatpcgzmNE/DJOAG3CtnHgS3YEiSqOWr4qyTxM4YS8bnnqIVZVe2l88uY4AXB+GUmBGF4JrnQhtv/hrrxEi4PI9Op3gpVZ72fTMP3iz0kv7Ydfx67OPx6eD8qsv8AKy0GFDS348nboxaEQ3Bo0Ab/l6ch98nPUHDrL6tU2M6n12XTMZw0OHboO49NpBXGp5qdyQywOPrefggdXk/W8Uvc5tH3LezpF9R6iprbETjirTTqDYGKq3seypCgbfMZvRp0RLb1oPPgt9pBa8Faxd/CYdrrqHW/p3wJPMDDhlefxt4Ud46c1vxocKwNHpeGIWHnbjpZKqrwCXbSrLnPYj/I8Lpw3fs68CTktivRQEQRDaLJIYThAEQWh2qrfmcuP4cYyfsozi0C9MDx3PmciUy+3OzqHqQ8HvOnbATnvjxesy3dlbWuoapeU5tZ+d0Zpiij6OJyLMQ5++TqKej4vYGZa4zO68h3XUTj6VMwHYRdHu+KLOEr0HFW/cz/hx4xj/yAbqpAUzM+l++RSuOQugGu/XcR3ewRFFgVptYBrh034r2fdx6PrBRFfJyBnXZdAl9AFKV2+glFI2vFNB9yHxWUFAQ54t9DnjXDv6cFcRxeFJ6QCoYF8JgIfBP2xcLGJoYrBwUShqBN37O9zdcctLbN9pz9mc3jOeo3ejt10o2b1rL0mJez65F2fYe2RXnPebDr058zsA1ez62D1Ot3Lf3gROYjcfvWsf+7RTvtfIfdkoFIaK4aPS/VT6ewC2UVTstkJw4AAURoYZsFtJNFLSsixqfT5qfT47Ovj7p9IfgKK425bE60UmffwC04dFdlLMpJHJOYPPAeCjdVv4Qlfw/toi2l94Ln3Cb/nJiV8rHfrQ/7sA1ezc7R6nW1Hq+tCisJPt79jH7heZVa/efRlKYZoGboM8Gz/ahXZkWwsflq7Fp2sp/8S2l/Ccexq9DIDd7FgbvYx/5lbGq3ew8NbrmfjbqawIyxHm6XQ2v/n9pbY+fqiaaqB620Km/nYi19+6gjp7Mzx0OPs3XH+ZraZXV0dPQmm3bz6O+I5Q46uhtsEvBUd473kpoxorAPs0pW88TO7BCxh1dpIFYKBi+0a7fnTsTffw3Jif7cO1dJzci7M8AB+x8xO3FSop9S/XPoJ/4PTg1LPsn4qKipPThguCIAhtHhGBBUEQhGZnz8ZVVHjBG3OabiZ9uodEvnTIoocjxBSHBw76Klj16lr33Rzbn0uGZQJe1v53FRVufpm+Clb9K5fNjv9e+7MuYei3Ae9aVqypKywELP3K32DeM1tsQbbd6Zx/kd15XftqtGNUszlvFcVOnzqxe1DB5re32Z1AX4z1Pf1x0S1i0iXLdlos3l2MzzAwDSMQ1VX9wWu8Vh65jR3ZmrDxaCSZ53HRIA+UrSA/bwNry/qQfXYC0U4NeLaeHw61ny0byN8YGTvu3bqRd73AKWO4pMHTbzXaEX+tKNn3FAq0i0D41Tus+zDyGe9b9w57gZMuG8EZ9SRls/Fw2uAhHAewLo/VLs8RoPqD1azeE13oqUO70xg01FY+1q9cTaXbpVnVbF21mr2BXZ7IwEtPwwPsXlPAvvBtanawqaBh8sa+A2HPr3w1S9+1g+f48uu4RROljNiRjN/oz1CnnK15K2wQBqByM2t3hewPOzo4wzQwTQPDMJzBlfgFYf8AQq3nNH40NLG2pSH1osugS+juAcpW8OqWKOVh3xpWrI8+5V1rO2FeuBToOf0sBnqAbfls3LiR13e15/yzumE56wc+7fpyfqLXShfOG2HbShStXktp+DaHt7GxgeWr9MAXdReUrWKJv3x9VR21fBlKYRqRz7v67bVsO2yLv5a27RSw9lPw9l7gREZcckaEPYZrGV/rP4evg/YMezaxutIL3iPEMhY4rs8pdAD2/m81lV7w+mKuTa9T4ou011pTa4VEKCckCH/BF/u98HExxQ15VFrb3ro++5hVlfugooSiOHJENpiKyrD2r5rteXkUOw/wUHXIhbQ7k6GD7fqYv/Z/ke3HZx+wNmSw1b4WC/DQb8hQeybSeytYVeZ+KtVbVrHq4zjbcEEQBKHNIyKwIAiC0Oz0ONvu2Hg6wKF9IZ0lbxVFeQ/z8CtfkDViMpeeHLKR2Ydzh9nJU5Y9sYwip2/sLdvGkoceouiiMQx2PZqHPj+dzKVdPbBrIdMfWUVRlXNMn5fSrSt4+OY72Nj9Ivr5p3l/ow+jf3spWR4oemY6D+cV4d+Ew5/y0atzuPXu/9H9gr7OtFoPva+YFPUYVSVrWTh9Cks+/z4d2zfkHnSk34+64wHaf+MIFVUh6x8uZfMz97FgYyb9fz2Gc/3X4PNSUVIciOor3bWZon3VEVHUHc8eSj8P8N6TLHivglpLYfIln7z7BPe+1J4rR7p4S1heDpUWUbjf+b28iKKQa/BWFlP0ifOAviqhqKTKNXobPPQfMpT2VLPquWWUnjaQfsdZaO1zPrVoXeuIJpEfrRWn/uT3XBK473ns/OKwvW3tYT7d+gqzb76DDd0voO83fWhtoc1ujLn1F3T3eNn871ks3Oqcm89L1a5VzF2wiupv92fidXW9lb1V9VzT4VKK9/oFm1L27DnAEV+IEFKzj127/KMX+9i1ex9fe13+DPtWBv97/HFW7zoYuNf71j3OQy/ux9NjDJN+HJIQzlvNvl278T+G/bt3s68m5O72HsVvL/0eHnaz+P5HWb3rIF7Lfz17Wb/wbm5f8hldO4VODj+BDl3tn0r2hUfueuh9xUSGdfXAriXc/8/V7PaXRcvLwZL1LJ4xlZcOdOWEkF0ed95vmHTBcfDpUh56fD2V/qJStZvV8xbwv55n0M25L3tLKgPn6M5JnHK6rbTsfW0VW7+yj135YR5z5+5m+C1j6AVQXhIiRNvXu/tT555+uZfdJcF7YSoTvFUU7yhxLGWqKNlRTEVIpHj3nGmM7enB+95cZi0tosp59t6yzeT+YyGc1c9uC74qoTiknvmThpmmHR3sF4S9VSXsCilP2z8qobLaTQHLoNflv2d4nTLuCHdR2pYGtXkdhjLx1/3JpJo1s+8jd1NpsHwfLmXbKw9z48wtHJ+ViaVtve3rrz7lY3+Z/7KYHXvK+bpW49N2/sXAp91ZnPcjD7CLRfNfYF+nSzj3FI3XZ4V9TLpfPskpX/Z5Fx44gqVBR71WyBw0kRsuzIRPlnDfgrVUBMpXEasem0tBz/5OUrFSiksqorRFfr5D9752+Sp+9VVbJPd5qdi6gof/VcSltzpexWXFIUJ0JIZhYBjUEcWP82xkwYI32e1vJmr2s/7fD7H0Uw/drp7Epd/xb30S3fxlfGVIGd+Wx6OP7WbYTcEyXuI/h1POYMi3sF8o1fuDdcjycnD3ah6du4qq7w1j4nA7srhbf3uAyF499P1zkN2vP8qjr1XxvUsmMuz7wf1U79/LXifZ5MFPd7O3MqTNr1O/9rBjTyU1tSEVOWb96siAKy6lz+EVTB8/jnHjwj/jmfzXh1iyJcoARK3liKY2WeddzTldPiL3z9fyq9+Hf37P7+54iMfXltQRY70HS9hV6pz/V3vZXlhCxdeR9bFj1imOPdQ6lq122vODJbz3/EMsy5zI9YPtgrmrtO5IdffLb2HsKR68Gxbw0IrdVPnb4YoPyH1sMfQ73Wk/9lKy7xBHjvhAg+fU0UwekYWHIhbe9zCrdgXfO96qYtY+cwdTnq/k+53rt83yVpdSXOcdVlGnjhftCvy1QNGu0rr1xOeldFdwlsC+XUXsd22vBEEQhFRHHTp0qGkSf6cYlmXx5ZdfUlhYyM+uv4H9WzYmtP2Jfc/ijYW5nHDCCRx11FFNmyVXEBwsS1PjrQ1kH2+reEyTdkelpoW5pTWHvT6sZMyNbwUooJ0ng4y4s4nFoHIzy55/lfztOwOipufYjnTpfi6X5lzKud916dT4qti8dAEL39hG6ZdePMd2pMdZlzBy5FD6dKhg1V03khuIyAtLLuSrpvjdhSxc/j47y6rwOsfr8YNsLrlylHvimS+LWbN4Ics3+c/RQ/sO3Tl98HB+cklfOoRoeEopMqih+N1lLHn9XbZ9HDxGl+7nMvrqUfTrHBbnleA9qP54DcuWvs6GolIqvnTWz+xIjzP89yC47rYnxnH/G243PjLpUvXHa1j43BLe3V6FFw+ZJ/dh8CVjuKT/SbTb9iTXzAru6JT/u58JPMatz+yK2HP3X8xk2kmvMu7BVZGHvfAWnhgXelTLsdb4lFenTuO5T6DvhL/zx/OOdr7XIf93J1AKrWpK3l3Cc8s/oKj8oH3fv9mB7j8YxMU5I+gb8WwVfFXCWy8v5Y33PqLYf+8zs+gzZDRjL+9Hx9Cp6ltzXa8pmERrG0+Ouz8iK/wp/3c/f76oA7Cdp6+ZyZvhO+j2c+65fTAnKIuPcifytzeBCybxt/MrefbJV9i05yBePLTv0I0zRuWQc973aB8oc5Wsvnsqz0Y8hm5c/cDNDAm55uo97/DKstWs276XgzWApz0dvtONs0eNYUTfyCnTlW/+jb/m7giJdAxLBGdVs/fdFbz0xjp27Ane7xO7D+CKMSM4rZNLui+rmr3vLmHxsk3sqrSjKD2ZvTh7dA4551WzdPzfWB24cWO4+/YhbvauzgXtZXXuApb+bz/VXmc/Px7BiAt70cGoZPW9d/LsTm9wX1fs5/ZZqyN20+3/ZvDnoZ04yjwY1nb4CW9DKti8NJclq7c5ZcZD++/2YWjOWEZ/bzPTp+RS5F83orwH0Vuf5FcPhpcWmwumLODnbptZ1ZS8+zIvvvkeH+1x2pZvdqRL93MY/X+XR7Yt0LA2z98mfbjTaWM8ZHbuQd/Lfsrl53bnWOXUyW25TJzlcg1Dbuafvzg1cvnO55hy/6t8DZyYczd3XBLD9MWq5pO1y1n25lp2hFzrSd3P4SdXj+KHnY+KTGjpv9aXCtgZKF99OO/KMYwloRO9AAAgAElEQVQ57xBLfnM/gRp8ylhm3hEjgWZ1MauemMuSjaVO+erDeSNHMvLCPnQ0K1h195/JLfTG3JelLbw+L5bezkKnbA/5w0MMKl/Ik69sYm+V166Hp5zBpTmjGfT9sPdd9V5WP7WAZZtCyviIEVx6gVPG77+Thf4y3m0MM24bQgerkq2vLiPv7Y/Y7bSD/ro+YHgOw/qfGNJ+AJVbWfFCHu/s2E2lvw38ZgdOPGUAw346jLO/EzynHU9N5G+RVYghN8xlDAuZ+JBb/bqHqcNPxFSfx65fn29m4b8WsC3rGibm9KNLWDJYb2URKx69jyWF7Rn119mMDh0c1hp9uDYoAn9dwusLF/C6dwi/GfMjuh9Xt154v97HxkUPMXd9NWf9+kGu798ePnqWXz0c0ToDcNH1jzE2LANm1YfPM/ep1Ww/aD/DLr2HMGrUcM7p0h5v4bPc+I83A/kJ6mxvVbLllWdZ8s5HFB902o8uvblo1NWM7vIBM+54Nth+ZE/hiV+dBqYzK8d597+7vZiqw9iJ7r7bg3MvH8uovh3xxHCzAaK+w7jwFp74cWndtiv0O6cNc/974hSuuvfPDE4sT2mrxFCKb3jMpCXGTTaHDtckxaKrNWMaBu08GRjJ6J8IQj1orTly5AifffYZF44Z2yBt8bmHH6Jnz54ce+yxycm1kgAiAseJiMBCSyAisI2IwKlDUkXgVoh/irbbVFfDsVJIN/xTvKPZGvjxRzzGfj9azjRon+OpYUfJlbx4M3cu68Xv5/6GM+OyOkgetmer/VHKdLxhE522r50yEV87oFAow3GLVVCrvWx78lpHBP4Tj47tlfB1CA3jKKNd45NaNRDbWsYuO5YVf/kJolDKrnt1kskl6/w0eC07sle72Dy0BAqnrVGQYahIMTgFsLTFEd8Rp03YERSBb5jLmMbZjLc6DGXgMT0x6lg1a2f9lrkfX8q0f4yhezQxc8vjjJu1hqE3PcHYUJsen4U+7A1UnaIX/8iMVV35zb03kB3u2eunIo+//PV5PFfew9QhyUksmXQU4DFRKfq3b63TP0mFNqE5EBE49RERWGhOWrsInJpvFkEQBEFIUaJ5HaZq56Cx2IKLLVhalktSPAetNbU+C9NQEX/MaG37YBLIZB+6j/1s33gQz3lncHozC8D2mQTFN60ttPaiVAaGyqA+Mdj2/E1A/FX2vQkvK6b8OdYimMpsMQEYgoImSmEadsCCpXUCfqoa7Qi0liMIGyqy/jUEn6U54tOk2hC0Xzi3LSk0HkOl1KBkXQFY8EdEH2VGC6A5xKFDwGFvTC/j0o93unrea59Vp/n11lQDR/DGcCqo3ltMKZlc0i1FBWCwr8nS9ieFyrcgCILQ+km/kCVBEARBaCJidezTfYaIYdhJrmJfpx0p7Z+9oLWFzzqMTx9B40Oj8W5fzC3X/paJN62gBGDfVt769GguHBKZFKn5sUVuS3vxWTVY2t08VGtNba3PiY6uX+xRSpFhmmSYLpFEPi+HP9vLp/7EbeUl7K2srscXV2gsCkWGavkSF4phGMFyYhgkEpFuC8J2/fPW2jOIGipDen2awykoAIdjaajx6bre2y2M1/IG3xPeair3lhBwAi/ZS+VXbc9H1dIWvihtKXSk37nd8XhXMfeRFWwL8633Vhaz+ZWHuW+5l6F/vCboeQ920+urW0qzfngBmexm4WPP8t4ndf3FvV/vo2jts9z/5Ca6j7mF0V2TdYVNhKVp8+GdgiAIQtKR0BNBEARBiJNo/bF0F4D9+MVMn8+2dYiGZdkRtajIjn/1/t1UeqF9VgcyrUre+PcyKvuO5eIeTXnmiaOx0PoIUDcq2I7+jU8eUygMMzLyN5RtT42v67X44RJm3Lykfl9coVFkGJ6Urbf+6Hs7OljbFioJikGWU06jRZ9Hw2tpjlitS3jyOud7lNmyz9Nn+UKe0w4W/jbE5xrYsfhupi6GblfP4OaL2lbN9lpeDGW4Rt53HDaN2aeuZdXyfB6/d0lI4lPbj7pPdja3/u16uhwbvqWToTCE9r2v5h93ncHrq/NY8dgMFnxW7Xibe2h/wkl07zeIMdMe4dTW4GOrRQQWBEEQko+IwIIgCIIQB0EH20hSVUxqKkzTQFn2lHHXSFhl2R8XMgf/mt8X/5t/v/s4N1zj4aSBo7ntlwOcjOuphh0VbF9jhm2HEUen3O/5G49HdJ9xT/DEOPtnS1t2JGHKx2C2bjJUBqaqL5NSamAYCgMzxJs7Me9grTU+nw8LhWHYvsFu7ZXWtvevN4WiahPBa2kMxye4pagr1vdizPy5jGmxs0kxNNRatRxlHuX6dfvvnsuo357LqET2GW2w4oTeXDS6NxeNTvgsU4uG2IQLgiAIQj2ICCwIgiAI8RDDqzNd/YBjYRgGSrklytMoYtgkGB0481c3ceavmuMsk4Ola508dvWJunaiKqPeBHnuGMogw8ig1qoVIbiJMJWJabS+P3/90cGGAdrxDkZHH5gKR6OdQZugdzBKBfZhWZpabdfe1soRn7Y9kVvoElIjdV7q4tN2pHSyBk11K4tYbwhat+YaKQiCIKQire+vYEEQBEFoAdqyH3A0lFKYpulMPbfDllSMKODWjMJCx0iloJSypzs3UoEylYkyoFbXxrTcEBLHVCYZKgPVimUVBSjDwIBAdLDW2pk1Ho8oZq/rC2vPLK1atQAM9tV7LU27FrCF0Akl9GujaFsIzlBJ6n62ARHYyYRoD9gIgiAIQhIQEVgQBEEQ4iBaB7+tCsB+FGAaBgqNpWvTUgC28c/NDX/e9jR7I8o0+4ZgKJMMFD58+HRtUvbZtlFkOBHArVkADscfHewXgbW2Exs2RIxMl5nnPktjGc0bDWznJ7MkEjgOfJZFRrLSkrcF0d2J+E+jZksQBEFoYUQEFgRBEIQ4iBZ01NZFYD+GYU8tt9K1Y678SXqCzzvRpFuJYCjbUsLQBj6JCm4whjIwVQamMkhXJcX2+QVQgYhUK4HI1HQRgMG+jlpLN2uSONuew0qfm9iEaMc3OSnvzTYRCdwGrlEQBEFoVkQEFgRBEIR6sMUU8QOOTfp3VpWy0I4vsF/8bcpBAIXCVCaGMrC0j1rLJ17BcaJQmIadAC6don/rw5/4rY5dhKXriVJt/VYQoVjNGDypCQ58pX8LmBx8lkWGmYTEjG1BIPXbQaRR/RQEQRBaFhGBBUEQBKEeoke3KvHqq0O6d8otlALTMJs1AtwWgzMwTBNLWxIZHAN/5K+hjDYl/roRsIsw7CRaVhTLgnTT0mxhFpolGDjEiiP927/G01C7ksgd6bZxu9vCNQqCIAjNiojAgiAIglAP0f2AJT4nlLRPjKQgwzBpqafujww2lYnWFj7tw6d9bdqLVGGgtJ2Ur7nF+daCnUxOYRgmPsvCsiIHENKpBNkR0GA2Q1mQGOCGYVkWhtEIc+C2YAUBSNkSBEEQko2IwIIgCIJQD5IUTgBSKrJUKYMMZZCBB43G0j4sbXuTpqUorO17bz8DFfxPKUzTkLoYJ6ZjY1Lr8wWWpVtpCcygb66DCQljaU1j8sPptiICS4C5IAiCkGREBBYEQRCEGMSKbhXhKYhuE73V1HzefrsI//R3Wwi2nORgQVE4VZ+OCpxYSNI9R+wN/uyynTLIMBsjJbVNbOHcxBciBKcbzV/WU7V2pSaaRkYDtxURWBAEQRCSjIjAgiAIghCD6H7AqSoJCm0dQxmAERCFAwnCQsqy/WN8Qkr4Wipsebz1INnpjczGTCdv4xhKoZWBL029pW2f3uazbBdJMkG0neIyONSTIL70LLfuSOkSBEEQkoeIwIIgCIIQg2jTTpWSpHB1aQuRwK0Tf4IwP1o7scE6zDgi1uNzKeoq2hcxiLCq0CHLtMv3sU5Jql+jMAyFlabBwP7WqFlywzXDMdIRrXUgGri+5xTaXmmtMdLdfz4ErWXAWRAEQUgeIgILgiAIQhRsISG6CCwdsxASFPCEliNQdltERXU/pj9K2S1qWWgabDub9G3Fmq8EyQBYImh0wOLF0hptWRihbZK/LYA6wm/osvQuuYIgCILQdIgILAiCIAhRiOkH3IznIaQKIvQ0FX5/bb9ArS1texvHqINaa/HlbiRKkZbFOjgg1TzlIw1vYfPgDPj4ogyqRq3/aVpuBUEQBKGpERFYEARBEKIQXYASK4hI0r9Hnv5XmBooQBkKpQ0sRwx2w7I0pin1UHBBg8/SoVkHgwMN9i9JkYe185+0Do0k3JqmvtUNhWojyeFkoEsQBEFIJiICC4IgCEIUoonASkkkcDhtwwqiLVxj6qCUwjBAW8q1LlqON6iIJIIbtrVInSX2P2HFxS8N+4uRItjAu0anBg/g+GtLu9DcWIbCkPsuCIIgCAkjIrAgCIIguODPLu+GQonwVIe20xkP9bMUmh6lFKZh4PNZLmKbxmdZZJhmi5xbWtB2qm6QyNyEgA5p7+O/KZoYLwqh6TAUWtUJ9BYEQRAEIQ6Mlj4BQRAEQUhFYiamEg3QhTbSGxfBp9mxI4KjJ5TzWe52EUL9SGluLBIJ3FLoKG1CWiEZ8ARBEIQkI5HAgiC0AqSDlVpo2kKvJLrPo5JIUDfaiDhqRwILzY1SBkpp18EZ7UzLl+j8xLBvZdtoz5sWyVLWaEL9mgOLgm9ajVPPIfCu0YYCX7rfd6mbgiAIQnIREVgQhJQn3f/Eb22kh9bnchHhU4EtCxWYKBxEASowB1U6aH7SoljERdu50lRCKTCUcjSfus9Aay1J4hpEepfl5ikNtjVQzJkjQnSUwvCLvc6/sQZz/JH/beZ+S5MmCIIgJBkRgQVBEIQ0xO/TGOrXqCOF3oif/b9qDO0ukSgFWP45mv4EQsr5wghENLU92kinvM1cZ+phGAaW9rkORNlJwDRGm61/QiiGAtMwQiJJQwpNoG3XoYukajcb/qx7ClMpDCN+d0KlFKZp4vP52oYhsK2Kt/RZCIIgCGmEiMCCIAhCmqBBWyEfp4PoF4MTJKoVn+vuHBHYLwQbBqi2lKyqYfdYEBLFjgZ2sYRAoy0NEg0cN+laaxVgGgqzjmds3XIRaisQ+D3wS3SXX639yeD8e7X/S8f72FSokH8TEYBDtzcNA19tG/ACV0qigQVBEISkIiKwIAiC0PqxfKBrnR56S0gb2q8OABZ22nIfGBmg0j8Ha7qKSW5oraVT3oLY0cDu3sCW1hjiDSxQfxX12w+4rh/LjgDAiTq3rLbS6jUNjamnSimMttAQK8kMJwiCICQXEYEFQRCEVowGnxe0L4XMinVQjNaWLQQb6fe69SfpsZNyWW1jaq6QEkSLBgZbnDNFBI6LdL5LTdUa+cVju4xZjhCczney6WjsXVNG+t930YAFQRCEZJN+vVJBEASh7VB7xBaAUxJHCPZ5bTHYPKqlT6hR+KMv7Y9/adBvua3obpaGtmT0kYoYhoHPcp8KblmWnWiqrRTIxqBsKwOhYRhKoVUU83ihXhp725SR5jYcCtvcWhAEQRCSiIjAgiAIQuuk9rAtrqY8Gqxa+1+zXUufTFz4hd6A6JveXe3E0EoSkKUAhmFgRROCJRo4LuycUyqFZlG0LpQz2GBPglCIGtzMpLtAGsgzIAiCIAjJQ0RgQRAEofXhj65tTVg+wAump6XPpA4BwZdgpG/DdqTaiCWEwuezUKYh0aYtSEwRWKKB48YezEi/eitPvg2gFJgG+FrZ3wLxYqj0F7oFQRCEZkdEYEEQBKF1oS07CVxrxKq1E8UZzW8oYGu7OiS7vcZylglxEhLx5/NZGKaBQkmwVgugqE8I1pimPJj68EezSjPQMGSgoYXJSFMR2G8FIeVLEARBSDIiAguCIAitC6u2FU9f1mB5bSG4CTt3/mhefyb70EhfoTEEn5lG4/P5glPClQpOrxeaBUMpLPAXdCD4hLSuBcwEQkLrWTFZ+4lYtYXLi11oW3GbGomSKPA2gzINtKFwRjTTB6VQhtHSZyG0EtJzPocgCE2FiMCCIAhC60Fbrc8GIhzteAQnyRYiMsLXL/jay5uOYARs2wkkjLzKUAsN5STasq0cRYhqMrQGbaEsC9OywgTMoBisrfCkkTGeh6pPjk1U3I1zJaWCB/cPDkm5aTTNPYteRJj4CE1EmJRHpJQdDez1pdcDMByrC0GIC2mBBEGIHxGBBUEQhNaDtmj9f+hqR8zWCYs9wcheHQh+9Cdta2rR1y9o+iNe8f+L7QWsLR8W4aJbmlFPPyuQRE87YkeIGBy4b0LDcIRfLAvtF361leA9jfXwWrhl8Yu//sEDZYBh2P82IdpKvxkCjqwutAUUqAwT7dPpYwthKFRGIrMYhLZOmlq7C4LQRIgILAiCILQedHjUX2vFAu0DFfs1HJ60zV7o/1u/6aN8QyNb7cXRhEyFVqZ9TQIQEpWtNYH7iUIZyknGJcSF1mD57KheS7f+mQDR0DrQttnW035R2ECZGbYgnNTDaXyWZY9FBbyu0wMJoGwFJDPi3VAoj2m3ta3dFkJhF+AMKcSCIAhC0yAisCAIgtCKaOUdPD/aXczSWmP57QXqRCY27XXbQq//QwyxN8Y+lIHSBpo0FekaRYhdh8/xsVUKQwTh2Phq0b7aOgJpmyFwzXaUPYaJyshISmSwz2dhOfsGW4szNCQaV52KKMBs9jrV+u9b85FkOwg/GQZoE47Utu4/EwyFOqr5E8cKgiAIbQcRgQVBEITWgW7p+drJRWtb3NFa1RFkmppwwTdZvrX+/aa7Vtf4HFp+Kw+Nzwc+J0rYUAZGcxuZpipag/cIOm0i/xuD0+75atGWz44KzsigIRKaZVn4rMi2RgEGpMXwjWmoZvUDTjcrjdaM8tjiqW6tQrChUO084gkuCIIgNCkiAguCIAithOYTSpsFrbEsC92kUWR1k5Q1bdSpAkxsKSmNnlMICgPTNAGFZfmjthsrndlRwj7tw2fhPKc2LAhbPrT3iIi/bmiNrvWCz4fyHBW3RUTQ+iH6PVVKp0U0sKfF6o2YciZKkyTO9JgoQ6FraluPNYQCDAP1DY8ElQuCIAhNjojAgiAIQiuhlXTo4iZZ16OC/w9NREYTdbJjnYkyUFoFktWlG0rZAjBgWzk4MZSW5U/WpxudoE9rHSEIJzNiO6Xx1doipwjAsdEW2luDyvCAGf1Pea3t6F8rjoGKdIgGPqqZo4CFhtOkj8k0UEcfhfbWQq2VurOIHOslMkyxgBAEQRCaDRGBBUEQBKHFsJOGxY8KiL1QN3FbKoiE9rkYSYiOTT3sO+3eUbejdu37b2mNtnQwMVwSBGEgEMmtnIRKLf+0k4mG2hD/X6F+nKhgpbUtBIfUfw1oy7IHJ+IufwpTOc4TrfARZBgKj9n8tSLdamJT02yvKQXqqAzI0OhaH/gsp2K0sCDsF36VAlOhMkxk5EIQBEFoTkQEFgRBEFoHrVCYaBwq0GFWKLtTS8MTtzUPtlCq8KVdNLBSGXEJ7YbTuQfH99n/oXH+obYgbA8ahFp8tETEd3IRAbjBaI321dptgZmBVsoWf/3JJeMg6A9uDzIYGryWpra1TKXHTgR3VEsJaSrYPqdZk9ekNFubZShbDLY9d9CWZdtEOIN1dc4J4nuGEaeuIperkB/8P9vm7yjD/le8fwVBEISWQERgQRAEoRWRvr3sgNCrVOD31BZ83VHKAAxwIljTAYVRxwoi7u38kbuECsI00jbC2Ue4IJxCEeEJ4fOJANwYHCEYNJYynSST9aOwxSgjpIyCrU0dZdhtTq2V2kM5CjsCOMNQLa6nKVRK36tUo9nbKaUgQ6EwAgKw5fPVbYJ1sIU3/BG7/s1D2/7wU1dRvguO4kauJwiCIAgthIjAgiAIgtBCGEqBMuoIva1OxItAYWBiYaVFNLAtrmbY4kFj9hMuCFM3UrhhuAjCYZHCKY1liQCcDLRG+3xYcUYX+hMPRisfSsFRpsI0FLWWxpeCYrChFB4DTKNlB8kCWqFO8bqWYjRtktJ6UAqtNNolelzjvIMNI/XbT0EQBEFoACICC4IgCEILYIt0BhiNExdTEVs0tdC6tqVPpZHYArChkpu0x2/jgHKiB50I4eA0/kZECKNBO3GJKsxLOJXQGny1YKWff3RLoLSu15EgYPkQZ5tjKjBMhWUofJZtR9LSLhGmsoVfU6VIEjh7ugb+/6eeXJ5qpEZbFCtiPiXbS0EQBEFIEiICC4IgCEJLkcb9TEN50Lo1ewMrDGViqAya8kH5xWClwEAFo4QtjdXgBHvOXXeihC2/SOUy/b/FsCy0lT6WIamA0hY6yoBFfdG/UfeJI7yaCo1y7FQ1PttWFSuQALHpMJQKiL+GSq1mU2FbB2gtvsDx0qJRwBCw5XGjVcygEARBEIRGICKwIAiCILQY6dzZVBhGO3zW4ZY+kQagMJTHEYCb+cj+KGFTYWLYIq6lnci1RthG4AjL9lEwWlgQ1j6v2EAkGcOy0MpA13mmCtOwBeDG4heEUSqkAxHcr21xQp3fIRh1aUe7OxHvRLZ+CntihMIRe1Xqib5uKGXYFizaQCMDG/URbyR6UxGrLVUpEqksCIIgCE2FiMCCIAiCIDQJCgNTtcNnHQlRclJZ+LMTBxnK4yS4a3mUUpimwoQkCcIAzn7sIzgWAc0ofogNRBOhMaxafEYGOJG/ZjMKbmG5tAKYYQstDT6fRWQZVmS0Qi9WpfzRwAYWbtcl+GnpKGAghge7CMCCIAhC+iMisCAIgiAITYZlKbT2OLqIBcpy/GpbWihRdf5vR/M1PgFcUxIhCAcSy0FjooQtrbGdGRwxOCS5XFOgfa3dKzp1UVpjWrWodkenbAStXyx20+K0jiu3XcphGAaW1hgYWFqigd1QKEyjZbueVkwriHRIzCoIgiAIsRERWBAEQRBahPTvbPosK8zX1gBtoJWFQXg0qw75PzQ+mk4F0jVFfGMb8WK78DoJ+lrZ81BKBSIstSMGh067b2hyOcvJ/OWfFu0XRpImjliWRAE3MUqnemmOdnYad6OI1oFSCqUNkGhgF/we6y3sB2zFsIJw2jtBEARBSGdEBBYEQRCEliDNO5uWpbGiiH0GjhgQSKTk75TrMCk4VBIOzT4VspZLf97uzJt2dK+r82h64RdpDYKCsNbKltQaKAjb2/rvud8/2ImUU5F3NW4kCrgZ0CkdUhvrtKJP1U997AhnJdHALhjKwGhhix076WZ0K4iWFqgFQRAEoTkQEVgQBEEQWoz07HTaUanuArBSCiPU9zPsFrjfER34UocIxEF/3PB9GBiG2ZBTb/WERu1qJwGXbrRthHOftR0hTEh0sN86Iu49WSKOCXY5iibIpbB+HRPDMNCWBdoAFb0NbGsYynTa5JYWgaMPMogVhCAIgtBWEBFYEARBaEUEQkeFFEVjRwG7d7bDBOC4USE/hf6scZt6LSXERvkjdpUKCMB+MbihyeX8Edn283WigwPWEfUIwpZPHk5zkeJKqorZlLdeSwh/Ij5tgVLR2sG2g8Jwkm22fNK1WM9CooAFQRCEtoKIwIIgCELrIO36aCoNrwmsCB/gIIaR5Cm3saaVx/66zeH3QfYLMYYjBge9hBsWIWwHCGvQKjAdPqogbDXcK7Vm30aWv/gCy/M/YMuajRQDdOpB9sBBXDbmOq68sCuZDdpzupLi4qPy+3WHDeDo1l93TcNwLsTEUr42KwQrFIYybPf1xljIJAH/bAh3FKqFo5QFQRAEobkQEVgQBEEQWowkdItLF/PLH0xgeYxVRs7fwZOjOzX+WPVg+wBHT7pjJrmj7S4jOaR4JGRLExRpFSaOGGw1UhB29uP3EVbK9gL1T7XWDZkef2gnix+4namPvUN5+HflO8lfvpP85f9h5vA7WPTP6+h7TANOPR1JceExes1MbT/jeDEMA8sCQ9NGhWDl2EDYsz9SwgoiSrvW0gK1IAiCIDQnMuwpCIIgtBLSrZuWXtdji4jRIj2TLwD79+t6G9ua3pIElFKYpoEnwyTDNB3RpjFl1I6881k+an32hyiJAqNyaCOzxl3FtW4CcBjlK+9i8mMbqWnw+QrNiYohvKVD9VXKSaZomyG0elE7Hg6+/yy3X30OXTp1ocvAsfz52a14DaOJ2v7EcPOO92MY6f9sBEEQBMFPy7+VBUEQBKHNodJKFNCAz7KiRlplmA3xAa6faLtsaCyrYOOP2g4VhFUg7rph6EQFYEpYfOt47n4nVP49iylPb2Lfvk/5/MNF3H523S22/OcddjT4DNOM1hB5Gq3+6mgtSevCb32jMDAxW9wTt0kpfZEbhk/h36+X2L9/vIrHJ1/IxBcrW/a8iG0FoVLAq1gQBEEQmhOxgxAEQRBSnHIW/7oXE15q3F6yzhpE39MvYtTPfsLIszrRLjkn1zBU4H+Np0sO8/YMYMdb+Sx7cznL/5tHYVlydh0vlmVF7WQ3LBFcEkgJY9Eaylc9yIRJs8gPeSaNsueoraLw/XzWrcwnb0Mh+4vzKdgd8n3nnmT36UXP/tkMHD6Kkf0bV9aVUny19Smm/WoyuaHHuXUF5VMGEK/cnuijqFr5KFMX143/HfnwHG6/0L5vVe+/wrz1YRuV0zYigTfO5tuX3d/o3WT1zybruz0ZMDSbi8/OZkCP5nVVVqioA0fpYAkR2u4pRwp2t4aooXzjK/z35bdZsXkDhW/vdCLfO9HjRz3p3+9SfnTZjxnhf2+9/w9+OPz+QHT8iLnvM/+nTW/3E4uKdf/lFZfly/PWUT56JC15djqGxU1L21QIgiAIQnMjIrAgCILQJije+A7FG99h+X/ugpNHMH32LCYNPK6Fzia5kcDtMrPoe9lY+l52Mb0/b7xgngi2D3CURHBN4AMcjrsnsHbEpeYXkWqqqthfsp6CN1eyaOFy8rYnS5GvonDJTG66fU4dQTmCskLyywrJf3M58x+8CbqNZPrfZzLp/ARkmENVlJcWsm79MnqBdk8AACAASURBVPL+s5zcDcWR6ygT0zCcqE3tBJ7GEoQTie0sYfkT/wmzgLiOa0Z2Dfz2jXYudffCji0qNrU2ijfkU7whn/yX5jML6HxqDhNuu4nxl/VsliR7Koqhdzokh4PISwsKwVbAH/vgurncMPkuXvnYbQ/l7Hy7nJ1vv82zj9xOp94/YeKD9/LTssJ67VGaBQUGBoYy8ERr52taflgmuhVEkhOVCoIgCEIrQERgQRAEoe3x8StMG7mBzXOXMu+nXetfP9moaCJwDeWb1rFu2xaKCwvJ+6CY/dsyuemNJ8np0uxnWS+W4/nqhlKqeaKslEqJqe/lS35Jr/Gx0vM1gkOF5E4ZxeTnGiAo717OtFHrybsjlyf/NCC2uLdhFt8aNiO+/Sq/l6ayRbuAGGwreBERnol4dHy4gvlvhC0beTq9Q0Ka2w36LbnTKpj61LMUfAxZF17HA/ddTVachxAiKdu+mBljFzPv/Ck89u+pZJ/QxAeMKsBFUYE/KyR/0xYKt33Ejk0FFH5STP7weRy4aUATn2gDcWmXFAoTE0sd4YN//Zqf3/F63IJu+UcvctfId/jvWS071GH7HRt1PiedOZxhvExe2LrDhg5o8Sjg6LNURAAWBEEQ2h4iAguCIAgpTidy/n2AnLlVVH1twbp/8P0x/4hYa+qKT5lyVtjCQ+UUvvcKcx75B7lvh3e1y1k8cRK9s55nylnNaQ6hsC353TqgO1j0h8uZ9kHospHNclaJojVYvmg+r3YEcHPYQEQ9QsvrwkmimMWuAnBnssfdyKTfjyL75E60ywBqayj/OJ9F99zEtJdCo3fLyL9rOFfWrmT5TQOSboVij2k4gjCAI7yEisOJlITy3R+wJXxh965hYtJxDPjdTF773cxGnXur5KzJfL5vMtTWUFVdwvI/DmHyirB1Rv2THU9c7S7A1VRRXrKZ/BWLyf1nbkRkedlbs7h8UDGzl89hbI+maxuDPtPusfzhtbuqYB6XXz2/7orDm+z0Gk2sZGSVy/7kIgB34kcT/8yffjmMAf46DdSUF/LWsn/xr789zdvl5WzcWHcrpUwMZdZzNjrGb3WJrKv2EsPxz1XKTnZXp33vNpZ5K6qYNm2+PXOg2wDGXjeT6T9v2WEZy4qREE6igAVBEIQ2iBghCYIgCK2DdplkHv8tMo8/Ov5tjulEz4t+xexFS5l3pZscspEZ4+4n/1DSzrJ+lAIjWoe9hpoPonyVYvgsX1Q/T9NoxmQ7yj1hWbpowMXPTWOCiwCcM/c1lv59PMN6BMUiMtrRqccwJv17KU/+pm/EvgruuZEH32va6dmKYBS4aTofw0zI/aS46MXIhZ6knWL6kNGOzOMy+YZrSEeMGtAuk049ssmZPJul69Yx71qXSNqyxUweOYnFJck62UhilgmX06851Mxm540kqghc8xaP/3lJRATwgNueYtE94xjc6ySO9tjJGBWKb3TqxbDxf+eFt17gT/3ddmjE8Z8Z90eF/q5MMowMPKaHDNNDhpGBqdyT3GWeM4nZee9z4MABDmxcyexr+zaLrUgsoj0DSQgnCIIgtFVEBBYEQRBaF6oBr66MruQ8MJ+p4ZHCAOWPMmdZEyod4Sgj+jXUfM0XzXcmDcYXKxGcMpo12U70bnzUlFNNQqfRT9riR53PSqY2Zqef5THnLy4WE1fM4O6fxYqwy2LkXTOZGiEYbWHWtHmRUbZ++k9xuYYdzLuiQWcP+AVhR3CJS3Op4euvGn48wSHewp/Zk5z7n2flbe5C8IS/LMbFETppRNPhgj7TQb7+qqoJzyS51Pp8UW1qDq75Lw9FeEBMYurkARzt+KibpkmGaWKaZiC5pjohmxtm3Mbp0Q7q2Awpl0/EqvV8wE6almHY3t+GUq3Oo9mOApaEcIIgCIIQirwBBUEQhNZFQztvx5zF+D/+is4uX+XNWxFdGEsmSoERw4nps/ImFVySgWVZUafY+gW/lCEFvIIbw5bnHmR+RPBjX6bfkFO/z+YxAxj/h7GRyzdMY/7LzS+mxV8qqijf24QnIriQyYCbZjLdLcr0panMebXpyks0adEt0WB5eX6TnUcysWL40KIUu95fELn8in51PK8DEfWOKJzhiMLfHHgVE4bW3dQwM/BkZOAxTTzOem4fwzDiTkhqGEazWfo0FdESlkoUsCAIgtCWERFYEARBaDNkDhnBL9zUs60bKCxthhNQZuxI5tpmOIdGoLWOGl2lmtEHuM5xW2GEWnxsIX9hQeTiC8YzMmooYF0yh+UwxWXUI3dJXtzJqIRkcJCCBbfzswvO4NsnfYczLruRR9YfbPrDJjQI0pcJ904l0kSkjPn35DbZIFn05sLl3L1NdBJJRGuNL4r4CGAalZTsbMwRssi+LDvhrVSImFxfG+0Xn1szfi9yN9L3nSEIgiAI9SOJ4QRBEIS2Q7vTGTgC+E/4F69QvA/oAuUvTKDXxFfi2t343O08ePFxdZYVzPoOw++vZ8Mr5rHj3zmw5Jf0Gu8y3b8Oy5nwg28xIXzxbSs5cJPLFO44qNqdx/OP5LJo9XIKdgN0puf5Z5M9dBRXjclhgItQ7hc3onas/VP+a6soXJtH/qp8ln/wEcVvFoREN3em5/m96NVjAMMuuJiB5w6g5wn1nW05i3/diwkvRfl68lI+uWMQR4WdVlnBEl54/mVWrV1P/nY7nDar/0iGjYx+jSnFB/k87+IPnX15NnGnWmo3kOyfwazZYctfWkb+3TnkdGnkOSaFjcw6aRR317faA6P49gPhC0fw2P/mkXNS7E1r9m1l5Zr/8tYbGyncuZP8j0Ik8JPPIrtrT04fNojscwaR/YNO9SfO2zibb18WrZKHndOhjcwaN5673wkes3jjs0y7/HWKn1jDA8OPc99NC9Cufw7jh85g8qqwLz6Yw7K3JtD3/PqTxFXtzCfvzTzyX93Cum35FDqR7J1PzabXmX3JuWIso4b0JNPpgUQXJAuY9e0R9ZeLe4bzrXvCF45k3odPRi/fNeVsyXuNZW/mUbBlC/kb/C1UFgMu6Eu/IaO4KmckA7oknhTPZ1lRxXfDsVVwpRa+jvMYWb0GAA2LilaAaXjZt+U1Vi7O44WthRSvLsBviNTp1PPp1bMnZw+7mKsuyabnCTHuwYZZfGvYjJjHm5p3gCmuPsbRqdqZx7LnV5K3YTNbQt4f/jI08oJhZA/JjvnusCwNpUv4db+J/DfKOpNe2M/0C8Kur7acgqWLWPRyHvlr/eU3iwFXDGPUZVdx1eUD6NSY3vNnheSvXsnyl/Mo3LEj8G6yy14WvU8fSfbIYYz8YVbQ6z3B/ee9uoiVqwrYvCXfeb8DnXuS3WcgfS/JZtgFw8ju0dJuzYIgCEJLISKwIAiC0IY4juPd/CAaSNnBL4DUEXHqpbaY5X+ZzE3/zKeuy0AZhW8tp/Ct5cz/ywzGzlnEgz/vWUcMs6zoU5ztKDMvhUtmcNPtc8iPmr+pjMK3yih8K5/lj88Cshg2eToPThtJVkP/InlzC4V3DOI059eanUu49+Y7+OfbkbGuxRuWM39D9GtMJYr/l+cafTmgV9wSMNCO3mfkAIvDli9n844achogcrUqPt/II7dOYtryGJ7fH28k/+ON5K95lkeATr1/wo1/v4fx/RparzdQXA6cBFDC4lvrCsBBypn/wLP8Yvh1LtG3yUKTiBEHZJF9xTBYlRe2vIyn3lzHTednR60vNTsXM2PKVOa85V75y7bnU7Y9n/yn5zC5czaT7n6QqaN70i5GxGnyzVyqKJh9PRP+sjyK7U4xBW8WU/Dmcub/BbKumM68mZMYUO9AlY3P54vulW7U45X+8iLyd+cwtlscB8pIIDlqHaooXDKTqffMIW+3+xrl29+ifPtbvLV0AbPoTM/Rk5hzf/z3oDFUbV/MzFviK0P2u2MqM27IoaeLnhk1KV8I+dt3wAX+2lcT4/1VTMFL8yl4aT7T7hnL7IUPMrZHgm1neT5zbruJOUsKcb86f9nLJ3c20G0Yk26bYdeRePZfVcjiB25iasS73aGskPyyQvLfzGUOkDV0ElPvupGcU0UMFgRBaGuIHYQgCIKQJsQpdrhaLgyi07cTP+LykorEN2oxilk86WJ+Ga2TGLJe7qRRTFoSlEksy8LS0f0VTWMvebeMZOD4WAKw+7HyZv+Si386i4JDiWwXwgfFlFfZz77ktVv5yXkTXQXg8OPmThrF1Cb0Om0cVRRucYv0G0nvrontqdN3e7suz9++I/HTakXUfPgoP7tgVGwB2IXyj17k5ksuZnKs7c6azL7Nq3nt8ZlM+fmgMH/mcnaU2OWv/MXpXLs4Rln88HW2fJzQ6SVGA1TUrL7ZrqJ02TMFRCsxVW/NYOTZE6KKd5E7y2fO+IGMvCufZquBNcXkThzI8KgCcCTFL01j+KAJ5O6sqXddn2VFFR799gp2K9WJrB5ua+Ux+boZ5H8Wx4l9uy/T75we+AzLikMmPFRI7qTBDBwfXQCOpIzCJdMYPugq5nxQ/z1oDMVLJjP4vATKEMXkzZ7AwAsnE15V7edQf+HfsqvMKX/F8b+/ducyeeRU8uJ5Tg5Vb87g8uzLmRZVAHY7Tp5dR27Jq7+8lixm8oUDmVDvuz1I8ao5TDhvMJNfSvUsBIIgCEKyERFYEARBSA8MDxhmPYlvSvhog9vy08hypg53+ukc9ryziHl/uZpsN8uAk0cw6R/zWPnOJvb/4ayIr/v/4WM2vrGAv08cGiYOdSZ73HTmLVvHnrl2Yq9Oo5/kwIEDwU/eVJcDjmTehwfqrnfgQIJWEF9Q8OAEJjwXbxexjMW3zyHvM78NRPQOtWl42TDzWq56LMy/tnM2k+as5P09+4Pn/MkO1j0/nZFh0W5lb81g7JTFUTq7nciZu4f38xcx7/5J5JwaHsq9nA/2QM2GvzHxFwtwfbxRrnH+gmUpmojvC/a7ioM9A+U0brpkMdJlcVAAaWnOYsq+T/k88NnEY24nfPOykHX8nyhWEHtf5Pr/u4u8MP01a+QdPPfWJvbt9W+/m4/XL2P2teFCbglPXTuJWRujC1/tOvVgwKVXc/uUqxkY9l3+x+VQs5HcR14JHPeByZFtBbxD2edRD5EEGqAC9+yLq+Ns2WYK3XTxz/KYMWEWdWp//yk8uX4P+516v79oDfN+lx2RlLPgb5cz4YniKJYQA/hjRSWfB9q8Hcy7wmW121ZGto0HIq0gtiyYwOQ67V9ncu5fyfufONtU7Of9ZZFtE2WLmTxyBvkxBqms+gTgMK/0vudPcU1QyoZZXD7ocqY9XUB5LH/4bsOYNHlS4DO2f33RnMUsnjKKyU+HtXYnX8ZfF77L1j0VlFc4nz1FbHj1UW6/PGTGQVke0650ET77T2H/nvdZ8/w8Hpw8Mn6bmjDKX5rAxeNz67bFnbOZNH8Ne/b7n+l+9qxfxPQrwo6yO5dfXlN3EFH731ddRjO3aCOvL5zLfZNG0zP8ff7fLRRTQ8GDEyLfX7Eom8+8V+N7c9RsmMWVP50VJi53Jvt3s1m5OVhHDhzYz54d61h0/1iyQwpHwWNXMeGfMRy5S5czYfgEcusI+53J/t081hQF3737i9ax6M7wZ1RM7q8nMGtD0wr8giAIQmohIrAgCIKQHhgZYBzlfDz278qgToTwx++wfI3Ltr/6Ef0CwVTtyOwxiJzfz2T6b0+LXPeY/lx59QgG9OgU4dmnUfgy2vO900cx+uKw7F2n/57pf59Ezvk9yWzmWfhVL8/gxnsKoP9YHnx+XbBjXbGf9/NmM+l8F0mibD7zVuxxkhy5CxymYXDk/Ue4/Z7wDvQApj61iOk/H0BW6MUe04meQyfxZP5KpoTdnrLnJnDTE1E61u0yyTp9GDnXTufuKWeHnyibCxZw77h72AB0HXUnz7z7IXv3VVD52Wcc2L+HNfPH4yqZr1pMftxRcc1JOeVvuizufHTi9hXHZLoLTuVVfJHwebUGyln+wF2EB+B2ypnDS49dx7DuofW2HZnfO4tf3LmI1x4eEbafjdz9m/tjin9Rz2BnCYVrXuDuD4PH7feNjS5rDqJzA2YgNCntsuh5gdsXy22bizCqClYyP2xsqfPRR3Nil8xAWW13Ql9y7l5E7m2RtTDvj9N4YV+0gTudYHK7aLglWfwGR3fqRNYxzq8Z7cg6fxJPvjiPnPAKUzaHaf8swE0qs7S2BeBoNhAuSdbanT+W24dGOdWyfOZMGk6v0y5n8mN5FDd6pKaGLX9zGQDsP5XX3niS3w/tSadjQpYfk0nXs37KDY+9yJPjeoac13xmPBcpRrbLzKLv0BzG33k9YxtyeqXLuf3WxWERrCOZvXIp00f3DXlXtiOzxzAm/Xsp834W9oA2zGDsA/nU4CSEC3kW7TK7cvpFo/nNX+5iyrlhxy7bzPrHZzD2ngIgi5F3LmLdjlDhdA3zrnUfbM1bkl//AGLpcib9YkbdARI6kzP3NZbePZYBXTND2vN2ZHbqybBrZ/Pks9MZFrJFwe255LmWg3KW33UTi8Me7cg5r7H07hz6hvg5tzuhJ8MmP8nS+Tlh74MCZvwi9iCHIAiCkF6ICCwIgiCkD0rZ0cCmx/kcBRntnE8Vy2c9QLjbJXRiyk+GkBnYJvjpO/KaOp0xALa+SP62o+x9h3204UErA6hh/ZqnCdVMhk74MaclRdBInPyXllP2s9mse2k244eGiNAZ7cjqP5bpz+Yy1SV5T96SNRTH9Lj8kpULwju50PlPU5nUP4ZcecwArr85UjLIuzeX/AYEJb186838s7wTox96h3cW/I6hfoFeA+0y6Tv6QebNdQsvzWdLYWrEw9ahfD8fuS0/N4sTE91X5vHu27xcTH2mGa2SD19kVoQFw4VMveEnMSMVs3L+wPQfhC0sf5RHErSTACD/FWYu/g90+gkP3mYft2e/XxExsWDk1Qw/OfHdNy1Hc3SUwNKPPoksMTWHImcXlL01g8fCw7Bpx4CbZjL99PC1l/PICy4ZEB2S02TWUBNxiGJyb10c6bvdNYeZMyPbpi335LIyLBJWa41lWQ3wAc5i7CwXsTmUsnxyb7mKH37/h1z1l1wKShsYrbl7ETPuCm+h+zL13kmcfXwU8f3zVdx8zpn88onCOou3FBQmuc2ooeDpmREiZt87b2RsVNubLHJuvj3ivVw2ew6LdjsisOugpdu1LuemKXMo65zD7PXreHLyMHp2ChVO+5Jz/zz3CPQ3txD71VFD/qORAi1XzODun0VvibY8djkDL5wW9nfKfLbsdDnChlxmhov7p0/nxp9H33/W6KmRAxBlc5gjthCCIAhtBhGBBUEQhDRF2ZHAygBVS+GTd3DTIpcu7NCpjM3+phM9HPY55Wom/Sm8p/4Bc5a+S42R4UQfBz/KyLCn/das5+1n6kjA/Picrli+6IJB0zKM228eS89jonx9zADG/8Eljmv1B64dXdsH2IDdy8h9OvL7K88fWG/Eaua5wyIjx8pmsdg95Kl+Rt3FnWPrJtEJlQOyLhnLeJfNCstSMB62tsY16lCojxryl82NFPYGj+D8esXW0zj/p5GR/3nzV7gm6ItJ+YssXg59r5vISMeuIvPCO1g042oGnAzQiZ4/uYPX7vtJpDCcTBrU1LQjM0p0co0vclmnM4ZFDpQxgH6nuF1ZX7LHRDoOb1n8FtFkYHdBL1H6MiCiHYfOP+7rOjCQef5Il7Yil/yCYNuksX2AYyfLjNHN6prDvJWL3Gdh1KGYvNmTGf6DfrZn7f+zd+/xUdT3/sdf39kswVSNrUAQK6mAQRCCCgFvhIrES2vQCiJWI0cBrS3l1CK1VbC1oC1FbH9I1QrYYrBFgVbBU9QgHkIrcvFCVFAE29DKLXjqqiBhM/P9/TGzyV5mNru57m4+Tx8rsNmd287OZt/zmc83qTC4lsql98ee+Lx4EmOdk3RurTjefuYBFru1o9m9n/1JzL3xxdvEi4uj313FTLqykaESexVTGlOtXkHFmwfjtOXw7hRVev/9cQZ6y6fkOtdPDvbH6wv84TMsmB97gmTKTaXe7/lABeV3uff13X8o+nOxlk1/XRhzbCqeWNrIQJP5FF8Z2/ClYu2WzDwpKIQQIoaEwEIIITJXbYDqt1ez4OZhDPtB9CWnQN5YFs4ri1MhmE3xt6bEfKk68MdKNrl8F1fKrv6q3fI3ngr/RnX9DVx5uh1o2O0V2tjFpRQ3Mup8bmGxS+/Yzez8V+Q9ioZwo3rDCpfK6rEMPSuBpgUnF1Lkctl5+Subm9CrNo87br7S/ct1KBTILWDYlbE/rjwoX33bRNxe3S2kdisV82Nfz24XDEyoX2nfsy6MvfPdP7Ph3aYszACuHREeKmdTOPFBXnzV7nv82iO3UZRqrSAAyOWkZMrNe5WxcM2s+l7d+aMmMXfNcqbEVPzaCs+NjYx5O/Y4E9IyJ82yKZ62ioVTS+z9IK+AsXc/yaqfl+Ba9OxxrFj0RkNlrGmacQPgLJ+v8cXqWcKsP1fy3H1jKWgsC3YGabvqrEFcdc+KRqpQQ6rY8sfYSLFw1KD694NbCFx72COSL+rb5L6/rt6sZF704uUVM6iRzyqvavXV23ZQ67G7qPqB+aLnN41JV8Y/FZPbf5jLZ2MlB+P08z74ZoXLZ+Mkis+N89l4OOAxsFsh+adGr3AVlb+O2XgUFzb+Ch13vMvGe3Yb78mZRyGE6BAkBBZCCJERZpd8mS9/OerW/WucXXwTM10vdSxixtIFjPW87NQxsIw7b4i6L07FqqGO8fq6hyKqam64bHh92KC1xjTbOAg+/8zGv7znuvWOfZvao5H3NAxyFGBnVaXLhM6ke0LljSfR3a0684kqdrrcHd+1DC9qLHg+jmy3Suhg0jMTqWrXO2xwuXvYaYnV22Z3yXOponuHzTubcKLgrGsYHt1eIkPlnjeFha++x3/+8x/eWj6XSefFGaisx5kugdpq/nXA4yRBS1048aUCxt73DG/95z/8571NLJxe6n1lBPnk93O5+wO7hUq8CmAgfgVwtKxuFE9dyKZNb8UMCubuAJWPTGbYsKuY+Xwjl/C/vYlVLqni0F4NnwYKYk7QDBx2h8sJtSJm3FjsHpo3UdUbsTFpk1rehOw5wCcuO4witi9zveuKGdbYR0fnbNcrW77wHLwvwLZXV8fePTCfvHgbsEcRJS69ovOuu5Nx0SdV3t7kEjIPJb/R/cdLNQfjVTYLIYTIGBICCyGE6Hh6lTF/82qmxetbWy+XS6+LHc29/IVK94rV2k2sfTjs393u4JpRkd/8LK2xrLZrC1HcLYEQLPck1wHEDnzcsJZ2j8vQl+lq3ncbUP3K/AQvcfeqONxG9d6EJtAg7yRO6hz7JT8yp+lG994uz/0gQ3vjdkCBj/a4tm4oODXBpgtf6eZ6smT1Pz3KVOO5dEgjl2WnqoNUb3f/ScLbMUxt4CA7t66mfP5spt98FcMunYxLPMaB//vU9fka3fotdOpqCeypomLlIhb8dCpXlZzNpXNdHrd7P3stCyvO1Ry++pNkScrNp+TW+Tz3zj/ZtHwuk0Y1ctruQCULys7m0rlbPK+cCHxU7fp+6N6l4fPIbVmzL5rGn3/3XUY5J+nyR01i/rrlTDunJUc0reWTAy5L9+xk+kafzI259WXys0nMSrmvJ0DeSSc1Pthmt+6c6XL3zo+8Pjk8Pht7d28k4M6n7LGXmDWmwP4szitg7N3P8OKC2BYStYcOuLy2q5l8VmPb7sv0neT2DhRCCNFRZDX+ECGEECLd5VEwvC/DzimleFQJJcPzk6poskdzn8fUtWF3PlXOqh+WUhZ16WrtqxUsCPt3t28PZ2jMt0yNpS2UbmJgkKTc449L6HFuUcuBw/Y1oipmlHu3wZaALEhsbl6q7V6LPZJ4yvn5dEcRuwZ2R9E2aETQsnrkMwhiw7KN1eyH5PrIBj5x7+OZcFifPmoPu4cynRO4Mj+uAwECkNQxo/SM05o501RTyEmelbORAh9UUvHsCsr/8hKVO9wvcI9mH2dOcP1Zq7yHaw9SVbGK8pXPUPHsFhIaFuvto3wRJwD2HgguCVm5FIyaxNxRk5i9t5LyeQtY8ESF5/JteeBSrs1az+o7CmPCTLdB+9wYQORaZVNwzX38aczP8fl8rXT8DHCwCWMuxuVxrsBQ3q/J0J5NrjuOw+OzMREnFzFl0SamLIr/sMD/yUBuQgghmkZCYCGEEBlhRsV/mDaktaaez+gJZUxdWx52XwUrNlRT1iu8YitA5fPhEXAh37u6mGyXb6da2/2Bm1w51sIsy/K88jo0yFHbLGcVtU3pTeiWAUMrJUitLZvsgRAzWtYBkh8wzqvPZLdcTmrKojVVuwyI2EL+L5D0dm9K1WxqqKbatcqymMKCeM8LUL22nNn3LmBFVPCb128s1/7XZZRcXMyw3G3M6DuOmIwrzrFFa91y7+GDWyj/7VzmzY8OVvMpuWUspRePpnh4XwJPXcqIe6JrLb33YUOp5gfAUbJ7FDNpXjGT7q5ixUMzmfGI+6BhW34+m2eueibmhGSilFKu708N9v0p8PmUGI9WEEa6LL8QQgjR+iQEFkIIIRKQW1LGjIHlzA4L5ioXr6ZqQtjAcYHNvPRE2JMGXktxoQGmhdsXVK01ltb42vlLdvz2FApDtWVQXUh2slcda21fNu7yIwsLtOGZEaemfPoWERsCO60yipKpkt5b7Xr5fWHvvBbt7xmP1k6W1Ebza3FfyW38kvEoza4+bi8H9/Oe2/1XD+JMr43wcSWzb76VeRvCI8o8iifcybQflVHcI/yJJ7leEu8xbBfQUoPD1bLzqemMm1IeGf72KmXGfXcy6fJCcsO+FR3MywfXZgqxlBMAJ7Z/V1MxfzXvh/7ZuZBxtxbHr8o/uZCx9z9HyajZXHvNPGI7DVSw6IUqyr7btAYknsd23Q5XUly9kPd/PzapqxS0BtNyv3bj+wAAIABJREFUH6hPdagAuJSF7z7J2GQ+H4QQQnQ4EgILIYQQicguYuxtJcyeEjYcy9sLqNg6hUKnAjmw8aWICreS20o5Wyksw8C0TNfJWpZGYbV4FVmitNZOFbD3SPfulVQe1ap18EWzliif7id7/9Q9q7YwtYV2WUxT2603UIo610ph+7n25dDKexT5NpVLQWExED3w3mq7X3ISX/IP/ts10qO4X9+mLlxSdOgEg9aoVk7hs7/kHh0ddX/rJS4vt80C8xbVhB259t3NrHC5v2RUkXswt2cFky+dzIqIEtUiZqxZzrR4A8RFi7eszd5vatkyt5RLH4iMT/OuW8iLC8aS34xvQ/UBcMInyQ5S9dOZzK7/9wyGNRYCO3IvnsHCRdVcNmlFTEVwVVU1BymMmE72l9xHCYse0EwpZVf7ulUDp0ElcLy+0Z4DwrWq1vpsFEIIIZpPBoYTQgghEpR/eRllEfccYOFfK51LxQNsroiIgCk9324VYRgqzojxGtNqg8GPPFiNzFt5LrdTrRrt+UQHWqvli8/d7h9EfljIqQFLW9RZJsesOuq0W09OHfc/y+nB7BUg11kmQcukzqoj6NzqtInVji0M8s8qdh2or/LdZHpB1vLem26RXimD+rbkIE+xNHaLEdOy7BC+Deqwc0/t6ToYm/cATlGOHnUdZKv0a5nW39dLLZs2LHe5v+FYFqma8mnRATCU/GahdwBc+wWfeMzdK0j1OkGVqNpXZlMWFQCTN4XH53kHwF987jXcWhinT3rzgsZtVCfRGzd/zPeZMtDlBy49dHLzurseQ7a8H3sM8VoDrZu79b10I/8Ml7s3VifWnzmM9riKRSnVTq2WupPf3+Xu57dR3ZRWRy66nerWm2Vz8oOqCiGE6HAkBBZCCCESdXIpk+6LjJkO/Ho1lQHg40pWh7eCuKGM0WE9GuMPGqQxTavN26Za9QFdU4SqVaO9x/6EMrf9VLsNnnNLIQXYLSrqLJOgGbQDWm3aQW4Tlzae6LDY1HZ4GbTqOGbWUWeZzQ6ikjakmMkuCU7l85WJhyS1m6h82uX+q0dT3EqXDId6XZt1JqZlte3JjT4DGO5y96Z/JXhaYs8HMbXXMIChBena3zdJH7/Eil/Hdp3Nu2VyxLGs3tYV3L82+s5Sxl3sFhg7dla5bGNbvMCu6fvRQVY/uSC2l+5Noyn2HOguwM4qr6Vs0DJ9gFezaXsCgXO97nTvneBD+xdxrcvdbscQr/XQoV4uraDbqS6fHwdWsSmJQdW0xvNkXftUAQN0o/B8t8/G5VRubqkUOJ/YORxg1auJtTARQgjRcUkILIQQQiSh8MpJlETcs4jVGwIENlYQPmzcpCuLYy4h9xmG50jlGjs8ayuhsK458oePdfkiuoLN7ybwRTewk6pXYu++8etF5IRX43p2+21dDcGwRZ02w8LgtlJEiVuPz7WLWJ1gSBKoWME8l5GkysaUJNVz05XT5sG0LOpMi7o6k2BdHXWmGbe9SKvKHkLJd2PvPvjq2wkF5++///fYO8+6huFnNXvJ2kkyIVgtW373YMQxzFbCPd8rcW2HUbV5lctAZYPI7+k9l6pXlifYaTdSk6vyA9vY5DLQXWnfOEH1x5WsesL7x9AwWGZLWPR8pWsFejLyCgti39PZgyi+xeXBaxdR/lrkMdo7MA2wee7VXPVABQfrPB7SRPnnlrhU7lexYEVlwgMxHt1Zzh3j7+V//hX9k5YfqC8Z7ut2gHlPrE78JN6eFUy+YCrlO1z2jl6DKHGpCK96ZDmVhxOc/uGdlE8Zx8znk629FkIIkc4kBBZCCCGS0WscU6ZGlmiWL1nEohfC4pO8aZRe7H45tM/n3T+yrYomNVBnNrdRKtDrMsqujr17+YZNjX6JD2xYHdE/GYBuP+TqS75k9/dNsWHcNNoJg4OYTa6eTk7hDTOYFFMNXMXMh1Y03nLj8BYW/b/YSI8hs5h0ZXIdbl33S21iWk7gmzKvVzbDvnFXbPiy/q9s+Edjz32HDc+8E3NvyaQrXFtMpIUkMuDqF2Zwz9zYeLbo3hmMc6sCBmoPu8W5+/nEK9Hcs4IHf+odAcer3GxyJfDhgEtQDdUH9ns8oZbNv3uQpY1MtqUCYACeepCHX0s09qymemP0fXncOMStx3cuxVdPc2kJUcW8mTOoiGpDEfO5dHADj0wcyeW/qKRy7jiKr19EVQsVsgIwsJhrXYLMA/NvZcrKxoLJADtXzuS60VN56uVHuPncwfzsfxsWzr2PfRsaWMqkUS73PzuD6Y9UNfL5aK/bVZdOZsWOcqZeMILpL0S/qQopHutyZDqwgFunrWg0aA7sWMHM60cz9akKFpSdzdk/TTx4F0IIkd4kBBZCCCGSkk3x2CmRwdDa2cx+quGfeRMvozhOy1VfUgMJtSytwWyJABiAbpR+b0ZMSHbg17NZsDXOV8rDW3j4V7EB5SU/uZ4Ls1MhTPSm0XaVclu0iDi5hCn3lcbe/+wM7nk63tf8alZMK2P21uj785hy9+S4oWbo8mq7wtckWGdipvZLEiF78HimxGyydcx+6C9xg5HqFf+Pme9G3dntNr5XGqesNeUlcowJsPOpqVx1/SKiuuaSd91CFt5RiNehLDvLrePsairfcHnvB7Ywb+JkVlPE2Otirx8IfB5/yKwmnyDLynZd/qpXtrnuD9VPT6FsbhXdxo3hmzE//YQvaiHL52vh43cV8/5rCuUfNBbD1bJl7j3Mjk61R91D2XD3Vyl7eBn3uIWRWxcx7tJxzH6+ioNO5ahSitrAQXb+bSWP/Oh6hpx1DT9bFUqK8xg+voTCFm0lXsi4H451CakPsGLSZVx1Tzlb9gQawsm6WgIHd1K5ch6TLxjGsEkL2OCcDes27m5u+XrDwrVfK4iQfMZ9d4rrulXcM4LSKYuojF63PVWsfmpm/bpVhl7nIWWMGx574q5w7J2MdXkLHnh6MpeNnkn51moCYbtUbeAgOzesYN6kYQy7YDILNjgzyBvLjInFnu9zIYQQmaUZ4+EKIYQQbaQ2QPXOzWzZWEnl8tWuDyn/yU3sv7iE4uGDKCzsS35uK36lGTiO7189k8kulxlDIVMudxsxrYFSCkMZTkVpY+nGaja9EWBsjzjVm4cPsnPHJja9VMGKmCox2LxkNgsopbiomLNO9UdW1dUG2PPBBjY8v5aY9p7A5hUPs4hiBhUOovD0bmRH/eaQPWQKD979IpdGDLy0hdk3juOTmTOYdGVhw2tx+CA7Nz7D7LtmsvrDyOl0G/coD5R5BG51tRz8x9ts3VLBy89ER1XAxqeYswC+8fUhXHRmz6hlrOXTPTv529+e52W3Fdy4kkcXwkXnDGRgvzPo5tknNGqRtIm2NFmGD+WEbbWBAEcD1Wyrrqb6zWp27lyF2966eclsZn9UxKBz8snPH0R+Xi5eu2v+dbNY+MpmJj8dnvwcYMV3LuPgxjuZ8r1rKT4j1/4CX1fLwX9U8swD05n5bGz9Y9Hd5cy4uGFGof0gNPiT1hr9eYDA4f18sHMP1e/tZOfODfzPay4L9vQj/Cz7Igb2KyC/Z1/O6NGN3AS3navDB9n53lY2v7yOFZtcfr78PqZ+/k0KB5xBQUEfBp2WR+6JbhutG2NnLuClTVNYEVYufXDFFK6uPcivfvQtir8W2o9rCfzrHVYvmsPsx6NbQQzmnifu8uwbW3vwA6pe38pLL/8Ft8Vd+tA9HL1wAIWDCuh7xhnkf+XEmPdOs9XVEjgS4KjXZfqeOVgtgYPVbNvwEiuWLKB8g0sf4OEzKJ83ljhNE8jvVwox9fwHWHD7FAqWP0jZwFyoDVBV8TCz75xHxQEouvt+ZpzxOCuielVXPr+aqqu+x1nHK4+TKx7HyY3bqKot8g4nu+UzaCCsiG6hsnYqk3/enaV3ldAtG2r3VFL+q9lMf2oLdBvDoz+eyJ7/Xcn/RJTcr+CvL32fkd/q7jGzZjiwgqlDt1Bx9wwmXV3MoJ7dGo4JhwNU76hgxW9nM/vZqOg6bywL55XFeZ3yKZszn9WDp1IRM88K5pVVMK/RhetGyf1Ps2BM7FxqA9W8v2ULmzescmklAuW/nUnulcUMLRpK3x65Me+BblfPYPYLG6KObwAHqHxkKpc+MrXxpbvobv7wqzGEPj0iBoRL4rOxsGfUTlQboHpnJZWrK3jRZb6NfjZePIPHpy7nqvmx768tT03nqqemN7puDJnEM4unUeR2HOpRyoz7x7Jh0oqYavcDGxYwtWQBjW69vGJmLF3A2HQ+1yWEECIp6vDhw2lU39F0lmXx2WefsXPnTq77/g/ZX/V6Us/vXjiYdcvKOfnkk+nUqVO7VXCJjsWyNLXBujbtE5qKsnwGnTv523sxXFlaczRoNr1fYZpRQKcsH35fW15IcpAVN/f1CFy9zaj4D9OGtM4SAdRumM2g0fNiLzUeOIv1lVMSuoTctCwsS1MfcPxrJTef+x3+p7EnXr2Q938/1u4BuXcFN5012TVsdPPN373L768JdY88yMqJZ3H7qgSfHD7fCNVU3DWZcY+7BLQJ6HbRT1j81A8Y4hq4HeTPEwfyvecSnNhVj7Jt8TX1y3jwz7cw6NZGt6jjm/y26gmuSXDQNIUd5mcZPmpW3kTfSYm+CtFm8NJ/puF56uBwFQsmjWPmC24Xticij+KZ5Sy5YwgnAmiN1k7f4/Bj19Zf0+2KB5o4jyt5dNvvGROx7RShX5cMy0RZpkdJ5+vMO2U09yc5x3ue/4hpg91/Vvvu77jp2z+nIrEx4aL05MbHn2a+VxXw6/P5ypVzkpzmXby4b6r3a5yMJs0/cUW3LmTBvWMpaCzUr61i3pUjXCrO3eRRfG85z9xRRPbWeXy5ZLb3Q0c/xjuLx8QcZ978VVcum9v4nKKP/QefnUzxzbFBmavTb+D3K3/DN09r/NjYtM+YLcz78qU0rH0ZsxZks2pKbCV2o/JKmLW8nCkDGz/hWbt1HuNunN1QXZqwIm75w2PMHX16bHVtY69jtLtf4j/TXd4BzTi+9bz+N/zxFzdE7Ku+0CCsSX42li56nyfHNHw2JvV7R5zPxtVTruKmp5Lvu5t3+SyeeWwKhXG799RS9UgZ4+6pSGz/DterjPnL5lJ2RvInzOuc7ycd4zdfu7K8s9+XAhXm7r6oPYZpdZRXw53PMMj2Z7V/KxjRIWitOXbsGB9//DEjx5c1KVt8+uGHKCgo4IQTTmjzHvbSDkIIIYRoguzho5niEgCU3FaacA9RQxlEfKfo1o2CZo/Y1R7yKZmznE2LplDsdoW4p55842crqVjhFQCnNo3G0haWbqn2Gh6+VMiUP23ipfvGUpDU9gVOv5KfP/u/rPzvcznetDBN0z75oK2m91n1EKpwNwwDn2Hg89l/Zvl8bf4LbvZZt/F0xTPMSrKdQ7cLb+PxV170DoAzWP6oScxd9T4vzUkgAAbILmTa4oWUefQMrterlFmrKnnujiK7Yr1HPi5NThrVtWdJ4w9y0e3qBym/t9jl0vyIRzH89t/xt4rf8M3T7H/n92+Dg/HAAopvmMvyV+c3vh3r5VMydSGbNj2TUAAMkD1kGs+99CRTRsWr7Q7XjYJr7mPlu3/ll9/s2bonuuuPb6VxK88j9CrlZ395l63zb4jaV1WKFerkU7pgPevnJHHs7lXClEWb2PSnxgJggGwKv/sMm9bMojSJ/af0vud4f9P8JgXAQggh0pu0gxBCCCGapJCy/y5jZln4RbBllF2e8NdYlLKrF+pMpy1E9nB++PQv2fPdh1i54yDQjYKL+tK9S1+KzunLmf0LKCgYZF9W29Kr02y5FIyZxXNX3cnOjRVUrq1k9dvvUf3KlrDem3kUDO9L3zOKuOTrVzLykrPomuI9gBuj0U6o2trrkUvR1IVs+u6D9vbdsInKrTvZX13JlvDWGt0KGN6/gIIhwxlySSlXDulKNs0YWCthyg5/fR4BTHsEM90u5HuPb2TSvnd4af3/sGHd6+z84AMq3wsrDz59MMU9CxhYciElIy6huM+Jbb+c7cJ+L3bvWUjpxcUMPb+Ywh5NOKr0HMv8dUWUPr2A8ucr2bxhJweAvH7FDD2/hNFXl1IyPJ+ILKtHKd+/r4Sqn1ZQDeQPKSa/byElhYM4Y9hgBvc5Dbfsq+f1c3jmA5g+334evYoozj+O/IElFBTkU9i3L2eekU+3mCfnUnTHc1QOX0H5H8p5cWPoPZNP0cXFDL1mFGMu+SYDuka+R4aMm8MNz93FUzsOQrcCis/qS8GQoRQWDmPY0MKWOWFX1Jd8ILdfGfNfH820tasoX1PBlo2bqdwRqu1sOG6WXDyay0oK6daUD4CepcxaXsqdH1RSsWY1q/53G1Vhx+e8fsUUnDOQb464hIu+PpyCrzQ8tfWPH7kUTX2St247yJbnV7HqldVUvfF+2DbIp+jifM4cOJaSsZcxsv/JdHJZJkOlWggMkEvhrQvZNOF+qipeZPkLK1zWrZBBQ0ooLr2MSwd2S/rzPfe8KTz5+mQObl3NqtWVrH5zE+8770VoeI+Nvfzapu8/QgghMoK0g0iQtIMQ7UHaQdikHUTqaJ92EKmr6pERjLinYbT7vDueY9u9yQ+wYreFcH+fKxSGz2jWZYimaVd+ek3f52vbgeosramz6rAy6GLSLOUjy/C1ybwievjW9/Wt/2krzNHuehzqtVm/qyiV0NBj9mJp9LFa8NgPRcuq83XCcCqx04mltefAlUopsnwt+x7TziCI8ULOUGV7RxBv+7f8gHhNo4G6OvdG2D5f6l6yn0mkHURqkXYQ0g5CtC1pByGEEEJkqkAVi6Zcytlf/jJfPnMY45zKNVsVlcuqwh5cwj03Nm2EbZ/hHcJqNJZpoc06CN0sM+GbZZqeATCAMtq+csrSmRT/2kztHbQ3l9Yay7KoMy3qTJM607KDfSe8sgOssN7SzWbvE4bTyiHL5yMry4fPZ2AYqiEMTmqS8sWsTanIkwTpIt5e0hqrYjWyjZRSHSYABnt9vd6rqbIveZ4wTfaYJIQQQnRA0g5CCCGEcFVN+aQRTF/r/PPATirmj2NFqT0YUO0ry1kQNuJ83tQpjEu4J18swzBcK7CU1hhWEDsOTp4CfCgs5UMrIyJlaY+AQ4f9l0ns/sCalihC0dqelrbaZjspVESVb6udFDAUtHL7ZEF9iBeqco13kikVKaU8A0etdYutS7wrMELL0ZECYKC+4t9t+1tap0T1kOVR8Rg6hgkhhBDCm4TAQgghhJu3V7NobdR9eWMp6AHUVrHggQVho3GXcM+EplUBhxhKYYV/+dZgaBNDO/2Cm0Gh8ek60ApT+dBOsNEeAUco4MxEdoWzQTL1aHa1Zvh2af3evaGgt637ZyrDQHtcai5aRygINozmtZRpM3EXUbdYCGwlcBxKzf6yrU/hfhRKhUpg72VQSR13hRBCiI5KQmAhhBDCTW0t4c0eCiYspPy+sRR0rmbFtJuYvbXhZ0X3z0hiZHdv9iBxpl39q01Ui7cXsMNgbSrw+dsl4Gj/GKH1WI2EVDG9fHVT67sT4UQiKrzStxWrfBNaJB9QR2bvBalHO31erVDwbxgpFJc5Pa3Rdt9oNAoLrWL3ETucNLG0EXafinqE86cKvydybUPtVeLthqF2KB2RoRRenzz21Q7tt/fYVcAu+4Z3FwshhBBChJEQWAghhHBzeiGT8mCRU+67c8lkhi2ZHPOwvOsWsvC7hS0yS6UUhrYwLJPWDMoUGqwgaF+bf3PWOvNaQYSztEYpXf/yaSfoDVX8ttrAbfWhlx2AhfpjplQlo2F4lxmKlhOnlYKpNVgaw2j7SnBnKZzA13LeF1bDfaEdQ3kXBNsnURKoJq/fBOExsWqYBk5qqBXRc+uIbSCiebWE0Fq3a9rq9dkhrSCEEEKIxHTs33CEEEIILyeXMOU3kyiK85C8y2fxzLyx5LfUPE0Tw2qjSkmtwQy2/nzCZ0nm53+WtgdtMy17EDfTMusHcGuZtW/o32soA59h4PPZf2b5fPV/T9lL2Tt4uJYaQgMNms4Ag609gJxGaxNLBzGtY1hWLaY+hqWDaEw0zW95E3fe9f9ZzrwslDLrbygTVMMypOx7p43EC1TbsyWEVX8iLVrHfr2EEEKIZMhv4kIIIYSH/Mvn8tL7zzH3llKK6ts95FN09SRmlW9i05+mUPillpufbutQ1jLBasserZkfA4f6+7ZUWBJq5WAYkYGvz7ADXyOVA18XyvC19yJkviT2BUtbmJaJadknLlo25NNoXYelg1gRoW+qHAM0qMhA2L6lyvK1n/iV2O2zfXScVhBp0e9aCCGESAHSDkIIIYSIp1sxk+YVM6m152OZ0OI9gBuhNdo0JZhLIXYbB6e9g1L1PU0zJuMwnBYkKTDIVCbzupzfS+jEhXb2P8No3okFjYXWdWidSqFvPBqc8NfSGoXGUB34a1KoyW70PuT0NW/zJiJx2gilywkwIYQQIhV04N9uhBBCiNShzbasyA2fsQWW1WaX6adDHNRWIvr3hgJfpdo8YGlTSqEMH9qsa+8lyVjK58Pn89nBmaWxkmhFEgrbLNM+8RCqNE9GqPWD9hxeLLVpLNB1aBRKdcwTZKFOyW57TXv0BdZxWkFIFbAQQgiROAmBhRBCiFTQ1lXA9fPVzrxbLgTWoemGzcK+X3foClAV1s9XqQ5cwebzgYTArcfnbxgU0KcwwAmDk2n3YIdupmliOZXBRgIniixdZ1cAp2kAHKKxsHTQbrXSAbvnhY5TnoPDtTGvQTU79HFUCCGEaAIJgYUQQoj2ptszHNXo8ADaWY7I79yR90Vclqsj/mh8XtD21xK3k4YB3NKnZ2+bMHx25bmV3kFhKlK+rJgqTQUoQ2FgVwdbluVUBydGozEt+2YY9oCEbrtzfQuINA+AQ0Lro1Sn9l6UdhHviKW1brNjmtbac3+VKmAhhBAiORICCyGEEO2tnatjtaUx69qpHUUGUc6lyVmGT0LfRiifH23VtvdiZBalIMvfyEMUPp8PH9hhsOXdazWWxrI0FhpDRfcN1mndAsKL1hYas0O2hfCqBg41F2mrI5z2bGeiUG3UxkgIIYTIFBICCyGEEO2u47ZIyBT2ReMN7R5EIwzDrgi25ORDi1AKleVPqlerYRhOQXaoVQQkdiyyKzMtE5QynHbiFlpn3mtpR96m0xKiY72vPY9jziCCbdEXWAOWxy6pVEd7RYQQQojmk9OnQgghhBDNEBpESSRBKVRWbOsC0TQqFKo3gWEosnw+snyG0+oh8ddEawvTtLCszO3xbFcDd8wTdV77Qpv1BQ4Fzi4MJV9jhRBCiGTJp6cQQgjRwXXMeKMlSQzcJIbh2sNWJMkwwJdcFbAbu1WEgc8wMIxkwuDMPoJ05AEtlT3ymuvP2iIItjxbQdgnL4QQQgiRHAmBhRBCCNEsyu3mjNpu1A+MFvbgDBU8uId9R9p7KdKJAl8WSF/PpjMMuw1EC25DpRQ+w6i/dcz2Jp+yb8+nzt91xvU6TpTX6S3vaLblaLyDZqkCFkIIIZpGPkGFEEKIdte+IUtDaGvfjLDwNjQAlK/+1hAOZfnsm8/tZjRUFBphYVLov4xyZA+vPHoXUx/8CzsOBtt7adKLUiifv8mtDDo0ZbTqtlNK1b93O1wYXHuIqpVz+c5Pl1H1H5wQuONVAzfaF7gV6XitIKQKWAghhGgSGRhOCCGEaG/tHK4oQ+HzNQRJrbM0dqAc+lKfMXGKdYhX/t8v+GvXW/nlL8/lJJ+EE0lzqll1nQarA1VcWh+y7O65vGyM4oc/HUO/bI/H7VjGf/1mvf33XuOZe9cIuiqF8jcjAH6nnAlz19p/713Gg/eOoqvLw2oqZnHn0l32P0bexe/LzsSytEuP3Ix5R9uye3HZHbMofGku9816nJvv/g4XdmvvhWofKuy43Za014hwyOCbQgghRFNJCCyEEEK0t9Aw5+2So7TdF2qllLOOylnd9A+OPlz5S/607zym/ve55BoAh1j78x9Rvtvt0X5yvtqfUddNZExhbmTA5hg1fQllA5x/hAd1EBnWfVbN2qWLWfVWNYGjgD+Hrn2KKL1uPCNOz4mcrRlk7461rFy8jK1n38WSCf1jlqzmzWU8sXQ9Hxw6QhDw5+bT/+tjmHjVIHJ9kdMKfLSVVQsXs9Y/Piw8rGHtz+/0WO9IoXXcvmQCc9aFNk0fymbP4JKvHAPLdO58n/LbfsPLYc+95AePUtav8XlklH7jWfjr3iy+4wleAzs093eC5lwSP6CMRY/2YfHtj7ExzsO6lsxkUZ9VzPrZSqrB7hVsgLYszPrAXoNqznv5EOtmz+Sp6H2n93jmzBhBzZO38+ArXs/1k9tvKN8aN4bhXzvOvuvdZUx8cH3Eo7p866fMGd099ukfreGuGas4FH7fxT9g8U19ATjl0psZt3kmv3/8Fc6YcRndMu0qhgQYSrk2wwhV6rbG54cGLO1+QsiQAFgIIYRoMgmBhRBCiJTQbikwbdkdKnPiXyDwN55bE+CUcZcysD537cKoe5cw6s3HmPCbjfS58UFmljg1lp9Vs+bxX7Js3jS2T/gFM0f+mEcHbOXJ+x9j42eDuOVX32dEXtj0B5Sx6Fc9efhHL9Bj+g8Z068rfoAj2ym/dw7ru4zhx7/6OX1ygWANG38/i8fu/4jg/TMZFZpOdJDsoqZiFj9ZWsOQ23/Oo0Vd8fsgsHsV83/xEDM/u4tfTuhPDsChtcyaVk59bN07fCpd7fXet4Z7f7yM6pEuYbO5nfLb5tT/s/+Ni3h06Cru/eUqaoK7WLb4ZQb9eBRdjSC6Lgj0pWzBQwz5nweY889RPHDrBfSIyrfTmtGL8b98lPEJPNSfcyJfsp+E6tS5RWbvz8l1ptnI407Isfc7hwKU0+bFtCwsXdfMJenCyLvnU/jOSub+ej2H6MLIO/6bb/XrQg7Q5abbzPEZAAAgAElEQVRHWXz2Uib++u9AL26YO52RXQDrU3Y//zvm/uXv/OGBfQRnT2dkN+Cs8Tw29zQen76UN5w5HKp6n0Oju9Mlas6HdrzDIb8ffzBI0JnvuAFdIpZt+BVFPLNgJStfH8ntg73KtTNX/eBwUdXAWtvH8daIZL2rgKUVhBBCCNEc0hNYCCGESAXtVd0UZ/T31pmX89cM6Ay8b+NLvEdvvj7klNgf+l3itRPyueL2iZzvD7Lrjy+wHT85p5zPTTedj59tVL71ScxTPqmq5J/fmMj4AXY4C0G2L3+Ytf/Xh/G3jbYDYAB/V86fOJUrOu+ifP4a9oYmMKCMJUuWsGTJXYxyW4lDa3ls6S78I7/DxPNC84Dc3qOZOqE/gXUP8eTrTp/jLqOYuWQJS5Y8SFlvt4kBfn9EYBjBdwb9Bof/209O11xy6UOfAj/BneU8trYGsvx20KkM6JRDl9wToVt3euR4TjmzKWVX/wKo1Oqd7DMUSrVACw/DT5cep2DvzidySo8uRLzcPpe6FeNEeo8u41unAsEPeabi/fof+bt04SSA3gMoPB7Y/Q67P4+ewCGqXvuQLueeTc+w+fqjvh35z7mQ4f4gr23eRkft+O11rG6tNhFeVcDSCkIIIYRoHqkEFkIIIVKBMgCz0Ye1/HwVtFtlVXtWPzdXgPff3AfHX0p+dHlhPDn9GdQPNlZtY9e+Mvp/FXKGjmH8CxspX17OxvN+yPmhYPfIVlau6MpNv+7T8Pyj26hcdwR6DmFQ9Hx9fSg8z8+aipfZ+u8rGP3Vxhdn799fYBcw4pz+MeFt7lmD6cN2Nm7exsTBQ7zD3YT5GXL7EobE3P81Rk86n1X3lLPrj4+x5uyZXJ5nYPqy7AGogGTrDXf88XbmrAcYwV2Pfp3AH8t58rUPORL0k9OjL1eMv4XSvnb7gJpX5jJ92YfAaYyfdTeXW3/n4flP8/rHkD9mOvddepo90Y/fYdmSp6n88BBHguA/8TQGf6OMm0acRo4RPh1bn/GzmHFxl6jlAXqN5ydDN/OL0GNH/IA/fLtvw8Jbn1K18gkWb3ifQC34TxnG+NvO8VjTI1RvWMay5a+yPRCEzrn0P28M468bQX541bQZYNvTj7F4/XYCR8F/yvmMv21QUtuUYIDtf57DYy8608jtzwXXXsfYC7uRc2g9D0xfRkNHhwv578U3UmgAET8Lq+RtEd3pWQB8BEHXw2dfBha9T9Ur77BtR5BhRWF78ef/4O3dxzF4ZG92bdriPQujJ336wbrXqth+61AGpVYO3yYMpTBdAl/t3FryE0QGhBNCCCFaj1QCCyGEECmgfaqbFEoZtNZQcJltH/s+AE7viUun0SR1ZdQNV5Ab3MaTz253qg2DbP/zk9SMHcOQ8DDvo11sA+iT7zqQV9e8fKCGbTsDCcz3CNW7aoA+9Ozh8uOv9OBrAK/v4IOk1id5/rxRfOfbffCzi2XzV/FRnWUHTEphGQqUD8vwoRPcX/uNn88jk4qAdymf9Vs+KLyNRxY8yh8evZebeu5h5UO/YrVTLt314un84b4x5PMv9la/Q/mzdYz/cRmD/UH2/vMQRwA+Xs/sn/6WjV8ezX3zH+UPv3uUB8Z1Z8eyB/jJsvc5AnQd8QPmOmFu/tV3c9eILhHL88MRx+EvvJG5PxxB34uns/Du0eRHL7g6yuu/n8FDr3Vi9MzfsWTJEhb95FICf1zM+ujHArue/jH3LvmIwh89ald83389uVVPMOvXa6mpf9QRtj4+jYde9TN65iJnmqM8p+lpw2JWfqmMeY8sYckTjzLzkmO8umg2C1/9FLqMYPpvbmX48UDOCP77MScABvtnd4wgx1/Erb/5QQsGwID1L957F8BPYR+Xinz89Ot3NgBv7Pgw4idHqjZT5R/KwD4uT4twHF1OPQ7YQfW+5i9yOlKGx1dGrWPaRDSXFacVhFQBCyGEEM0jIbAQQgiRCpozyFOT5wl4fbkX8R3axx6ALrnkhFUzN9rk4uh2tu0AThhC//DMqvdoJg7P4ci6ctb8G/j3Gspfv4DrR0ZFvYePcATI6dzJdfJd804FYG9NjevPoybGJ58AfIkvubY67UqXnkCwhsBnCUzOy741/GRCOdsbeVjXkVOZWOiHf6/kV8ujYmcFluGrv+HLAsNnv2/cgiHDT87xOcAh9p56DeMLT3Tu78J5Y0bTj/2sevHNhsv7nTYWW5etoevVI+h6YhHfX/AoC289hxyCvL5qJbuCRdz07SK6Om+ZrkVl3HSen8D6J1hTbc+z63kjOM8P1bv2Ewx/axkfs/eDOgZfMJSuTjGq/3in164ywJeFyvKjql9g8eYgfa6ewKjTnN6/uX0Yc+2o2ErsQ2v5018D9LhmIld81flpl/O5aewggjtX8nKoLHf3Kha/FqTPVWWMCj3Oa5rx5I1m4mU97JYhvhzyr7yJy/OCVP2pgt2AP/ccLvtGdziymff2RC3qP98leNGFDMttwZYe1qfsWFHOiwchd3AZN5x3ouvD/P0GUggEt7wTVqkc5L2qd/BfdA79EjgE5n7lFOAQgdiOLR2C3Yok9n2mdcv3d7c8QmWl0r+FkBBCCNHe5JufEEIIkQoMo82DYKV8dpDWVvMjOiRN11YQkRJei2ANG598ko3BXEZ9ZzR9IjZ9DoOuvYlB/r2senoVq55eRf710Y+BmgMfAdDjK7m4MuyQ7cjRYwksUA2H9gB0JfcE90f4/QCHOVybwOTCrZvDhAkT7NuPlzX0KI4rl/Nv/w7D/BB44bc882HsI7RSDYGp37llhW5ZKF8WyvA5Jzfsfa1P79Miw84T+zKkFwRfe5cdUa1Hj+QMoDC6tNv6kO2vB6FXb3pGhOV++vXrC3zKa+/st+/KPocRF/jhnb+z9VOcPtgGHHyXypqLGHHucfZyZvlRWc6La2Sh/H7I8lPzj/c4gp+vfTUq/O/dj6KoxQpUbWQXOQzqG1nGnZPbFTjCBx/aJwJqdm1PeJpxndWHiDn58ul/FvD5W+ywd0tOGTmaYf4vWPe/YQE7+3n974cZeX5fmu9Dnpp+OxNvvp2JE+/iwTX/IueMK7juWwPo4nX4PP50BvaOXE5q32HrG3Buv14tsEwdg+FRhduSfYHtKmCPEFj6AQshhBDNJj2BhRBCiBShsjqhg7W0STiqDMiSXwNajt0ZMzqk2LX0TiYsDf3LT85X+zN62kTGDMiJngDkns/40lX85M8rWdm7jAeHxj7GrvTdxd7/C4BbQwjLjt68KoWjpmZX+u5xKn1dguBgELwrheMYeRdLJvS3/75vDT/58aGEnmZ1HswN3xvO27/ZwEuPPEXh/TcQ3j1AKYVhGKHSxKjOELr+raPQEApZfdmoTtkNl63rLpzUFfhwPzWfZqFOpqEivn8feoT+rp3/fbKf6iDQ/eSYLZ6Tay9dzaefonxfBQX9z7+YnPUv8dp7RxlxUS6g2Pvmej4ZeSv9O/kblt0XSi0VoRWp2V8N9OGU6Bn5Ygfc+2hvNRBkzc8nsCbONk1mmsnq0qMPsMuukD0VyD6HSy4+jk0vree1cecwPBfY/XdePHIhPzijmTMDonsKB/dt4fdzn+DxGWt5+YZ7uXuUW6+JLvQr7AK7D1G14xBXntoFdr3PG8EB3NzPD0eTmX9Ld8BNH14BbIuGwJ4DwkkrCCGEEKIlyLc/IYQQIlUYBirLj64L0qpBsFKorE7t0oJCpfNYcOE65+AS48bEQ31ufJCZJW7de931uPAS+vy5nF35PVx7/obaFnhV+tZXCndNZJ6d8HeG+krfmBDYqRT2e1cKJ+SUK/jFksYfprXGsixyBo7juxdX8eAr61i48lzuzLN/rlD4DMO1+0PoEQ0vgGq4fF0ZURXvWfg7OY/J8tu/DddX5fpR/qjE2+/8ulynORoVnBqhINfoZE9LAf2GMeKEl1iz6W0CxSPIZS9b/36YEbcVtGx+aAaBPpTNm4lr9tkmYt/Mvb8xhn4vLeXFV/cz/Iru7H797+R+40f0boW5+08p4uYb3uaNBVvY/dTvWXe2+6Bzp5x1Njl/Wcvut//BkVFd2Fe1mWDvq+h9PEmGwB2PxkJrE60tlHIJaZXCtIKx9zeRck6SaB16szjXkEgGLIQQQjSbtIMQQgghUokvC+VvvYBWGVkof+d27AWsPP6eZo7PpYsf2LOPUI2rCg8eW8vp/RgCsKsat66/NXurga4MKvBoFxEhl/4DugK72OPWr+HQXv4JMLgfLVLECQQ3P8aEJe7dgS1LY3cYzeHMayZz8Zch8PJC/rDFHuTOMIwmVQMGY3KrGmr2Av6v0aOL85pF7JYq8nbCl+1q5P2H+EQpdNjt2JEjAPTp0dV57RXQh+Jv9IB3XuOtAPDvrVT6R1OcQAratXs+sIt9+6N+YAaJjtm6OlW4MY9txjTjCsY++tDe3UAvTskLuzN3KCMv8LPvf99kHx/y+oZTGFnU/OETvfjze9MTgA/Zd8DjQacP4Dw/UPU279V+yOuvfkGXwr4kmp3XHPgX0ItT3AZQzDAajaXrMHUtpvUFplWLpevQmKB07A3LDopb4IYK3UyUUYcyQn8GMfVRZ1mCaG2SGWcThRBCiLYlIbAQQgiRagwfqlO2U63ro+Fy8SbeDJ/dg7RTZ/B3av2gMo5QX+A0jn8dvTnzXGD3HvZbEGoF0err1XkQxSNzYM9WtkV3WDB3UbUlCF+9hCFfTWxyPS68nD7Alje3xwSCgR2vsws/5w8d1Oy2ASE1+3a53q8tK/JS8Jx+jJs0klwC7P7gEGBgGE3butVV2wmE33G0ml17IGfk+fRPZAKd+zNosB/2vM2OQOSP9uyuAnowZEBk5XWPc4rpwXZeqwqw9/VK/BcOIpH8sGvh+fQAtu2OSuX3VccMrNe11xnkAK9WuWzT/6shYCY/zbje2sEuM/yOGvZWA6eeQ7+INNXPuVeO5pSDFWxY9SYb8i9gcCtWKgf/sdsZ8K07Xb7i8SCjF/3OBXiLHS++w+ufH8fgsxINpg+x7x9BOL43X/OaflrTaG1i6WNO6PsFlj5mV/8S6tHbXoGrjrhpTCwdxNS11FlfYFpH60Phlh+iTgghhMg8EgILIYQQKckZAKtTNir7OFSnzmG37ARunVHZne3n+rPB52+X9g+xqxXdxzVd+ek7cCDwBu/tjlohM0jNfz4BIPBJDUcSvdzcDFKzd58dWAZqqDniVqfpp/+132fUV3ax7Her2BUKJYM1bFw8nzVHuzL6lisiA8ejRzhyqIZPQtP9LGy6XUbxnRv7EFz3GItfqyHohHyB3auYv2Q7/sETuX5wWAQcPMKRz2oIfA58HqDmsyP1z2ncEap3hdUvm0GO1AQI8BEf7T0cU7HrP/MGvnu5U9EcfuLi6HbK75jA1KfdA+Vo/vdX8qe/O/M1ncH5GMRN3+zTsFo1gYbt/ln0ds/hvHHj6e3fwbNLN7DP+XHgw+dZ9soRckvKGHVK1FNOuYDLB8D2VxazrKIrl18YGwEHPztiB++BGmpC+8gpIxg/PIea1YtZ9Y8jzgP3smZJJce+gr39Q/tF79F8f2QuR16cz2Oh184MUvPOSub86gU+qm3CND314YrhNax8fpcdLptB9r74GMt25zLyhhFErz6nDKW0sI4X/7KWPhecS6N16VaQQ6F9n0/Zt/cQjS6SFSSwez2P/2kLALkXj2e4syDBQ4fs/f2zADW1AH7OLBwABFn3lzUc8g9l4OnONKLmG1M5/vk/eHs35FxwDn1IdxqNZQeplh2k1llfYOpQtW96Ban161JftRy2LtpCqoWFEEKISOrw4cMd4tPRsiw+++wzdu7cyXXf/yH7q15P6vndCwezblk5J598Mp06dZLBCUSbsCxNbbAO0/IeKKMjyPIZdO7UUnVoLcvSmqNBE6sFB0ZJZQrolOXD70uBMFGkLdOp+rQvJE7j41vtGyye+ihvFn2X+ZMGk60MfMbHrP35nZTvDn9gIn1ba1yeB6OmL6FsgMvDP6tm7dLFrHqrmsBRwJ9D1z5FlF43nhGnh3UrfqecCXPXxj4/fOA2oObNZTyxdD0fHLKDSX9uPv2/PoaJVw0iN9RO99BaZk0rJyZ67V3Gg/cOYpvL8rty5r19yQTmrAubzLfn8JNLIjeS0vv568/uYWVB2PIe3cpjUx5mY88yHrx3lHvv5LB17/Ptuxj98UoeW7eLI0E/uf1GMXHSeAY5s6qpmMWdS6PWKmr7WFpj/vtVlix9mtfeCzjbqB/njbmOb4843bU/dGDDHKYu2g4DbmH+9BERQWjsPEdx15IyuzLZDLDt6cdYvH47gaPgz+3PqEnfod+bU3loHUTsT2aAbc8tZtm67ez9LAidc+k/YiK3XDeIruFtkJOZZrRDa5n1s0Ncv2A0/ooneWzFRvYetQc5vOKGSXzjTI8hRqqWMnHBMb738C2cG3dgwUOsmz2Tp6L3nd7jmTNjBDVP3s6Dr3g9109Ol14MvmoM4y44jRwDeHcZEx9cH/YYZzA51vPA9GXsBvwX3MrDk88hsHYudz31YeQkL/4Bi2/qG7b6c7nrqSNc98DP+MapnUnHs1h2X1+nty8dJxxV+DCUD1V/RY1oCXXO95OOsReBoRSd/T6MFP3+/0XtMUyro7wa7nyGQbY/q8lXDAmRDK01x44d4+OPP2bk+LImZYtPP/wQBQUFnHDCCfaAx21IQuAESQgs2oOEwDYJgVOHhMCiJWit7SAYXf9fuvr01fncvWgPF02bzY1nfQmfz8iIZhdtxbQsLM/POIXPZ7h/8Q6s5+EXTuX718WpzQyFwEkOzufG0hrTjC15VkqR5fO5PKNj0LoOU7sPUrj7Tz/kN0zh4et7tfFStaAjb/L4Dx7nvRE/YM4NZ3KckV4hsHZaPWhd54S/HZFCYWCoLJQySKfXL1VJCJxaJASWEFi0rXQPgeVbvBBCCCHalFKqvitEugemuRdMZuooP3+bP5elb9VgdfAvYsmwLB13e/kM5f6l26xh7dI9XFIaJwA2gxz5/DAAwdojjbcWaER676WtJ+LVq32fZ6ZP5TuPvMmRg+t5+pVT+FZJ+gbAwYNbeHzG47zxtfHcfX1f/GkWeWltYlnH7P6+HTYAhoZewsfSsuWFEEII0ZIkBBZCCCFEmwtVZCnASNOIzQ6xv0S/b89h1u392PPE47xcY3X4qzcSobV2KoDdAxlDGd6VEbVB+l9fRn+3HgyO7UsncfujGwGoXn4vt0+axdrogfRaQAe5CCSOsA2QfQp9zjoZ/1uP8/0Za8n9r5sZ2YoDwrUq60P+MvevfHHJD3joxyPokmbfmCxdZw+YRsINuzOeRtvbxQrSUdphCCGEENE8mngJIYQQQrQeQym0Ulhao5wwON0qtFRYfN3l7HH8ZL79d0tbaEvjM6Q1hBfTsjxfb6XsNhCecnrQI04ADNB/whKWTGjGAoomOJFz/+unnPtf7b0cLcDoxbi5P425W5P6VeH2oGjBtDuetg27Kti0ND6jE6n/aqYoOfslhBBpK83OawshhBAiU/gMA0PZv4oYTqSaLl/JjUbql7XWmKaFli/LMeJvF4WvjXujJSRFe0GKtpba72e7/68EwPGF2kM0s0dMByZ7lxBCpK8U/C1bCCGEEB2FzzDwGfbAWqr+v9TlDDGU0DJqNHWW1WEGjkyEZVlY2rtdRpbPSLPBdzv6a9uB1l8rzDorZU/uaCynBUTqLVsqsltmSLsMIYQQHYu0gxBCCCFEuzKUQvmy6gNChcJCk1oBU0NAbSg7qFSApbUT8notq8a0TLQyUrPCtQ1ZWsftl+wzfCkeANtNS4RN07GuCtc6y/nTwnKyQ6UM+/hltPfJK43WdR18ALjkWfoYhuqMtIUQQgjRUUgILIQQQoh2p3CqgjHsQcO0jlsx2taMUNgTFVL6lEI5g5zFq8CztAUWGEa6DoPXPKH2GF7sgeDSc8ukQ5/YlmRpjbZC70/nPaEyPA3W7q+w1hamBiy7l7VSCkMpUG0bCtvHTKlqTZ7G0kEM1am9F0QIIYRoExICCyGEECKlKKXwKQUWjVTZtsnSYKj4fWrtSkADU8e/TLx+wDiVbi0PmkeDUwHsPRBcugbAHYXWuv7kTOQ+rtDah1J17bZsbaPx/bN+GzmPD500UopWD4UtXYdUqTeN1qZzEkOOQUIIITKfhMBCCCGESEk+w0A5wUp79LlUhFX2NfZYpfApA8uKX8GstcbUFoah6gfFy3SW5R2OK5RdHZ3iobgiTjMIrTNy4Dit7b7WWmssK97JmMxbd3fJrKfTJkbbz7OLg1V9G5mW3N81FhqpAm4qDVjaxFDytVgIIUTmk087IYQQQqSs0KXV0LZ1bk2JaBQKnxGqYI4TBKMxLQ3Kbg+RySzLcgJEN8oJwztKiJgewit+Ex4ArUMUUjZ1JbUdqGv7+UqFTjA5YXAzq4S1NpEq4ObQTjWwfC0WQgiR+eTTTgghhBBpIV0yJruCWTXaJ9jUFjqD+wTrRgbNM5RKrxA8g8eFswd5s3v9Nq3yPoM3Dk7LEuVr2E4amra+ur7CGm2HwYSqhMOD4WSmKL2AW4BGY6FIo+OREEII0QQSAgshhBBCtDDpEwym5V1JqsicPsDp3A1Ca2cfbEawaVeztviipRSljPr2LfZm0mGBcNO3XSgMrq8ShvpQ2G0gSvcppM4AmulLo7WF6iAteoQQQnRcEgILIYQQQrQCu0+wz26JkFCfYCNjWiPYfYC919nwZV7onU5CfX6bM/BifSW3AssyM7YvrV2ja4T9m4YWDqFWNWGhcPz+yfE49ddOKGw5obAy3ANh+7iR6QPytQ07gs/cSnYhhBAiREJgIYQQQohWorDbQyTWJ9iCdGuR4EJrZ108GCo9w27vhgfp0xDX0jruQH2Ns/teK2VEVD8byoepLTKxJYRSvkYrRFVYKOwznMHGLLvKv+mDWjrBstVQ6xtqHxF6/ZQy02XXS3F2JbBsSyGEEJlOQmAhhBBCiFZm9wm2WyR4B2UaU2u05QTHaUhrTZ0Z7/J0hc+XnuvmFQOneuxpD0pmNbLvxRdqT+B1gkIpH0pnXjWwHe0aJJsO1p/8MULbXzttN6A5e0yofUQDaQXRstLnhI4QQgjRFBICCyGEEEK0AUMZKMOuko1XHZiufYIbAmDvdctK2wA4/YQG5mt6e4JQ8JtIb1qFobKwdGb1qFXKh6F8zZyGE6LjDCxnWXYbjvo8t4mhsJLK1ZYmEbAQQohMJyGwEEIIIUQbUcquhDUbuSQ/nfoEN4SN8cM/w0ivUDuGdz+IlBFqHxB6TZJfYNUQWiY0MFnYM5UPRWi/TvENlQCFgcJHS8aCdo9fo77DsOW8VppkB5fTqAyrum5/of02jY9RQgghRCMkBBZCCCGEaEMKRZbhwwxVBHp2mm2ZPsGhsFmH/c8ralLhAYiK+CNq2XAqGXVCfU9VBvQ69pQCeafWDcFv0/r9KgyF3evXUE2OwQyVBWgsbZISG6aJFAqlslDNrAJujGEoQkOShV5D+wbxt5+WrLI1aNmuQgghMpuEwEIIIYQQ7cDuE2xhWfFi2YY+wQlXZuqoQMm5M5lssNG5qGQiPjsAztRspekDf7XAvMOC36aEv8rZp5Kt+o0zRQzlB0jjIFihlN8JtNtqjvZrgUosEFYqMwfha1+yPYUQQmQ+CYGFEEIIIdqJoQww7FYKjfYJRuHDpaWC3QMAbWkI3Zyeo3adIfFT3aYVjkY+TSm0Ct2vwmZsh9ep3tIiEam0BpbW9W0fmhJCK2U4wS+t0KIjFAQbaB1s15A8WQoDQ/lbvQI4/jJEBsJEVHmDhJWtSbatEEKIzCYhsBBCCCFEOzKUQhlGowPG1fcJVgqlaQh87VJi6kt9nT9aO7SMmL6KWnIFWikwFIa/lRekA7EsbZ8QaFIYmMxAb81lDxSnMbB0EJ3i/WtD7R/sQeBSp22JfQLHqdYmrO1HOy9XJpKOwEIIIToCCYGFEEIIIdqZUgqfYWDqxgeM00ETZUYGvu0uupWmdjqdWhpMDZ18kNV+1ZWtqUkteJNkWZY9iFhTqn5xgt92aMmhlIFPdXKC6yCpFl8qDHtAO5VF0zsht51Q+w5tqZR562eOzBjQUAghhIhHQmAhhBBCiBSglMKnDEzToyJYg1FnYdSlUVDhVCjro3WQDcqfxkFwO7S0MJ3wtynhVGgwvvZvxaHsClvlQ2sTS9dFnOjQUeGrQoNqybBYOQGvPR+lDPvfypcWwa8QQgghREuREFgIIYQQIkUoFD6fSxCsQZkaw0yjADhabZ19uXVaBcGh/sp2VbPSseGkQoGlGpovN9qEudE5OpW/TQlC27LlQxMoH9oifrW70/pAKSf8ru973BCGx38XKCfoNer/zDQKqQRuHbJVhRBCZDYJgYUQQgghUkhMEBwKgOus9M8ojtWBocCXosFcfeBroi0LwkJfBXjF19qqC/uX3QsZZaAMA5SRUBVxaPCv5Ct/GwZ4M5TRHgXLCbMHsvOgQgF2VNsKl/UxLTNqOzU8yDAMfCpF9y+RBqQzsBBCiMwlIbAQQgghRIpROD2CLQtMC6POsgeDS3ca9LE61HGd2ntJYlkW2qwDq7mDmDm9kLHQJnYQbGSB4R4GW6HBvpKs/LUHM3NuRno0NtChkN2F4fTFToRd3eu+vdqiR7MQQgghRDqSEFgIIYQQIgUppTAsIFMC4BBLQ50FWSlUrWnW2QFwKySI2rLAOoby+cCXhVaG0+IAtGVX/yZT+RsKfg2Voi0fPIQqnd0kEwCDnaUrvLZaJr1ZRFvSOnqESyGEECKzSAgshBAiYfLVWoi2pcwMaAERTYOuM1GpEgK3YgAcTpumHYQa9q/f9uwSnWco9G0IgdONFa8KOIkAuJ53CozWOi23kWh/Gi0DBgohhMhYEgILIYRISrwBfYQQLcxsyuBgacByWiYY7XNbO3UAACAASURBVBy2hFpAtNVxzdLopMq67UHe0q3qN1rcKmDDSHrdlFLO4Ggu05SPKCGEEEIIVxICCyGEEEKkIlNnbqClUyME1mawTZvIKjRKa3QjoWd4u4d0Dn9D4lYBN3X9PCqBNfasMmCziTaXqQdcIYQQwiYhsBBCCCFECtJJDhSWbrRlOQN8tRPLhHbZxhqvxqPK6Y2bCcFvSLxB75pf4eyWBId6LGfONhRCCCGEaAkSAgshhBBCpKJMbQUBdkZntW/VnTbNdpmvXQkceZ9hGHZbhHZZotbl1QYCmtgL2KHiDQ0nBZ1CCCGEEDEkBBZCCCGESEXtHJK2ulCLgPaqem2nSmvlBJehlg/NCULTgVcI3NxWF/Ygee6Br2uvYCGEEEKIDi6zf+sUQgghhEhHocammaw9q4G1RXv2/1Q0VP9mMsuyvHsBN3fdGwmQZRBTIYQQQohImf2bpxBCCCFEOuoIAZbW6HYLgdtx+zqzzsTWD9HMVqoChka2Xwd4+4jWIjuPEEKIzCXtIIQQQgghUky7haNtqQUrge2sMXJaOuYfuv6v/5+9u49vqr77P/46JxzATIzTRiCi5SaAZIzKqIzCoAh1s9uEzW6zOiqPqZervw2vS2CCl8K8ZE5QYE50sF3ArlovLdfsdtFt1l0EpCiUaZG1wyASqgVMwVQkohE5JOf3xzlpkza9gxZK+3nu0ZkmJyffc9OUvs8nn68SjZ7XELYnBMDRWLuPJFRF6ZB9oChK0opfmRpOCCGEEKIpCYGFEEIIIbqanlAJDBCNYkSioKo0G+JaAW7TUDd2M2lT2JYiYRTDwHZmIz5rSiyiPF+9kM+RaDM9lzuiCrh+XSiQdIK489xvWlzA5JwRQgjRfUkILIQQQgjR1RhNUsxuyTDAiESbBrmthLiia4saRrM9eTs0BG5hNXLGCCGEEEIkkhBYCCGEEKKr6TEJlmH+r8dsb5xuXKnaUhWw2sHbnKwOGJq7UwghhBCi55KJ4YQQQgghupoek4oqGOfl49fnOXztxofXMJI26AA6tgo4tr7mDqV5caEb72ghzpPueelKCCF6BgmBhRBCCCG6mp6UXfXARCE2cVl3FI1Gk1/E6OAAuH61zT3QXXew6EQ98M3oTHTTTzAIIURPIO0ghBBCCCHEeWF0eJbQdIVK3N2xEFJppl3BuWBYU8N1x3YQLVYBQ4e3gjBXrCQNnQ2r03T32sNCCCGEEGdOQmAhhBBCiK6mR3+MXWlzNqrUp7uxsC/uuYrSQgBoYETOYogdwLAmT+uM6tjzpdkQWFFQ1c75AGKL+6+7psCKYl1B6cnvE52jpXcNESPnnRBCXKgkBBZCCCGEEOeP0nBDVRQUVakPdOOX6dBoRjmPHdEUMKzq1e4UAhuGQdQwkl7A6LQqYFoL7bprCiw6RTf5WexsPfoapRBCXOAkBBZCCCGEEOeVglkpqqrnKIRRlGbbCJyDF6+/FTUMlG4SBBvQ7ERsnVUFDC3ndhJWifZocvFJCCGE6GZkYjghhBBCiK6mh+UQqqqcuwDYoqi2c/p6MUZcallfPXuBM6DZ7VAUpdOqgONfI5lYX+Dup4e9QZwzsl+FEEJ0bxICCyGEEEJ0OT0njFAUBeV8tGewnY8QWCHaaFuj0SiR8zhRXUcwDAOjmW2wdWIVcEyzldRmeXKnv/65pkjn2k6g0JPed4UQQvRMEgILIYQQQojzQgHUdkwE17EvrqKc4yA42syGXuhBcLSZsZsBf+cf3OYi0e5aByxhZcdTJFoXQgjRA0gILIQQQgjR1Zzj1gjny3mvvbNp53QyqMZVwAmPXaBBcDQabbYX8LmoAoZW+gKfkxGcYz3j7eHc6wa9uYUQQoiWSAgshBBCCCHOm/M6KZqioGi9z0n4E1XUVl/nQguCDcNodrznqgo49lrN6pbtIFQkCe5oUgkshBCi+5MQWAghhBCiq+kxWUQX2FBFRdH6mK0hOiO0VBQUm4ZN642qtjEIjkSara7tKloKgAFzW8+hZltCdO3dKLoI80JCF3g/EkIIITpRr/M9ACGEEEII0YiimHlEdw+wukruoijQqzdKNApG1EwODcPsKRtLEY36/2t9XShm+Kuq1gR05kbaFAXVMIgahjmZWjMJZdSaaE1VVdQu+BH1WADcUlB9rketKMkD3+7bF1gFLpyq8a7N7E4uhBBCdHcSAgshhBBCdDVdMPjrFIrStbZVVYkPgxTDgFgQXB8GtxAqxranhdYPiqJgUxQMwyAaNYgayYM8wzDMimArCD6vbTPiRA2jxT7A9c7xeJXmU+BuJxo1MAzrXFUkCD5bMimcEEKInkJCYCGEEEKILkZRle6YXTXV1XOX+qrezli1gs2moESprwxOJhqNYlghcP1Xxw8nQax6Nv6VDKuCORofiLe0jmjUrIQ+R5oLyQ3MfdtVQvSzYVaIW8cAABuKhMAdQmlh0kbRVI/4/SSEEN2QhMBCCCGEEF1NNwisWqXQM7azFaqqosQC1mZ67Na3jrAC4PgwuD3hZtLWCEbDY1HDrPCNLWVG4A09O9rTpzhqGGC1tDgXWtoPBl3/ekNL6gP4qFWZXk8BQwFFIrkzp1gB8IV8hpxbXb1fuRBCiOZJCCyEEEII0dXEAtLu/Md2F2pxcL7FWkQoimJOttbccbcC2vhAOG4lSWMsM9SNNtt2AmKxYqwHcsJKG9aZ5FgpSb6rD40NgwgQjUTqQ+vO72/cTCNta39daAysSvCo0UJv457QPLzzmGer7XwPQwghhDgnJAQWQgghhOiKVAWi3TzcUS+8YK4zqYoCqtq2nrtGo1iw0fdW9IvRQvjburh1JhlPyyNUUA2zR7JqmD2SDUXB1omVwYoCQe8vWfj8gYT7p837PbPHdNrLdopo1Jx8TwLezqZIKwghhBA9hvzGE0IIIUT3FCpj2ezZzJ49m2Wvhs73aNrP1s3/mdbVJoXrIlQrKD3TKukoUU4bp4l8+hYvLPgJ+XfN4eFnd/PxGayrbuuvmHNXPnP+7Wk2va+389lmCB01Ipw2dCLR00Sikbh+th1PURRSrv8ZT/3i3/muJ3EsF4qoYXD6dIRINMJZjfuDMpbn38Odd8/l1/93hPYevZ5CUWxIKwghhBA9RTf/60IIIYQQPVWoaic+67Zv5z+40GJgpVc3/meaglkFLNlLUsoZBMFm+KsTNazw8L3dbK3TAZ0j2zbxZl2yJ+mEPznCkQ+SRYR17NmxDx3QP9lD8SvVZ7YxFoMoEeM0p6OnW2htcHYURQFVwz5wGMP6x79212cYBpFIhEgk0sb9o6CqKqqaPMSsq3qdvZ8D+mdUvbAVf0cPuFtQUBT5YGx7decuRUII0d11478uhBBCCNFzhfjHTh/28el4APZs441kIVhXpijduhpY6cbb1hEUxQz5WguCDQwixmkr/I0zeCxTUzRAY8D4qYxOafREXxH5d89h7r89zLP/THaJJIXRE0eiAdrFQ5k5cehZbE2DSPQ0ekTvlIrglqaG66qTWRmG2fbhdCTaxn2ioCoqvWw2bKqKqmioSapZU8aMZ1QfQLuIYd8dj7szBn+BU5VeJO+kLYQQQnRPculTCCGEEN1P3Rts22Mn88FcUj6swHfAT/nuIFk3OM/3yNqnlwqRs+np2kWp3Tvg7iiq1TIjAknL76L1E74lCQ/tI8lduorc5lYeab1BQMrU+1g1tR0DbqNINAKGYoWYZ976ognFmpTuAqj9NQwwDDP4bVtAbU6sp6hNJ9hTFQ0MiBLXQuKKTOavyezwcXcXCiqqVAGfka7/0yWEEKI58q9vIYQQ7dJFi6mESBDcXY5fm8iYYU486S4A/FsrCJzncbWX0kvtfpOnKZgBcDfbrM6iqmrSf7C3GAC3Qd0HtWc1rrMVNaJxk591DIXm20x3lUpgg9ikbxEibZkAkIb2IDab2iQAtpZAUTXpb9tGCgqqqiH76sx0lZ8lIYQQ7SeXP4UQQgjRzQSo2OpHm5yDxwaMycC5oZjg4W1U1mbjGngGqzxRQ9mLRfx5136CJ3RAwzHEQ+aNuWRPcGFP8pTg7mIKN5bhezdkTsrU10HqqIlMnzmDzCFxz9hTyOwnvA3fT1tAwWxrVitFYe+Gf2HZ1rgVD7mVJ+ZfjxPgw1f4xeIX6vt9TrjzGfK/ohE++ArP/teL7Dyqo/Ufz5333MWEWBF0tI69216iZMub+D8MowPaxSm4075J7oyvkXpx020JH3yNoj+9RMW7dYT11pdvSfjgdjZsfIk3/EHCOqDZcbrTmPKNHGaMja/UDuJ9ZD6FB6xvx+Szel4G9hMByjcVUbrVR01IB82Oa1wO+bOySO3XvrHQeF2A1s/J8C9N4cabs0nrryUuHwlTs6OE4s0V7D9sjR8Ne4qL4ZNyyJuZhtOWZJsPl1P6Yille2sInbTu7OvAOcTDlKlZeBzv49u5i/JdPjz5c+GJZcSdEYy5+zfcO/5zDmx/mb+8spO33zPPKc0xkvG33Ere+AENC/uKyF8Zf8IAU+9jzayRwD6KH9pEr+/n8tW47LX6hYfIf8G8PfTWeYz/+wqKEloADyV36f1MTalj6y8favRY/OMAyZeZOncNubHJ2j45xPa/bmTr6/s4GGr083SdC3uSfUgkiG/Ln/nzy2+wvy6c+DN1UzaZwxyAGZgmC6ma3Ffnw/vnP/Py7v0ErTHYU4Zz3XdyyZ2YmnwMSd4HzGOfTe4NGbgan3/NLD8s4xv8IOurDGzlZ0dRrOrfD99m819aHquCgqr04gPvUu5/7kDCeob9cAn/ntW4H0hPZfYBVkh2gIUQQojuTfn00097xKW8aDTKiRMneOedd7hlzlyOVO1q1/MHjBnHlqJCLr/8cnr37t1xH1sTogXRqMHn+ukOrZK5EPWyqfTtrbW+4HkQNQxO6p0723lXo6kqfTT540l0YbWlPLCwGM/P1pI3GsBP0U+XUHoCXLc8xmPfdLVrdeE9hSx+0svxkTOYe/sMPFYwGDrg5dmnC9l/7QKWzvY0BMGREBXrFrFqO6TPupfbp7lx2EA/WknR06vwHgT3rMdYFNeaQq/1U/rcEor3kBgCA5w+xaeHq6n4v/9k/fa6xBAYzMm93izg//3+dZzf/g+euOY1fr5tGHPz7JTMWclmQJs6l//8/jUQrWPzkz+n8MOx3HHPD5gy6BJzHZ/XsvP5Zazxf5UFi281e4lagq+u5N+L3sY+/i4eum08Tg1C777Eql//L/4vXM+Ch25l1EVt2pPUlD7FL/5yCNcNc5hzSxpODQj58RY8ReGuEI5pjfYlAD4KZy/DSwZ3zLuUzX/Uyb5jBhlXOyASwvfiCla+VIN+WTaLlufibuPbU/idIpY+XkqN7kg8TiE/3rUrKKrS8cx+jAXTrD0dCeJd+gCF7+hoI3JY+NMZuB2AHqT890tYsz0El6WTv3AOGXGTkgW3LOOBAh86DrL+bQl5Y81x+//yFEv/6DfDzIFpZKXqVL4bJOOu5eSMiN9uYHQGk4/4+fTr/8IPrx9GPz6i6r8f4emtHwMao+98lJ9mXFL/mnroENWvvsiv/nefeUd9CNzgyMuP8vCLhwAYeusvuH96XEgY1Tny3utsWlvI9g8gIeTV69iz4Wme3nrEXPaamTz4L1lc5Yj7Pf35EXZveJrfbquDi8eTN+97jL/yEjQVwu+V8vSyjVTrGsNuWcz8LBd9jSNsefpRCqvCaKPzeGxuVmKYfrScVUvXUHFMIzX+3DkZoHLDKlZuCeK8YS6PzPLQNxolEo3y9nN3svwV8+nXz1vHLI9Cr17mSsN7Cln4hJcQDrIXriB3lIZ+uJSlDxfh10EbkcdjCxuNoc7LkoWF+HU7GXc/wp0TnGi2hveBirCHvEcWkNW/6fIT7v4PfjQ+BZtiEKrezH//5r95MzyKHz48n+uvaHpumpWqCoqi8Nlbz7VrrAYGp95/mx1/W8t/lZmN0CUEjjGDcrMNhPwtd6bCp073qH/3qopCX83WTBX++ffZ56eIRHvO8UjGpqr00XqhdrdPTokuyTAMTp06xYcffsi03LwzyhY3rFrJiBEj6NevH6p6bhs0SDsIIYQQ7dKz/5kpLgSB3dsIaOmMqp8JyU36RDNWDGyvbF9LiKNeVjzpJdgvm4Vzc+oDYABHiotLL9YIbSmkLO6T9cEtT7Fqewj7tHzybzCDRQCtfxp58+8kTdPxP7eEorhiPW2gG3eSMAiAXr35wlUjGDXIkfxxVcN+8RfM1353K4VFIWb84Cs4VBeejBQ0NMYMMYPvcMULFB7QGTPztoYAGOCTt/FWhuH4a1TUxK373T/wi6K30V3fYUGeGQADOIZ8kzm3XAPHX2Fl0ZuE27Ar9bc3suwv1ejDcpkzK61+XTjcZP3kXrIvg9CWlWaYmlQ563+vk3t/nhkAA9gceL53O1n9gGNeyve2YSAAoXLWPF5KjU7T41RXyea9YUDH93wxFVblrv/FJRS+owMucu6wAmAAzUnGnfeS3Q84VsGa35YSjM3RdrKC4ud9ZtA74XZyxzaM2/3tW81xA3ziIuOeBSx/PBYAN7KnnANT7uP/TR/GJSpElX6M/s73GG3uWfa88ibx8x5qjqsYObTlkvdeWgsXV1WNAUNHclWySlUthdE33UB9pHwgRLhfo3X1uQT9I3NE9oypTLrKDID5fB8lT26kWgc8udzz9YFoKhiai6x7bicd0PcUsuRFf8O6In6Klq6h4hjQ+Nz5vIZtOwKATnCT+XPYXKGGEffb671dXsyzLIR3135zswZlM+/uDDRAf6eQlX9LfKfw/dUMXemXSdYkMwAGcAx0cSnASR9FGyvQGy9/8RSu/+rl2BSzdYdjwEAcAJ/v5X9K3qRxZ2ZVsdo+WJMCtnesCgp9rrwGz1XNvF/0WBIACyGEEBICCyGEaBfpBSe6tgAVWwNo49NJ69twr3vMRDSAw5upONzWdelUbDSDHPc3pzepMPW/vArvQR0IUPehdWfEx8sb/IDGxHEemsRsjnSmjAMIUfp/FU0CoGbZVBRbG4KLt16h/JppjLsI4BLGzfol//nMM8xJNwPfmpq3zS2LnE58nvYFHH00uPRrpKfG7vyYbX/ZRAgYNe1ruBr9q9Hx5a8xBtArtlLxcWsDq2PbX18hDLgz0mgyPZ/NzZSpTkCncmNZs0G9c+p0PI17b9hScX8JQOe92mBrAwHA/9dnqdQB7GR+LfE4Bat9BGMHRg+j68CJckpessLp/hmkNc5XbW5GXWvdPlDMy7Ew+t29VFjrcrtTE88Hm4OUWPB/QudUiyNOZcqEK62Gt4b5dfHVDIs9v/oQR87lh4YcX2Z8rFhdf509Bxo9/skeXv8ngJ1J1w2tv7vutY1s/cS8PTpjLJfEX1a0p5E+xrwZeqmE8hPW7R3FlB4zb6dNn5h47hzy14f0cJxQ/dWIZoJg6/fX4HFZODXQ+qWRM3V4wxDGpJNu3Q4k9BAPEqixDuRJnVOR+gcI7SzGa41PDx63LogEeT+2/Oen0OOq9EJ//xOvfGQtX3e8/gKKoqj0stmw2RInymv/WM3tVyXorGe2ytDMCfRkv5wV+RegEEJc2CQEFkIIIUT3cWAbpUch/dq0xMDNPcoKTIJs29XGWuATFWzbrgN2hg9tEluSOibTDGdSshkXqzp+r4odOkAqAwc0eQqgkeq2Ft5ZhS+SbJlmqE1uJF1/xpeGNvuoa8BVAOz9y/NsPhhXv3vJeOYse4b/ejSuFcQnb1PxNkAKntRLGq8KLr7ECuTexn+ohSEpwKn3qLJ6xA4e2HRfAriGpZk3jlZQeTT5qjxDkrXy0LBbwXDN0TaEwBEf5Vti256G+8rEh51js0hP0UCzk3ZbLun9QN9bSWVsgf5Os/Kz8fhTYyeBTtk/fE0e188qpB1Oan/zY8kNFa29uKi+UreWumNns/72uoSxGaOt22G2v5nYADj8z9fZA3DFDUyqPx0/Zk9FbLkUhl1tb3RR0Y6jvmNBJXvfBQjyxiuxfenEndroCoA7g5whGqDhmnon2cPA7PmafNSxV7OPzmP52gLWPj2X7EFx7xR9L+XSWHX20Up89fvUiWuotZxeRtELlfXV3o4xsfPFSfr0NPoZBvrpyxgwOLb8q/xPURV11vF3fHk6X0nRQEvhK9ePwYGCTbXRq1H4W79X2j3WZHpuCycFFVXtY1UACyGEED2b/DYUQgjRLlIFIroyf0UZYTJIH9OoBrdvGukToHwnBDdtwz8zF3fyVTQ47MeMn1ykJPlktTYql+VrcxPuC9Xstyr7BuNqpgWns/+VgB94n+BHQHtbdaoq9OkFegQMo9EP5VW4mmsrATjSpjGmuJqq429SuOxNii4eyrhp08jOGEvqJY32WbDGmnDuEux9kqwsTiBYl7ghsSxLVVF62+BgtbUv3c2E44AzhVSghhrqgkD/potorZQv6G0J1T8K8F59CfYXsPdt9HhKBnNWZCTcFaiNa0+Q4kg6EWDCOKoDBPHgHDKKdM1LuQ411TXoOBsuTkRC1H1g3R59NVc2s654Zh1w13gXtn9lEuPX7eF1IFy+m+rvD2WoChBmz+t7ABgwZSwNh7uWI/tjty/hoj4QO3mTfcLk/aNBIEhtfZWxo+mx6utmxsNrmRF/n2JWfiZjGAZNEmI9RM2eN6jYuYvyt/YTPBH3WFxw75k6A9emYgLo1Gxayfytdtzjssn6Vib5j6+ll2oQiRpEIuZJeE3mtxm4+U/UonNw869ZuM3OsK98g2k3TuZfHluDpirYVKV9vQDbONbGFKU3NqUPUUO3zp+ucQ51FvP4m9W/itJzA/DOIJ8GE0KIC5uEwEIIIYToHiJ+Kl4NA+Ws+nF588udKKPiQC7uYa2tj7a3a7CcaksIqZ79RJeKZkPpZcM4HYFINO4Tzqm4kpWpxlwynrkPX0TRb9fw8kEd/ZNqdpZUs7MEtKu/Rt6t32PK1VbE+flpK9CupnDx3RS2OKDYl2L+V1VReqlgswKutuxLm9a0fUZnOFKLv/WlEhw/3rY2E030TSdnloeK3/vQdz7LurGp5E9wmhPabVhH6QlAc5N3eyZt6eCqKAqxhhDnXZ/RjM3QeL1ch0+2s/u9HIYOJa4VxAAmXdtc4l9N0cJ8ilp7jboA753J2JqrBI4PsI75KN1QSPHOAPRzM3HmDObclsf+Xz9AYeP2FgCDZrBoYZilK8xe0uhh/DuL8e8shj4uvppzNz+8/irssUz3ym/zwM/CLH/ybxy0lj/w9z9x4O9/gj4uJnz/x8yeNrjVCwpnNNZku0SxYVNsGMZpokaEWFuRrnJR4Ww0hP4KiqKiYJPwt7Nc+KeLEEL0aBICCyGEaLdkxVRCnHcHKig7YSd78WpykwW8ER+FP16GVw9T9nc/ucNarQU+C7pZldqZOYRihsFoNuitNtyp2cwfUoj7gz3uL/fLx5D7wG/ICR6gfNcrlL/yJns/1tEPvsb6Zf+k5r7HyBuhxQVp17Ng9W2MSviZV4jLXUBRUFTFfGNQ1Rbabuptq9btTDbMCbXa8ZRLL3UCZxYEO6cuYMVVJaxbXkz56vmUr7Ye6OsgdewMcmblkNbWanAllrZ3BRpjMyahlW9Ft1pC5Awd2tAKYuhUxjaXATOaO578KeMvhl6KGf3bVLVpVewZtrhodg9ZPwbhd4pYak0M6Jg0hyV3plsTAwbZ39xzAfuoXB757XR8WzZTutlLVW2s72+Avz//MG/XzmfJrFH1wa79mh+w+DfTePuVLfztlS38M275nc/9nL2BBSyd7WkxCD7TsTZHUXphU3phEMUwoihErXA89h4Ri4W7UtoXX9utJPzXbKGholgBcNf5+eieDBp+vQghhLjwSAgshBCi3QyMZj9uK8T54q8oI9wvk/TmKnxtHsZN1vBu0QnvqMB/i7vJZG8JLnVgRn811AZpU9uGtrR6CNZatY1a8y0jktHDoeYfrL8qY7aKUCBJEBzHMOg9aCSZg0aSORP0D3aybtlvKf8oxGZvJd/78gTsfVUrLD1E4EQvPM5GP/Oxyt+2aEOrh4YKXTcDk7X+7Sj9B5IK1mu1Lax3DnRTHwLXhQhDi8GdNtRVP4FZeE8hS5708um4O3jktkxS21Ly24yuFAEDcM14pl68lU2fQPi13VR/bwB1ViuIkZlfaXr616fvYcIngYsbfp8kzZUuczFYA78O7bqA0Mx5aWDASR/FT1nVvFoW+fWhagtOBih9ZgnFVTqXfmMuj+b+gH+d9n1OHfez84/P8fxrB9GB0Cu/4S8TV/GDK2v5v9W/5E//1HF8/V95NPcWvnTDrUROHGDHH56l8NUac/ktqyj5WjMXreDMxtpGCqoVmgKKVRFsNK4ONuKqp+OPUHz98Jkkgo0jXaXJYw39keOqfGO3ldjtLvXT0CN0h8pxIYToyWRiOCGEEO0mVSCiy7Em+7JPTm+x169nXKbZcuBEGRWtfYx6kIf0fgA6vnfbOJnciDFkaAB+/NXJa02DR2sA0CaPwxN3v3NAqnlDT/Y8nUCgnZWoSqwy1/o6uZfCn/0Ls+/+GSUHrVYN1pc2cCL5/zrDDC7DYT61qTDMY02m58dfE2lYT+yrPR8H6J9GxiDzZuWB5Psy9IEVjg/LIO2y9m1qu1zmIX1Q7Js32NuGfgPayFENx+pokONJlgnUxJpMaGReG1vaT8kaL0EdPKOvPasAGGIf4O9C1KGMzbDi8E+2s/vNWCuI0UxKazyZ4FBGjo3drqbaasxcX3ca/4ulPuwdzqjxsSYhNez1x01m2IKWzkyjuoKyWC/dqwfijA9VT9bgT/K+ENqxjqKqMDo6Qf/7HIua1bOaYxiTf/RzHrgpFneH0U9CaMfv+Z9/msvXHTjKxzYbqqqgOdxk3vUIi2Y6G5b/rIXBvrur3WM9M4oVCttQlF6oimZ99camml9q/Zd1v9Ibm6JhU3qjJnxpH9HMIwAAIABJREFUzXw1LGM+z/xSFWudqla/fpvaO+45sef3ssZnQ0Eqfs8X+fefEEJc2CQEFkII0S5N5qESogvQ/7GNMt1OZnorLR7co0jXAMKUVbTWGdbN9JvdaEDgpZepTJo/hfE9vwZv7GPefdPJusFM+iperaBJ7e5JH7t26oCb3G95Eh5yXjncDKjfqaFJTHrUS+nOVobbmupdeOt00E+12ArBMXq4GQb3TWOKtS3lL3sJJqvCjISp3OSlptVszsXEb6ahAcGt2/A3WVeQN17zA3aybs6sr6LtHA1jgTBlr/mS7o/A35Yw/3cVhCKAYyI3WfuCo+VU1jZaOOJn7z+s24NmMH1U7AE7DutpFWvvZfbs2U2+7vrpfJb9vqwN+xAwjC43MdPQ6yZZVdFhtj9bZLaCGD+JsRc3XlJj9JSpxKLh3dt383Hco+bHzA2Cm5Zwz0ovgYj5nPTpWfX9kis370jalCNcVcj8R0sS9mFibamBgoFKFCJGw/FudMElWFZKQzfxhsrj+F0+8MvXNKlwtttjdeEDcX4x8TFXmofGczXavxBb3kXK5dY27CnigR/PZvaPF1NywBpXfC/tNo6145kVtwqq9WVrCGOVXlZoHP/VXAjcsIyS8GUz14mt/jW6YM27sCS2DhFCCHGhkRBYCCFEu3W1EEL0YBGd4MFKSl6uQGcw9lM1hJpLOCM6wQ90eltVpuEtL1C8u4XlAWdmPneOc8CJMlY9VkhlLOyN6IQOllP08DzWRzOYeEXDlGbu7y0ib4SGXrWOFRt89evXQ368v1uD94SD9LvzyWqcJI3KIOsy4GgJ6zb6zfAxohPcU8yyX/nJui0z+SBPBvDXV9cG8O/2EziRZKPc48z1a074NNAQGkV0Qge8rHq6lONXZ3PvjVZFMhqem+8l+2oNDhSx5Bkv/lCj7V8yj+Jjg3G2YXYrx6R85k5zwLFSnnqmjJqTDeOvfG4VRQc0Ur85j5zRcdPDRXQCB/z1oXjggJ/AycT16rV+/B9Y33zgx18bbjUQc0zKZ+4NTjQgvGUlK1+y9jeg1/oofWY+i5+vwW6PjUXDc6t5XCFA8foS/LGEXw9Svu4pc5K3y9LJv3cGrvqKTRfZ9y8id7Kr2fYR+okgvq3rWfIrb0PAqYeo2V0VNymaeYzN7TIgqvPxoWoOfRJ7/AjVu6s58nns6YfYVx2XVH9QTfWRMHq0mTHopxPviOocqd4Xt/6PObT/EHWfJ3ny0EncYKWc4U/CgMb49NFJJ/nTrsnl/luHml0h/lnIqhf38XHU/H2iH/dTtvbnPPBcDV+wf6Hh+cNyWTTbY35/oIhla8sJ1v9M1VD+/GLuXeHlVD9rD58+yWeBt6n+oOF1a6vf4vDHn6Eqp1G++EXqu40cLOXlyhCc/oxg+WqWvebmjpmxC0k17K/+lEgkyheu+y7XW+Fu3Vu7OFB/7MPUVv43v/njQcDBV+66jxuvVLl80vfMnzUguKci7lwJE9hdyKo/1AAO0u+eS/ZAgADeZ0vNc/tkDcX/W2FOynh5SuJYq8Lme8LONSx7bXjCWP3vNiTgeq0f3+GGS1Chw35q6to7zaUQTcm//oQQ4sKmfPrppz3ivTwajXLixAneeecdbpkzlyNVu9r1/AFjxrGlqJDLL7+c3r17x/WpEqLzRKMGn+uniUSb+auth+hlU+nb+5zMGd9uUcPgpB4h2oNCUQXQetnobZPriOL88xXMZtmWxvdmsaAgD0+blgWG5bF8cVaL1afB3cUUbixn/+EgYR1zUq9RE5k+cwaZQ5LEe5EwNTtKKN68A9+7IbOar6+D1FGZLU8EdqyS4meL8O4JENY17CnDue7Gm7hpmgfnR16WzCukvn552gIKvhVIvC+Oe9ZyFt3QaKsiQSpLi3l5m4/9R61xaXacg4aTcWMu2de5sDfuOZpkW7R+TlzuDHJunUFa//a9Pwd3l1D8t21U+q19qdlxuq/jpltyG+3LIN5H5lPY5CPvccd3TyGzn/C2bduTjWWPlz//5WXeiI0FDUd/F4OvncKNX8/C0/g41e+LioZzAfM4pV1/IznZaQkf2Q/vKWTxk16COMm8ay5517nQ4h7X6/x4C1ZQVBUG3OStWERWio/C2ctoulXA9ffz2x8OI7h5GQ+9UJ1kgaHk3nk1Reu2Jt3eobf+gvunWxv1wVZ+9R9F7EsIdqdy39osan/5EEXJVs9U7luby8hG9x55+WEefvGI+Y02nh8/eQdj+yQdAgDh97ZT+uet/P3tQ3z8OZj7cCDur0whO2sqniTnVPhwOaUvllK2t4bQydhzLmWwewpTbsoiY9BFED1FcNNS5j+fdPBkzVtN3pcg/HYpa/57E773P0NHwzF4JJnfyCH7uoHYD5Uy/5cb64NmGMYPl/07119Wxz9f/iN/K/snB+rCVoWuhuMKN9dMnkz21yYw+Itqw98IsZ+1VyrZH798/+F4pkwhe3JGXHuQACX3P0DxUevbEXk89aBZAR3eW8Ka50rxHQ6bYx3iITP2s3qwhPmPFseN1c13vwt/+lPyTzlk/ayAvNHNHxchWnNSj3C6h/1doioKfTUbahf9+/+zz08Rifacv0OSsakqfbReqGrXPEaiezEMg1OnTvHhhx8yLTfvjLLFDatWMmLECPr169d0UtxOJiFwG0kILM4HCYFNEgJ3LQrQS1Xpo3XQ7DRCCNEtBSh98AGKDoP9G4tYfVszrUrqg+xYCNz8GiPRKHpEx6D7/LtAQcWmWL9PFAWbqrY/bDGiED3Z+nLtEEUhYrT+bw8FBdV2BmNuJLhzFcvWVhC0pTJj3kJyRrShvF6Ic+wzPdLj/i6RELjrkxBYnEsXegjc65y+mhBCiAuedIMTQoi2OE7d4daXCn9iTTPXbziDWwiAoQe04jEMotEoiqq2veDCiEI0WZ+KsxPrIRxtpnuegoKqKh32x5tzwhyWT+iQVQnRKQyQmeGEEOICJ5/lFUII0W6GYcjfAUII0aLhjLMmkwtvWcP6V2sIxherngxSs7OQpWsrQEsl+94ZtDStYWzitO4+X5ZhGJyORolEo+bvmlafoNMZlybNqcmaVjwqKKiKis1mO+fVO0KcT93+IpQQQvQAUgkshBCi3cxqYAOlu6cRQghxxjQ8s55i+bVeNnu3UfGHJZStjZucq68D58DBpN8yl/wJabj6tby2HhXAGAZRwyCqmL9lYlXBCkBchbBCFMXovI+mK4qBYpi/7UBBVczqX2kLJ3oiw5BPggkhxIVOQmAhhBBnxDDo9hVpQghxtpyjs8gdnUXuWa4nFgIrKD0niLEqgZsLwBUlis2KaDuDgoGiRFHohXImvYqF6EZ61IUoIYTopuQzTEIIIdrNMOhRk+EJIcT5JgFMEoZZoduZVIUzm6xOiG7GvCBzvkchhBDibEgILIQQ4gwYEkgIIcQ5JO+4TZ2LfaKgyKdehCB2IUreiYQQ4kImIbAQQoh2M4Co9IYTQohzTnqxN5A9IcS5Iz2BhRDiwichsBBCiDNiGFINLIQQ54K81zZHKhOFOBckABZCiO5BJoYTQghxRmLVwKqUYgkhxDnUvd50k7baVcx6ZyXJg7FA3JybVGIpIc6FqFz4F0KIbkFCYCGEEGekoRK4ewUSQgjR5TQJQxW6T11e4rapqopNbeOHFaORzt8NSudPPidEV2dgdJt3HCGE6MmkHYQQQogzYlYCyx8FQgjR2ZJFwN1RuwJgIcQ5YxjSlkYIIboD+VeWEEKIMxaNyscDhRDi3Ot+MbCiKKhJe0O0+KTOGUzii5yD1xCi65KL/kII0X1IOwghhBBnLGqYfxi0+w93IXqEIN5H5lN4wPwu62cF5I1OtpyPwtnL8ALgJm/FIrJSztkgxVnyFcxm2ZbYd1ksKMjD0wmvE2sAocR/c774ishfubX+26lz15Db4kZ/zOu/eZD1bw1g5rz7yR6qUbf5cR56odp6fBiznniIG65QCG5awvzn/Nb9rf08qGYQ3GkXI7vJ77Y9hcx+wlv/bfPvRUI0ZRgG0ahEwEII0R1ICCyEEOKMGRhEo8jnSkSjICyR5vAw8fu55E5OxX5uh3WeOcl6cC3DS5ew+A81LSznIW/taty/v4c12ztxOI2CoJisnxWQN8DLknmF+JM8DUDr58IzLZc7Z6bhsJn3NT3mTnIeXc6MQU2fH9g4nwf+GGz6uk2CqPhAPOlIcAzxkDkzj5yxzmaXOpc8s9ayfOga5q+t6NTXURSl/pMXSidOiRZ+bzvFL27k9bc/Rgc0x1WMnDyelMpitg67jzWzRoInl1VPDaXw3vW83qa11lL9pg4c4qW/V5M9dCQp19/Hyitf4pfLS6mjYRI457SFrB5UwuKlJQRbXCegqGC0lIjX4X10Uf2FGADXd3/OYzcNiFukjCX3FyWc++7blrAoK8WqNG7bL7jQQR/vBXrjmuCma5yZcUbnsXa1m3X3rKH8fI9FXHDMC/7nexRCCCE6gvzZLoQQ4qxEjChRaQnR43lmF1CwNJdUgGkLKCgoML/WL2fOuOOUrV3Mwud86Od7oOeaTcPeR2t9Oc2Oo08nj2V0HmtXP9YQvI7O47Gn15rfp2SxqGA5uVdbj8Udw7WP55OuBajcuJJFz/kIW4t4Zq1l+V3pcS8QpHJvstguiK8yiKZZ+6F/FnNXrG2mEtFDXkEBy2e5re+zWBA7lwoKWLt0DtdFfJQ8OZ+7nvASjJzVHukYNg3nFy/t9Jc5F5+40N8u4uFfFLL96DXk/XIVa9auYdXSOxm5r4SthxKX1eyOdlzUuZyrPBr0GcDUsUPNu1QNe4oDR2yR2PbZNOzOuPtbpIBia+HxFLLuX8mCbzWUEgf+VEjpB/GLZLLw6Z+T9yWAkeQ9+pQZANevvy373UfJomWsXF3eenB9nmh2B18434MQFyTDkGnhhBCiu5AQWAghxFkx+wKf71GILkHTaBJ32pykzZpDziAIbSqmrO58DEzEaHYXriusb65w4eqXeMS0JHm11j+DO2dloAGhLcXsOGY9EBd+usekYQf8Vf76kLheXSXlB5ykj0s1v794IK6UNgTjycY/MI28B+aQ2Q/0PYUsebG52uXuR1EaAknlDNsU1G19mrn3zOGhDfuSXJAJs/tvW/kYuOrrMxh/hXWMtAHckJ/LyDMdOAApTJq7ijXPPEzONfHHXmn03zOg9DIrgpujXYTTcYl5U9OAaorXlSWEtZp9gPVzMQDXQGt8SixgbsPY6gK8d2aj7zTBLSu55667mP98D7z4JjqMYUBEyoCFEKLbkHYQQgghzooBRKJRbGpL1ViiR7O58IyxU3zYj79aJytFg0iYmi3Psu7PFdSEdNDsON2Z5N2VS1oKNO6nm9gbNEz5intYQz6r52WY1Yh1ie0M6lsNREJUblxH0RYfgRN6krYGce0HJs+l4EfD8W1cysqNNZCSSf7iO0h3tGU9pvC7Xp5dW0zF4TC6Zsc9LZ+cy9u3u/RDZaz5VVH9Olyjs8i9PYe0y5q2YEi9bTmPfMP88HnCY9MWUDC74zrTaqluUik39280yQKjxzBxbyXeqkp8JzNI79vwUHhfFf5+6WS591O+swMGY0/jppluyp7zE9rkpWKmu+H1wjWUbSiieKeP0EmgrwPPhBxyb8kk1U6jfrPQ0MO3+fMtVFXMug1efIfD6GjYB3nIuuVOcsa0rVY18fkNrTXyZqbhtJHYpqNfNoseGUXF79bh3RtCR8MxJJ0Zs28na4gdm6IQsa66ffzPjTz7Yhn73rfGdeVIMr93OzO/bAae8T137Tfez8qv7Obx5/YQBsKbNrH7WyMZf3H8SMOEPzVvffb56cSNcAzk6othXyvbmtjnFxiayy++c4SH6vsHDyV36f1MtQpt2x39Jjm+qaMyyZn1XdK++DmtNUrOzMsjWLieyv3FFO4Yy9yJl7SwtA2UXq0cfx8lzwRIu1G3glYvy2abx3LSdDfbNyc71yC8fSX3/K4SbdoC1s720NL7XfjdMoo2FLNjb8h8jdg5/b1MUvuZS8ef1/ZvLmJ1egVLCirNY/23l6m4yUNGv6Zb2OTnYVgeyxdndb12FuK8MTDk015CCNGNSCWwEEKIs3ZaqoFFu+j4XljI4g1B0u97yvyo/68WMiXiZeXCJXiPAjjJun8BM/oDZJC/emHD5FAnfVRWAVXlVJ6w7kvJYuHT+WSgkXH3U1argRDlT85j5atOch9dS0FBAU/Ny+DTl1ay6IVYdZzZfmDuJKAmQOWWdewasZBFMx3oIR+BY21dD3C4hCUPF1LzpTmsWF9AwW+fIj+1nDUt9gNuzE/RswfJuH81awsKKFh6O6k1JaxcUoQ/YrZgeOQWs1WCZ9ZjLMpqiGs8s5aTNwpcMxexdlbHTk0W9u81A+DLhjP4i0kWUD2MGgdQwd6E4twwlTsr0a4bgzvJ086Uc1SaGVTp5VS9E3spH4UPLmb99lNkLVxNQUEBqxdmcmrrehY/WIjvpNlvdtFMl7m8PYu5v41N4hZ3vmlp3PG4eb4FNy1h3ooS3ku9ncfWF1Cw/jFuH7SfkhXzWLKl9Q/+B7eYz/fZZ/DIWrOlxWOzUnlv40oeWGq1sxidx9rV+WQAnPCydHEJ9luWsraggNUPZ+N8t5zCR1fgrQNVNf/pXrf5MR78dSkHr87l579bw5rf/ZzcK6sp/fWDPL7VLLdPuf4+Vs7PJgUIH6vl9Ve2woABVguHfVQfbjxaO3arX0DdX9dRVBlftn8Vmfk/5aeZA1vc3pTr88n7MqANZea//4KVP5tKiieXVb8420pigBDlq5ewfuspsheZP4cFv87Hc6iElQt/R4Xet+WKYIAvXkde7lA0dCoLXqSiSdm6RbGB2rsNx9/DjJ9kkfppLeZPeUP7krt/uJAF37Z+Pi/LZkH9uabjq6o0b71RZV24cpL1wGryJwG4mLHYPP/0vYUsfHg9ZUevY85TBdY5ncWp7etZvLgQnzV+57SFrF44AycQPvY+5Zu9MNBlHWsf/ibHOva8e7ljDKC5yVm8nNUPSAAsEkWiEgILIUR3IiGwEEKIsxY1DCLRZOWBQgAE2F8VBjyMGqlBrZfCTSGcN93JjCFWV9F+qcy4IweX7qdoQ7nZUqCvh4xJTsBP8FjcR8j9ezGn4Kqkcm/DB521UBC/lsmUCVaF5p4S1lVBxqxc0qy77ENmcOsNdkKbXqbiRMMqtT7AwRLWHc0gd7Sd1JufomDtcmYMaet6wpRvKCagZZF3i8esDrZpOCfdSs7I9n0YO+PWhtchJYPbb0mHY6WU7AyDTSN1WjYZGvj+sZ9wfAG+XoN/r5vpU9xoHViYrx8uY92GCtBSyb5nBu6k69bwjEkDdHa8FZcCn/RRWaWROa5jQ2kcTqwol/ePmmFsYGsh3mOgTc6pP6/sQ2aQPQE45qX41SDYNNzTbzTDuLCPwEfxGxqi5ihok28ks78GJyso3uBHx82MmzPMql2bk4ybsnGi43/+ZXwt9SQ+WUHx8350nMyYnY3LOoWdE2aQ1R/0d4oo/od5bjT0a9XhuiTj1/0U/dUHgE3fzf/+4QA6Q/nmzPGkqICawvhv3UAKOtUbvOyLUt9z9xKA9zbxUt0M7r93KgM0oM94Rg9pPGA742/KJkUD9ENsXfUQc/7tcYpfP0I4qpFyzWhGX9VS5WyYfRsep+jtocxc8FOyh6Zgr+8oMZBk8bHSnj7HJ3yUV+kwKJ20QdaKa/1UhEBzOLlUU0DtA2pvMwxWFBrXGhtASuaPyB2ugf4G64r2WO1L4tpSqL3N9bTn+KtJ2pvYNDwZU8xQ9djxuDYp+9m7K7ZNFfhiAa12nKAf6J9BxjANCOB9zkuIxPcE+5BssscBx7wUbg3Uv1Z9H+V3X6YkmMOi+6ab51zfiYxpcqwBwvheWELhXjc5D85jxjBn/fESAmKtIOTfdkII0Z1ICCyEEKJD6PKHgkgmEsK/cR3FhzXcs+4g0wHBPRUEgLRhrsRlBw4nrR/ouyrxnTTvco1Ox95owjH/Wzu4dHImHqBi7/76+4N7KwmOG8VwK6T0/aMMHQ9pIxKTDcdlLqASf5MC3TCeEWlN+hq3aT2R/eytAoYM5MqEkNSBZ0xqKzspnhv30MTXsbtH4QYqq6yq477pzLjZBXteZkdtw3J6VQXlo6dwXQpnb8syZs+ezezZs7nrwfVUnHSRcXMu04c1PxWYfaRZ7Rve5SMQG9NbFVSQzqiOLAMG6OdoVLEYxFdhvmrqVVfG3a9ht4bsr7FG5biWCaMBAmzbHahfMlxVTiV2sjKswNq/l3Id0Abjit+nfe1m2Kbvp6alHtfv7qVCB/CQmpCAunB/CUCnfLevydM87sEJ4091mzsvVjWqHnibv+uAlsrA+HH1ucgMfPUDHGw8rg+OkDJlEilXTOX+Z1axalUeo5NNRDh0Jr/4+R1MGmyeg/on1Wz63cPMnfMoxZUtN/Su2/w0T2+DSXN+SvbgtkwZp6C2p7ux3YFTAw6XsrnKilSHzGD52gLWrsixLk4oZo9gta8VCGugaPUdTAxsRJX+XH/HdxgGhF/7PUV7dGs5gF7m8+Hsjz/AIA/p/SChQv6wn0pdQ+urkTCZ4jEflUfBPs5jXuA45qPiMEAqqanx7wkN50SgvLLpRHRHAzinZuLsn8Wi365l7W/uIK1v44UguGkFK7dC5r/Na7gYJ0Qc8wL/+R6FEEKIjiQ9gYUQQnSISNQgEjWwqZ0/g73o4rYsY3Zc31rN4WHiXYvInWzGdsGAH0glpcnnjh2kXAGcCHL8E6AvMCydzH6llFb5Cd/gxE4A3y5I//FNpATK8L1RhX+2Bzdh/FV+MibHQtwQgRodqGTNT2ezpk0DbxrAtnk9HwV5H2CQiyadYpNVCbZHiovBgD94nOOAE3BNuhHPhvWUvOIn+zY3EKbi1XLSJt7e9PXPRHxPYT2E/6WnWLphGeWbsljwaB6eZJlRioe0/uA/WomvbgauFNi/pwJ9zJ14+sKnHTGumIjeaLKrILVWP1V/wb3MLkjyHN18joaD6yamsX5PJYEKH8FvunBabSvol036MGuNtdZUX3pDn9dEYfQWiryDh9+zxqg1X5kdCBKEhEDb6Ujcuc6BgwE/nNA5lTCuV/jVXa8kWelnnG4yrqsYGQvw1SQTOMYbMJ68h8aT8/7rbPrjS3grj6B/fohNqx7i71Pv4+FZI2l8+ENvFvH41mp0BuBwtB4oKiioig2brR31KDYPGTc48L4UwrviHsocHtK/PoXsyRmkJj3pVasiGKJW1GxgMwPhK27kR995jYf+t5ay/yphwmN5TZ59tsff5CZ9sp3Sl8LseMtP3mi3ebGKdO6YBevXluP316Df4AS/Hz92stOtKyaBWqtVRAvnz8G6JucPpDLKbR0DW/JjfXxXIUu2+NFx4bhUAmCR3OloFKOVPttCCCEuLBICCyGE6DCnIlEukgniRJsmJWtLgALgJn2indK/lVN5IoOMz31UHptIzmAnzgw3hc9V4DucizvFR2VVGml3xyKPUxCB+MmYzkwb19NaRWBHc2SS840ilmzxUnGzm3S9kvK9GUz5SScEOpoD98w7yXn9AYoOe1n5h3HWZFaNufCMs1P8kp+qfWGyvhig6g0d90w3djo4BK4LYEZ0GoMHOSGuHjJzXoHZ57QF9nFTyNAqKT9QTmVdFll9KimvAufNU5q2u7g6l+VLsrter9Srb+GXP5/OZUZbSvWGcfUVrS3zMYcqDxK67GpGX3UJ9ivHM3POeGZ+cohNv3ucYp/Ox1t/S+lXV5IzPPGZu8truWH6ULZurmbjk8WMXJbD0GbyXQUVVVGxqTbae83QfctSHnEV8eyGHfhDPsr/4KP8D+twTs5n0Y/SEyZpTHzNpgZ+66fkVDxI8WEvazZmcGdzL3qWx9/9pYloL3nNCvlbXNRU+WFMFtddC7sop3LXXvZH0uGdCtAyGTO49XW2bDip/VteomJHgOwb3Hg3+SleUYRneW4zbV5ETxU1zPkehBBCdC/SDkIIIUSHiUajROSPBtGKSy81Q7u6Y40f0Ql/gvnx67jJx9xjJqJZ/X/D+6qomTwOjy02OZj1cWr/XirGZJDWL/YsJ65UgPcInFVA28b1fNHJlQA1gaYfz462pyewjt64z6wVeGqproQgyn39DFx6ORVVOuGqcnyTp5Ce5GPfHcNF6ghrhMm2MTamL01Ew2pd8V4FZSecpI3q+Pg07N9rTsTVL4uMEQBOUq42H4v1CG5R3zTSx2uAn/LdQasVhIvp4xtalDj7W20lrGrL9nIOGmxVYSY5pjEuZ5Nw8b0PQgnfhz6wKlL7O7g0YVwf8pHaq319dVtUy/ZVT/N04ZuJ1zQuvoobfnIH4zWAMAea9JqASfn3kXPLHeQM1+CjTax5fh/NzrmmmCGwekbjtpM6+Q4WPb2WtUsXkDc5FQ2d4KtreOEf7eu9bagD+faPbsQBhF5aR9E7iY+f7fGvN2ocmRpwtBLfUbNtjHuMG3s/N2OGAfoOqt4L4K/S0cY3tLPBNdCaTLGF8+fqlDMKpzN/soDcW/PJHaHBsVKees7X7PESPdPpSBRDJoQTQohuR0JgIYQQHcYATp1uaaYkIcA1JgMH8MYef+IDof3sPUpiEAL1IUrF3koqqypJH2WVIQ5KZ0p/8Ff5qXhrB6lj3AkfUx/sTgP87NqbGKoBhOuCbQ492rQem4cxkzQ44KfmZPwSOjXVTZoPt6CGqncavc6RWmrQSB/dqPxyYBY5kzTKy0rx7tzf0Mu2UwTwv2Xe0gZcyqXNLeYeRTrArr2UVlYQ7peOZ1AHDyUSwPtSJaDhvnm6VcHoZPho8+j7/+Gj8ZEKvl6GP+GAa6RPzEQD/OWbKdlZCYOmkBbfu3fIKNIA2EFVo4CQsJ+y11uJBoeMIl0D8FFTG/9AkBq/OYaMsU2PmX/f/oTUtHMYAAAgAElEQVRWF+8fMs8f19R0s1ds3Lj2+G30ig+Cw9VsrzjLsvTq3exrvAP7DGTgF80xXz2wadNpzQaoKUydY4bFH29dR4mvYYcrSqz3r2L+T1HaHV6H9xTxwI9nc9cTZYQAbaCHrLseYc5kAJ1g6AxizGE55N/gAAIEDjd67GyPf4xtOKOsCw4HN+/lDWIXRpx40l1AGN9rm6k8CunXxvUkv8xD+iCAGmpqEgPugHkC4cpIO6MQWFMBm5Os+/LJ0CC0ZQ3Fe6z9FwnifeIuZt81n6K97QvWRfdgGKBLM2AhhOiWJAQWQgjRoaKGwWn546HnieiEgyEzfAsFCYZbCA+GZJM/zUF4y7MU7bHSJj1I+YZifJqb3JvTE/tY2jyMm6yhv1WK960M0sfEHjXbD1BVSskeFxljE+MQ+4Q88kZo+AqeouSA9TqREDWvrmfJ7yv5NHa9Qg8RNAdOKBim8dDbth6N9Jk5uCnn2WfLCVrrDu0uougdh9kO4ZNw8xV9Fm1yNqmbX6D8qDWIUCWF67wwIpeccY27e2qkT8/CsaeY4nczSR/R8roB9HCAwAfWNx8ECJxoQ8hzMkDlc2soOQpobnJnWscnohP86Lg5zONBc9v6ekgbA+heijcG0a4zJ4tDDxE4au27T2oJ1J1ZuKSH/HifWUrxYXBMm8u8aQ3H3H3THLIuA/YU88LOYOwJ+DetYsnv/kxFoyCNURlk9QMOlFJaBe5YyBrTL4O8WW40wnj/UELNCWuVtZUUPraUwjKfWSEatx/gOMGQ9Tp908m5zY1GkJKCUgLW3cGdxZQeBG1ELjnXJunYuvNZinab+yr8bjHFW3S4LIu8qa6k43r/015oqsbpI29R9MSvKNq2z6zkjeqE60J8DEAttUfC6G16a95H0ZPF7IttR1Tn0PaNvPIBaMNzyLomtmvr6sP22g+OmOu2j+WbM4cCH7N1VREVH0exKRrR2qOYOXiIQG2I01El8T2DEKGg9XrN3B94q4zASdAu/oLVogX02nLK3wIuyyJnQjPdsPUwwePm2mqP1jbaBxqe7+Wb501jbT3+ADZaqPrWSLs2HYAdW7wJF0ZcYzJwAjVbvPhJI21U/PngImtWFg6g/IUiKq2dHX63hJKdJJ4TCfssQKC26XuNHgoSO0sDHwTMx+3pzLjZDYTwPvks5SEdPqqkfI8OepDS1/cjeh49EpFewHFkpgshRHeifPrppz3iHT4ajXLixAneeecdbpkzlyNVu9r1/AFjxrGlqJDLL7+c3r17d+BH74RoXjRq8Ll+mki0ZwdqvWwqfXuf5cRKnSRqGJzUI0TlI3MJVEXhIq0X8lbZc/gKZrNsS+J9WT8rIG90M0+IhPGVrqHwZZ8ZRGp2XKOzyL09h7QkgYy+aw33PFWOPiaf1fMyGip+DxRxzyOlhPvn8NjjMxJDPIBwDWUbiije6SN0ErR+LtJn5nP7tFTsNgAfhbOXkTjtk5u8FYvISmnPeqzF3vXy7NpiKg6H0TU7rnE55N8Izz5caE7y1EK/ZF/BbF52r2buqP0UrV6D950wel8Hngm3knd7Bq6kPTuDlC6az7aMx3jsm022PtGeQmY/0XSCq6yfFZA3wMuSedYYk+nrIHVUJjmzckhLaRhvwjEflsfyxVmwaQnzn/MDGhn3riZ/3HG8j8yn8ECS121yfiQ7HnE0O053GlO+kcOMsUlqIE/U4H1uDcW7AoR10Po5GT7uRm6amYUnyXnlf/4elvwtDHi446kFZCbJEYO7i1j/ey++kDWt3BAPmTfmkj3BhT3Zfmi0baGqYtZt8OI7HDYnpuvnwjMtl7yZaTjrj2nDdmfevQDHq2so3Rsyz6Fmfi6SjWvKN37ADeMHcJFh8P/Zu/8ou8oyT/Tf9333ORXi5RZphDC0y7LpdICMHZhLYgQXoaUTlFkCfZsf4mjCtU1ouydyW2OaHgWdEVqbCdgzyFKUaN8QHSMks4C4GiX4K6wRIXG1lK6gkaYpppshQW6oxc2POnu/z3P/ePc+v+pUpX6dc/Y+5/thFVV16lTVrkqdffb+7ud9nt9873P4D/+t6ZeOd+KjW96HkONq0/9/he3r/hY//D+ux0fP+5/4+//+dBoElzD/jWfh36z+t7jqnWfjf7cA9m/Hhz//w8Yv/Qcfw1cu+AfceFf9sLrfxfvXDeEbWxp/QYs+sBkfxpfTv5P62+/Eh3Fvy9tvvRR45uFt2PnD/RhJA+rS4BCW/MHluH71hTjzZLTwyvi/vbPej7/55KV4IwycC20pjg5/DRvv+hGOtuj9faJ/fwCAfw47//Jv8Ej14kbTPuT4Ptz7p1/AkwBKl95c11P7OWzfcBsefR1A874tdfSffoTt39qJHz87GirE5w1iyduvxvXXXIKh9Gd+pfqYq1f3s7R67F96M7Ze8NOm2xdhzea1iL94G7b/8ym4fOPncP25+Tz+ovZQVRytMASu54zBQMnNsIVN+x0bq/R9KzZnLQZKESyHU1MHqCoqlQpeffVVXHr9mhlli9/6wuexePFinHzyybC2s7W5DIGniCEwdQND4IAhcPEYACVnUY44aYaorUZ/hDtu+gnePkGASUVRC4EnvXgyRaoKSV8wzeenqYU/ZlbVcc7ajp70JN637G/qrGNoQFRnLPFsBdGEIXD+MQSmTip6CMx2EERENOcUYap0vx+UErXDKz+8A+tu+DgeefEo9j+0Ey9cegUuYgBcaPHRURxJ337t8CvjWpJMlzEGzlqUnEPkHJy11T68xhgge2n1uRP9Z2zdi5n05UTLQHjhlCh/vCgSHrcREfW0qNsbQEREvUlUEXuBNY5tIYjm0CmLlmLJ4E7svPXPUPqdK/FXf7kE+VwrQVPyi21YV7ckf9+Wj2PflhYtSWYoC2azyo+sIlZVAWOmWPdb/WIN77daGaeqoRK57ntNdJ9OrawzMFzeTjSJbBjcRI9ZIiLqDQyBiYiobbyEILgUWQ7WIJojpTddjo/dfXm3N4PmylvXYOvWNR37dlnw2q4AtloRrAovE4dKogrX9SuECo59IgISEa7eIiLqA2wHQUREbaNQnlgQEfWhrCXFRGGzTBIQz/3GdObbEBVRdsGe1fJERL2PITAREbWVqCJOODyPiKjfGGPCwJMJguB+H3xL1G1Z6y62gSAi6g8MgYmIqO28KiqJTHdIPRERFZw1BnaCEFhV4b3v8BbVff+ufWei7lMAiU/btnR7Y4iIqCMYAhMRUUd4EVS6eLJPRETdYSdrC6EKaXNFsGE/CKJxvBfE3jMAJiLqIwyBiYioIxRh8nTsufyXiKifGGDythCqXI5O1EFeFGMJK4CJiPoNQ2AiIuqoscQzCCYi6jOTtYWAckk6UaeIKsYSz0FwRER9iCEwERF1XIVBMBFR37HWTtofuG1tIdgNgghAGgDHHNZLRNSvGAITEVHHKYBKElpD8DSEiKg/ZG0hOt0feMIMmE9A1EeyCmDPAJiIqG8xBCYioq5QaAiCEwHPR4iI+oM5QVsI6WB/YOWCeOoTXsIxlxf+xRMR9TOGwERE1DUKRewFFc+liURE/cJaGwbFtaBZf+BOPSfwqYd6nBdFxXv4drVbISKiwmAITEREXaVQJJ4VKkRE/cQaM2FbCE0rgjuDzzvUuxIRVBIPL6x6JyIihsBERJQDilD5NZZ4JBwYR0TU84wxcBNUAwNpf2CuECGascRLuMDOxxEREaUYAhMRUS4oakNLxhLPihUioh5njJmwLQSythBz843m4qsQFUZ2LMULKUREVI8hMBER5YoCiL3gWCXhyQsRUY9z1k7YFgKqEO/b9835FEM9RhU4VvGI/RxdQCEiop7CEJiIiHJJVHGs4lFJPJgFExH1rhO2hZjlQKuJ6oD51EK9QhHaPxytxPDKtlpERNRa1O0NICIimohCUfEKL4qSs2nFWLe3ioiI5pIxBs45+Amqfr0IzCSD5GYuDMvi0woVmRdF7GXu2qcQEVHPYghMRES551UhiYezishZOGt40k5E1EOsMVBrJ6z69SKTt46YKabAVFCiikQUiRe2zyIioilhCExERIWgABIJU64jG6bKMwwmIuod1hioMdAWgZaqQlThZhwCG7RuAMEUmIpFNRwPJSIQUVb/EhHRlDEEJiKiQlFVxGmLCGtMNRBmmwgiomIzxsBaCy+CVs3gRRVGBHaSHsLTxQCNiiILf72EYyDGv0RENF0MgYmIqJAkrQoTMTBW4WwIhC3TYCKiwsqqgVsub1eFADCq024LMVEdMFHeadb2QQQiYPhLREQzxhCYiIgKTaCAhDA4MYAzpto3mIiIisdZC1WduC2ECKxz02viMFk3CKIcElUkPoS/qgx/iYho9hgCExFRT1AoVLNBKWGSfOQsSrYdE+WJiKidnLVITtAWwsxBWwgFuwJTvnhRxD60fWD0S0REc4khMBER9RxFqBarJB4xAGstImsQsXcwEVEhGGPgjIFv1RYCgFedUVuI8ZQpMHVdfdVvy1YoREREc4AhMBER9TQF4EXgBajAw1qDyFjYrH+w4bk/EVEe2bQtxET9gb0I3BTbQhiY1jWVmv2PzwTUOVl7By+KxMuEFzuIiIjmEkNgIso/HhfTHAmBsMLDAz4MIHJpGGyNgTGh+oxRABFRPjjnoN5P2h/YzaItBBfbUydkoa9IuKjh09f86yMiok5iCExEuZf3Q2QGhsUlqhAf/r4MQihsm0Jhy/4RRDQjr+Dxz3wc2/4xvLdq01aseWur++3HthvuwOMAgEVYc9etWPXGjm1kIUzaHzjtAX/CffVEg+GI2iBrSyUaXmehL1s9EBFRNzEEJqLc4/EydYIi9Jj0XmGAaqiQBcH1wTARtclvHsdtG7fhuYYbV+HmrWuwpEubNHOnYdUnt+D3Hr0Nn3pwZJL7LcGaLV/Cor/7M9z7Pzq2cYVyov7AIgIzxbYQrbAZBM2FbDhtw4vkv5iBiIj6B0NgIiqA/B48h7AQed5EmoFaBU+tSrg+FK5vIUFEc+iNq3Drl8/DMzvuwOd3v4Jl6+7Eh95+GuZ3e7tmypUwf6B04vuV5mNwoP2bU2ST9QdWVXjvETk3sy+uCl7ho5lQVXjN2jyEEFjZ5oGIiHKKITAR5V6+K4ENuMa099WHwgaAF9MQDEc2tJEgojkw7zScuXAQwCs4ZcFpmD+FDJX6g7UWKjJhf2A/SX/gybq98xmcpiPr6eulFvgy+O1dhgOEiaiHMAQmotzL+0E1Dwz7S3ayF94JoXAi4a/AWYPIWljL4XJEbeFH8czDX8X27+/HS6/HwLxBDJ1/JT50wyoMzZ/affZvvQF3fD/ctdan9wT9e5u+ZunkM7Hk0uvxoavOw2Bd8enRf3oc92/ZiX3/fBRxaT4WXfphXH3q9H7E+H/+CPf+7fbq1zjzratw/dqrcd5vNW47AAz9uzvxmXedBqDpY5fejK03FK+BxolkF94mbAuhCqM6/VUa+b7aTDmQhb5eJQx5U7Z56B9ZwUc+cfdFRNMx81G6REQdJJLTI5x8HxdSByhqPQBjLzgeJzg6luB47MMgIyKaM8/tuBWf/8UQPvTXW7B161Zs/eJfYeXRnbjtwf1Tvs+SD2zBZ64davrKp2HVf/gS7ly3rMV3HcWT/2UjPv/Eabg+/Zp3b7wQR/7+87j1m/sRZ3f750dw23/chpF//RHc9bWt2Prlu/HhoSdx76T9gMf9hNh+/4u48C+/hC1bt2Lr36zF0Mgj+Pxt2/GcT7f9vYvSn+NzuHXVadXPXPKBO7HmXODMq27Flg/0XgCcsdbCTlDtC1WoT6AShxcfQ30F6scAqcDCw0DSF01fBNAEkhyH+rFwf4mhkkDFA+oBFeT/kjTNNS+KscSnz+kJKt5XB7wxAKb84N8iEU0dQ2AiKoS8HmyHDJgpMNUowt9rIoLjsceRsRjH4wSJF1ZrEM3Kfjy5exSLLlyJRYPpTUdfwrMHjmL+yW+Y+n0m6tNbmo/TFpwy/vZfPIKvDgMXfuB6nJd+zfm/cyXet3o+Rnd/B/teB4CjePJbO/FSaRXWvHdJqA52JZz2jvfh6rPj8V9zEhe+r/Z98MYLsfa9y4D/91E88pOjgCth6NLLcWEJ2P+zX+NofQvceATPPbsIf7hyEUozbI1bFKE/e3juNRBYeFgkcIhhkKQBbgLVBKoeqgKk4W+4b7h/eAnBMKBQlXB/yYLkCsRXIH4MkhyHJMdCUCwJGLz0HlUgEcVY7HFkLMGxOEHsBZLbo1DqBJPzgg8eWxLRdDAEJqJCaNX/Ly84S4YmowgnlccTj6OVGMdjH04q2T+QaJrKKM0Dnvve97B/NL3p5GX4yJe34u4/HprGfaZn/89+hBhLcN7ixuB48LfOBPAMnhsB4H+NZ4cB/M6/wm83BLCDWLJ0Ot93ERad1fh95i86F4sAPDOcVh3PW4Yr//hM4BffwY//V+1+8fA+PPnWlVj+xml8u4IyUFh4OMR11b2d2aOqClRiSMIwuOiylTzZRdujlVDxGwtjX6rJc7GHgnsgIpoe9gQmokIQUSCnlU35PTSkvAmBsCCRcFLhbHixxsAaVCvbiKiVRfjDP16Ex7c+ijtuehzzFy/D5X94OS5ZPlTXl3cq95mOUbw0EgN4BvduuAH3TnS3w6/gXwDgTWdisPljdpaT7d54Jt4C4LlXXsNrAE4DcOY73o0l3/oaHvnBc7j83y0CcBT7nngS5120dvz37zUqIXxV3+0NgUoMqMDYEq8IF4RobdBrdbgbYzSaRJ4LgfNcJENE+cQQmIgKQXJ8kGNMqBHI7xZSHoWWEYpEkIbABtYaOGNgDKY/2IioD5x26a24e/GTeHTHI3j8F09i55eexM4tp2HZB2/GR95x2tTvs/C3ATw3he9YATwArMLNW9dgwk67v5n9zzYtg5fg6ndtx23ffxz7/ngRlsXP4MlnL8TKfz//xJ9baAoVD+16AFyj6gExMC5CfqOi/pb17RdBNfxl8EtTluOHteZ1ZgoR5RbbQRBRIeT9SjcrOGk2suWolcRjLPGoJIJKIkhE2euNqMn8N12Iq//ic/jSl7fgc5uuxBL3CvZ9ZRuefH0a95moOlea+/eehjOHAOAFvDRZ0LvgNPw2AIy8hFdO+DUnEyNuzjd/8xJeAFAaOhOn1d286J1X4sz4SewbjnF0+Ensv3glls2bxrcqoBAAJ93ejHFU0yFylBuiisRnz6vhObXiw8BWBsA0VQb5PsbP+/kREeUPQ2AiKgTJ8ZVuVm3SXMoC4dj7ulDYp5VLRP0rfnY7Pr5uHb7wk6PhBlfCmW+9Gn9yzaJp3SfcDpQAvDJ6tOHmkef2j/u+b1l0HoDn8NNnR8d97OhvXsFRAHBLsPQdJeAfn8PI8YatxsjzI9P4KUcwfKDp+7z8vzCCEpa99fcab/9Xq3D1O0p48keP4vGf/BqrLpywTrk3qAKSvwC4Sj24Jqi7RBWxF4zF6XOnF1S8wIvkekUZ5Ve22i+v+HdNRNPFEJiICiEb3pFHJl2+TzSX6gfWxF4wlngcrySoeJ7MUo87/gpeOhiC0NcOv4KjWSHt0dfwWjwfpwzUqmXj0efw5NMjGLz03Tjv5CneBwB+51wsKwHPfO9RjLwOwMd45SdfwyOvL0HzGLf5b1+DNYtL2L/1bjzyj2lA60cx8sTXcNvfPYMjHgBKWHbV1ViEJ3H//U/ilfR7j/7Ddmw/MIj5AI78f0fHV/k2KV18OYa+9008eTD9oUefwbavPg4svh5XX9BcvVzCsj9chcFf7MTOf7oEyxZP7ddbVKpJris4VQVQ6fZm9B1VIPFhsNvxOKykiUXgRflcSbNmTL7bfee5SIaI8skcOXKkL/YcIoLXX38dBw4cwHs/8jG8PPzTaX3+GUsvwPe3b8Opp56Kcrmc62Uh1DtEFGNxAi88qQCAeeUSIpfPa1exD0sN83yCSr0hW5poDBBZi8jaXJ+gEE3Lbx7HbRu3NXXrzfrxHsXIE9ux/aG9+PVvjiIGUBpcgouuvR7XXzSE+Q7AlO4THD2wE3fd/Sieez1GaXAJVn3wT3D9uSO490+/gCcB4HfX4M5PrQotGI6O4Eff2o6dP9mP0eNA6eQzseyqD2PtpU1f858ex/1bdmLfPx9FXJqPMy+4Gh9+N3D/f0x/pktvxtYbWlfs7t96A76z6Ev42Lm/xvYv3YvHDxxFPG8QS97+PqxZeyHObDnY7hU8euvHsefCz+Fz//bMmf7WC0AhyfET363LjIlg3CwHAdKUJKLwXuA1tE3i8Re1Q8lZlJ3L7XHW0eMVXuwA4KzFQCmCtTn9h6KeoqqoVCp49dVXcen1a2aULX7rC5/H4sWLcfLJJ8PazuYbDIGniCEwdQND4EblyKFcyuc8Sy8aluzzQIw6zMAgsgaRs3A8+CXqL6M/wh03/QRvv/tmXDLY7Y1pH5UEOq3eyt1hjIFxA8j1JKkCE1HEIki8MPKljhhwDqUonwUoCuDIsbFub0YuMASmTip6CJzPPRoRUQt5DsOdNTzwoK5QhJPiY3GCo2wXQdTzXvnhHVh3w8fxyItHsf+hnXjh0itwUQ8HwEAIgYuAQ5rmXtbn92glwdE4QcwAmDrEmnwf22uOz4uIKL/yWVJHRNSCSFjyl9dCfGcNvBgGcNQ1oqEivYK0VYQzsMbkfrAJEU3dKYuWYsngTuy89c9Q+p0r8Vd/uQS93YBAUaiBa3k+UCkARQjTRTS0fBCGvtQd1phcD3727AdMRDPAEJiICkVU4Ew+FzE4a+GMQpWd6aj7EhF4CcuTI2vgrIU1YDsjooIrvelyfOzuy7u9GR2jeoJpejmjUF50m6Zq8KsKL8qhbtR1BgbO5nvwc55XSBJRfjEEJqJC8SJwHe6bM1UGYYCEqLI3MOVCdmJd8QrjFc6GkxprDPsHE1ExFO35VJUtgadI0+MlEcCrhBVf3d4oIoTVfVFOzzcywkpgIpoBhsBEVBgKwHvN9Z7LWoNS5KCJZxUL5YoiW1pb63PnrIFL20UQEeVS4Z5Li7a9neclC39DxS+PlyhPrDEoOZvrKuDQIo+PGyKavhxHKURE42XLBfPcoyuyBogcKgyCKYcUgFeF9wovptrzLusfTESULwV7HuXzfkuq2YXIcBzH1lmUR9mqvryvlmIrCCKaqXyvcSAiaqKq8D7/Bz6RNZhXcqGSgOtCKadEFYkIYu9xPPYYiz0HjVDPGX18E85fcD7Wfm0YY1P7DOy++XwsuGAttvx8ap/RDYd2rsWCBQvSl7XY8VK3t6g9ihcVFm1728tLGFh6PPaoJIJEJITA3d4woiYGwEAUjt3zLvGejyEimpH87+GIiOooinP12xqDgchhXskhspZRMOWWIgTCsQiOxx7HKgliz4ns1Nros7twz8a1uOyCNIA8ZwWu27gNwy/uwqYFC7Bg895ub2KDA/+wBSMYwa7/vBu/qv/A2CEMP7EHe58fbf4MDH9lBHh+F+58/FfovFEc+PY92PTBy3B+GvKec9F12PSNYYx8exMWLFiAu/YBp199H174/mas7MIWEp1IIorjcYLjsUfsBV61gIE+9QtrDOaVIkQFCIBDJX23t4KIiir/ezkioiaa9pErCpdWBc8vlzAQudCDtdsbRTQBRejVOJZ4HB2LUUmEJxtUNfLQTbjkorW456XzcMuul3H48GEcfmYXNp29B9edtxZbur2BLQyduwZDGMLqm1bj7LrbD33747jkyqvwhX9orvYdwuL3DwFnrcaGPzgbnTWCXRsuwYo192Bk6S147OXDOHz4MJ7ZsQlnP3Edzl9T/xsewODCUzDY4S0kmkzsBUcrCY7HCRIJwS+fQiivDAzKzmF+Ocp9C4iM98J+wEQ0Y+wJTESFI6LwIrDWdXtTpsWY0GcsW2bWPBRFNV1EOu64Tid5j6h9FEDFhyquyBpEzsJaXsToWz+/B+s/uA0jWIP779mIlaemtw+cjuU33oNtowdw2WeHu7qJrZz+nrvxs8Pjbx95ftdEn4Er7vkZWnxK2w1/cT3WfmMEeP/9uO+jK6sB78CZy7Huv27D6P7LcPvPu7BhXWVQpGc+Ve2rfaQCUAkrSRKuIKGcM+n/w/gOi8gWbziuFz7OiGjmWAlMRIWTtYQo+lVwl04fHogcTipFmF8OLyeVQwuJgZLFQGRRTvuThYPV2oszpvpim15q/6H6QjRTiqxVRIKx2Fd7OlI/GcWuL9+KvQAWfvQaXHZq88cHsPzqdeNbExw5gF2bb6q1jlhwPi7bcBd2PdvUgiE5hD1334SrLjonvd85WHHlTbjniWEMf3sLNr1vBe7atxd3NfXAPfRE+Ng5aVuK9V+p7/tbf/8FWLvzEADg0Lfvwj1PHMKxONxr17qzw30+uAOH9t3Vos9u49ep/1pouH9dK4zmn/uCy3DT5l04cGSSX/Gru7Dlk3sBLMTG9142vsJ3YDmu+dAUmz+Mhu+f/T7Pueg6bPrKXjQ3vmi1nWs3bsGeQw1fDHu/sgnXZf8256zAVa3+DduEl53ySRVIRDAWexyL2UKI8iMc94b/suNiZwxKNhxTn1R2OKkchbkdBQyAi7QakojyhyEwERWSpBOme41B6EvmrAlhb1o5XI4cBiKHgVIIiOeVwgHsSeUI88oRTipFITjO7hdZlKsBspswQG4MjYkmpwgn/dkQudiHk5HeeyTSOKNPY883wpvXXrwCA63uc9YaPPDCC3jhz5eH98eGcdcfrcDaz/4S7/ovL4TWES88gDXJfVh70bW4a18W145i980rcdWnH8Pp//d30/s9gvWnbsOtV16CO58fwsr3rMHS31qOjYcP47FPAMAuPLBxLW5/fiVu+eZT+OULD2Pj6Qew4+brsPmJ7Osux8Z//hnuu6FxM09/z0ZsuPgYDj0b3r9iy6/C9/y7a3D6so14+Zn7sKbhM5Zjw3MPYMPC8N6ae0ZvdjsAACAASURBVH+G+64+PbyzbANe2LYOALD6rx/DCx9dDhzZG37urx7Dmq+Hn/uFr1+H1z67Fiv+6C4MTzBrbnTvHmwLv2GsfFvL3zCG3v8AXnjhBWw4v/XXCEawbd0KrP3sNgx94ikcPvwCHlk3D1tuvgwrNu6uC4JHsftTV2LtZ1/DmgfT1h577sTbfr0JV628HXvS7Rz+4rW47OansfSvnwr3+cUDWBc9gLUXrce25yfbjjlSsJCm14kqYi84ntQuCvI5gOZSrYChMcitD3SrL9nxcvpSstlxcyikyGZznFSOMJAObLYF3qewFQQRzRZDYCIqJFHlcqiUQThHzsJjly7bL7n6A+FaeJyFyVmwXM4CY+dQdmnVcV1YXAuKiWqyvsHHE4848fAMg3vb88MIzRNWYvFQ64ASAAYGBzH4hvD2yI7bcfs+ADfdgg0Xp3Wtg4tx3XuvBbAXt9/xAEYAYPRpPPa1gwA+gBvfO1S935XvuQIAsGvsFFzx/g1YfVbj99qdrMbGGxaHitnBlbjy+qUADuKun9S1pHjDEIZ+u9WWnjRhU7SBNw9hqPm2U1fj2j9fCgB47Fcj9R/ByItPA7gC1/3RcgxGwMhDm3H7PmDhh27EmnPDzz147hqsuwnAvttx57cPoZWRZ9P2FO9cjAl/xdEABgcHMTBpQ7dTcMZZQ8DCxQDGAAxi8Z98BLcsBA5+7XZsy9pJZL/3d6/GyrPSb/ji09h9AFi4+AycMgAAw9izfS+A1ViZ/RseOYCnnzgAnDWEMzrSkJjPPt0WVmApKkmo/B3jPp9moLkytz7ArR6zulC8UK4/Po1qx7IDdUURAyWHeU1FEtnxbbaCzllT6NC3nqRt5Pi4I6LZYAhMRIUVlkRJtzejcMYFxtnBd9NBduPbtQPvsguVFvUhcW8cXtNMiCoqXjCWeFQSH3pC8gyl93jgIABgECfNm8onHMLwE7sBAFcsGWqoHB44+zxcAQCP78beF+s/ZwzHWlTJLoxaJ6ILLzqvIaw9Y2H63j++jNYx6+wsfee1WArg4H/bg6eq2zmMPduHgfdfi9VnAsAh7H08/NwX/1791g3gpP8tvLWrIUSuGUvCbxiDJ+GkWW3pIFbf8TMc/uVTuPs9acUyhrD4D8L2Pn0g/e0MnoIzFgL4zjbs+ElaH3zuOjz8y8P45SPrECLvM3DG7wLA17FtZ7rdg6tx208P4/BPN2P1uLYgc69oy7WLtbWTUwUSL6ikwW/Fe3ju4KkFA8AiC3drwW7ZNa9Scw1hbnas2VyYUKorZqgWJqTHrdbWFSgYA2N663E3Ee8FXnneQ0SzwxCYiApLRMOyqG5vSA/KgmJbDYpNQ2uKrEJjIK0snleKMC9KK4mthbOW4XCfyZYIZ4Ew+0P2qlEcOz6V+43gwLfSN6OJIs1dGDkEYHAlrrhpIYAHse2hNGgcPYBHvr0LwHJsWLW05We/7c1ntP6yYxP0W5it31+Ja38fwMGvY29WTfvzPXjw58Cad2dD3EYw8lD40I4Pnt3QL/iyz2bbdwyTbuHoMRybkw0ew6Gf78K2z27C2tWXYW367zFy8OX048ux+qblAPbi9svfgvNX34Rbv7EbB16t/xqnY/V712EhDmLHh88PvYXv3oG9L7Xpd9yKKdjpSsFC61Y03Z+Hi3uCmH3gCXUty0ytgGAgCtW480pRtTo3a8NQdg6lukA3G8Q2PsjtjxB3NjRbAcmHIRHNUsGOqoiIGiVeoKwG7rhqSNzUgqIcWZRL2QlB2re4FGEgqrWZ6JVledSaqCIRQSURHK9wWFDPOH0oVO9iDw6MzHUAOICV/2kPHv7EUuz48PkhNH3Llbjv+DpsfvRBbPj9Of52M7YUV/zpagAHcd8PwgC44ScexDA24JrV4/sibHz0cOih2/zyn1a27Kl8+pvDbxg/OIDZ/orHfr0Dt155Hs6+dgsODF2BW7Y/lfZSBoaP1L740j/fhae23YJrzl2IkX3bcM+G67Bi0Tm46rN7qr2DB9+9GU89uhnrVg3h4LO7seXT63HZvz4D52/YNvmguzlTtPGmRdrWRqoI++44hL+JCLgH7z8GqAa95boBxieVo7S1WFSt3q1vu+Cag12Gu3PGSwiBiYhmiyEwERVaVn3IU5T8qO9RnIXE1WqRNBh+Q7nUEA47Vg33HIXCq6KSeByrJIgTVrAU2puXY/Wq8Oaen/9qgjsdwo4PLsA5n9mDMQxh8XvTm5OJ6lqvwFDareDQQ5/EjV8dxH0/TQeUHf4lnvrmZqx7e0eazk7Z0IVXYDWAg1/dg71pK4iFH12NFdVU93QMvSe8deBfpteUYmj5aqwGAOzB8IEJ7vTSDqxdcA5uf2KSlPjV3bjlivW454mluPvvH8Zt71+JxacOAHGrOw9g8Xs24r4f/xIvP/MY7vvoaizEQezZfCO+UPc9Bt++Dpsf/Blefu4pPHDHGiwHMPKNm3DLQ61bW8y1QrWEKNK2pkL4m+6r05YP7Dza+7LK3hD2OsyLIswvR5g/UMK8NPDNgl4GvN2jqki85zEUEc0JhsBEVHhJ4lkNXCBZSFwfDp9UjvCGgRLml0NbCQbDvUMRLtaMeY9jcVoZzBOZAhrClR9ah4UAhr/4IPa0qgB9/rt44KGl2PB/rsQATsfSi0OkuWv/SGP7gxd/GYbMrVqN5W8GgBF89/4dOLhkBZa+eeKhc7lw1rtw3R8BOHgf9nxxDx78+UJ84J0r6ip7h7D4wtC+YtcPnqpW02ZGfrALwxNVz551Jdb/yUIAw7hnx56WLSNGdj+AXb+/AVdePPHvaWx4D7YcBIAVOKc6TG8YT32n6X777sF1FyzAORt24RCAgTcvxzWfegDbNgHAQYy8Ogq8uAs3XXQOFlxwD4YBDJy6GKtvvBv33RuqlocPNf+EbWJcZ77PHDAFOr2S9ELdkUqMig9Vv9w99yaLWguHeZHD/PrjrlJo8RW52pwHHn/lhxeB9zzPIaK5UZyjFCKiCSiASuy7vRk0B6wJbSXGBcOl0Fsuq0Sp/UdFIqoYSxgGF9Xgu2/Htk+txMKD9+DGjdsw/GoWU45h9Oc7sOlP/xpjn7oT69P2DUPX3IJblgG4+3bc80QaFo4ewLb/5+sAluOWm69LB7udgRV/sgGrf7AJK05b0NBHd8E5K3Ddp3fU2g4cGcHIv6Rf6l9GMJqktydjePnV7Hu8hpdHx1rfvy5ZHchy1KZK5bEXRxDqW0fx8oujTWHs6Vh99RoAB3H7J2/F8ML1eFdTILv0hjvDz/2NL+ALj6fVwGOjGN65Cev/bAv2HJioincQqz+zDbdcvBAH774RG7YO17Y3+/zPjeGWz69Ph7aNYfTga2nQPIrXDoY7D5x8ChYCAJ7CM78GkBzC7s/ciWeWrAxfK60I/tXTD2L388DgqfOqIfbYi7vx3R8AWHYLblx9Okb378G2Zw8Ci+dhXvq7Hnt1GHt+8DSw8BrcfnXrfs1zzRSpL3ABtlWqqzQ8KgyXCs9UX2rVupG1GHAOJ5Uc3lCOMH8gHEsNRA6RY2uuolDVsJKq2xtCRD0j/0cpRERTkIggThgE96LqUsXINvSky6ZHRzYMKamFw5R3zWEwBw4VxQCWf/Rh7Nl9H9ZHO7D+HWekQe1KrP3yCFZ8bg8e/ujyWlXswFJsfOgp3P+Jc/Ddv3hL2uv3OmyL1uP+Hz+IjcvSe774GO759D147aMP4Fcv1/XOffkFPHbTEHbfvR6bdx8CsBd3vel8rN8aPm3Ppy/DW/429Obd+7dn4JKb94QP/GATLnnLeux4qcX9P7wDIZY9HSuvWYchALuyPsSb9wL77sIZ563HtvAZuPXyt2D9zsa2DoMXrsaa9O2lf74ay5t/TW9Yjo07nsJ9N52CXRvCcLhz3rkWW55fgTv/x8PY8G8mqXZ+w3Js/O978NiW9Thp53qsOGNBw+f/9Z6Hq7+3QzvX4y2XbsKedFs3XXoG1u48BCxbh698YjUWL9yNTW87H5f9xQPA/3Uf7vv36bZuvgwLFtyFsRsfxMN3rMPZP96Et6Sh+4oPbcPotQ/gZzs2YvkbgMF334Kntt2CNUfuw5VpQH/eFbdi7+/ejsf23Idr3jyFP5u5UIBgFUjD6pyGa4rQV3SsLvxl3W8x1Ye91d69WcutUlS9eF6KwqDeQrVToQaJF/YCJqI5ZY4cOdIXz/4igtdffx0HDhzAez/yMbw8/NNpff4ZSy/A97dvw6mnnopyucwnU+oIEcVYnPDJf4oMgHkDJThbjJNFmjuqIVjMXlRD9YSi9pryKwv6o3RiOPWX4S9egks+OYxbdh/GxmVNH/zJ7Vhw+V1Y980XsPnd+eoPTJ2lfgyq+T4eMrYEY6Nub0YDRTieTETgRXnRrWBCCy1Te53OXDDGwKZvU28SCQN2+Zg9MWctBkoRjyGpI1QVlUoFr776Ki69fs2MssVvfeHzWLx4MU4++WTYDmcXTEqIqGdkbSGUB0t9p7nH8EApvJQjW5tebW211x3li6ii4j3GkjCR3gsfw/1k6Ky3YSGA7/79bozU9csde3EP7vqvXweW3YLrLmYA3PdyXg1sYHLVtkIRVklVEo+x2HPVRUFkVb5Z/95yFIazDaStHAaqxzSGAXAPy85p+JglormWr0vVRESzJOkJT7kUMezrY1nFTP0JUn2FsNRVDrNSOD+8KsR7eDFwtjakhnrb4LtvxyPbhnDfzs246k3Xpf14F2LxxW/DylWb8dQNV2DxG7q8kdR1xjgokhPfsVusy0VQHdo+CLzXsE9liJRrIfQNFb3WmrqqX1b59rM4TpBwJSgRtQFDYCLqKQog8R7WGJSi4kwTp/azxqTjrsNJlSqg0ForCQknzAyFu0uRhcECL2AY3BcGsPg9G7D5PRuAv+v2tlBuGRuCYM1f/39jXC7aQCQiSHytNRLljwFg62cZpC0eQiV5t7eO8iDxgtjnbz9HRL2h+0crRERzTBWIEw9jgMgxCKbWspMuGMDBQB2A+t7CoqF/IiPhrlAovALiPRIxiKxByTmeJBP1MWMjQDRXvYGNsWkA3L2dkxdF7LNWOryQmScGBtYihL7WwtYde/DpjJqJKCpJAl7DIaJ2YQhMRD1JVNMg2HBQHE1JViTsjIELyTAAVMPgRAUiPL3utGy4X+wViWjohegsT56J+lEauKqPgRzsi6sVwF1qAyGqaR91Xq7MC4Ow8shZC5cOO+XzFU2FahgILpyLQERtxBCYiHqWF0Ul9hgoGU6LpRmz6UlcKZ2l6kXhRZCIVocQ8nC9/bIweCwJA47KzsIxDCbqP8bBOgOVuIsVwQbGRl1rAREudAti9gztquz5x5iwWsVZy9CXZkQ1VAALH9NE1GYMgYmop3kRVOIE5VLEIJjmhLMGzjqUUeslnIhWB8+xVrj9RBXHEw8nirLjSTdR3zEWxg3AqIeKbwqD27EHDnsYYwxgHIx16MZiflFN+4Uqn2m6IBs629DX17JnPc1O1sYuSVjRT0TtxxCYiHpeIgIwCKY2sMbAOoPIhdghGy4naZWwKCPhdvIiOC6KyBlErMAi6j/GwTgXHvcqYX9bbaapda+abpvaFw8vJrwYY9GtLq6iCu8VsQgHvnVQfegb2ouZtNUDn2lobiiA2HvEiefRIhF1BENgIuoLiQg0TlAuOfYIprYwSKuE037C1eFyaYVwqBRmJDzXFGm/YK8ouVofRiLqM8ZWe7tPzWR743zsQ0TTnvRe4Bn+tl34+zGwCKGvrQa/aRU40RxSzQLghMeGRNQxDIGJqG+E1hCKUuQQOdftzaEeV60SBqohcPVFWCU81xSKildYUUTWInJcoktEk8nv/kE1tBnKetDzmaK9bBr4WmNgbXg/qwAmagcFECcJK4CJqOMYAhNRX/Gi0NhDFShFDIKpM4wBnAlVwtmAsxAGA6IS/i67vZE9QlQRew8vBs5ZROzXSEQFoQC8lzQAZvjbLgaoq/I1adUvq32pM8IQOI+EATARdQFDYCLqO5JO4FUNVcE86KdOynoLWmMAC6gaiNaW/YooeOo/OwqE3syJwFuklcGWVV1ElFteFLHPLgryOWCuGZh0sGsW/ILVvtRxoopKnMB7HukRUXcwBCaivpRN4hVVlCMHyz7B1CXGGDgDOKQD5tIqYe/TUJinCTOmUHgBRASJCAac43BIIsoVUUWchOpfhr9zy8AgsgbOGbZ4oK7zXlBJEnjh45yIuochMBH1LQWQeIGIolyKEDkGwdRd9VXCkQ1/o5IOBWJAMHNZGHxMEkTOouwsVwAQUdfFiaDiuSR8LlmE0DfikFDKkTjx1eITIqJuYghMRH1PVDFWiSGRQymKwGyI8sIA6fJVhwGE5cKJCBKv4Fi56VMAsQ+/v3LEFhFE1B2JhJ6gDIRmJ9t/GxMqfiNn2QOeckVVUYk9El7sIaKcYAhMRIQQDlUSDy+CcimCtQyHKH+qgXBUC4RFFGFlIUPhqVIoxhKPRBRlZ2EtlwgTUXtlKztiH9rT0MxkK2bCRVJb7fNLlCfZkMeY7R+IKGcYAhMR1fGiOD4WI4ocImfh2CuYcioLhBXh79aLQFShGipPeMpxYl4Ex0URcekwEbWRaGjrE3u29ZkJgzDIzZraYDfurymvQhuv0P6Bj3YiyhuGwERETRShd5f3EsJgazlMinLLAGEZrHVQBbxqWh2saSjMyGEyCkWcDuErOVsNGIiIZksVaQsfgWfrh2kxMLBp8GsZ/FIBhKG+gsR7Vv8SUW4xBCYimoCoIo4TeBt6hzr2mqOcMwaIQrkUVBVe0RAIs//kxERDj05nbTpNni1hiGjmsv7tnkM9p8ygMfTN3ua+mPJMNbTn8onAi/DRTkS5xhCYiGgSYam9QERgfQiCOXiEisAYgyicUVfbRHhRiEoaSlAzRQhuvBhEomlLGD7WiWjqREPfXy+88DYVWY/frLevNaba85coz1RDK67Ep+EvH+5EVAAMgYmIpqA+DE6SMIE6co5tIqgQrDGACX2EVQ1Em/oId3sDc0ahSEThVRFZi5Kz4HUfIpqMKqpD3xj+npitBr8W1oDBLxVK4j3DXyIqJIbARETToAhX/uMkHPxZa1ByDs5xgBwVgzEGrhoI2zCwSFi11qz6WPceXhVlVgUT0QS8hHYyvKg2OQPUWu7YUPFLVBSaDnhMvIdwRRURFRRDYCKiGcgCIvHhgNAag1LkEDnLkxoqDGMAZwycdQDqe1iyp10mWwVwXAQlZ1FyjlXBRAQgVP9WvEfi2fd3Ilmf38hZRJarKqh4RBVJ4hEnno9yIio8hsBERHNAVDEWJ6jEaZVLZOEsA2EqlshaRBZQtUgkXOAIA64ZbyiAihckohiIHKuCifpcUlf9SzUm/b8x6XOKM5yjQIUT+v0qEu/hPS+ME1HvYAhMRDSHssFSSUXCskcXwmCb9rwDe95RARhjUHIGJWervYNDuwig3wNhUcWxOEmrgjkkkqjfZIPfEgZDDUwa/DprEFm2z6FiUQ1HNyppiyzP3t5E1JsYAhMRtYkCae+wEAjb6gAUA2NN9YSJ1cKUZ2Fwj4M2DZMT7e84OPYhGC9xiTNRX1ANAyNjhkNVBgbWpMc3xsA5ywvdVBiqYRaCqsJ7hVeBCB/bRNTbGAITEXVA6Cuq8OIBhF6s1oQlksYY2GoozGCY8skYIHIGkXOQdJlkNkxO+3QYkqiikgjEKiIOjiPqWT4Nf9kvPbR7CANGTXpxm+0eqBjqQ19Jj1+EQ3GJqM8wBCYi6gJVwKsiGzGRnVRlAXAWDje+3d1tJspYY2CdQeRQPYHKQuF+i4MVijj9HThnUWJVMFHPEFUkPiwP7/egKAt+s9A3XLwmyq8s9BXRxgBYFX3+cCaiPsYQmIgoBxThYBWavdcUDCO0kLB1wbBl1SF1mUHaLgIGziI92QrD0/otMPGqkLQquMSqYKLCS0QQ+zRA6rOLWxmDcNHPORsqf7lSiXKsWt2rCpUw2DasVGLoS0SUYQhMRJRT44JhqQXDABqqhm1Dr2GizrNpixO1DlFaeZOkPYT75dxLodUAPLIWpYj9MYmKRgFUEl9td9OPDAwiV1f1y+CXcqaxpYM0VPf2a4sqIqKpYAhMRFQg1WA4eweahkweMLXp3Nba6qAWa223Npf6UHahwjoD5wBV23fLqUUVsffwIihHjlXBRAXhRTGW+L4Nkawx6UoGC+62KC9UazMIRKRWnV9/OExERFPCEJiIqOC07o3soDgbQJfJ2ke4NBy2hn1Lqf2yQLgcGZRhkYgiTjx8H4TBitAi4njsUXKsCibKs6z6N/bS7U3pipK1KDnLNlPUdVnQ6yWt9O2j1URERJ3AEJiIqA+IKsQrkroTXFvXW7gxGOYQOmqPyBpE5SitlA0neZpdvOhRilAVLKooR5bLqolyxouG9g99cHEKQHoxKvT3jZxF5HiBijpH01VsqoCoVFs6aPa62xtIRNTjGAITEfWpbHgG6gqfjKkPh22153BoNRHuwJNFmi1rDAYiB9UwfCnxUm110osngIrwc0ochsZFlpX4RN2mqoglXBzth1Y1WbsoZwwiDq+kNgkZr1bHWYShbOmARa0b3Nb7DzkiolxiCExERFWqYQm7Dz0lAKTTwa2pBsKm+lI7qeS0cJoJYxBaJTgLL2nfYNEw0bsH42DRUHEoVlFiVTBR13jJViP0/lLz7MKus7VBb0RzIbtwq2moG15nYS+gKpBef4ARERUMQ2AiIpqUIpww14/eyHq9ZmHwuHA4e7tbG02FEwIKB0kHwFSHwPRYuZACiOuqgh2XYhN1TLb6IO7x6l+TtnvIZgE4y+djmrla0KvjAl+pD3+7vaFERHRCDIGJiGjashOC+vV89e0ibFMYbI2BsQyG6cSsMbDOILJIA+HQO7jX+nV6VUgiiDSEwazOI2qvWvWv9uRKAyCEv1nFL6t+aaYaevTWBb/hwknWy5+IiIqIITAREc2J+j5woq2qhuvaR1gbqpSMgTHsj0rjZb0rrXWI6qqDe2n5tkKR+HCiXbJhQBMRzS0FkPjerv61xiBKq36zi7BEUyH1/XpFGts7hKa+PfOcS0REDIGJiKjNalXD2XuA8ZIOm6tVDGfD6MJrnsFSkF1EqFUH23SYXG9U82XtVlRCQFVyjgEO0RwRVcSJIOnR6t/6IW9caUMnUh3Mll1QrQ5oY3UvEVG/YAhMREQdVz81OnsnnLz6cIe0SthZW+1pyOFzlFUHO+tQcopEFEmPVPcJFLEP/RXLHBpHNGtewiDGXmslk7V8KLnw/Mg9BU1E0nZK2WutK+vtrUcFERFNFUNgojwz4ME99Q1teserwouv3hQCwDBIy9pQNczHR/+yxqDsDMrOIvGCSg+EwYowtEoqinLJIWJFPNG0Ze0fKon0VPWvgUHkDHuIU0uatk0Kga+EFg/d3igiIsodhsBEOWaq/yMiVSBRQSJSvc3ZWguJUC2M6nA66h+RC/106wc/ocDxj0BxPE5Qdg6liBc7iKZKNOwDEt8bvcOzlkklZxFZ9s8nVNs31Ld1kHSIG1Ff4/6RaEoYAhMRUWGFQWGhWrjaO7YuGK4NyOGgnH7gbGgVIaKIs+WvWtw4uOI9RBSlKPT8JKKJ9Ur7h+pzWTbszfFCUL/SdNhu6N2bVfoqRAUF/zMnmlM8xieaOobARETUE7ITJfEK+FAtbA1gjYWxpi4Urg2jo95krcGAdRANfYNDtVQxB0MlKpBEWQlINAFVReIVFV/s9g8GBtZkF7N44acfSRr2qqbHM+nAULZ2IDox7jGJpoYhMFHO8QmNaOZEAVEB0g4SWQhsjWkKhhkK96Ksb7DaEAL7rJKqYCVUoopKIhCn7AdKVCdrAVPfJqhoDFANfV36vET9QVSh6XOSaq3FQ1YBTERENNcYAhPlmgFjYKK5I6G8Bh4APBoCYJu1kjC2Wi1MvcGYMFDJAdUeilkoXBSKUO2oGvqDskqQ+l3iJfQAL9DjuJ6FgXMGrvrcw8d0r8t694pKGv7WWj0U86+YiIiKhiEwUd7xnICobUIoDACaDmI0MPC1QNhanpz3kFBxl/YNTquCEx+W2xbhBFwBJOny4JKzKDnb7U0i6jhVVKt/i1bVDyDt9WurVb98euldWWWvpMPbFLVWD8X7yyXKL+5GiaaOITBRjhnDJzWiTglZcDgxE1UYAWB8dTq7sxbOWVjLIT29wBoD68LgJa9hSXlR+i5W20OoYiBy3d4coo7J/vaL2OPbGlOt4ueFxd5UG94m8CK1waTZ9WYiahOuniWaKobARERELaQFwtUTOBGPOPGACct3nUtDYZ7MF5oxBlFamVek/qIKRexDldm8kmNPa+p5XhRjiS9c9a+rhr8c7NhrFAiBrw+hr4hWbyeiDjLg/pVoihgCE+UcT+yJ8qF6UqeKRDUEhXGo7nLOInI27Sfcza2k2ai1irBptaHk/mTeq+JY7DEQOfYJpp6VeMFY4nP/eMwYpIMp+bjsObW+8iH8LcrfJFEv416WaOoYAhPlXdoSggeZRPkkqpAkVAlXp7zXV30Zw4PTgrHGYF4phMGxT5ee57iHo6jieOxRjsLFCP69Ua9QVVTSAXB5F3b3pqHtAxVbtt8X0Vq1b8Eq0Yn6AYumiKaOITBRzoV+pAbKg06i3MsGdyUioRIsHS7nrK0OAOKBanFYYzAQhSFySRoG53WInKLWJ7jENiXUA7L+v3lvz5KFv84aPvYKTjUMbgsD3aTa3zeP+3wiCrjHJZoehsBEOWeyHkc8AiUqFEXoYenFI4YPg8jSUNim1WKWlWKFkC3rlnToT/aStzhYoUh8CDFYiUhFloggTgQ+xxfAswt9zlhEjsPeikgBaHZxry74zfPKDyJqwn7ARNPCEJgo50L1IFNgoqITVYhXwAuMAayxIRSuC4d5DJtv1hhYZ+BsfsPgrBpdVVGKHCIGwVQgitD/jxB0wAAAIABJREFUN/b5XXZfbftjQ/Uvw99iUdW00rfxNVfcERWTSf8joqlhCEyUc6YaAhNRr1AFvAq81KrJQi/JEAw7y8d9nmVhcGTTf0evSHIWBntVaOKhzqLkbLc3h+iEsv6/ic/XYymThb+RNdULeFQMWdjr0wtkwmpfop7BVmtE08MQmKgAbDpYigerRL0naxsBKAwkvfCDtJewSQfM8eA2j4wBImPhDBCphn7QOQqwsp6qoopy5FgnQ7mV/a3mrbIeCFVmkTOI6nq7U/5loW8W/KqCwS9RDzLcLxNNC0NgogLIqgS5VI2otynCSSoUEPFIUBs45JyFcwzy8sgYwBkDax1KTqvL2fOwx876BIsC8yLHEyXKHRHF8cTnrv1DQ/hrudi4CLLQ13th6EvUJ7hqlmh6GAITFYBLT0DE81CWqF9kj3ZNewknXgAkcM4icg7OsYdw3hiEk5Fy5FByDhXvc1EZHKrNBcdjxUDJcRk75UYiirE4yVVQZxAGK0bO8rFSACKKxHskXhj6EvWZsHKO+2mi6WAITFQQkbPpkrZubwkRdUP20E+8IPES+lNmgTB7COeOMcBA5FB2tT6n6HIc7FVxPPYoc2AcdZkCiBNB7H0uQjuT/j9yBmXHFjx5l1X7JjkeIEhE7WdNaJtGRFPHEJioIJxzsImH58EuESGEKNVA2KQDi5xLly2zP1peGGMwENXaRCRdHkgUeq+GgXERq8mpC1RRVyXfXVn1vrMGJefAayP5owCQDnNL0vCXwS8RhcHKXLFBNF0MgYkKwgAoRRGkEnf9pImI8kW1Fgjbuh7C1lhOTc4Jm7aJiDSEwV4U0qUwOBvCpQjL3vnXQZ1SGwDX3Z7ZBgbWAM4atn3IoWyQm6jW9fjt/kUDIsoPY8L+m4imhyEwUYFEzkIih0riu70pRJRTkvYQjusCYZv2Fc9CYeqeLAwWDQPbvApEOh9uKBRx4gHVEATzD4PazEvYL3UzADYwsBaIrA37Rv7d54ZquDAm6QUySSt+GfwSUTODcF7MVhBE08cQmKhgSlEE1XAiRUQ0mSwQNl7SEDgEwtmwSeqeEAYbiBr4dJmzSGe7BiuA2Ide86WI1ZDUPokI4kS61tLKILTMcdYw/M0ZkVDtKyLVEJjBLxFNxjmLUuS6vRlEhcQQmKhgjAHKpQgwHkmSj4EqRJRvilCF51ELhE06TMNxKXRXWWNgXQimvGj60rlKSQUQi0ASoOxCSEY0l2IviLvUxzULfyNrqhfCqPtENfT2ZfBLRNPkrEG5FHEFE9EMMQQmKiCTLie2xiBOEgiPnIloirJAGAhho/EGzoQews6yLUC3ZGFwZAEvJiyb72Bo5kVQUUUpcogYBNMcqSQesdeOVrgDjeGvSy96UXepAl48Ep+1wAl9f4mIpipyFuUo4gU9ollgCExUUMYYlCIHaw3ixIehGd3eKCIqFNW0DyPCsDKThsEl59guokuMSfvcOQvf4SX0XhWaeMBZDluhWRuLPZIu9P91xqAUWTj2QM8FL4IkGwbIHr9ENANhQLpDKXK8qEc0SwyBiQrOWQtXttWD7MSzRQQRTZ8iDYQTjzjxsOmFpohDw7rCIAyvisoWiRdUOrScXlRRSUJwV2IQTDOgqAXAneTSVVJsadJ9YfClR5J0pw0IEfWOrP0Dh8ARzQ2GwEQ9IguDyxrBizQM2ZgsFeahORG1IqoYixNUYjRUBzMQ7rysMjjxEpZSt7maThCCYIBBME1PdhGhUwGwAdILVhYRA4KuUtXa6oUOXwAgot6QHWEaE/q4l5yD43EI0ZxiCEzUY7KlxPVLeUUVWtd/rdaHLX2ttYn0ExVsVCOHFh9nkEzUuxSoho/WmhBI2jBMjoFw5xiEQDayFolkYTDa1mtVoaikw0dLzoL/0nQinQyADQysBUqWrUu6SdOhbokXJOLZ45eIpqQW9tbey4JfZ7MZFd3aOqLexhCYqA9YYwA3tWfSajgcXoW3qsXEtSEe9QM9tP6ov6HwuO6thruMD5R53kCUfyKKingY49OhSxY2HSbHg/XOMCYLgw1iUfg2VgYrgDjxgAKliEEwTcyLouJ9OnSyfQzCoDeXXpDi32TnqSokrfr11SFvREQ1rUPesA+HSQPftJjApu+zsICoMxgCE1GD7Mm69pw9vSfkLESuvT0+SJ74Y9UPjwuKW31u/efX3ZWI2ky1Vh3srIG1tvqaE5s7wxiDsjMQa5B4hdf2hDEKIPYeCkXZOYb9NI6XUDXezgGGBmnbK2sQsUKsK0KbMa1rN9btLSKidqrfzdb2uWbc+9nposneN9n7ZlzwawCGvURdxhCYiOZU8xXf9NZpfY2GILl6Y/hf/fta94Y2fH5TLbK2/jytu1EZJBPNiBeFF4/EAM6EymDnDAd4dIg1BuXIQNTAiyKRuQ+DQxAsgALliEEw1bR7aGFj+MtKsU4TVYgIvITXrPol6o76Uyoz7jwr+5BpunPdx1rsO5tvmfA+9ed2dZ9oaslveruZ5hkfEXUDQ2Aiyh3TfLBRfWOaYXLj/xpPXFqEyvX3nKhSOQuYa69b34+o36gCiQqMCBJv6voHMzTsBGsMrAvL5H3ao3OuKzNjEWgClCNWfFO4MBC3KQDOwt8obf3A8LezslYPXhSqrPolmq3m9gj14aox40PUbJ9nap807lRoXORqWr454R24VyXqTwyBiahntbx6Pf6DJ9RcjTzxx7I3mwbvIYTG9VXJ9R9ngEy9JPx9K8SHZcM26x/sHKzlKUe7NYfBcx3SJSIAg+C+F3tBJZE5H0xYDX+dgTNs+9Bpifdh6KRo7biFiKqy9gbZvqnW6qC+Qrf2utYqYXxC27LuluEsEbUZQ2AiohOYrBq5dceLyQ/fxlck195oDIXTkLgaHNeqkOtvJ8orVcCrQsQj9iEMLjkH59gqot2yMDiyBrEPYfBc7TFCEKwoR45BcB+qJDKnf08ZawzKjlPhO01VESceiffpMQhR76sPc7PQ1poWIW5T6NsqweXuioiKhCEwEVGHtc6L6/t7TbeHcjhlE22sQA7vazU0BpRLOqkrsiL66jA5Y1CKHKLIdXvTep5JewaXnEXsfRrezV4iCk08BhgE95UQAPs5DQoNDMqRRYkXhzrKiyBOPPwc7ROIuiEMGmsaOmZMQ6DbKvAlIupXDIGJiAouO6B10ziwrQ+H6yuNG99O79vYMLnx68xu06lPeVX4OIFNEkQuhMEMEtvLmDDULXIWcSIhxJ3lI9iLopIIW0P0AQUQVyuAZy8LayJrUObFoI5R1Wr4yyFv1EkTPkPUt1UAGvvj1gW71XYLDHSJiGaFITARUR8yZmqDdmqVxY3h8PiwuHFQXvpZmCQ/JoIoUEk84sQjcrW+wTyxax9rDAZKDlFdv+DZ9Axmj+Dep5oNgZt9BXB9+Ftylo/1Dsiep6v9ftswyI/6T/OqtuYhZfXtE8ZV6qJVq4X6lgtERNQuDIGJiGhCtQPzqQTG44Pi6u11/YtbhcYcjtffFCFkSrzApT1BnbUcJNdGzho465CIVoOhmYZDDIJ711wFwAbhAoSzBpHj30kniCpEFN57JCJg9ktTMW6QWXVQWW3IGYBxVbrVsDd8sKmPLhER5QVDYCIimhO1KcgnGIyXhcRNA/CqHwtvpIEyAGjDa57H9i5F6BvsvcBaE8JgZ2Gt5eCVNonSMNiLIPEKP8M2EQyCe0+4ODP7PtIuDX/DxR3+bbSbF0nDX4EX9vuloD7cNXVBbri5xW3GNAbC4wakERFRETEEJiKijqqvGplIrYq41pO4IQhuCIVbVB638wegtlOEfrMiYfmysyatEHY8AW0DAyCyFs4AXmceBici0EQ5LK4HKEKrlmQWAbA1JvxdWcPwt80UgHhBIgJJQ2A+D/aPiSpyjWkOb1sFu7XPISKi3scQmIiIcqdWiQJMFBZnFcO1txsD43ED76q3KZfFFkT27ydpKGlNaBcRsZdoWxgDRKY5DJ5eCOhFMZZ4lJ1j8FdQsw2ALULLB2dN6PE91xtIVQqEdg8+DX55EbTnjB+MZmBNq4C3OdhF2paBiIiohiEwEREVUn3rCdP4vwbjwuL0jSwclqySWBrfp3zJetaGtgWhMrjkHMPgNmgIg8Ui9h5+Gg8KL4oKPAYMK4KLZjYBsIFB5EL1L8Pf9lINvbxj7+sGtFIRGQDGhh66Ngt70+G92dvZ/aqfYSa6PE5ERDQ5hsBERNTTxoXFtRtb3r/ak1gBUQnBcBoSi7LSqtsaWkUkgshZlCKGwe1gDEKo5yIkIqgkMuXhcVlFMFtDFMdMA2CDMGiwxOrvtlNVxNm/EZ+LCiELcm0a7NYHvTa8Ee7X5e0kIqL+wBCYiIioTnWytQEsXMv7VKuI04piEalWqmZn5Tw5b6+sVUQl8YgTjyhyKDMMbpvIWkRli9gLYj+1MNiLopIIh8UVwEwDYGsMBiKGv+0mWfibeD635ET9X7wxWeuT9HXWsoFDTYmIKGcYAhMREU3T/8/e3YdHVd/5/3+emQkJLfxMLqlOurQSvoKEAiV4R1J1NS5WQ/EmEVQiWhrsqkRbTcRVIlxq4i1RFxNxhZRuMcEbEmmRmJUaLbRJtiLJohJUygSlzaC4GS/CMpBkzu+Pc2YyuQ8IBMLrcTUlmXPmcz5zzpmJec173if4UU1H6Jb2sDjUhziscjhUQRwKiBUWH00m0GKHwREuJy6nA4f++D4mIpwOXA6DlrYArf3oQdoaCEArCoJPYKYJh9r6HwAHe5RGOB1EOB19ri9HxsT6BEpLm8Lf48no9E2wsYkV6hrdVPXqdU1ERE4eCoFFRESOotAVuZ1Glzpi0754XYfWEnZFMXQNifVH/+ELVsu5nMEwWH+kH22GYTDE5cRlmrS0BWjrIwxuDQQwWiFCQfAJxzSxAv1+BMBWz1JwBS/OeFxmeOqxPl1i9fxtbVP4e7SFh7zBgDd4EdrgBddCb/SG/SwiIjIYKAQWERE5TkJX9+42ILYvUGeamARDYsIqiNt/tn6SnphgVc8F2nA5HDjtXqX6Q/7oCrYCaAuYtAasMLinNhEtgQBmK0S6HDoOfdrFhqUbib51Duefduy2EgyAW/oIGg2sY+10OHA5DQX5x4gZuvBlgLYjuDCfdBR6Q5ZgkEvo+1BfXrpegE1ERGQw02e4RERETgDBnoJOpwOX08kQl4vICBdRQyKIGuIiMiKCIREuhkS4iIhwhdoeOB1WdaVacnYVDLkOtrRwsKXVqqrr54XNpP+cDisMjnQ5iXD2XO3bGghwsDVA50PwTf068jOvYHJMDDExMYxLuoa7X3ifb475zLdScO4VrKjvafk3rMuczH0Vx2YmX25awX03Xcg4+3FPnnYL963dBXzJ1sUb2LX/mGwWaH+jpK8A2GFYF3wb4nKqpccxEuz3e7CllYOHWg+7L/OpzHqDAut3p8MRulDokAhn6Pdl5BDrd2nw92lk6PenE6c+LSIiIqcYVQKLiIic4IKVSp0/gB38CH7nauHwVhOhCuOBmPgJwjSxqusCAZwORygs0B/+R5fTYeB09F4ZHGwNERlh1cLvKr2Nnz42lOz/eJn/LjiDSODg15+y9X/P5BgWwdomkfnB2+0/fr2B+xZ+w30vXs8ZAJzGjII6Zhz17R7k/adnMGfTJTyd/zZPr7Ye6cHP3+cTzgK+POpb7OxQa+8tIAwMIpyG/XzR8+RYMM1gy4cAAbPrmyPSLljV27lFQ+jTNcHbUEWviIhIb1QJLCIicpIKfqw1GGq6nE6rCsquIo4cEkHkkIhQ9dOQUPVw+0djTyXBMPhQSyv+Q620tKoy+FhwOqyewcHKYKPTmxetgYB1wbiv15E/7xsWvr6UeedZATBA5OljOX9MMAL+hq0v3c0V58YQEzOOC296iDWfHQyNdfCzNTw0czIxdjVt8Ct/M7A5n5inN7LrzYeYFbz/vALe/zp47/fJj7mFNf8A6lcx64pZrHj1Ns6JiSEmJp/3+ZI1c9vHGpe6il0dHskuVs0cZy0Hvqkp4LakcVZV78yO8+zgw+VkF13IS6tzmDGmPeqO/OH5TPphN+sf3MWGp4P7wBp7w+ehhWwtvs9+fDGMS5plVxPDrnfzQ/OJOfeKUHV1bz2ArfDXQVSE9VqiAPjoM02TQ61t+A+1cKillbaAAuCgYOuRYEVv6NMwkfbvsSGdPw1jVfMGPxGjAFhERKR3CoFFREQGmWB/w2BA7Ax9RNZqKxE1JIKhkUMYGmm1mgiFw0bnuG5wMoG2QDAMbrHC4IGe1CBj0B4GR0U4cTna69hNrDD+m/c3sip9DleP7nmcrS/MZNaWS1he1URT03bezjqT127MYcPXAJ+y6s6XiL77TzQ1NdG04/dkTZzG0g+ayDrPHqDobvK/nsny/26iqem/WT5lI3Oe2tC11UT8HF77jxy4djmfNDXR1JTF+eHLz5tG5t41bNwZdtvOjazbk8m084APC5j5kI9Za7fT1NTEnx45iz/MCM6z02Pa9DrcOZNLvtvPnRkZzVlXZrHuv5toamri7XQ/dy1eY9UL1xYw64+TeLrKWvY/bz1N5gVu+HIduYsPMGedNZ+mjS+T+bOxDDdNDrUF6HwZPwNwOazwd4gd/p4KrwXHk2maHGpp5cDBFlpaWq0LKg70pAZI8PXB5XTYrxEuhkZGMDTK+r0UGWx9FN72yGGEgl6dmyIiIkdGIbCIiMgppHNA7HJa4XDUEOsP8O9EDeE7kUOIClYOOxyDtt+wFQbbwYz/EK1tbQM9pUEnGPZERVhBj9Ou1AuY4Nn2BzjL3Uvbh/fZsHQoCxdcz1l2mfBp52WSc+tfWV6xC/6xlY2bf8olF9sjnH4JP52xgfe3hUe8c5hz6yROcwGcxqSfzeKC32/tVNHbH5O45Hofaza133NX9Tr2XH8Jk4D3Kwr4cdZdTDvDnmf8TOZMX8Hb73eOm79k19atnPVP7sPY9mmMnXgWkXYTtzMuuJAL1u7q+BjsK01GnnYWZ30/sv32YOO3757B2B+exqHWQIfqdwNwGgaREU4iIxT+HgumCS2tbVb429pmtesZ6EkdJ+GVvUNcTqKGuPhO5BC+OzSSoZFDiBpi9bp3uZwdqnkV9IqIiBwbCoFFREQkJHiBOpddORwVGcF3oiL5bliFVkSwpQSEvk5mJlYfZf+hVg4cPERbIDDQUxqUnA6DoUNcREU4MYx+9Kn+xy7+Z88ljOtUKez+p7PY8I8v4ftjuWDif7Fxkx20fr2R/1p3PpP+X1isnHgWZ4Xf2QXsgR4aNfRq0mUz8f1+ox2+7mJj6R5mXjYJ+JJd2/aw4qZRYS0pRjHrN7Bn/5FsqZP9n7Lu6bu5Jtja4Ue3sS64LGEeqxI2cM2Fs7jvpQ18Gqw8PuMK7vvVQfKTL+S2p9fw/j8OEjDbezQHw/nICCdDh7g6VGrL0WESDH8PcbCldVCGv+G/A3oKe78TFRb2Op04Buu7iiIiIicBhcAiIiLSJ8OuHI5wOYm020l8Z2ikFQx3ainhCF2w5+QLiNsCJv6DLfgPttDWpl6dx4LL4WBohIvvj74EvL6urRn6bRK3Fc1hV5YVvo6bUcDBB5czL/4oTjbcxBnMw24JsXMja5jHjInti7PesloyhH/9Lu2MToOcwVnnnMmuPd5+bvQbNiy6mucPzGDpBru1w8fLwy5Wdxrn3/076jY+zQzWcd9PJnP32l1AJGPTHuX3VW9zV/wunp/xY6595q8cAiIcDuvj9xFW+CtHl3XBtzYO+NvD35NZKOg1rKDXYRi4HFbY2/5G4RCFvSIiIicB/ZefiIiIHBEDcHTTUiIqMoKoiPYwwOmwKofDw+ETmYl18TLrwk3BMPjkDnJORGdOuoRpv1nOH3b2sML3z+LHZ25ke6flu3b+lUvOsMJV/9+2ciCrjqamJrZXvcajV57VzUBHy1lckhbJmk272LVpDVxziV1lfAZjz5/Ehr9u7dco55x3M3uWvs7G/f1Z+1O2/uYCfjlvGmcFewh/7e3azuK7Z3HJL5fy+3WZ7Prdxvblkacx6WdZ/G7j84zNXcf/BNrbPsjRFbDDX/+hFvyHTs7wN1jRa7ULsip7XS5Hez95O/CNiowI9ex1Ohy6IJuIiMhJQiGwiIiIHFUOwwhdjC5yiMu+AF2wYtgKDiKcVr/hUDg80JPuhgm0tAU42NLKodY2Kwwe6EkNJqPnkPPkQfL+9T7WfPhNe4uG/d/wzTcHgfO5/uHTyHtqFZ/a5cLfbC7g6aIZZP7Mil8//XAF0acfTn/dXkRGMulv29neS2nyWYkziPx9AQVvRnL9xe2B86Rrsxn7n7kUbA7e+SDffLaVXd2MFXnxXTx/zTp+OS+fjZ+3t4s4+M2XfNMlGI4kcuJf+Z+twZYXW1lVtKq9evofW3k/NMZBvvz4Ez6JcxP9zS62fta+T7+p/4TPJ7qJiToRn2knt4Bp0tLaxqFDrRw8ZF3w7WQQDHyDYW+E00lEhIshEdbrdtQQ+3U7IiJ0gTaHwl4REZGTmkJgEREROebC20kMiXAROcT+siuGh0SEtZQ4wYLhYMhzsKWVQy2t6hl8FE365e/ZuOgc/vuxK/ix3U933LRbeP59PwBn3bCcP0z7lJzkGGJixnFF/h5mrctl2un2/afmsHGmu70X77mzeKji8C/7BsDE21hy/VbuHhVDzLkFdFvXO/qnzDptBSuYwSXhvYq/P4OCV2axJ/8KxsXEEBNzITP/fSNfdruh05j25J/4QzqsybgwNPcLr8/mD5932UPcVpiN9xFrvcm3v4773uXMC7ah8H/KqtAYF3LzH89i1YPTOI1dbFgU3Kf2fiu6jUlHtmekG2Yw/G1p5VBrK62BE/dNovbA10GEs72VQ2T4V6itj6p7RUREBitj//79J+p/rxxVgUCAffv28emnn3LDXffi3frBYd3fPelcKl9Zxemnn86QIUP0H0YiIiLHgGmamCaYmJimScAEM2Bd0Mo0A5wIRXahSmf1vRxQB2vzmfXyWJY/OYMzXPaNX2/goZ+8xgUblzOjcztekaOkta2N1rYAbYETr2+41b/XusCnEerRbrfisd9c098xIiIiR8Y0TQ4dOsTXX39N8o1zjihbfPX5Zxg7dizDhw/HcZyvz+DqexURERGR4yMYVoR3DjZN06qwC4bCpkkgYBIwAwQC5nGvvguYJmZrG4G2AE6nA5fLqY9JD4Ctf8xl7FXe9gAY4PSxjB1/kIOtAzYtGcRa2wK0trZZrz0nSPgb7OEbCn0dBgb26+gJ9IkKERERGXgKgUVEROSEFqxewzBCfayCobCJVSncFgqFj084YwJtpkmg1aoIjHA5cbmcClyOozO+P42/btrIlxdP44xI4OA3bH0llzznNP7r+wM9OxlM2gIBWlrbBrzy17oYp4HD4cBpGBgOBw77TTO9DyUiIiJ9UU9gEREROemEPvJst2YYEuEkakgE34mK5LtRQ4iy+1s6Hce2Es7Eqgw+2NKK/+Ah9Qs+js5KX86S09dxc5LdDzhpJiu+vJo/rJjDWX3fXaRPZui53UJr2/EPgB2GQYTTQWSEi+9EDuE7QyMZGjmEyAgXruDrm6EAWERERPpHlcAiIiIyqBiGgcvpBGf7bW0Bk0DA6uEZCFj9hoOOVq7TFjA5cLAFl9PBkAiXWkQcc6dx/t1LefvupQM9ERlkTNOktc2q/g0c4+Q3+Cph9ey1LozpdDhC7R1EREREjhaFwCIiIjLoWcGKkwg7GQ6YVigcsFtJBEPh0L/fYlutbQHa2g6FWkQoDBY5OZimGdb64eiHv8F258GevQ7DYbd3sFo86JVCREREjiWFwCIiInLKcRgGjrBq4faLzbX/a12QzsT+32ExgUNh/YKdTofCYJETlBX+mrS2Wc/Zo8UIC3yN0AXcHKELuYmIiIgcTwqBRURE5JRnGAZOpxHqIGGa7UFweyjcfnt/BUyTQy2tONscuFwOnA6HPuItcoIwgUBbgNZAgNbWtm/1CYBgla/DCPbpNUJhb/A2ERERkYGkEFhERESkE8MwcAZDGycdAuDQvx0qhntmAq2BAG0tAVwOBy6nVRksIgMnEAjQ2mZ9HWnf32C4Gx70Ooz2yl8RERGRE4lCYBEREZE+hD7ObXftNLFC4VClcMDqJdpbmGSa0NIWoC1g4gw4GOJyKigSOc5M07Seh21t1kUiD+O+wT6+Tkd7+GsYBgYKfUVEROTEpxBYRERE5DCFQh/DwOnoWCnc1hagta3nj5YHTBOztQ1Mk8ghEcdz2iKnvEOtbf1u/WAADocV+gZ7+RrWk18XcRMREZGTjkJgERERkW8pvFLY6XQwxHTSZlcHt7UFurSMMIE20yQQCOBwqDWEyPFgmmafAbDTYeB0OKzQ12GELuwmIiIicrJTCCwiIiJyFFkXiDJwOQ1cTgfYxb5mWKsIfXRc5PgLb/9gAIbdy9dhWMGvenWLiIjIYKYQWEREROQ4UPArMrAcDoOhkRGhi7iJiIiInEoUAouIiIiIyKBnGAZOhb8iIiJyitJnnkREREREREREREQGMYXAIiIiIiIiIiIiIoOYQmARERERERERERGRQUwhsIiIiIiIiIiIiMggphBYREREREREREREZBBTCCwiIiIiIiIiIiIyiCkEFhERERERERERERnEFAKLiIiIiIiIiIiIDGIKgUVEREREREREREQGMYXAIiIiIiIiIiIiIoOYQmARERERERERERGRQUwhsIiIiIiIiIiIiMggphBYREREREREREREZBBzDfQETib79+9n5MiRDBs2DIdD+bmIiIiIiIiIiMipIBAI0NzczP79+wd6KkdESaaIiIiIiIiIiIjIIKYQWERERERERERERGQQUwgsIiIiIiIiIiIiMogpBBYREREREREREREZxBQCi4iIiIiIiIiIiAxiCoFFREREREREREREBjEwTtbmAAAgAElEQVSFwCIiIiIiIiIiIiKDmEJgERERERERERERkUFMIbCIiIiIiIiIiIjIIKYQWERERERERERERGQQUwgsIiIiIiIiIiIiMogpBBYREREREREREREZxBQCi4iIiIiIiIiIiAxiCoFFREREREREREREBjGFwCIiIiIiIiIiIiKDmEJgERERERERERERkUFMIbCIiIiIiIiIiIjIIKYQWERERERERERERGQQUwgsIiIiIiIiIiIiMogpBBYREREREREREREZxBQCi4iIiIiIiIiIiAxiCoFFREREREREREREBjGFwCIiIiIiIiIiIiKDmEJgERERERERERERkUFMIbCIiIiIyLfmpWSWQV7NQM9DRERERKQrhcAiIiIicnKpycOYVYJ3oOchIiIiInKSUAgsIiIiIiIiIiIiMogpBBYRERGRk5pnQx7pE2MxDANjTBLznq3GB9BcS9Gd0xltGBhGLOOvzqRsB3TfuqHrbb4/54fGHZ2STcl2f/vC5loKf5FkjT1mOtlvbONAb5NsKCP76vHEBuf4tD1HAKrJM/KobCgjO2U0hmEQOzGd/D/7ehlQRERERKT/FAKLiIiIyMnLW0bOggNkvNuIaZqYtWVkXRdPNFD7fArl5xewzTQxTQ9VS7NIGtnPcevySbmvifQN1rhbnoqj9LJsyvcCeCm7M4XiuFy2tJiY9cWkewuZ93oPY+0tJzNxCTH3VNFompgfFpPyRRYpz9aGrVTAvEeaSP/dTkzTpH7lFCpn5lDus7ZXMstgfIf1RURERET6TyGwiIiIiJz8XPa/w9zEj4rusCjK/v/oUXG4o/o3XPW6JUx5MJsUt/Vz9IR0Mq4rpLzaB7srKV6VTu59yUS7AFc0CXdks7CHsbwbiiick0vWZfa8ouJIXZTN+KdKqQwrLs74ZQYJI+ztnZdKemIptTsA3Mx+zWTbPQn9m7yIiIiISCcKgUVERETk5OVOIWeBn7zzx5P+aAnVu9tT1YTbykh663JGp2RS+FY9vtb+DurF86GXwqtjrBYThoFhxDB9GTQ2+2G3h7KZUxjfIVCOY/zM7kfz7CgjNWE8HVYfEUuctx7v3uANScR1qFIeCi4v9HvOIiIiIiI9UwgsIiIiIiexKOJvWsI7H1aRPcHDksviuPzxavwAIxLJem0n215IhTcyiY+fR1lD/0deuMm0WkyEfZXe5D5WD0RERERE5JhRCCwiIiIiJ7+oaBKuW0hpbRHxD5ZSFdZmIWpUMvNfeofKez0UbvD0MMABDoSuw+YmPjGB8uoeevC640h9fRsdR/Lg2dT96nFnp1JWuw1/+I27PWwhDveIvh+aiIiIiMi3pRBYRERERE5ePg+1232hgNX3UT2eybHERIG3rhpPs73A76X+w23Eu2MAN3ET3ZSWV9otIvx4VuWR92H7sAkzc4h/KYf8mmAy7Me3vRaPDxiVTPqcIpYsq8cH0OqjdnkRRT1M0T0jm4Ubcsh9y2sP5aHssSU0PpNOcj97FIuIiIiIfBsKgUVERETkJOahfEEScYaBYcSS9Fgj6avnkwAc+LCI9AS7p+/EVMrjysidYV2cLfGecjJ2ZBIfYWCMSaPQlUXBnWHDjkylaF06jY8lEWsYGMZ4Up6qxIpx3aS+UE7ypjTiDQMjPp1i90KK7+w6OwCGJZK7IZ+YVcnWWBPTKY8rpLzfF3rzUjLLYPyzPVQmi4iIiIj0wdi/f7850JM4HgKBAPv27ePTTz/lhrvuxbv1g8O6v3vSuawrepFzzjmHYcOG4XAoPxcRERERERERETkVBAIBmpub+eSTT5iRcfsRZYuvPv8MY8eOZfjw4cc9W1SSKSIiIiIiIiIiIjKIKQQWERERERERERERGcQUAouIiIiIiIiIiIgMYgqBRURERERERERERAYxhcAiIiIiIiIiIiIig5hCYBEREREREREREZFBTCGwiIiIiIiIiIiIyCCmEFhERERERERERERkEFMILCIiIiIiIiIiIjKIKQQWERERkX7w4323iOxfXM74WAPDMDBix3P5rEwK3/LgG+jpAdWP2vMy8qge0Jl4KEkNzqXzVxolu49gSJ+H8uczSUscbY8Ty/jkeeS/5cHfeV1vJfmh4xTL+KszKfxz1yPkrSkhL/x4jkkibUERtXs7bXpHOYV3ppE0Juy4/yKf8oYuWxYRERGRE5RCYBERERHpg4eyX4wnNnke+SsrqffaN3vrqXy9kMyU0Uz5RQme1iMZ20/lg7FHHo6ekLx43jiKw31UyPT40Uy/u5CyGk9oG/XvFpGdMprkZ2vb191dRnrC5WSHjpOX+nWFZF6cQl6NP3Tf8nuTiE1MJyf8eO6opuzpeUyZmEm5HQTXL5tO/JjpZC4ro3pH8O71VK7MZnpcMvl1R/FxioiIiMgxoxBYRERERHrhp/bxdNJWWuFj4gPr2bnPxDRNzAONrH8oGTfgWZlO+tO1XatS+7K3nJLHvX2vd5JKLWm09lXoq5TZIw9zkAkppE9zw9T5FNc2ccA0MQ/sZMVMa3H1vcVU+gH8VL4wnxIv4J5NscfEbNlJ8Rw3UE3OHYVYcbGb5FnTScRNymPvhI5n09sLSQDwFpL/hnW8469KJ9kNiXcVs+WrA5imyYHPVpBqbZnsksrDP+YiIiIictwpBBYRERGRnu0tp/BBu7nCVSsofiyFuGH2sig3KY8Ukx8MIx8sDFWQBnnfLSRzVhKj7XYIsRMvZ96j5Xhawb+9hOxZ8ykCoIz0H3TfzqHjGFYbhLw36nsOHydHwfYSsq8eT6xhYIyZTvbqbtb31VP26Lz2Ngdjkpj3aBn1zR1XC7aZyFznw7+9jLzZ1rixj9d2HtGecCPb7G/jRkT3NMvDEMfsF2pp3FDA7MnRRAFExZE8I9Ve7sG7F6CW6pVWoO6+M5PZowBXHLN/mWGtVreE8s3Wt1FTF1LeWM/6B5JDxzN62nRS7BErvXYwP2o2RbWNVC6dTcKIKOu+ZyeTdp29YoP3hGgFIiIiIiK9UwgsIiIiIj3yVVfaIS2kzplOXJc13KTMmW9/X0RldTAS9FP79OUkJGdS+Ho1oSYGH1VSVN0ILqh9PZ38d3urAu5uDKsNQk7qeJIfre4hCC4l67J08tfV4wXYUU7+7PGkLfe0r9JcTd5V40lbVNTe5mBHNUWL0hg/LY/abgYuXJZO2mVp5Ky2xk0aFdv9tFv9oXnFDI/q5fEdhmFu3MM63uRtqLK+cU8hbiSw28MWe3cmnR12pEaNtyt3vWz5rH1/R7s7BdS7PdTb36aG3T/K7abjo/DisVN698Q43EfyeERERETkuFIILCIiIiI9avI1hr6fEtd93BcdGxsKAqt22EHrjmJyFlTiBdxzitl5wGo5cMBTxfrH0ogDEh8yaSwJVrOmUvxFsGXCQhI7jZFw33oaW0xMs4ltL9jNCBalkvtuN2ltXTWxi7bRZJqYTVXkTrVuLl9UZLdNgNpl88mpwWqb8FmwzUExs91ATQ45qz1dx32rnC3TVoTaIpTe1EP8ubcxFHoXzQleyG00Sb/Io+yjo1Q321DCkkVWoJtwb4q1v3Z7KLMXx/8gbG7DognG1WU7unlcAPipfmmJff8Mq/1EDzyrlpDjBUgge0bikT8GERERETluFAKLiIiISI+8DWV9r+SOI8n+trbZSlk91eWUA5BM7qLZxNmlpFGjEkmZ3L8WCeFjzP9lCm4XQDTxc+eTZc2OvLequqkGzmL+3HiiAaITmb/AbofgLaL6I4Bayp+xWznclsnss4NtDmaTeZt1c/m7tXStUU4l/7GMUFuEHrUSapHgCYWuHqpX5pA2MfwCbUeouZq8m9KtwHbyQgrvSOiyylBX2A/RMfRQsxziWZ1B6qPWPkn93UJSR3S/nr8mj/RbrHMi4aFC5k8+7NmLiIiIyABQCCwiIiIiPXKPSu17Ja8HuzEBCcOsgLQ9PE5k/NlHtu0ex4iKY0qvPWljGBqW00bHBlsbeNnm8cLu+lDbBB5Nsit1ra+kR+3b/d0FtXbbhb6cl8XOfU00BS+g13KAneV2dTPV5LxQ3k3A3F8eSu5MDVUxr1idQ+KwPu7iP0BTb4tr8kifXYIXSHzgHYrmdG36AUBDCRnX5VANuOesoHhBIkep2YWIiIiIHGMKgUVERESkR7Hu9kBwi6f76NLX2BgKNTv0oj2VDYsmOhjOuqKIuyqTTPsCeqyqp6emDL3zUPaLy0lf5QV3MrlvFJExLiyGHRlHMLLvcKz2ekPbSx3Vsc2DvyaP6XawGze3lOLHkum2TruhjHnT0inxgvuyXMpeyCC+r/BZRERERE4YCoFFREREpEdRCUnYzRQoe6Oym/DSS/mqQvv7DJITrQjR7U62b6tm244ud+qXuLODkWanMfwetrxhfz/K3U1o2UhTWHmw17PF/s7N+Dg3jHCHLnCX8NQWuw9xp6/XZh/lC54dgFb728lRR1BB66PywXTSVnrsAHg9C6d2GmVkPFPsSVeF9/5t2Gb3+nUzZUx7SO/fXkTGdTlUeq0A+J3fpHZz4T9gbyU5N6VRtMMOgP+wsO/qYxERERE5oSgEFhEREZGejUhh/mP2xb9eTyf9wXI8zfYyv5fyRelkvW79mPjYfFLsXrJx56dgdaqtJOeREjx2dwX/3nrKX68MVQ5HDQt2q61iy4d2cmv3FXZfnGZXtlZS+FI53lYAH/UrC8m31mDhVUndBKqF5D5fbbWJ8FVTtNRuK+HOIHECEDWF5DustLT2mSUU1fna+wo3+/DUlVF9hME1QO2qPErerccb3E+tfjxvFVFgB9cJs5Pp2sW3N36qH03h8sergcTuA2BrZFLutUb2vlBASQPQ6qHkpSJrsTuDxGAP34YSMi6bZ1X2zinuOQBuriZvxuXk1QBTFQCLiIiInKwUAouIiIhIL6JIeKCY0rlWRFj9+HRGD7d76A6NZfqjVqAbN7eU4gcS2gPZyRnk3mXdx7sqndFDrfsM/d54pr/e3qogOiHJDnq95KfEWOMOz6caYORslpRYFbm1T08nNsLAMGIYf6cV6ibeV0z2Zd3X1FYvSiLGMDBikqz+uUDKIxkkRwFEk7KgkIyzAW8J8xJiGBrsCzw8htEJaVTuPfI95m/IIT15PLHB/RQxlNEpedZjmpobdiE3L2W32OvcWd5Nb2N7rTcySV1UHXxk5CQO7dDH2PpKo2Q3JMzNZb79uNLjDIyI0Vb7CNzMXpppP/5a8u3WDmAfny7jGRiPvknZ3amh/UdNDknDu1lvVsm36HEsIiIiIseDQmARERER6UMcqb/ZSWPlCrLmJhMf7JPgjid55nwKyneypUslaTQpS7ewrSSL1KntS+KmppI1M7G9hcPI2RRtWsLsCcFB40icGxdqxRB3UzH1768ga2aiPb6b+MsyyC3bRvlT3fevTfnNTpo2LSHD3q57QgpZJdsovS1shqNSWfH+TtYvnd9hfu4JyWQ8UkzKEV7MDiB+mrWfEkNjuIm/LJX5S9+hcVN4Ja2HLaus7+ZfldR9L14Af1P/Q9YRKRRUV1FwR4p9nKz9taSyluKZwb3qx9/PSmd/s+JdERERkcHA2L9/vznQkzgeAoEA+/bt49NPP+WGu+7Fu/WDw7q/e9K5rCt6kXPOOYdhw4bhcCg/FxEREZFvYUcRl4+ZR6V7Ie94cu0qXRERERE5EQUCAZqbm/nkk0+YkXH7EWWLrz7/DGPHjmX48OHHPVtUkikiIiIiMgC875dTCaQ8lqEAWERERESOKddAT0BERERE5FTkvqkU86aBnoWIiIiInApUCSwiIiIiIiIiIiIyiCkEFhERERERERERERnEFAKLiIiIiIiIiIiIDGIKgUVEREREREREREQGMYXAIiIiIiIiIiIiIoOYQmARERERERERERGRQUwhsIiIiIiIiIiIiMggphBYREREREREREREZBBTCCwiIiIiIiIiIiIyiCkEFhERERERERERERnEFAKLiIiIiIiIiIiIDGIKgUVEREREREREREQGMYXAIiIiIiIiIiIiIoOYQmARERERERERERGRQUwhsIiIiIiIiIiIiMggphBYREREREREREREZBBTCCwiIiJyEvLXFZI+MRbDiGX68vqBns7x01BOdspoDMNg9IJK/AM9n1OOh/Kni6j29XP13SWkGXlUH9M5DeD2RERERE4SCoFFRETkGPNQdIXBvDf6mxr1xkvJLIO8mqMwVL/Vkj8micKPjtZ6R2dOhXOLGL+yEdNspHROfJ/38K5Ow3i0l2hscz6jEws5seJkH2W/GE3mOl/o5/KnpuObW4Vpmmx7JBnP80mMfrp2QGd5fAzEud/9PGoXlONphq7H5wRXk4cxqwTvQM/jhHyuiYiIyGCnEFhERESOrboyCl0pNC4vxXO4991bTuYtxze08a3LJH11+BYTyPqsivkT+rpnx/W6jnMUeT1sqUsj+Tzrx6iozivUkp94mNWQ52Wxs3o+fcfJx1CX4x1N6m92UjAj2v7ZQ+0bqSQnugHrccffVcXO+xK+5YaPYH8JXY/PtzQAz/cBcSyfa6fKPhQREZHDphBYREREjiE/la8tIemOXFIpo3JH+LLuKhvDbvuoiOmJ0ylclU6sYWCEfcT7wFe1FM4eb90+ZjrZq+s7tAXw/TnfbpVgMDolm5LtwaXV5Bl5VDaUhVoKxE5MJ//PViVj/fLpTLm6kJLZ1n2tytlq8ow0SnZ3HH9eonV/Y0wSORv8HdbrOs4Gyn5hkL2hU/OCmjxiU4q6Dcd9mwtD24idGPYYa/IwYtMoIYckw+ha2egrJ3tiCtk19vLwubc0Uft8OuNjDQxjNNMXlFDf3D6X8LE8G/JC+9AYk8S8Z6vptt6zuZ6SBdPtMWMZP6soVOHY13Go9gWP4xTy13R3vMPOh90lpBlTyPGWkf6D9vOhc4Wzf3sJ2Vfb50bseNJWWrPx7ygn7xdJjDaCj73c2u+97K+e59/N8er2nABfTSGZYfNJf742dK56V6eRtqq+52PSjQNfVJNvn/vh5274PPqcc00esVd0Pu88FKXEWvva76H80XkkjTFC45Q3dDebrs9hf137eTs6JZuyzw50nF9P+6PH57uP6qd73j99ba+rJraszmb6mM7j1ZKfcDlFOzqu7V2dRuyDXduO+LeXhF5Dwr+C+6LH56+9/9ufa15KZqVR8lEvr2n2c2x0p211qezvZR/WPh88nrGMv7r3c1lEREQGJ4XAIiIicuzsLafk8XRSpyWQPBMK3ziMj+1PyGD9qlyYWUyjaWKaC0m0FxU9W0rcU1us2zdl4L83g6JgG4a6fFLuayJ9QyOmabLlqThKL8umfG9w4ALmPdJE+u92Ypom9SunUDkzh3IfxN+2nuJHILXEuq/5UGLXedXlkzJzC8mrtlnr1JaRndixFLfrONNInpFB/huVHYLU6g0FTJmZTFx325hRFdpG47s5xK6eTvY6H0xdiPlFMankUmWamK/Nxh1+3+gUlryV377cLGX2SHvZ8nxKz85nS6OJ2VJFRnMWGSu7+VC6t4ycBQfIeLcx9Bizrouna72nj/IFyRQMz6LqCxPT9FD1QppV4djncShl/i2lxD2zjUZzC1nX93y8ARg5m1KzilxSKf6im+UAe8vJvqyAmHuqrDE8VRRdZ9VbRkXHkbKokp1m8LFnkL3a2/P+6nP+nY5XD+dE1Mhk5v/GPlfri5nyVgr5YaFp2YLM/h0TW94z64l/ZhuNponnjTQ8d6WQXxc2j/7MeWoK2V+VdHxTZkclZY3ZpEwFomKIm7GQynoT0zSpmusnY0E/qkt3l5FxVTFxj23BNE12/i6dxmXzKAtbpcf90cPzvfbZFLKa0qn8wsQ0t7AkrpTkBeXW86gf2+vi9VyKmzMo/szEbNlCzveK7fESSJ7dROG68NcoL5VvVJExLYmOz/B6iuYWEHOftV3zq3dYODmFFZ+ZLJxK78/fbpWRdXfPr2n1KzMoGJ7FlhYTs6WJdx5KIOWlnV1fn3rZhynvJ1P8oYlpNlL1YCzFM4LnhRXkj3/2VGipIiIicmpTCCwiIiLHjG9TOesfSCEpCuKmpRP3TCmVR6EALem2TFJG2rGMO5X026qpqrciqup1S5jyYDYpdjIaPSGdjOsKKQ+7klXGLzNIGGEvPy+V9MRSajtVAPaket0Shj6Sy+yz7e0PcxM9rO/7RV81m6xl5VSFplFN5QtTSL24SwTcdRsjEsl6ZD5Vy46gpUa4izPIvMptBVouN6mzM6h+v77ncM9l/zvMTfyobj7yv7ucomXp5N6XTLQLIIroEdGhx9D7cagl+a6c0PKjwbuhiMI5uWRdZs81Kpro4LRHxJMwyt6fLjdJFydRtqPnvdmf8yh83Z7OiaiR8cSPsG+PTiAp0csWT9geP8xjknp3ZmhOUWenknXnUJa8VXuYc7YCz5J32x+/Z1MZjbOTsRprRBM/OY4o+/i7E5NIet3T57nn3VRMSfj+H5HA/LsXdlinz/3RQTXlT00hZ0EKbpc9r5sySLOfR/3ZXhfuTDJvs9/QcEWTeFcW6cuKqfRCwnXzifldJaE4dHclpZsySO70Jg+7a6msmU5yaLvJTE8tp/pDaz8fyfO359c0L7Wbqpk+zX6OuaJJTkmjvLq2+8r8bvfhUHIXzSYuuNunZpH7yyoK13kAN7NfM9l2z7dtqSIiIiInOoXAIiIicox4KF2+nsyrk62Aa2QK6VflUbbh219Eakpcp+QwAvytAF48H3opvDom7GPTMUxfBo3NwfQ5ibiR4XceCi4vtPZny9b4yRO7Brd9ikoi5YFSyt61H39dFaUJqSSf3c9tjIgl7i3vt+v1OTGuY9Wwayj4u0nl3SnkLPCTd/540h8toXp3D8n9bg9lM6cwvktP4v4ch1SmxHe547fi2VFGasJ4uhvVv72MvF9cbrcVMIid3Vu9aH/m33Hdns4J358LyZyVFPoof9KiTiv095jYOp/7cfGJeOs9eA9rzpAwLZ2m1yvtUNJD5epG0qfZQWBzPWWPzuPyYDuQH6T3Xl1r63b/jxpPatiPfe6PcLs9bPEWMj0mrAVCzHQKacTX3L/tdXFxXMfK+6g4plxXSf1u4OxkZscWU2lXVvver6RqbjJJnU+okfEkTV5PZfC5vLeS9WWJJIyJ5kifvz2/prmJT0xg/YZKfK1Aq4/K8lISE7qrzO/Gbg9bvMmM7/Q6EzsyjvLd6hwsIiJyKlEILCIiIsdGXRmFb3nJSWwPpNJWQmGnlgjHwsJN1sfYw79KbzqKJadHJIqkaRmsX2c9/toNxcTNmd61FcQJIYr4m5bwzodVZE/wsOSyOC5/vLpLX9S+nDDHYW852Zct4cDMFWz5wppHY0mvUSFwFOZfl0/KzCoSHixnm33/qke+xePoh37PeXIq87FbQuyopIT5pE6GYIuPJQdSWVFttwP5orj3YLW/jmh/LLTbdIR/hbU4OariSJ4ZS/GGWsBH5bqwN7E6SGD+6gw8d1qBe+xl+fgfKe7HxSOPTMJtxWR4MomJMDB+kES+P5fiuwb0Eo4iIiJyElIILCIiIseAdUG42N/s7BjeHHiHhW8VUdpj64UDHPhWCbFVNVdefaz6W7qJm+im8sMja8oQddl0Mt+qpMpXS2VJHGkXdxco9rCN3R6qprk5rhFqVDQJ1y2ktLaI+AdLqeqcAo+MI/X1LWzrkg4f6+PQvbizUymr3dY1rN5RS+HFmWRe1d7ioHF3b8fwcObf8znhra+i+s5MMiZH20Gij8Zv1c+DLq0TPPXVuOPjcB/2Po8j+aYoSt714Hm3BEK9qeupXZZE5p0pxAXbnOxt7FcbEveoVMrquzlv7W8Pe3+MjCdpcjlVdd0v7mt73drUqa2F38OWN5KJt0PluGnpxJVUUuurovKtTJKndj+M/7NaDjxovb41frieJTOCb+ccg+ev30Nta47Vz7pxG+ufSun/m0cj45jirmRbp9dcz44qkt0D/caYiIiIHE8KgUVEROTo81dRuXI6GTM6RRVRyaTd22hfIM4KS0rL7Y8548ezKo+8D8PXjyLhs21sO4xgOGFmDvEv5ZBfE7yTH9/2Wjz9HCNqWAKe+m09VisnzsjmwKIcSnbYUaPfh3dv1xrZ7sdJJOXeKiqfL6d4TBrJPVQzJs7JJ3pRDkUfBT9uXk3+IwWk3ZXWv/BnWDSxbGFbQ39W7obPQ+12XyhM9X1Uj2dyLDFdPhafQsYdxeQ8HTyG4G/w4uMIj8MRHO9w7mkZzF+VQ37wY/qtfjxenzXupi1ssS+Q5qsrovB3YRvpZn8dzvx7OieihsVC9Rbq/db9vW8toWjTtwne3FQtL6Dcbs/h31FCzqIDZF+VcNhzBoi7OJWo1/PJfyOK2ZcFz6wooiZXsaU2eO7VUvRCUb+q9+MuS2f28iUUfhR235eKQsv73B9djn8C6Q/GU7gon+rgxe38Puo3e/D1Y3vdK6JoeW17a4Wncyi+I53k4DRGppCeUE758+WU3pnc9eKDtvq6QmJGxHa77Fs/fzvbUUthdDTdb62TLvswkdlPRZPzSBH19m2+mnxyX0gj67oT83MIIiIicmwoBBYREZGjzvdWCUVzZ5MyouuyhOvmE/tMOdVA4j3lZOzIJD7CwBiTRqEri4I7w1aePJ/C2bXMizEwxuTTrxrHkakUrUun8bEkYg0DwxhPylOV/e6lm3BbIemb5xFjGIx+upstTs6i/PUpVM4Zb7W5mJhCwfvd9FztYZyEaelULsoh7rrknqsCR82m+N3p1C+YYn/cPJfGOZUsmdGvLqAQnULWazHkJxoYsfMoO+zWnx7KFyQRZxgYRixJjzWSvno+XS8dFU3KU5Vk7ssn6QfWulPuXk8jHNlxOJLjHW5ECkvezaTpWXubP5hC5rpGmDyfogcbyZ5oYBijSS+JZeGqsMfT3f46nHMVjqUAACAASURBVPn3cE5Ez8hi/YRypg81MGKnkLUjjYJn0g73UYVJo/AF67yINQzirlvPlNfLyZpsLz7cfX72dNKjCykkvDd1AvNX5tD4YDyGYTD6lmJiHyxm/uSeBgkzMpWit5KpuinsvouKybQX97k/ujn+7plFrL+pkdzLYkP7Nn+Tt1/b607CgmKyhhWTHm9gREwhf18mlU+lhPXXjSZ5Rhw5i0rJnNZTBAwJF+VSmTK0vVfxmOlkr7Orf7/t87ezCYnkbpjO0FCv59FMX1DefXV2N/swbk4xlVfVk31+2PP53SX267OXklkG4589vlX7IiIicvwZ+/fvNwd6EsdDIBBg3759fPrpp9xw1714t35wWPd3TzqXdUUvcs455zBs2DAcDuXnIiIicgT8lWQPLSHpqxWkdhOSi8gA21HE5TN9LKnN6uaND/BvzmP6b+IpXpqK224vwt5ysicWk1RbTOrR7LLgryUvpYj4koL2cVt9lD8YT/H5tRTPVEsHERGR4yUQCNDc3Mwnn3zCjIzbjyhbfPX5Zxg7dizDhw8/7tmiq+9VRERERORo8VdXUjw3hRwFwCInJM+mMppm53YbAAPUvpVD/IwD7QEwwIh44if68bce5cnUlZMzIYUD4VmvK5r4MeOP/rZERERkUFM5q4iIiMjx4qunaFkRGXPCP34uIicMbzmFS2H+dT1FwOAemULVu5V4g11g/D5ql+eQ40ohsYc+30dshJuUTZVU7g5tDF9dETmLokg5X1XAIiIi0n8KgUVERESOOavvphGfRtXF5eRc1vkKayIysKrJMwyMiwvhkQIyzu55zbi5xRR+r4zUiUaoT3GhN43Kkowju/Bbb87OoPj5WMpm2v2mjfGkLPWStqG41zmKiIiIdKZ2ECIiIiLHnJvZr5nMHuhpiEgPEllomizs17rRJN63gqr7VhzjOdlbuyiLFdVZHJ+tiYiIyGClSmARERERERERERGRQUwhsIiIiIiIiIiIiMggphBYREROQQ1UrHyF51b+mYaBnoqcwLysXZxL5M0FrP2ql9X8H/HEnblE3vkKdf5e1jsavvgzz618hec2nlhn7p63C/jhDbnc+rZ3oKdi6+bYte2mYulz/PjmXCJvyOXHD7xJTc0Kzrkhl5+W7hjQ2R5tDRt/yzXzrMf5w3nPsfLEOl3k29r/ES8+8gTn3GAd439+qYZj/dIj347v4zdPyNduERE5tagnsIiInIJ81FXsYDGtTJ17EaMGejo9amBl9svc7h3Jf634OZfa1xLz//W3jM3fTUL6zfz+6hN39nIMNDVwf0UDXDGOX18y0JPpj+7P4YHg+8ubXPOX5tDP22NHEMeJElr3rsNzPnEvL678M8u2NrO9Bc4cHkXKJZfyRPp5RDuBfe/xbOFuKuz77tkXTZzb/uHrGhYv/iNPfAUPL8zh3yb1Z+vN1K19hcVveKnww7gfjOSBO6/nxtHD+ryn7+M3WVxUx4t/hzOHD+Om63/Gw1eeTRTA1peJzGuAK37GwYzJXe/c5mP7pjd5bnUDK33WTVNHj+SO2/q3bdjOc/PWcP++jrdeO3cer17ptsbfsJb71+ymYp81v+t+9i88PGOCtR/D+Gt+y9hnd7NnzHl8nnslZwK+nRU8/kIdq79oZU+EiysvmMyTGVcy7v8quCFzM2u7ndMo/vTqzUwF2L+bivUVLHvbS8U+gGhefSGTa08HvtrMc8v+yLKPW2kApv5oFA9k3MiV/2T96Va39k1+9XFraNSo091E7f+IlYV/5IkPmmkIn893rXUaal5m8YoGXtkHo6JHcMcd1/PrySP6sR87+eJNrsmuoyL4WILHsTv2/orsvK8mTeDhO37G5OHWY+3xfP6477HP7GNfAfg+ruDF0jpW2uuceeW1fD53Qu+Pq6/90I/thjv4RQP3V/hOotduEREZjBQCi4iIdKuZ95Y+x0+/bP+jv/fbj4G/f8TaL+DMKyaHhWd+at7fzR6iuSlRAfCx5ebah3M4GH6THRQkhgdoURP4txcm8G8DMMMTxZlXZPL5Fd0s6PYcPsq6OybdHLuD/2eFZpem3ch/zTob2gDnVD559WhN5Fi9NoQ/5900VL/JYx80s8deumefn5XrK2iMHmG9KeT3W9G2ewL/88y1jANwgu/jNdz6+HYqWg5v63ve/i1Xr/aFtrf9i93cumgN7v/4OZd+t5c7fvEmtz5SFxZGN/PcylfYvv9mfp/Wj9eufdtZ/Vp7AAxQs3M3NYvW4O7XGwp+/Pt6Xrpnw8v8OGzwPfuaeXH1Whocwzq+ufbVH/nXgt2hxw9WKH9h/u72T5K0tFLxl83U7o9i67xephThsgLw/XU8cd+bLP6604wDgL+OJx6oYHHY3Gs+buCa+18OvZHi91vn8u13/5p//8kwaPOy9pGXuX17p/kQzad3T4WPX+HWZxuosRc3+PZy/+Mvc9qSXzP3B73MtzP/RzzxePsx7ZPTBV9V8K8PhIXiLa1UfFBHxcPwyZJ/geqans/n3k4Tp6tf+6qhooBLVvo6HL89gdaOYx3u4+rHdkVERE5ECoFFROSU5rerkN74O4z7yUU8mHYeZ7KX9176Lbf8BWAzP7xhMzCKP5Vcib+721+9mbiKAn64spknH76ZcW+v4Vd/aebA8GgezP45t48bBjSzvWJNx6qzKy7i4bTz8FU8xyW/aybxlpt5dXr7X71173xEBS6e/ElYlZyvhlc2ApMmcOX37Js6VVldOnYcTy64lslR4N9ZweLuqtW+C3wVrFgLq3zqclsdT9zwJi9ceS2f/nMDv36sjpWnn8cnT16Ev4fHE+3stN0oF3Mv/5f2SsX9O3il6E0e/6tV+TXuB27uuPlabu+uKq3Ny3vFa1n8zl5q/DAqehjX3nIjT/7EDW17qSlew/2hZZ2q2zotD/fwwnmMem0Ftzqn8smtrSwr2Mxzf7fGuOeem+1j5uWVnBXc+lk0/1mQybX73uTXD1tBQUVeLosJVhV6eeKGN1nMKP706pV4817khq0dKy39Nb/ltGd3w6SL2LPwUqI77YOpPzqbJ+ffyNTT7Qnu284rKyva99H3RnDHr37O7d2cw76d7/HiyzWhKreOlZo9n3fR/sM8DqVv8mywarHTMd1TUcAPV/raqyx7OocP43h2fBz2sXBO5fO7h7Ey748s/vsoNuRGU5Lb3TGhw7G7svEV7l5tBX7vlb5CZKl1fOb+w5p3ezVqK3s+WMPil3ZY4WOUi2vPvYild1/Emb3tg55eM+znla/uFf5tmTVml4rYrzfzXGHHisJ7br6Wa4PVrh2e81FEX53J51e3H5qGPzzHOcXNePf5wVfHc8/YgZv3I348+yO44md8M7GOC/N3c+B7I7jRuZdXuhRA9/S4R1K+3grQfn13Jk9OhYrCAq75y26WbfJy6ZXuHs/VqX/9iArgyquv5T9vnAC71vKvD3zE2jfe473pP+fS0LabqXutgFv/4GO7cxi/zrieJy8ZCdFTefiFqTwcOgc3s3h2BU+0+PG3AFF0eS3p8Dza56MRYNR5fPLklV0+8eH5u3U+3H5HJv9+aTS+D17mp081UPHBDvZcPcoK8dt280pBDe/+f1FM/tpPnX3fqHP/hYenVsDPrufGMdHw9ze54d461tZtpybqdl599coO2/JtfJFJhXuJvWICk4G60goWfw1TL7mI/0ifyrjosNTwKy+1+wD3BP57ybVMdjSwcvHL3P7Zbmr+5mfU319m8bvWqi8ufY4Xl0bznw+OYuV2IGIkv1/2c67kz9x/x3s895fNrL1pMu53dlADXJl2I7+fNYrtrxXw49JmFr9dx9yMyX0+v4PHqaa4gsVEMRV/KFBm0s0c7PRGSl3xEi78g5+5l03mzMYK63y84CL2/PpSov9vM4vvqeCJLxqo+zqKa3s7n/sae9/mXvYVXPpP7/HESh97IqL59wXX8vMfjSSqU5V3j48Len69GtvbMYJLfwTs287a1e+x7GM/435yEXN7e8NERETkOFFPYBEROYU1cMs9FTz7Nz8N3mZeLK3g/Bdr8P/vZpa95+9QOQRAT7eHtLLs8d9yzV+aaQD27PPxq9w1vLcf/H9dwxUrd9sf+7Wrzv7qxRf2B2lURFgQ0PYR721sBfcErh3XfrOvbjsrgV9fPpVogM/WcM0Dm3nui1ZrXi2tvPd5K0QAX7zJDZ2WVfxlMz9e/CYNbYe3p/b8pYKfLqpj5T4gAhy9PZ6v/si/Lgrbrr+VlesruOaV7YCf9377Crf+xQptALZ/4eWtz5u72epeKp5awU/Xt4e4Db5mvmlxAc28V/gi/9xh2V7uf/xF7q+xxmpY/3KH5UFTL7iIG39k/7C9hksWWQFwcIxfLamgrpv9U/duHSv7bLw5gkt/YoWoL7wfjIz81HywG4DbL55MNF7WPtVxH9R8vIN/fmiNtd227Tx3/5qO++grH/62HsrLdm/nBTtAhPZKzff8vZ13h3McAHzUvecNjRM8preu76W/ZZdzuLfj6afud7/tcLysx/EyFWGVoGyvY9ZDf2Sxfbw+29ifYwLb39/B2n6s59u4gvOf2tFefepvZe2+ViL72ge9vDb4P36Fax5vHzNYEXv/xr1AAysfr+D+sONX83EDtXvDPsre+TnfYfAd1HzQDERx0wXj4POPuH9n1zlEnXspT06/iI3/fi1XDT+Mx+33st0LMIrrpkaDM5pLLxgJwFrP7l7P1WC1auJEq71C9OipXDcGaNmLJ7zH9rvvcXWpz7q/v5nnCtew8otOE2zz46vbznvAmZPHMXU40NfzKFgR/ffNXGL3zr1maQXb91vrTp44kjOBur/twNfix+e1QuOpY0eGqrgbKtZy69+ieeqXEzqGyM6R3HjPPCsABjh9hL18GNHf6bx3G3jjD3vZwwgeuHoCsN16Xgw/m3t+1MD9v1pC5M1PcOtrH+FrA743jit/AHy9m+1eP/59e9nzv0DECCb/k4+ajV7e61TN3bJnL+8B/GQCVw4Hhp/HVRcA+Kj/uxfP36y53XTJ2YCLcYlncymw51Ovfd71/fz2163lV2/Dw7dP5f9v7/5jozjPBI5/r6zLJLXDtCzZTbHbbWNgERbdyC5dBHEcmSObwCW2sIoTrGBfUGIaDnwc4sfVCjLnFtxDCU5dxdwlNUaQ2CcQhkuOxUqVBTliQ4yyQa5uwU6yB6ZZF0OW2qRDsbn7Y2a9u/b+MIQmOuf5/IV2ZufH+77zmn3mmWceHX2K0TQvh45qkGGn8kEzzMxmcxrwUS++AQ0t1E9AA6ZasY0e0KPHc6ptJ20rCJ3Rr52Knzrg4D5mPlXLrPV7aLsYyQROfF5J5qsU+w1fF8t/14/H+L/Fc4cSza1CCCHEl0cygYUQQnytFa+qpL7ADB+38ciWLjwnevA9X0ZrA3pG7IzYR7sTfR4O/gSyHJytWYqNHho3tbDuQi+HToeY/bn+uKtzSRHHns5B0XrxX1b1wMGSKs4viT0u7XQnLw6A6/Ho4EOAQ2/2Q1omjzr0gKD3hB8v4ChwcezZPFQGCVwZwjYJvO16hqRzsYvD5Xmon3eyY5ObrRd8NJ1eRM0PbqGhBjRY7KKvPJL5meh8fO2dtNyAohVltD5ugwEj8+toJ95SleCnAAp1L6yhao4J7WKAoBrnud9LnTT5AFQaX6ykYroJLdSLppjhkptX3gXSVJrrKimdDoG3GsnfG2LXAQ+rnXl4T+nBhPrtVVR+f9DIYDRRvKQA26TgSMbXfQtcnHk2D/WSm+XrOmkbCOK/Ao5psYfjfKaa49TyUPvoeqqxaZVqrp1KOmh8pwtvuQPnDR/vnATSMimep0L3Abb7gRnhsRLC82+NPOLx4/49OOjkxctAho1jL5VRkDGEdrEfbTpwZmwzKZl2fjYnkgkMwA09I232lUTjLoR3vP0AgBlngRVXe1SgCEayJuMZM4aT9eeAhya3FnPOgSONzNrfT5M3iGsksVLjk2l5nK13YUvTP5kzjj5xPlPN+eljs5X7/hC9VhB3ez99RI3dG/30/SndCL4mawNXgrkhhPtID15MbN5YSU1uJGu0sb2Tf8630ndB33br7kqKMjRCF4KQFQ74j73mIZJ5DWCZZqZ+SwmVMwDKuN7gjjtHFT1tA4KxmY6pznvAExlTxg0r5W7j58PFfvp+7084VgMn9dU+CARgrg3tgo+jAb0P+z6L2r1iY+8rZRTcHaBl2z5W+gdpPOGnYoUdjCcRtobPoXAhu1cUGDfAOpJfR/dohABuRObnkZINWwpQ55XQvmIfy/e7sbS7ARMVK0rYscQIPnYfYOXeEKUV5ZRO7+LQmHYLG8R30MsuwPl4Hs7R9YRPedh6ASz5DlwqcLlXzyLNCLD9lSEju3iIloNtqFYr9fk2Kra4CGxzs3LDTn0jVhvHXiqlQDVBbTW212LHfJ+7QV/vm+GfdgqKkXnqD/4PdwUBTCN9iGLS2zDQTxCwpbi+LSEPm3YGUBYvpWou7ErYFhBo97LjBrh+modjEjDJyZZt/fTV+njkOf187HMdfLh2KXbjeBKP5xTbJllbge+jfgA+ONJB04AR+L3Yy/JftPHer0twDCQ5r2TzFeak++VMZA4/Xl+GUwkZf3+SNJwQQgjxJZBMYCGEEF9jZh7NNR59/6GNh+/AFovmO7BNAiZl45qvB22Cn2tYHHYqFPC+1cbMVbtYdySAck+ilxslqPsbrq/6cLi+apDAJ/qi4gXGY7uT0rFNU2OWPfpjY1lGHq4FepDAfyU6vXI8MqmJejQ48fkE8f+3/mO7bf8+Ji+vZfIqNzsGgBshAlesOPPN2NDYtG0nP9qwhz0BE2q8JNdP+/XHiGdk85jxsh1FzdTXDS+zZfPwdBNgwpafQzHAhRBBTHEe+wUY4tNQdEqoiScXGedldeiZil9UhpPifPRAbDdwroemG2CZb8epQN9HQT3w0+1j1lO1TH6qgUc8ept98IcgfX8w6lfOz6EgQz9GZbp1bBYowCU3K7d0sDU6ABw2nKyfbqEf0PDueZWHDsYGiPR9DMX7AnHHcLL+/KSXRoCBAI+sqmXy8h3M2q+P0baL0QFdhZpVkQDwnRUk0A2gUhw+5jQzlqkKt9cGAAF8PoAhdvyqQb8e1vv0duju5xOyKXApWOhn+XO1PPSLA7j/pEQewR9zzY/Vd6mfXzYcoOnj2800THbeyV1KMlbtc/SM2vA8MGWDD79irHNX1EZy7fp3J9koelTPMvZp8dO2237Xwab9XkLDqa8jbEUca67i6uvVXG/dTN9GG06gz9eF5zJo/rfZerAfv6JSVWimIG2IpoNv09I9qNfsfcnPJ46F1Lsyk7TAIP6De3j8yCC2uU6aS0dnrwZpO9JLHybWFzr18h83h9AABhSefGEN11ur6Vurt1Xju12Ehntx7/XQFIQCh42qHwLBANv3ddzyExzjk2JsD/fS8lIHjffYqS93kHRUaD5ajgwCZiryjbF0rYs9/+6j6RoULbBRMQ38Z3xsPdpFvF5OOJ7jbTtFW2k39dU+nZnH+deruf56KfVZwOUePD0pzivZfJViv+E53LLAgfNbwCSVB2bGncGFEEKIL5UEgYUQQnyNpaPGeTT6iwhpCQJC1kU0/nYNH67NofieQRoPepi1qQVfvF/BA14Ojar7C+Dz6PVV10fXCL7TEgYZTCjRv5Jv5XxGsS2u5OzuUg4vs2K7FGTdy/t4Ym/8gMDtM1NQaMaCxrotO5j8lJGFlWbmYXv0iaRjveO/zRWcP87EwhBvnO7C+36APuBnDzqTB1BuQ9/pHiNQ4eDsvmqut66iOTqQnaSfxt8PfjztQ4CJzf+kB62u/zzFi70SjOEvTuGur+SlS7fRBuOSjrNiA+fql9JcqBI6F2DlL15lZbse+E50zVtcxjG8voHzz5jpG+inst4z9kbAF5WhRp5EMOYGzXjBHveqJJs+lXkltFdk4lKANBOly5xUWAFU7NaoFW8MJbn2HWxurdbPdfdS6qzg/t3bbH9/nLOFkm7cDDKh5uaMPO6v3fTTuLOLNs1M64trqHu2kmOvFFA1rJfwOXS8g62Xoc/XgWV5LZPXGHWWuzv53vIGWi4BDOLb/yqL/yPE7IJFvLd5kX4DMJq/g5e6gblOysPx4W8YL4fDjHOOPvmoM63MB7imcendN3nCq3Gfq4hjW8qo276ZD5el4/F2sC5B+ZUpqnFD8S/hvz8amlH2wqbeh8UKMBSZ37UhPUvaqmJNNbb9HWz0A5f9/OSpWiaPZGYHeGh5LTuink4Ieb1sHQDHkoUUGfOqr+1N1n0MFc9U0rq2jMb6NRxeAG0H29h+Su/H8YzneNsOpWgrxfilO39uDhbj5qxjtt4W2rkU5/VJ3KYe137DZie80SuEEEJ8NSQILIQQQiQTDPHpMGOz/RJ87jnp0+tTDvfgPqn/wLXeraAF/fivmLAvKKL+X8tozAIu9+OP8/b60Gk/jYTrxxqGu/C8o9eRLBhJNlOx3qv/69C7nXo9yWGNUHcPfVix/WDUsoFO3O/qx2v/jgqKgh6L6cf38RAMa/hP+CNvcU8i8flEjqn06TIjC6+a669X0be7jKJpGn0f99Cn2HD9dBWHax24AO9HvVwdvZNvq/rLo7p7+K9wDUetF/+FENxnpihm2RCBE8Yj21kqVkD5gZ0no4JN9qxMmreV6Y9kf0GBoP6YcaKguZLr4Gdp4Dvj5Y0zQIYdl1GHOBywsdjzjMCtnql49dVKdhdYIwGdk114jPGhhfz4L43dz4hvq1jTgIvhR+6N7yXsp1vohxEm7jOrMBzC+/6YN4vFiDuGk/VneNlUG8d2bzbapJqrv11FX+n4bnqk6pPUVCNYFuLQSaMRhwcJfBwgkjc/jjaImRvC21So2bhm5Lyu76vi/O4inITwd/eiTXVQ+uwa3lurZ522XAgmuOb19UNRNWH/HL7xdE3jVvP7U563YuOBGQABDnlDMBzCc0qvb+2yWbEkHavp2F3lHG6u5vqrZVRc8/HL7uiavoZTfjyhIRgO0HZU37ZDMebMS9HZoBqfGYFN7S9ayuso1O3Fe3EQbRhgiNDpLo6iH5c1Ywg92XiIzz43AsrhcXNDQ/tLiia7GcLb1MjjRwZ5bEUph1c7o16gFtZP20E/PmDz30bVc56aTYEVoJejp0PAEIGTxs2ce1W+Ge5PbdCY0yN/Y4ID8YPfyv1WfT58t0vP5h3o5Ogp/VztWTOZPRdgkDdO9ABD+E/26PWVZ5qJTJEJxvbwUJI6+FGGu9izrx9Ip7IwJ/K5EZj+TAv3RURI++P4xnOCbV9P0Vb22Ub96o5OPYt6oJOjJwEULHenOK/0xPNVqv1ONkqmePyRuePP1+7sbU4hhBDidkhNYCGEECKecAbcQA8/eaoWsHG8tQxngs9Hyute6OJHZV2R7Rh1YK969vGjplEhmgwr9u9A4K1d5O8dZP7TZbQuYaQGaPG8SLRypL7qijwiITEFZ2E2znd78HrcWDxu43Mbx1uzcS7Jo/SdTlpilgFT7RTnKjDJhiOrAy4Msm7LDtYBpIEtDQKjXjw02lXf2wnOR8FuHFPL3n207I1aPiOP87UO3vltCyu7Y7/qmJmJBQ3vKzt5yAObN26gJjeP1XYfHn+IyvU7qDTW1Wu6LuQfF3fR1h67DKDycSc2IHS+hzeiYhn+C71s/OWrfPB0CXX5t/dfIKuqlwZoeq2RptfCxxJnxUkOXIvdbH0rSCPgeDzHqGEJiiOPmqm9bPV3MqusM+pLKs0NaygNL7+sl0YIq/l5NZtH7cbyXRULIfpOeZiy3AOYcE03gRG0SNxPId6pH28/WLHNALo11m2p1cfJ9HRcgJt4AnHHMFnJ+jO8LMAjz+2I2Vpsrd+xxt0nKdl4bImK5bWQXsJgv/GxMW5TtkGCuSG8za2/ahipbQvA4qVcfwbaqt+M/RyouD8T7fSbca75QNz1AVyPRq93p87bhWuxGUt3P7tebmDXy8ayNDOr820oSpKxOi22nq/+PZXmioLY0iY3enkips/Tqcy3c9XXMHbsgj6uclWUScmvo4c/6uShprfHfN3pysOpZKMWKmx1h6jcsDNm/rAscFBc5OTJoqgPL8XWWaa9ge+59aBe0/4WmvZH78G4jjUvTcYNoOLc6PR1G8XLzGz9TT87ftVA5MwVagodfP/eQUrTvLR43sbiiT5+vV3impZHhaOTNl8vT0T1g8XhoHg6qPl2nO1+3AdbmHwwsr/1i50oBJOP7bllXG+N3lm4X42/ican2vv63yjm6vsMs8/LxunuoW3/PqZEt1NaJsW5V2j7+9TjOdG2LQ/Yk7aV8l2om3qATd0+Zj3li3zP7uCxwkVcL0x2XkHsJxLMV7nJ96tmBKlM66DxTAcrXwry8LdCHD0hQWAhhBBfPckEFkIIIeJRnKx+3niUGbBnqXrgItHnhqJlBTQ7FSyAbXomzdtKKFBgyv3ZVGaZRl7SZM/KpLWmCMckuCvNqDeYpiSoAZqgRjCgzCnl8JZsKsIHkWaitDBbD0pbXezelkdVeL9pJlwL8viwriTyUp0NC6kyflRbMlTqqyvZPS918yQ7H2VOKYe351H1Q9PIo+Q21UxdSR4WVOzzrPob7EeOaSGtK/TsLkVRiDzyb6VoYynNC9KxGzVgbdOtuO5XgXSc5eUcX2LGqUTtY+Mq6vPNwCDBGwoPjKod2zcwyK7fvDm29uU42Vwu6u3GeSsm7PGL6ALgmJdtBDGU2OCNksPmuhKaF6SPHDuKiYolTlzfMZb/i4u6OZH2s9ttOO+Ls5O5RRxZZgQflXSqVpfSWp450i+J++nW+qF0zUKqpoWPJYf3akp4MlH95IR1bJP1p5WiF1ZxbInZqC3LyHgtuj/Bfgy30iepWBaX6yUMwsegpFM5z8aU8bRBgrnBsriS9zdmUzEtth+aH84GuAvjagAAAxZJREFUrDgLzbHjYFkROx5MT3DN2yhYZh15HB7APs1MzepSWpfdfnmKxOcNan5ZpKwD4XnNyKgf51i1ZChUFC7kw1fWUGqNXVa1tpxjhemRMfx8CRVZMGVODjVzlJGxgmKiKDeH4/XlFHyLlNfRlDn2UXNQOlUVJRx+OgcFBcfT5RxfFnUNKCYqlrg48/w4yrbcTLWChueI/mLOirKCkRtAYWr+Kk6stVGaEW4flbot5Wyeo8C0RezetpCa6DbNyqR5+yoqshLtz4xrrX5thb/jWpBH+1oj4D6jhMNbssfsr2oG3PL1HVeANw7otY/rlsUG+fW/UTkx85BzTrbRj+MZz4m3nbKtJtmpqiuiMXdUu2xcNHIsiSWZr1LtVy2grjqH0gxwe3touqhSs9p+mzdphBBCiDvnb65du/a/X/VBfBlu3rzJwMAA586dY/k/rCd45vQtfd86N5f/fK2RWbNmkZ6ezje+IfFzIYQQEeG3m+tZiNbUXxB/Xf4D/GSrH+uyElqX2fW6oMMh3LsaeOKUkal3R2vVCiGEEEIIISaymzdvMjg4yNmzZ/m7ZypvK7bY+usXmTlzJhkZGV96bFEimUIIIYSYcEJ/7McX88kQWrCLkx8BmPgCyaJCCCGEEEII8f+O1AQWQgghxISjzrZRRD9tBw8w5WDsMqdrYaTkgBBCCCGEEEJ8DUgQWAghhLgDLK41XL+tl1GJv4ppLna/MIS1qYtDF/S3wNunmXmypIDKB+2pa34KIYQQQgghxAQiQWAhhBBCTEjqnKXU71xK/Vd9IEIIIYQQQgjxFZOawEIIIYQQQgghhBBCCDGBSRBYCCGEEEIIIYQQQgghJjAJAgshhBBCCCGEEEIIIcQEJkFgIYQQQgghhBBCCCGEmMAkCCyEEEIIIYQQQgghhBATmASBhRBCCCGEEEIIIYQQYgKTILAQQgghhBBCCCGEEEJMYBIEFkIIIYQQQgghhBBCiAlMgsBCCCGEEEIIIYQQQggxgUkQWAghhBBCCCGEEEIIISYwCQILIYQQQgghhBBCCCHEBPZ/xogi7Bc74egAAAAASUVORK5CYII=)"
      ],
      "metadata": {
        "id": "Zz-TWWDuzTWB"
      }
    },
    {
      "cell_type": "markdown",
      "source": [
        "![image.png](data:image/png;base64,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)"
      ],
      "metadata": {
        "id": "ylarXbE5zaOb"
      }
    }
  ]
}