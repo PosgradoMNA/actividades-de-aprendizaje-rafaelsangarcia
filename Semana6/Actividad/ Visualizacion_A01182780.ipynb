{
  "nbformat": 4,
  "nbformat_minor": 0,
  "metadata": {
    "colab": {
      "provenance": [],
      "authorship_tag": "ABX9TyOn1W7N8hQKCOSOtxk5OE96",
      "include_colab_link": true
    },
    "kernelspec": {
      "name": "python3",
      "display_name": "Python 3"
    },
    "language_info": {
      "name": "python"
    }
  },
  "cells": [
    {
      "cell_type": "markdown",
      "metadata": {
        "id": "view-in-github",
        "colab_type": "text"
      },
      "source": [
        "<a href=\"https://colab.research.google.com/github/PosgradoMNA/actividades-de-aprendizaje-rafaelsangarcia/blob/main/Semana6/Actividad/%20Visualizacion_A01182780.ipynb\" target=\"_parent\"><img src=\"https://colab.research.google.com/assets/colab-badge.svg\" alt=\"Open In Colab\"/></a>"
      ]
    },
    {
      "cell_type": "markdown",
      "source": [
        "#**PORTADA**\n",
        "Actividad Semanal -- 6, visualización\n",
        "\n",
        "Rafael Sanchez Garcia A01182780\n",
        "\n",
        "Ciencia de Datos\n",
        "\n",
        "María de la Paz Rico Fernández\n",
        "\n",
        "10/28/2022"
      ],
      "metadata": {
        "id": "WzFZcdFU7-3H"
      }
    },
    {
      "cell_type": "code",
      "execution_count": null,
      "metadata": {
        "id": "9Xl6lpYc7uYk"
      },
      "outputs": [],
      "source": []
    }
  ]
}