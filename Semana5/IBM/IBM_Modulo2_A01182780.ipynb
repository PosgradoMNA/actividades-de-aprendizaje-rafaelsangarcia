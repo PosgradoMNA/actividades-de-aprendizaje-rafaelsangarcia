{
  "nbformat": 4,
  "nbformat_minor": 0,
  "metadata": {
    "colab": {
      "provenance": [],
      "authorship_tag": "ABX9TyMeTgcaU5PbTESu80cLalb+",
      "include_colab_link": true
    },
    "kernelspec": {
      "name": "python3",
      "display_name": "Python 3"
    },
    "language_info": {
      "name": "python"
    }
  },
  "cells": [
    {
      "cell_type": "markdown",
      "metadata": {
        "id": "view-in-github",
        "colab_type": "text"
      },
      "source": [
        "<a href=\"https://colab.research.google.com/github/PosgradoMNA/actividades-de-aprendizaje-rafaelsangarcia/blob/main/Semana5/IBM/IBM_Modulo2_A01182780.ipynb\" target=\"_parent\"><img src=\"https://colab.research.google.com/assets/colab-badge.svg\" alt=\"Open In Colab\"/></a>"
      ]
    },
    {
      "cell_type": "code",
      "execution_count": null,
      "metadata": {
        "id": "cvTJC0DGgUWT"
      },
      "outputs": [],
      "source": [
        "#Module 2 - Pre-Processing Data in Python"
      ]
    },
    {
      "cell_type": "markdown",
      "source": [
        "It is a necesarry step for data propecessing, also is called as data cleaning. \n",
        "\n",
        "First, it is important to handle missing values\n",
        "\n",
        "Second, Data formatting\n",
        "\n",
        "Third, Data normalization to have all in the same scale\n",
        "\n",
        "Data Binning, categorics\n",
        "\n",
        "Turning Categorical to numeric variables"
      ],
      "metadata": {
        "id": "SIJYyiDhhAxC"
      }
    },
    {
      "cell_type": "markdown",
      "source": [
        "##Module 2 - Dealing with missing values\n",
        "\n",
        "It is mean when no data value is stored for a variable in an observation, it could be represent in differente ways like **?,N/A, 0 or juts a blank cell like NAN**\n",
        "\n",
        "We can drop the variables, the data entry. Alsa can be replaced with mean, median or some specific value, however it could be not accurate.\n",
        "\n",
        "```\n",
        "#drop missing values\n",
        "dataframe.dropna():\n",
        "\n",
        "#to replace\n",
        "dataframe.replace(missing_value, new_value)\n",
        "\n",
        "#example to replace the missing value with the mean\n",
        "mean = df[\"normalized-losses\"].mean()\n",
        "df[\"normalized-losses\"].replace(np.mean,mean)\n",
        "\n",
        "```\n",
        "\n"
      ],
      "metadata": {
        "id": "lllhm3j9iCVc"
      }
    },
    {
      "cell_type": "markdown",
      "source": [
        "##Module 2 - Data Formatting in python\n",
        "\n",
        "Because the data could be collected from differente sources we need to come with an commond standard of format to allow the users manipulate the info.\n",
        "\n",
        "For example people sometimes expres New york as NY, New Yors, N.Y, etc, so we need to standardize it\n",
        "\n",
        "Also we can do calculataion like mpg to L/100km\n",
        "```\n",
        "df['city-mpg']=235/df[city-mpg']\n",
        "\n",
        "```\n",
        "\n"
      ],
      "metadata": {
        "id": "dr23Na_yBMz1"
      }
    },
    {
      "cell_type": "markdown",
      "source": [
        "##Module 2 - Data Normalization\n",
        "\n",
        "It will help to uniform the variable with differnte range and it will put in one range. It could be approveched in diff ways"
      ],
      "metadata": {
        "id": "unFzRke3D_E1"
      }
    }
  ]
}