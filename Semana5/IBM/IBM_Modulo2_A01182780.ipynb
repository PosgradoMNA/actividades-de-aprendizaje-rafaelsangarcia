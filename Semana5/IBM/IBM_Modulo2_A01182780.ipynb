{
  "nbformat": 4,
  "nbformat_minor": 0,
  "metadata": {
    "colab": {
      "provenance": [],
      "authorship_tag": "ABX9TyPUwJao+4ub8pMGsftfb0Sl",
      "include_colab_link": true
    },
    "kernelspec": {
      "name": "python3",
      "display_name": "Python 3"
    },
    "language_info": {
      "name": "python"
    }
  },
  "cells": [
    {
      "cell_type": "markdown",
      "metadata": {
        "id": "view-in-github",
        "colab_type": "text"
      },
      "source": [
        "<a href=\"https://colab.research.google.com/github/PosgradoMNA/actividades-de-aprendizaje-rafaelsangarcia/blob/main/Semana5/IBM/IBM_Modulo2_A01182780.ipynb\" target=\"_parent\"><img src=\"https://colab.research.google.com/assets/colab-badge.svg\" alt=\"Open In Colab\"/></a>"
      ]
    },
    {
      "cell_type": "code",
      "execution_count": null,
      "metadata": {
        "id": "cvTJC0DGgUWT"
      },
      "outputs": [],
      "source": [
        "#Module 2 - Pre-Processing Data in Python"
      ]
    },
    {
      "cell_type": "code",
      "source": [],
      "metadata": {
        "id": "mVArkTcAg_5C"
      },
      "execution_count": null,
      "outputs": []
    },
    {
      "cell_type": "markdown",
      "source": [
        "It is a necesarry step for data propecessing, also is called as data cleaning. \n",
        "\n",
        "First, it is important to handle missing values\n",
        "\n",
        "Second, Data formatting\n",
        "\n",
        "Third, Data normalization to have all in the same scale\n",
        "\n",
        "Data Binning, categorics\n",
        "\n",
        "Turning Categorical to numeric variables"
      ],
      "metadata": {
        "id": "SIJYyiDhhAxC"
      }
    },
    {
      "cell_type": "code",
      "source": [],
      "metadata": {
        "id": "pke9ScP-Vu28"
      },
      "execution_count": null,
      "outputs": []
    },
    {
      "cell_type": "markdown",
      "source": [
        "##Module 2 - Dealing with missing values\n"
      ],
      "metadata": {
        "id": "lllhm3j9iCVc"
      }
    }
  ]
}