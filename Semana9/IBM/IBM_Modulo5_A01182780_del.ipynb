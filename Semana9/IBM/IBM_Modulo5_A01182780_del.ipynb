{
  "nbformat": 4,
  "nbformat_minor": 0,
  "metadata": {
    "colab": {
      "provenance": [],
      "authorship_tag": "ABX9TyNhDXHfllwU0v/0KkqEfV0k",
      "include_colab_link": true
    },
    "kernelspec": {
      "name": "python3",
      "display_name": "Python 3"
    },
    "language_info": {
      "name": "python"
    }
  },
  "cells": [
    {
      "cell_type": "markdown",
      "metadata": {
        "id": "view-in-github",
        "colab_type": "text"
      },
      "source": [
        "<a href=\"https://colab.research.google.com/github/PosgradoMNA/actividades-de-aprendizaje-rafaelsangarcia/blob/main/Semana9/IBM/IBM_Modulo5_A01182780_del.ipynb\" target=\"_parent\"><img src=\"https://colab.research.google.com/assets/colab-badge.svg\" alt=\"Open In Colab\"/></a>"
      ]
    },
    {
      "cell_type": "markdown",
      "source": [
        "#Modulo 4 - Model Evaluation\n",
        "RAFAEL SANCHEZ GARCIA A01182780"
      ],
      "metadata": {
        "id": "5eULI7kFDrND"
      }
    },
    {
      "cell_type": "markdown",
      "source": [
        "#Model Evaluation\n",
        "\n",
        "Simple model tell us how good our model performed on train data however we need a evaluation to see the performance on the predicted data.\n",
        "\n",
        "So one of the solution is to split the data into train and test.\n",
        "\n",
        "It is recommendable that split most of the data in train\n",
        "\n",
        "```\n",
        "x_train, x_test, y_train_, y_test = train_test_split(x_data, y_data, test_size - 0.3, random_state=0)\n",
        "\n",
        "```\n",
        "\n",
        "To calculate error should be in test\n",
        "\n"
      ],
      "metadata": {
        "id": "nDBFQZPfEMcC"
      }
    }
  ]
}