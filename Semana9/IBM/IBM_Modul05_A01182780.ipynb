{
  "cells": [
    {
      "cell_type": "markdown",
      "metadata": {
        "id": "view-in-github",
        "colab_type": "text"
      },
      "source": [
        "<a href=\"https://colab.research.google.com/github/PosgradoMNA/actividades-de-aprendizaje-rafaelsangarcia/blob/main/Semana9/IBM/IBM_Modul05_A01182780.ipynb\" target=\"_parent\"><img src=\"https://colab.research.google.com/assets/colab-badge.svg\" alt=\"Open In Colab\"/></a>"
      ]
    },
    {
      "cell_type": "markdown",
      "source": [
        "#Portada\n",
        "IBM MODULE 4\n",
        "\n",
        "Alumno: Rafael Sanchez Garcia A01182780\n",
        "\n",
        "Materia: Ciencia de Datos\n",
        "\n",
        "Profesor:Maria de la Paz Rico\n",
        "\n",
        "Fecha de entrega: Nov/08/22"
      ],
      "metadata": {
        "id": "WUAbwcADITlc"
      }
    },
    {
      "cell_type": "markdown",
      "source": [
        "#Theory"
      ],
      "metadata": {
        "id": "p2VhmqeSIw78"
      }
    },
    {
      "cell_type": "markdown",
      "source": [
        "#Module 4 Model Evaluation"
      ],
      "metadata": {
        "id": "E0_QkIm-I1Ps"
      }
    },
    {
      "cell_type": "markdown",
      "source": [
        "Simple model tell us how good our model performed on train data however we need a evaluation to see the performance on the predicted data.\n",
        "\n",
        "So one of the solution is to split the data into train and test.\n",
        "\n",
        "It is recommendable that split most of the data in train\n",
        "\n",
        "```\n",
        "x_train, x_test, y_train_, y_test = train_test_split(x_data, y_data, test_size - 0.3, random_state=0)\n",
        "\n",
        "```\n",
        "\n",
        "To calculate error should be in with test data. We need to use a lot of data to have better model. \n",
        "\n",
        "So the use of cross validation comes as a solution. Where the data is split in train and validation, doing iterations\n",
        "\n",
        "\n",
        "\n",
        "```\n",
        "from sklearn.model_selection import cross_val_score\n",
        "scores = cross_val_score(lr,x_data, y_data, cv=3)\n",
        "np.mean(scores)\n",
        "```\n",
        "\n",
        "cross_val_predict() will return prediction that was obtained for each element when it was in a test phase\n",
        "\n",
        "\n",
        "\n",
        "```\n",
        "from sklearn.model_selection import cross_val_predict\n",
        "yhat = cross_val_predict(lr2e,x_data,y_data,cv=3)\n",
        "```\n",
        "\n",
        "\n",
        "\n"
      ],
      "metadata": {
        "id": "nYPvttWDI4QI"
      }
    },
    {
      "cell_type": "markdown",
      "source": [
        "#Module 4 Overfitting, Underfittinf and Model Selection\n",
        "\n",
        "The objective is to get the best model that estimate the expected result.\n",
        "\n",
        "When the model is to simple it is called as underfitting, and when it learn the points it is called as overfitting\n",
        "\n",
        "R2 closes to 1 more accurate the model is"
      ],
      "metadata": {
        "id": "Q063HpnlJMmQ"
      }
    },
    {
      "cell_type": "markdown",
      "source": [
        "#Module 4 Ridge Regression\n",
        "\n",
        "Using alpha will decrease the higher polinomials weights"
      ],
      "metadata": {
        "id": "wVtO1H3MaUba"
      }
    },
    {
      "cell_type": "markdown",
      "source": [
        "#Module 4 GridSearch\n",
        "\n",
        "It help to run differente parameters on the model and select the best one.\n",
        "\n",
        "It can be use for all the model and just need to pass the parameter to tunning\n"
      ],
      "metadata": {
        "id": "vSg7O1MFbNIC"
      }
    },
    {
      "cell_type": "markdown",
      "source": [
        "#LAB"
      ],
      "metadata": {
        "id": "YpnNfxfkIRXp"
      }
    },
    {
      "cell_type": "markdown",
      "metadata": {
        "id": "TY8J6SNtIKbS"
      },
      "source": [
        "<center>\n",
        "    <img src=\"https://cf-courses-data.s3.us.cloud-object-storage.appdomain.cloud/IBMDeveloperSkillsNetwork-DA0101EN-SkillsNetwork/labs/Module%205/images/IDSNlogo.png\" width=\"300\" alt=\"cognitiveclass.ai logo\"  />\n",
        "</center>\n",
        "\n",
        "## Model Evaluation and Refinement\n",
        "\n",
        "Estimated time needed: **30** minutes\n",
        "\n",
        "## Objectives\n",
        "\n",
        "After completing this lab you will be able to:\n",
        "\n",
        "*   Evaluate and refine prediction models\n"
      ]
    },
    {
      "cell_type": "markdown",
      "metadata": {
        "id": "Xz-aOqxFIKbT"
      },
      "source": [
        "<h2>Table of Contents</h2>\n",
        "<ul>\n",
        "    <li><a href=\"https://#ref1\">Model Evaluation </a></li>\n",
        "    <li><a href=\"https://#ref2\">Over-fitting, Under-fitting and Model Selection </a></li>\n",
        "    <li><a href=\"https://#ref3\">Ridge Regression </a></li>\n",
        "    <li><a href=\"https://#ref4\">Grid Search</a></li>\n",
        "</ul>\n"
      ]
    },
    {
      "cell_type": "markdown",
      "metadata": {
        "id": "6n0zaV4SIKbU"
      },
      "source": [
        "<h4>Setup</h4>\n"
      ]
    },
    {
      "cell_type": "markdown",
      "metadata": {
        "id": "ctvCeizLIKbU"
      },
      "source": [
        "you are running the lab in your  browser, so we will install the libraries using `piplite`\n"
      ]
    },
    {
      "cell_type": "code",
      "execution_count": null,
      "metadata": {
        "id": "zrtsJ7MLIKbU"
      },
      "outputs": [],
      "source": [
        "#you are running the lab in your  browser, so we will install the libraries using ``piplite``\n",
        "import piplite\n",
        "import micropip\n",
        "await piplite.install(['pandas'])\n",
        "await piplite.install(['matplotlib'])\n",
        "await piplite.install(['scipy'])\n",
        "await piplite.install(['seaborn'])\n",
        "await micropip.install(['ipywidgets'],keep_going=True)\n",
        "await micropip.install(['tqdm'],keep_going=True)"
      ]
    },
    {
      "cell_type": "markdown",
      "metadata": {
        "id": "lw_dZ0J8IKbV"
      },
      "source": [
        "If you run the lab locally using Anaconda, you can load the correct library and versions by uncommenting the following:\n"
      ]
    },
    {
      "cell_type": "code",
      "execution_count": null,
      "metadata": {
        "id": "z1Uivha3IKbV"
      },
      "outputs": [],
      "source": [
        "#install specific version of libraries used in lab\n",
        "#! mamba install pandas==1.3.3 -y\n",
        "#! mamba install numpy=1.21.2 -y\n",
        "#! mamba install sklearn=0.20.1 -y\n",
        "#! mamba install   ipywidgets=7.4.2 -y\n",
        "#! mamba install tqdm"
      ]
    },
    {
      "cell_type": "code",
      "execution_count": 1,
      "metadata": {
        "id": "hZqKEfvrIKbV"
      },
      "outputs": [],
      "source": [
        "import pandas as pd\n",
        "import numpy as np"
      ]
    },
    {
      "cell_type": "markdown",
      "metadata": {
        "id": "U2EA2W1vIKbV"
      },
      "source": [
        "This function will download the dataset into your browser\n"
      ]
    },
    {
      "cell_type": "code",
      "execution_count": null,
      "metadata": {
        "id": "ArGE6q7yIKbW"
      },
      "outputs": [],
      "source": [
        "#This function will download the dataset into your browser \n",
        "\n",
        "from pyodide.http import pyfetch\n",
        "\n",
        "async def download(url, filename):\n",
        "    response = await pyfetch(url)\n",
        "    if response.status == 200:\n",
        "        with open(filename, \"wb\") as f:\n",
        "            f.write(await response.bytes())"
      ]
    },
    {
      "cell_type": "code",
      "execution_count": 2,
      "metadata": {
        "id": "RJj_0JqgIKbW"
      },
      "outputs": [],
      "source": [
        "import pandas as pd\n",
        "import numpy as np\n"
      ]
    },
    {
      "cell_type": "markdown",
      "metadata": {
        "id": "ejunJ0vAIKbW"
      },
      "source": [
        "This dataset was hosted on IBM Cloud object. Click <a href=\"https://cocl.us/DA101EN_object_storage?utm_medium=Exinfluencer&utm_source=Exinfluencer&utm_content=000026UJ&utm_term=10006555&utm_id=NA-SkillsNetwork-Channel-SkillsNetworkCoursesIBMDeveloperSkillsNetworkDA0101ENSkillsNetwork20235326-2021-01-01\">HERE</a> for free storage.\n"
      ]
    },
    {
      "cell_type": "code",
      "execution_count": 3,
      "metadata": {
        "id": "2PfyJ4GJIKbW"
      },
      "outputs": [],
      "source": [
        "path = 'https://cf-courses-data.s3.us.cloud-object-storage.appdomain.cloud/IBMDeveloperSkillsNetwork-DA0101EN-SkillsNetwork/labs/Data%20files/module_5_auto.csv'"
      ]
    },
    {
      "cell_type": "markdown",
      "metadata": {
        "id": "-Cdw5ifYIKbX"
      },
      "source": [
        "you will need to download the dataset; if you are running locally, please comment out the following\n"
      ]
    },
    {
      "cell_type": "code",
      "execution_count": null,
      "metadata": {
        "id": "-lLGL-CUIKbX"
      },
      "outputs": [],
      "source": [
        "#you will need to download the dataset; if you are running locally, please comment out the following \n",
        "await download(path, \"auto.csv\")\n",
        "path=\"auto.csv\""
      ]
    },
    {
      "cell_type": "code",
      "execution_count": 4,
      "metadata": {
        "id": "FZkSqvcGIKbX"
      },
      "outputs": [],
      "source": [
        "\n",
        "df = pd.read_csv(path)"
      ]
    },
    {
      "cell_type": "code",
      "execution_count": 5,
      "metadata": {
        "id": "BTUFOSz0IKbX"
      },
      "outputs": [],
      "source": [
        "df.to_csv('module_5_auto.csv')"
      ]
    },
    {
      "cell_type": "markdown",
      "metadata": {
        "id": "KgPUflrzIKbX"
      },
      "source": [
        "First, let's only use numeric data:\n"
      ]
    },
    {
      "cell_type": "code",
      "execution_count": 6,
      "metadata": {
        "id": "j1FM59HbIKbX",
        "colab": {
          "base_uri": "https://localhost:8080/",
          "height": 297
        },
        "outputId": "454bcdfb-231b-42e6-9ce3-0e2bd22ed76e"
      },
      "outputs": [
        {
          "output_type": "execute_result",
          "data": {
            "text/plain": [
              "   Unnamed: 0  Unnamed: 0.1  symboling  normalized-losses  wheel-base  \\\n",
              "0           0             0          3                122        88.6   \n",
              "1           1             1          3                122        88.6   \n",
              "2           2             2          1                122        94.5   \n",
              "3           3             3          2                164        99.8   \n",
              "4           4             4          2                164        99.4   \n",
              "\n",
              "     length     width  height  curb-weight  engine-size  ...  stroke  \\\n",
              "0  0.811148  0.890278    48.8         2548          130  ...    2.68   \n",
              "1  0.811148  0.890278    48.8         2548          130  ...    2.68   \n",
              "2  0.822681  0.909722    52.4         2823          152  ...    3.47   \n",
              "3  0.848630  0.919444    54.3         2337          109  ...    3.40   \n",
              "4  0.848630  0.922222    54.3         2824          136  ...    3.40   \n",
              "\n",
              "   compression-ratio  horsepower  peak-rpm  city-mpg  highway-mpg    price  \\\n",
              "0                9.0       111.0    5000.0        21           27  13495.0   \n",
              "1                9.0       111.0    5000.0        21           27  16500.0   \n",
              "2                9.0       154.0    5000.0        19           26  16500.0   \n",
              "3               10.0       102.0    5500.0        24           30  13950.0   \n",
              "4                8.0       115.0    5500.0        18           22  17450.0   \n",
              "\n",
              "   city-L/100km  diesel  gas  \n",
              "0     11.190476       0    1  \n",
              "1     11.190476       0    1  \n",
              "2     12.368421       0    1  \n",
              "3      9.791667       0    1  \n",
              "4     13.055556       0    1  \n",
              "\n",
              "[5 rows x 21 columns]"
            ],
            "text/html": [
              "\n",
              "  <div id=\"df-40f47473-4bd0-4f3b-a17f-b6555869067d\">\n",
              "    <div class=\"colab-df-container\">\n",
              "      <div>\n",
              "<style scoped>\n",
              "    .dataframe tbody tr th:only-of-type {\n",
              "        vertical-align: middle;\n",
              "    }\n",
              "\n",
              "    .dataframe tbody tr th {\n",
              "        vertical-align: top;\n",
              "    }\n",
              "\n",
              "    .dataframe thead th {\n",
              "        text-align: right;\n",
              "    }\n",
              "</style>\n",
              "<table border=\"1\" class=\"dataframe\">\n",
              "  <thead>\n",
              "    <tr style=\"text-align: right;\">\n",
              "      <th></th>\n",
              "      <th>Unnamed: 0</th>\n",
              "      <th>Unnamed: 0.1</th>\n",
              "      <th>symboling</th>\n",
              "      <th>normalized-losses</th>\n",
              "      <th>wheel-base</th>\n",
              "      <th>length</th>\n",
              "      <th>width</th>\n",
              "      <th>height</th>\n",
              "      <th>curb-weight</th>\n",
              "      <th>engine-size</th>\n",
              "      <th>...</th>\n",
              "      <th>stroke</th>\n",
              "      <th>compression-ratio</th>\n",
              "      <th>horsepower</th>\n",
              "      <th>peak-rpm</th>\n",
              "      <th>city-mpg</th>\n",
              "      <th>highway-mpg</th>\n",
              "      <th>price</th>\n",
              "      <th>city-L/100km</th>\n",
              "      <th>diesel</th>\n",
              "      <th>gas</th>\n",
              "    </tr>\n",
              "  </thead>\n",
              "  <tbody>\n",
              "    <tr>\n",
              "      <th>0</th>\n",
              "      <td>0</td>\n",
              "      <td>0</td>\n",
              "      <td>3</td>\n",
              "      <td>122</td>\n",
              "      <td>88.6</td>\n",
              "      <td>0.811148</td>\n",
              "      <td>0.890278</td>\n",
              "      <td>48.8</td>\n",
              "      <td>2548</td>\n",
              "      <td>130</td>\n",
              "      <td>...</td>\n",
              "      <td>2.68</td>\n",
              "      <td>9.0</td>\n",
              "      <td>111.0</td>\n",
              "      <td>5000.0</td>\n",
              "      <td>21</td>\n",
              "      <td>27</td>\n",
              "      <td>13495.0</td>\n",
              "      <td>11.190476</td>\n",
              "      <td>0</td>\n",
              "      <td>1</td>\n",
              "    </tr>\n",
              "    <tr>\n",
              "      <th>1</th>\n",
              "      <td>1</td>\n",
              "      <td>1</td>\n",
              "      <td>3</td>\n",
              "      <td>122</td>\n",
              "      <td>88.6</td>\n",
              "      <td>0.811148</td>\n",
              "      <td>0.890278</td>\n",
              "      <td>48.8</td>\n",
              "      <td>2548</td>\n",
              "      <td>130</td>\n",
              "      <td>...</td>\n",
              "      <td>2.68</td>\n",
              "      <td>9.0</td>\n",
              "      <td>111.0</td>\n",
              "      <td>5000.0</td>\n",
              "      <td>21</td>\n",
              "      <td>27</td>\n",
              "      <td>16500.0</td>\n",
              "      <td>11.190476</td>\n",
              "      <td>0</td>\n",
              "      <td>1</td>\n",
              "    </tr>\n",
              "    <tr>\n",
              "      <th>2</th>\n",
              "      <td>2</td>\n",
              "      <td>2</td>\n",
              "      <td>1</td>\n",
              "      <td>122</td>\n",
              "      <td>94.5</td>\n",
              "      <td>0.822681</td>\n",
              "      <td>0.909722</td>\n",
              "      <td>52.4</td>\n",
              "      <td>2823</td>\n",
              "      <td>152</td>\n",
              "      <td>...</td>\n",
              "      <td>3.47</td>\n",
              "      <td>9.0</td>\n",
              "      <td>154.0</td>\n",
              "      <td>5000.0</td>\n",
              "      <td>19</td>\n",
              "      <td>26</td>\n",
              "      <td>16500.0</td>\n",
              "      <td>12.368421</td>\n",
              "      <td>0</td>\n",
              "      <td>1</td>\n",
              "    </tr>\n",
              "    <tr>\n",
              "      <th>3</th>\n",
              "      <td>3</td>\n",
              "      <td>3</td>\n",
              "      <td>2</td>\n",
              "      <td>164</td>\n",
              "      <td>99.8</td>\n",
              "      <td>0.848630</td>\n",
              "      <td>0.919444</td>\n",
              "      <td>54.3</td>\n",
              "      <td>2337</td>\n",
              "      <td>109</td>\n",
              "      <td>...</td>\n",
              "      <td>3.40</td>\n",
              "      <td>10.0</td>\n",
              "      <td>102.0</td>\n",
              "      <td>5500.0</td>\n",
              "      <td>24</td>\n",
              "      <td>30</td>\n",
              "      <td>13950.0</td>\n",
              "      <td>9.791667</td>\n",
              "      <td>0</td>\n",
              "      <td>1</td>\n",
              "    </tr>\n",
              "    <tr>\n",
              "      <th>4</th>\n",
              "      <td>4</td>\n",
              "      <td>4</td>\n",
              "      <td>2</td>\n",
              "      <td>164</td>\n",
              "      <td>99.4</td>\n",
              "      <td>0.848630</td>\n",
              "      <td>0.922222</td>\n",
              "      <td>54.3</td>\n",
              "      <td>2824</td>\n",
              "      <td>136</td>\n",
              "      <td>...</td>\n",
              "      <td>3.40</td>\n",
              "      <td>8.0</td>\n",
              "      <td>115.0</td>\n",
              "      <td>5500.0</td>\n",
              "      <td>18</td>\n",
              "      <td>22</td>\n",
              "      <td>17450.0</td>\n",
              "      <td>13.055556</td>\n",
              "      <td>0</td>\n",
              "      <td>1</td>\n",
              "    </tr>\n",
              "  </tbody>\n",
              "</table>\n",
              "<p>5 rows × 21 columns</p>\n",
              "</div>\n",
              "      <button class=\"colab-df-convert\" onclick=\"convertToInteractive('df-40f47473-4bd0-4f3b-a17f-b6555869067d')\"\n",
              "              title=\"Convert this dataframe to an interactive table.\"\n",
              "              style=\"display:none;\">\n",
              "        \n",
              "  <svg xmlns=\"http://www.w3.org/2000/svg\" height=\"24px\"viewBox=\"0 0 24 24\"\n",
              "       width=\"24px\">\n",
              "    <path d=\"M0 0h24v24H0V0z\" fill=\"none\"/>\n",
              "    <path d=\"M18.56 5.44l.94 2.06.94-2.06 2.06-.94-2.06-.94-.94-2.06-.94 2.06-2.06.94zm-11 1L8.5 8.5l.94-2.06 2.06-.94-2.06-.94L8.5 2.5l-.94 2.06-2.06.94zm10 10l.94 2.06.94-2.06 2.06-.94-2.06-.94-.94-2.06-.94 2.06-2.06.94z\"/><path d=\"M17.41 7.96l-1.37-1.37c-.4-.4-.92-.59-1.43-.59-.52 0-1.04.2-1.43.59L10.3 9.45l-7.72 7.72c-.78.78-.78 2.05 0 2.83L4 21.41c.39.39.9.59 1.41.59.51 0 1.02-.2 1.41-.59l7.78-7.78 2.81-2.81c.8-.78.8-2.07 0-2.86zM5.41 20L4 18.59l7.72-7.72 1.47 1.35L5.41 20z\"/>\n",
              "  </svg>\n",
              "      </button>\n",
              "      \n",
              "  <style>\n",
              "    .colab-df-container {\n",
              "      display:flex;\n",
              "      flex-wrap:wrap;\n",
              "      gap: 12px;\n",
              "    }\n",
              "\n",
              "    .colab-df-convert {\n",
              "      background-color: #E8F0FE;\n",
              "      border: none;\n",
              "      border-radius: 50%;\n",
              "      cursor: pointer;\n",
              "      display: none;\n",
              "      fill: #1967D2;\n",
              "      height: 32px;\n",
              "      padding: 0 0 0 0;\n",
              "      width: 32px;\n",
              "    }\n",
              "\n",
              "    .colab-df-convert:hover {\n",
              "      background-color: #E2EBFA;\n",
              "      box-shadow: 0px 1px 2px rgba(60, 64, 67, 0.3), 0px 1px 3px 1px rgba(60, 64, 67, 0.15);\n",
              "      fill: #174EA6;\n",
              "    }\n",
              "\n",
              "    [theme=dark] .colab-df-convert {\n",
              "      background-color: #3B4455;\n",
              "      fill: #D2E3FC;\n",
              "    }\n",
              "\n",
              "    [theme=dark] .colab-df-convert:hover {\n",
              "      background-color: #434B5C;\n",
              "      box-shadow: 0px 1px 3px 1px rgba(0, 0, 0, 0.15);\n",
              "      filter: drop-shadow(0px 1px 2px rgba(0, 0, 0, 0.3));\n",
              "      fill: #FFFFFF;\n",
              "    }\n",
              "  </style>\n",
              "\n",
              "      <script>\n",
              "        const buttonEl =\n",
              "          document.querySelector('#df-40f47473-4bd0-4f3b-a17f-b6555869067d button.colab-df-convert');\n",
              "        buttonEl.style.display =\n",
              "          google.colab.kernel.accessAllowed ? 'block' : 'none';\n",
              "\n",
              "        async function convertToInteractive(key) {\n",
              "          const element = document.querySelector('#df-40f47473-4bd0-4f3b-a17f-b6555869067d');\n",
              "          const dataTable =\n",
              "            await google.colab.kernel.invokeFunction('convertToInteractive',\n",
              "                                                     [key], {});\n",
              "          if (!dataTable) return;\n",
              "\n",
              "          const docLinkHtml = 'Like what you see? Visit the ' +\n",
              "            '<a target=\"_blank\" href=https://colab.research.google.com/notebooks/data_table.ipynb>data table notebook</a>'\n",
              "            + ' to learn more about interactive tables.';\n",
              "          element.innerHTML = '';\n",
              "          dataTable['output_type'] = 'display_data';\n",
              "          await google.colab.output.renderOutput(dataTable, element);\n",
              "          const docLink = document.createElement('div');\n",
              "          docLink.innerHTML = docLinkHtml;\n",
              "          element.appendChild(docLink);\n",
              "        }\n",
              "      </script>\n",
              "    </div>\n",
              "  </div>\n",
              "  "
            ]
          },
          "metadata": {},
          "execution_count": 6
        }
      ],
      "source": [
        "df=df._get_numeric_data()\n",
        "df.head()"
      ]
    },
    {
      "cell_type": "markdown",
      "metadata": {
        "id": "_t7xU6f5IKbY"
      },
      "source": [
        "Libraries for plotting:\n"
      ]
    },
    {
      "cell_type": "code",
      "execution_count": 7,
      "metadata": {
        "id": "_cU8r8FMIKbY"
      },
      "outputs": [],
      "source": [
        "from ipywidgets import interact, interactive, fixed, interact_manual"
      ]
    },
    {
      "cell_type": "markdown",
      "metadata": {
        "id": "m4MAMxTyIKbY"
      },
      "source": [
        "<h2>Functions for Plotting</h2>\n"
      ]
    },
    {
      "cell_type": "code",
      "execution_count": 8,
      "metadata": {
        "id": "uQJ9XRgpIKbY"
      },
      "outputs": [],
      "source": [
        "def DistributionPlot(RedFunction, BlueFunction, RedName, BlueName, Title):\n",
        "    width = 12\n",
        "    height = 10\n",
        "    plt.figure(figsize=(width, height))\n",
        "\n",
        "    ax1 = sns.distplot(RedFunction, hist=False, color=\"r\", label=RedName)\n",
        "    ax2 = sns.distplot(BlueFunction, hist=False, color=\"b\", label=BlueName, ax=ax1)\n",
        "\n",
        "    plt.title(Title)\n",
        "    plt.xlabel('Price (in dollars)')\n",
        "    plt.ylabel('Proportion of Cars')\n",
        "\n",
        "    plt.show()\n",
        "    plt.close()"
      ]
    },
    {
      "cell_type": "code",
      "execution_count": 9,
      "metadata": {
        "id": "8UEOE9HGIKbY"
      },
      "outputs": [],
      "source": [
        "def PollyPlot(xtrain, xtest, y_train, y_test, lr,poly_transform):\n",
        "    width = 12\n",
        "    height = 10\n",
        "    plt.figure(figsize=(width, height))\n",
        "    \n",
        "    \n",
        "    #training data \n",
        "    #testing data \n",
        "    # lr:  linear regression object \n",
        "    #poly_transform:  polynomial transformation object \n",
        " \n",
        "    xmax=max([xtrain.values.max(), xtest.values.max()])\n",
        "\n",
        "    xmin=min([xtrain.values.min(), xtest.values.min()])\n",
        "\n",
        "    x=np.arange(xmin, xmax, 0.1)\n",
        "\n",
        "\n",
        "    plt.plot(xtrain, y_train, 'ro', label='Training Data')\n",
        "    plt.plot(xtest, y_test, 'go', label='Test Data')\n",
        "    plt.plot(x, lr.predict(poly_transform.fit_transform(x.reshape(-1, 1))), label='Predicted Function')\n",
        "    plt.ylim([-10000, 60000])\n",
        "    plt.ylabel('Price')\n",
        "    plt.legend()"
      ]
    },
    {
      "cell_type": "markdown",
      "metadata": {
        "id": "H5tOC80lIKbZ"
      },
      "source": [
        "<h2 id=\"ref1\">Part 1: Training and Testing</h2>\n",
        "\n",
        "<p>An important step in testing your model is to split your data into training and testing data. We will place the target data <b>price</b> in a separate dataframe <b>y_data</b>:</p>\n"
      ]
    },
    {
      "cell_type": "code",
      "execution_count": 10,
      "metadata": {
        "id": "8LsCwEAgIKbZ"
      },
      "outputs": [],
      "source": [
        "y_data = df['price']"
      ]
    },
    {
      "cell_type": "markdown",
      "metadata": {
        "id": "1w2XcjZ4IKbZ"
      },
      "source": [
        "Drop price data in dataframe **x_data**:\n"
      ]
    },
    {
      "cell_type": "code",
      "execution_count": 11,
      "metadata": {
        "id": "-qRtX00lIKbZ"
      },
      "outputs": [],
      "source": [
        "x_data=df.drop('price',axis=1)"
      ]
    },
    {
      "cell_type": "markdown",
      "metadata": {
        "id": "Tuz7ErFfIKbZ"
      },
      "source": [
        "Now, we randomly split our data into training and testing data using the function <b>train_test_split</b>.\n"
      ]
    },
    {
      "cell_type": "code",
      "execution_count": 12,
      "metadata": {
        "id": "DFk6yyJHIKba",
        "colab": {
          "base_uri": "https://localhost:8080/"
        },
        "outputId": "aa212ca8-cb2b-48c5-f026-0e74d1c327d9"
      },
      "outputs": [
        {
          "output_type": "stream",
          "name": "stdout",
          "text": [
            "number of test samples : 21\n",
            "number of training samples: 180\n"
          ]
        }
      ],
      "source": [
        "from sklearn.model_selection import train_test_split\n",
        "\n",
        "\n",
        "x_train, x_test, y_train, y_test = train_test_split(x_data, y_data, test_size=0.10, random_state=1)\n",
        "\n",
        "\n",
        "print(\"number of test samples :\", x_test.shape[0])\n",
        "print(\"number of training samples:\",x_train.shape[0])\n"
      ]
    },
    {
      "cell_type": "markdown",
      "metadata": {
        "id": "O0nd5s_0IKba"
      },
      "source": [
        "The <b>test_size</b> parameter sets the proportion of data that is split into the testing set. In the above, the testing set is 10% of the total dataset.\n"
      ]
    },
    {
      "cell_type": "markdown",
      "metadata": {
        "id": "4PjQxSLKIKba"
      },
      "source": [
        "<div class=\"alert alert-danger alertdanger\" style=\"margin-top: 20px\">\n",
        "<h1> Question  #1):</h1>\n",
        "\n",
        "<b>Use the function \"train_test_split\" to split up the dataset such that 40% of the data samples will be utilized for testing. Set the parameter \"random_state\" equal to zero. The output of the function should be the following:  \"x_train1\" , \"x_test1\", \"y_train1\" and  \"y_test1\".</b>\n",
        "\n",
        "</div>\n"
      ]
    },
    {
      "cell_type": "code",
      "execution_count": 19,
      "metadata": {
        "id": "QKcu8HltIKba"
      },
      "outputs": [],
      "source": [
        "# Write your code below and press Shift+Enter to execute \n",
        "x_train, x_test, y_train, y_test = train_test_split(x_data, y_data, test_size=0.40, random_state=1)"
      ]
    },
    {
      "cell_type": "markdown",
      "metadata": {
        "id": "b14E_eN3IKba"
      },
      "source": [
        "<details><summary>Click here for the solution</summary>\n",
        "\n",
        "```python\n",
        "x_train1, x_test1, y_train1, y_test1 = train_test_split(x_data, y_data, test_size=0.4, random_state=0) \n",
        "print(\"number of test samples :\", x_test1.shape[0])\n",
        "print(\"number of training samples:\",x_train1.shape[0])\n",
        "```\n",
        "\n",
        "</details>\n"
      ]
    },
    {
      "cell_type": "markdown",
      "metadata": {
        "id": "fxp3keXuIKba"
      },
      "source": [
        "Let's import <b>LinearRegression</b> from the module <b>linear_model</b>.\n"
      ]
    },
    {
      "cell_type": "code",
      "execution_count": 20,
      "metadata": {
        "id": "i10gqXQPIKba"
      },
      "outputs": [],
      "source": [
        "from sklearn.linear_model import LinearRegression"
      ]
    },
    {
      "cell_type": "markdown",
      "metadata": {
        "id": "qS4lVaEDIKba"
      },
      "source": [
        "We create a Linear Regression object:\n"
      ]
    },
    {
      "cell_type": "code",
      "execution_count": 22,
      "metadata": {
        "id": "TBHlQ6aWIKbb"
      },
      "outputs": [],
      "source": [
        "lre=LinearRegression()"
      ]
    },
    {
      "cell_type": "markdown",
      "metadata": {
        "id": "BgvxDL_eIKbb"
      },
      "source": [
        "We fit the model using the feature \"horsepower\":\n"
      ]
    },
    {
      "cell_type": "code",
      "execution_count": 23,
      "metadata": {
        "id": "Iv_t_KDrIKbb",
        "colab": {
          "base_uri": "https://localhost:8080/"
        },
        "outputId": "2337e67a-c454-41fc-9f1e-a61c32bc199d"
      },
      "outputs": [
        {
          "output_type": "execute_result",
          "data": {
            "text/plain": [
              "LinearRegression()"
            ]
          },
          "metadata": {},
          "execution_count": 23
        }
      ],
      "source": [
        "lre.fit(x_train[['horsepower']], y_train)"
      ]
    },
    {
      "cell_type": "markdown",
      "metadata": {
        "id": "gwNRfpe4IKbb"
      },
      "source": [
        "Let's calculate the R^2 on the test data:\n"
      ]
    },
    {
      "cell_type": "code",
      "execution_count": 24,
      "metadata": {
        "id": "BM5jQLAVIKbb",
        "colab": {
          "base_uri": "https://localhost:8080/"
        },
        "outputId": "6b12ff2b-cf69-4f88-ff54-31841e8c838a"
      },
      "outputs": [
        {
          "output_type": "execute_result",
          "data": {
            "text/plain": [
              "0.6111827529454426"
            ]
          },
          "metadata": {},
          "execution_count": 24
        }
      ],
      "source": [
        "lre.score(x_test[['horsepower']], y_test)"
      ]
    },
    {
      "cell_type": "markdown",
      "metadata": {
        "id": "Zwrw8Q4vIKbb"
      },
      "source": [
        "We can see the R^2 is much smaller using the test data compared to the training data.\n"
      ]
    },
    {
      "cell_type": "code",
      "execution_count": 25,
      "metadata": {
        "id": "viT-ZLIuIKbb",
        "colab": {
          "base_uri": "https://localhost:8080/"
        },
        "outputId": "48fd6284-416e-4e99-823e-6d0086028261"
      },
      "outputs": [
        {
          "output_type": "execute_result",
          "data": {
            "text/plain": [
              "0.6755325771980134"
            ]
          },
          "metadata": {},
          "execution_count": 25
        }
      ],
      "source": [
        "lre.score(x_train[['horsepower']], y_train)"
      ]
    },
    {
      "cell_type": "markdown",
      "metadata": {
        "id": "hRr6TDmrIKbc"
      },
      "source": [
        "<div class=\"alert alert-danger alertdanger\" style=\"margin-top: 20px\">\n",
        "<h1> Question  #2): </h1>\n",
        "<b> \n",
        "Find the R^2  on the test data using 40% of the dataset for testing.\n",
        "</b>\n",
        "</div>\n"
      ]
    },
    {
      "cell_type": "code",
      "execution_count": 27,
      "metadata": {
        "id": "rTbH6IjBIKbc",
        "colab": {
          "base_uri": "https://localhost:8080/"
        },
        "outputId": "83f62c81-c66d-4d63-d60d-aae818ead1fb"
      },
      "outputs": [
        {
          "output_type": "execute_result",
          "data": {
            "text/plain": [
              "0.6111827529454426"
            ]
          },
          "metadata": {},
          "execution_count": 27
        }
      ],
      "source": [
        "# Write your code below and press Shift+Enter to execute \n",
        "x_train, x_test, y_train, y_test = train_test_split(x_data, y_data, test_size=0.40, random_state=1)\n",
        "lre.fit(x_train[['horsepower']],y_train)\n",
        "lre.score(x_test[['horsepower']],y_test)"
      ]
    },
    {
      "cell_type": "markdown",
      "metadata": {
        "id": "5aVJzBTiIKbc"
      },
      "source": [
        "<details><summary>Click here for the solution</summary>\n",
        "\n",
        "```python\n",
        "x_train1, x_test1, y_train1, y_test1 = train_test_split(x_data, y_data, test_size=0.4, random_state=0)\n",
        "lre.fit(x_train1[['horsepower']],y_train1)\n",
        "lre.score(x_test1[['horsepower']],y_test1)\n",
        "\n",
        "```\n",
        "\n",
        "</details>\n"
      ]
    },
    {
      "cell_type": "markdown",
      "metadata": {
        "id": "H6Lqtf22IKbc"
      },
      "source": [
        "Sometimes you do not have sufficient testing data; as a result, you may want to perform cross-validation. Let's go over several methods that you can use for cross-validation.\n"
      ]
    },
    {
      "cell_type": "markdown",
      "metadata": {
        "id": "Cyhk93rmIKbc"
      },
      "source": [
        "<h2>Cross-Validation Score</h2>\n"
      ]
    },
    {
      "cell_type": "markdown",
      "metadata": {
        "id": "xjP6JkUrIKbc"
      },
      "source": [
        "Let's import <b>model_selection</b> from the module <b>cross_val_score</b>.\n"
      ]
    },
    {
      "cell_type": "code",
      "execution_count": 28,
      "metadata": {
        "id": "_8wXRIRYIKbc"
      },
      "outputs": [],
      "source": [
        "from sklearn.model_selection import cross_val_score"
      ]
    },
    {
      "cell_type": "markdown",
      "metadata": {
        "id": "QVa_BRqcIKbc"
      },
      "source": [
        "We input the object, the feature (\"horsepower\"), and the target data (y_data). The parameter 'cv' determines the number of folds. In this case, it is 4.\n"
      ]
    },
    {
      "cell_type": "code",
      "execution_count": 29,
      "metadata": {
        "id": "OynmKxCEIKbc"
      },
      "outputs": [],
      "source": [
        "Rcross = cross_val_score(lre, x_data[['horsepower']], y_data, cv=4)"
      ]
    },
    {
      "cell_type": "markdown",
      "metadata": {
        "id": "mcLRnO6oIKbd"
      },
      "source": [
        "The default scoring is R^2. Each element in the array has the average R^2 value for the fold:\n"
      ]
    },
    {
      "cell_type": "code",
      "execution_count": 30,
      "metadata": {
        "id": "Nc_OegzaIKbd",
        "colab": {
          "base_uri": "https://localhost:8080/"
        },
        "outputId": "5f16a346-1420-4f3b-8fda-3f4673313244"
      },
      "outputs": [
        {
          "output_type": "execute_result",
          "data": {
            "text/plain": [
              "array([0.7746232 , 0.51716687, 0.74785353, 0.04839605])"
            ]
          },
          "metadata": {},
          "execution_count": 30
        }
      ],
      "source": [
        "Rcross"
      ]
    },
    {
      "cell_type": "markdown",
      "metadata": {
        "id": "3DY9o3WaIKbd"
      },
      "source": [
        "We can calculate the average and standard deviation of our estimate:\n"
      ]
    },
    {
      "cell_type": "code",
      "execution_count": 31,
      "metadata": {
        "id": "UtDjgbwYIKbd",
        "colab": {
          "base_uri": "https://localhost:8080/"
        },
        "outputId": "b90a58ff-49fc-4609-eb9c-3ed2e4f78d31"
      },
      "outputs": [
        {
          "output_type": "stream",
          "name": "stdout",
          "text": [
            "The mean of the folds are 0.522009915042119 and the standard deviation is 0.291183944475603\n"
          ]
        }
      ],
      "source": [
        "print(\"The mean of the folds are\", Rcross.mean(), \"and the standard deviation is\" , Rcross.std())"
      ]
    },
    {
      "cell_type": "markdown",
      "metadata": {
        "id": "6N-0GS-qIKbd"
      },
      "source": [
        "We can use negative squared error as a score by setting the parameter  'scoring' metric to 'neg_mean_squared_error'.\n"
      ]
    },
    {
      "cell_type": "code",
      "execution_count": 32,
      "metadata": {
        "id": "-3wK7m-uIKbd",
        "colab": {
          "base_uri": "https://localhost:8080/"
        },
        "outputId": "9c9b3ca3-afd5-4b5c-c657-bb36a9dc90e6"
      },
      "outputs": [
        {
          "output_type": "execute_result",
          "data": {
            "text/plain": [
              "array([20254142.84026702, 43745493.2650517 , 12539630.34014931,\n",
              "       17561927.72247591])"
            ]
          },
          "metadata": {},
          "execution_count": 32
        }
      ],
      "source": [
        "-1 * cross_val_score(lre,x_data[['horsepower']], y_data,cv=4,scoring='neg_mean_squared_error')"
      ]
    },
    {
      "cell_type": "markdown",
      "metadata": {
        "id": "Xr5hAjrlIKbd"
      },
      "source": [
        "<div class=\"alert alert-danger alertdanger\" style=\"margin-top: 20px\">\n",
        "<h1> Question  #3): </h1>\n",
        "<b> \n",
        "Calculate the average R^2 using two folds, then find the average R^2 for the second fold utilizing the \"horsepower\" feature: \n",
        "</b>\n",
        "</div>\n"
      ]
    },
    {
      "cell_type": "code",
      "execution_count": 33,
      "metadata": {
        "id": "CwqD664rIKbd",
        "colab": {
          "base_uri": "https://localhost:8080/"
        },
        "outputId": "514de655-1737-45a4-ae49-9f884d3d3325"
      },
      "outputs": [
        {
          "output_type": "execute_result",
          "data": {
            "text/plain": [
              "0.5166761697127429"
            ]
          },
          "metadata": {},
          "execution_count": 33
        }
      ],
      "source": [
        "# Write your code below and press Shift+Enter to execute \n",
        "Rcross=cross_val_score(lre,x_data[['horsepower']], y_data,cv=2)\n",
        "Rcross.mean()"
      ]
    },
    {
      "cell_type": "markdown",
      "metadata": {
        "id": "TwoFji1cIKbe"
      },
      "source": [
        "<details><summary>Click here for the solution</summary>\n",
        "\n",
        "```python\n",
        "Rc=cross_val_score(lre,x_data[['horsepower']], y_data,cv=2)\n",
        "Rc.mean()\n",
        "\n",
        "```\n",
        "\n",
        "</details>\n"
      ]
    },
    {
      "cell_type": "markdown",
      "metadata": {
        "id": "ClXv3FA-IKbe"
      },
      "source": [
        "You can also use the function 'cross_val_predict' to predict the output. The function splits up the data into the specified number of folds, with one fold for testing and the other folds are used for training. First, import the function:\n"
      ]
    },
    {
      "cell_type": "code",
      "execution_count": 34,
      "metadata": {
        "id": "QsY-Rb8zIKbe"
      },
      "outputs": [],
      "source": [
        "from sklearn.model_selection import cross_val_predict"
      ]
    },
    {
      "cell_type": "markdown",
      "metadata": {
        "id": "D6tYcF0HIKbe"
      },
      "source": [
        "We input the object, the feature <b>\"horsepower\"</b>, and the target data <b>y_data</b>. The parameter 'cv' determines the number of folds. In this case, it is 4. We can produce an output:\n"
      ]
    },
    {
      "cell_type": "code",
      "execution_count": 35,
      "metadata": {
        "id": "q-BA4XnQIKbe",
        "colab": {
          "base_uri": "https://localhost:8080/"
        },
        "outputId": "5c813d33-ea1c-4cad-86fd-a357c90b25eb"
      },
      "outputs": [
        {
          "output_type": "execute_result",
          "data": {
            "text/plain": [
              "array([14141.63807508, 14141.63807508, 20814.29423473, 12745.03562306,\n",
              "       14762.35027598])"
            ]
          },
          "metadata": {},
          "execution_count": 35
        }
      ],
      "source": [
        "yhat = cross_val_predict(lre,x_data[['horsepower']], y_data,cv=4)\n",
        "yhat[0:5]"
      ]
    },
    {
      "cell_type": "markdown",
      "metadata": {
        "id": "jkQWgyLWIKbe"
      },
      "source": [
        "<h2 id=\"ref2\">Part 2: Overfitting, Underfitting and Model Selection</h2>\n",
        "\n",
        "<p>It turns out that the test data, sometimes referred to as the \"out of sample data\", is a much better measure of how well your model performs in the real world.  One reason for this is overfitting.\n",
        "\n",
        "Let's go over some examples. It turns out these differences are more apparent in Multiple Linear Regression and Polynomial Regression so we will explore overfitting in that context.</p>\n"
      ]
    },
    {
      "cell_type": "markdown",
      "metadata": {
        "id": "76zs3lueIKbe"
      },
      "source": [
        "Let's create Multiple Linear Regression objects and train the model using <b>'horsepower'</b>, <b>'curb-weight'</b>, <b>'engine-size'</b> and <b>'highway-mpg'</b> as features.\n"
      ]
    },
    {
      "cell_type": "code",
      "execution_count": 36,
      "metadata": {
        "id": "vNGl3AlcIKbe",
        "colab": {
          "base_uri": "https://localhost:8080/"
        },
        "outputId": "0c40eb0f-0b2c-4c7b-e818-2e1eaf91db26"
      },
      "outputs": [
        {
          "output_type": "execute_result",
          "data": {
            "text/plain": [
              "LinearRegression()"
            ]
          },
          "metadata": {},
          "execution_count": 36
        }
      ],
      "source": [
        "lr = LinearRegression()\n",
        "lr.fit(x_train[['horsepower', 'curb-weight', 'engine-size', 'highway-mpg']], y_train)"
      ]
    },
    {
      "cell_type": "markdown",
      "metadata": {
        "id": "sbex1W-ZIKbe"
      },
      "source": [
        "Prediction using training data:\n"
      ]
    },
    {
      "cell_type": "code",
      "execution_count": 37,
      "metadata": {
        "id": "SaIzrDwiIKbf",
        "colab": {
          "base_uri": "https://localhost:8080/"
        },
        "outputId": "f44949a1-1f0b-437f-e08f-9e92d7621f23"
      },
      "outputs": [
        {
          "output_type": "execute_result",
          "data": {
            "text/plain": [
              "array([26091.37901214,  7954.34606626, 26091.37901214, 19557.5951667 ,\n",
              "        5822.61408773])"
            ]
          },
          "metadata": {},
          "execution_count": 37
        }
      ],
      "source": [
        "yhat_train = lr.predict(x_train[['horsepower', 'curb-weight', 'engine-size', 'highway-mpg']])\n",
        "yhat_train[0:5]"
      ]
    },
    {
      "cell_type": "markdown",
      "metadata": {
        "id": "QB70_GUFIKbf"
      },
      "source": [
        "Prediction using test data:\n"
      ]
    },
    {
      "cell_type": "code",
      "execution_count": 38,
      "metadata": {
        "id": "ng8Btp-gIKbf",
        "colab": {
          "base_uri": "https://localhost:8080/"
        },
        "outputId": "3dba8306-006f-42b8-8640-27e19a855a5d"
      },
      "outputs": [
        {
          "output_type": "execute_result",
          "data": {
            "text/plain": [
              "array([11353.32523898,  5751.32764209, 11187.28797374,  6595.61698627,\n",
              "       15737.79921748])"
            ]
          },
          "metadata": {},
          "execution_count": 38
        }
      ],
      "source": [
        "yhat_test = lr.predict(x_test[['horsepower', 'curb-weight', 'engine-size', 'highway-mpg']])\n",
        "yhat_test[0:5]"
      ]
    },
    {
      "cell_type": "markdown",
      "metadata": {
        "id": "sYFPIN2zIKbf"
      },
      "source": [
        "Let's perform some model evaluation using our training and testing data separately. First, we import the seaborn and matplotlib library for plotting.\n"
      ]
    },
    {
      "cell_type": "code",
      "execution_count": 39,
      "metadata": {
        "id": "3EdLpwduIKbf"
      },
      "outputs": [],
      "source": [
        "import matplotlib.pyplot as plt\n",
        "%matplotlib inline\n",
        "import seaborn as sns"
      ]
    },
    {
      "cell_type": "markdown",
      "metadata": {
        "id": "S2oBTXHWIKbf"
      },
      "source": [
        "Let's examine the distribution of the predicted values of the training data.\n"
      ]
    },
    {
      "cell_type": "code",
      "execution_count": 40,
      "metadata": {
        "id": "IBHn3NMDIKbf",
        "colab": {
          "base_uri": "https://localhost:8080/",
          "height": 715
        },
        "outputId": "b1419c63-522b-4884-d99f-c85a5f8d5871"
      },
      "outputs": [
        {
          "output_type": "stream",
          "name": "stderr",
          "text": [
            "/usr/local/lib/python3.7/dist-packages/seaborn/distributions.py:2619: FutureWarning: `distplot` is a deprecated function and will be removed in a future version. Please adapt your code to use either `displot` (a figure-level function with similar flexibility) or `kdeplot` (an axes-level function for kernel density plots).\n",
            "  warnings.warn(msg, FutureWarning)\n",
            "/usr/local/lib/python3.7/dist-packages/seaborn/distributions.py:2619: FutureWarning: `distplot` is a deprecated function and will be removed in a future version. Please adapt your code to use either `displot` (a figure-level function with similar flexibility) or `kdeplot` (an axes-level function for kernel density plots).\n",
            "  warnings.warn(msg, FutureWarning)\n"
          ]
        },
        {
          "output_type": "display_data",
          "data": {
            "text/plain": [
              "<Figure size 864x720 with 1 Axes>"
            ],
            "image/png": "[encoded data removed]"
          },
          "metadata": {
            "needs_background": "light"
          }
        }
      ],
      "source": [
        "Title = 'Distribution  Plot of  Predicted Value Using Training Data vs Training Data Distribution'\n",
        "DistributionPlot(y_train, yhat_train, \"Actual Values (Train)\", \"Predicted Values (Train)\", Title)"
      ]
    },
    {
      "cell_type": "markdown",
      "metadata": {
        "id": "8_aSGWboIKbg"
      },
      "source": [
        "Figure 1: Plot of predicted values using the training data compared to the actual values of the training data.\n"
      ]
    },
    {
      "cell_type": "markdown",
      "metadata": {
        "id": "np9dkCLjIKbg"
      },
      "source": [
        "So far, the model seems to be doing well in learning from the training dataset. But what happens when the model encounters new data from the testing dataset? When the model generates new values from the test data, we see the distribution of the predicted values is much different from the actual target values.\n"
      ]
    },
    {
      "cell_type": "code",
      "execution_count": 41,
      "metadata": {
        "id": "tPVQizVpIKbg",
        "colab": {
          "base_uri": "https://localhost:8080/",
          "height": 715
        },
        "outputId": "73bd1d5d-1d61-4473-94bf-6a2c6d308cb2"
      },
      "outputs": [
        {
          "output_type": "stream",
          "name": "stderr",
          "text": [
            "/usr/local/lib/python3.7/dist-packages/seaborn/distributions.py:2619: FutureWarning: `distplot` is a deprecated function and will be removed in a future version. Please adapt your code to use either `displot` (a figure-level function with similar flexibility) or `kdeplot` (an axes-level function for kernel density plots).\n",
            "  warnings.warn(msg, FutureWarning)\n",
            "/usr/local/lib/python3.7/dist-packages/seaborn/distributions.py:2619: FutureWarning: `distplot` is a deprecated function and will be removed in a future version. Please adapt your code to use either `displot` (a figure-level function with similar flexibility) or `kdeplot` (an axes-level function for kernel density plots).\n",
            "  warnings.warn(msg, FutureWarning)\n"
          ]
        },
        {
          "output_type": "display_data",
          "data": {
            "text/plain": [
              "<Figure size 864x720 with 1 Axes>"
            ],
            "image/png": "[encoded data removed]"
          },
          "metadata": {
            "needs_background": "light"
          }
        }
      ],
      "source": [
        "Title='Distribution  Plot of  Predicted Value Using Test Data vs Data Distribution of Test Data'\n",
        "DistributionPlot(y_test,yhat_test,\"Actual Values (Test)\",\"Predicted Values (Test)\",Title)"
      ]
    },
    {
      "cell_type": "markdown",
      "metadata": {
        "id": "aIFHbszlIKbg"
      },
      "source": [
        "Figure 2: Plot of predicted value using the test data compared to the actual values of the test data.\n"
      ]
    },
    {
      "cell_type": "markdown",
      "metadata": {
        "id": "k-fy8YtcIKbg"
      },
      "source": [
        "<p>Comparing Figure 1 and Figure 2, it is evident that the distribution of the test data in Figure 1 is much better at fitting the data. This difference in Figure 2 is apparent in the range of 5000 to 15,000. This is where the shape of the distribution is extremely different. Let's see if polynomial regression also exhibits a drop in the prediction accuracy when analysing the test dataset.</p>\n"
      ]
    },
    {
      "cell_type": "code",
      "execution_count": 42,
      "metadata": {
        "id": "BqtyKNZpIKbg"
      },
      "outputs": [],
      "source": [
        "from sklearn.preprocessing import PolynomialFeatures"
      ]
    },
    {
      "cell_type": "markdown",
      "metadata": {
        "id": "mk4SZcU6IKbg"
      },
      "source": [
        "<h4>Overfitting</h4>\n",
        "<p>Overfitting occurs when the model fits the noise, but not the underlying process. Therefore, when testing your model using the test set, your model does not perform as well since it is modelling noise, not the underlying process that generated the relationship. Let's create a degree 5 polynomial model.</p>\n"
      ]
    },
    {
      "cell_type": "markdown",
      "metadata": {
        "id": "l3aPrTsBIKbg"
      },
      "source": [
        "Let's use 55 percent of the data for training and the rest for testing:\n"
      ]
    },
    {
      "cell_type": "code",
      "execution_count": 43,
      "metadata": {
        "id": "viqmtvb4IKbh"
      },
      "outputs": [],
      "source": [
        "x_train, x_test, y_train, y_test = train_test_split(x_data, y_data, test_size=0.45, random_state=0)"
      ]
    },
    {
      "cell_type": "markdown",
      "metadata": {
        "id": "ZupAG5PZIKbh"
      },
      "source": [
        "We will perform a degree 5 polynomial transformation on the feature <b>'horsepower'</b>.\n"
      ]
    },
    {
      "cell_type": "code",
      "execution_count": 44,
      "metadata": {
        "id": "UqgUzQlrIKbh",
        "colab": {
          "base_uri": "https://localhost:8080/"
        },
        "outputId": "fd0f50b4-9642-4b12-9f21-0dae751378c3"
      },
      "outputs": [
        {
          "output_type": "execute_result",
          "data": {
            "text/plain": [
              "PolynomialFeatures(degree=5)"
            ]
          },
          "metadata": {},
          "execution_count": 44
        }
      ],
      "source": [
        "pr = PolynomialFeatures(degree=5)\n",
        "x_train_pr = pr.fit_transform(x_train[['horsepower']])\n",
        "x_test_pr = pr.fit_transform(x_test[['horsepower']])\n",
        "pr"
      ]
    },
    {
      "cell_type": "markdown",
      "metadata": {
        "id": "JJzw6ZUpIKbh"
      },
      "source": [
        "Now, let's create a Linear Regression model \"poly\" and train it.\n"
      ]
    },
    {
      "cell_type": "code",
      "execution_count": 45,
      "metadata": {
        "id": "JuSzgYeTIKbh",
        "colab": {
          "base_uri": "https://localhost:8080/"
        },
        "outputId": "3b248168-03b0-46bb-bb03-aaf565210a1e"
      },
      "outputs": [
        {
          "output_type": "execute_result",
          "data": {
            "text/plain": [
              "LinearRegression()"
            ]
          },
          "metadata": {},
          "execution_count": 45
        }
      ],
      "source": [
        "poly = LinearRegression()\n",
        "poly.fit(x_train_pr, y_train)"
      ]
    },
    {
      "cell_type": "markdown",
      "metadata": {
        "id": "jMPkf7q-IKbh"
      },
      "source": [
        "We can see the output of our model using the method \"predict.\" We assign the values to \"yhat\".\n"
      ]
    },
    {
      "cell_type": "code",
      "execution_count": 46,
      "metadata": {
        "id": "-BM9Ew4GIKbh",
        "colab": {
          "base_uri": "https://localhost:8080/"
        },
        "outputId": "d685d83e-da3f-4511-84b1-d85ef19e5f22"
      },
      "outputs": [
        {
          "output_type": "execute_result",
          "data": {
            "text/plain": [
              "array([ 6728.65561887,  7307.98782321, 12213.78770965, 18893.24804015,\n",
              "       19995.95195136])"
            ]
          },
          "metadata": {},
          "execution_count": 46
        }
      ],
      "source": [
        "yhat = poly.predict(x_test_pr)\n",
        "yhat[0:5]"
      ]
    },
    {
      "cell_type": "markdown",
      "metadata": {
        "id": "GpmY8S7RIKbh"
      },
      "source": [
        "Let's take the first five predicted values and compare it to the actual targets.\n"
      ]
    },
    {
      "cell_type": "code",
      "execution_count": 47,
      "metadata": {
        "id": "IPyspUtKIKbh",
        "colab": {
          "base_uri": "https://localhost:8080/"
        },
        "outputId": "210ae649-ac3c-4cf8-e7e3-3f5923a89e4b"
      },
      "outputs": [
        {
          "output_type": "stream",
          "name": "stdout",
          "text": [
            "Predicted values: [ 6728.65561887  7307.98782321 12213.78770965 18893.24804015]\n",
            "True values: [ 6295. 10698. 13860. 13499.]\n"
          ]
        }
      ],
      "source": [
        "print(\"Predicted values:\", yhat[0:4])\n",
        "print(\"True values:\", y_test[0:4].values)"
      ]
    },
    {
      "cell_type": "markdown",
      "metadata": {
        "id": "RopjXthpIKbi"
      },
      "source": [
        "We will use the function \"PollyPlot\" that we defined at the beginning of the lab to display the training data, testing data, and the predicted function.\n"
      ]
    },
    {
      "cell_type": "code",
      "execution_count": 48,
      "metadata": {
        "id": "dpt2d-OQIKbi",
        "colab": {
          "base_uri": "https://localhost:8080/",
          "height": 595
        },
        "outputId": "432e2856-6094-49c1-d943-a7c33ac82240"
      },
      "outputs": [
        {
          "output_type": "display_data",
          "data": {
            "text/plain": [
              "<Figure size 864x720 with 1 Axes>"
            ],
            "image/png": "[encoded data removed]"
          },
          "metadata": {
            "needs_background": "light"
          }
        }
      ],
      "source": [
        "PollyPlot(x_train[['horsepower']], x_test[['horsepower']], y_train, y_test, poly,pr)"
      ]
    },
    {
      "cell_type": "markdown",
      "metadata": {
        "id": "E44InnTjIKbi"
      },
      "source": [
        "Figure 3: A polynomial regression model where red dots represent training data, green dots represent test data, and the blue line represents the model prediction.\n"
      ]
    },
    {
      "cell_type": "markdown",
      "metadata": {
        "id": "I6GgTLVSIKbi"
      },
      "source": [
        "We see that the estimated function appears to track the data but around 200 horsepower, the function begins to diverge from the data points.\n"
      ]
    },
    {
      "cell_type": "markdown",
      "metadata": {
        "id": "qcypX_FGIKbi"
      },
      "source": [
        "R^2 of the training data:\n"
      ]
    },
    {
      "cell_type": "code",
      "execution_count": 49,
      "metadata": {
        "id": "0QPvac1IIKbi",
        "colab": {
          "base_uri": "https://localhost:8080/"
        },
        "outputId": "55f4ad15-ec41-4af1-d3db-a12f5ad2f93b"
      },
      "outputs": [
        {
          "output_type": "execute_result",
          "data": {
            "text/plain": [
              "0.556771690212023"
            ]
          },
          "metadata": {},
          "execution_count": 49
        }
      ],
      "source": [
        "poly.score(x_train_pr, y_train)"
      ]
    },
    {
      "cell_type": "markdown",
      "metadata": {
        "id": "X1fvjfw5IKbi"
      },
      "source": [
        "R^2 of the test data:\n"
      ]
    },
    {
      "cell_type": "code",
      "execution_count": 50,
      "metadata": {
        "id": "NsIhxG4aIKbi",
        "colab": {
          "base_uri": "https://localhost:8080/"
        },
        "outputId": "3f0d99ea-bb69-4515-8a67-e5acb8f51075"
      },
      "outputs": [
        {
          "output_type": "execute_result",
          "data": {
            "text/plain": [
              "-29.87134030204415"
            ]
          },
          "metadata": {},
          "execution_count": 50
        }
      ],
      "source": [
        "poly.score(x_test_pr, y_test)"
      ]
    },
    {
      "cell_type": "markdown",
      "metadata": {
        "id": "4Mp1GNllIKbi"
      },
      "source": [
        "We see the R^2 for the training data is 0.5567 while the R^2 on the test data was -29.87.  The lower the R^2, the worse the model. A negative R^2 is a sign of overfitting.\n"
      ]
    },
    {
      "cell_type": "markdown",
      "metadata": {
        "id": "XrpznYk0IKbi"
      },
      "source": [
        "Let's see how the R^2 changes on the test data for different order polynomials and then plot the results:\n"
      ]
    },
    {
      "cell_type": "code",
      "execution_count": 51,
      "metadata": {
        "id": "fmZ-sCncIKbj",
        "colab": {
          "base_uri": "https://localhost:8080/",
          "height": 313
        },
        "outputId": "437de050-ba3c-4495-9ee8-7063d4229ca4"
      },
      "outputs": [
        {
          "output_type": "execute_result",
          "data": {
            "text/plain": [
              "Text(3, 0.75, 'Maximum R^2 ')"
            ]
          },
          "metadata": {},
          "execution_count": 51
        },
        {
          "output_type": "display_data",
          "data": {
            "text/plain": [
              "<Figure size 432x288 with 1 Axes>"
            ],
            "image/png": "[encoded data removed]"
          },
          "metadata": {
            "needs_background": "light"
          }
        }
      ],
      "source": [
        "Rsqu_test = []\n",
        "\n",
        "order = [1, 2, 3, 4]\n",
        "for n in order:\n",
        "    pr = PolynomialFeatures(degree=n)\n",
        "    \n",
        "    x_train_pr = pr.fit_transform(x_train[['horsepower']])\n",
        "    \n",
        "    x_test_pr = pr.fit_transform(x_test[['horsepower']])    \n",
        "    \n",
        "    lr.fit(x_train_pr, y_train)\n",
        "    \n",
        "    Rsqu_test.append(lr.score(x_test_pr, y_test))\n",
        "\n",
        "plt.plot(order, Rsqu_test)\n",
        "plt.xlabel('order')\n",
        "plt.ylabel('R^2')\n",
        "plt.title('R^2 Using Test Data')\n",
        "plt.text(3, 0.75, 'Maximum R^2 ')    "
      ]
    },
    {
      "cell_type": "markdown",
      "metadata": {
        "id": "GdxsaFWGIKbj"
      },
      "source": [
        "We see the R^2 gradually increases until an order three polynomial is used. Then, the R^2 dramatically decreases at an order four polynomial.\n"
      ]
    },
    {
      "cell_type": "markdown",
      "metadata": {
        "id": "js53GfWFIKbj"
      },
      "source": [
        "The following function will be used in the next section. Please run the cell below.\n"
      ]
    },
    {
      "cell_type": "code",
      "execution_count": 52,
      "metadata": {
        "id": "-PJDJQ6xIKbj"
      },
      "outputs": [],
      "source": [
        "def f(order, test_data):\n",
        "    x_train, x_test, y_train, y_test = train_test_split(x_data, y_data, test_size=test_data, random_state=0)\n",
        "    pr = PolynomialFeatures(degree=order)\n",
        "    x_train_pr = pr.fit_transform(x_train[['horsepower']])\n",
        "    x_test_pr = pr.fit_transform(x_test[['horsepower']])\n",
        "    poly = LinearRegression()\n",
        "    poly.fit(x_train_pr,y_train)\n",
        "    PollyPlot(x_train[['horsepower']], x_test[['horsepower']], y_train,y_test, poly, pr)"
      ]
    },
    {
      "cell_type": "markdown",
      "metadata": {
        "id": "VCG_yzdvIKbj"
      },
      "source": [
        "The following interface allows you to experiment with different polynomial orders and different amounts of data.\n"
      ]
    },
    {
      "cell_type": "code",
      "execution_count": 53,
      "metadata": {
        "id": "XkhvtbaaIKbj",
        "colab": {
          "base_uri": "https://localhost:8080/",
          "height": 677,
          "referenced_widgets": [
            "afcb104cd9ad41f9b291109b9b8311b5",
            "b2bfeb6c5bc741f9b9dfc009e382524e",
            "231b77cf701f42c1a4326e569df0ad4d",
            "3d5ea58659d545a5b95dec99630ae4d0",
            "3f88c0a8fb2f4f8f935ea400a3f34859",
            "ac4f6cd0efcb41d68bf9a9a8b4c8499a",
            "3e593714b6ce4165a81fbcf900a100eb",
            "d4a4e7cf0ef04844bcf7a7b9a1f35676",
            "5dafef6e58434cd197ecd09566bacc55",
            "73e5cbdfb7cc4a9d9998d71c197f0fa3"
          ]
        },
        "outputId": "9eaf6f9a-9b4a-4800-bd07-2a8bfa6941ea"
      },
      "outputs": [
        {
          "output_type": "display_data",
          "data": {
            "text/plain": [
              "interactive(children=(IntSlider(value=3, description='order', max=6), FloatSlider(value=0.45, description='tes…"
            ],
            "application/vnd.jupyter.widget-view+json": {
              "version_major": 2,
              "version_minor": 0,
              "model_id": "afcb104cd9ad41f9b291109b9b8311b5"
            }
          },
          "metadata": {}
        },
        {
          "output_type": "execute_result",
          "data": {
            "text/plain": [
              "<function __main__.f(order, test_data)>"
            ]
          },
          "metadata": {},
          "execution_count": 53
        }
      ],
      "source": [
        "interact(f, order=(0, 6, 1), test_data=(0.05, 0.95, 0.05))"
      ]
    },
    {
      "cell_type": "markdown",
      "metadata": {
        "id": "e01UgTWFIKbj"
      },
      "source": [
        "<div class=\"alert alert-danger alertdanger\" style=\"margin-top: 20px\">\n",
        "<h1> Question  #4a):</h1>\n",
        "\n",
        "<b>We can perform polynomial transformations with more than one feature. Create a \"PolynomialFeatures\" object \"pr1\" of degree two.</b>\n",
        "\n",
        "</div>\n"
      ]
    },
    {
      "cell_type": "code",
      "execution_count": 54,
      "metadata": {
        "id": "ogcc26NZIKbj"
      },
      "outputs": [],
      "source": [
        "# Write your code below and press Shift+Enter to execute \n",
        "pr1=PolynomialFeatures(degree=2)"
      ]
    },
    {
      "cell_type": "markdown",
      "metadata": {
        "id": "t1mBj-veIKbk"
      },
      "source": [
        "<details><summary>Click here for the solution</summary>\n",
        "\n",
        "```python\n",
        "pr1=PolynomialFeatures(degree=2)\n",
        "\n",
        "```\n",
        "\n",
        "</details>\n"
      ]
    },
    {
      "cell_type": "markdown",
      "metadata": {
        "id": "EpvgKwm0IKbk"
      },
      "source": [
        "<div class=\"alert alert-danger alertdanger\" style=\"margin-top: 20px\">\n",
        "<h1> Question  #4b): </h1>\n",
        "\n",
        "<b> \n",
        " Transform the training and testing samples for the features 'horsepower', 'curb-weight', 'engine-size' and 'highway-mpg'. Hint: use the method \"fit_transform\".</b>\n",
        "</div>\n"
      ]
    },
    {
      "cell_type": "code",
      "execution_count": 55,
      "metadata": {
        "id": "Bkas5tU_IKbk"
      },
      "outputs": [],
      "source": [
        "# Write your code below and press Shift+Enter to execute \n",
        "x_train_pr1=pr1.fit_transform(x_train[['horsepower', 'curb-weight', 'engine-size', 'highway-mpg']])\n",
        "x_test_pr1=pr1.fit_transform(x_test[['horsepower', 'curb-weight', 'engine-size', 'highway-mpg']])\n"
      ]
    },
    {
      "cell_type": "markdown",
      "metadata": {
        "id": "cpFYU5-kIKbk"
      },
      "source": [
        "<details><summary>Click here for the solution</summary>\n",
        "\n",
        "```python\n",
        "x_train_pr1=pr1.fit_transform(x_train[['horsepower', 'curb-weight', 'engine-size', 'highway-mpg']])\n",
        "\n",
        "x_test_pr1=pr1.fit_transform(x_test[['horsepower', 'curb-weight', 'engine-size', 'highway-mpg']])\n",
        "\n",
        "\n",
        "```\n",
        "\n",
        "</details>\n"
      ]
    },
    {
      "cell_type": "markdown",
      "metadata": {
        "id": "xCwec3uaIKbk"
      },
      "source": [
        "<!-- The answer is below:\n",
        "\n",
        "x_train_pr1=pr.fit_transform(x_train[['horsepower', 'curb-weight', 'engine-size', 'highway-mpg']])\n",
        "x_test_pr1=pr.fit_transform(x_test[['horsepower', 'curb-weight', 'engine-size', 'highway-mpg']])\n",
        "\n",
        "-->\n"
      ]
    },
    {
      "cell_type": "markdown",
      "metadata": {
        "id": "mORW4mIdIKbk"
      },
      "source": [
        "<div class=\"alert alert-danger alertdanger\" style=\"margin-top: 20px\">\n",
        "<h1> Question  #4c): </h1>\n",
        "<b> \n",
        "How many dimensions does the new feature have? Hint: use the attribute \"shape\".\n",
        "</b>\n",
        "</div>\n"
      ]
    },
    {
      "cell_type": "code",
      "execution_count": 56,
      "metadata": {
        "id": "5Ia8w35tIKbk",
        "colab": {
          "base_uri": "https://localhost:8080/"
        },
        "outputId": "7e90f9b0-6c5d-4af3-f848-aaae1502360b"
      },
      "outputs": [
        {
          "output_type": "execute_result",
          "data": {
            "text/plain": [
              "(110, 15)"
            ]
          },
          "metadata": {},
          "execution_count": 56
        }
      ],
      "source": [
        "# Write your code below and press Shift+Enter to execute \n",
        "x_train_pr1.shape"
      ]
    },
    {
      "cell_type": "markdown",
      "metadata": {
        "id": "A64aFXnZIKbk"
      },
      "source": [
        "<details><summary>Click here for the solution</summary>\n",
        "\n",
        "```python\n",
        "x_train_pr1.shape #there are now 15 features\n",
        "\n",
        "\n",
        "```\n",
        "\n",
        "</details>\n"
      ]
    },
    {
      "cell_type": "markdown",
      "metadata": {
        "id": "iDdTs_Y4IKbl"
      },
      "source": [
        "<div class=\"alert alert-danger alertdanger\" style=\"margin-top: 20px\">\n",
        "<h1> Question  #4d): </h1>\n",
        "\n",
        "<b> \n",
        "Create a linear regression model \"poly1\". Train the object using the method \"fit\" using the polynomial features.</b>\n",
        "</div>\n"
      ]
    },
    {
      "cell_type": "code",
      "execution_count": 57,
      "metadata": {
        "id": "doh4NIRoIKbl"
      },
      "outputs": [],
      "source": [
        "# Write your code below and press Shift+Enter to execute \n",
        "poly1=LinearRegression().fit(x_train_pr1,y_train)"
      ]
    },
    {
      "cell_type": "markdown",
      "metadata": {
        "id": "rUzfUfmmIKbl"
      },
      "source": [
        "<details><summary>Click here for the solution</summary>\n",
        "\n",
        "```python\n",
        "poly1=LinearRegression().fit(x_train_pr1,y_train)\n",
        "\n",
        "\n",
        "```\n",
        "\n",
        "</details>\n"
      ]
    },
    {
      "cell_type": "markdown",
      "metadata": {
        "id": "KEybgBGZIKbl"
      },
      "source": [
        " <div class=\"alert alert-danger alertdanger\" style=\"margin-top: 20px\">\n",
        "<h1> Question  #4e): </h1>\n",
        "<b>Use the method  \"predict\" to predict an output on the polynomial features, then use the function \"DistributionPlot\" to display the distribution of the predicted test output vs. the actual test data.</b>\n",
        "</div>\n"
      ]
    },
    {
      "cell_type": "code",
      "execution_count": 61,
      "metadata": {
        "id": "1Rsmxe6oIKbl",
        "colab": {
          "base_uri": "https://localhost:8080/",
          "height": 715
        },
        "outputId": "405a9a8d-4b84-4204-f556-1c70a8ba3015"
      },
      "outputs": [
        {
          "output_type": "stream",
          "name": "stderr",
          "text": [
            "/usr/local/lib/python3.7/dist-packages/seaborn/distributions.py:2619: FutureWarning: `distplot` is a deprecated function and will be removed in a future version. Please adapt your code to use either `displot` (a figure-level function with similar flexibility) or `kdeplot` (an axes-level function for kernel density plots).\n",
            "  warnings.warn(msg, FutureWarning)\n",
            "/usr/local/lib/python3.7/dist-packages/seaborn/distributions.py:2619: FutureWarning: `distplot` is a deprecated function and will be removed in a future version. Please adapt your code to use either `displot` (a figure-level function with similar flexibility) or `kdeplot` (an axes-level function for kernel density plots).\n",
            "  warnings.warn(msg, FutureWarning)\n"
          ]
        },
        {
          "output_type": "display_data",
          "data": {
            "text/plain": [
              "<Figure size 864x720 with 1 Axes>"
            ],
            "image/png": "[encoded data removed]"
          },
          "metadata": {
            "needs_background": "light"
          }
        }
      ],
      "source": [
        "# Write your code below and press Shift+Enter to execute \n",
        "yhat_test1=poly1.predict(x_test_pr1)\n",
        "DistributionPlot(y_test, yhat_test1, \"ytest\", \"yhat\",Title=\"Actual vs test\")"
      ]
    },
    {
      "cell_type": "markdown",
      "metadata": {
        "id": "rYwqPnoUIKbl"
      },
      "source": [
        "<details><summary>Click here for the solution</summary>\n",
        "\n",
        "```python\n",
        "yhat_test1=poly1.predict(x_test_pr1)\n",
        "\n",
        "Title='Distribution  Plot of  Predicted Value Using Test Data vs Data Distribution of Test Data'\n",
        "\n",
        "DistributionPlot(y_test, yhat_test1, \"Actual Values (Test)\", \"Predicted Values (Test)\", Title)\n",
        "\n",
        "```\n",
        "\n",
        "</details>\n"
      ]
    },
    {
      "cell_type": "markdown",
      "metadata": {
        "id": "Zx9w-pFcIKbm"
      },
      "source": [
        "<div class=\"alert alert-danger alertdanger\" style=\"margin-top: 20px\">\n",
        "<h1> Question  #4f): </h1>\n",
        "\n",
        "<b>Using the distribution plot above, describe (in words) the two regions where the predicted prices are less accurate than the actual prices.</b>\n",
        "\n",
        "</div>\n"
      ]
    },
    {
      "cell_type": "code",
      "execution_count": null,
      "metadata": {
        "id": "tG7UDWIvIKbm"
      },
      "outputs": [],
      "source": [
        "# Write your code below and press Shift+Enter to execute \n",
        "#in 10,000 Dollar test is higher and actually actual should be higher, the same happened aroung 45,000he predicted price is lower than the price cost in the $30,000 to $40,000 range. As such the model is not as accurate in these ranges.\n"
      ]
    },
    {
      "cell_type": "markdown",
      "metadata": {
        "id": "qewryKm-IKbm"
      },
      "source": [
        "<details><summary>Click here for the solution</summary>\n",
        "\n",
        "```python\n",
        "#The predicted value is higher than actual value for cars where the price $10,000 range, conversely the predicted price is lower than the price cost in the $30,000 to $40,000 range. As such the model is not as accurate in these ranges.\n",
        "\n",
        "```\n",
        "\n",
        "</details>\n"
      ]
    },
    {
      "cell_type": "markdown",
      "metadata": {
        "id": "uGOY6LoEIKbm"
      },
      "source": [
        "<h2 id=\"ref3\">Part 3: Ridge Regression</h2> \n"
      ]
    },
    {
      "cell_type": "markdown",
      "metadata": {
        "id": "ajW6eqYrIKbm"
      },
      "source": [
        "In this section, we will review Ridge Regression and see how the parameter alpha changes the model. Just a note, here our test data will be used as validation data.\n"
      ]
    },
    {
      "cell_type": "markdown",
      "metadata": {
        "id": "Ra0KteyUIKbm"
      },
      "source": [
        "Let's perform a degree two polynomial transformation on our data.\n"
      ]
    },
    {
      "cell_type": "code",
      "execution_count": 62,
      "metadata": {
        "id": "ta71m9gfIKbn"
      },
      "outputs": [],
      "source": [
        "pr=PolynomialFeatures(degree=2)\n",
        "x_train_pr=pr.fit_transform(x_train[['horsepower', 'curb-weight', 'engine-size', 'highway-mpg','normalized-losses','symboling']])\n",
        "x_test_pr=pr.fit_transform(x_test[['horsepower', 'curb-weight', 'engine-size', 'highway-mpg','normalized-losses','symboling']])"
      ]
    },
    {
      "cell_type": "markdown",
      "metadata": {
        "id": "BLj9psw1IKbn"
      },
      "source": [
        "Let's import  <b>Ridge</b>  from the module <b>linear models</b>.\n"
      ]
    },
    {
      "cell_type": "code",
      "execution_count": 63,
      "metadata": {
        "id": "NVFTtc7zIKbn"
      },
      "outputs": [],
      "source": [
        "from sklearn.linear_model import Ridge"
      ]
    },
    {
      "cell_type": "markdown",
      "metadata": {
        "id": "yjzzUJxtIKbn"
      },
      "source": [
        "Let's create a Ridge regression object, setting the regularization parameter (alpha) to 0.1\n"
      ]
    },
    {
      "cell_type": "code",
      "execution_count": 64,
      "metadata": {
        "id": "bfpZMW8YIKbn"
      },
      "outputs": [],
      "source": [
        "RigeModel=Ridge(alpha=1)"
      ]
    },
    {
      "cell_type": "markdown",
      "metadata": {
        "id": "M6bwmaTxIKbn"
      },
      "source": [
        "Like regular regression, you can fit the model using the method <b>fit</b>.\n"
      ]
    },
    {
      "cell_type": "code",
      "execution_count": 65,
      "metadata": {
        "id": "-nD9TSCCIKbn",
        "colab": {
          "base_uri": "https://localhost:8080/"
        },
        "outputId": "c4fa9df1-9215-45e7-8994-a70d6c0942d3"
      },
      "outputs": [
        {
          "output_type": "execute_result",
          "data": {
            "text/plain": [
              "Ridge(alpha=1)"
            ]
          },
          "metadata": {},
          "execution_count": 65
        }
      ],
      "source": [
        "RigeModel.fit(x_train_pr, y_train)"
      ]
    },
    {
      "cell_type": "markdown",
      "metadata": {
        "id": "kVYv1LJeIKbn"
      },
      "source": [
        "Similarly, you can obtain a prediction:\n"
      ]
    },
    {
      "cell_type": "code",
      "execution_count": 66,
      "metadata": {
        "id": "Gg9blHVZIKbo"
      },
      "outputs": [],
      "source": [
        "yhat = RigeModel.predict(x_test_pr)"
      ]
    },
    {
      "cell_type": "markdown",
      "metadata": {
        "id": "AfsuRpH2IKbo"
      },
      "source": [
        "Let's compare the first five predicted samples to our test set:\n"
      ]
    },
    {
      "cell_type": "code",
      "execution_count": 67,
      "metadata": {
        "id": "ea4OgNy4IKbo",
        "colab": {
          "base_uri": "https://localhost:8080/"
        },
        "outputId": "b8381ddf-bb58-4353-f4cd-28529299846c"
      },
      "outputs": [
        {
          "output_type": "stream",
          "name": "stdout",
          "text": [
            "predicted: [ 6570.82441941  9636.2489147  20949.92322737 19403.60313256]\n",
            "test set : [ 6295. 10698. 13860. 13499.]\n"
          ]
        }
      ],
      "source": [
        "print('predicted:', yhat[0:4])\n",
        "print('test set :', y_test[0:4].values)"
      ]
    },
    {
      "cell_type": "markdown",
      "metadata": {
        "id": "6hPr2inIIKbo"
      },
      "source": [
        "We select the value of alpha that minimizes the test error. To do so, we can use a for loop. We have also created a progress bar to see how many iterations we have completed so far.\n"
      ]
    },
    {
      "cell_type": "code",
      "execution_count": 68,
      "metadata": {
        "id": "R6OEy8CdIKbo",
        "colab": {
          "base_uri": "https://localhost:8080/"
        },
        "outputId": "e80648e0-8251-4892-ac70-54775576ae95"
      },
      "outputs": [
        {
          "output_type": "stream",
          "name": "stderr",
          "text": [
            "100%|██████████| 1000/1000 [00:06<00:00, 146.80it/s, Test Score=0.564, Train Score=0.859]\n"
          ]
        }
      ],
      "source": [
        "from tqdm import tqdm\n",
        "\n",
        "Rsqu_test = []\n",
        "Rsqu_train = []\n",
        "dummy1 = []\n",
        "Alpha = 10 * np.array(range(0,1000))\n",
        "pbar = tqdm(Alpha)\n",
        "\n",
        "for alpha in pbar:\n",
        "    RigeModel = Ridge(alpha=alpha) \n",
        "    RigeModel.fit(x_train_pr, y_train)\n",
        "    test_score, train_score = RigeModel.score(x_test_pr, y_test), RigeModel.score(x_train_pr, y_train)\n",
        "    \n",
        "    pbar.set_postfix({\"Test Score\": test_score, \"Train Score\": train_score})\n",
        "\n",
        "    Rsqu_test.append(test_score)\n",
        "    Rsqu_train.append(train_score)"
      ]
    },
    {
      "cell_type": "markdown",
      "metadata": {
        "id": "Kx0hyANpIKbo"
      },
      "source": [
        "We can plot out the value of R^2 for different alphas:\n"
      ]
    },
    {
      "cell_type": "code",
      "execution_count": 69,
      "metadata": {
        "id": "exrBlLLQIKbo",
        "colab": {
          "base_uri": "https://localhost:8080/",
          "height": 624
        },
        "outputId": "ee3f8ee9-3e21-462c-e097-8fe85e89b4df"
      },
      "outputs": [
        {
          "output_type": "execute_result",
          "data": {
            "text/plain": [
              "<matplotlib.legend.Legend at 0x7fc16c429f90>"
            ]
          },
          "metadata": {},
          "execution_count": 69
        },
        {
          "output_type": "display_data",
          "data": {
            "text/plain": [
              "<Figure size 864x720 with 1 Axes>"
            ],
            "image/png": "[encoded data removed]"
          },
          "metadata": {
            "needs_background": "light"
          }
        }
      ],
      "source": [
        "width = 12\n",
        "height = 10\n",
        "plt.figure(figsize=(width, height))\n",
        "\n",
        "plt.plot(Alpha,Rsqu_test, label='validation data  ')\n",
        "plt.plot(Alpha,Rsqu_train, 'r', label='training Data ')\n",
        "plt.xlabel('alpha')\n",
        "plt.ylabel('R^2')\n",
        "plt.legend()"
      ]
    },
    {
      "cell_type": "markdown",
      "metadata": {
        "id": "yJ1fN-2nIKbo"
      },
      "source": [
        "**Figure 4**: The blue line represents the R^2 of the validation data, and the red line represents the R^2 of the training data. The x-axis represents the different values of Alpha.\n"
      ]
    },
    {
      "cell_type": "markdown",
      "metadata": {
        "id": "jjm6UKKAIKbp"
      },
      "source": [
        "Here the model is built and tested on the same data, so the training and test data are the same.\n",
        "\n",
        "The red line in Figure 4 represents the R^2 of the training data. As alpha increases the R^2 decreases. Therefore, as alpha increases, the model performs worse on the training data\n",
        "\n",
        "The blue line represents the R^2 on the validation data. As the value for alpha increases, the R^2 increases and converges at a point.\n"
      ]
    },
    {
      "cell_type": "markdown",
      "metadata": {
        "id": "8S5lbmIGIKbp"
      },
      "source": [
        "<div class=\"alert alert-danger alertdanger\" style=\"margin-top: 20px\">\n",
        "<h1> Question  #5): </h1>\n",
        "\n",
        "Perform Ridge regression. Calculate the R^2 using the polynomial features, use the training data to train the model and use the test data to test the model. The parameter alpha should be set to 10.\n",
        "\n",
        "</div>\n"
      ]
    },
    {
      "cell_type": "code",
      "execution_count": 71,
      "metadata": {
        "id": "7wXTb7OIIKbp",
        "colab": {
          "base_uri": "https://localhost:8080/"
        },
        "outputId": "d0e26697-d68f-426c-94fc-71e1a177c02e"
      },
      "outputs": [
        {
          "output_type": "stream",
          "name": "stdout",
          "text": [
            "R2\n"
          ]
        },
        {
          "output_type": "execute_result",
          "data": {
            "text/plain": [
              "0.5418576440206702"
            ]
          },
          "metadata": {},
          "execution_count": 71
        }
      ],
      "source": [
        "# Write your code below and press Shift+Enter to execute \n",
        "RigeModel = Ridge(alpha=10) \n",
        "RigeModel.fit(x_train_pr, y_train)\n",
        "print(\"R2\")\n",
        "RigeModel.score(x_test_pr, y_test)"
      ]
    },
    {
      "cell_type": "markdown",
      "metadata": {
        "id": "o4PtNtg-IKbp"
      },
      "source": [
        "<details><summary>Click here for the solution</summary>\n",
        "\n",
        "```python\n",
        "RigeModel = Ridge(alpha=10) \n",
        "RigeModel.fit(x_train_pr, y_train)\n",
        "RigeModel.score(x_test_pr, y_test)\n",
        "\n",
        "```\n",
        "\n",
        "</details>\n"
      ]
    },
    {
      "cell_type": "markdown",
      "metadata": {
        "id": "voWuT7pzIKbp"
      },
      "source": [
        "<h2 id=\"ref4\">Part 4: Grid Search</h2>\n"
      ]
    },
    {
      "cell_type": "markdown",
      "metadata": {
        "id": "F1ixyOCvIKbp"
      },
      "source": [
        "The term alpha is a hyperparameter. Sklearn has the class <b>GridSearchCV</b> to make the process of finding the best hyperparameter simpler.\n"
      ]
    },
    {
      "cell_type": "markdown",
      "metadata": {
        "id": "MuVCG2kaIKbp"
      },
      "source": [
        "Let's import <b>GridSearchCV</b> from  the module <b>model_selection</b>.\n"
      ]
    },
    {
      "cell_type": "code",
      "execution_count": 72,
      "metadata": {
        "id": "Ipdpnl4kIKbp"
      },
      "outputs": [],
      "source": [
        "from sklearn.model_selection import GridSearchCV"
      ]
    },
    {
      "cell_type": "markdown",
      "metadata": {
        "id": "6743DZuOIKbp"
      },
      "source": [
        "We create a dictionary of parameter values:\n"
      ]
    },
    {
      "cell_type": "code",
      "execution_count": 73,
      "metadata": {
        "id": "Vk1227kyIKbq",
        "colab": {
          "base_uri": "https://localhost:8080/"
        },
        "outputId": "62e289cc-3911-4805-884e-9023549142f7"
      },
      "outputs": [
        {
          "output_type": "execute_result",
          "data": {
            "text/plain": [
              "[{'alpha': [0.001, 0.1, 1, 10, 100, 1000, 10000, 100000, 100000]}]"
            ]
          },
          "metadata": {},
          "execution_count": 73
        }
      ],
      "source": [
        "parameters1= [{'alpha': [0.001,0.1,1, 10, 100, 1000, 10000, 100000, 100000]}]\n",
        "parameters1"
      ]
    },
    {
      "cell_type": "markdown",
      "metadata": {
        "id": "_s5EMtZAIKbq"
      },
      "source": [
        "Create a Ridge regression object:\n"
      ]
    },
    {
      "cell_type": "code",
      "execution_count": 74,
      "metadata": {
        "id": "J6ft0KCEIKbq",
        "colab": {
          "base_uri": "https://localhost:8080/"
        },
        "outputId": "29add882-53ad-4a13-9470-1a6ce741354c"
      },
      "outputs": [
        {
          "output_type": "execute_result",
          "data": {
            "text/plain": [
              "Ridge()"
            ]
          },
          "metadata": {},
          "execution_count": 74
        }
      ],
      "source": [
        "RR=Ridge()\n",
        "RR"
      ]
    },
    {
      "cell_type": "markdown",
      "metadata": {
        "id": "2AVh947JIKbq"
      },
      "source": [
        "Create a ridge grid search object:\n"
      ]
    },
    {
      "cell_type": "code",
      "execution_count": 75,
      "metadata": {
        "id": "vKx9cQv0IKbq"
      },
      "outputs": [],
      "source": [
        "Grid1 = GridSearchCV(RR, parameters1,cv=4)"
      ]
    },
    {
      "cell_type": "markdown",
      "metadata": {
        "id": "qNAuRWEOIKbq"
      },
      "source": [
        "Fit the model:\n"
      ]
    },
    {
      "cell_type": "code",
      "execution_count": 76,
      "metadata": {
        "id": "3aYoA5v0IKbq",
        "colab": {
          "base_uri": "https://localhost:8080/"
        },
        "outputId": "80040f77-fc47-4f48-f3ba-db4fc9eaf9bc"
      },
      "outputs": [
        {
          "output_type": "execute_result",
          "data": {
            "text/plain": [
              "GridSearchCV(cv=4, estimator=Ridge(),\n",
              "             param_grid=[{'alpha': [0.001, 0.1, 1, 10, 100, 1000, 10000, 100000,\n",
              "                                    100000]}])"
            ]
          },
          "metadata": {},
          "execution_count": 76
        }
      ],
      "source": [
        "Grid1.fit(x_data[['horsepower', 'curb-weight', 'engine-size', 'highway-mpg']], y_data)"
      ]
    },
    {
      "cell_type": "markdown",
      "metadata": {
        "id": "aBPlsU_xIKbq"
      },
      "source": [
        "The object finds the best parameter values on the validation data. We can obtain the estimator with the best parameters and assign it to the variable BestRR as follows:\n"
      ]
    },
    {
      "cell_type": "code",
      "execution_count": 77,
      "metadata": {
        "id": "ocMHx74lIKbr",
        "colab": {
          "base_uri": "https://localhost:8080/"
        },
        "outputId": "7bdad671-d8da-48d0-b7d4-eb83f33aa42c"
      },
      "outputs": [
        {
          "output_type": "execute_result",
          "data": {
            "text/plain": [
              "Ridge(alpha=10000)"
            ]
          },
          "metadata": {},
          "execution_count": 77
        }
      ],
      "source": [
        "BestRR=Grid1.best_estimator_\n",
        "BestRR"
      ]
    },
    {
      "cell_type": "markdown",
      "metadata": {
        "id": "xJRO4SYJIKbr"
      },
      "source": [
        "We now test our model on the test data:\n"
      ]
    },
    {
      "cell_type": "code",
      "execution_count": 78,
      "metadata": {
        "id": "DT_eoBGoIKbr",
        "colab": {
          "base_uri": "https://localhost:8080/"
        },
        "outputId": "5c42a1ee-2dc6-49f6-d407-bea0d3c943cd"
      },
      "outputs": [
        {
          "output_type": "execute_result",
          "data": {
            "text/plain": [
              "0.8411649831036151"
            ]
          },
          "metadata": {},
          "execution_count": 78
        }
      ],
      "source": [
        "BestRR.score(x_test[['horsepower', 'curb-weight', 'engine-size', 'highway-mpg']], y_test)"
      ]
    },
    {
      "cell_type": "markdown",
      "metadata": {
        "id": "xsnq511VIKbr"
      },
      "source": [
        "### Thank you for completing this lab!\n",
        "\n",
        "## Author\n",
        "\n",
        "<a href=\"https://www.linkedin.com/in/joseph-s-50398b136/?utm_medium=Exinfluencer&utm_source=Exinfluencer&utm_content=000026UJ&utm_term=10006555&utm_id=NA-SkillsNetwork-Channel-SkillsNetworkCoursesIBMDeveloperSkillsNetworkDA0101ENSkillsNetwork20235326-2021-01-01\" target=\"_blank\">Joseph Santarcangelo</a>\n",
        "\n",
        "### Other Contributors\n",
        "\n",
        "<a href=\"https://www.linkedin.com/in/mahdi-noorian-58219234/?utm_medium=Exinfluencer&utm_source=Exinfluencer&utm_content=000026UJ&utm_term=10006555&utm_id=NA-SkillsNetwork-Channel-SkillsNetworkCoursesIBMDeveloperSkillsNetworkDA0101ENSkillsNetwork20235326-2021-01-01\" target=\"_blank\">Mahdi Noorian PhD</a>\n",
        "\n",
        "Bahare Talayian\n",
        "\n",
        "Eric Xiao\n",
        "\n",
        "Steven Dong\n",
        "\n",
        "Parizad\n",
        "\n",
        "Hima Vasudevan\n",
        "\n",
        "<a href=\"https://www.linkedin.com/in/fiorellawever/?utm_medium=Exinfluencer&utm_source=Exinfluencer&utm_content=000026UJ&utm_term=10006555&utm_id=NA-SkillsNetwork-Channel-SkillsNetworkCoursesIBMDeveloperSkillsNetworkDA0101ENSkillsNetwork20235326-2021-01-01\" target=\"_blank\">Fiorella Wenver</a>\n",
        "\n",
        "<a href=\"https:// https://www.linkedin.com/in/yi-leng-yao-84451275/ \" target=\"_blank\" >Yi Yao</a>.\n",
        "\n",
        "## Change Log\n",
        "\n",
        "| Date (YYYY-MM-DD) | Version | Changed By | Change Description                         |\n",
        "| ----------------- | ------- | ---------- | ------------------------------------------ |\n",
        "| 2022-08-23        | 2.4     | Malika     | Updated packages by adding keep_going=True |\n",
        "| 2020-10-30        | 2.3     | Lakshmi    | Changed URL of csv                         |\n",
        "| 2020-10-05        | 2.2     | Lakshmi    | Removed unused library imports             |\n",
        "| 2020-09-14        | 2.1     | Lakshmi    | Made changes in OverFitting section        |\n",
        "| 2020-08-27        | 2.0     | Lavanya    | Moved lab to course repo in GitLab         |\n",
        "\n",
        "<hr>\n",
        "\n",
        "## <h3 align=\"center\"> © IBM Corporation 2020. All rights reserved. <h3/>\n"
      ]
    },
    {
      "cell_type": "markdown",
      "source": [
        "#Question review"
      ],
      "metadata": {
        "id": "BpgMNlj3fcxT"
      }
    },
    {
      "cell_type": "markdown",
      "source": [
        "Q2 What is the correct use of the \"train_test_split\" function such that 40% of the data samples will be utilized for testing; the parameter \"random_state\" is set to zero; and the input variables for the features and targets are_data, y_data respectively?\n",
        "\n",
        "train_test_split(x_data, y_data, test_size=0.4, random_state=0)"
      ],
      "metadata": {
        "id": "qSO2WFvfgJIA"
      }
    },
    {
      "cell_type": "markdown",
      "source": [
        "Q3 What is the output of cross_val_score(lre, x_data, y_data, cv=2)?\n",
        "\n",
        "The average R^2 on the test data for each of the two folds."
      ],
      "metadata": {
        "id": "YKNqzpwOgRTU"
      }
    },
    {
      "cell_type": "markdown",
      "source": [
        "Q4 What is the code to create a ridge regression object \"RR\" with an alpha term equal 10?\n",
        "\n",
        "RR=Ridge(alpha=10)\n"
      ],
      "metadata": {
        "id": "oOg3H7wegbGA"
      }
    },
    {
      "cell_type": "markdown",
      "source": [
        "Q5 What dictionary value would we use to perform a grid search for the following values of alpha: 1,10, 100? No other parameter values should be tested.\n",
        "\n",
        "[{'alpha': [1,10,100]}]"
      ],
      "metadata": {
        "id": "tfiATu21gh5B"
      }
    },
    {
      "cell_type": "markdown",
      "source": [
        "#Progress\n",
        "![image.png](data:image/png;base64,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)"
      ],
      "metadata": {
        "id": "VDBRaZvcjn-d"
      }
    },
    {
      "cell_type": "markdown",
      "source": [
        "![image.png](data:image/png;base64,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)"
      ],
      "metadata": {
        "id": "THzP5qkojx6J"
      }
    },
    {
      "cell_type": "markdown",
      "source": [
        "![image.png](data:image/png;base64,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)"
      ],
      "metadata": {
        "id": "7DygmNbSjzlN"
      }
    }
  ],
  "metadata": {
    "anaconda-cloud": {},
    "kernelspec": {
      "display_name": "Python 3",
      "language": "python",
      "name": "python3"
    },
    "language_info": {
      "codemirror_mode": {
        "name": "ipython",
        "version": 3
      },
      "file_extension": ".py",
      "mimetype": "text/x-python",
      "name": "python",
      "nbconvert_exporter": "python",
      "pygments_lexer": "ipython3",
      "version": "3.7.6"
    },
    "metadata": {
      "interpreter": {
        "hash": "ac2eaa0ea0ebeafcc7822e65e46aa9d4f966f30b695406963e145ea4a91cd4fc"
      }
    },
    "colab": {
      "provenance": [],
      "toc_visible": true,
      "include_colab_link": true
    },
    "widgets": {
      "application/vnd.jupyter.widget-state+json": {
        "afcb104cd9ad41f9b291109b9b8311b5": {
          "model_module": "@jupyter-widgets/controls",
          "model_name": "VBoxModel",
          "model_module_version": "1.5.0",
          "state": {
            "_dom_classes": [
              "widget-interact"
            ],
            "_model_module": "@jupyter-widgets/controls",
            "_model_module_version": "1.5.0",
            "_model_name": "VBoxModel",
            "_view_count": null,
            "_view_module": "@jupyter-widgets/controls",
            "_view_module_version": "1.5.0",
            "_view_name": "VBoxView",
            "box_style": "",
            "children": [
              "IPY_MODEL_b2bfeb6c5bc741f9b9dfc009e382524e",
              "IPY_MODEL_231b77cf701f42c1a4326e569df0ad4d",
              "IPY_MODEL_3d5ea58659d545a5b95dec99630ae4d0"
            ],
            "layout": "IPY_MODEL_3f88c0a8fb2f4f8f935ea400a3f34859"
          }
        },
        "b2bfeb6c5bc741f9b9dfc009e382524e": {
          "model_module": "@jupyter-widgets/controls",
          "model_name": "IntSliderModel",
          "model_module_version": "1.5.0",
          "state": {
            "_dom_classes": [],
            "_model_module": "@jupyter-widgets/controls",
            "_model_module_version": "1.5.0",
            "_model_name": "IntSliderModel",
            "_view_count": null,
            "_view_module": "@jupyter-widgets/controls",
            "_view_module_version": "1.5.0",
            "_view_name": "IntSliderView",
            "continuous_update": true,
            "description": "order",
            "description_tooltip": null,
            "disabled": false,
            "layout": "IPY_MODEL_ac4f6cd0efcb41d68bf9a9a8b4c8499a",
            "max": 6,
            "min": 0,
            "orientation": "horizontal",
            "readout": true,
            "readout_format": "d",
            "step": 1,
            "style": "IPY_MODEL_3e593714b6ce4165a81fbcf900a100eb",
            "value": 3
          }
        },
        "231b77cf701f42c1a4326e569df0ad4d": {
          "model_module": "@jupyter-widgets/controls",
          "model_name": "FloatSliderModel",
          "model_module_version": "1.5.0",
          "state": {
            "_dom_classes": [],
            "_model_module": "@jupyter-widgets/controls",
            "_model_module_version": "1.5.0",
            "_model_name": "FloatSliderModel",
            "_view_count": null,
            "_view_module": "@jupyter-widgets/controls",
            "_view_module_version": "1.5.0",
            "_view_name": "FloatSliderView",
            "continuous_update": true,
            "description": "test_data",
            "description_tooltip": null,
            "disabled": false,
            "layout": "IPY_MODEL_d4a4e7cf0ef04844bcf7a7b9a1f35676",
            "max": 0.95,
            "min": 0.05,
            "orientation": "horizontal",
            "readout": true,
            "readout_format": ".2f",
            "step": 0.05,
            "style": "IPY_MODEL_5dafef6e58434cd197ecd09566bacc55",
            "value": 0.45
          }
        },
        "3d5ea58659d545a5b95dec99630ae4d0": {
          "model_module": "@jupyter-widgets/output",
          "model_name": "OutputModel",
          "model_module_version": "1.0.0",
          "state": {
            "_dom_classes": [],
            "_model_module": "@jupyter-widgets/output",
            "_model_module_version": "1.0.0",
            "_model_name": "OutputModel",
            "_view_count": null,
            "_view_module": "@jupyter-widgets/output",
            "_view_module_version": "1.0.0",
            "_view_name": "OutputView",
            "layout": "IPY_MODEL_73e5cbdfb7cc4a9d9998d71c197f0fa3",
            "msg_id": "",
            "outputs": [
              {
                "output_type": "display_data",
                "data": {
                  "text/plain": "<Figure size 864x720 with 1 Axes>",
                  "image/png": "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\n"
                },
                "metadata": {
                  "needs_background": "light"
                }
              }
            ]
          }
        },
        "3f88c0a8fb2f4f8f935ea400a3f34859": {
          "model_module": "@jupyter-widgets/base",
          "model_name": "LayoutModel",
          "model_module_version": "1.2.0",
          "state": {
            "_model_module": "@jupyter-widgets/base",
            "_model_module_version": "1.2.0",
            "_model_name": "LayoutModel",
            "_view_count": null,
            "_view_module": "@jupyter-widgets/base",
            "_view_module_version": "1.2.0",
            "_view_name": "LayoutView",
            "align_content": null,
            "align_items": null,
            "align_self": null,
            "border": null,
            "bottom": null,
            "display": null,
            "flex": null,
            "flex_flow": null,
            "grid_area": null,
            "grid_auto_columns": null,
            "grid_auto_flow": null,
            "grid_auto_rows": null,
            "grid_column": null,
            "grid_gap": null,
            "grid_row": null,
            "grid_template_areas": null,
            "grid_template_columns": null,
            "grid_template_rows": null,
            "height": null,
            "justify_content": null,
            "justify_items": null,
            "left": null,
            "margin": null,
            "max_height": null,
            "max_width": null,
            "min_height": null,
            "min_width": null,
            "object_fit": null,
            "object_position": null,
            "order": null,
            "overflow": null,
            "overflow_x": null,
            "overflow_y": null,
            "padding": null,
            "right": null,
            "top": null,
            "visibility": null,
            "width": null
          }
        },
        "ac4f6cd0efcb41d68bf9a9a8b4c8499a": {
          "model_module": "@jupyter-widgets/base",
          "model_name": "LayoutModel",
          "model_module_version": "1.2.0",
          "state": {
            "_model_module": "@jupyter-widgets/base",
            "_model_module_version": "1.2.0",
            "_model_name": "LayoutModel",
            "_view_count": null,
            "_view_module": "@jupyter-widgets/base",
            "_view_module_version": "1.2.0",
            "_view_name": "LayoutView",
            "align_content": null,
            "align_items": null,
            "align_self": null,
            "border": null,
            "bottom": null,
            "display": null,
            "flex": null,
            "flex_flow": null,
            "grid_area": null,
            "grid_auto_columns": null,
            "grid_auto_flow": null,
            "grid_auto_rows": null,
            "grid_column": null,
            "grid_gap": null,
            "grid_row": null,
            "grid_template_areas": null,
            "grid_template_columns": null,
            "grid_template_rows": null,
            "height": null,
            "justify_content": null,
            "justify_items": null,
            "left": null,
            "margin": null,
            "max_height": null,
            "max_width": null,
            "min_height": null,
            "min_width": null,
            "object_fit": null,
            "object_position": null,
            "order": null,
            "overflow": null,
            "overflow_x": null,
            "overflow_y": null,
            "padding": null,
            "right": null,
            "top": null,
            "visibility": null,
            "width": null
          }
        },
        "3e593714b6ce4165a81fbcf900a100eb": {
          "model_module": "@jupyter-widgets/controls",
          "model_name": "SliderStyleModel",
          "model_module_version": "1.5.0",
          "state": {
            "_model_module": "@jupyter-widgets/controls",
            "_model_module_version": "1.5.0",
            "_model_name": "SliderStyleModel",
            "_view_count": null,
            "_view_module": "@jupyter-widgets/base",
            "_view_module_version": "1.2.0",
            "_view_name": "StyleView",
            "description_width": "",
            "handle_color": null
          }
        },
        "d4a4e7cf0ef04844bcf7a7b9a1f35676": {
          "model_module": "@jupyter-widgets/base",
          "model_name": "LayoutModel",
          "model_module_version": "1.2.0",
          "state": {
            "_model_module": "@jupyter-widgets/base",
            "_model_module_version": "1.2.0",
            "_model_name": "LayoutModel",
            "_view_count": null,
            "_view_module": "@jupyter-widgets/base",
            "_view_module_version": "1.2.0",
            "_view_name": "LayoutView",
            "align_content": null,
            "align_items": null,
            "align_self": null,
            "border": null,
            "bottom": null,
            "display": null,
            "flex": null,
            "flex_flow": null,
            "grid_area": null,
            "grid_auto_columns": null,
            "grid_auto_flow": null,
            "grid_auto_rows": null,
            "grid_column": null,
            "grid_gap": null,
            "grid_row": null,
            "grid_template_areas": null,
            "grid_template_columns": null,
            "grid_template_rows": null,
            "height": null,
            "justify_content": null,
            "justify_items": null,
            "left": null,
            "margin": null,
            "max_height": null,
            "max_width": null,
            "min_height": null,
            "min_width": null,
            "object_fit": null,
            "object_position": null,
            "order": null,
            "overflow": null,
            "overflow_x": null,
            "overflow_y": null,
            "padding": null,
            "right": null,
            "top": null,
            "visibility": null,
            "width": null
          }
        },
        "5dafef6e58434cd197ecd09566bacc55": {
          "model_module": "@jupyter-widgets/controls",
          "model_name": "SliderStyleModel",
          "model_module_version": "1.5.0",
          "state": {
            "_model_module": "@jupyter-widgets/controls",
            "_model_module_version": "1.5.0",
            "_model_name": "SliderStyleModel",
            "_view_count": null,
            "_view_module": "@jupyter-widgets/base",
            "_view_module_version": "1.2.0",
            "_view_name": "StyleView",
            "description_width": "",
            "handle_color": null
          }
        },
        "73e5cbdfb7cc4a9d9998d71c197f0fa3": {
          "model_module": "@jupyter-widgets/base",
          "model_name": "LayoutModel",
          "model_module_version": "1.2.0",
          "state": {
            "_model_module": "@jupyter-widgets/base",
            "_model_module_version": "1.2.0",
            "_model_name": "LayoutModel",
            "_view_count": null,
            "_view_module": "@jupyter-widgets/base",
            "_view_module_version": "1.2.0",
            "_view_name": "LayoutView",
            "align_content": null,
            "align_items": null,
            "align_self": null,
            "border": null,
            "bottom": null,
            "display": null,
            "flex": null,
            "flex_flow": null,
            "grid_area": null,
            "grid_auto_columns": null,
            "grid_auto_flow": null,
            "grid_auto_rows": null,
            "grid_column": null,
            "grid_gap": null,
            "grid_row": null,
            "grid_template_areas": null,
            "grid_template_columns": null,
            "grid_template_rows": null,
            "height": null,
            "justify_content": null,
            "justify_items": null,
            "left": null,
            "margin": null,
            "max_height": null,
            "max_width": null,
            "min_height": null,
            "min_width": null,
            "object_fit": null,
            "object_position": null,
            "order": null,
            "overflow": null,
            "overflow_x": null,
            "overflow_y": null,
            "padding": null,
            "right": null,
            "top": null,
            "visibility": null,
            "width": null
          }
        }
      }
    }
  },
  "nbformat": 4,
  "nbformat_minor": 0
}