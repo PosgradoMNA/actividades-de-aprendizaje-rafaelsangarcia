{
  "cells": [
    {
      "cell_type": "markdown",
      "metadata": {
        "id": "view-in-github",
        "colab_type": "text"
      },
      "source": [
        "<a href=\"https://colab.research.google.com/github/PosgradoMNA/actividades-de-aprendizaje-rafaelsangarcia/blob/main/Semana4/clase/Normalization.ipynb\" target=\"_parent\"><img src=\"https://colab.research.google.com/assets/colab-badge.svg\" alt=\"Open In Colab\"/></a>"
      ]
    },
    {
      "cell_type": "markdown",
      "id": "e1eb7ff0",
      "metadata": {
        "id": "e1eb7ff0"
      },
      "source": [
        "## Normalization"
      ]
    },
    {
      "cell_type": "code",
      "execution_count": null,
      "id": "f49bf069",
      "metadata": {
        "id": "f49bf069"
      },
      "outputs": [],
      "source": [
        "import pandas as pd\n",
        "import numpy as np"
      ]
    },
    {
      "cell_type": "code",
      "execution_count": null,
      "id": "91c5e7e8",
      "metadata": {
        "id": "91c5e7e8"
      },
      "outputs": [],
      "source": [
        "inPath = 'https://raw.githubusercontent.com/tec03/Datasets/main/datasets/Cartwheeldata.csv'"
      ]
    },
    {
      "cell_type": "code",
      "execution_count": null,
      "id": "5c6e1bc2",
      "metadata": {
        "id": "5c6e1bc2",
        "outputId": "e5e77d58-8d29-426b-d5c2-95df1e9dc72e"
      },
      "outputs": [
        {
          "data": {
            "text/html": [
              "<div>\n",
              "<style scoped>\n",
              "    .dataframe tbody tr th:only-of-type {\n",
              "        vertical-align: middle;\n",
              "    }\n",
              "\n",
              "    .dataframe tbody tr th {\n",
              "        vertical-align: top;\n",
              "    }\n",
              "\n",
              "    .dataframe thead th {\n",
              "        text-align: right;\n",
              "    }\n",
              "</style>\n",
              "<table border=\"1\" class=\"dataframe\">\n",
              "  <thead>\n",
              "    <tr style=\"text-align: right;\">\n",
              "      <th></th>\n",
              "      <th>Age</th>\n",
              "      <th>Gender</th>\n",
              "      <th>GenderGroup</th>\n",
              "      <th>Glasses</th>\n",
              "      <th>GlassesGroup</th>\n",
              "      <th>Height</th>\n",
              "      <th>Wingspan</th>\n",
              "      <th>CWDistance</th>\n",
              "      <th>Complete</th>\n",
              "      <th>CompleteGroup</th>\n",
              "      <th>Score</th>\n",
              "    </tr>\n",
              "  </thead>\n",
              "  <tbody>\n",
              "    <tr>\n",
              "      <th>1</th>\n",
              "      <td>56</td>\n",
              "      <td>F</td>\n",
              "      <td>1</td>\n",
              "      <td>Y</td>\n",
              "      <td>1</td>\n",
              "      <td>62.00</td>\n",
              "      <td>61.0</td>\n",
              "      <td>79</td>\n",
              "      <td>Y</td>\n",
              "      <td>1</td>\n",
              "      <td>7</td>\n",
              "    </tr>\n",
              "    <tr>\n",
              "      <th>2</th>\n",
              "      <td>26</td>\n",
              "      <td>F</td>\n",
              "      <td>1</td>\n",
              "      <td>Y</td>\n",
              "      <td>1</td>\n",
              "      <td>62.00</td>\n",
              "      <td>60.0</td>\n",
              "      <td>70</td>\n",
              "      <td>Y</td>\n",
              "      <td>1</td>\n",
              "      <td>8</td>\n",
              "    </tr>\n",
              "    <tr>\n",
              "      <th>3</th>\n",
              "      <td>33</td>\n",
              "      <td>F</td>\n",
              "      <td>1</td>\n",
              "      <td>Y</td>\n",
              "      <td>1</td>\n",
              "      <td>66.00</td>\n",
              "      <td>64.0</td>\n",
              "      <td>85</td>\n",
              "      <td>Y</td>\n",
              "      <td>1</td>\n",
              "      <td>0</td>\n",
              "    </tr>\n",
              "    <tr>\n",
              "      <th>4</th>\n",
              "      <td>39</td>\n",
              "      <td>F</td>\n",
              "      <td>1</td>\n",
              "      <td>N</td>\n",
              "      <td>0</td>\n",
              "      <td>64.00</td>\n",
              "      <td>63.0</td>\n",
              "      <td>87</td>\n",
              "      <td>Y</td>\n",
              "      <td>1</td>\n",
              "      <td>10</td>\n",
              "    </tr>\n",
              "    <tr>\n",
              "      <th>5</th>\n",
              "      <td>27</td>\n",
              "      <td>M</td>\n",
              "      <td>2</td>\n",
              "      <td>N</td>\n",
              "      <td>0</td>\n",
              "      <td>73.00</td>\n",
              "      <td>75.0</td>\n",
              "      <td>72</td>\n",
              "      <td>N</td>\n",
              "      <td>0</td>\n",
              "      <td>4</td>\n",
              "    </tr>\n",
              "    <tr>\n",
              "      <th>6</th>\n",
              "      <td>24</td>\n",
              "      <td>M</td>\n",
              "      <td>2</td>\n",
              "      <td>N</td>\n",
              "      <td>0</td>\n",
              "      <td>75.00</td>\n",
              "      <td>71.0</td>\n",
              "      <td>81</td>\n",
              "      <td>N</td>\n",
              "      <td>0</td>\n",
              "      <td>3</td>\n",
              "    </tr>\n",
              "    <tr>\n",
              "      <th>7</th>\n",
              "      <td>28</td>\n",
              "      <td>M</td>\n",
              "      <td>2</td>\n",
              "      <td>N</td>\n",
              "      <td>0</td>\n",
              "      <td>75.00</td>\n",
              "      <td>76.0</td>\n",
              "      <td>107</td>\n",
              "      <td>Y</td>\n",
              "      <td>1</td>\n",
              "      <td>10</td>\n",
              "    </tr>\n",
              "    <tr>\n",
              "      <th>8</th>\n",
              "      <td>22</td>\n",
              "      <td>F</td>\n",
              "      <td>1</td>\n",
              "      <td>N</td>\n",
              "      <td>0</td>\n",
              "      <td>65.00</td>\n",
              "      <td>62.0</td>\n",
              "      <td>98</td>\n",
              "      <td>Y</td>\n",
              "      <td>1</td>\n",
              "      <td>9</td>\n",
              "    </tr>\n",
              "    <tr>\n",
              "      <th>9</th>\n",
              "      <td>29</td>\n",
              "      <td>M</td>\n",
              "      <td>2</td>\n",
              "      <td>Y</td>\n",
              "      <td>1</td>\n",
              "      <td>74.00</td>\n",
              "      <td>73.0</td>\n",
              "      <td>106</td>\n",
              "      <td>N</td>\n",
              "      <td>0</td>\n",
              "      <td>5</td>\n",
              "    </tr>\n",
              "    <tr>\n",
              "      <th>10</th>\n",
              "      <td>33</td>\n",
              "      <td>F</td>\n",
              "      <td>1</td>\n",
              "      <td>Y</td>\n",
              "      <td>1</td>\n",
              "      <td>63.00</td>\n",
              "      <td>60.0</td>\n",
              "      <td>65</td>\n",
              "      <td>Y</td>\n",
              "      <td>1</td>\n",
              "      <td>8</td>\n",
              "    </tr>\n",
              "    <tr>\n",
              "      <th>11</th>\n",
              "      <td>30</td>\n",
              "      <td>M</td>\n",
              "      <td>2</td>\n",
              "      <td>Y</td>\n",
              "      <td>1</td>\n",
              "      <td>69.50</td>\n",
              "      <td>66.0</td>\n",
              "      <td>96</td>\n",
              "      <td>Y</td>\n",
              "      <td>1</td>\n",
              "      <td>6</td>\n",
              "    </tr>\n",
              "    <tr>\n",
              "      <th>12</th>\n",
              "      <td>28</td>\n",
              "      <td>F</td>\n",
              "      <td>1</td>\n",
              "      <td>Y</td>\n",
              "      <td>1</td>\n",
              "      <td>62.75</td>\n",
              "      <td>58.0</td>\n",
              "      <td>79</td>\n",
              "      <td>Y</td>\n",
              "      <td>1</td>\n",
              "      <td>10</td>\n",
              "    </tr>\n",
              "    <tr>\n",
              "      <th>13</th>\n",
              "      <td>25</td>\n",
              "      <td>F</td>\n",
              "      <td>1</td>\n",
              "      <td>Y</td>\n",
              "      <td>1</td>\n",
              "      <td>65.00</td>\n",
              "      <td>64.5</td>\n",
              "      <td>92</td>\n",
              "      <td>Y</td>\n",
              "      <td>1</td>\n",
              "      <td>6</td>\n",
              "    </tr>\n",
              "    <tr>\n",
              "      <th>14</th>\n",
              "      <td>23</td>\n",
              "      <td>F</td>\n",
              "      <td>1</td>\n",
              "      <td>N</td>\n",
              "      <td>0</td>\n",
              "      <td>61.50</td>\n",
              "      <td>57.5</td>\n",
              "      <td>66</td>\n",
              "      <td>Y</td>\n",
              "      <td>1</td>\n",
              "      <td>4</td>\n",
              "    </tr>\n",
              "    <tr>\n",
              "      <th>15</th>\n",
              "      <td>31</td>\n",
              "      <td>M</td>\n",
              "      <td>2</td>\n",
              "      <td>Y</td>\n",
              "      <td>1</td>\n",
              "      <td>73.00</td>\n",
              "      <td>74.0</td>\n",
              "      <td>72</td>\n",
              "      <td>Y</td>\n",
              "      <td>1</td>\n",
              "      <td>9</td>\n",
              "    </tr>\n",
              "    <tr>\n",
              "      <th>16</th>\n",
              "      <td>26</td>\n",
              "      <td>M</td>\n",
              "      <td>2</td>\n",
              "      <td>Y</td>\n",
              "      <td>1</td>\n",
              "      <td>71.00</td>\n",
              "      <td>72.0</td>\n",
              "      <td>115</td>\n",
              "      <td>Y</td>\n",
              "      <td>1</td>\n",
              "      <td>6</td>\n",
              "    </tr>\n",
              "    <tr>\n",
              "      <th>17</th>\n",
              "      <td>26</td>\n",
              "      <td>F</td>\n",
              "      <td>1</td>\n",
              "      <td>N</td>\n",
              "      <td>0</td>\n",
              "      <td>61.50</td>\n",
              "      <td>59.5</td>\n",
              "      <td>90</td>\n",
              "      <td>N</td>\n",
              "      <td>0</td>\n",
              "      <td>10</td>\n",
              "    </tr>\n",
              "    <tr>\n",
              "      <th>18</th>\n",
              "      <td>27</td>\n",
              "      <td>M</td>\n",
              "      <td>2</td>\n",
              "      <td>N</td>\n",
              "      <td>0</td>\n",
              "      <td>66.00</td>\n",
              "      <td>66.0</td>\n",
              "      <td>74</td>\n",
              "      <td>Y</td>\n",
              "      <td>1</td>\n",
              "      <td>5</td>\n",
              "    </tr>\n",
              "    <tr>\n",
              "      <th>19</th>\n",
              "      <td>23</td>\n",
              "      <td>M</td>\n",
              "      <td>2</td>\n",
              "      <td>Y</td>\n",
              "      <td>1</td>\n",
              "      <td>70.00</td>\n",
              "      <td>69.0</td>\n",
              "      <td>64</td>\n",
              "      <td>Y</td>\n",
              "      <td>1</td>\n",
              "      <td>3</td>\n",
              "    </tr>\n",
              "    <tr>\n",
              "      <th>20</th>\n",
              "      <td>24</td>\n",
              "      <td>F</td>\n",
              "      <td>1</td>\n",
              "      <td>Y</td>\n",
              "      <td>1</td>\n",
              "      <td>68.00</td>\n",
              "      <td>66.0</td>\n",
              "      <td>85</td>\n",
              "      <td>Y</td>\n",
              "      <td>1</td>\n",
              "      <td>8</td>\n",
              "    </tr>\n",
              "    <tr>\n",
              "      <th>21</th>\n",
              "      <td>23</td>\n",
              "      <td>M</td>\n",
              "      <td>2</td>\n",
              "      <td>Y</td>\n",
              "      <td>1</td>\n",
              "      <td>69.00</td>\n",
              "      <td>67.0</td>\n",
              "      <td>66</td>\n",
              "      <td>N</td>\n",
              "      <td>0</td>\n",
              "      <td>2</td>\n",
              "    </tr>\n",
              "    <tr>\n",
              "      <th>22</th>\n",
              "      <td>29</td>\n",
              "      <td>M</td>\n",
              "      <td>2</td>\n",
              "      <td>N</td>\n",
              "      <td>0</td>\n",
              "      <td>71.00</td>\n",
              "      <td>70.0</td>\n",
              "      <td>101</td>\n",
              "      <td>Y</td>\n",
              "      <td>1</td>\n",
              "      <td>8</td>\n",
              "    </tr>\n",
              "    <tr>\n",
              "      <th>23</th>\n",
              "      <td>25</td>\n",
              "      <td>M</td>\n",
              "      <td>2</td>\n",
              "      <td>N</td>\n",
              "      <td>0</td>\n",
              "      <td>70.00</td>\n",
              "      <td>68.0</td>\n",
              "      <td>82</td>\n",
              "      <td>Y</td>\n",
              "      <td>1</td>\n",
              "      <td>4</td>\n",
              "    </tr>\n",
              "    <tr>\n",
              "      <th>24</th>\n",
              "      <td>26</td>\n",
              "      <td>M</td>\n",
              "      <td>2</td>\n",
              "      <td>N</td>\n",
              "      <td>0</td>\n",
              "      <td>69.00</td>\n",
              "      <td>71.0</td>\n",
              "      <td>63</td>\n",
              "      <td>Y</td>\n",
              "      <td>1</td>\n",
              "      <td>5</td>\n",
              "    </tr>\n",
              "    <tr>\n",
              "      <th>25</th>\n",
              "      <td>23</td>\n",
              "      <td>F</td>\n",
              "      <td>1</td>\n",
              "      <td>Y</td>\n",
              "      <td>1</td>\n",
              "      <td>65.00</td>\n",
              "      <td>63.0</td>\n",
              "      <td>67</td>\n",
              "      <td>N</td>\n",
              "      <td>0</td>\n",
              "      <td>3</td>\n",
              "    </tr>\n",
              "  </tbody>\n",
              "</table>\n",
              "</div>"
            ],
            "text/plain": [
              "    Age Gender  GenderGroup Glasses  GlassesGroup  Height  Wingspan  \\\n",
              "1    56      F            1       Y             1   62.00      61.0   \n",
              "2    26      F            1       Y             1   62.00      60.0   \n",
              "3    33      F            1       Y             1   66.00      64.0   \n",
              "4    39      F            1       N             0   64.00      63.0   \n",
              "5    27      M            2       N             0   73.00      75.0   \n",
              "6    24      M            2       N             0   75.00      71.0   \n",
              "7    28      M            2       N             0   75.00      76.0   \n",
              "8    22      F            1       N             0   65.00      62.0   \n",
              "9    29      M            2       Y             1   74.00      73.0   \n",
              "10   33      F            1       Y             1   63.00      60.0   \n",
              "11   30      M            2       Y             1   69.50      66.0   \n",
              "12   28      F            1       Y             1   62.75      58.0   \n",
              "13   25      F            1       Y             1   65.00      64.5   \n",
              "14   23      F            1       N             0   61.50      57.5   \n",
              "15   31      M            2       Y             1   73.00      74.0   \n",
              "16   26      M            2       Y             1   71.00      72.0   \n",
              "17   26      F            1       N             0   61.50      59.5   \n",
              "18   27      M            2       N             0   66.00      66.0   \n",
              "19   23      M            2       Y             1   70.00      69.0   \n",
              "20   24      F            1       Y             1   68.00      66.0   \n",
              "21   23      M            2       Y             1   69.00      67.0   \n",
              "22   29      M            2       N             0   71.00      70.0   \n",
              "23   25      M            2       N             0   70.00      68.0   \n",
              "24   26      M            2       N             0   69.00      71.0   \n",
              "25   23      F            1       Y             1   65.00      63.0   \n",
              "\n",
              "    CWDistance Complete  CompleteGroup  Score  \n",
              "1           79        Y              1      7  \n",
              "2           70        Y              1      8  \n",
              "3           85        Y              1      0  \n",
              "4           87        Y              1     10  \n",
              "5           72        N              0      4  \n",
              "6           81        N              0      3  \n",
              "7          107        Y              1     10  \n",
              "8           98        Y              1      9  \n",
              "9          106        N              0      5  \n",
              "10          65        Y              1      8  \n",
              "11          96        Y              1      6  \n",
              "12          79        Y              1     10  \n",
              "13          92        Y              1      6  \n",
              "14          66        Y              1      4  \n",
              "15          72        Y              1      9  \n",
              "16         115        Y              1      6  \n",
              "17          90        N              0     10  \n",
              "18          74        Y              1      5  \n",
              "19          64        Y              1      3  \n",
              "20          85        Y              1      8  \n",
              "21          66        N              0      2  \n",
              "22         101        Y              1      8  \n",
              "23          82        Y              1      4  \n",
              "24          63        Y              1      5  \n",
              "25          67        N              0      3  "
            ]
          },
          "execution_count": 3,
          "metadata": {},
          "output_type": "execute_result"
        }
      ],
      "source": [
        "df = pd.read_csv(inPath, index_col = 0)\n",
        "df.index.name = None\n",
        "df"
      ]
    },
    {
      "cell_type": "code",
      "execution_count": null,
      "id": "0e8840ff",
      "metadata": {
        "id": "0e8840ff",
        "outputId": "e894b7fa-9d96-4104-abc0-6107c0732cd9"
      },
      "outputs": [
        {
          "data": {
            "text/plain": [
              "0"
            ]
          },
          "execution_count": 4,
          "metadata": {},
          "output_type": "execute_result"
        }
      ],
      "source": [
        "min(df.Score.to_list())"
      ]
    },
    {
      "cell_type": "code",
      "execution_count": null,
      "id": "d662c02b",
      "metadata": {
        "id": "d662c02b",
        "outputId": "bf9d9b28-c6b2-4ef4-d266-36a660c617c2"
      },
      "outputs": [
        {
          "data": {
            "text/plain": [
              "1      7\n",
              "2      8\n",
              "3      0\n",
              "4     10\n",
              "5      4\n",
              "6      3\n",
              "7     10\n",
              "8      9\n",
              "9      5\n",
              "10     8\n",
              "Name: Score, dtype: int64"
            ]
          },
          "execution_count": 5,
          "metadata": {},
          "output_type": "execute_result"
        }
      ],
      "source": [
        "varX = df.Score.head(10)\n",
        "varX"
      ]
    },
    {
      "cell_type": "markdown",
      "id": "7ebe05da",
      "metadata": {
        "id": "7ebe05da"
      },
      "source": [
        "### 1. Normalization - rescales a dataset so that each value falls between 0 and 1."
      ]
    },
    {
      "cell_type": "markdown",
      "id": "687e099d",
      "metadata": {
        "id": "687e099d"
      },
      "source": [
        "Forumula: \n",
        "\n",
        "$$ x_i^{new} = \\cfrac{x_i^{old} - x_{min}}{x_{max} - x_{min}}$$ "
      ]
    },
    {
      "cell_type": "code",
      "execution_count": null,
      "id": "b31cdd78",
      "metadata": {
        "id": "b31cdd78"
      },
      "outputs": [],
      "source": [
        "def normalize(x):\n",
        "    min = np.min(x)\n",
        "    max = np.max(x)\n",
        "    range = max - min\n",
        "    return [(a - min) / range for a in x]"
      ]
    },
    {
      "cell_type": "code",
      "execution_count": null,
      "id": "bc6feae4",
      "metadata": {
        "id": "bc6feae4",
        "outputId": "e163bae9-4a3c-47e4-eba2-ecda9aa64a53"
      },
      "outputs": [
        {
          "name": "stdout",
          "output_type": "stream",
          "text": [
            "[0.7, 0.8, 0.0, 1.0, 0.4, 0.3, 1.0, 0.9, 0.5, 0.8]\n"
          ]
        }
      ],
      "source": [
        "X = varX.copy()\n",
        "normalizedValues = normalize(X)\n",
        "\n",
        "print(normalizedValues)"
      ]
    },
    {
      "cell_type": "code",
      "execution_count": null,
      "id": "5c88449a",
      "metadata": {
        "id": "5c88449a",
        "outputId": "5d44ec6a-64aa-4e87-82bd-32ef62ef58b5"
      },
      "outputs": [
        {
          "name": "stdout",
          "output_type": "stream",
          "text": [
            "0.0\n",
            "1.0\n"
          ]
        }
      ],
      "source": [
        "print(min(normalizedValues))\n",
        "print(max(normalizedValues))"
      ]
    },
    {
      "cell_type": "markdown",
      "id": "f5955623",
      "metadata": {
        "id": "f5955623"
      },
      "source": [
        "### 1.1 Normalizing from [0, 1] to any other range\n",
        "\n",
        "$$x_i^{new}=x_i^{old}\\cdot\\left(rango_{nuevo}\\right)+ LimiteInferior_{nueva} $$"
      ]
    },
    {
      "cell_type": "code",
      "execution_count": null,
      "id": "d290fe40",
      "metadata": {
        "id": "d290fe40"
      },
      "outputs": [],
      "source": [
        "def normalize(normalizedX, nLoBound, nUpBound):\n",
        "    range = nUpBound - nLoBound\n",
        "\n",
        "    return [a * range + nLoBound for a in normalizedX]"
      ]
    },
    {
      "cell_type": "code",
      "execution_count": null,
      "id": "0db5387d",
      "metadata": {
        "id": "0db5387d",
        "outputId": "836e88bb-9408-4565-e376-6549b45a4d4b"
      },
      "outputs": [
        {
          "name": "stdout",
          "output_type": "stream",
          "text": [
            "[17.0, 18.0, 10.0, 20.0, 14.0, 13.0, 20.0, 19.0, 15.0, 18.0]\n"
          ]
        }
      ],
      "source": [
        "normalizedX = normalizedValues\n",
        "Y = normalize(normalizedX, 10, 20)\n",
        "\n",
        "print(Y)"
      ]
    },
    {
      "cell_type": "markdown",
      "id": "c76361f0",
      "metadata": {
        "id": "c76361f0"
      },
      "source": [
        "### 1.2 Normalización de un rango a otro\n",
        "\n",
        "$$x_i^{new}=\\left(\\frac{x_{i^{}}^{old}-\\min\\left(A\\right)}{\\max\\left(A\\right)-\\min\\left(A\\right)}\\right)\\cdot\\left(rango_{nuevo}\\right)+LimiteInferior_{nueva}$$"
      ]
    },
    {
      "cell_type": "code",
      "execution_count": null,
      "id": "36b91e1a",
      "metadata": {
        "id": "36b91e1a"
      },
      "outputs": [],
      "source": [
        "def normalize(X, nLoBound, nUpBound):\n",
        "    min = np.min(X)\n",
        "    max = np.max(X)\n",
        "    range = max - min\n",
        "    nRange = nUpBound - nLoBound\n",
        "\n",
        "    return [((xi - min) / range) * nRange + nLoBound for xi in X]"
      ]
    },
    {
      "cell_type": "code",
      "execution_count": null,
      "id": "a46f4391",
      "metadata": {
        "id": "a46f4391",
        "outputId": "09870315-a588-4b0e-eba3-87dc4d76e285"
      },
      "outputs": [
        {
          "name": "stdout",
          "output_type": "stream",
          "text": [
            "[170.0, 180.0, 100.0, 200.0, 140.0, 130.0, 200.0, 190.0, 150.0, 180.0]\n"
          ]
        }
      ],
      "source": [
        "X = varX.copy()\n",
        "Y = normalize(X, 100, 200)\n",
        "\n",
        "print(Y)"
      ]
    },
    {
      "cell_type": "markdown",
      "id": "a5e581e6",
      "metadata": {
        "id": "a5e581e6"
      },
      "source": [
        "Podemos usar el siguiente código para aplicar una normalización min-max a cada columna en el DataFrame:"
      ]
    },
    {
      "cell_type": "code",
      "execution_count": null,
      "id": "8e934857",
      "metadata": {
        "id": "8e934857",
        "outputId": "b6462974-e27d-4788-d75a-8cf7b16796b1"
      },
      "outputs": [
        {
          "data": {
            "text/html": [
              "<div>\n",
              "<style scoped>\n",
              "    .dataframe tbody tr th:only-of-type {\n",
              "        vertical-align: middle;\n",
              "    }\n",
              "\n",
              "    .dataframe tbody tr th {\n",
              "        vertical-align: top;\n",
              "    }\n",
              "\n",
              "    .dataframe thead th {\n",
              "        text-align: right;\n",
              "    }\n",
              "</style>\n",
              "<table border=\"1\" class=\"dataframe\">\n",
              "  <thead>\n",
              "    <tr style=\"text-align: right;\">\n",
              "      <th></th>\n",
              "      <th>Age</th>\n",
              "      <th>Gender</th>\n",
              "      <th>GenderGroup</th>\n",
              "      <th>Glasses</th>\n",
              "      <th>GlassesGroup</th>\n",
              "      <th>Height</th>\n",
              "      <th>Wingspan</th>\n",
              "      <th>CWDistance</th>\n",
              "      <th>Complete</th>\n",
              "      <th>CompleteGroup</th>\n",
              "      <th>Score</th>\n",
              "    </tr>\n",
              "  </thead>\n",
              "  <tbody>\n",
              "    <tr>\n",
              "      <th>1</th>\n",
              "      <td>56</td>\n",
              "      <td>F</td>\n",
              "      <td>1</td>\n",
              "      <td>Y</td>\n",
              "      <td>1</td>\n",
              "      <td>62.0</td>\n",
              "      <td>61.0</td>\n",
              "      <td>79</td>\n",
              "      <td>Y</td>\n",
              "      <td>1</td>\n",
              "      <td>7</td>\n",
              "    </tr>\n",
              "    <tr>\n",
              "      <th>2</th>\n",
              "      <td>26</td>\n",
              "      <td>F</td>\n",
              "      <td>1</td>\n",
              "      <td>Y</td>\n",
              "      <td>1</td>\n",
              "      <td>62.0</td>\n",
              "      <td>60.0</td>\n",
              "      <td>70</td>\n",
              "      <td>Y</td>\n",
              "      <td>1</td>\n",
              "      <td>8</td>\n",
              "    </tr>\n",
              "    <tr>\n",
              "      <th>3</th>\n",
              "      <td>33</td>\n",
              "      <td>F</td>\n",
              "      <td>1</td>\n",
              "      <td>Y</td>\n",
              "      <td>1</td>\n",
              "      <td>66.0</td>\n",
              "      <td>64.0</td>\n",
              "      <td>85</td>\n",
              "      <td>Y</td>\n",
              "      <td>1</td>\n",
              "      <td>0</td>\n",
              "    </tr>\n",
              "    <tr>\n",
              "      <th>4</th>\n",
              "      <td>39</td>\n",
              "      <td>F</td>\n",
              "      <td>1</td>\n",
              "      <td>N</td>\n",
              "      <td>0</td>\n",
              "      <td>64.0</td>\n",
              "      <td>63.0</td>\n",
              "      <td>87</td>\n",
              "      <td>Y</td>\n",
              "      <td>1</td>\n",
              "      <td>10</td>\n",
              "    </tr>\n",
              "    <tr>\n",
              "      <th>5</th>\n",
              "      <td>27</td>\n",
              "      <td>M</td>\n",
              "      <td>2</td>\n",
              "      <td>N</td>\n",
              "      <td>0</td>\n",
              "      <td>73.0</td>\n",
              "      <td>75.0</td>\n",
              "      <td>72</td>\n",
              "      <td>N</td>\n",
              "      <td>0</td>\n",
              "      <td>4</td>\n",
              "    </tr>\n",
              "  </tbody>\n",
              "</table>\n",
              "</div>"
            ],
            "text/plain": [
              "   Age Gender  GenderGroup Glasses  GlassesGroup  Height  Wingspan  \\\n",
              "1   56      F            1       Y             1    62.0      61.0   \n",
              "2   26      F            1       Y             1    62.0      60.0   \n",
              "3   33      F            1       Y             1    66.0      64.0   \n",
              "4   39      F            1       N             0    64.0      63.0   \n",
              "5   27      M            2       N             0    73.0      75.0   \n",
              "\n",
              "   CWDistance Complete  CompleteGroup  Score  \n",
              "1          79        Y              1      7  \n",
              "2          70        Y              1      8  \n",
              "3          85        Y              1      0  \n",
              "4          87        Y              1     10  \n",
              "5          72        N              0      4  "
            ]
          },
          "execution_count": 13,
          "metadata": {},
          "output_type": "execute_result"
        }
      ],
      "source": [
        "ndf = df.copy()\n",
        "ndf.head()"
      ]
    },
    {
      "cell_type": "code",
      "execution_count": null,
      "id": "b182f280",
      "metadata": {
        "id": "b182f280",
        "outputId": "915cd183-8ee3-4bcb-971b-0d3f8f6637fe"
      },
      "outputs": [
        {
          "data": {
            "text/plain": [
              "Index(['Age', 'Gender', 'GenderGroup', 'Glasses', 'GlassesGroup', 'Height',\n",
              "       'Wingspan', 'CWDistance', 'Complete', 'CompleteGroup', 'Score'],\n",
              "      dtype='object')"
            ]
          },
          "execution_count": 14,
          "metadata": {},
          "output_type": "execute_result"
        }
      ],
      "source": [
        "ndf.columns"
      ]
    },
    {
      "cell_type": "code",
      "execution_count": null,
      "id": "076aa4df",
      "metadata": {
        "id": "076aa4df",
        "outputId": "deb6ad5f-20a4-477b-be83-b58b18d4d82a"
      },
      "outputs": [
        {
          "data": {
            "text/html": [
              "<div>\n",
              "<style scoped>\n",
              "    .dataframe tbody tr th:only-of-type {\n",
              "        vertical-align: middle;\n",
              "    }\n",
              "\n",
              "    .dataframe tbody tr th {\n",
              "        vertical-align: top;\n",
              "    }\n",
              "\n",
              "    .dataframe thead th {\n",
              "        text-align: right;\n",
              "    }\n",
              "</style>\n",
              "<table border=\"1\" class=\"dataframe\">\n",
              "  <thead>\n",
              "    <tr style=\"text-align: right;\">\n",
              "      <th></th>\n",
              "      <th>Age</th>\n",
              "      <th>Height</th>\n",
              "      <th>Wingspan</th>\n",
              "      <th>CWDistance</th>\n",
              "      <th>CompleteGroup</th>\n",
              "      <th>Score</th>\n",
              "    </tr>\n",
              "  </thead>\n",
              "  <tbody>\n",
              "    <tr>\n",
              "      <th>1</th>\n",
              "      <td>56</td>\n",
              "      <td>62.00</td>\n",
              "      <td>61.0</td>\n",
              "      <td>79</td>\n",
              "      <td>1</td>\n",
              "      <td>7</td>\n",
              "    </tr>\n",
              "    <tr>\n",
              "      <th>2</th>\n",
              "      <td>26</td>\n",
              "      <td>62.00</td>\n",
              "      <td>60.0</td>\n",
              "      <td>70</td>\n",
              "      <td>1</td>\n",
              "      <td>8</td>\n",
              "    </tr>\n",
              "    <tr>\n",
              "      <th>3</th>\n",
              "      <td>33</td>\n",
              "      <td>66.00</td>\n",
              "      <td>64.0</td>\n",
              "      <td>85</td>\n",
              "      <td>1</td>\n",
              "      <td>0</td>\n",
              "    </tr>\n",
              "    <tr>\n",
              "      <th>4</th>\n",
              "      <td>39</td>\n",
              "      <td>64.00</td>\n",
              "      <td>63.0</td>\n",
              "      <td>87</td>\n",
              "      <td>1</td>\n",
              "      <td>10</td>\n",
              "    </tr>\n",
              "    <tr>\n",
              "      <th>5</th>\n",
              "      <td>27</td>\n",
              "      <td>73.00</td>\n",
              "      <td>75.0</td>\n",
              "      <td>72</td>\n",
              "      <td>0</td>\n",
              "      <td>4</td>\n",
              "    </tr>\n",
              "    <tr>\n",
              "      <th>6</th>\n",
              "      <td>24</td>\n",
              "      <td>75.00</td>\n",
              "      <td>71.0</td>\n",
              "      <td>81</td>\n",
              "      <td>0</td>\n",
              "      <td>3</td>\n",
              "    </tr>\n",
              "    <tr>\n",
              "      <th>7</th>\n",
              "      <td>28</td>\n",
              "      <td>75.00</td>\n",
              "      <td>76.0</td>\n",
              "      <td>107</td>\n",
              "      <td>1</td>\n",
              "      <td>10</td>\n",
              "    </tr>\n",
              "    <tr>\n",
              "      <th>8</th>\n",
              "      <td>22</td>\n",
              "      <td>65.00</td>\n",
              "      <td>62.0</td>\n",
              "      <td>98</td>\n",
              "      <td>1</td>\n",
              "      <td>9</td>\n",
              "    </tr>\n",
              "    <tr>\n",
              "      <th>9</th>\n",
              "      <td>29</td>\n",
              "      <td>74.00</td>\n",
              "      <td>73.0</td>\n",
              "      <td>106</td>\n",
              "      <td>0</td>\n",
              "      <td>5</td>\n",
              "    </tr>\n",
              "    <tr>\n",
              "      <th>10</th>\n",
              "      <td>33</td>\n",
              "      <td>63.00</td>\n",
              "      <td>60.0</td>\n",
              "      <td>65</td>\n",
              "      <td>1</td>\n",
              "      <td>8</td>\n",
              "    </tr>\n",
              "    <tr>\n",
              "      <th>11</th>\n",
              "      <td>30</td>\n",
              "      <td>69.50</td>\n",
              "      <td>66.0</td>\n",
              "      <td>96</td>\n",
              "      <td>1</td>\n",
              "      <td>6</td>\n",
              "    </tr>\n",
              "    <tr>\n",
              "      <th>12</th>\n",
              "      <td>28</td>\n",
              "      <td>62.75</td>\n",
              "      <td>58.0</td>\n",
              "      <td>79</td>\n",
              "      <td>1</td>\n",
              "      <td>10</td>\n",
              "    </tr>\n",
              "    <tr>\n",
              "      <th>13</th>\n",
              "      <td>25</td>\n",
              "      <td>65.00</td>\n",
              "      <td>64.5</td>\n",
              "      <td>92</td>\n",
              "      <td>1</td>\n",
              "      <td>6</td>\n",
              "    </tr>\n",
              "    <tr>\n",
              "      <th>14</th>\n",
              "      <td>23</td>\n",
              "      <td>61.50</td>\n",
              "      <td>57.5</td>\n",
              "      <td>66</td>\n",
              "      <td>1</td>\n",
              "      <td>4</td>\n",
              "    </tr>\n",
              "    <tr>\n",
              "      <th>15</th>\n",
              "      <td>31</td>\n",
              "      <td>73.00</td>\n",
              "      <td>74.0</td>\n",
              "      <td>72</td>\n",
              "      <td>1</td>\n",
              "      <td>9</td>\n",
              "    </tr>\n",
              "    <tr>\n",
              "      <th>16</th>\n",
              "      <td>26</td>\n",
              "      <td>71.00</td>\n",
              "      <td>72.0</td>\n",
              "      <td>115</td>\n",
              "      <td>1</td>\n",
              "      <td>6</td>\n",
              "    </tr>\n",
              "    <tr>\n",
              "      <th>17</th>\n",
              "      <td>26</td>\n",
              "      <td>61.50</td>\n",
              "      <td>59.5</td>\n",
              "      <td>90</td>\n",
              "      <td>0</td>\n",
              "      <td>10</td>\n",
              "    </tr>\n",
              "    <tr>\n",
              "      <th>18</th>\n",
              "      <td>27</td>\n",
              "      <td>66.00</td>\n",
              "      <td>66.0</td>\n",
              "      <td>74</td>\n",
              "      <td>1</td>\n",
              "      <td>5</td>\n",
              "    </tr>\n",
              "    <tr>\n",
              "      <th>19</th>\n",
              "      <td>23</td>\n",
              "      <td>70.00</td>\n",
              "      <td>69.0</td>\n",
              "      <td>64</td>\n",
              "      <td>1</td>\n",
              "      <td>3</td>\n",
              "    </tr>\n",
              "    <tr>\n",
              "      <th>20</th>\n",
              "      <td>24</td>\n",
              "      <td>68.00</td>\n",
              "      <td>66.0</td>\n",
              "      <td>85</td>\n",
              "      <td>1</td>\n",
              "      <td>8</td>\n",
              "    </tr>\n",
              "    <tr>\n",
              "      <th>21</th>\n",
              "      <td>23</td>\n",
              "      <td>69.00</td>\n",
              "      <td>67.0</td>\n",
              "      <td>66</td>\n",
              "      <td>0</td>\n",
              "      <td>2</td>\n",
              "    </tr>\n",
              "    <tr>\n",
              "      <th>22</th>\n",
              "      <td>29</td>\n",
              "      <td>71.00</td>\n",
              "      <td>70.0</td>\n",
              "      <td>101</td>\n",
              "      <td>1</td>\n",
              "      <td>8</td>\n",
              "    </tr>\n",
              "    <tr>\n",
              "      <th>23</th>\n",
              "      <td>25</td>\n",
              "      <td>70.00</td>\n",
              "      <td>68.0</td>\n",
              "      <td>82</td>\n",
              "      <td>1</td>\n",
              "      <td>4</td>\n",
              "    </tr>\n",
              "    <tr>\n",
              "      <th>24</th>\n",
              "      <td>26</td>\n",
              "      <td>69.00</td>\n",
              "      <td>71.0</td>\n",
              "      <td>63</td>\n",
              "      <td>1</td>\n",
              "      <td>5</td>\n",
              "    </tr>\n",
              "    <tr>\n",
              "      <th>25</th>\n",
              "      <td>23</td>\n",
              "      <td>65.00</td>\n",
              "      <td>63.0</td>\n",
              "      <td>67</td>\n",
              "      <td>0</td>\n",
              "      <td>3</td>\n",
              "    </tr>\n",
              "  </tbody>\n",
              "</table>\n",
              "</div>"
            ],
            "text/plain": [
              "    Age  Height  Wingspan  CWDistance  CompleteGroup  Score\n",
              "1    56   62.00      61.0          79              1      7\n",
              "2    26   62.00      60.0          70              1      8\n",
              "3    33   66.00      64.0          85              1      0\n",
              "4    39   64.00      63.0          87              1     10\n",
              "5    27   73.00      75.0          72              0      4\n",
              "6    24   75.00      71.0          81              0      3\n",
              "7    28   75.00      76.0         107              1     10\n",
              "8    22   65.00      62.0          98              1      9\n",
              "9    29   74.00      73.0         106              0      5\n",
              "10   33   63.00      60.0          65              1      8\n",
              "11   30   69.50      66.0          96              1      6\n",
              "12   28   62.75      58.0          79              1     10\n",
              "13   25   65.00      64.5          92              1      6\n",
              "14   23   61.50      57.5          66              1      4\n",
              "15   31   73.00      74.0          72              1      9\n",
              "16   26   71.00      72.0         115              1      6\n",
              "17   26   61.50      59.5          90              0     10\n",
              "18   27   66.00      66.0          74              1      5\n",
              "19   23   70.00      69.0          64              1      3\n",
              "20   24   68.00      66.0          85              1      8\n",
              "21   23   69.00      67.0          66              0      2\n",
              "22   29   71.00      70.0         101              1      8\n",
              "23   25   70.00      68.0          82              1      4\n",
              "24   26   69.00      71.0          63              1      5\n",
              "25   23   65.00      63.0          67              0      3"
            ]
          },
          "execution_count": 15,
          "metadata": {},
          "output_type": "execute_result"
        }
      ],
      "source": [
        "ndf.drop(['Gender', 'GenderGroup', 'Glasses', 'GlassesGroup', 'Complete'], \n",
        "         axis = 1, \n",
        "         inplace = True\n",
        "        )\n",
        "ndf"
      ]
    },
    {
      "cell_type": "code",
      "execution_count": null,
      "id": "ba8fe6e2",
      "metadata": {
        "id": "ba8fe6e2",
        "outputId": "9dffa90f-6905-4b2b-d20c-4003bded6305"
      },
      "outputs": [
        {
          "data": {
            "text/html": [
              "<div>\n",
              "<style scoped>\n",
              "    .dataframe tbody tr th:only-of-type {\n",
              "        vertical-align: middle;\n",
              "    }\n",
              "\n",
              "    .dataframe tbody tr th {\n",
              "        vertical-align: top;\n",
              "    }\n",
              "\n",
              "    .dataframe thead th {\n",
              "        text-align: right;\n",
              "    }\n",
              "</style>\n",
              "<table border=\"1\" class=\"dataframe\">\n",
              "  <thead>\n",
              "    <tr style=\"text-align: right;\">\n",
              "      <th></th>\n",
              "      <th>Age</th>\n",
              "      <th>Height</th>\n",
              "      <th>Wingspan</th>\n",
              "      <th>CWDistance</th>\n",
              "      <th>CompleteGroup</th>\n",
              "      <th>Score</th>\n",
              "    </tr>\n",
              "  </thead>\n",
              "  <tbody>\n",
              "    <tr>\n",
              "      <th>1</th>\n",
              "      <td>1.000000</td>\n",
              "      <td>0.037037</td>\n",
              "      <td>0.189189</td>\n",
              "      <td>0.307692</td>\n",
              "      <td>1.0</td>\n",
              "      <td>0.7</td>\n",
              "    </tr>\n",
              "    <tr>\n",
              "      <th>2</th>\n",
              "      <td>0.117647</td>\n",
              "      <td>0.037037</td>\n",
              "      <td>0.135135</td>\n",
              "      <td>0.134615</td>\n",
              "      <td>1.0</td>\n",
              "      <td>0.8</td>\n",
              "    </tr>\n",
              "    <tr>\n",
              "      <th>3</th>\n",
              "      <td>0.323529</td>\n",
              "      <td>0.333333</td>\n",
              "      <td>0.351351</td>\n",
              "      <td>0.423077</td>\n",
              "      <td>1.0</td>\n",
              "      <td>0.0</td>\n",
              "    </tr>\n",
              "    <tr>\n",
              "      <th>4</th>\n",
              "      <td>0.500000</td>\n",
              "      <td>0.185185</td>\n",
              "      <td>0.297297</td>\n",
              "      <td>0.461538</td>\n",
              "      <td>1.0</td>\n",
              "      <td>1.0</td>\n",
              "    </tr>\n",
              "    <tr>\n",
              "      <th>5</th>\n",
              "      <td>0.147059</td>\n",
              "      <td>0.851852</td>\n",
              "      <td>0.945946</td>\n",
              "      <td>0.173077</td>\n",
              "      <td>0.0</td>\n",
              "      <td>0.4</td>\n",
              "    </tr>\n",
              "  </tbody>\n",
              "</table>\n",
              "</div>"
            ],
            "text/plain": [
              "        Age    Height  Wingspan  CWDistance  CompleteGroup  Score\n",
              "1  1.000000  0.037037  0.189189    0.307692            1.0    0.7\n",
              "2  0.117647  0.037037  0.135135    0.134615            1.0    0.8\n",
              "3  0.323529  0.333333  0.351351    0.423077            1.0    0.0\n",
              "4  0.500000  0.185185  0.297297    0.461538            1.0    1.0\n",
              "5  0.147059  0.851852  0.945946    0.173077            0.0    0.4"
            ]
          },
          "execution_count": 16,
          "metadata": {},
          "output_type": "execute_result"
        }
      ],
      "source": [
        "(\n",
        "    (ndf-ndf.min())/\n",
        "    (ndf.max()-ndf.min()) \n",
        ").head()"
      ]
    },
    {
      "cell_type": "markdown",
      "id": "7a83008e",
      "metadata": {
        "id": "7a83008e"
      },
      "source": [
        "### 1.3 Always there are alternatives...."
      ]
    },
    {
      "cell_type": "code",
      "execution_count": null,
      "id": "dc11ee87",
      "metadata": {
        "id": "dc11ee87"
      },
      "outputs": [],
      "source": [
        "from sklearn import preprocessing\n",
        "#from sklearn.preprocessing import MinMaxScaler"
      ]
    },
    {
      "cell_type": "code",
      "execution_count": null,
      "id": "98d857b4",
      "metadata": {
        "id": "98d857b4"
      },
      "outputs": [],
      "source": [
        "X = df.Score.to_frame()\n",
        "\n",
        "scaler = preprocessing.MinMaxScaler().fit(X)\n",
        "#scaler"
      ]
    },
    {
      "cell_type": "code",
      "execution_count": null,
      "id": "91fee5fa",
      "metadata": {
        "id": "91fee5fa",
        "outputId": "a5553ab2-045c-48dc-ca40-ef5800241337"
      },
      "outputs": [
        {
          "data": {
            "text/plain": [
              "array([[0.7],\n",
              "       [0.8],\n",
              "       [0. ],\n",
              "       [1. ],\n",
              "       [0.4],\n",
              "       [0.3],\n",
              "       [1. ],\n",
              "       [0.9],\n",
              "       [0.5],\n",
              "       [0.8],\n",
              "       [0.6],\n",
              "       [1. ],\n",
              "       [0.6],\n",
              "       [0.4],\n",
              "       [0.9],\n",
              "       [0.6],\n",
              "       [1. ],\n",
              "       [0.5],\n",
              "       [0.3],\n",
              "       [0.8],\n",
              "       [0.2],\n",
              "       [0.8],\n",
              "       [0.4],\n",
              "       [0.5],\n",
              "       [0.3]])"
            ]
          },
          "execution_count": 19,
          "metadata": {},
          "output_type": "execute_result"
        }
      ],
      "source": [
        "scaler.fit_transform(X)"
      ]
    },
    {
      "cell_type": "markdown",
      "id": "42012a4a",
      "metadata": {
        "id": "42012a4a"
      },
      "source": [
        "### 2. Standardization - rescales a dataset to have a mean of 0 and a standard deviation of 1. "
      ]
    },
    {
      "cell_type": "code",
      "execution_count": null,
      "id": "98c02831",
      "metadata": {
        "id": "98c02831"
      },
      "outputs": [],
      "source": [
        "X = varX.copy().to_frame()"
      ]
    },
    {
      "cell_type": "code",
      "execution_count": null,
      "id": "72d06122",
      "metadata": {
        "id": "72d06122",
        "outputId": "68e6aa57-7186-4bf9-d00d-f60c26cb50f7"
      },
      "outputs": [
        {
          "data": {
            "text/plain": [
              "StandardScaler()"
            ]
          },
          "execution_count": 21,
          "metadata": {},
          "output_type": "execute_result"
        }
      ],
      "source": [
        "scaler = preprocessing.StandardScaler().fit(X)\n",
        "scaler"
      ]
    },
    {
      "cell_type": "code",
      "execution_count": null,
      "id": "6a3e8d08",
      "metadata": {
        "id": "6a3e8d08",
        "outputId": "70c90d99-7d04-4c79-aa58-c97ead8ffe0c"
      },
      "outputs": [
        {
          "data": {
            "text/html": [
              "<div>\n",
              "<style scoped>\n",
              "    .dataframe tbody tr th:only-of-type {\n",
              "        vertical-align: middle;\n",
              "    }\n",
              "\n",
              "    .dataframe tbody tr th {\n",
              "        vertical-align: top;\n",
              "    }\n",
              "\n",
              "    .dataframe thead th {\n",
              "        text-align: right;\n",
              "    }\n",
              "</style>\n",
              "<table border=\"1\" class=\"dataframe\">\n",
              "  <thead>\n",
              "    <tr style=\"text-align: right;\">\n",
              "      <th></th>\n",
              "      <th>0</th>\n",
              "    </tr>\n",
              "  </thead>\n",
              "  <tbody>\n",
              "    <tr>\n",
              "      <th>0</th>\n",
              "      <td>0.191273</td>\n",
              "    </tr>\n",
              "    <tr>\n",
              "      <th>1</th>\n",
              "      <td>0.510061</td>\n",
              "    </tr>\n",
              "    <tr>\n",
              "      <th>2</th>\n",
              "      <td>-2.040245</td>\n",
              "    </tr>\n",
              "    <tr>\n",
              "      <th>3</th>\n",
              "      <td>1.147638</td>\n",
              "    </tr>\n",
              "    <tr>\n",
              "      <th>4</th>\n",
              "      <td>-0.765092</td>\n",
              "    </tr>\n",
              "    <tr>\n",
              "      <th>5</th>\n",
              "      <td>-1.083880</td>\n",
              "    </tr>\n",
              "    <tr>\n",
              "      <th>6</th>\n",
              "      <td>1.147638</td>\n",
              "    </tr>\n",
              "    <tr>\n",
              "      <th>7</th>\n",
              "      <td>0.828850</td>\n",
              "    </tr>\n",
              "    <tr>\n",
              "      <th>8</th>\n",
              "      <td>-0.446304</td>\n",
              "    </tr>\n",
              "    <tr>\n",
              "      <th>9</th>\n",
              "      <td>0.510061</td>\n",
              "    </tr>\n",
              "  </tbody>\n",
              "</table>\n",
              "</div>"
            ],
            "text/plain": [
              "          0\n",
              "0  0.191273\n",
              "1  0.510061\n",
              "2 -2.040245\n",
              "3  1.147638\n",
              "4 -0.765092\n",
              "5 -1.083880\n",
              "6  1.147638\n",
              "7  0.828850\n",
              "8 -0.446304\n",
              "9  0.510061"
            ]
          },
          "execution_count": 36,
          "metadata": {},
          "output_type": "execute_result"
        }
      ],
      "source": [
        "X_scaledA = scaler.transform(X)\n",
        "X_scaledA = pd.DataFrame(X_scaledA)\n",
        "X_scaledA"
      ]
    },
    {
      "cell_type": "code",
      "execution_count": null,
      "id": "a62b4a73",
      "metadata": {
        "id": "a62b4a73",
        "outputId": "352d451b-e9ac-464c-c1db-cbaf5dfdaf29"
      },
      "outputs": [
        {
          "data": {
            "text/html": [
              "<div>\n",
              "<style scoped>\n",
              "    .dataframe tbody tr th:only-of-type {\n",
              "        vertical-align: middle;\n",
              "    }\n",
              "\n",
              "    .dataframe tbody tr th {\n",
              "        vertical-align: top;\n",
              "    }\n",
              "\n",
              "    .dataframe thead th {\n",
              "        text-align: right;\n",
              "    }\n",
              "</style>\n",
              "<table border=\"1\" class=\"dataframe\">\n",
              "  <thead>\n",
              "    <tr style=\"text-align: right;\">\n",
              "      <th></th>\n",
              "      <th>Score</th>\n",
              "    </tr>\n",
              "  </thead>\n",
              "  <tbody>\n",
              "    <tr>\n",
              "      <th>1</th>\n",
              "      <td>0.191273</td>\n",
              "    </tr>\n",
              "    <tr>\n",
              "      <th>2</th>\n",
              "      <td>0.510061</td>\n",
              "    </tr>\n",
              "    <tr>\n",
              "      <th>3</th>\n",
              "      <td>-2.040245</td>\n",
              "    </tr>\n",
              "    <tr>\n",
              "      <th>4</th>\n",
              "      <td>1.147638</td>\n",
              "    </tr>\n",
              "    <tr>\n",
              "      <th>5</th>\n",
              "      <td>-0.765092</td>\n",
              "    </tr>\n",
              "    <tr>\n",
              "      <th>6</th>\n",
              "      <td>-1.083880</td>\n",
              "    </tr>\n",
              "    <tr>\n",
              "      <th>7</th>\n",
              "      <td>1.147638</td>\n",
              "    </tr>\n",
              "    <tr>\n",
              "      <th>8</th>\n",
              "      <td>0.828850</td>\n",
              "    </tr>\n",
              "    <tr>\n",
              "      <th>9</th>\n",
              "      <td>-0.446304</td>\n",
              "    </tr>\n",
              "    <tr>\n",
              "      <th>10</th>\n",
              "      <td>0.510061</td>\n",
              "    </tr>\n",
              "  </tbody>\n",
              "</table>\n",
              "</div>"
            ],
            "text/plain": [
              "       Score\n",
              "1   0.191273\n",
              "2   0.510061\n",
              "3  -2.040245\n",
              "4   1.147638\n",
              "5  -0.765092\n",
              "6  -1.083880\n",
              "7   1.147638\n",
              "8   0.828850\n",
              "9  -0.446304\n",
              "10  0.510061"
            ]
          },
          "execution_count": 23,
          "metadata": {},
          "output_type": "execute_result"
        }
      ],
      "source": [
        "import scipy.stats as stats\n",
        "X_scaledB = stats.zscore(X)\n",
        "X_scaledB"
      ]
    },
    {
      "cell_type": "code",
      "execution_count": null,
      "id": "a66c52d6",
      "metadata": {
        "id": "a66c52d6"
      },
      "outputs": [],
      "source": [
        "import statistics as sts"
      ]
    },
    {
      "cell_type": "code",
      "execution_count": null,
      "id": "b5f4a6e0",
      "metadata": {
        "id": "b5f4a6e0",
        "outputId": "3a3588d3-b084-4c95-ab94-89f0cae3aab7"
      },
      "outputs": [
        {
          "data": {
            "text/plain": [
              "3.1368774282716245"
            ]
          },
          "execution_count": 25,
          "metadata": {},
          "output_type": "execute_result"
        }
      ],
      "source": [
        "sd = sts.pstdev(X.Score) #pstdev - Population standard deviaiton. \n",
        "sd"
      ]
    },
    {
      "cell_type": "code",
      "execution_count": null,
      "id": "76a2bb3b",
      "metadata": {
        "id": "76a2bb3b",
        "outputId": "da7bfeeb-e24f-4438-bbc4-2c5f0093f5ff"
      },
      "outputs": [
        {
          "data": {
            "text/plain": [
              "6.4"
            ]
          },
          "execution_count": 26,
          "metadata": {},
          "output_type": "execute_result"
        }
      ],
      "source": [
        "xm = X.Score.mean()\n",
        "xm"
      ]
    },
    {
      "cell_type": "code",
      "execution_count": null,
      "id": "95f31468",
      "metadata": {
        "id": "95f31468",
        "outputId": "bbd45cc2-fea9-4fd9-8dbc-725cb27a820f"
      },
      "outputs": [
        {
          "data": {
            "text/html": [
              "<div>\n",
              "<style scoped>\n",
              "    .dataframe tbody tr th:only-of-type {\n",
              "        vertical-align: middle;\n",
              "    }\n",
              "\n",
              "    .dataframe tbody tr th {\n",
              "        vertical-align: top;\n",
              "    }\n",
              "\n",
              "    .dataframe thead th {\n",
              "        text-align: right;\n",
              "    }\n",
              "</style>\n",
              "<table border=\"1\" class=\"dataframe\">\n",
              "  <thead>\n",
              "    <tr style=\"text-align: right;\">\n",
              "      <th></th>\n",
              "      <th>Score</th>\n",
              "    </tr>\n",
              "  </thead>\n",
              "  <tbody>\n",
              "    <tr>\n",
              "      <th>1</th>\n",
              "      <td>0.191273</td>\n",
              "    </tr>\n",
              "    <tr>\n",
              "      <th>2</th>\n",
              "      <td>0.510061</td>\n",
              "    </tr>\n",
              "    <tr>\n",
              "      <th>3</th>\n",
              "      <td>-2.040245</td>\n",
              "    </tr>\n",
              "    <tr>\n",
              "      <th>4</th>\n",
              "      <td>1.147638</td>\n",
              "    </tr>\n",
              "    <tr>\n",
              "      <th>5</th>\n",
              "      <td>-0.765092</td>\n",
              "    </tr>\n",
              "    <tr>\n",
              "      <th>6</th>\n",
              "      <td>-1.083880</td>\n",
              "    </tr>\n",
              "    <tr>\n",
              "      <th>7</th>\n",
              "      <td>1.147638</td>\n",
              "    </tr>\n",
              "    <tr>\n",
              "      <th>8</th>\n",
              "      <td>0.828850</td>\n",
              "    </tr>\n",
              "    <tr>\n",
              "      <th>9</th>\n",
              "      <td>-0.446304</td>\n",
              "    </tr>\n",
              "    <tr>\n",
              "      <th>10</th>\n",
              "      <td>0.510061</td>\n",
              "    </tr>\n",
              "  </tbody>\n",
              "</table>\n",
              "</div>"
            ],
            "text/plain": [
              "       Score\n",
              "1   0.191273\n",
              "2   0.510061\n",
              "3  -2.040245\n",
              "4   1.147638\n",
              "5  -0.765092\n",
              "6  -1.083880\n",
              "7   1.147638\n",
              "8   0.828850\n",
              "9  -0.446304\n",
              "10  0.510061"
            ]
          },
          "execution_count": 27,
          "metadata": {},
          "output_type": "execute_result"
        }
      ],
      "source": [
        "X_scaledC = (X-xm)/sd\n",
        "X_scaledC"
      ]
    },
    {
      "cell_type": "markdown",
      "id": "f6e81ebf",
      "metadata": {
        "id": "f6e81ebf"
      },
      "source": [
        "Scaled data has zero mean and unit variance:"
      ]
    },
    {
      "cell_type": "code",
      "execution_count": null,
      "id": "028ff627",
      "metadata": {
        "id": "028ff627"
      },
      "outputs": [],
      "source": []
    }
  ],
  "metadata": {
    "kernelspec": {
      "display_name": "Python 3 (ipykernel)",
      "language": "python",
      "name": "python3"
    },
    "language_info": {
      "codemirror_mode": {
        "name": "ipython",
        "version": 3
      },
      "file_extension": ".py",
      "mimetype": "text/x-python",
      "name": "python",
      "nbconvert_exporter": "python",
      "pygments_lexer": "ipython3",
      "version": "3.9.5"
    },
    "colab": {
      "provenance": [],
      "include_colab_link": true
    }
  },
  "nbformat": 4,
  "nbformat_minor": 5
}