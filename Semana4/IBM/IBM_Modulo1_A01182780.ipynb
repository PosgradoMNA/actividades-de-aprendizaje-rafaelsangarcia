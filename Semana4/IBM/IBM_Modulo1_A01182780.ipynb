{
  "nbformat": 4,
  "nbformat_minor": 0,
  "metadata": {
    "colab": {
      "provenance": [],
      "authorship_tag": "ABX9TyMXfWYwf8GAKL/tASIF0Yvw",
      "include_colab_link": true
    },
    "kernelspec": {
      "name": "python3",
      "display_name": "Python 3"
    },
    "language_info": {
      "name": "python"
    }
  },
  "cells": [
    {
      "cell_type": "markdown",
      "metadata": {
        "id": "view-in-github",
        "colab_type": "text"
      },
      "source": [
        "<a href=\"https://colab.research.google.com/github/PosgradoMNA/actividades-de-aprendizaje-rafaelsangarcia/blob/main/Semana4/IBM/IBM_Modulo1_A01182780.ipynb\" target=\"_parent\"><img src=\"https://colab.research.google.com/assets/colab-badge.svg\" alt=\"Open In Colab\"/></a>"
      ]
    },
    {
      "cell_type": "markdown",
      "source": [
        "#Module 1\n",
        "\n",
        "In this module is about \n",
        "\n",
        "* Problem requiring data analysis\n",
        "* Dataset to be analyzed in Python\n",
        "* Overview of Python Package or data analaysis\n",
        "* Importing and Exporting data\n",
        "* Insight\n"
      ],
      "metadata": {
        "id": "WNIPxj5zWYHp"
      }
    },
    {
      "cell_type": "markdown",
      "source": [
        "##Module 1 - The Problem\n",
        "\n",
        "Why data analysis?\n",
        "\n",
        "Data is everywhere, and help us to answer questino about data\n",
        "\n",
        "get insights\n",
        "\n"
      ],
      "metadata": {
        "id": "xZYXaBSiW1_-"
      }
    },
    {
      "cell_type": "markdown",
      "source": [
        "##Module 1  - Understanding Data\n",
        "It is imporntat to see the description of the data set"
      ],
      "metadata": {
        "id": "aK_UhS6yXPSs"
      }
    },
    {
      "cell_type": "markdown",
      "source": [
        "A python library is a collection of function and methods that allow do action without writing the code It is divide in 3 groups:\n",
        "\n",
        "* Scientific computing libraries: like pandas to maniuplate data and analysis and it is fast. it has dataframe which is the most important elementes, Numpy and scipy too\n",
        "\n",
        "* Visualization libraries. is to create graphs and maps. We have matplolib and seaborn.\n",
        "\n",
        "* Algorithmic. To do modeling and prediction , like scikit learn and stastmodels\n",
        "\n"
      ],
      "metadata": {
        "id": "RsXAo1tJXz1I"
      }
    }
  ]
}